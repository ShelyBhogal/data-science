{
 "cells": [
  {
   "cell_type": "markdown",
   "metadata": {},
   "source": [
    "<img src=\"http://imgur.com/1ZcRyrc.png\" style=\"float: left; margin: 20px; height: 55px\">\n",
    "\n",
    "## Practice Python Functions\n",
    "\n",
    "_Author: Ryan Dunlap (San Francisco)\n",
    "\n",
    "---"
   ]
  },
  {
   "cell_type": "markdown",
   "metadata": {},
   "source": [
    "### Resources: Potentially Helpful Functions\n",
    "\n",
    "* [Dictionary Comprehension](https://docs.python.org/2/tutorial/datastructures.html#dictionaries)\n",
    "* [Enumerate](https://docs.python.org/2/library/functions.html#enumerate)\n",
    "* [Length](https://docs.python.org/2/library/functions.html#len)\n",
    "* [Int](https://docs.python.org/2/library/functions.html#int)\n",
    "* [List](https://docs.python.org/2/library/functions.html#list)"
   ]
  },
  {
   "cell_type": "markdown",
   "metadata": {},
   "source": [
    "Nowadays, most of the `string` module's components are already built into Python. However, it still has several [constant values](https://docs.python.org/2/library/string.html#string-constants) that can be useful, including:\n",
    "```python\n",
    "string.ascii_uppercase\n",
    "```"
   ]
  },
  {
   "cell_type": "code",
   "execution_count": 1,
   "metadata": {},
   "outputs": [
    {
     "data": {
      "text/plain": [
       "'ABCDEFGHIJKLMNOPQRSTUVWXYZ'"
      ]
     },
     "execution_count": 1,
     "metadata": {},
     "output_type": "execute_result"
    }
   ],
   "source": [
    "import string\n",
    "\n",
    "string.ascii_uppercase"
   ]
  },
  {
   "cell_type": "markdown",
   "metadata": {},
   "source": [
    "---\n",
    "\n",
    "### 1) Write a function that takes the length of a side of a square as an argument and returns the area of the square."
   ]
  },
  {
   "cell_type": "code",
   "execution_count": 2,
   "metadata": {},
   "outputs": [],
   "source": [
    "def area_square(side_length):\n",
    "    \"\"\"\n",
    "    Returns area of square of side length side_length\n",
    "    \n",
    "    Parameters:\n",
    "    -----------\n",
    "    side_length : int or float\n",
    "        Length of side of square\n",
    "        \n",
    "    Examples:\n",
    "    >>> area_square(3)\n",
    "    9\n",
    "    \n",
    "    >>> area_square(4.0)\n",
    "    16.0\n",
    "        \n",
    "    Returns:\n",
    "    --------\n",
    "    area : int of float\n",
    "        Area of square given side length side_length\n",
    "    \"\"\"\n",
    "    return side_length ** 2"
   ]
  },
  {
   "cell_type": "markdown",
   "metadata": {},
   "source": [
    "---\n",
    "\n",
    "### 2) Write a function that takes the height and width of a triangle and returns the area."
   ]
  },
  {
   "cell_type": "code",
   "execution_count": 3,
   "metadata": {},
   "outputs": [],
   "source": [
    "def area_triangle(height, width):\n",
    "    \"\"\"\n",
    "    Returns area of triangle from height and width.\n",
    "    \n",
    "    Parameters:\n",
    "    -----------\n",
    "    height : int or float\n",
    "        Height of triangle\n",
    "    \n",
    "    width : int of float\n",
    "        Width of triangle\n",
    "        \n",
    "    Examples:\n",
    "    >>> area_triangle(3,4)\n",
    "    6.0\n",
    "    \n",
    "    >>> area_triangle(10,5)\n",
    "    25.0\n",
    "        \n",
    "    Returns:\n",
    "    --------\n",
    "    area : float\n",
    "        Area of triangle given height and width\n",
    "    \"\"\"\n",
    "    return 0.5 * height * width"
   ]
  },
  {
   "cell_type": "markdown",
   "metadata": {},
   "source": [
    "---\n",
    "\n",
    "### 3) Write a function that takes a string as an argument and returns a tuple consisting of two elements:\n",
    "- **A list of all of the characters in the string.** \n",
    "- **A count of the number of characters in the string.**"
   ]
  },
  {
   "cell_type": "code",
   "execution_count": 4,
   "metadata": {},
   "outputs": [],
   "source": [
    "def string_to_tuple(string):\n",
    "    \"\"\"\n",
    "    Takes a string as an argument and returns a tuple consisting of list of all characters in the string and a count\n",
    "    of the number of characters in the string.\n",
    "    \n",
    "    Parameters:\n",
    "    -----------\n",
    "    string : str\n",
    "        Input string to be turned into tuple.\n",
    "        \n",
    "    Examples:\n",
    "    >>> string_to_tuple('cat')\n",
    "    (['c', 'a', 't'], 3)\n",
    "    \n",
    "    >>> string_to_tuple('example')\n",
    "    (['e', 'x', 'a', 'm', 'p', 'l', 'e'], 7)\n",
    "        \n",
    "    Returns:\n",
    "    --------\n",
    "    output : tuple\n",
    "        Tuple format ([list of all characters in string], count of characters in string)\n",
    "    \"\"\"\n",
    "    return (list(string), len(string))"
   ]
  },
  {
   "cell_type": "markdown",
   "metadata": {},
   "source": [
    "---\n",
    "\n",
    "### 4) Write a function that takes two integers, passed as strings, and returns the sum, difference, and product as a tuple (with all values as integers)."
   ]
  },
  {
   "cell_type": "code",
   "execution_count": 5,
   "metadata": {},
   "outputs": [],
   "source": [
    "def integer_func(value1, value2):\n",
    "    \"\"\"\n",
    "    Takes two integers, passed as strings, and returns the sum, difference, and product as a tuple of integers.\n",
    "    \n",
    "    Parameters:\n",
    "    -----------\n",
    "    value1 : str\n",
    "        Input integer 1.\n",
    "        \n",
    "    value2 : str\n",
    "        Input integer 2.\n",
    "        \n",
    "    Examples:\n",
    "    >>> integer_func('5','3')\n",
    "    (8, 2, 15)\n",
    "    \n",
    "    >>> integer_func('25','2')\n",
    "    (27, 23, 50)\n",
    "        \n",
    "    Returns: tuple\n",
    "    --------\n",
    "    Tuple format (sum, difference, product)\n",
    "    \"\"\"\n",
    "    value1, value2 = int(value1), int(value2)\n",
    "    return (value1 + value2, value1 - value2, value1 * value2)"
   ]
  },
  {
   "cell_type": "markdown",
   "metadata": {},
   "source": [
    "---\n",
    "\n",
    "### 5) Write a function that takes a list as the argument and returns a tuple consisting of two elements:\n",
    "- **A list with the items in reverse order.**  \n",
    "- **A list of the items in the original list that have an odd index.**"
   ]
  },
  {
   "cell_type": "code",
   "execution_count": 6,
   "metadata": {},
   "outputs": [],
   "source": [
    "def list_func(items):\n",
    "    \"\"\"\n",
    "    Takes a list as argument and returns a tuple containing list in reverse order, a list of items in the original\n",
    "    list that have an odd index.\n",
    "    \n",
    "    Parameters:\n",
    "    -----------\n",
    "    items : list\n",
    "        List of items of any datatype.\n",
    "    \n",
    "    Examples:\n",
    "    ---------\n",
    "    \n",
    "    >>> list_func(['a','b','c','d'])\n",
    "    (['d', 'c', 'b', 'a'], ['b', 'd'])\n",
    "    \n",
    "    Returns:\n",
    "    --------\n",
    "    Tuple (items in reverse order, items in original list with odd index)\n",
    "    \"\"\"\n",
    "    return ([item for item in items[::-1]], [items[i] for i in range(len(items)) if i % 2 != 0])"
   ]
  },
  {
   "cell_type": "markdown",
   "metadata": {},
   "source": [
    "---\n",
    "\n",
    "### Challenge: Write a function that returns the score for a word. A word's score is the sum of the scores of its letters. Each letter's score is equal to its position in the alphabet.\n",
    "\n",
    "So, for example:\n",
    "\n",
    "* A = 1, B = 2, C = 3, D = 4, E = 5\n",
    "* abe = 8 = (1 + 2 + 5)\n",
    "\n",
    "\n",
    "_Hint: The string library has a property_ `ascii_lowercase` _that can save some typing here._\n"
   ]
  },
  {
   "cell_type": "code",
   "execution_count": 7,
   "metadata": {},
   "outputs": [],
   "source": [
    "def letter_values():\n",
    "    \"\"\"\n",
    "    Returns a dict of letters and their positions in the alphabet.\n",
    "    \"\"\"\n",
    "    alpha = list(string.ascii_uppercase)\n",
    "    letters = {letter : int(i) + 1 for i, letter in enumerate(alpha)}\n",
    "    return letters\n",
    "\n",
    "def score(word):\n",
    "    \"\"\"\n",
    "    Returns a score for a word, where the score is the sum of scores for the letters in the word.\n",
    "    Each letter's score is equal to its position in the alphabet.\n",
    "    \n",
    "    Parameters:\n",
    "    -----------\n",
    "    word : str\n",
    "        Word to be scored.\n",
    "        \n",
    "    Examples:\n",
    "    ---------\n",
    "    >>> score('abe')\n",
    "    8\n",
    "    \n",
    "    Returns:\n",
    "    --------\n",
    "    word_score : int\n",
    "        \n",
    "    \"\"\"\n",
    "    values = letter_values()\n",
    "    word = word.upper()\n",
    "    return sum([values[letter] for letter in word])\n"
   ]
  },
  {
   "cell_type": "code",
   "execution_count": 8,
   "metadata": {},
   "outputs": [
    {
     "data": {
      "text/plain": [
       "TestResults(failed=0, attempted=10)"
      ]
     },
     "execution_count": 8,
     "metadata": {},
     "output_type": "execute_result"
    }
   ],
   "source": [
    "import doctest\n",
    "doctest.testmod()"
   ]
  }
 ],
 "metadata": {
  "anaconda-cloud": {},
  "kernelspec": {
   "display_name": "Python 3",
   "language": "python",
   "name": "python3"
  },
  "language_info": {
   "codemirror_mode": {
    "name": "ipython",
    "version": 3
   },
   "file_extension": ".py",
   "mimetype": "text/x-python",
   "name": "python",
   "nbconvert_exporter": "python",
   "pygments_lexer": "ipython3",
   "version": "3.6.7"
  }
 },
 "nbformat": 4,
 "nbformat_minor": 2
}
