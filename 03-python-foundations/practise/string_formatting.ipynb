{
 "cells": [
  {
   "cell_type": "code",
   "execution_count": 1,
   "id": "962a3e93",
   "metadata": {},
   "outputs": [],
   "source": [
    "import pandas as pd\n",
    "import numpy as np\n",
    "import seaborn as sns\n",
    "import matplotlib.pyplot as plt\n",
    "\n",
    "# String module contains useful constants and functions to perform string operations\n",
    "import string\n",
    "\n",
    "plt.style.use('fivethirtyeight')\n",
    "\n",
    "%matplotlib inline"
   ]
  },
  {
   "cell_type": "markdown",
   "id": "289d8c27",
   "metadata": {},
   "source": [
    "# Useful constants in String module to work as references"
   ]
  },
  {
   "cell_type": "code",
   "execution_count": 2,
   "id": "520a6312",
   "metadata": {},
   "outputs": [
    {
     "name": "stdout",
     "output_type": "stream",
     "text": [
      "ABCDEFGHIJKLMNOPQRSTUVWXYZ\n"
     ]
    }
   ],
   "source": [
    "az_upper = string.ascii_uppercase\n",
    "print(az_upper)"
   ]
  },
  {
   "cell_type": "code",
   "execution_count": 3,
   "id": "fab9aca3",
   "metadata": {},
   "outputs": [
    {
     "name": "stdout",
     "output_type": "stream",
     "text": [
      "abcdefghijklmnopqrstuvwxyz\n"
     ]
    }
   ],
   "source": [
    "az_lower = string.ascii_lowercase\n",
    "print(az_lower)"
   ]
  },
  {
   "cell_type": "code",
   "execution_count": 4,
   "id": "2e9d36cf",
   "metadata": {},
   "outputs": [
    {
     "name": "stdout",
     "output_type": "stream",
     "text": [
      "abcdefghijklmnopqrstuvwxyzABCDEFGHIJKLMNOPQRSTUVWXYZ\n"
     ]
    }
   ],
   "source": [
    "az = string.ascii_letters\n",
    "print(az)"
   ]
  },
  {
   "cell_type": "code",
   "execution_count": 5,
   "id": "83ee47a1",
   "metadata": {},
   "outputs": [
    {
     "name": "stdout",
     "output_type": "stream",
     "text": [
      "!\"#$%&'()*+,-./:;<=>?@[\\]^_`{|}~\n"
     ]
    }
   ],
   "source": [
    "punct = string.punctuation\n",
    "print(punct)"
   ]
  },
  {
   "cell_type": "code",
   "execution_count": null,
   "id": "1e15f446",
   "metadata": {},
   "outputs": [],
   "source": []
  },
  {
   "cell_type": "markdown",
   "id": "ac9b921d",
   "metadata": {},
   "source": [
    "# F-strings\n",
    "\n",
    "1. Add `f` in front of your print quotation marks (`f'` or `f\"`)\n",
    "2. Use curly brackets `{}` around each occurrence of variable/function/math operation"
   ]
  },
  {
   "cell_type": "code",
   "execution_count": 6,
   "id": "b8eb68a6",
   "metadata": {},
   "outputs": [
    {
     "name": "stdout",
     "output_type": "stream",
     "text": [
      "Your name is Shely. Your age is 21\n"
     ]
    }
   ],
   "source": [
    "# Perform math in string\n",
    "name = \"Shely\"\n",
    "print(f\"Your name is {name}. Your age is {20 + 1}\")"
   ]
  },
  {
   "cell_type": "code",
   "execution_count": 7,
   "id": "dda75cfb",
   "metadata": {},
   "outputs": [
    {
     "name": "stdout",
     "output_type": "stream",
     "text": [
      "The value of Shely is £3,454,353,453\n"
     ]
    }
   ],
   "source": [
    "# Format number with thousands separator using comma\n",
    "number = 3454353453\n",
    "print(f\"The value of Shely is £{number:,}\")"
   ]
  },
  {
   "cell_type": "code",
   "execution_count": 8,
   "id": "e5de4d66",
   "metadata": {},
   "outputs": [
    {
     "name": "stdout",
     "output_type": "stream",
     "text": [
      "20.1%\n"
     ]
    }
   ],
   "source": [
    "# Round float to one-decimal place\n",
    "x = 20.123\n",
    "print(f'{x:.1f}%')"
   ]
  },
  {
   "cell_type": "code",
   "execution_count": 9,
   "id": "5330462d",
   "metadata": {},
   "outputs": [
    {
     "name": "stdout",
     "output_type": "stream",
     "text": [
      "Today is August 27, 2022\n",
      "Now is 12:10\n"
     ]
    }
   ],
   "source": [
    "# Format dates (https://strftime.org/)\n",
    "import datetime\n",
    "\n",
    "now = datetime.datetime.now()\n",
    "\n",
    "print(f'Today is {now:%B %d, %Y}')\n",
    "print(f'Now is {now:%H:%M}')"
   ]
  },
  {
   "cell_type": "code",
   "execution_count": 10,
   "id": "bc53aa3c",
   "metadata": {},
   "outputs": [
    {
     "name": "stdout",
     "output_type": "stream",
     "text": [
      "Output of function is 11\n"
     ]
    }
   ],
   "source": [
    "# Call function within f-string\n",
    "def add_stuff(a, b):\n",
    "    return a + b\n",
    "\n",
    "print(f\"Output of function is {add_stuff(5, 6)}\")"
   ]
  },
  {
   "cell_type": "code",
   "execution_count": 11,
   "id": "372e1de7",
   "metadata": {},
   "outputs": [
    {
     "name": "stdout",
     "output_type": "stream",
     "text": [
      "The list contains 25 elements\n"
     ]
    }
   ],
   "source": [
    "# Call built-in function\n",
    "my_list = [1, 2, 4, 6, 3, 7, 1, 5, 0, 6, 9, 3, 4, 3, 1, 8, 7, 5, 9, 0, 1, 3, 4, 7, 6]\n",
    "\n",
    "print(f\"The list contains {len(my_list)} elements\")"
   ]
  },
  {
   "cell_type": "code",
   "execution_count": 12,
   "id": "21164789",
   "metadata": {},
   "outputs": [
    {
     "name": "stdout",
     "output_type": "stream",
     "text": [
      "Product numbers are \n",
      "0004 \n",
      "1234\n"
     ]
    }
   ],
   "source": [
    "# New lines and leading zeros to make your code more readable\n",
    "a = 4\n",
    "b = 1234\n",
    "\n",
    "# a:04 and b:04 means total numbers in sequence so it can calculate how many leading zeros needed\n",
    "print(f\"Product numbers are \\n{a:04} \\n{b:04}\")"
   ]
  },
  {
   "cell_type": "code",
   "execution_count": 13,
   "id": "be81aca3",
   "metadata": {},
   "outputs": [
    {
     "name": "stdout",
     "output_type": "stream",
     "text": [
      "Bank holiday is in 3 days time which is 2022-08-30 12:10:36.403944\n"
     ]
    }
   ],
   "source": [
    "# Expressions in f-string \n",
    "from datetime import timedelta\n",
    "\n",
    "print(f\"Bank holiday is in 3 days time which is {now + timedelta(days=3)}\")"
   ]
  },
  {
   "cell_type": "code",
   "execution_count": null,
   "id": "e1eea935",
   "metadata": {},
   "outputs": [],
   "source": []
  }
 ],
 "metadata": {
  "kernelspec": {
   "display_name": "Python 3 (ipykernel)",
   "language": "python",
   "name": "python3"
  },
  "language_info": {
   "codemirror_mode": {
    "name": "ipython",
    "version": 3
   },
   "file_extension": ".py",
   "mimetype": "text/x-python",
   "name": "python",
   "nbconvert_exporter": "python",
   "pygments_lexer": "ipython3",
   "version": "3.7.4"
  }
 },
 "nbformat": 4,
 "nbformat_minor": 5
}
