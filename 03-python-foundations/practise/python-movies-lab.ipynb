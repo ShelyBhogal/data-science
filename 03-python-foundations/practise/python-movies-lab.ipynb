{
 "cells": [
  {
   "cell_type": "markdown",
   "metadata": {},
   "source": [
    "<img src=\"http://imgur.com/1ZcRyrc.png\" style=\"float: left; margin: 20px; height: 55px\">\n",
    "\n",
    "## Python Review With Movie Data\n",
    "\n",
    "_Author: Kiefer Katovich and Dave Yerrington (San Francisco)\n",
    "\n",
    "---\n",
    "\n",
    "In this lab, you'll be using the [IMDb](http://www.imdb.com/) `movies` list below as your data set. \n",
    "\n",
    "This lab is designed to help you practice iteration and functions in particular. The normal questions are more gentle, and the challenge questions are suitable for advanced/expert Python students or those with programming experience. \n",
    "\n",
    "All of the questions require writing functions and using iteration to solve. You should print out a test of each function you write.\n",
    "\n",
    "\n",
    "### 1) Load the provided list of `movies` dictionaries."
   ]
  },
  {
   "cell_type": "code",
   "execution_count": 1,
   "metadata": {
    "collapsed": true
   },
   "outputs": [],
   "source": [
    "# List of movies dictionaries:\n",
    "\n",
    "movies = [\n",
    "{\n",
    "\"name\": \"Usual Suspects\", \n",
    "\"imdb\": 7.0,\n",
    "\"category\": \"Thriller\"\n",
    "},\n",
    "{\n",
    "\"name\": \"Hitman\",\n",
    "\"imdb\": 6.3,\n",
    "\"category\": \"Action\"\n",
    "},\n",
    "{\n",
    "\"name\": \"Dark Knight\",\n",
    "\"imdb\": 9.0,\n",
    "\"category\": \"Adventure\"\n",
    "},\n",
    "{\n",
    "\"name\": \"The Help\",\n",
    "\"imdb\": 8.0,\n",
    "\"category\": \"Drama\"\n",
    "},\n",
    "{\n",
    "\"name\": \"The Choice\",\n",
    "\"imdb\": 6.2,\n",
    "\"category\": \"Romance\"\n",
    "},\n",
    "{\n",
    "\"name\": \"Colonia\",\n",
    "\"imdb\": 7.4,\n",
    "\"category\": \"Romance\"\n",
    "},\n",
    "{\n",
    "\"name\": \"Love\",\n",
    "\"imdb\": 6.0,\n",
    "\"category\": \"Romance\"\n",
    "},\n",
    "{\n",
    "\"name\": \"Bride Wars\",\n",
    "\"imdb\": 5.4,\n",
    "\"category\": \"Romance\"\n",
    "},\n",
    "{\n",
    "\"name\": \"AlphaJet\",\n",
    "\"imdb\": 3.2,\n",
    "\"category\": \"War\"\n",
    "},\n",
    "{\n",
    "\"name\": \"Ringing Crime\",\n",
    "\"imdb\": 4.0,\n",
    "\"category\": \"Crime\"\n",
    "},\n",
    "{\n",
    "\"name\": \"Joking muck\",\n",
    "\"imdb\": 7.2,\n",
    "\"category\": \"Comedy\"\n",
    "},\n",
    "{\n",
    "\"name\": \"What is the name\",\n",
    "\"imdb\": 9.2,\n",
    "\"category\": \"Suspense\"\n",
    "},\n",
    "{\n",
    "\"name\": \"Detective\",\n",
    "\"imdb\": 7.0,\n",
    "\"category\": \"Suspense\"\n",
    "},\n",
    "{\n",
    "\"name\": \"Exam\",\n",
    "\"imdb\": 4.2,\n",
    "\"category\": \"Thriller\"\n",
    "},\n",
    "{\n",
    "\"name\": \"We Two\",\n",
    "\"imdb\": 7.2,\n",
    "\"category\": \"Romance\"\n",
    "}\n",
    "]"
   ]
  },
  {
   "cell_type": "markdown",
   "metadata": {},
   "source": [
    "---\n",
    "\n",
    "### 2) Filtering data by IMDb score.\n",
    "\n",
    "#### 2.1)\n",
    "\n",
    "Write a function that:\n",
    "\n",
    "1) Accepts a single movie dictionary from the `movies` list as an argument.\n",
    "2) Returns `True` if the IMDb score is greater than 5.5.\n",
    "\n",
    "#### 2.2 [Challenge])\n",
    "\n",
    "Write a function that:\n",
    "\n",
    "1) Accepts the `movies` list and a specified category.\n",
    "2) Returns `True` if the average score of the category is higher than the average score of all movies."
   ]
  },
  {
   "cell_type": "code",
   "execution_count": 2,
   "metadata": {
    "collapsed": true
   },
   "outputs": [],
   "source": [
    "def movie_selector(movie, score_limit=5.5):\n",
    "    \"\"\"\n",
    "    Accepts movies list dictionary and returns True if IMDb score is greater than 5.5\n",
    "    \n",
    "    Paramters\n",
    "    ---------\n",
    "    movie : dict\n",
    "        Dict holding information about movie in format {name, imdb score, category}\n",
    "        \n",
    "    score_limit : float\n",
    "        Score_limit to assess imdb score against.\n",
    "    \n",
    "    Returns\n",
    "    -------\n",
    "    boolean\n",
    "        If imdb score > score_limit return True, else return False.\n",
    "    \"\"\"\n",
    "    output = movie['imdb'] > score_limit \n",
    "    return output"
   ]
  },
  {
   "cell_type": "code",
   "execution_count": 3,
   "metadata": {},
   "outputs": [
    {
     "name": "stdout",
     "output_type": "stream",
     "text": [
      "Example Use\n",
      "Running through all movies...\n",
      "\n",
      "Usual Suspects True\n",
      "Hitman True\n",
      "Dark Knight True\n",
      "The Help True\n",
      "The Choice True\n",
      "Colonia True\n",
      "Love True\n",
      "Bride Wars False\n",
      "AlphaJet False\n",
      "Ringing Crime False\n",
      "Joking muck True\n",
      "What is the name True\n",
      "Detective True\n",
      "Exam False\n",
      "We Two True\n"
     ]
    }
   ],
   "source": [
    "print('Example Use')\n",
    "print('Running through all movies...\\n')\n",
    "for movie in movies:\n",
    "    name = movie['name']\n",
    "    print(name, movie_selector(movie))"
   ]
  },
  {
   "cell_type": "code",
   "execution_count": 4,
   "metadata": {},
   "outputs": [],
   "source": [
    "#Challenge\n",
    "def average_by_category(movies,category):\n",
    "    \"\"\"\n",
    "    Accepts list of movie dicts and a category. Returns average imdb score of category.\n",
    "    \n",
    "    Parameters:\n",
    "    -----------\n",
    "    movies : list\n",
    "        List of dicts holding information about movie in format {name, imdb score, category}\n",
    "    category : str\n",
    "        Movies category to be averaged over\n",
    "        \n",
    "    Examples:\n",
    "    ---------\n",
    "    \n",
    "    >>> average_by_category(movies, 'suspense')\n",
    "    8.1\n",
    "    \n",
    "    >>> average_by_category(movies, 'comedy')\n",
    "    7.2\n",
    "    \n",
    "    Returns\n",
    "    -------\n",
    "    score : float\n",
    "        Average score of movies matching category\n",
    "        \n",
    "    \"\"\"\n",
    "    if category != None:\n",
    "        category = category.lower()\n",
    "    ratings = []\n",
    "    for movie in movies:\n",
    "        if movie['category'].lower() == category or category == None:\n",
    "            ratings.append(movie['imdb']);\n",
    "    score = sum(ratings) / len(ratings)\n",
    "    return score\n",
    "\n",
    "def average_all_movies(movies):\n",
    "    \"\"\"\n",
    "    Accepts list of movie dicts. Returns average imdb score of all movies.\n",
    "    \n",
    "    Parameters:\n",
    "    -----------\n",
    "    movies : list\n",
    "        List of dicts holding information about movie in format {name, imdb score, category}\n",
    "    \n",
    "    Returns\n",
    "    -------\n",
    "    score : float\n",
    "        Average score of all movies\n",
    "        \n",
    "    \"\"\"\n",
    "    score = average_by_category(movies,category=None)\n",
    "    return score\n",
    "\n",
    "def better_than_average(movie, category):\n",
    "    \"\"\"\n",
    "    Accepts list of movie dicts and a category. Returns True if average imdb rating is greater than the average\n",
    "    imdb rating for all movies.\n",
    "    \n",
    "    Parameters:\n",
    "    -----------\n",
    "    movies : list\n",
    "        List of dicts holding information about movie in format {name, imdb score, category}\n",
    "        \n",
    "    category : str\n",
    "        Movies category to be reviewed\n",
    "        \n",
    "    Examples:\n",
    "    ---------\n",
    "    \n",
    "    >>> better_than_average(movies, 'suspense')\n",
    "    True\n",
    "    \n",
    "    >>> better_than_average(movies, 'comedy')\n",
    "    True\n",
    "    \n",
    "    >>> better_than_average(movies, 'thriller')\n",
    "    False\n",
    "    \n",
    "    Returns\n",
    "    -------\n",
    "    boolean\n",
    "        If average imdb score for category > average imdb score for all category return True, else return False.\n",
    "        \n",
    "    \"\"\"\n",
    "    return average_by_category(movies, category) > average_all_movies(movies)"
   ]
  },
  {
   "cell_type": "code",
   "execution_count": 5,
   "metadata": {},
   "outputs": [
    {
     "name": "stdout",
     "output_type": "stream",
     "text": [
      "Example Use\n"
     ]
    },
    {
     "data": {
      "text/plain": [
       "True"
      ]
     },
     "execution_count": 5,
     "metadata": {},
     "output_type": "execute_result"
    }
   ],
   "source": [
    "print('Example Use')\n",
    "better_than_average(movies, 'suspense')"
   ]
  },
  {
   "cell_type": "markdown",
   "metadata": {},
   "source": [
    "---\n",
    "\n",
    "### 3) Creating subsets by numeric condition.\n",
    "\n",
    "#### 3.1)\n",
    "\n",
    "Write a function that:\n",
    "\n",
    "1) Accepts the list of movies and a specified IMDb score.\n",
    "2) Returns the sublist of movies that have scores greater than the one specified.\n",
    "\n",
    "#### 3.2 [Expert])\n",
    "\n",
    "Write a function that:\n",
    "\n",
    "1) Accepts the `movies` list as an argument.\n",
    "2) Returns the `movies` list sorted first by category and then by movie according to category average score and individual IMDb score, respectively."
   ]
  },
  {
   "cell_type": "code",
   "execution_count": 6,
   "metadata": {},
   "outputs": [],
   "source": [
    "#3.1\n",
    "def movie_sublist(movies, imdb_score):\n",
    "    \"\"\"\n",
    "    Returns a list of movies that have an imdb score greater than the imdb_score supplied.\n",
    "\n",
    "    Parameters:\n",
    "    -----------\n",
    "    movies : list\n",
    "        List of dicts holding information about movie in format {name, imdb score, category}\n",
    "    \n",
    "    imdb_score : float\n",
    "        Target imdb_score to be compared against.\n",
    "    \n",
    "    Returns:\n",
    "    -------\n",
    "    pick_list : list\n",
    "        Sublist of movies where imdb rating > imdb_score\n",
    "    \"\"\"\n",
    "    pick_list = []\n",
    "    for movie in movies:\n",
    "        if movie['imdb'] > imdb_score:\n",
    "            pick_list.append(movie)\n",
    "    return pick_list"
   ]
  },
  {
   "cell_type": "code",
   "execution_count": 7,
   "metadata": {},
   "outputs": [
    {
     "data": {
      "text/plain": [
       "[{'name': 'Dark Knight', 'imdb': 9.0, 'category': 'Adventure'},\n",
       " {'name': 'The Help', 'imdb': 8.0, 'category': 'Drama'},\n",
       " {'name': 'Colonia', 'imdb': 7.4, 'category': 'Romance'},\n",
       " {'name': 'Joking muck', 'imdb': 7.2, 'category': 'Comedy'},\n",
       " {'name': 'What is the name', 'imdb': 9.2, 'category': 'Suspense'},\n",
       " {'name': 'We Two', 'imdb': 7.2, 'category': 'Romance'}]"
      ]
     },
     "execution_count": 7,
     "metadata": {},
     "output_type": "execute_result"
    }
   ],
   "source": [
    "#Example use\n",
    "movie_sublist(movies, 7.0)"
   ]
  },
  {
   "cell_type": "code",
   "execution_count": 8,
   "metadata": {},
   "outputs": [],
   "source": [
    "#3.2 Expert\n",
    "def sorted_movies(movies):\n",
    "    data = []\n",
    "    new_dict = {}\n",
    "    output = []\n",
    "    for movie in movies:\n",
    "        score = average_by_category(movies, movie['category'])\n",
    "        data.append([movie['name'],movie['imdb'],score])\n",
    "        new_dict[movie['name']] = movie\n",
    "    #print(new_dict)\n",
    "    data = sorted(data, key = lambda x: (x[2], x[1]), reverse=True)\n",
    "\n",
    "    for item in data:\n",
    "        output.append(new_dict[item[0]])\n",
    "    return output"
   ]
  },
  {
   "cell_type": "code",
   "execution_count": 9,
   "metadata": {},
   "outputs": [
    {
     "data": {
      "text/plain": [
       "[{'name': 'Dark Knight', 'imdb': 9.0, 'category': 'Adventure'},\n",
       " {'name': 'What is the name', 'imdb': 9.2, 'category': 'Suspense'},\n",
       " {'name': 'Detective', 'imdb': 7.0, 'category': 'Suspense'},\n",
       " {'name': 'The Help', 'imdb': 8.0, 'category': 'Drama'},\n",
       " {'name': 'Joking muck', 'imdb': 7.2, 'category': 'Comedy'},\n",
       " {'name': 'Colonia', 'imdb': 7.4, 'category': 'Romance'},\n",
       " {'name': 'We Two', 'imdb': 7.2, 'category': 'Romance'},\n",
       " {'name': 'The Choice', 'imdb': 6.2, 'category': 'Romance'},\n",
       " {'name': 'Love', 'imdb': 6.0, 'category': 'Romance'},\n",
       " {'name': 'Bride Wars', 'imdb': 5.4, 'category': 'Romance'},\n",
       " {'name': 'Hitman', 'imdb': 6.3, 'category': 'Action'},\n",
       " {'name': 'Usual Suspects', 'imdb': 7.0, 'category': 'Thriller'},\n",
       " {'name': 'Exam', 'imdb': 4.2, 'category': 'Thriller'},\n",
       " {'name': 'Ringing Crime', 'imdb': 4.0, 'category': 'Crime'},\n",
       " {'name': 'AlphaJet', 'imdb': 3.2, 'category': 'War'}]"
      ]
     },
     "execution_count": 9,
     "metadata": {},
     "output_type": "execute_result"
    }
   ],
   "source": [
    "sorted_movies(movies)"
   ]
  },
  {
   "cell_type": "markdown",
   "metadata": {},
   "source": [
    "---\n",
    "\n",
    "### 4) Creating subsets by string condition.\n",
    "\n",
    "#### 4.1)\n",
    "\n",
    "Write a function that:\n",
    "\n",
    "1) Accepts the `movies` list and a category name.\n",
    "2) Returns the movie names within that category (case-insensitive!).\n",
    "3) If the category is not in the data, prints a message that says it does not exist and returns `None`.\n",
    "\n",
    "Recall that, to convert a string to lowercase, you can use:\n",
    "\n",
    "```python\n",
    "mystring = 'Dumb and Dumber'\n",
    "lowercase_mystring = mystring.lower()\n",
    "print lowercase_mystring\n",
    "'dumb and dumber'\n",
    "```\n",
    "\n",
    "#### 4.2 [Challenge])\n",
    "\n",
    "Write a function that:\n",
    "\n",
    "1) Accepts the `movies` list and a \"search string.\"\n",
    "2) Returns a dictionary with the keys `'category'` and `'title'` whose values are lists of categories that contain the search string and titles that contain the search string, respectively (case-insensitive!)."
   ]
  },
  {
   "cell_type": "code",
   "execution_count": 10,
   "metadata": {},
   "outputs": [],
   "source": [
    "#4.1\n",
    "def movie_names(movies, category):\n",
    "    \"\"\"\n",
    "    Accepts list of movie dicts and a category. Returns list of movie names within that category.\n",
    "    \n",
    "    Parameters:\n",
    "    -----------\n",
    "    movies : list\n",
    "        List of dicts holding information about movie in format {name, imdb score, category}\n",
    "        \n",
    "    category : str\n",
    "        Movies category to be selected.\n",
    "        \n",
    "    Returns:\n",
    "    --------\n",
    "    sub_list : list\n",
    "        Sub list of movies, where movie category matches category.\n",
    "    \"\"\"\n",
    "    sub_list = [movie['name'] for movie in movies if movie['category'].lower() == category.lower()]\n",
    "    if not sub_list:\n",
    "        print('Category does not exist: ',category)\n",
    "        return None\n",
    "    return sub_list"
   ]
  },
  {
   "cell_type": "code",
   "execution_count": 11,
   "metadata": {},
   "outputs": [
    {
     "data": {
      "text/plain": [
       "['The Choice', 'Colonia', 'Love', 'Bride Wars', 'We Two']"
      ]
     },
     "execution_count": 11,
     "metadata": {},
     "output_type": "execute_result"
    }
   ],
   "source": [
    "#Example\n",
    "movie_names(movies, 'Romance')"
   ]
  },
  {
   "cell_type": "code",
   "execution_count": 12,
   "metadata": {},
   "outputs": [
    {
     "name": "stdout",
     "output_type": "stream",
     "text": [
      "Category does not exist:  Not_here\n"
     ]
    }
   ],
   "source": [
    "#Example\n",
    "movie_names(movies, 'Not_here')"
   ]
  },
  {
   "cell_type": "code",
   "execution_count": 13,
   "metadata": {},
   "outputs": [],
   "source": [
    "#4.2\n",
    "def movie_search(movies, search_string):\n",
    "    \"\"\"\n",
    "    Returns a dictionary of categories and movie names, where search_string present in category or movie name.\n",
    "\n",
    "    Parameters:\n",
    "    -----------\n",
    "    movies : list\n",
    "        List of dicts holding information about movie in format {name, imdb score, category}\n",
    "        \n",
    "    search_string : str\n",
    "        Target string to be found in category or movie name.\n",
    "    \n",
    "    Returns:\n",
    "    --------\n",
    "    matches : dict\n",
    "        Dict of {'category' : matching, 'title' : matching}\n",
    "    \"\"\"\n",
    "    matches = {'category' : [],\n",
    "              'title' : []}\n",
    "    search_string = search_string.lower()\n",
    "    for movie in movies:\n",
    "        title = movie['name']\n",
    "        category = movie['category']\n",
    "        if search_string in title.lower():\n",
    "            matches['title'].append(title)\n",
    "        if search_string in category.lower():\n",
    "            matches['category'].append(category)\n",
    "    return matches"
   ]
  },
  {
   "cell_type": "code",
   "execution_count": 14,
   "metadata": {},
   "outputs": [
    {
     "data": {
      "text/plain": [
       "{'category': ['Romance', 'Romance', 'Romance', 'Romance', 'Romance'],\n",
       " 'title': ['The Choice']}"
      ]
     },
     "execution_count": 14,
     "metadata": {},
     "output_type": "execute_result"
    }
   ],
   "source": [
    "#Example\n",
    "movie_search(movies, 'ce')"
   ]
  },
  {
   "cell_type": "markdown",
   "metadata": {},
   "source": [
    "---\n",
    "\n",
    "### 5) Multiple conditions.\n",
    "\n",
    "#### 5.1)\n",
    "\n",
    "Write a function that:\n",
    "\n",
    "1) Accepts the `movies` list and a \"search criteria\" variable.\n",
    "2) If the criteria variable is numeric, return a list of movie titles with a score greater than or equal to the criteria.\n",
    "3) If the criteria variable is a string, return a list of movie titles that match that category (case-insensitive!). If there is no match, return an empty list and print an informative message.\n",
    "\n",
    "#### 5.2 [Expert])\n",
    "\n",
    "Write a function that:\n",
    "\n",
    "1) Accepts the `movies` list and a string search criteria variable.\n",
    "2) The search criteria variable can contain within it:\n",
    "  - Boolean operations: `'AND'`, `'OR'`, and `'NOT'` (can have/be lowercase as well, we just capitalized for clarity).\n",
    "  - Search criteria specified with the syntax `score=...`, `category=...`, and/or `title=...`, where the `...` indicates what to look for.\n",
    "    - If `score` is present, it indicates scores greater than or equal to the value.\n",
    "    - For `category` and `title`, the string indicates that the category or title must _contain_ the search string (case-insensitive).\n",
    "3) Return the matches for the search criteria specified."
   ]
  },
  {
   "cell_type": "code",
   "execution_count": 15,
   "metadata": {},
   "outputs": [],
   "source": [
    "#5.1\n",
    "def return_movie_by_category(movies, category):\n",
    "    \"\"\"\n",
    "    For list of movie dicts, return a list of movie names where category matches input category.\n",
    "\n",
    "    Parameters:\n",
    "    -----------\n",
    "    movies : list\n",
    "        List of dicts holding information about movie in format {name, imdb score, category}\n",
    "        \n",
    "    category : str\n",
    "        Search category to be matched.\n",
    "        \n",
    "    Examples:\n",
    "    ---------\n",
    "    \n",
    "    >>> return_movie_by_category(movies, 'Romance')\n",
    "    ['The Choice', 'Colonia', 'Love', 'Bride Wars', 'We Two']\n",
    "        \n",
    "    Returns:\n",
    "    --------\n",
    "    titles : list\n",
    "        List of strings of movie names where category matches input category\n",
    "    \"\"\"\n",
    "    titles = []\n",
    "    for movie in movies:\n",
    "        if movie['category'] == category:\n",
    "            titles.append(movie['name'])\n",
    "    return titles\n",
    "\n",
    "def return_movie_by_rating(movies, rating):\n",
    "    \"\"\"\n",
    "    For list of movie dicts, return a list of movie names where rating is greater than input rating.\n",
    "\n",
    "    Parameters:\n",
    "    -----------\n",
    "    movies : list\n",
    "        List of dicts holding information about movie in format {name, imdb score, category}\n",
    "        \n",
    "    rating : float\n",
    "        Search rating to be compare against.\n",
    "        \n",
    "    Examples:\n",
    "    ---------\n",
    "    \n",
    "    >>> return_movie_by_rating(movies, 8.9)\n",
    "    ['Dark Knight', 'What is the name']\n",
    "    \n",
    "    >>> return_movie_by_rating(movies, 9.0)\n",
    "    ['What is the name']\n",
    "        \n",
    "    Returns:\n",
    "    --------\n",
    "    titles : list\n",
    "        List of strings of movie names where rating greater than input rating.\n",
    "    \"\"\"\n",
    "    titles = []\n",
    "    for movie in movies:\n",
    "        if movie['imdb'] > rating:\n",
    "            titles.append(movie['name'])\n",
    "    return titles\n",
    "\n",
    "def search_criteria_type(search_criteria):\n",
    "    \"\"\"\n",
    "    Checks search criteria and determines if the criteria is a rating or a category.\n",
    "    \n",
    "    Examples:\n",
    "    ---------\n",
    "    >>> search_criteria_type(4.0)\n",
    "    'rating'\n",
    "    \n",
    "    >>> search_criteria_type('The Dark Knight')\n",
    "    'category'\n",
    "    \n",
    "    \"\"\"\n",
    "    action = ''\n",
    "    try:\n",
    "        float(search_criteria)\n",
    "        action = 'rating'\n",
    "    except:\n",
    "        action = 'category'\n",
    "        \n",
    "    return action\n",
    "\n",
    "def movie_search_again(movies, search_criteria):\n",
    "    \"\"\"\n",
    "    If criteria is numeric will return movie titles with score greater than value. If criteria is a string retrun a list\n",
    "    of movie titles with matching category.\n",
    "    \n",
    "    Parameters:\n",
    "    -----------\n",
    "    movies : list\n",
    "        List of dicts holding information about movie in format {name, imdb score, category}\n",
    "        \n",
    "    search_criteria : str\n",
    "        Search term - if numeric search based on rating, if string search based on category\n",
    "    \n",
    "    Returns:\n",
    "    --------\n",
    "    output : list\n",
    "        If criteria is a string retrun a list of movie titles with matching category.\n",
    "    \"\"\"\n",
    "    action = search_criteria_type(search_criteria)\n",
    "    output = []\n",
    "        \n",
    "    if action == 'rating':\n",
    "        output = return_movie_by_rating(movies, search_criteria)\n",
    "    if action == 'category':\n",
    "        output = return_movie_by_category(movies, search_criteria)\n",
    "    \n",
    "    if not output:\n",
    "        print('No match')\n",
    "    return output"
   ]
  },
  {
   "cell_type": "code",
   "execution_count": 16,
   "metadata": {},
   "outputs": [
    {
     "data": {
      "text/plain": [
       "['Dark Knight',\n",
       " 'The Help',\n",
       " 'Colonia',\n",
       " 'Joking muck',\n",
       " 'What is the name',\n",
       " 'We Two']"
      ]
     },
     "execution_count": 16,
     "metadata": {},
     "output_type": "execute_result"
    }
   ],
   "source": [
    "#Example\n",
    "movie_search_again(movies,7)"
   ]
  },
  {
   "cell_type": "code",
   "execution_count": 17,
   "metadata": {},
   "outputs": [
    {
     "data": {
      "text/plain": [
       "['Usual Suspects', 'Exam']"
      ]
     },
     "execution_count": 17,
     "metadata": {},
     "output_type": "execute_result"
    }
   ],
   "source": [
    "#Example\n",
    "movie_search_again(movies, 'Thriller')"
   ]
  },
  {
   "cell_type": "code",
   "execution_count": 18,
   "metadata": {},
   "outputs": [
    {
     "name": "stdout",
     "output_type": "stream",
     "text": [
      "No match\n"
     ]
    },
    {
     "data": {
      "text/plain": [
       "[]"
      ]
     },
     "execution_count": 18,
     "metadata": {},
     "output_type": "execute_result"
    }
   ],
   "source": [
    "#Example\n",
    "movie_search_again(movies, 'not_there')"
   ]
  },
  {
   "cell_type": "code",
   "execution_count": 19,
   "metadata": {},
   "outputs": [],
   "source": [
    "#5.2\n",
    "def movies_advanced_criteria(movies, search_criteria):\n",
    "    pass"
   ]
  },
  {
   "cell_type": "code",
   "execution_count": 20,
   "metadata": {},
   "outputs": [],
   "source": [
    "#Example"
   ]
  },
  {
   "cell_type": "code",
   "execution_count": 21,
   "metadata": {},
   "outputs": [
    {
     "data": {
      "text/plain": [
       "TestResults(failed=0, attempted=10)"
      ]
     },
     "execution_count": 21,
     "metadata": {},
     "output_type": "execute_result"
    }
   ],
   "source": [
    "import doctest\n",
    "doctest.testmod()"
   ]
  }
 ],
 "metadata": {
  "kernelspec": {
   "display_name": "Python 3",
   "language": "python",
   "name": "python3"
  },
  "language_info": {
   "codemirror_mode": {
    "name": "ipython",
    "version": 3
   },
   "file_extension": ".py",
   "mimetype": "text/x-python",
   "name": "python",
   "nbconvert_exporter": "python",
   "pygments_lexer": "ipython3",
   "version": "3.6.7"
  }
 },
 "nbformat": 4,
 "nbformat_minor": 1
}
