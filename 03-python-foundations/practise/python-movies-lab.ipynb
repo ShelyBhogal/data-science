{
 "cells": [
  {
   "cell_type": "markdown",
   "metadata": {},
   "source": [
    "<img src=\"http://imgur.com/1ZcRyrc.png\" style=\"float: left; margin: 20px; height: 55px\">\n",
    "\n",
    "## Python Review With Movie Data (Oliver's solutions)\n",
    "\n",
    "\n",
    "### 1) Load the provided list of `movies` dictionaries."
   ]
  },
  {
   "cell_type": "markdown",
   "metadata": {},
   "source": [
    "So we start with a list of dictionaries. Remember:\n",
    "\n",
    " - lists are ordered so `movies[0]` will always return the first and `movies[-1]` will return the last. If it has an order then it also means we can sort it too.\n",
    " - dictionaries are unordered, they just take a key `movies[0]['name']`"
   ]
  },
  {
   "cell_type": "code",
   "execution_count": 1,
   "metadata": {},
   "outputs": [],
   "source": [
    "# List of movies dictionaries:\n",
    "\n",
    "movies = [\n",
    "{\n",
    "\"name\": \"Usual Suspects\", \n",
    "\"imdb\": 7.0,\n",
    "\"category\": \"Thriller\"\n",
    "},\n",
    "{\n",
    "\"name\": \"Hitman\",\n",
    "\"imdb\": 6.3,\n",
    "\"category\": \"Action\"\n",
    "},\n",
    "{\n",
    "\"name\": \"Dark Knight\",\n",
    "\"imdb\": 9.0,\n",
    "\"category\": \"Adventure\"\n",
    "},\n",
    "{\n",
    "\"name\": \"The Help\",\n",
    "\"imdb\": 8.0,\n",
    "\"category\": \"Drama\"\n",
    "},\n",
    "{\n",
    "\"name\": \"The Choice\",\n",
    "\"imdb\": 6.2,\n",
    "\"category\": \"Romance\"\n",
    "},\n",
    "{\n",
    "\"name\": \"Colonia\",\n",
    "\"imdb\": 7.4,\n",
    "\"category\": \"Romance\"\n",
    "},\n",
    "{\n",
    "\"name\": \"Love\",\n",
    "\"imdb\": 6.0,\n",
    "\"category\": \"Romance\"\n",
    "},\n",
    "{\n",
    "\"name\": \"Bride Wars\",\n",
    "\"imdb\": 5.4,\n",
    "\"category\": \"Romance\"\n",
    "},\n",
    "{\n",
    "\"name\": \"AlphaJet\",\n",
    "\"imdb\": 3.2,\n",
    "\"category\": \"War\"\n",
    "},\n",
    "{\n",
    "\"name\": \"Ringing Crime\",\n",
    "\"imdb\": 4.0,\n",
    "\"category\": \"Crime\"\n",
    "},\n",
    "{\n",
    "\"name\": \"Joking muck\",\n",
    "\"imdb\": 7.2,\n",
    "\"category\": \"Comedy\"\n",
    "},\n",
    "{\n",
    "\"name\": \"What is the name\",\n",
    "\"imdb\": 9.2,\n",
    "\"category\": \"Suspense\"\n",
    "},\n",
    "{\n",
    "\"name\": \"Detective\",\n",
    "\"imdb\": 7.0,\n",
    "\"category\": \"Suspense\"\n",
    "},\n",
    "{\n",
    "\"name\": \"Exam\",\n",
    "\"imdb\": 4.2,\n",
    "\"category\": \"Thriller\"\n",
    "},\n",
    "{\n",
    "\"name\": \"We Two\",\n",
    "\"imdb\": 7.2,\n",
    "\"category\": \"Romance\"\n",
    "}\n",
    "]"
   ]
  },
  {
   "cell_type": "markdown",
   "metadata": {},
   "source": [
    "---\n",
    "\n",
    "### 2) Filtering data by IMDb score.\n",
    "\n",
    "#### 2.1)\n",
    "\n",
    "Write a function that:\n",
    "\n",
    "1) Accepts a single movie dictionary from the `movies` list as an argument.\n",
    "2) Returns `True` if the IMDb score is greater than 5.5."
   ]
  },
  {
   "cell_type": "code",
   "execution_count": 2,
   "metadata": {},
   "outputs": [],
   "source": [
    "# Function takes a single argument\n",
    "# We expect that the movie has a key called `imdb`\n",
    "# Just check it's greater than 5.5\n",
    "def movie_is_decent(movie):\n",
    "    return movie['imdb'] > 5.5"
   ]
  },
  {
   "cell_type": "markdown",
   "metadata": {},
   "source": [
    "Lets try it out!\n",
    "\n",
    "I'll iterate over all the movies and check whether each one is any good. Then I'll print a string depending on the answer."
   ]
  },
  {
   "cell_type": "code",
   "execution_count": 3,
   "metadata": {},
   "outputs": [
    {
     "name": "stdout",
     "output_type": "stream",
     "text": [
      "Usual Suspects is decent\n",
      "Hitman is decent\n",
      "Dark Knight is decent\n",
      "The Help is decent\n",
      "The Choice is decent\n",
      "Colonia is decent\n",
      "Love is decent\n",
      "Bride Wars is total crap\n",
      "AlphaJet is total crap\n",
      "Ringing Crime is total crap\n",
      "Joking muck is decent\n",
      "What is the name is decent\n",
      "Detective is decent\n",
      "Exam is total crap\n",
      "We Two is decent\n"
     ]
    }
   ],
   "source": [
    "for movie in movies:\n",
    "    if movie_is_decent(movie):\n",
    "        print(movie['name'], 'is decent')\n",
    "    else:\n",
    "        print(movie['name'], 'is total crap')"
   ]
  },
  {
   "cell_type": "markdown",
   "metadata": {},
   "source": [
    "#### 2.2 [Challenge])\n",
    "\n",
    "Write a function that:\n",
    "\n",
    "1) Accepts the `movies` list and a specified category.\n",
    "2) Returns `True` if the average score of the category is higher than the average score of all movies.\n",
    "\n",
    "**Oliver notes**\n",
    "\n",
    "At a high level, we are performing two operations:\n",
    "1. A filter! We filter down the list to a subset of movies that matches some criteria (in this case checking the category)\n",
    "2. A reduction! This means we take a list of movies and reduce it to a single number (in this case its the average score)\n",
    "\n",
    "Remember there are always 100 ways to solve a problem. In python that's also true. In general you should chose the solution that is **the easiest to read!!!** this is the only criteria you should care about.\n",
    "\n",
    "I'm going to show you two approaches, you can choose which you prefer."
   ]
  },
  {
   "cell_type": "code",
   "execution_count": 4,
   "metadata": {},
   "outputs": [],
   "source": [
    "# A list comprehension (my fave)\n",
    "# https://docs.python.org/3/tutorial/datastructures.html#list-comprehensions\n",
    "def category_score_1(movies, category_name):\n",
    "    # Create a new list by filtering the movies\n",
    "    movies_in_category = [\n",
    "        movie for movie in movies if movie['category'] == category_name\n",
    "    ]\n",
    "    \n",
    "    # Create a new list just containing the scores\n",
    "    scores = [movie['imdb'] for movie in movies_in_category]\n",
    "    \n",
    "    # Compute the average\n",
    "    average_score = sum(scores) / len(scores)\n",
    "    return average_score"
   ]
  },
  {
   "cell_type": "code",
   "execution_count": 5,
   "metadata": {},
   "outputs": [
    {
     "data": {
      "text/plain": [
       "6.44"
      ]
     },
     "execution_count": 5,
     "metadata": {},
     "output_type": "execute_result"
    }
   ],
   "source": [
    "category_score_1(movies, 'Romance')"
   ]
  },
  {
   "cell_type": "code",
   "execution_count": 6,
   "metadata": {},
   "outputs": [],
   "source": [
    "# Append in a for loop\n",
    "def category_score_2(movies, category_name):\n",
    "    # Create a new list by filtering the movies\n",
    "    movies_in_category = []\n",
    "    for movie in movies:\n",
    "        if movie['category'] == category_name:\n",
    "            movies_in_category.append(movie)\n",
    "    # Create a new list just containing the scores\n",
    "    scores = []\n",
    "    for movie in movies_in_category:\n",
    "        scores.append(movie['imdb'])\n",
    "        \n",
    "    # Compute the average\n",
    "    average_score = sum(scores) / len(scores)\n",
    "    return average_score"
   ]
  },
  {
   "cell_type": "code",
   "execution_count": 7,
   "metadata": {},
   "outputs": [
    {
     "data": {
      "text/plain": [
       "6.44"
      ]
     },
     "execution_count": 7,
     "metadata": {},
     "output_type": "execute_result"
    }
   ],
   "source": [
    "category_score_2(movies, 'Romance')"
   ]
  },
  {
   "cell_type": "markdown",
   "metadata": {},
   "source": [
    "**Oliver note**\n",
    "\n",
    "Both of these approaches can be reduced even further (filter the movies and extract the imbd score in the same line). Up to you if you prefer that!"
   ]
  },
  {
   "cell_type": "markdown",
   "metadata": {},
   "source": [
    "---\n",
    "\n",
    "### 3) Creating subsets by numeric condition.\n",
    "\n",
    "#### 3.1)\n",
    "\n",
    "Write a function that:\n",
    "\n",
    "1) Accepts the list of movies and a specified IMDb score.\n",
    "2) Returns the sublist of movies that have scores greater than the one specified.\n",
    "\n",
    "**Oliver note**\n",
    "\n",
    "Have you spotted the pattern this time? It's a filter! So just create a new list with a subset of the movies based on the condition.\n",
    "\n",
    "Here's another two options using list comprehensions and append respectively. "
   ]
  },
  {
   "cell_type": "code",
   "execution_count": 8,
   "metadata": {},
   "outputs": [],
   "source": [
    "def filter_on_score(movies, score):\n",
    "    return [movie for movie in movies if movie['imdb'] > score]\n",
    "\n",
    "# OR \n",
    "\n",
    "def filter_on_score(movies, score):\n",
    "    movies_filtered = []\n",
    "    for movie in movies:\n",
    "        if movie['imdb'] > score:\n",
    "            movies_filtered.append(movie)\n",
    "    return movies_filtered"
   ]
  },
  {
   "cell_type": "code",
   "execution_count": 9,
   "metadata": {},
   "outputs": [
    {
     "data": {
      "text/plain": [
       "[{'name': 'Dark Knight', 'imdb': 9.0, 'category': 'Adventure'},\n",
       " {'name': 'The Help', 'imdb': 8.0, 'category': 'Drama'},\n",
       " {'name': 'Colonia', 'imdb': 7.4, 'category': 'Romance'},\n",
       " {'name': 'Joking muck', 'imdb': 7.2, 'category': 'Comedy'},\n",
       " {'name': 'What is the name', 'imdb': 9.2, 'category': 'Suspense'},\n",
       " {'name': 'We Two', 'imdb': 7.2, 'category': 'Romance'}]"
      ]
     },
     "execution_count": 9,
     "metadata": {},
     "output_type": "execute_result"
    }
   ],
   "source": [
    "filter_on_score(movies, 7)"
   ]
  },
  {
   "cell_type": "markdown",
   "metadata": {},
   "source": [
    "#### 3.2 [Expert])\n",
    "\n",
    "Write a function that:\n",
    "\n",
    "1) Accepts the `movies` list as an argument.\n",
    "2) Returns the `movies` list sorted first by category and then by movie according to category average score and individual IMDb score, respectively.\n",
    "\n",
    "\n",
    "**Oliver note**\n",
    "\n",
    "Ok this one is hard! Because the problem is more complex, there are **even more possible solutions** - so yours might look quite different. That's ok.\n",
    "\n",
    "So in this case, I spot two different operations:\n",
    "1. Enrichment! We want to add some new data to each movie. In this case it's the average of the category\n",
    "2. Sort! We then want to sort the result.\n",
    "\n",
    "I think the trick here is figuring out that first pattern. Let's try it out"
   ]
  },
  {
   "cell_type": "code",
   "execution_count": 12,
   "metadata": {},
   "outputs": [],
   "source": [
    "def ranked_movies_1(movies):\n",
    "    # Add a new entry to each movie that is the category score we computed earlier\n",
    "    for movie in movies:\n",
    "        movie['category_score'] = category_score_1(movies, movie['category'])\n",
    "    \n",
    "    # Sort the movies. We'll use the built in sort operation, which can take two keys\n",
    "    return sorted(movies, key=lambda movie: (movie['category_score'], movie['imdb']))"
   ]
  },
  {
   "cell_type": "markdown",
   "metadata": {},
   "source": [
    "Let's look at the results! Makes total sense, Dark Knight is a sick film. I need to see `AlphaJet`!"
   ]
  },
  {
   "cell_type": "code",
   "execution_count": 13,
   "metadata": {},
   "outputs": [
    {
     "data": {
      "text/plain": [
       "[{'name': 'AlphaJet', 'imdb': 3.2, 'category': 'War', 'category_score': 3.2},\n",
       " {'name': 'Ringing Crime',\n",
       "  'imdb': 4.0,\n",
       "  'category': 'Crime',\n",
       "  'category_score': 4.0},\n",
       " {'name': 'Exam', 'imdb': 4.2, 'category': 'Thriller', 'category_score': 5.6},\n",
       " {'name': 'Usual Suspects',\n",
       "  'imdb': 7.0,\n",
       "  'category': 'Thriller',\n",
       "  'category_score': 5.6},\n",
       " {'name': 'Hitman', 'imdb': 6.3, 'category': 'Action', 'category_score': 6.3},\n",
       " {'name': 'Bride Wars',\n",
       "  'imdb': 5.4,\n",
       "  'category': 'Romance',\n",
       "  'category_score': 6.44},\n",
       " {'name': 'Love', 'imdb': 6.0, 'category': 'Romance', 'category_score': 6.44},\n",
       " {'name': 'The Choice',\n",
       "  'imdb': 6.2,\n",
       "  'category': 'Romance',\n",
       "  'category_score': 6.44},\n",
       " {'name': 'We Two',\n",
       "  'imdb': 7.2,\n",
       "  'category': 'Romance',\n",
       "  'category_score': 6.44},\n",
       " {'name': 'Colonia',\n",
       "  'imdb': 7.4,\n",
       "  'category': 'Romance',\n",
       "  'category_score': 6.44},\n",
       " {'name': 'Joking muck',\n",
       "  'imdb': 7.2,\n",
       "  'category': 'Comedy',\n",
       "  'category_score': 7.2},\n",
       " {'name': 'The Help', 'imdb': 8.0, 'category': 'Drama', 'category_score': 8.0},\n",
       " {'name': 'Detective',\n",
       "  'imdb': 7.0,\n",
       "  'category': 'Suspense',\n",
       "  'category_score': 8.1},\n",
       " {'name': 'What is the name',\n",
       "  'imdb': 9.2,\n",
       "  'category': 'Suspense',\n",
       "  'category_score': 8.1},\n",
       " {'name': 'Dark Knight',\n",
       "  'imdb': 9.0,\n",
       "  'category': 'Adventure',\n",
       "  'category_score': 9.0}]"
      ]
     },
     "execution_count": 13,
     "metadata": {},
     "output_type": "execute_result"
    }
   ],
   "source": [
    "ranked_movies_1(movies)"
   ]
  },
  {
   "cell_type": "markdown",
   "metadata": {},
   "source": [
    "**Oliver note**\n",
    "\n",
    "You might be thinking that the solution above is inefficient because we recompute the category score for every film. e.g. we compute the `Thriller` score for every film that is tagged `Thriller`.\n",
    "\n",
    "Two things:\n",
    "1. Premature optimisation is the biggest danger in programming. Until it actually creates problems for you, then don't focus on making code faster. Make it more readable!\n",
    "2. However we can do this too, it involves creating a lookup table first and then enriching the records with that"
   ]
  },
  {
   "cell_type": "code",
   "execution_count": 14,
   "metadata": {},
   "outputs": [],
   "source": [
    "def ranked_movies_2(movies):\n",
    "    # Get the unique categories (this is how we reduce the computation)\n",
    "    # I use a list comprehension to create a new list with all the categories\n",
    "    # Then we turn it into a set (which only keeps the unique values)\n",
    "    categories = set([movie['category'] for movie in movies])\n",
    "    \n",
    "    # WHOA!!! We can do dict-comprehensions too!\n",
    "    # This is our lookup table. So the key is the category name\n",
    "    # and the value is the category score.\n",
    "    # Note we're only computing the score once per category - we got our optimisation\n",
    "    category_scores = {\n",
    "        category_name: category_score_1(movies, category_name)\n",
    "        for category_name in categories\n",
    "    }\n",
    "    \n",
    "    # Now we enrich the records\n",
    "    for movie in movies:\n",
    "        movie['category_score'] = category_scores[movie['category']]\n",
    "    \n",
    "    return sorted(movies, key=lambda movie: (movie['category_score'], movie['imdb']))"
   ]
  },
  {
   "cell_type": "code",
   "execution_count": 15,
   "metadata": {},
   "outputs": [
    {
     "data": {
      "text/plain": [
       "[{'name': 'AlphaJet', 'imdb': 3.2, 'category': 'War', 'category_score': 3.2},\n",
       " {'name': 'Ringing Crime',\n",
       "  'imdb': 4.0,\n",
       "  'category': 'Crime',\n",
       "  'category_score': 4.0},\n",
       " {'name': 'Exam', 'imdb': 4.2, 'category': 'Thriller', 'category_score': 5.6},\n",
       " {'name': 'Usual Suspects',\n",
       "  'imdb': 7.0,\n",
       "  'category': 'Thriller',\n",
       "  'category_score': 5.6},\n",
       " {'name': 'Hitman', 'imdb': 6.3, 'category': 'Action', 'category_score': 6.3},\n",
       " {'name': 'Bride Wars',\n",
       "  'imdb': 5.4,\n",
       "  'category': 'Romance',\n",
       "  'category_score': 6.44},\n",
       " {'name': 'Love', 'imdb': 6.0, 'category': 'Romance', 'category_score': 6.44},\n",
       " {'name': 'The Choice',\n",
       "  'imdb': 6.2,\n",
       "  'category': 'Romance',\n",
       "  'category_score': 6.44},\n",
       " {'name': 'We Two',\n",
       "  'imdb': 7.2,\n",
       "  'category': 'Romance',\n",
       "  'category_score': 6.44},\n",
       " {'name': 'Colonia',\n",
       "  'imdb': 7.4,\n",
       "  'category': 'Romance',\n",
       "  'category_score': 6.44},\n",
       " {'name': 'Joking muck',\n",
       "  'imdb': 7.2,\n",
       "  'category': 'Comedy',\n",
       "  'category_score': 7.2},\n",
       " {'name': 'The Help', 'imdb': 8.0, 'category': 'Drama', 'category_score': 8.0},\n",
       " {'name': 'Detective',\n",
       "  'imdb': 7.0,\n",
       "  'category': 'Suspense',\n",
       "  'category_score': 8.1},\n",
       " {'name': 'What is the name',\n",
       "  'imdb': 9.2,\n",
       "  'category': 'Suspense',\n",
       "  'category_score': 8.1},\n",
       " {'name': 'Dark Knight',\n",
       "  'imdb': 9.0,\n",
       "  'category': 'Adventure',\n",
       "  'category_score': 9.0}]"
      ]
     },
     "execution_count": 15,
     "metadata": {},
     "output_type": "execute_result"
    }
   ],
   "source": [
    "ranked_movies_2(movies)"
   ]
  },
  {
   "cell_type": "markdown",
   "metadata": {},
   "source": [
    "**BONUS** was it worth it?\n",
    "\n",
    "Well it it's 10 microseconds faster on average!\n",
    "\n",
    "But it also took us an extra 10 mins to write the new function.\n",
    "\n",
    "We would have to run this function 600,000,000 times to make it worth our effort."
   ]
  },
  {
   "cell_type": "code",
   "execution_count": 40,
   "metadata": {},
   "outputs": [
    {
     "name": "stdout",
     "output_type": "stream",
     "text": [
      "31.3 µs ± 353 ns per loop (mean ± std. dev. of 7 runs, 10000 loops each)\n"
     ]
    }
   ],
   "source": [
    "%%timeit\n",
    "ranked_movies_1(movies)"
   ]
  },
  {
   "cell_type": "code",
   "execution_count": 41,
   "metadata": {},
   "outputs": [
    {
     "name": "stdout",
     "output_type": "stream",
     "text": [
      "21.6 µs ± 611 ns per loop (mean ± std. dev. of 7 runs, 10000 loops each)\n"
     ]
    }
   ],
   "source": [
    "%%timeit\n",
    "ranked_movies_2(movies)"
   ]
  },
  {
   "cell_type": "markdown",
   "metadata": {},
   "source": [
    "---\n",
    "\n",
    "### 5) Multiple conditions.\n",
    "\n",
    "#### 5.1)\n",
    "\n",
    "Write a function that:\n",
    "\n",
    "1) Accepts the `movies` list and a \"search criteria\" variable.\n",
    "2) If the criteria variable is numeric, return a list of movie titles with a score greater than or equal to the criteria.\n",
    "3) If the criteria variable is a string, return a list of movie titles that match that category (case-insensitive!). If there is no match, return an empty list and print an informative message.\n",
    "\n",
    "#### 5.2 [Expert])\n",
    "\n",
    "Write a function that:\n",
    "\n",
    "1) Accepts the `movies` list and a string search criteria variable.\n",
    "2) The search criteria variable can contain within it:\n",
    "  - Boolean operations: `'AND'`, `'OR'`, and `'NOT'` (can have/be lowercase as well, we just capitalized for clarity).\n",
    "  - Search criteria specified with the syntax `score=...`, `category=...`, and/or `title=...`, where the `...` indicates what to look for.\n",
    "    - If `score` is present, it indicates scores greater than or equal to the value.\n",
    "    - For `category` and `title`, the string indicates that the category or title must _contain_ the search string (case-insensitive).\n",
    "3) Return the matches for the search criteria specified."
   ]
  },
  {
   "cell_type": "code",
   "execution_count": null,
   "metadata": {},
   "outputs": [],
   "source": []
  },
  {
   "cell_type": "markdown",
   "metadata": {},
   "source": [
    "---\n",
    "\n",
    "### 4) Creating subsets by string condition.\n",
    "\n",
    "#### 4.1)\n",
    "\n",
    "Write a function that:\n",
    "\n",
    "1) Accepts the `movies` list and a category name.\n",
    "2) Returns the movie names within that category (case-insensitive!).\n",
    "3) If the category is not in the data, prints a message that says it does not exist and returns `None`.\n",
    "\n",
    "Recall that, to convert a string to lowercase, you can use:\n",
    "\n",
    "```python\n",
    "mystring = 'Dumb and Dumber'\n",
    "lowercase_mystring = mystring.lower()\n",
    "print lowercase_mystring\n",
    "'dumb and dumber'\n",
    "```\n",
    "\n",
    "#### 4.2 [Challenge])\n",
    "\n",
    "Write a function that:\n",
    "\n",
    "1) Accepts the `movies` list and a \"search string.\"\n",
    "2) Returns a dictionary with the keys `'category'` and `'title'` whose values are lists of categories that contain the search string and titles that contain the search string, respectively (case-insensitive!)."
   ]
  },
  {
   "cell_type": "code",
   "execution_count": null,
   "metadata": {},
   "outputs": [],
   "source": []
  },
  {
   "cell_type": "code",
   "execution_count": null,
   "metadata": {},
   "outputs": [],
   "source": []
  }
 ],
 "metadata": {
  "kernelspec": {
   "display_name": "Python 3",
   "language": "python",
   "name": "python3"
  },
  "language_info": {
   "codemirror_mode": {
    "name": "ipython",
    "version": 3
   },
   "file_extension": ".py",
   "mimetype": "text/x-python",
   "name": "python",
   "nbconvert_exporter": "python",
   "pygments_lexer": "ipython3",
   "version": "3.7.4"
  }
 },
 "nbformat": 4,
 "nbformat_minor": 1
}
