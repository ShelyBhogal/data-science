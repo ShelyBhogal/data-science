{
 "cells": [
  {
   "cell_type": "markdown",
   "metadata": {},
   "source": [
    "<img src=\"https://ga-dash.s3.amazonaws.com/production/assets/logo-9f88ae6c9c3871690e33280fcf557f33.png\" style=\"float: left; margin: 20px; height: 55px\">\n",
    "\n",
    "# Introduction to Python Fundamentals II\n",
    "\n",
    "---\n"
   ]
  },
  {
   "cell_type": "markdown",
   "metadata": {},
   "source": [
    "\n",
    "### Learning Objectives\n",
    " \n",
    "#### Introduction to Python Fundamentals II: Python Iterations, Control Flow, and Functions\n",
    "\n",
    "**After this lesson, you will be able to:**\n",
    "- Import libraries  \n",
    "- Implement `for` and `while` loops to iterate through data structures.\n",
    "- Apply `if… else` conditional statements.\n",
    "- Create functions to perform repetitive actions.\n",
    "- Combine control flow and conditional statements.\n"
   ]
  },
  {
   "cell_type": "markdown",
   "metadata": {},
   "source": [
    "## 1. Libraries\n",
    "\n",
    "### 1.1 What's a library?\n",
    "\n",
    "In programming, a library is a big bundle of code snippets (or functions) that someone else has written and made freely available for other people to download and modify (open source culture again!). A single library will usually be designed to help people write code for specific applications or purposes. For example:\n",
    "\n",
    "Pandas is a library for data science\n",
    "\n",
    "Numpy is a library for numerical computing\n",
    "\n",
    "NLTK is a library for natural language processing\n",
    "\n",
    "Tensorflow is a machine learning library released by Google\n",
    "\n",
    "Let's say we have a list, and we'd like to use the statistics and/or numpy libraries to compute the median and mean of that list. The numpy and statistics libraries both offer functions that make this easy. \n"
   ]
  },
  {
   "cell_type": "code",
   "execution_count": 1,
   "metadata": {},
   "outputs": [
    {
     "data": {
      "text/plain": [
       "list"
      ]
     },
     "execution_count": 1,
     "metadata": {},
     "output_type": "execute_result"
    }
   ],
   "source": [
    "mylist = [1, 12, 15, 19, 20]\n",
    "type(mylist)"
   ]
  },
  {
   "cell_type": "markdown",
   "metadata": {},
   "source": [
    "### 1.2 Importing libraries\n",
    "\n",
    "Before Python can access a library's functions, we need to **import** or 'load' the library. \n",
    "\n",
    "There are several ways to import libraries.\n",
    "\n",
    "Avoid importing libraries like this, it's clunky and ugly and wastes time:"
   ]
  },
  {
   "cell_type": "code",
   "execution_count": 2,
   "metadata": {},
   "outputs": [
    {
     "data": {
      "text/plain": [
       "15.0"
      ]
     },
     "execution_count": 2,
     "metadata": {},
     "output_type": "execute_result"
    }
   ],
   "source": [
    "import numpy\n",
    "\n",
    "numpy.median(mylist)"
   ]
  },
  {
   "cell_type": "markdown",
   "metadata": {},
   "source": [
    "This will also work, but can lead to confusion with other libraries/you don't know where the function has come from:"
   ]
  },
  {
   "cell_type": "code",
   "execution_count": 3,
   "metadata": {},
   "outputs": [
    {
     "data": {
      "text/plain": [
       "15"
      ]
     },
     "execution_count": 3,
     "metadata": {},
     "output_type": "execute_result"
    }
   ],
   "source": [
    "from numpy import *\n",
    "from statistics import *\n",
    "\n",
    "median(mylist)"
   ]
  },
  {
   "cell_type": "markdown",
   "metadata": {},
   "source": [
    "This is best practise:"
   ]
  },
  {
   "cell_type": "code",
   "execution_count": 4,
   "metadata": {},
   "outputs": [
    {
     "name": "stdout",
     "output_type": "stream",
     "text": [
      "15.0\n",
      "13.4\n"
     ]
    }
   ],
   "source": [
    "import numpy as np\n",
    "\n",
    "print(np.median(mylist))\n",
    "print(np.mean(mylist))"
   ]
  },
  {
   "cell_type": "markdown",
   "metadata": {},
   "source": [
    "**Usually, all the library imports will happen at the very top of a Python notebook or script, but for the purposes of this class this won't be the case**"
   ]
  },
  {
   "cell_type": "markdown",
   "metadata": {},
   "source": [
    "### Exercises\n",
    "\n",
    "### 1) Import the 'statistics' library as 'stats'\n",
    "\n",
    "### 2) Use ``stats.mean()`` and ``stats.median()`` to calculate the mean and median of ``mylist``\n",
    "\n",
    "Check whether the result is the same compared to numpy."
   ]
  },
  {
   "cell_type": "code",
   "execution_count": 5,
   "metadata": {},
   "outputs": [
    {
     "name": "stdout",
     "output_type": "stream",
     "text": [
      "NumPy mean: 13.4\n",
      "Stats mean: 13.4\n",
      "NumPy median: 15.0\n",
      "Stats median: 15\n"
     ]
    }
   ],
   "source": [
    "import statistics as stats\n",
    "\n",
    "print(\"NumPy mean:\", np.mean(mylist))\n",
    "print(\"Stats mean:\", stats.mean(mylist))\n",
    "\n",
    "print(\"NumPy median:\", np.median(mylist))\n",
    "print(\"Stats median:\", stats.median(mylist))"
   ]
  },
  {
   "cell_type": "code",
   "execution_count": 6,
   "metadata": {},
   "outputs": [
    {
     "data": {
      "text/plain": [
       "numpy.float64"
      ]
     },
     "execution_count": 6,
     "metadata": {},
     "output_type": "execute_result"
    }
   ],
   "source": [
    "type(np.median(mylist))"
   ]
  },
  {
   "cell_type": "code",
   "execution_count": 7,
   "metadata": {},
   "outputs": [
    {
     "data": {
      "text/plain": [
       "int"
      ]
     },
     "execution_count": 7,
     "metadata": {},
     "output_type": "execute_result"
    }
   ],
   "source": [
    "type(stats.median(mylist))"
   ]
  },
  {
   "cell_type": "markdown",
   "metadata": {},
   "source": [
    "## 2. If statements"
   ]
  },
  {
   "cell_type": "code",
   "execution_count": 8,
   "metadata": {},
   "outputs": [
    {
     "data": {
      "text/plain": [
       "True"
      ]
     },
     "execution_count": 8,
     "metadata": {},
     "output_type": "execute_result"
    }
   ],
   "source": [
    "# Every value is True or False hence why outcome is True\n",
    "True or False"
   ]
  },
  {
   "cell_type": "code",
   "execution_count": 9,
   "metadata": {},
   "outputs": [
    {
     "data": {
      "text/plain": [
       "True"
      ]
     },
     "execution_count": 9,
     "metadata": {},
     "output_type": "execute_result"
    }
   ],
   "source": [
    "# True or False\n",
    "(5 > 3) or False "
   ]
  },
  {
   "cell_type": "code",
   "execution_count": 10,
   "metadata": {},
   "outputs": [
    {
     "data": {
      "text/plain": [
       "True"
      ]
     },
     "execution_count": 10,
     "metadata": {},
     "output_type": "execute_result"
    }
   ],
   "source": [
    "# True or True\n",
    "(6 >= 6) or (5 > 3) "
   ]
  },
  {
   "cell_type": "code",
   "execution_count": 11,
   "metadata": {},
   "outputs": [
    {
     "data": {
      "text/plain": [
       "False"
      ]
     },
     "execution_count": 11,
     "metadata": {},
     "output_type": "execute_result"
    }
   ],
   "source": [
    "# not(True)\n",
    "not((6 >= 6) or (5 > 3)) "
   ]
  },
  {
   "cell_type": "markdown",
   "metadata": {},
   "source": [
    "### 2.1 The simple ``if`` statement"
   ]
  },
  {
   "cell_type": "markdown",
   "metadata": {},
   "source": [
    "The simplest example of a control structure is the `if` statement."
   ]
  },
  {
   "cell_type": "code",
   "execution_count": 12,
   "metadata": {},
   "outputs": [
    {
     "name": "stdout",
     "output_type": "stream",
     "text": [
      "The integer 1 is equal to the integer 1.\n",
      "And the next indented line ran, too!\n"
     ]
    }
   ],
   "source": [
    "if 1 == 1:\n",
    "    print('The integer 1 is equal to the integer 1.')\n",
    "    print('And the next indented line ran, too!')"
   ]
  },
  {
   "cell_type": "code",
   "execution_count": 13,
   "metadata": {},
   "outputs": [
    {
     "name": "stdout",
     "output_type": "stream",
     "text": [
      "---\n",
      "This line is not indented, so if statement evaluated to False\n"
     ]
    }
   ],
   "source": [
    "# This evaluates as false because the strings don't match\n",
    "if 'one' == 'two': \n",
    "    print(\"The string 'one' is equal to the string 'two'\")\n",
    "\n",
    "print('---')\n",
    "print('This line is not indented, so if statement evaluated to False')"
   ]
  },
  {
   "cell_type": "markdown",
   "metadata": {},
   "source": [
    "In Python, **indentation matters**! This is especially true when we look at the control structures in this lesson. In each case, a block of indented code is only sometimes run. There will always be a condition in the line preceding the indented block that determines whether the indented code is run or skipped.\n",
    "\n",
    "Notice that, in Python, the line before every indented block must end with a colon (`:`). In fact, it turns out that the `if` statement has a very specific syntax.\n",
    "\n",
    "```if <expression>:\n",
    "    <one or more indented lines>```\n",
    "\n",
    "When the `if` statement is run, the expression is evaluated to `True` or `False` by applying the built-in `bool()` function to it. If the expression evaluates to `True`, the code block is run; otherwise, it is skipped."
   ]
  },
  {
   "cell_type": "markdown",
   "metadata": {},
   "source": [
    "### ``if...else`` statements\n",
    "\n",
    "In many cases, you may want to run some code if the expression evaluates to `True` and some different code if it evaluates to `False`. This is done using `else`. Note how it is at the same indentation level as the `if` statement, followed by a colon, followed by a code block. Let's see it in action."
   ]
  },
  {
   "cell_type": "code",
   "execution_count": 14,
   "metadata": {},
   "outputs": [
    {
     "name": "stdout",
     "output_type": "stream",
     "text": [
      "50 >= 30\n",
      "The else code block was run instead of the first block\n",
      "---\n",
      "These two lines are not indented, so they always run\n"
     ]
    }
   ],
   "source": [
    "if 50 < 30:\n",
    "    print(\"50 < 30\")\n",
    "else:\n",
    "    print(\"50 >= 30\")\n",
    "    print(\"The else code block was run instead of the first block\")\n",
    "\n",
    "print('---')\n",
    "print('These two lines are not indented, so they always run')"
   ]
  },
  {
   "cell_type": "markdown",
   "metadata": {},
   "source": [
    "### `if` ... `elif` ... `else` statements\n",
    "\n",
    "Sometimes, you might want to run one specific code block out of several. For example, perhaps we provide the user with three choices and want something different to happen with each one.\n",
    "\n",
    "`elif` stands for `else if`. It belongs on a line between the initial `if` statement and an (optional) `else`. "
   ]
  },
  {
   "cell_type": "code",
   "execution_count": 15,
   "metadata": {},
   "outputs": [
    {
     "name": "stdout",
     "output_type": "stream",
     "text": [
      "Your health is low\n",
      "Please see a doctor now, call 111\n",
      "---\n",
      "These two lines are not indented, so they are always run next\n"
     ]
    }
   ],
   "source": [
    "health = 39\n",
    "\n",
    "if health > 70:\n",
    "    print('You are in great health, no corona for you!')\n",
    "if health > 40:\n",
    "    print('Your health is average')\n",
    "    print('Exercise and eat healthily!')\n",
    "else:\n",
    "    print('Your health is low')\n",
    "    print('Please see a doctor now, call 111')\n",
    "\n",
    "    print('---')\n",
    "    print('These two lines are not indented, so they are always run next')"
   ]
  },
  {
   "cell_type": "markdown",
   "metadata": {},
   "source": [
    "This code works by evaluating each condition in order. If a condition evaluates to `True`, the rest are skipped.\n",
    "\n",
    "**Let's walk through the code.** First, we let `health = 55`. We move to the next line at the same indentation level — the `if`. We evaluate `health > 70` to be `False`, so its code block is skipped. Next, the interpreter moves to the next line at the same outer indentation level, which happens to be the `elif`. It evaluates its expression, `health > 40`, to be `True`, so its code block is run. Now, because a code block was run, the rest of the `if` statement is skipped.\n",
    "\n",
    "![](if-flow.png)"
   ]
  },
  {
   "cell_type": "markdown",
   "metadata": {},
   "source": [
    "### 2.2 Boolean logic and comparison operators\n",
    "\n",
    "Logical operators allow us to assess the whether a statement is true or false. This is especially useful when combined with flow control.\n",
    "\n",
    "'True' and 'False' are the only two values of a special Python type called a 'Boolean' or 'bool' for short, used for representing whether something is true or not. \n",
    "\n",
    "In any ``if`` statement, we can make further choices depending on the outcome of a test. \n",
    "\n",
    "Just like the '+' operator takes two numbers and returns an integer value, other operators like '<', '>' and '==' take two integers (or floats, or strings) and return a Boolean. "
   ]
  },
  {
   "cell_type": "code",
   "execution_count": 16,
   "metadata": {},
   "outputs": [
    {
     "data": {
      "text/plain": [
       "True"
      ]
     },
     "execution_count": 16,
     "metadata": {},
     "output_type": "execute_result"
    }
   ],
   "source": [
    "# Asking the question, is 6 less than 10?\n",
    "6 < 10 "
   ]
  },
  {
   "cell_type": "code",
   "execution_count": 17,
   "metadata": {},
   "outputs": [
    {
     "data": {
      "text/plain": [
       "False"
      ]
     },
     "execution_count": 17,
     "metadata": {},
     "output_type": "execute_result"
    }
   ],
   "source": [
    "8 > 10 "
   ]
  },
  {
   "cell_type": "code",
   "execution_count": 18,
   "metadata": {},
   "outputs": [
    {
     "data": {
      "text/plain": [
       "False"
      ]
     },
     "execution_count": 18,
     "metadata": {},
     "output_type": "execute_result"
    }
   ],
   "source": [
    "5 == 10"
   ]
  },
  {
   "cell_type": "code",
   "execution_count": 19,
   "metadata": {},
   "outputs": [
    {
     "data": {
      "text/plain": [
       "True"
      ]
     },
     "execution_count": 19,
     "metadata": {},
     "output_type": "execute_result"
    }
   ],
   "source": [
    "10 != 6 "
   ]
  },
  {
   "cell_type": "code",
   "execution_count": 20,
   "metadata": {},
   "outputs": [
    {
     "data": {
      "text/plain": [
       "bool"
      ]
     },
     "execution_count": 20,
     "metadata": {},
     "output_type": "execute_result"
    }
   ],
   "source": [
    "type(10 == 10)"
   ]
  },
  {
   "cell_type": "markdown",
   "metadata": {},
   "source": [
    "#### The ``and`` operator"
   ]
  },
  {
   "cell_type": "markdown",
   "metadata": {},
   "source": [
    "Boolean types have their own arithmetic just like ordinary numbers. Numbers have arithmetic operations +, –, $\\times$, $\\div$. What operations do Booleans have?\n",
    "\n",
    "The first operation is the **and** operator.\n",
    "\n",
    "The result of A **and** B will be true ONLY if both A and B are True\n",
    "\n",
    "True **and** True $\\longrightarrow$ True \n",
    "\n",
    "True **and** False $\\longrightarrow$ False \n",
    "\n",
    "False **and** True $\\longrightarrow$ False \n",
    "\n",
    "False **and** False $\\longrightarrow$ False\n",
    "\n",
    "The **and** of two booleans values is True if (and only if) both its inputs are True. If either is False then its output is False."
   ]
  },
  {
   "cell_type": "code",
   "execution_count": 21,
   "metadata": {},
   "outputs": [
    {
     "data": {
      "text/plain": [
       "True"
      ]
     },
     "execution_count": 21,
     "metadata": {},
     "output_type": "execute_result"
    }
   ],
   "source": [
    "5 < 10 and 6 < 8"
   ]
  },
  {
   "cell_type": "markdown",
   "metadata": {},
   "source": [
    "Let's see what's happening here. 5 < 10  ⟶  True **and** 6 < 8  ⟶  True, hence the result is True."
   ]
  },
  {
   "cell_type": "code",
   "execution_count": 22,
   "metadata": {},
   "outputs": [
    {
     "data": {
      "text/plain": [
       "False"
      ]
     },
     "execution_count": 22,
     "metadata": {},
     "output_type": "execute_result"
    }
   ],
   "source": [
    "5 != 10 and 6 > 8"
   ]
  },
  {
   "cell_type": "markdown",
   "metadata": {},
   "source": [
    "A similar breakdown gives 5 $\\neq$ 10 $\\longrightarrow$ True **and** 6 > 8 $\\longrightarrow$ False, hence the result is False."
   ]
  },
  {
   "cell_type": "markdown",
   "metadata": {},
   "source": [
    "#### The ``or`` operator\n",
    "\n",
    "Now let's look at the **or** operator\n",
    "\n",
    "The result of the **or** operator is true if either of the inputs is true.\n",
    "\n",
    "True **or** True $\\longrightarrow$ True \n",
    "\n",
    "True **or** False $\\longrightarrow$ True \n",
    "\n",
    "False **or** True $\\longrightarrow$ True \n",
    "\n",
    "False **or** False $\\longrightarrow$ False\n",
    "\n",
    "The results of this operation is True if either of its inputs are True and False only if both its inputs are False."
   ]
  },
  {
   "cell_type": "code",
   "execution_count": 23,
   "metadata": {},
   "outputs": [
    {
     "data": {
      "text/plain": [
       "True"
      ]
     },
     "execution_count": 23,
     "metadata": {},
     "output_type": "execute_result"
    }
   ],
   "source": [
    "# This reduces to 'True or True'\n",
    "5 < 10 or 6 < 8 "
   ]
  },
  {
   "cell_type": "code",
   "execution_count": 24,
   "metadata": {},
   "outputs": [
    {
     "data": {
      "text/plain": [
       "True"
      ]
     },
     "execution_count": 24,
     "metadata": {},
     "output_type": "execute_result"
    }
   ],
   "source": [
    "# This reduces to 'True or False'\n",
    "5 != 10 or 6 > 8 "
   ]
  },
  {
   "cell_type": "code",
   "execution_count": 25,
   "metadata": {},
   "outputs": [
    {
     "data": {
      "text/plain": [
       "False"
      ]
     },
     "execution_count": 25,
     "metadata": {},
     "output_type": "execute_result"
    }
   ],
   "source": [
    "# This reduces to 'False or False'\n",
    "5 == 10 or 6 > 8 "
   ]
  },
  {
   "cell_type": "markdown",
   "metadata": {},
   "source": [
    "#### The ``not`` operator\n",
    "\n",
    "The final operation is **not**. This takes only one input and “flips” it. True becomes False and vice versa.\n",
    "\n",
    "**not** True $\\longrightarrow$ False \n",
    "\n",
    "**not** False $\\longrightarrow$ True "
   ]
  },
  {
   "cell_type": "code",
   "execution_count": 26,
   "metadata": {},
   "outputs": [
    {
     "data": {
      "text/plain": [
       "True"
      ]
     },
     "execution_count": 26,
     "metadata": {},
     "output_type": "execute_result"
    }
   ],
   "source": [
    "# Evaluates to not False\n",
    "not 6 > 7 "
   ]
  },
  {
   "cell_type": "code",
   "execution_count": 27,
   "metadata": {},
   "outputs": [
    {
     "data": {
      "text/plain": [
       "False"
      ]
     },
     "execution_count": 27,
     "metadata": {},
     "output_type": "execute_result"
    }
   ],
   "source": [
    "# Evaluates to not True\n",
    "not 5 != 10 "
   ]
  },
  {
   "cell_type": "markdown",
   "metadata": {},
   "source": [
    "### Exercises\n",
    "\n",
    "### 1) Odd or even?\n",
    "\n",
    "Write code that uses the 'input' function to get an integer from the user. If the integer is even, the output should be \"even!\" and if the integer is odd, the output should be \"odd!\"\n",
    "\n",
    "To do this, you will need the % operator"
   ]
  },
  {
   "cell_type": "code",
   "execution_count": 28,
   "metadata": {},
   "outputs": [
    {
     "name": "stdout",
     "output_type": "stream",
     "text": [
      "Enter user integer here 5\n",
      "5\n"
     ]
    }
   ],
   "source": [
    "my_number = input('Enter user integer here ')\n",
    "\n",
    "print(my_number)"
   ]
  },
  {
   "cell_type": "code",
   "execution_count": 29,
   "metadata": {},
   "outputs": [
    {
     "name": "stdout",
     "output_type": "stream",
     "text": [
      "odd!\n"
     ]
    }
   ],
   "source": [
    "my_int_number = int(my_number)\n",
    "\n",
    "if my_int_number % 2 == 0:\n",
    "    print(\"even!\")\n",
    "else:\n",
    "    print(\"odd!\")"
   ]
  },
  {
   "cell_type": "code",
   "execution_count": 30,
   "metadata": {},
   "outputs": [
    {
     "data": {
      "text/plain": [
       "str"
      ]
     },
     "execution_count": 30,
     "metadata": {},
     "output_type": "execute_result"
    }
   ],
   "source": [
    "type(my_number)"
   ]
  },
  {
   "cell_type": "markdown",
   "metadata": {},
   "source": [
    "### 2) Write an `if… else` statement to check whether or not a suitcase weighs more than 50 pounds.\n",
    "\n",
    "Print a message indicating whether or not the suitcase weighs more than 50 pounds.\n",
    "\n",
    "This is our first encounter with the ``input`` function, which can be used to get an input from the user.\n",
    "\n",
    "Enter a quantity into the text box and hit ``enter``. \n",
    "\n",
    "**Note that the text entered by the user is always interpreted as a string, and needs to be explicitly converted to a float if needed**"
   ]
  },
  {
   "cell_type": "code",
   "execution_count": 31,
   "metadata": {},
   "outputs": [
    {
     "name": "stdout",
     "output_type": "stream",
     "text": [
      "How many pounds does your suitcase weigh?49\n",
      "This is perfect\n"
     ]
    }
   ],
   "source": [
    "weight = float((input(\"How many pounds does your suitcase weigh?\")))\n",
    "\n",
    "if weight > 50:\n",
    "    print(\"This is too heavy!\")\n",
    "else:\n",
    "    print(\"This is perfect\")"
   ]
  },
  {
   "cell_type": "code",
   "execution_count": 32,
   "metadata": {},
   "outputs": [
    {
     "data": {
      "text/plain": [
       "float"
      ]
     },
     "execution_count": 32,
     "metadata": {},
     "output_type": "execute_result"
    }
   ],
   "source": [
    "type(weight)"
   ]
  },
  {
   "cell_type": "markdown",
   "metadata": {},
   "source": [
    "### 3) Write an `if… else` statement for multiple conditions.\n",
    "\n",
    "Print out these recommendations based on the weather conditions:\n",
    "\n",
    "1) The temperature is higher than 16 degrees celsius and it is raining: Bring an umbrella.\n",
    "\n",
    "2) The temperature is lower than or equal to 16 degrees and it is raining: Bring an umbrella and a jacket.\n",
    "\n",
    "3) The temperature is higher than 16 degrees and the sun is shining: Wear a T-shirt.\n",
    "\n",
    "4) The temperature is lower than or equal to 16 degrees and the sun is shining: Bring a jacket."
   ]
  },
  {
   "cell_type": "code",
   "execution_count": 34,
   "metadata": {},
   "outputs": [
    {
     "name": "stdout",
     "output_type": "stream",
     "text": [
      "What is the temperature? 19\n",
      "What is the weather (rain or shine)? rain\n",
      "Bring an umbrella\n"
     ]
    }
   ],
   "source": [
    "temperature = float(eval(input('What is the temperature? ')))\n",
    "weather = input('What is the weather (rain or shine)? ')\n",
    "\n",
    "if (temperature > 16) and (weather == \"rain\"):\n",
    "    print(\"Bring an umbrella\")\n",
    "elif (temperature <= 16) and (weather == \"rain\"):\n",
    "    print(\"Bring an umbrella and jumper\")\n",
    "elif (temperature > 16) and (weather == \"shine\"):\n",
    "    print(\"Wear a t-shirt\")\n",
    "elif (temperature <= 16) and (weather == \"shine\"):\n",
    "    print(\"Bring a jumper\")\n",
    "else:\n",
    "    print(\"Wear nothing!\")"
   ]
  },
  {
   "cell_type": "markdown",
   "metadata": {},
   "source": [
    "## 3. ``for`` loops"
   ]
  },
  {
   "cell_type": "markdown",
   "metadata": {},
   "source": [
    "One of the primary purposes of using a programming language is to automate repetitive tasks. One such means in Python is the `for` loop.\n",
    "\n",
    "The `for` loop allows you to perform a task repeatedly on every element within an object, such as every name in a list.\n",
    "\n",
    "\n",
    "Let's see how the pseudocode works:\n",
    "\n",
    "```python\n",
    "# For each individual object in the list\n",
    "    # perform task_A on said object.\n",
    "    # Once task_A has been completed, move to next object in the list.\n",
    "```\n",
    "\n",
    "This process of cycling through a list item by item is known as \"iteration.\" \n",
    "\n",
    "<span style=\"color:blue\">for</span> loops begin with <span style=\"color:blue\">for</span> item in an iterable object:, and the generic structure of a <span style=\"color:blue\">for</span> loop is\n",
    "\n",
    "<span style=\"color:blue\">for</span> item <span style=\"color:blue\">in</span> iterable:\n",
    "    \n",
    "    Code to run\n",
    "    \n",
    "    \n",
    "item is an element from iterable.\n",
    "\n",
    "An iterable is any type in Python that has multiple elements that can be looped over; the most common iterables are *range*, *list*, *tuple*, arrays or matrices. \n",
    "\n",
    "The <span style=\"color:blue\">for</span> loop will iterate across all items in iterable, beginning with item 0 and continuing until the final element.\n",
    "\n",
    "Here are some examples of <span style=\"color:blue\">for</span> loops which loop over different types of iterables."
   ]
  },
  {
   "cell_type": "code",
   "execution_count": 35,
   "metadata": {},
   "outputs": [
    {
     "data": {
      "text/plain": [
       "[0, 1, 2, 3, 4, 5, 6, 7, 8, 9, 10, 11]"
      ]
     },
     "execution_count": 35,
     "metadata": {},
     "output_type": "execute_result"
    }
   ],
   "source": [
    "list(range(12))"
   ]
  },
  {
   "cell_type": "code",
   "execution_count": 36,
   "metadata": {},
   "outputs": [
    {
     "name": "stdout",
     "output_type": "stream",
     "text": [
      "2\n",
      "3\n",
      "4\n",
      "5\n",
      "6\n",
      "7\n",
      "8\n",
      "9\n",
      "10\n",
      "11\n",
      "12\n",
      "13\n"
     ]
    }
   ],
   "source": [
    "for element in (range(12)):\n",
    "    print(element + 2)"
   ]
  },
  {
   "cell_type": "code",
   "execution_count": 37,
   "metadata": {},
   "outputs": [
    {
     "name": "stdout",
     "output_type": "stream",
     "text": [
      "mary\n",
      "had\n",
      "a\n",
      "little\n",
      "lamb\n"
     ]
    }
   ],
   "source": [
    "for word in [\"mary\", \"had\", \"a\", \"little\",\"lamb\"]:\n",
    "    print(word)"
   ]
  },
  {
   "cell_type": "code",
   "execution_count": 38,
   "metadata": {},
   "outputs": [
    {
     "name": "stdout",
     "output_type": "stream",
     "text": [
      "Paul Is Awesome!\n",
      "Nathalie Is Awesome!\n",
      "Catherine Is Awesome!\n"
     ]
    }
   ],
   "source": [
    "names = ['Paul', 'Nathalie', 'Catherine']\n",
    "\n",
    "for name in names:\n",
    "    print(name + ' Is Awesome!')"
   ]
  },
  {
   "cell_type": "markdown",
   "metadata": {},
   "source": [
    "### Exercises\n",
    "\n",
    "### 1) Iterate from 1 to 15, printing whether the number is odd or even.\n",
    "\n",
    "Hint: The modulus operator, `%`, can be used to take the remainder. For example:\n",
    "\n",
    "```python\n",
    "9 % 5 == 4\n",
    "```\n",
    "\n",
    "Or, in other words, the remainder of dividing 9 by 5 is 4.\n",
    "\n",
    "### 2) Iterate from 1 to 30 using the following instructions (this could go to homework):\n",
    "\n",
    "If a number is divisible by 3, print \"fizz.\"\n",
    "If a number is divisible by 5, print \"buzz.\" \n",
    "If a number is both divisible by 3 and by 5, print \"fizzbuzz.\"\n",
    "Otherwise, print just the number."
   ]
  },
  {
   "cell_type": "code",
   "execution_count": 39,
   "metadata": {},
   "outputs": [
    {
     "name": "stdout",
     "output_type": "stream",
     "text": [
      "0 is even number\n",
      "1 is odd number\n",
      "2 is even number\n",
      "3 is odd number\n",
      "4 is even number\n",
      "5 is odd number\n",
      "6 is even number\n",
      "7 is odd number\n",
      "8 is even number\n",
      "9 is odd number\n",
      "10 is even number\n",
      "11 is odd number\n",
      "12 is even number\n",
      "13 is odd number\n",
      "14 is even number\n",
      "15 is odd number\n"
     ]
    }
   ],
   "source": [
    "for n in range(16):\n",
    "    if n % 2 == 0:\n",
    "        print(str(n) + ' is even number')\n",
    "    else:\n",
    "        print(str(n) + ' is odd number')"
   ]
  },
  {
   "cell_type": "code",
   "execution_count": 40,
   "metadata": {},
   "outputs": [
    {
     "name": "stdout",
     "output_type": "stream",
     "text": [
      "fizzbuzz\n",
      "1\n",
      "2\n",
      "fizz\n",
      "4\n",
      "buzz\n",
      "fizz\n",
      "7\n",
      "8\n",
      "fizz\n",
      "buzz\n",
      "11\n",
      "fizz\n",
      "13\n",
      "14\n",
      "fizzbuzz\n",
      "16\n",
      "17\n",
      "fizz\n",
      "19\n",
      "buzz\n",
      "fizz\n",
      "22\n",
      "23\n",
      "fizz\n",
      "buzz\n",
      "26\n",
      "fizz\n",
      "28\n",
      "29\n",
      "fizzbuzz\n"
     ]
    }
   ],
   "source": [
    "for n in range(31):\n",
    "    if (n % 3 == 0) and (n % 5 == 0):\n",
    "        print('fizzbuzz')\n",
    "    elif n % 5 == 0:\n",
    "        print('buzz')\n",
    "    elif (n % 3 == 0):\n",
    "        print('fizz')\n",
    "    else:\n",
    "        print(n)"
   ]
  },
  {
   "cell_type": "markdown",
   "metadata": {},
   "source": [
    "### 3) Iterate through the following list of endangered animals and print each one in all capitals."
   ]
  },
  {
   "cell_type": "code",
   "execution_count": 44,
   "metadata": {},
   "outputs": [],
   "source": [
    "animals_under_extinction = ['elephants', 'jaguar', 'tiger', 'coral', 'giraffe', 'sea_turtle', 'other_species_endangered']"
   ]
  },
  {
   "cell_type": "code",
   "execution_count": 45,
   "metadata": {},
   "outputs": [
    {
     "name": "stdout",
     "output_type": "stream",
     "text": [
      "ELEPHANTS\n",
      "JAGUAR\n",
      "TIGER\n",
      "CORAL\n",
      "GIRAFFE\n",
      "SEA_TURTLE\n",
      "OTHER_SPECIES_ENDANGERED\n"
     ]
    }
   ],
   "source": [
    "for animal in animals_under_extinction:\n",
    "    print(animal.upper())"
   ]
  },
  {
   "cell_type": "markdown",
   "metadata": {},
   "source": [
    "### 4) Iterate through the animals list. Capitalize the first letter and append the modified animal names to a new list. \n",
    "\n",
    "#### Do you know about the Sixth Extinction?\n",
    "The Holocene extinction, otherwise referred to as the *sixth mass extinction* or *Anthropocene extinction*, is an ongoing extinction event of species during the present Holocene epoch (with the more recent time sometimes called Anthropocene) as a result of human activity."
   ]
  },
  {
   "cell_type": "code",
   "execution_count": 46,
   "metadata": {},
   "outputs": [
    {
     "name": "stdout",
     "output_type": "stream",
     "text": [
      "['Elephants', 'Jaguar', 'Tiger', 'Coral', 'Giraffe', 'Sea_turtle', 'Other_species_endangered']\n"
     ]
    }
   ],
   "source": [
    "modified_animals = []\n",
    "for animal in animals_under_extinction:\n",
    "    modified_animals.append(animal.capitalize())\n",
    "\n",
    "print(modified_animals)"
   ]
  },
  {
   "cell_type": "markdown",
   "metadata": {},
   "source": [
    "## 4. ``while`` loops\n",
    "\n",
    "`while` loops are a different means of performing repetitive tasks/iteration. The function of a `for` loop is to perform tasks over a _finite list_. The function of a `while` loop is to perform a repetitive task until a _specific threshold or criteria point is met_. \n",
    "\n",
    "Keep in mind that this can be relatively dangerous, as it is easy to create a loop that never meets your criteria and runs forever.\n",
    "\n",
    "_We say \"list,\" but we're not just talking about a Python list data type. We're including any data type where information can be iterated through._\n",
    "\n",
    "Let's look at some pseudocode:\n",
    "\n",
    "```python\n",
    "# A threshold or criteria point is set.\n",
    "    # As long as the threshold or criteria point isn't met,\n",
    "    # perform a task.\n",
    "    # Check threshold/criteria point.\n",
    "        # If threshold/criteria point is met or exceeded,\n",
    "            # break loop.\n",
    "        # If not, repeat.\n",
    "    \n",
    "```\n",
    "\n",
    "An example of an infinite `while` loop:\n",
    "\n",
    "```python\n",
    "x = 0\n",
    "while x < 10:\n",
    "    print x\n",
    "```\n",
    "\n",
    "Because the value assigned to `x` never changes and always remains less than 10, this loop will print \"`x`\" infinitely until you force-kill the kernel. \n",
    "\n",
    "We can fix this infinity loop by including a incrementation for `x` within it.\n",
    "\n",
    "```python\n",
    "x = 0\n",
    "while x < 10:\n",
    "    print x\n",
    "    x = x+1\n",
    "```"
   ]
  },
  {
   "cell_type": "code",
   "execution_count": 47,
   "metadata": {},
   "outputs": [
    {
     "name": "stdout",
     "output_type": "stream",
     "text": [
      "1\n",
      "2\n",
      "3\n",
      "4\n",
      "5\n",
      "6\n",
      "7\n",
      "8\n",
      "9\n",
      "10\n"
     ]
    }
   ],
   "source": [
    "x = 0\n",
    "\n",
    "while x < 10:\n",
    "    x = x + 1\n",
    "    print(x)"
   ]
  },
  {
   "cell_type": "markdown",
   "metadata": {},
   "source": [
    "### Exercises\n",
    "\n",
    "### 1) Interest rates\n",
    "\n",
    "Suppose we'd like to know for how many years we have to keep 100 pounds on a savings account to reach 200 pounds due to annual payment of interest at a rate of 5%. \n",
    "\n",
    "* What's the compound interest formula?    `A = P(1 + r/n)^nt`\n",
    "\n",
    "Where *P* is initial balance\n",
    "\n",
    "where *r* is interest rate\n",
    "\n",
    "where *n* is number of times rate is applied \n",
    "\n",
    "where *t* is number of time periods\n",
    "\n",
    "* Write code using a while loop and this formula to show that this will take 15 years."
   ]
  },
  {
   "cell_type": "code",
   "execution_count": 48,
   "metadata": {},
   "outputs": [
    {
     "name": "stdout",
     "output_type": "stream",
     "text": [
      "The value of your savings after 1 years is 105.0\n",
      "The value of your savings after 2 years is 110.25\n",
      "The value of your savings after 3 years is 115.7625\n",
      "The value of your savings after 4 years is 121.550625\n",
      "The value of your savings after 5 years is 127.62815624999999\n",
      "The value of your savings after 6 years is 134.00956406249998\n",
      "The value of your savings after 7 years is 140.71004226562496\n",
      "The value of your savings after 8 years is 147.7455443789062\n",
      "The value of your savings after 9 years is 155.13282159785152\n",
      "The value of your savings after 10 years is 162.8894626777441\n",
      "The value of your savings after 11 years is 171.0339358116313\n",
      "The value of your savings after 12 years is 179.58563260221285\n",
      "The value of your savings after 13 years is 188.5649142323235\n",
      "The value of your savings after 14 years is 197.99315994393967\n",
      "The value of your savings after 15 years is 207.89281794113666\n"
     ]
    }
   ],
   "source": [
    "savings_value = 100\n",
    "year_counter = 0\n",
    "\n",
    "while(savings_value <= 200):\n",
    "    savings_value = savings_value + (0.05 * savings_value)\n",
    "    year_counter = year_counter + 1\n",
    "    \n",
    "    print('The value of your savings after %s years is %s' % (year_counter, savings_value))"
   ]
  },
  {
   "cell_type": "markdown",
   "metadata": {},
   "source": [
    "## 5. Functions"
   ]
  },
  {
   "cell_type": "markdown",
   "metadata": {},
   "source": [
    "Functions in programming are a lot like mathematical functions. They take one or more inputs, do **something** and then return one or more outputs. \n",
    "\n",
    "In Python, there are built in functions (like 'print') and library functions (like math.sqrt), but we can also write our own functions to perform more specialised tasks. \n",
    "\n",
    "A function has to be defined first, and then called. The syntax and structure to define a function must include:\n",
    "\n",
    "* The def keyword, followed by the function’s name\n",
    "* The arguments of the function are given between parentheses followed by a colon\n",
    "* The function body, correctly indented\n",
    "* Optionally, the return statement\n",
    "\n",
    "We can define a simple function to square a number as follows."
   ]
  },
  {
   "cell_type": "code",
   "execution_count": 49,
   "metadata": {},
   "outputs": [],
   "source": [
    "def square(x):\n",
    "    return x ** 2"
   ]
  },
  {
   "cell_type": "code",
   "execution_count": 50,
   "metadata": {},
   "outputs": [
    {
     "data": {
      "text/plain": [
       "16"
      ]
     },
     "execution_count": 50,
     "metadata": {},
     "output_type": "execute_result"
    }
   ],
   "source": [
    "square(4)"
   ]
  },
  {
   "cell_type": "code",
   "execution_count": 51,
   "metadata": {},
   "outputs": [],
   "source": [
    "y = square(3)"
   ]
  },
  {
   "cell_type": "code",
   "execution_count": 52,
   "metadata": {},
   "outputs": [
    {
     "data": {
      "text/plain": [
       "9"
      ]
     },
     "execution_count": 52,
     "metadata": {},
     "output_type": "execute_result"
    }
   ],
   "source": [
    "y"
   ]
  },
  {
   "cell_type": "markdown",
   "metadata": {},
   "source": [
    "You'll notice that everything inside the function definition is indented.\n",
    "\n",
    "The return statement stops the function running, and returns an output value.\n",
    "\n",
    "We can then call (or 'run') the function"
   ]
  },
  {
   "cell_type": "code",
   "execution_count": 56,
   "metadata": {},
   "outputs": [
    {
     "name": "stdout",
     "output_type": "stream",
     "text": [
      "input: 2 output: 4\n"
     ]
    }
   ],
   "source": [
    "# Call the function with parameter of our choice\n",
    "x = 2\n",
    "y = square(x)\n",
    "\n",
    "print(\"input:\", x, \"output:\", y)"
   ]
  },
  {
   "cell_type": "markdown",
   "metadata": {},
   "source": [
    "A function doesn't need a return statement, but it's useful to have one. Here's an example of a function that prints the result of a calculation but doesn't actually return any variables."
   ]
  },
  {
   "cell_type": "code",
   "execution_count": 57,
   "metadata": {},
   "outputs": [
    {
     "name": "stdout",
     "output_type": "stream",
     "text": [
      "64\n"
     ]
    }
   ],
   "source": [
    "def sixth_power(mynumber):\n",
    "    print(mynumber ** 6)\n",
    "\n",
    "    \n",
    "sixth_power(2)"
   ]
  },
  {
   "cell_type": "markdown",
   "metadata": {},
   "source": [
    "The variable names used inside a function are internal to that function only, unless they're included in the return statement. For example, the command to print 'intermediate_step' will throw an error, because that variable doesn't exist outside the cubed function"
   ]
  },
  {
   "cell_type": "code",
   "execution_count": 73,
   "metadata": {},
   "outputs": [],
   "source": [
    "def x_cubed(x):\n",
    "    intermediate_step = x * x\n",
    "    a = intermediate_step * x\n",
    "    \n",
    "    print(intermediate_step, a)"
   ]
  },
  {
   "cell_type": "code",
   "execution_count": 74,
   "metadata": {},
   "outputs": [
    {
     "name": "stdout",
     "output_type": "stream",
     "text": [
      "9 27\n"
     ]
    }
   ],
   "source": [
    "x_cubed(3)"
   ]
  },
  {
   "cell_type": "code",
   "execution_count": 75,
   "metadata": {},
   "outputs": [
    {
     "name": "stdout",
     "output_type": "stream",
     "text": [
      "16 64\n"
     ]
    },
    {
     "ename": "TypeError",
     "evalue": "cannot unpack non-iterable NoneType object",
     "output_type": "error",
     "traceback": [
      "\u001b[1;31m---------------------------------------------------------------------------\u001b[0m",
      "\u001b[1;31mTypeError\u001b[0m                                 Traceback (most recent call last)",
      "\u001b[1;32m~\\AppData\\Local\\Temp\\ipykernel_11864\\1919352476.py\u001b[0m in \u001b[0;36m<module>\u001b[1;34m\u001b[0m\n\u001b[1;32m----> 1\u001b[1;33m \u001b[0mintermediate_step\u001b[0m\u001b[1;33m,\u001b[0m \u001b[0ma\u001b[0m \u001b[1;33m=\u001b[0m \u001b[0mx_cubed\u001b[0m\u001b[1;33m(\u001b[0m\u001b[1;36m4\u001b[0m\u001b[1;33m)\u001b[0m\u001b[1;33m\u001b[0m\u001b[1;33m\u001b[0m\u001b[0m\n\u001b[0m\u001b[0;32m      2\u001b[0m \u001b[1;33m\u001b[0m\u001b[0m\n\u001b[0;32m      3\u001b[0m \u001b[0mprint\u001b[0m\u001b[1;33m(\u001b[0m\u001b[0mintermediate_step\u001b[0m\u001b[1;33m)\u001b[0m\u001b[1;33m\u001b[0m\u001b[1;33m\u001b[0m\u001b[0m\n",
      "\u001b[1;31mTypeError\u001b[0m: cannot unpack non-iterable NoneType object"
     ]
    }
   ],
   "source": [
    "intermediate_step, a = x_cubed(4)\n",
    "\n",
    "print(intermediate_step)"
   ]
  },
  {
   "cell_type": "markdown",
   "metadata": {},
   "source": [
    "If we redefine our function so that y and 'intermediate_step' are outputs, we can reference both of these variables outside the function."
   ]
  },
  {
   "cell_type": "code",
   "execution_count": 76,
   "metadata": {},
   "outputs": [],
   "source": [
    "def y_cubed(x):\n",
    "    \n",
    "    intermediate_step = x * x\n",
    "    y = intermediate_step * x\n",
    "    \n",
    "    return intermediate_step, y"
   ]
  },
  {
   "cell_type": "code",
   "execution_count": 77,
   "metadata": {},
   "outputs": [
    {
     "name": "stdout",
     "output_type": "stream",
     "text": [
      "16\n",
      "64\n"
     ]
    }
   ],
   "source": [
    "intermediate_step, y = y_cubed(4)\n",
    "\n",
    "print(intermediate_step)\n",
    "\n",
    "print(y)"
   ]
  },
  {
   "cell_type": "markdown",
   "metadata": {},
   "source": [
    "### Exercises\n",
    "\n",
    "### 1) Write a function that takes a word as an argument and returns the number of vowels in the word.\n",
    "\n",
    "Try it out on three words."
   ]
  },
  {
   "cell_type": "code",
   "execution_count": 78,
   "metadata": {},
   "outputs": [],
   "source": [
    "def number_of_vowels(word):\n",
    "    \n",
    "    # Store vowels in set datatype function because more efficient\n",
    "    vowels = set(\"aeiouAEIOU\")\n",
    "    \n",
    "    # intialising number of vowels at 0\n",
    "    number_vowels = 0\n",
    "    for char in word:\n",
    "        if char in vowels:\n",
    "            number_vowels = number_vowels + 1\n",
    "    return number_vowels\n"
   ]
  },
  {
   "cell_type": "code",
   "execution_count": 79,
   "metadata": {},
   "outputs": [
    {
     "data": {
      "text/plain": [
       "9"
      ]
     },
     "execution_count": 79,
     "metadata": {},
     "output_type": "execute_result"
    }
   ],
   "source": [
    "# Answer should be 9\n",
    "number_of_vowels(\"epizootiologies\")"
   ]
  },
  {
   "cell_type": "code",
   "execution_count": 80,
   "metadata": {},
   "outputs": [
    {
     "data": {
      "text/plain": [
       "8"
      ]
     },
     "execution_count": 80,
     "metadata": {},
     "output_type": "execute_result"
    }
   ],
   "source": [
    "# Answer should be 8\n",
    "number_of_vowels(\"onOmAtoPOEia\")"
   ]
  },
  {
   "cell_type": "code",
   "execution_count": 81,
   "metadata": {},
   "outputs": [
    {
     "data": {
      "text/plain": [
       "0"
      ]
     },
     "execution_count": 81,
     "metadata": {},
     "output_type": "execute_result"
    }
   ],
   "source": [
    "# Answer should be 0\n",
    "number_of_vowels(\"Twyndyllyngs\")"
   ]
  },
  {
   "cell_type": "markdown",
   "metadata": {},
   "source": [
    "### 2) Write a function to calculate the area of a triangle using height and width.\n",
    "\n",
    "Test it out."
   ]
  },
  {
   "cell_type": "code",
   "execution_count": 82,
   "metadata": {},
   "outputs": [],
   "source": [
    "def triangle_area(h, w):\n",
    "    area = w * h / 2\n",
    "    return area\n",
    "    "
   ]
  },
  {
   "cell_type": "code",
   "execution_count": 84,
   "metadata": {},
   "outputs": [
    {
     "name": "stdout",
     "output_type": "stream",
     "text": [
      "Area of triangle is 47.5\n"
     ]
    }
   ],
   "source": [
    "print(\"Area of triangle is\", triangle_area(19, 5))"
   ]
  },
  {
   "cell_type": "markdown",
   "metadata": {},
   "source": [
    "## Lesson Summary\n",
    "\n",
    "\n",
    "Let's review what we learned today. We:\n",
    "\n",
    "- Reviewed `Python` control flow and conditional programming. \n",
    "- Implemented `for` and `while` loops to iterate through data structures.\n",
    "- Applied `if… else` conditional statements.\n",
    "- Created functions to perform repetitive actions.\n",
    "- Combined control flow and conditional statements to solve the classic \"FizzBuzz\" code challenge.\n",
    "\n"
   ]
  },
  {
   "cell_type": "code",
   "execution_count": 85,
   "metadata": {},
   "outputs": [],
   "source": [
    "# Example of function requiring user input\n",
    "def hello():\n",
    "    name = input(\"Enter your name: \")\n",
    "    if name:\n",
    "        print(\"Hello\", name)\n",
    "    else:\n",
    "        print(\"Hello nobody\")\n",
    "    return\n"
   ]
  },
  {
   "cell_type": "code",
   "execution_count": 86,
   "metadata": {},
   "outputs": [
    {
     "name": "stdout",
     "output_type": "stream",
     "text": [
      "Enter your name: Zool\n",
      "Hello Zool\n"
     ]
    }
   ],
   "source": [
    "hello()"
   ]
  },
  {
   "cell_type": "code",
   "execution_count": 87,
   "metadata": {},
   "outputs": [
    {
     "name": "stdout",
     "output_type": "stream",
     "text": [
      "Enter your name: \n",
      "Hello nobody\n"
     ]
    }
   ],
   "source": [
    "hello()"
   ]
  },
  {
   "cell_type": "code",
   "execution_count": null,
   "metadata": {},
   "outputs": [],
   "source": []
  }
 ],
 "metadata": {
  "anaconda-cloud": {},
  "kernelspec": {
   "display_name": "Python 3 (ipykernel)",
   "language": "python",
   "name": "python3"
  },
  "language_info": {
   "codemirror_mode": {
    "name": "ipython",
    "version": 3
   },
   "file_extension": ".py",
   "mimetype": "text/x-python",
   "name": "python",
   "nbconvert_exporter": "python",
   "pygments_lexer": "ipython3",
   "version": "3.7.4"
  }
 },
 "nbformat": 4,
 "nbformat_minor": 2
}
