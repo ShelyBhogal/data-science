{
 "cells": [
  {
   "cell_type": "code",
   "execution_count": 1,
   "id": "e48ee3a9",
   "metadata": {},
   "outputs": [],
   "source": [
    "import pandas as pd\n",
    "import seaborn as sns\n",
    "import numpy as np\n",
    "import math\n",
    "import matplotlib.pyplot as plt\n",
    "\n",
    "# ipywidgets used to interact with graphs\n",
    "from ipywidgets import interact\n",
    "\n",
    "# Increase default figure and font sizes for easier viewing\n",
    "plt.rcParams['figure.figsize'] = (8, 6)\n",
    "plt.rcParams['font.size'] = 14\n",
    "plt.style.use('fivethirtyeight')\n",
    "\n",
    "# This makes sure that graphs render in your notebook\n",
    "%matplotlib inline"
   ]
  },
  {
   "cell_type": "code",
   "execution_count": 3,
   "id": "4dfe4ef4",
   "metadata": {},
   "outputs": [
    {
     "data": {
      "text/html": [
       "<div>\n",
       "<style scoped>\n",
       "    .dataframe tbody tr th:only-of-type {\n",
       "        vertical-align: middle;\n",
       "    }\n",
       "\n",
       "    .dataframe tbody tr th {\n",
       "        vertical-align: top;\n",
       "    }\n",
       "\n",
       "    .dataframe thead th {\n",
       "        text-align: right;\n",
       "    }\n",
       "</style>\n",
       "<table border=\"1\" class=\"dataframe\">\n",
       "  <thead>\n",
       "    <tr style=\"text-align: right;\">\n",
       "      <th></th>\n",
       "      <th>longitude</th>\n",
       "      <th>latitude</th>\n",
       "      <th>housing_median_age</th>\n",
       "      <th>total_rooms</th>\n",
       "      <th>total_bedrooms</th>\n",
       "      <th>population</th>\n",
       "      <th>households</th>\n",
       "      <th>median_income</th>\n",
       "      <th>median_house_value</th>\n",
       "      <th>ocean_proximity</th>\n",
       "    </tr>\n",
       "  </thead>\n",
       "  <tbody>\n",
       "    <tr>\n",
       "      <th>0</th>\n",
       "      <td>-122.23</td>\n",
       "      <td>37.88</td>\n",
       "      <td>41.0</td>\n",
       "      <td>880.0</td>\n",
       "      <td>129.0</td>\n",
       "      <td>322.0</td>\n",
       "      <td>126.0</td>\n",
       "      <td>8.3252</td>\n",
       "      <td>452600.0</td>\n",
       "      <td>NEAR BAY</td>\n",
       "    </tr>\n",
       "    <tr>\n",
       "      <th>1</th>\n",
       "      <td>-122.22</td>\n",
       "      <td>37.86</td>\n",
       "      <td>21.0</td>\n",
       "      <td>7099.0</td>\n",
       "      <td>1106.0</td>\n",
       "      <td>2401.0</td>\n",
       "      <td>1138.0</td>\n",
       "      <td>8.3014</td>\n",
       "      <td>358500.0</td>\n",
       "      <td>NEAR BAY</td>\n",
       "    </tr>\n",
       "    <tr>\n",
       "      <th>2</th>\n",
       "      <td>-122.24</td>\n",
       "      <td>37.85</td>\n",
       "      <td>52.0</td>\n",
       "      <td>1467.0</td>\n",
       "      <td>190.0</td>\n",
       "      <td>496.0</td>\n",
       "      <td>177.0</td>\n",
       "      <td>7.2574</td>\n",
       "      <td>352100.0</td>\n",
       "      <td>NEAR BAY</td>\n",
       "    </tr>\n",
       "    <tr>\n",
       "      <th>3</th>\n",
       "      <td>-122.25</td>\n",
       "      <td>37.85</td>\n",
       "      <td>52.0</td>\n",
       "      <td>1274.0</td>\n",
       "      <td>235.0</td>\n",
       "      <td>558.0</td>\n",
       "      <td>219.0</td>\n",
       "      <td>5.6431</td>\n",
       "      <td>341300.0</td>\n",
       "      <td>NEAR BAY</td>\n",
       "    </tr>\n",
       "    <tr>\n",
       "      <th>4</th>\n",
       "      <td>-122.25</td>\n",
       "      <td>37.85</td>\n",
       "      <td>52.0</td>\n",
       "      <td>1627.0</td>\n",
       "      <td>280.0</td>\n",
       "      <td>565.0</td>\n",
       "      <td>259.0</td>\n",
       "      <td>3.8462</td>\n",
       "      <td>342200.0</td>\n",
       "      <td>NEAR BAY</td>\n",
       "    </tr>\n",
       "  </tbody>\n",
       "</table>\n",
       "</div>"
      ],
      "text/plain": [
       "   longitude  latitude  housing_median_age  total_rooms  total_bedrooms  \\\n",
       "0    -122.23     37.88                41.0        880.0           129.0   \n",
       "1    -122.22     37.86                21.0       7099.0          1106.0   \n",
       "2    -122.24     37.85                52.0       1467.0           190.0   \n",
       "3    -122.25     37.85                52.0       1274.0           235.0   \n",
       "4    -122.25     37.85                52.0       1627.0           280.0   \n",
       "\n",
       "   population  households  median_income  median_house_value ocean_proximity  \n",
       "0       322.0       126.0         8.3252            452600.0        NEAR BAY  \n",
       "1      2401.0      1138.0         8.3014            358500.0        NEAR BAY  \n",
       "2       496.0       177.0         7.2574            352100.0        NEAR BAY  \n",
       "3       558.0       219.0         5.6431            341300.0        NEAR BAY  \n",
       "4       565.0       259.0         3.8462            342200.0        NEAR BAY  "
      ]
     },
     "execution_count": 3,
     "metadata": {},
     "output_type": "execute_result"
    }
   ],
   "source": [
    "housing = pd.read_csv('./data/housing.csv')\n",
    "\n",
    "# Replace NaN values with mean value of total bedrooms column\n",
    "housing['total_bedrooms'].fillna(value=538, inplace=True)\n",
    "\n",
    "housing.head()"
   ]
  },
  {
   "cell_type": "markdown",
   "id": "92f1f122",
   "metadata": {},
   "source": [
    "The data pertains to the houses found in a given California district and some summary stats about them based on the 1990 census data. It contains the median house prices for California districts ('median_house_value' column).\n",
    "\n",
    "The other columns are self-explanatory:\n",
    "* **longitude and latitude** are measures of how far west and north the houses are\n",
    "* **housing median age** is the median age of a house within a block (a lower number is a newer building)\n",
    "* **total rooms** is the total number of rooms within a block\n",
    "* **total bedrooms** is the total number of bedrooms within a block\n",
    "* **population** is the number of people living within a block\n",
    "* **households** is the number of households within a block\n",
    "* **median income** is the median income value for households within a block (measured in 10,000 dollars)\n",
    "* **median house value** is the median house price for homes within a block (*target variable*)\n",
    "* **ocean proximity** is the proximity of house to the sea"
   ]
  },
  {
   "cell_type": "code",
   "execution_count": 4,
   "id": "e32b1d83",
   "metadata": {},
   "outputs": [
    {
     "data": {
      "text/html": [
       "<div>\n",
       "<style scoped>\n",
       "    .dataframe tbody tr th:only-of-type {\n",
       "        vertical-align: middle;\n",
       "    }\n",
       "\n",
       "    .dataframe tbody tr th {\n",
       "        vertical-align: top;\n",
       "    }\n",
       "\n",
       "    .dataframe thead th {\n",
       "        text-align: right;\n",
       "    }\n",
       "</style>\n",
       "<table border=\"1\" class=\"dataframe\">\n",
       "  <thead>\n",
       "    <tr style=\"text-align: right;\">\n",
       "      <th></th>\n",
       "      <th>longitude</th>\n",
       "      <th>latitude</th>\n",
       "      <th>housing_median_age</th>\n",
       "      <th>total_rooms</th>\n",
       "      <th>total_bedrooms</th>\n",
       "      <th>population</th>\n",
       "      <th>households</th>\n",
       "      <th>median_income</th>\n",
       "      <th>median_house_value</th>\n",
       "    </tr>\n",
       "  </thead>\n",
       "  <tbody>\n",
       "    <tr>\n",
       "      <th>count</th>\n",
       "      <td>20640.000000</td>\n",
       "      <td>20640.000000</td>\n",
       "      <td>20640.000000</td>\n",
       "      <td>20640.000000</td>\n",
       "      <td>20640.000000</td>\n",
       "      <td>20640.000000</td>\n",
       "      <td>20640.000000</td>\n",
       "      <td>20640.000000</td>\n",
       "      <td>20640.000000</td>\n",
       "    </tr>\n",
       "    <tr>\n",
       "      <th>mean</th>\n",
       "      <td>-119.569704</td>\n",
       "      <td>35.631861</td>\n",
       "      <td>28.639486</td>\n",
       "      <td>2635.763081</td>\n",
       "      <td>537.871851</td>\n",
       "      <td>1425.476744</td>\n",
       "      <td>499.539680</td>\n",
       "      <td>3.870671</td>\n",
       "      <td>206855.816909</td>\n",
       "    </tr>\n",
       "    <tr>\n",
       "      <th>std</th>\n",
       "      <td>2.003532</td>\n",
       "      <td>2.135952</td>\n",
       "      <td>12.585558</td>\n",
       "      <td>2181.615252</td>\n",
       "      <td>419.266593</td>\n",
       "      <td>1132.462122</td>\n",
       "      <td>382.329753</td>\n",
       "      <td>1.899822</td>\n",
       "      <td>115395.615874</td>\n",
       "    </tr>\n",
       "    <tr>\n",
       "      <th>min</th>\n",
       "      <td>-124.350000</td>\n",
       "      <td>32.540000</td>\n",
       "      <td>1.000000</td>\n",
       "      <td>2.000000</td>\n",
       "      <td>1.000000</td>\n",
       "      <td>3.000000</td>\n",
       "      <td>1.000000</td>\n",
       "      <td>0.499900</td>\n",
       "      <td>14999.000000</td>\n",
       "    </tr>\n",
       "    <tr>\n",
       "      <th>25%</th>\n",
       "      <td>-121.800000</td>\n",
       "      <td>33.930000</td>\n",
       "      <td>18.000000</td>\n",
       "      <td>1447.750000</td>\n",
       "      <td>297.000000</td>\n",
       "      <td>787.000000</td>\n",
       "      <td>280.000000</td>\n",
       "      <td>2.563400</td>\n",
       "      <td>119600.000000</td>\n",
       "    </tr>\n",
       "    <tr>\n",
       "      <th>50%</th>\n",
       "      <td>-118.490000</td>\n",
       "      <td>34.260000</td>\n",
       "      <td>29.000000</td>\n",
       "      <td>2127.000000</td>\n",
       "      <td>438.000000</td>\n",
       "      <td>1166.000000</td>\n",
       "      <td>409.000000</td>\n",
       "      <td>3.534800</td>\n",
       "      <td>179700.000000</td>\n",
       "    </tr>\n",
       "    <tr>\n",
       "      <th>75%</th>\n",
       "      <td>-118.010000</td>\n",
       "      <td>37.710000</td>\n",
       "      <td>37.000000</td>\n",
       "      <td>3148.000000</td>\n",
       "      <td>643.250000</td>\n",
       "      <td>1725.000000</td>\n",
       "      <td>605.000000</td>\n",
       "      <td>4.743250</td>\n",
       "      <td>264725.000000</td>\n",
       "    </tr>\n",
       "    <tr>\n",
       "      <th>max</th>\n",
       "      <td>-114.310000</td>\n",
       "      <td>41.950000</td>\n",
       "      <td>52.000000</td>\n",
       "      <td>39320.000000</td>\n",
       "      <td>6445.000000</td>\n",
       "      <td>35682.000000</td>\n",
       "      <td>6082.000000</td>\n",
       "      <td>15.000100</td>\n",
       "      <td>500001.000000</td>\n",
       "    </tr>\n",
       "  </tbody>\n",
       "</table>\n",
       "</div>"
      ],
      "text/plain": [
       "          longitude      latitude  housing_median_age   total_rooms  \\\n",
       "count  20640.000000  20640.000000        20640.000000  20640.000000   \n",
       "mean    -119.569704     35.631861           28.639486   2635.763081   \n",
       "std        2.003532      2.135952           12.585558   2181.615252   \n",
       "min     -124.350000     32.540000            1.000000      2.000000   \n",
       "25%     -121.800000     33.930000           18.000000   1447.750000   \n",
       "50%     -118.490000     34.260000           29.000000   2127.000000   \n",
       "75%     -118.010000     37.710000           37.000000   3148.000000   \n",
       "max     -114.310000     41.950000           52.000000  39320.000000   \n",
       "\n",
       "       total_bedrooms    population    households  median_income  \\\n",
       "count    20640.000000  20640.000000  20640.000000   20640.000000   \n",
       "mean       537.871851   1425.476744    499.539680       3.870671   \n",
       "std        419.266593   1132.462122    382.329753       1.899822   \n",
       "min          1.000000      3.000000      1.000000       0.499900   \n",
       "25%        297.000000    787.000000    280.000000       2.563400   \n",
       "50%        438.000000   1166.000000    409.000000       3.534800   \n",
       "75%        643.250000   1725.000000    605.000000       4.743250   \n",
       "max       6445.000000  35682.000000   6082.000000      15.000100   \n",
       "\n",
       "       median_house_value  \n",
       "count        20640.000000  \n",
       "mean        206855.816909  \n",
       "std         115395.615874  \n",
       "min          14999.000000  \n",
       "25%         119600.000000  \n",
       "50%         179700.000000  \n",
       "75%         264725.000000  \n",
       "max         500001.000000  "
      ]
     },
     "execution_count": 4,
     "metadata": {},
     "output_type": "execute_result"
    }
   ],
   "source": [
    "housing.describe()"
   ]
  },
  {
   "cell_type": "code",
   "execution_count": 5,
   "id": "c2d09f9a",
   "metadata": {},
   "outputs": [
    {
     "data": {
      "text/plain": [
       "<seaborn.axisgrid.FacetGrid at 0x204d254e288>"
      ]
     },
     "execution_count": 5,
     "metadata": {},
     "output_type": "execute_result"
    },
    {
     "data": {
      "image/png": "[encoded data removed]",
      "text/plain": [
       "<Figure size 360x360 with 1 Axes>"
      ]
     },
     "metadata": {
      "needs_background": "light"
     },
     "output_type": "display_data"
    }
   ],
   "source": [
    "# Left-skewed distribution for median house value with some outliers (mean is less than median)\n",
    "sns.displot(housing.median_house_value, color='purple')"
   ]
  },
  {
   "cell_type": "code",
   "execution_count": 6,
   "id": "53e836fa",
   "metadata": {},
   "outputs": [
    {
     "data": {
      "text/plain": [
       "<seaborn.axisgrid.FacetGrid at 0x204d7aeb1c8>"
      ]
     },
     "execution_count": 6,
     "metadata": {},
     "output_type": "execute_result"
    },
    {
     "data": {
      "image/png": "[encoded data removed]",
      "text/plain": [
       "<Figure size 360x360 with 1 Axes>"
      ]
     },
     "metadata": {
      "needs_background": "light"
     },
     "output_type": "display_data"
    }
   ],
   "source": [
    "# Distribution plot for total number of bedrooms per block - also left-skewed\n",
    "sns.displot(housing.total_bedrooms, color='purple')"
   ]
  },
  {
   "cell_type": "code",
   "execution_count": 7,
   "id": "80a2a51d",
   "metadata": {},
   "outputs": [
    {
     "data": {
      "text/plain": [
       "<1H OCEAN     9136\n",
       "INLAND        6551\n",
       "NEAR OCEAN    2658\n",
       "NEAR BAY      2290\n",
       "ISLAND           5\n",
       "Name: ocean_proximity, dtype: int64"
      ]
     },
     "execution_count": 7,
     "metadata": {},
     "output_type": "execute_result"
    }
   ],
   "source": [
    "# Convert ocean proximity to dummy columns\n",
    "housing.ocean_proximity.value_counts()"
   ]
  },
  {
   "cell_type": "code",
   "execution_count": 8,
   "id": "1490b170",
   "metadata": {},
   "outputs": [
    {
     "data": {
      "text/html": [
       "<div>\n",
       "<style scoped>\n",
       "    .dataframe tbody tr th:only-of-type {\n",
       "        vertical-align: middle;\n",
       "    }\n",
       "\n",
       "    .dataframe tbody tr th {\n",
       "        vertical-align: top;\n",
       "    }\n",
       "\n",
       "    .dataframe thead th {\n",
       "        text-align: right;\n",
       "    }\n",
       "</style>\n",
       "<table border=\"1\" class=\"dataframe\">\n",
       "  <thead>\n",
       "    <tr style=\"text-align: right;\">\n",
       "      <th></th>\n",
       "      <th>longitude</th>\n",
       "      <th>latitude</th>\n",
       "      <th>housing_median_age</th>\n",
       "      <th>total_rooms</th>\n",
       "      <th>total_bedrooms</th>\n",
       "      <th>population</th>\n",
       "      <th>households</th>\n",
       "      <th>median_income</th>\n",
       "      <th>median_house_value</th>\n",
       "      <th>ocean_proximity_&lt;1H OCEAN</th>\n",
       "      <th>ocean_proximity_INLAND</th>\n",
       "      <th>ocean_proximity_ISLAND</th>\n",
       "      <th>ocean_proximity_NEAR BAY</th>\n",
       "      <th>ocean_proximity_NEAR OCEAN</th>\n",
       "    </tr>\n",
       "  </thead>\n",
       "  <tbody>\n",
       "    <tr>\n",
       "      <th>0</th>\n",
       "      <td>-122.23</td>\n",
       "      <td>37.88</td>\n",
       "      <td>41.0</td>\n",
       "      <td>880.0</td>\n",
       "      <td>129.0</td>\n",
       "      <td>322.0</td>\n",
       "      <td>126.0</td>\n",
       "      <td>8.3252</td>\n",
       "      <td>452600.0</td>\n",
       "      <td>0</td>\n",
       "      <td>0</td>\n",
       "      <td>0</td>\n",
       "      <td>1</td>\n",
       "      <td>0</td>\n",
       "    </tr>\n",
       "    <tr>\n",
       "      <th>1</th>\n",
       "      <td>-122.22</td>\n",
       "      <td>37.86</td>\n",
       "      <td>21.0</td>\n",
       "      <td>7099.0</td>\n",
       "      <td>1106.0</td>\n",
       "      <td>2401.0</td>\n",
       "      <td>1138.0</td>\n",
       "      <td>8.3014</td>\n",
       "      <td>358500.0</td>\n",
       "      <td>0</td>\n",
       "      <td>0</td>\n",
       "      <td>0</td>\n",
       "      <td>1</td>\n",
       "      <td>0</td>\n",
       "    </tr>\n",
       "    <tr>\n",
       "      <th>2</th>\n",
       "      <td>-122.24</td>\n",
       "      <td>37.85</td>\n",
       "      <td>52.0</td>\n",
       "      <td>1467.0</td>\n",
       "      <td>190.0</td>\n",
       "      <td>496.0</td>\n",
       "      <td>177.0</td>\n",
       "      <td>7.2574</td>\n",
       "      <td>352100.0</td>\n",
       "      <td>0</td>\n",
       "      <td>0</td>\n",
       "      <td>0</td>\n",
       "      <td>1</td>\n",
       "      <td>0</td>\n",
       "    </tr>\n",
       "    <tr>\n",
       "      <th>3</th>\n",
       "      <td>-122.25</td>\n",
       "      <td>37.85</td>\n",
       "      <td>52.0</td>\n",
       "      <td>1274.0</td>\n",
       "      <td>235.0</td>\n",
       "      <td>558.0</td>\n",
       "      <td>219.0</td>\n",
       "      <td>5.6431</td>\n",
       "      <td>341300.0</td>\n",
       "      <td>0</td>\n",
       "      <td>0</td>\n",
       "      <td>0</td>\n",
       "      <td>1</td>\n",
       "      <td>0</td>\n",
       "    </tr>\n",
       "    <tr>\n",
       "      <th>4</th>\n",
       "      <td>-122.25</td>\n",
       "      <td>37.85</td>\n",
       "      <td>52.0</td>\n",
       "      <td>1627.0</td>\n",
       "      <td>280.0</td>\n",
       "      <td>565.0</td>\n",
       "      <td>259.0</td>\n",
       "      <td>3.8462</td>\n",
       "      <td>342200.0</td>\n",
       "      <td>0</td>\n",
       "      <td>0</td>\n",
       "      <td>0</td>\n",
       "      <td>1</td>\n",
       "      <td>0</td>\n",
       "    </tr>\n",
       "  </tbody>\n",
       "</table>\n",
       "</div>"
      ],
      "text/plain": [
       "   longitude  latitude  housing_median_age  total_rooms  total_bedrooms  \\\n",
       "0    -122.23     37.88                41.0        880.0           129.0   \n",
       "1    -122.22     37.86                21.0       7099.0          1106.0   \n",
       "2    -122.24     37.85                52.0       1467.0           190.0   \n",
       "3    -122.25     37.85                52.0       1274.0           235.0   \n",
       "4    -122.25     37.85                52.0       1627.0           280.0   \n",
       "\n",
       "   population  households  median_income  median_house_value  \\\n",
       "0       322.0       126.0         8.3252            452600.0   \n",
       "1      2401.0      1138.0         8.3014            358500.0   \n",
       "2       496.0       177.0         7.2574            352100.0   \n",
       "3       558.0       219.0         5.6431            341300.0   \n",
       "4       565.0       259.0         3.8462            342200.0   \n",
       "\n",
       "   ocean_proximity_<1H OCEAN  ocean_proximity_INLAND  ocean_proximity_ISLAND  \\\n",
       "0                          0                       0                       0   \n",
       "1                          0                       0                       0   \n",
       "2                          0                       0                       0   \n",
       "3                          0                       0                       0   \n",
       "4                          0                       0                       0   \n",
       "\n",
       "   ocean_proximity_NEAR BAY  ocean_proximity_NEAR OCEAN  \n",
       "0                         1                           0  \n",
       "1                         1                           0  \n",
       "2                         1                           0  \n",
       "3                         1                           0  \n",
       "4                         1                           0  "
      ]
     },
     "execution_count": 8,
     "metadata": {},
     "output_type": "execute_result"
    }
   ],
   "source": [
    "dummy_housing = pd.get_dummies(data=housing, columns=['ocean_proximity'])\n",
    "\n",
    "dummy_housing.head()"
   ]
  },
  {
   "cell_type": "code",
   "execution_count": 8,
   "id": "90f3cbb3",
   "metadata": {},
   "outputs": [],
   "source": [
    "# What to do about longitude and latitude? Drop the columns\n",
    "# Bimodal distribution for both longitude and latitude"
   ]
  },
  {
   "cell_type": "code",
   "execution_count": 9,
   "id": "f09de458",
   "metadata": {},
   "outputs": [
    {
     "data": {
      "text/plain": [
       "<seaborn.axisgrid.FacetGrid at 0x204d835d048>"
      ]
     },
     "execution_count": 9,
     "metadata": {},
     "output_type": "execute_result"
    },
    {
     "data": {
      "image/png": "[encoded data removed]",
      "text/plain": [
       "<Figure size 360x360 with 1 Axes>"
      ]
     },
     "metadata": {
      "needs_background": "light"
     },
     "output_type": "display_data"
    }
   ],
   "source": [
    "sns.displot(housing.longitude, color='purple')"
   ]
  },
  {
   "cell_type": "code",
   "execution_count": 10,
   "id": "d0785624",
   "metadata": {},
   "outputs": [
    {
     "data": {
      "text/plain": [
       "<seaborn.axisgrid.FacetGrid at 0x204d7aeb488>"
      ]
     },
     "execution_count": 10,
     "metadata": {},
     "output_type": "execute_result"
    },
    {
     "data": {
      "image/png": "[encoded data removed]",
      "text/plain": [
       "<Figure size 360x360 with 1 Axes>"
      ]
     },
     "metadata": {
      "needs_background": "light"
     },
     "output_type": "display_data"
    }
   ],
   "source": [
    "sns.displot(housing.latitude, color='purple')"
   ]
  },
  {
   "cell_type": "code",
   "execution_count": 13,
   "id": "314449f3",
   "metadata": {},
   "outputs": [],
   "source": [
    "# 'households' and 'total_bedrooms' highly correlated\n",
    "# 'total_rooms' and 'total_bedrooms' highly correlated\n",
    "# Remove variables ['longitude', 'latitude', 'total_bedrooms', 'total_rooms'] to avoid multicollinearity\n",
    "\n",
    "X = dummy_housing.drop(['longitude', 'latitude', 'total_bedrooms', 'total_rooms', 'population', 'median_house_value'], axis=1)\n",
    "y = dummy_housing.median_house_value"
   ]
  },
  {
   "cell_type": "code",
   "execution_count": 14,
   "id": "c6657168",
   "metadata": {},
   "outputs": [
    {
     "data": {
      "image/png": "[encoded data removed]",
      "text/plain": [
       "<Figure size 432x288 with 2 Axes>"
      ]
     },
     "metadata": {
      "needs_background": "light"
     },
     "output_type": "display_data"
    }
   ],
   "source": [
    "sns.heatmap(X.corr());"
   ]
  },
  {
   "cell_type": "code",
   "execution_count": 15,
   "id": "ba9d36bd",
   "metadata": {},
   "outputs": [],
   "source": [
    "# Import machine-learning tools\n",
    "from sklearn.model_selection import train_test_split\n",
    "from sklearn.preprocessing import StandardScaler\n",
    "from sklearn.neural_network import MLPRegressor\n",
    "from sklearn import metrics\n",
    "from sklearn.model_selection import GridSearchCV, RandomizedSearchCV\n",
    "\n",
    "# Use StandardScaler on feature variable"
   ]
  },
  {
   "cell_type": "code",
   "execution_count": 16,
   "id": "0f19e13d",
   "metadata": {},
   "outputs": [
    {
     "data": {
      "text/html": [
       "<div>\n",
       "<style scoped>\n",
       "    .dataframe tbody tr th:only-of-type {\n",
       "        vertical-align: middle;\n",
       "    }\n",
       "\n",
       "    .dataframe tbody tr th {\n",
       "        vertical-align: top;\n",
       "    }\n",
       "\n",
       "    .dataframe thead th {\n",
       "        text-align: right;\n",
       "    }\n",
       "</style>\n",
       "<table border=\"1\" class=\"dataframe\">\n",
       "  <thead>\n",
       "    <tr style=\"text-align: right;\">\n",
       "      <th></th>\n",
       "      <th>housing_median_age</th>\n",
       "      <th>households</th>\n",
       "      <th>median_income</th>\n",
       "      <th>ocean_proximity_&lt;1H OCEAN</th>\n",
       "      <th>ocean_proximity_INLAND</th>\n",
       "      <th>ocean_proximity_ISLAND</th>\n",
       "      <th>ocean_proximity_NEAR BAY</th>\n",
       "      <th>ocean_proximity_NEAR OCEAN</th>\n",
       "    </tr>\n",
       "  </thead>\n",
       "  <tbody>\n",
       "    <tr>\n",
       "      <th>0</th>\n",
       "      <td>41.0</td>\n",
       "      <td>126.0</td>\n",
       "      <td>8.3252</td>\n",
       "      <td>0</td>\n",
       "      <td>0</td>\n",
       "      <td>0</td>\n",
       "      <td>1</td>\n",
       "      <td>0</td>\n",
       "    </tr>\n",
       "    <tr>\n",
       "      <th>1</th>\n",
       "      <td>21.0</td>\n",
       "      <td>1138.0</td>\n",
       "      <td>8.3014</td>\n",
       "      <td>0</td>\n",
       "      <td>0</td>\n",
       "      <td>0</td>\n",
       "      <td>1</td>\n",
       "      <td>0</td>\n",
       "    </tr>\n",
       "    <tr>\n",
       "      <th>2</th>\n",
       "      <td>52.0</td>\n",
       "      <td>177.0</td>\n",
       "      <td>7.2574</td>\n",
       "      <td>0</td>\n",
       "      <td>0</td>\n",
       "      <td>0</td>\n",
       "      <td>1</td>\n",
       "      <td>0</td>\n",
       "    </tr>\n",
       "    <tr>\n",
       "      <th>3</th>\n",
       "      <td>52.0</td>\n",
       "      <td>219.0</td>\n",
       "      <td>5.6431</td>\n",
       "      <td>0</td>\n",
       "      <td>0</td>\n",
       "      <td>0</td>\n",
       "      <td>1</td>\n",
       "      <td>0</td>\n",
       "    </tr>\n",
       "    <tr>\n",
       "      <th>4</th>\n",
       "      <td>52.0</td>\n",
       "      <td>259.0</td>\n",
       "      <td>3.8462</td>\n",
       "      <td>0</td>\n",
       "      <td>0</td>\n",
       "      <td>0</td>\n",
       "      <td>1</td>\n",
       "      <td>0</td>\n",
       "    </tr>\n",
       "  </tbody>\n",
       "</table>\n",
       "</div>"
      ],
      "text/plain": [
       "   housing_median_age  households  median_income  ocean_proximity_<1H OCEAN  \\\n",
       "0                41.0       126.0         8.3252                          0   \n",
       "1                21.0      1138.0         8.3014                          0   \n",
       "2                52.0       177.0         7.2574                          0   \n",
       "3                52.0       219.0         5.6431                          0   \n",
       "4                52.0       259.0         3.8462                          0   \n",
       "\n",
       "   ocean_proximity_INLAND  ocean_proximity_ISLAND  ocean_proximity_NEAR BAY  \\\n",
       "0                       0                       0                         1   \n",
       "1                       0                       0                         1   \n",
       "2                       0                       0                         1   \n",
       "3                       0                       0                         1   \n",
       "4                       0                       0                         1   \n",
       "\n",
       "   ocean_proximity_NEAR OCEAN  \n",
       "0                           0  \n",
       "1                           0  \n",
       "2                           0  \n",
       "3                           0  \n",
       "4                           0  "
      ]
     },
     "execution_count": 16,
     "metadata": {},
     "output_type": "execute_result"
    }
   ],
   "source": [
    "X.head()"
   ]
  },
  {
   "cell_type": "code",
   "execution_count": 17,
   "id": "f0756a92",
   "metadata": {},
   "outputs": [],
   "source": [
    "X_train, X_test, y_train, y_test = train_test_split(X, y)"
   ]
  },
  {
   "cell_type": "code",
   "execution_count": 18,
   "id": "0b24b04e",
   "metadata": {},
   "outputs": [],
   "source": [
    "# Standardize feature matrices (centering data around mean equals zero)\n",
    "ss = StandardScaler()\n",
    "\n",
    "X_train_ss = ss.fit_transform(X_train)\n",
    "X_test_ss = ss.transform(X_test)"
   ]
  },
  {
   "cell_type": "markdown",
   "id": "b761b1b7",
   "metadata": {},
   "source": [
    "# MLP Regressor"
   ]
  },
  {
   "cell_type": "code",
   "execution_count": 17,
   "id": "fe800d62",
   "metadata": {},
   "outputs": [
    {
     "name": "stderr",
     "output_type": "stream",
     "text": [
      "C:\\Users\\shmel\\Anaconda3\\lib\\site-packages\\sklearn\\neural_network\\_multilayer_perceptron.py:696: ConvergenceWarning: Stochastic Optimizer: Maximum iterations (100000) reached and the optimization hasn't converged yet.\n",
      "  ConvergenceWarning,\n",
      "C:\\Users\\shmel\\Anaconda3\\lib\\site-packages\\sklearn\\neural_network\\_base.py:174: RuntimeWarning: overflow encountered in square\n",
      "  return ((y_true - y_pred) ** 2).mean() / 2\n",
      "C:\\Users\\shmel\\Anaconda3\\lib\\site-packages\\sklearn\\utils\\extmath.py:153: RuntimeWarning: overflow encountered in matmul\n",
      "  ret = a @ b\n",
      "C:\\Users\\shmel\\Anaconda3\\lib\\site-packages\\sklearn\\utils\\extmath.py:153: RuntimeWarning: invalid value encountered in matmul\n",
      "  ret = a @ b\n",
      "C:\\Users\\shmel\\Anaconda3\\lib\\site-packages\\sklearn\\neural_network\\_multilayer_perceptron.py:696: ConvergenceWarning: Stochastic Optimizer: Maximum iterations (100000) reached and the optimization hasn't converged yet.\n",
      "  ConvergenceWarning,\n",
      "C:\\Users\\shmel\\Anaconda3\\lib\\site-packages\\sklearn\\model_selection\\_validation.py:774: UserWarning: Scoring failed. The score on this train-test partition for these parameters will be set to nan. Details: \n",
      "Traceback (most recent call last):\n",
      "  File \"C:\\Users\\shmel\\Anaconda3\\lib\\site-packages\\sklearn\\model_selection\\_validation.py\", line 761, in _score\n",
      "    scores = scorer(estimator, X_test, y_test)\n",
      "  File \"C:\\Users\\shmel\\Anaconda3\\lib\\site-packages\\sklearn\\metrics\\_scorer.py\", line 418, in _passthrough_scorer\n",
      "    return estimator.score(*args, **kwargs)\n",
      "  File \"C:\\Users\\shmel\\Anaconda3\\lib\\site-packages\\sklearn\\base.py\", line 706, in score\n",
      "    return r2_score(y, y_pred, sample_weight=sample_weight)\n",
      "  File \"C:\\Users\\shmel\\Anaconda3\\lib\\site-packages\\sklearn\\metrics\\_regression.py\", line 790, in r2_score\n",
      "    y_true, y_pred, multioutput\n",
      "  File \"C:\\Users\\shmel\\Anaconda3\\lib\\site-packages\\sklearn\\metrics\\_regression.py\", line 96, in _check_reg_targets\n",
      "    y_pred = check_array(y_pred, ensure_2d=False, dtype=dtype)\n",
      "  File \"C:\\Users\\shmel\\Anaconda3\\lib\\site-packages\\sklearn\\utils\\validation.py\", line 800, in check_array\n",
      "    _assert_all_finite(array, allow_nan=force_all_finite == \"allow-nan\")\n",
      "  File \"C:\\Users\\shmel\\Anaconda3\\lib\\site-packages\\sklearn\\utils\\validation.py\", line 116, in _assert_all_finite\n",
      "    type_err, msg_dtype if msg_dtype is not None else X.dtype\n",
      "ValueError: Input contains NaN, infinity or a value too large for dtype('float64').\n",
      "\n",
      "  UserWarning,\n",
      "C:\\Users\\shmel\\Anaconda3\\lib\\site-packages\\sklearn\\neural_network\\_base.py:174: RuntimeWarning: overflow encountered in square\n",
      "  return ((y_true - y_pred) ** 2).mean() / 2\n",
      "C:\\Users\\shmel\\Anaconda3\\lib\\site-packages\\sklearn\\utils\\extmath.py:153: RuntimeWarning: overflow encountered in matmul\n",
      "  ret = a @ b\n",
      "C:\\Users\\shmel\\Anaconda3\\lib\\site-packages\\sklearn\\utils\\extmath.py:153: RuntimeWarning: invalid value encountered in matmul\n",
      "  ret = a @ b\n",
      "C:\\Users\\shmel\\Anaconda3\\lib\\site-packages\\sklearn\\neural_network\\_multilayer_perceptron.py:696: ConvergenceWarning: Stochastic Optimizer: Maximum iterations (100000) reached and the optimization hasn't converged yet.\n",
      "  ConvergenceWarning,\n",
      "C:\\Users\\shmel\\Anaconda3\\lib\\site-packages\\sklearn\\model_selection\\_validation.py:774: UserWarning: Scoring failed. The score on this train-test partition for these parameters will be set to nan. Details: \n",
      "Traceback (most recent call last):\n",
      "  File \"C:\\Users\\shmel\\Anaconda3\\lib\\site-packages\\sklearn\\model_selection\\_validation.py\", line 761, in _score\n",
      "    scores = scorer(estimator, X_test, y_test)\n",
      "  File \"C:\\Users\\shmel\\Anaconda3\\lib\\site-packages\\sklearn\\metrics\\_scorer.py\", line 418, in _passthrough_scorer\n",
      "    return estimator.score(*args, **kwargs)\n",
      "  File \"C:\\Users\\shmel\\Anaconda3\\lib\\site-packages\\sklearn\\base.py\", line 706, in score\n",
      "    return r2_score(y, y_pred, sample_weight=sample_weight)\n",
      "  File \"C:\\Users\\shmel\\Anaconda3\\lib\\site-packages\\sklearn\\metrics\\_regression.py\", line 790, in r2_score\n",
      "    y_true, y_pred, multioutput\n",
      "  File \"C:\\Users\\shmel\\Anaconda3\\lib\\site-packages\\sklearn\\metrics\\_regression.py\", line 96, in _check_reg_targets\n",
      "    y_pred = check_array(y_pred, ensure_2d=False, dtype=dtype)\n",
      "  File \"C:\\Users\\shmel\\Anaconda3\\lib\\site-packages\\sklearn\\utils\\validation.py\", line 800, in check_array\n",
      "    _assert_all_finite(array, allow_nan=force_all_finite == \"allow-nan\")\n",
      "  File \"C:\\Users\\shmel\\Anaconda3\\lib\\site-packages\\sklearn\\utils\\validation.py\", line 116, in _assert_all_finite\n",
      "    type_err, msg_dtype if msg_dtype is not None else X.dtype\n",
      "ValueError: Input contains NaN, infinity or a value too large for dtype('float64').\n",
      "\n",
      "  UserWarning,\n",
      "C:\\Users\\shmel\\Anaconda3\\lib\\site-packages\\sklearn\\neural_network\\_base.py:174: RuntimeWarning: overflow encountered in square\n",
      "  return ((y_true - y_pred) ** 2).mean() / 2\n",
      "C:\\Users\\shmel\\Anaconda3\\lib\\site-packages\\sklearn\\utils\\extmath.py:153: RuntimeWarning: overflow encountered in matmul\n",
      "  ret = a @ b\n",
      "C:\\Users\\shmel\\Anaconda3\\lib\\site-packages\\sklearn\\utils\\extmath.py:153: RuntimeWarning: invalid value encountered in matmul\n",
      "  ret = a @ b\n",
      "C:\\Users\\shmel\\Anaconda3\\lib\\site-packages\\sklearn\\neural_network\\_multilayer_perceptron.py:696: ConvergenceWarning: Stochastic Optimizer: Maximum iterations (100000) reached and the optimization hasn't converged yet.\n",
      "  ConvergenceWarning,\n",
      "C:\\Users\\shmel\\Anaconda3\\lib\\site-packages\\sklearn\\model_selection\\_validation.py:774: UserWarning: Scoring failed. The score on this train-test partition for these parameters will be set to nan. Details: \n",
      "Traceback (most recent call last):\n",
      "  File \"C:\\Users\\shmel\\Anaconda3\\lib\\site-packages\\sklearn\\model_selection\\_validation.py\", line 761, in _score\n",
      "    scores = scorer(estimator, X_test, y_test)\n",
      "  File \"C:\\Users\\shmel\\Anaconda3\\lib\\site-packages\\sklearn\\metrics\\_scorer.py\", line 418, in _passthrough_scorer\n",
      "    return estimator.score(*args, **kwargs)\n",
      "  File \"C:\\Users\\shmel\\Anaconda3\\lib\\site-packages\\sklearn\\base.py\", line 706, in score\n",
      "    return r2_score(y, y_pred, sample_weight=sample_weight)\n",
      "  File \"C:\\Users\\shmel\\Anaconda3\\lib\\site-packages\\sklearn\\metrics\\_regression.py\", line 790, in r2_score\n",
      "    y_true, y_pred, multioutput\n",
      "  File \"C:\\Users\\shmel\\Anaconda3\\lib\\site-packages\\sklearn\\metrics\\_regression.py\", line 96, in _check_reg_targets\n",
      "    y_pred = check_array(y_pred, ensure_2d=False, dtype=dtype)\n",
      "  File \"C:\\Users\\shmel\\Anaconda3\\lib\\site-packages\\sklearn\\utils\\validation.py\", line 800, in check_array\n",
      "    _assert_all_finite(array, allow_nan=force_all_finite == \"allow-nan\")\n",
      "  File \"C:\\Users\\shmel\\Anaconda3\\lib\\site-packages\\sklearn\\utils\\validation.py\", line 116, in _assert_all_finite\n",
      "    type_err, msg_dtype if msg_dtype is not None else X.dtype\n",
      "ValueError: Input contains NaN, infinity or a value too large for dtype('float64').\n",
      "\n",
      "  UserWarning,\n",
      "C:\\Users\\shmel\\Anaconda3\\lib\\site-packages\\sklearn\\neural_network\\_base.py:174: RuntimeWarning: overflow encountered in square\n",
      "  return ((y_true - y_pred) ** 2).mean() / 2\n",
      "C:\\Users\\shmel\\Anaconda3\\lib\\site-packages\\sklearn\\utils\\extmath.py:153: RuntimeWarning: overflow encountered in matmul\n",
      "  ret = a @ b\n",
      "C:\\Users\\shmel\\Anaconda3\\lib\\site-packages\\sklearn\\utils\\extmath.py:153: RuntimeWarning: invalid value encountered in matmul\n",
      "  ret = a @ b\n",
      "C:\\Users\\shmel\\Anaconda3\\lib\\site-packages\\sklearn\\neural_network\\_multilayer_perceptron.py:696: ConvergenceWarning: Stochastic Optimizer: Maximum iterations (100000) reached and the optimization hasn't converged yet.\n",
      "  ConvergenceWarning,\n",
      "C:\\Users\\shmel\\Anaconda3\\lib\\site-packages\\sklearn\\model_selection\\_validation.py:774: UserWarning: Scoring failed. The score on this train-test partition for these parameters will be set to nan. Details: \n",
      "Traceback (most recent call last):\n",
      "  File \"C:\\Users\\shmel\\Anaconda3\\lib\\site-packages\\sklearn\\model_selection\\_validation.py\", line 761, in _score\n",
      "    scores = scorer(estimator, X_test, y_test)\n",
      "  File \"C:\\Users\\shmel\\Anaconda3\\lib\\site-packages\\sklearn\\metrics\\_scorer.py\", line 418, in _passthrough_scorer\n",
      "    return estimator.score(*args, **kwargs)\n",
      "  File \"C:\\Users\\shmel\\Anaconda3\\lib\\site-packages\\sklearn\\base.py\", line 706, in score\n",
      "    return r2_score(y, y_pred, sample_weight=sample_weight)\n",
      "  File \"C:\\Users\\shmel\\Anaconda3\\lib\\site-packages\\sklearn\\metrics\\_regression.py\", line 790, in r2_score\n",
      "    y_true, y_pred, multioutput\n",
      "  File \"C:\\Users\\shmel\\Anaconda3\\lib\\site-packages\\sklearn\\metrics\\_regression.py\", line 96, in _check_reg_targets\n",
      "    y_pred = check_array(y_pred, ensure_2d=False, dtype=dtype)\n",
      "  File \"C:\\Users\\shmel\\Anaconda3\\lib\\site-packages\\sklearn\\utils\\validation.py\", line 800, in check_array\n",
      "    _assert_all_finite(array, allow_nan=force_all_finite == \"allow-nan\")\n",
      "  File \"C:\\Users\\shmel\\Anaconda3\\lib\\site-packages\\sklearn\\utils\\validation.py\", line 116, in _assert_all_finite\n",
      "    type_err, msg_dtype if msg_dtype is not None else X.dtype\n",
      "ValueError: Input contains NaN, infinity or a value too large for dtype('float64').\n",
      "\n",
      "  UserWarning,\n",
      "C:\\Users\\shmel\\Anaconda3\\lib\\site-packages\\sklearn\\neural_network\\_base.py:174: RuntimeWarning: overflow encountered in square\n",
      "  return ((y_true - y_pred) ** 2).mean() / 2\n",
      "C:\\Users\\shmel\\Anaconda3\\lib\\site-packages\\sklearn\\utils\\extmath.py:153: RuntimeWarning: overflow encountered in matmul\n",
      "  ret = a @ b\n",
      "C:\\Users\\shmel\\Anaconda3\\lib\\site-packages\\sklearn\\utils\\extmath.py:153: RuntimeWarning: invalid value encountered in matmul\n",
      "  ret = a @ b\n"
     ]
    },
    {
     "name": "stderr",
     "output_type": "stream",
     "text": [
      "C:\\Users\\shmel\\Anaconda3\\lib\\site-packages\\sklearn\\neural_network\\_multilayer_perceptron.py:696: ConvergenceWarning: Stochastic Optimizer: Maximum iterations (100000) reached and the optimization hasn't converged yet.\n",
      "  ConvergenceWarning,\n",
      "C:\\Users\\shmel\\Anaconda3\\lib\\site-packages\\sklearn\\model_selection\\_validation.py:774: UserWarning: Scoring failed. The score on this train-test partition for these parameters will be set to nan. Details: \n",
      "Traceback (most recent call last):\n",
      "  File \"C:\\Users\\shmel\\Anaconda3\\lib\\site-packages\\sklearn\\model_selection\\_validation.py\", line 761, in _score\n",
      "    scores = scorer(estimator, X_test, y_test)\n",
      "  File \"C:\\Users\\shmel\\Anaconda3\\lib\\site-packages\\sklearn\\metrics\\_scorer.py\", line 418, in _passthrough_scorer\n",
      "    return estimator.score(*args, **kwargs)\n",
      "  File \"C:\\Users\\shmel\\Anaconda3\\lib\\site-packages\\sklearn\\base.py\", line 706, in score\n",
      "    return r2_score(y, y_pred, sample_weight=sample_weight)\n",
      "  File \"C:\\Users\\shmel\\Anaconda3\\lib\\site-packages\\sklearn\\metrics\\_regression.py\", line 790, in r2_score\n",
      "    y_true, y_pred, multioutput\n",
      "  File \"C:\\Users\\shmel\\Anaconda3\\lib\\site-packages\\sklearn\\metrics\\_regression.py\", line 96, in _check_reg_targets\n",
      "    y_pred = check_array(y_pred, ensure_2d=False, dtype=dtype)\n",
      "  File \"C:\\Users\\shmel\\Anaconda3\\lib\\site-packages\\sklearn\\utils\\validation.py\", line 800, in check_array\n",
      "    _assert_all_finite(array, allow_nan=force_all_finite == \"allow-nan\")\n",
      "  File \"C:\\Users\\shmel\\Anaconda3\\lib\\site-packages\\sklearn\\utils\\validation.py\", line 116, in _assert_all_finite\n",
      "    type_err, msg_dtype if msg_dtype is not None else X.dtype\n",
      "ValueError: Input contains NaN, infinity or a value too large for dtype('float64').\n",
      "\n",
      "  UserWarning,\n",
      "C:\\Users\\shmel\\Anaconda3\\lib\\site-packages\\sklearn\\neural_network\\_base.py:174: RuntimeWarning: overflow encountered in square\n",
      "  return ((y_true - y_pred) ** 2).mean() / 2\n",
      "C:\\Users\\shmel\\Anaconda3\\lib\\site-packages\\sklearn\\utils\\extmath.py:153: RuntimeWarning: overflow encountered in matmul\n",
      "  ret = a @ b\n",
      "C:\\Users\\shmel\\Anaconda3\\lib\\site-packages\\sklearn\\utils\\extmath.py:153: RuntimeWarning: invalid value encountered in matmul\n",
      "  ret = a @ b\n",
      "C:\\Users\\shmel\\Anaconda3\\lib\\site-packages\\sklearn\\neural_network\\_multilayer_perceptron.py:696: ConvergenceWarning: Stochastic Optimizer: Maximum iterations (100000) reached and the optimization hasn't converged yet.\n",
      "  ConvergenceWarning,\n",
      "C:\\Users\\shmel\\Anaconda3\\lib\\site-packages\\sklearn\\model_selection\\_validation.py:774: UserWarning: Scoring failed. The score on this train-test partition for these parameters will be set to nan. Details: \n",
      "Traceback (most recent call last):\n",
      "  File \"C:\\Users\\shmel\\Anaconda3\\lib\\site-packages\\sklearn\\model_selection\\_validation.py\", line 761, in _score\n",
      "    scores = scorer(estimator, X_test, y_test)\n",
      "  File \"C:\\Users\\shmel\\Anaconda3\\lib\\site-packages\\sklearn\\metrics\\_scorer.py\", line 418, in _passthrough_scorer\n",
      "    return estimator.score(*args, **kwargs)\n",
      "  File \"C:\\Users\\shmel\\Anaconda3\\lib\\site-packages\\sklearn\\base.py\", line 706, in score\n",
      "    return r2_score(y, y_pred, sample_weight=sample_weight)\n",
      "  File \"C:\\Users\\shmel\\Anaconda3\\lib\\site-packages\\sklearn\\metrics\\_regression.py\", line 790, in r2_score\n",
      "    y_true, y_pred, multioutput\n",
      "  File \"C:\\Users\\shmel\\Anaconda3\\lib\\site-packages\\sklearn\\metrics\\_regression.py\", line 96, in _check_reg_targets\n",
      "    y_pred = check_array(y_pred, ensure_2d=False, dtype=dtype)\n",
      "  File \"C:\\Users\\shmel\\Anaconda3\\lib\\site-packages\\sklearn\\utils\\validation.py\", line 800, in check_array\n",
      "    _assert_all_finite(array, allow_nan=force_all_finite == \"allow-nan\")\n",
      "  File \"C:\\Users\\shmel\\Anaconda3\\lib\\site-packages\\sklearn\\utils\\validation.py\", line 116, in _assert_all_finite\n",
      "    type_err, msg_dtype if msg_dtype is not None else X.dtype\n",
      "ValueError: Input contains NaN, infinity or a value too large for dtype('float64').\n",
      "\n",
      "  UserWarning,\n",
      "C:\\Users\\shmel\\Anaconda3\\lib\\site-packages\\sklearn\\model_selection\\_search.py:972: UserWarning: One or more of the test scores are non-finite: [ 0.62556544  0.64757953 -0.13395589         nan  0.64749085  0.11370938\n",
      "  0.17418516  0.62556544  0.64748355         nan]\n",
      "  category=UserWarning,\n"
     ]
    },
    {
     "name": "stdout",
     "output_type": "stream",
     "text": [
      "Best parameter values: {'solver': 'lbfgs', 'learning_rate': 'invscaling', 'alpha': 67.0001, 'activation': 'relu'}\n",
      "With best score of: 0.65\n"
     ]
    }
   ],
   "source": [
    "# Tune MLP model for high-level parameters using RandomizedSearchCV (WARNING! Extremely slow...)\n",
    "param_distribs = {'activation':['identity', 'tanh', 'relu'], \n",
    "                  'solver':['lbfgs', 'sgd', 'adam'], \n",
    "                  'alpha':np.arange(0.0001, 100), \n",
    "                  'learning_rate':['constant', 'invscaling', 'adaptive']}\n",
    "\n",
    "mlp = MLPRegressor(hidden_layer_sizes=(2,), max_iter=100000, random_state=42)\n",
    "random_mlp = RandomizedSearchCV(mlp, param_distribs, n_iter=10, cv=3)\n",
    "random_mlp.fit(X_train_ss, y_train)\n",
    "\n",
    "print(\"Best parameter values:\", random_mlp.best_params_)\n",
    "print(\"With best score of:\", np.round(random_mlp.best_score_, 2))"
   ]
  },
  {
   "cell_type": "code",
   "execution_count": 18,
   "id": "36afd73f",
   "metadata": {},
   "outputs": [],
   "source": [
    "mlp_reg = MLPRegressor(hidden_layer_sizes=(2,), activation='relu', solver='lbfgs', alpha=67.0001, learning_rate='invscaling', max_iter=100000, random_state=42)\n",
    "\n",
    "mlp_reg.fit(X_train_ss, y_train)\n",
    "\n",
    "y_pred = mlp_reg.predict(X_test_ss)"
   ]
  },
  {
   "cell_type": "code",
   "execution_count": 19,
   "id": "28438078",
   "metadata": {},
   "outputs": [
    {
     "name": "stdout",
     "output_type": "stream",
     "text": [
      "Mean Absolute Error: 47894.048838447685\n",
      "Mean Squared Error: 4514630513.475148\n",
      "Root Mean Squared Error: 67191.00024166293\n"
     ]
    }
   ],
   "source": [
    "print('Mean Absolute Error:', np.round(metrics.mean_absolute_error(y_test, y_pred), 2))  \n",
    "print('Mean Squared Error:', np.round(metrics.mean_squared_error(y_test, y_pred), 2))  \n",
    "print('Root Mean Squared Error:', np.round(np.sqrt(metrics.mean_squared_error(y_test, y_pred)), 2))"
   ]
  },
  {
   "cell_type": "code",
   "execution_count": 1,
   "id": "f6dab2cd",
   "metadata": {},
   "outputs": [],
   "source": [
    "# Can only plot log loss if solver='sgd' because it returns loss_curve_ attribute\n",
    "\n",
    "#plt.plot(mlp_reg.loss_curve_)\n",
    "#plt.title(\"Loss Curve\", fontsize=14)\n",
    "#plt.xlabel('Iterations')\n",
    "#plt.ylabel('Cost')\n",
    "#plt.show();"
   ]
  },
  {
   "cell_type": "markdown",
   "id": "f2f2b519",
   "metadata": {},
   "source": [
    "# TensorFlow "
   ]
  },
  {
   "cell_type": "code",
   "execution_count": 2,
   "id": "41af584e",
   "metadata": {},
   "outputs": [
    {
     "name": "stdout",
     "output_type": "stream",
     "text": [
      "Collecting tensorflow\n",
      "  Using cached tensorflow-2.9.1-cp37-cp37m-win_amd64.whl (444.0 MB)\n",
      "Collecting tensorflow-io-gcs-filesystem>=0.23.1\n",
      "  Using cached tensorflow_io_gcs_filesystem-0.26.0-cp37-cp37m-win_amd64.whl (1.5 MB)\n",
      "Collecting libclang>=13.0.0\n",
      "  Using cached libclang-14.0.6-py2.py3-none-win_amd64.whl (14.2 MB)\n",
      "Collecting keras-preprocessing>=1.1.1\n",
      "  Downloading Keras_Preprocessing-1.1.2-py2.py3-none-any.whl (42 kB)\n",
      "     -------------------------------------- 42.6/42.6 kB 688.1 kB/s eta 0:00:00\n",
      "Collecting protobuf<3.20,>=3.9.2\n",
      "  Using cached protobuf-3.19.4-cp37-cp37m-win_amd64.whl (896 kB)\n",
      "Requirement already satisfied: six>=1.12.0 in c:\\users\\shmel\\anaconda3\\lib\\site-packages (from tensorflow) (1.16.0)\n",
      "Requirement already satisfied: h5py>=2.9.0 in c:\\users\\shmel\\anaconda3\\lib\\site-packages (from tensorflow) (2.10.0)\n",
      "Requirement already satisfied: typing-extensions>=3.6.6 in c:\\users\\shmel\\anaconda3\\lib\\site-packages (from tensorflow) (4.1.1)\n",
      "Collecting tensorboard<2.10,>=2.9\n",
      "  Using cached tensorboard-2.9.1-py3-none-any.whl (5.8 MB)\n",
      "Requirement already satisfied: setuptools in c:\\users\\shmel\\anaconda3\\lib\\site-packages (from tensorflow) (61.2.0)\n",
      "Collecting opt-einsum>=2.3.2\n",
      "  Downloading opt_einsum-3.3.0-py3-none-any.whl (65 kB)\n",
      "     -------------------------------------- 65.5/65.5 kB 891.1 kB/s eta 0:00:00\n",
      "Requirement already satisfied: packaging in c:\\users\\shmel\\anaconda3\\lib\\site-packages (from tensorflow) (21.3)\n",
      "Collecting astunparse>=1.6.0\n",
      "  Using cached astunparse-1.6.3-py2.py3-none-any.whl (12 kB)\n",
      "Collecting flatbuffers<2,>=1.12\n",
      "  Using cached flatbuffers-1.12-py2.py3-none-any.whl (15 kB)\n",
      "Collecting termcolor>=1.1.0\n",
      "  Using cached termcolor-1.1.0.tar.gz (3.9 kB)\n",
      "  Preparing metadata (setup.py): started\n",
      "  Preparing metadata (setup.py): finished with status 'error'\n"
     ]
    },
    {
     "name": "stderr",
     "output_type": "stream",
     "text": [
      "  error: subprocess-exited-with-error\n",
      "  \n",
      "  python setup.py egg_info did not run successfully.\n",
      "  exit code: 1\n",
      "  \n",
      "  [14 lines of output]\n",
      "  Traceback (most recent call last):\n",
      "    File \"<string>\", line 36, in <module>\n",
      "    File \"<pip-setuptools-caller>\", line 14, in <module>\n",
      "    File \"C:\\Users\\shmel\\Anaconda3\\lib\\site-packages\\setuptools\\__init__.py\", line 18, in <module>\n",
      "      from setuptools.dist import Distribution\n",
      "    File \"C:\\Users\\shmel\\Anaconda3\\lib\\site-packages\\setuptools\\dist.py\", line 35, in <module>\n",
      "      from ._importlib import metadata\n",
      "    File \"C:\\Users\\shmel\\Anaconda3\\lib\\site-packages\\setuptools\\_importlib.py\", line 28, in <module>\n",
      "      disable_importlib_metadata_finder(metadata)\n",
      "    File \"C:\\Users\\shmel\\Anaconda3\\lib\\site-packages\\setuptools\\_importlib.py\", line 19, in disable_importlib_metadata_finder\n",
      "      for ob in sys.meta_path\n",
      "    File \"C:\\Users\\shmel\\Anaconda3\\lib\\site-packages\\setuptools\\_importlib.py\", line 20, in <listcomp>\n",
      "      if isinstance(ob, importlib_metadata.MetadataPathFinder)\n",
      "  AttributeError: module 'importlib_metadata' has no attribute 'MetadataPathFinder'\n",
      "  [end of output]\n",
      "  \n",
      "  note: This error originates from a subprocess, and is likely not a problem with pip.\n",
      "error: metadata-generation-failed\n",
      "\n",
      "Encountered error while generating package metadata.\n",
      "\n",
      "See above for output.\n",
      "\n",
      "note: This is an issue with the package mentioned above, not pip.\n",
      "hint: See above for details.\n"
     ]
    }
   ],
   "source": [
    "!pip install tensorflow"
   ]
  },
  {
   "cell_type": "code",
   "execution_count": 3,
   "id": "9d596417",
   "metadata": {},
   "outputs": [],
   "source": [
    "#import tensorflow as tf\n",
    "#from tensorflow import keras"
   ]
  },
  {
   "cell_type": "code",
   "execution_count": null,
   "id": "49b9a3f8",
   "metadata": {},
   "outputs": [],
   "source": []
  }
 ],
 "metadata": {
  "kernelspec": {
   "display_name": "Python 3 (ipykernel)",
   "language": "python",
   "name": "python3"
  },
  "language_info": {
   "codemirror_mode": {
    "name": "ipython",
    "version": 3
   },
   "file_extension": ".py",
   "mimetype": "text/x-python",
   "name": "python",
   "nbconvert_exporter": "python",
   "pygments_lexer": "ipython3",
   "version": "3.7.4"
  }
 },
 "nbformat": 4,
 "nbformat_minor": 5
}
