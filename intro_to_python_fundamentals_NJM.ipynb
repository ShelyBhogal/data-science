{
 "cells": [
  {
   "cell_type": "markdown",
   "metadata": {
    "slideshow": {
     "slide_type": "notes"
    }
   },
   "source": [
    "<img src=\"http://imgur.com/1ZcRyrc.png\" style=\"float: left; margin: 20px; height: 55px\">\n",
    " \n",
    "# Introduction to Python Fundamentals\n",
    "\n",
    "---"
   ]
  },
  {
   "cell_type": "markdown",
   "metadata": {
    "slideshow": {
     "slide_type": "slide"
    }
   },
   "source": [
    "<a id=\"learning-objectives\"></a>\n",
    "### Learning Objectives\n",
    "*After completing this notebook, you will be able to:*\n",
    "\n",
    "- Use Jupyter Notebook\n",
    "- Define what a type is and what kinds exist in Python.\n",
    "- Define a function and identify common functions in Python."
   ]
  },
  {
   "cell_type": "markdown",
   "metadata": {
    "slideshow": {
     "slide_type": "slide"
    }
   },
   "source": [
    "<a id=\"survey1\"></a>\n",
    "\n",
    "## 0. Exercise\n",
    "\n",
    "---\n",
    "\n",
    "In groups of four, discuss the following over the the next few minutes:\n",
    "\n",
    "- What are 3–4 takeaways from the pre-work that were new to you?\n",
    "- What are 3–4 (as of yet) unanswered questions you had from the pre-work?"
   ]
  },
  {
   "cell_type": "markdown",
   "metadata": {},
   "source": [
    "## 1. What's Python and why are we learning it?\n",
    "\n",
    "### 1.1 Why does Python have such a ridiculous name?\n",
    "\n",
    "Python was initially developed by Guido van Rossum in the 1990s, who was a big fan of Monty Python's Flying Circus, a BBC comedy sketch series televised during the late 60s and early 70s. It was conceived, written and performed by the comedians collectively known as Monty Python (or simply 'the Pythons').\n",
    "\n",
    "<img src=\"img/monty_python.jpg\" width=\"500\" />\n",
    "\n",
    "\n",
    "### 1.2 Why Python?\n",
    "\n",
    "**Python is open source**\n",
    "\n",
    "This means it's free to use and distribute, and anyone can modify/customise the source code. This might seem surprising to anyone with experience of working in the private sector, but many huge advances in science and technology are only possible thanks to open source culture and a tradition of people freely sharing, distributing, modifying their own and each other's work. \n",
    "\n",
    "You can learn more about open source here: https://opensource.org/\n",
    "\n",
    "**Python is an interpreted language**\n",
    "\n",
    "If you're new to programming, you probably have no idea what this means. Let's take a quick(ish) detour through the history of computing. \n",
    "\n",
    "**What is programming?**\n",
    "\n",
    "What do we actually mean when we talk about coding or programming? This sounds like an obvious question, but it's worth discussing.\n",
    "\n",
    "When we write code (in any language from Python to C++) we're writing instructions that we want our computer to execute; those instructions could be as simple as 'add these two numbers and show me the result' or as complex as 'navigate this driverless car through rush hour traffic.' \n",
    "\n",
    "The CPU (central processing unit, or 'brain') in any computer can only understand and execute commands written in machine code, which looks something like this:\n",
    "\n",
    "<img src=\"img/machine_code.png\" width=400 />\n",
    "\n",
    "For humans, machine code is:\n",
    "\n",
    "* Very error prone \n",
    "* A nightmare to debug: imagine trying to spot a rogue 1 (Star Wars reference entirely unintentional but I'll take it) in a string of thousands of numbers and letters so you can fix your mistake\n",
    "* Inefficient: it takes many lines of code to write even the simplest instructions\n",
    "\n",
    "Luckily, nowadays we have at our disposal a huge range of programming languages from JavaScipt to Python to C++. All of these are much more similar to the English language, have their own vocabulary (commands that can be given to the computer) and syntax (rules for combining commands to write complex instructions) and feel far more intuitive than machine code.\n",
    "\n",
    "But if computers only understand machine code, how is this possible?\n",
    "\n",
    "<img src=\"img/grace_hopper.jpg\"/>\n",
    "\n",
    "In the 1950s a US Navy Rear Admiral named Grace Hopper was well aware of this problem. She built the first compiler, a middle-man piece of software that translated instructions written in a human-readable programming language called A-0 into computer-readable machine code. \n",
    "\n",
    "All the programming languages you might have heard of including FORTRAN, C++, Python, JavaScript, Swift, R and Matlab only exist today because of Hopper's innovation.\n",
    "\n",
    "These modern languages are compiled or interpreted into a format that can be directly executed by a CPU. The main difference between a compiled language (like C++) and an interpreted language (like Python) lies in the result of the compilation or interpretation process. \n",
    "\n",
    "Code written in an interpreted language is executed by an interpreter, which reads the source code and translates it on the fly into machine code, and gives us the desired result or output of the code- this could be a number, some text, or movement in a robotic arm. This means we can type statements into the interpreter and they are executed immediately, giving us near-instant results. The source code has to be re-interpreted each time the code is executed. \n",
    "\n",
    "Lines of code written in compiled languages are converted into machine code by a compiler, to produce an executable file. To get the desired results of the code, this executable file then needs to be run. Most of the software we use on a daily basis is delivered as compiled binaries.\n",
    "\n",
    "**Python has a library for almost anything**\n",
    "\n",
    "In programming, a library is a big bundle of code snippets (or functions) that someone else has written and made freely available for other people to download and modify (open source culture again!). A single library will usually be designed to help people write code for specific applications or purposes. For example:\n",
    "\n",
    "* Pandas is a library for data science\n",
    "* Numpy is a library for numerical computing\n",
    "* NLTK is a library for natural language processing\n",
    "* Tensorflow is a machine learning library released by Google \n",
    "\n",
    "Using libraries rather than writing your own code from scratch is always a smart move (as one of my favourite undergraduate tutors used to say, a good engineer is smart and lazy)- you'll save time, and because open source code will have been reviewed and checked by hundreds and thousands of people, code from a library is far less likely to contain bugs than something you write on your laptop at 2am after your 10th cup of coffee of the day. \n",
    "\n",
    "**Python is strongly typed**\n",
    "\n",
    "When we talk about 'types' in programming, we're talking about the different types of data that a language can represent and perform calculations/computations with. Some examples of types in Python include:\n",
    "\n",
    "1. Booleans (True or False)\n",
    "2. Integers (you don't need an explanation in brackets for this one!)\n",
    "3. Floats (floating point numbers)\n",
    "4. Strings (sequences of characters)\n",
    "\n",
    "A language is strongly typed if each type of data (integer, character, string, etc) is predefined as part of the programming language and all constants or variables defined for a given program must be represented by one of these data types. This makes the code concise, well structured, readable and flexible.\n",
    "\n",
    "There are two basic groups of types in Python — single elements (one item or piece of information) and collections (groups of things, which can be either single elements themselves, other collections, or a mix of both).\n",
    "\n",
    "**Single Elements**\n",
    "\n",
    "- **Integers:** Whole numbers ranging from negative infinity to infinity, such as 1, 0, -5, etc.\n",
    "- **Floats:** Short for \"floating point number;\" usually used with decimals, such as 2.8 or 3.14159.\n",
    "- **Strings:** A set of letters, numbers, or other characters, e.g., \"The fox is quick.\" — any set of values that contains a non-numeric character.\n",
    "\n",
    "**Collections**\n",
    "\n",
    "- **Tuples:** An ordered sequence with a fixed number of elements; e.g., in `x = (1, 2, 3)`, the parentheses makes it a tuple. `x = (\"Kirk\", \"Picard\", \"Spock\")` — once you've defined this, you can't change it.\n",
    "- **Lists:** An ordered sequence without a fixed number of elements, e.g., `x = [1, 2, 3]`. Note the square brackets. `x = [\"Lord\", \"of\", \"the\", \"Rings\"]` — this can be changed as you like.\n",
    "- **Dictionaries**: An unordered collection of key-value pairs, e.g., `x = {'Mark': 'Twain', 'Apples': 5}`. To retrieve each value (the part after each colon), use its key (the part before each colon). For example, `x['Apples']` retrieves the value `5`.\n",
    "\n",
    "**Python is object oriented**\n",
    "\n",
    "Object-oriented programming, or OOP for short, is a way of structuring programs so that groups of properties and behaviours are bundled into things called 'objects'.\n",
    "\n",
    "We'll learn more about why this is useful later."
   ]
  },
  {
   "cell_type": "markdown",
   "metadata": {},
   "source": [
    "## 2. Learning to use Jupyter \n",
    "\n",
    "### 2.1 What's an IDE (Interactive Development Environment)?\n",
    "\n",
    "We've downloaded Python. What does that actually mean? What exactly have we just installed on our machines? \n",
    "\n",
    "When we download and install Python, we download the Python interpreter- that is, a program that can take lines of code written in Python and translate them down to machine code and show us the results. That's great! But we need somewhere to feed lines of Python code to that interpreter, or in other words we need somewhere to write, test, and run our code and view the results or output. That's what an IDE or interactive development environment is for. \n",
    "\n",
    "An IDE is anywhere that you can write and run code, and see the results. There are lots of different IDEs available- some can be used to run code in many different programming languages (like Microsoft Visual Studio Code) and some can only handle one language (like pyCharm). \n",
    "\n",
    "Let's take a quick tour of a few different, commonly used, Python IDEs.\n",
    "\n",
    "**The command line**\n",
    "\n",
    "Typing ```python``` into the command line will launch Python in your Terminal window. You can then type Python commands, run them, and see the results. \n",
    "\n",
    "<img src=\"img/command_line.png\" width='500' />\n",
    "\n",
    "This is a quick and easy way of running code, but not well suited to writing longer blocks of code (we call these 'scripts') or saving the results. \n",
    "\n",
    "**Text editors**\n",
    "\n",
    "You can write Python script in any text editor (Vim, Notepad, Atom, Sublime) and as long as you save it with a .py extension, it can be run from the command line.\n",
    "\n",
    "<img src=\"img/vim.png\" width='500'/>\n",
    "\n",
    "<img src=\"img/run_vim.png\" width='500'/>\n",
    "\n",
    "\n",
    "In addition to IDEs, developers also use text editors to create or edit code and files. Text editors or more commonly used for files that are executed via the command line, as well as for software and website development.  \n",
    "\n",
    "Some common text editors that you may see or use include\n",
    "- [Sublime](https://www.sublimetext.com/)\n",
    "- [Atom](https://atom.io/)\n",
    "- [Notepad++](https://notepad-plus-plus.org/) (Windows)\n",
    "- [Vim](http://www.vim.org/)\n",
    "\n",
    "\n",
    "**pyCharm**\n",
    "\n",
    "pyCharm is a powerful IDE with lots of features to make writing, running and testing code easier. \n",
    "\n",
    "<img src=\"img/pycharm.png\" width='500'/>\n",
    "\n",
    "**Jupyter**\n",
    "\n",
    "Jupyter notebook is just another example of an IDE, or interactive development environment. It has some neat features that make it particularly well suited to writing and running readable, shareable, nicely formatted code.\n",
    "\n",
    "\n",
    "### 2.2 What is Jupyter?\n",
    "\n",
    "The Jupyter Notebook (previously known as IPython) is an IDE that launches in your web browser but runs locally on your machine. \n",
    "\n",
    "It allows you to create and share documents that contain live code, equations, visualizations and explanatory text. Jupyter Notebooks have the .ipynb extension, although it is possible to export them as .py files, or even .html or .pdf files for easy sharing and presentation. \n",
    "\n",
    "There are a number of advantages of using a Jupyter notebook. It's interactive, easy to share and document results, and because equations/notes/graphs can be embedded in a notebook it's easy for other people to understand what you've done and why you've done it- which is incredibly important when checking, sharing, and reviewing results. Jupyter is also an IDE that can run many different programming languages (sometimes they're called kernels) from R to JavaScript, so it's versatile too. \n",
    "\n",
    "Many researchers (and large companies including Netflix: https://medium.com/netflix-techblog/notebook-innovation-591ee3221233) have become reliant on Jupyter notebooks to explain their results. Readers can reproduce those results and modify to create different output in order to facilitate the learning process.\n",
    "\n",
    "### 2.3 Using Jupyter\n",
    "\n",
    "**Launching** Jupyter is usually launched from the command line using the command ```jupyter notebook```. It runs in your web browser, but doesn't require an internet connection to work- remember, Python and the IDE are both running locally in your machine, your browser is just a convenient user interface. \n",
    "\n",
    "A new notebook can be launched by selecting New, followed by Python 3. \n",
    "\n",
    "<img src=\"img/launch_notebook.png\" width='500'/>\n",
    "\n",
    "**Cells** Cells are the building blocks of Jupyter notebooks, and can contain different types of content from code, to markdown (nicely formatted text, like this cell) to LaTeX (for writing mathematical formulae) and embedded images. During this seminar we'll be using mostly code cells (to write and run our code) and markdown cells. \n",
    "\n",
    "New cells are inserted by selecting Insert, followed by Insert Cell Above or Insert Cell Below. The dropdown menu allows us to switch between Markdown cells and Code cells. \n",
    "\n",
    "**Running cells** Cells run one after the other. You can run cells by pressing Shift + Enter. The output from a code cell (if there is any) will appear below the cell. \n",
    "\n",
    "**Stopping cells running** If you'd like to stop a cell running (maybe you've accidentally written some code that runs in an infinite loop) you can use \n",
    "\n",
    "**Saving your work** Jupyter will autosave your work once every couple of minutes, but if you've just completed a very critical piece of code, it's best to save manually as well. \n",
    "\n",
    "**Shortcuts** Jupyter has plenty of shortcuts to save time:\n",
    "\n",
    "``Shift + Enter``: Run current cell\n",
    "\n",
    "``Esc+M``: Convert current cell to markdown\n",
    "\n",
    "``Esc+Y``: Convert current cell to code \n",
    "\n",
    "``Esc + A``: Insert new cell above current cell\n",
    "\n",
    "``Esc + B``: Insert new cell below current cell\n",
    "\n",
    "``Esc + H``: Show shortcuts menu"
   ]
  },
  {
   "cell_type": "markdown",
   "metadata": {},
   "source": [
    "### 2.4 Writing Python in the Command Line \n",
    "\n",
    "Let's try out writing some Python code in the terminal, before we move on to using the friendlier development environment of Jupyter. \n",
    "\n",
    "In your terminal, you can enter into a Python shell by simply typing `python`.\n",
    "\n",
    "Within the Python shell, we can execute Python expressions\n",
    "\n",
    "```python\n",
    ">>> # assigning a variable\n",
    ">>> x = 'hello world'\n",
    "\n",
    ">>> # printing a variables contents\n",
    ">>> print(x)\n",
    "hello world\n",
    "```\n",
    "\n",
    "Writing and trouble shooting alot of code in the terminal can be tedious, as it is hard to write several line scripts.  Almost all developers don't actually write their scripts in the command line; instead they use text editors or development environments to write their code.\n",
    "\n",
    "Try writing a `for loop` in the Python shell\n",
    "\n",
    "```python\n",
    "listo = [1, 5, 9]\n",
    "\n",
    "for item in listo:\n",
    "    print(itm)\n",
    "```\n",
    "\n",
    "We made an error in the second line of the `for loop` but we still have to rewrite the entire loop and we can't go back and just edit out mistake inline."
   ]
  },
  {
   "cell_type": "markdown",
   "metadata": {},
   "source": [
    "## 3. Your first Python code"
   ]
  },
  {
   "cell_type": "markdown",
   "metadata": {},
   "source": [
    "### 3.1 Hello World!\n",
    "\n",
    "It is customary to be introduced to any new programming language by writing a line of code that prints the phrase 'hello world'."
   ]
  },
  {
   "cell_type": "code",
   "execution_count": 1,
   "metadata": {},
   "outputs": [
    {
     "name": "stdout",
     "output_type": "stream",
     "text": [
      "hello world\n"
     ]
    }
   ],
   "source": [
    "print('hello world')"
   ]
  },
  {
   "cell_type": "code",
   "execution_count": 2,
   "metadata": {},
   "outputs": [
    {
     "name": "stdout",
     "output_type": "stream",
     "text": [
      "hello again\n"
     ]
    }
   ],
   "source": [
    "print(\"hello again\")"
   ]
  },
  {
   "cell_type": "markdown",
   "metadata": {},
   "source": [
    "Let's think about what's happening here.\n",
    "\n",
    "We're running (or calling) Python's built in 'print' function. We'll learn more about functions in programming later on, but for now we should just bear in mind that a Python function is very similar to a mathematical function- it takes a user defined input (or argument), does something with it, and gives us an output.\n",
    "\n",
    "Our input in this case is 'hello world' and the output is the 'hello world' message that gets printed out. This might not seem like the most useful function, but later on we'll use it to print out the results of calculations and more complex functions.\n",
    "\n",
    "Note that single quotes and double quotes are the same. Python is one of a few programming languages where ' ' and \" \" have the same functionality. A general rule of thumb is to choose one and stick with it.\n",
    "\n",
    "It's also good to briefly note that the type of our input is a string. In programming, a string is a sequence of alphanumeric characters. We can always check the type of something in our code using Python's built-in 'type' function."
   ]
  },
  {
   "cell_type": "code",
   "execution_count": 3,
   "metadata": {},
   "outputs": [
    {
     "data": {
      "text/plain": [
       "str"
      ]
     },
     "execution_count": 3,
     "metadata": {},
     "output_type": "execute_result"
    }
   ],
   "source": [
    "type('hello world')"
   ]
  },
  {
   "cell_type": "markdown",
   "metadata": {},
   "source": [
    "We can also check what the type of a function is. As expected, 'print' is a built-in function."
   ]
  },
  {
   "cell_type": "code",
   "execution_count": null,
   "metadata": {
    "collapsed": true
   },
   "outputs": [],
   "source": [
    "type(print)"
   ]
  },
  {
   "cell_type": "code",
   "execution_count": null,
   "metadata": {
    "collapsed": true
   },
   "outputs": [],
   "source": [
    "type(1)"
   ]
  },
  {
   "cell_type": "code",
   "execution_count": null,
   "metadata": {
    "collapsed": true
   },
   "outputs": [],
   "source": [
    "type(4.9)"
   ]
  },
  {
   "cell_type": "code",
   "execution_count": null,
   "metadata": {
    "collapsed": true
   },
   "outputs": [],
   "source": [
    "type('2.3')"
   ]
  },
  {
   "cell_type": "markdown",
   "metadata": {},
   "source": [
    "### 3.2 A comment on comments\n",
    "\n",
    "Comments are lines of code that aren't executed by the Python interpreter. They're explanatory notes written by programmers, to explain what the code does and why it does it. Commenting your code is incredibly important for readable code- if you don't do this, you run the risk of forgetting what your own code actually does, or annoying your teammates by sending them hard to read, uncommented code. \n",
    "\n",
    "Comments follow the '#' symbol."
   ]
  },
  {
   "cell_type": "code",
   "execution_count": null,
   "metadata": {
    "collapsed": true
   },
   "outputs": [],
   "source": [
    "# comments can be on their own line\n",
    "print('testing...')"
   ]
  },
  {
   "cell_type": "code",
   "execution_count": null,
   "metadata": {
    "collapsed": true
   },
   "outputs": [],
   "source": [
    "print('testing testing') # or they can be on the same line as your code"
   ]
  },
  {
   "cell_type": "code",
   "execution_count": null,
   "metadata": {
    "collapsed": true
   },
   "outputs": [],
   "source": [
    "\"\"\"\n",
    "we can also use triple quote marks\n",
    "to write comments spread across\n",
    "multiple lines\n",
    "\"\"\"\n",
    "print('hello')"
   ]
  },
  {
   "cell_type": "markdown",
   "metadata": {},
   "source": [
    "You should comment your code as much as you need. When I first began programming, I wrote around one line of comment for every line of code- maybe this was a bit too much, but it helped me understand what I was doing."
   ]
  },
  {
   "cell_type": "markdown",
   "metadata": {},
   "source": [
    "### 3.3 Basic arithmetic\n",
    "\n",
    "What makes Python particularly fun is its interactive nature. You can receive immediate feedback for for each statement, while running previously fed statements in active memory. This also allows the use of interactive mode as a calculator."
   ]
  },
  {
   "cell_type": "code",
   "execution_count": 4,
   "metadata": {},
   "outputs": [
    {
     "data": {
      "text/plain": [
       "5"
      ]
     },
     "execution_count": 4,
     "metadata": {},
     "output_type": "execute_result"
    }
   ],
   "source": [
    "3+2 # sum two numbers"
   ]
  },
  {
   "cell_type": "code",
   "execution_count": 5,
   "metadata": {},
   "outputs": [
    {
     "data": {
      "text/plain": [
       "512"
      ]
     },
     "execution_count": 5,
     "metadata": {},
     "output_type": "execute_result"
    }
   ],
   "source": [
    "8**3 # raise one number to the power of another"
   ]
  },
  {
   "cell_type": "markdown",
   "metadata": {},
   "source": [
    "Note that 8 ** 3 is legal/allowed, but 8 * * 3 is not. Whitespace around an operator doesn't matter. Spaces within the operator do!\n",
    "\n",
    "Whitespace is the name given to spaces, tabs and indents. As long as you don't use it within an operator (e.g. you must always call the 'print' command as 'print', never 'p rint' it makes Python code easier to read and doesn't affect how your code runs (i.e. whitespace is ignored by the Python interpreter)."
   ]
  },
  {
   "cell_type": "code",
   "execution_count": null,
   "metadata": {
    "collapsed": true
   },
   "outputs": [],
   "source": [
    "8 *   * 3"
   ]
  },
  {
   "cell_type": "markdown",
   "metadata": {},
   "source": [
    "### Exercises\n",
    "\n",
    "Insert new cells into this notebook to complete each of the following exercises.\n",
    "\n",
    "1. Evaluate the following expressions: \n",
    "    \n",
    "    (a) 7-15\n",
    "    \n",
    "    (b) $3^7+16/3$\n",
    "\n",
    "\n",
    "2. The following lines of code will result in error messages when you try to run them. Fix the code so it runs without errors:"
   ]
  },
  {
   "cell_type": "code",
   "execution_count": null,
   "metadata": {
    "collapsed": true
   },
   "outputs": [],
   "source": [
    "print('hello world!\")"
   ]
  },
  {
   "cell_type": "code",
   "execution_count": null,
   "metadata": {
    "collapsed": true
   },
   "outputs": [],
   "source": [
    "5 + '3'"
   ]
  },
  {
   "cell_type": "code",
   "execution_count": null,
   "metadata": {
    "collapsed": true
   },
   "outputs": [],
   "source": [
    "print \"hello?\""
   ]
  },
  {
   "cell_type": "markdown",
   "metadata": {},
   "source": [
    "### 3.4 Why it's okay to Google stuff -Google is your friend/ StackOverflow is your mum\n",
    "\n",
    "Do you feel like a Python programmer yet? Probably not, but don't worry- none of us, not even the ones who've been using Python for years, ever really feel like 'proper' programmers.\n",
    "\n",
    "No one has the time to memorise every single Python function they'll ever need to use (and even if they did, it would be a very inefficient use of their time). Beyond a very small handful of functions, you're not expected to memorise the commands we cover in this seminar, and you should never hesitate to look for help online when you get stuck. \n",
    "\n",
    "Programmers sometimes joke that they spend 90% of their time Googling bits of code they've forgotten- that's not an exaggeration. Here are some excellent resources that I consult appoximately 100 times on any given working day:\n",
    "\n",
    "* Stackoverflow: https://stackoverflow.com/\n",
    "* Python documentation: https://docs.python.org/3/\n",
    "* Google (obviously)\n",
    "* The person sitting next to you\n",
    "\n",
    "Understanding that it's ok and encouraged to look for help is such an important part of your Python journey."
   ]
  },
  {
   "cell_type": "markdown",
   "metadata": {},
   "source": [
    "## 4. Variables\n",
    "\n",
    "### 4.1 What is a variable?\n",
    "\n",
    "A variable is a way of assigning a name to a string, number, or other object in Python. To assign a value to a variable, we use the operator = (not to be confused with ‘equal to’). \n",
    "\n",
    "The assignment ```myname = 'Bob'``` can interpreted as \"the string ```'Bob'``` is assigned to the variable ```myname```\". \n",
    "\n",
    "When defining variable names they should only contain numbers, letters (both upper and lower), and underscores \\_. \n",
    "\n",
    "They must begin with a letter or an underscore, and variable names in Python are case sensitive. \n",
    "\n",
    "As with most languages it is important that reserved words (e.g. import, print, for) are not used for variable names. \n",
    "\n",
    "Here are some examples of legal user defined variable names:"
   ]
  },
  {
   "cell_type": "code",
   "execution_count": null,
   "metadata": {
    "collapsed": true
   },
   "outputs": [],
   "source": [
    "x = 1.0\n",
    "X = 1.0 \n",
    "X1 = 1.0\n",
    "X1 = 1.0  # note redefinition is allowed\n",
    "x1 = 1.0\n",
    "big = 1.0\n",
    "bigfoot = 1.0\n",
    "Bigfoot = 1.0\n",
    "_x = 1.0  # legal but not encouraged\n",
    "x_ = 1.0  # as above"
   ]
  },
  {
   "cell_type": "markdown",
   "metadata": {},
   "source": [
    "### 4.2 Reserved words\n",
    "\n",
    "A reserved word in Python is a word that's either\n",
    "\n",
    "* Already the name of a built in function, like print or sum or list\n",
    "* Already the name of an operator, like and, or or, or not \n",
    "* Already the name of a type, like int \n",
    "\n",
    "Bad things happen if you try to make a variable that has the same name as a reserved word. Don't do things like this: \n",
    "\n",
    "```print = 5 \n",
    "list = [1,2,3,4]\n",
    "set = 58```\n",
    "\n",
    "This is another reason why having long, meaningful variable names is a good idea."
   ]
  },
  {
   "cell_type": "code",
   "execution_count": null,
   "metadata": {
    "collapsed": true
   },
   "outputs": [],
   "source": [
    "mylist = [1,2,3,4] # this is allowed, 'mylist' shows up in black text"
   ]
  },
  {
   "cell_type": "code",
   "execution_count": null,
   "metadata": {
    "collapsed": true
   },
   "outputs": [],
   "source": [
    "list = [1,2,3,4] # this is bad, python warns you; 'mylist' shows up in green text"
   ]
  },
  {
   "cell_type": "markdown",
   "metadata": {},
   "source": [
    "Now let's retrieve the value of one of our variables."
   ]
  },
  {
   "cell_type": "code",
   "execution_count": null,
   "metadata": {
    "collapsed": true
   },
   "outputs": [],
   "source": [
    "print(x)"
   ]
  },
  {
   "cell_type": "code",
   "execution_count": null,
   "metadata": {
    "collapsed": true
   },
   "outputs": [],
   "source": [
    "type(x)"
   ]
  },
  {
   "cell_type": "code",
   "execution_count": null,
   "metadata": {
    "collapsed": true
   },
   "outputs": [],
   "source": [
    "x"
   ]
  },
  {
   "cell_type": "markdown",
   "metadata": {},
   "source": [
    "We can perform calculations with multiple variables"
   ]
  },
  {
   "cell_type": "code",
   "execution_count": null,
   "metadata": {
    "collapsed": true
   },
   "outputs": [],
   "source": [
    "x=1\n",
    "x + bigfoot"
   ]
  },
  {
   "cell_type": "markdown",
   "metadata": {},
   "source": [
    "The following are illegal names for variables"
   ]
  },
  {
   "cell_type": "code",
   "execution_count": null,
   "metadata": {
    "collapsed": true
   },
   "outputs": [],
   "source": [
    "x: = 1.0\n",
    "1X = 1\n",
    "X-1 = 1\n",
    "for = 1"
   ]
  },
  {
   "cell_type": "markdown",
   "metadata": {},
   "source": [
    "### 4.3 Variable names\n",
    "\n",
    "It's a good idea to choose meaningful names for variables: although it's used in the examples above, 'x' would be a very unhelpful name for a variable in practise, because the name doesn't tell us anything about what 'x' actually is.\n",
    "\n",
    "Better examples of variable names (depending on the application) could be:"
   ]
  },
  {
   "cell_type": "code",
   "execution_count": null,
   "metadata": {
    "collapsed": true
   },
   "outputs": [],
   "source": [
    "user_age = 29\n",
    "user_name = 'Sarah'\n",
    "days_in_year = 365"
   ]
  },
  {
   "cell_type": "markdown",
   "metadata": {},
   "source": [
    "## 5. Numerical Data types"
   ]
  },
  {
   "cell_type": "markdown",
   "metadata": {},
   "source": [
    "### 5.1 Ints and Floats"
   ]
  },
  {
   "cell_type": "markdown",
   "metadata": {},
   "source": [
    "The most important (scalar) data types for numerical analysis purposes are floats, or floating point numbers, and ints, or integers. To create a floating data type, it is necessary to include a decimal point. "
   ]
  },
  {
   "cell_type": "code",
   "execution_count": null,
   "metadata": {
    "collapsed": true
   },
   "outputs": [],
   "source": [
    "x=3; type(x)"
   ]
  },
  {
   "cell_type": "code",
   "execution_count": null,
   "metadata": {
    "collapsed": true
   },
   "outputs": [],
   "source": [
    "x=3.0; type(x)"
   ]
  },
  {
   "cell_type": "markdown",
   "metadata": {},
   "source": [
    "We can round numbers using the 'round' function, either to a whole number..."
   ]
  },
  {
   "cell_type": "code",
   "execution_count": null,
   "metadata": {
    "collapsed": true
   },
   "outputs": [],
   "source": [
    "round(3.4)"
   ]
  },
  {
   "cell_type": "code",
   "execution_count": null,
   "metadata": {
    "collapsed": true
   },
   "outputs": [],
   "source": [
    "round(3.9)"
   ]
  },
  {
   "cell_type": "markdown",
   "metadata": {},
   "source": [
    "Or to a given number of decimal places (in this case, 6 decimal places)"
   ]
  },
  {
   "cell_type": "code",
   "execution_count": null,
   "metadata": {
    "collapsed": true
   },
   "outputs": [],
   "source": [
    "round(3.2399817,6) # 2 parameter function"
   ]
  },
  {
   "cell_type": "markdown",
   "metadata": {},
   "source": [
    "In programming languages generally, a variable name represents a value of a given type (int, float, etc.) stored in a fixed memory location. The value of a variable can be changed but not the variable type. This is not the case in Python where variables are dynamically typed as illustrated below. This means that if we multiply an int with a float, the result will be a float."
   ]
  },
  {
   "cell_type": "code",
   "execution_count": null,
   "metadata": {
    "collapsed": true
   },
   "outputs": [],
   "source": [
    "x=3 # type int\n",
    "type(x)"
   ]
  },
  {
   "cell_type": "code",
   "execution_count": null,
   "metadata": {
    "collapsed": true
   },
   "outputs": [],
   "source": [
    "x=x*2.0\n",
    "type(x) # type now changes"
   ]
  },
  {
   "cell_type": "markdown",
   "metadata": {},
   "source": [
    "### 5.2 Converting between numerical types "
   ]
  },
  {
   "cell_type": "markdown",
   "metadata": {},
   "source": [
    "We can convert between integers and floats using the 'int' and 'float' functions."
   ]
  },
  {
   "cell_type": "code",
   "execution_count": null,
   "metadata": {
    "collapsed": true
   },
   "outputs": [],
   "source": [
    "x=float(3)\n",
    "print(type(x))"
   ]
  },
  {
   "cell_type": "code",
   "execution_count": null,
   "metadata": {
    "collapsed": true
   },
   "outputs": [],
   "source": [
    "y=int(5.5)\n",
    "print(type(y))\n",
    "print(y)"
   ]
  },
  {
   "cell_type": "markdown",
   "metadata": {},
   "source": [
    "We can also convert ints and floats to strings."
   ]
  },
  {
   "cell_type": "code",
   "execution_count": null,
   "metadata": {
    "collapsed": true
   },
   "outputs": [],
   "source": [
    "z=str(6)\n",
    "print(type(z))\n",
    "print(z)"
   ]
  },
  {
   "cell_type": "markdown",
   "metadata": {},
   "source": [
    "## 6. None types"
   ]
  },
  {
   "cell_type": "markdown",
   "metadata": {},
   "source": [
    "Sometimes we want to represent an absence of data. In Python we do this using the 'None' type"
   ]
  },
  {
   "cell_type": "code",
   "execution_count": null,
   "metadata": {
    "collapsed": true
   },
   "outputs": [],
   "source": [
    "value = None\n",
    "print(value)"
   ]
  },
  {
   "cell_type": "markdown",
   "metadata": {},
   "source": [
    "## 7. Booleans"
   ]
  },
  {
   "cell_type": "markdown",
   "metadata": {},
   "source": [
    "'True' and 'False' are the only two values of a special Python type called a 'Boolean' or 'bool' for short, used for assessing whether something is true or not.\n",
    "\n",
    "In any code, we can make further choices depending on the outcome of a test."
   ]
  },
  {
   "cell_type": "code",
   "execution_count": null,
   "metadata": {
    "collapsed": true
   },
   "outputs": [],
   "source": [
    "type(True)"
   ]
  },
  {
   "cell_type": "markdown",
   "metadata": {},
   "source": [
    "Just like the '+' operator takes two numbers and returns an integer value, other operators like '<', '>' and '==' take two integers (or floats, or strings) and return a Boolean."
   ]
  },
  {
   "cell_type": "code",
   "execution_count": null,
   "metadata": {
    "collapsed": true
   },
   "outputs": [],
   "source": [
    "6<10 # asking the question, is 6 less than 10"
   ]
  },
  {
   "cell_type": "code",
   "execution_count": null,
   "metadata": {
    "collapsed": true
   },
   "outputs": [],
   "source": [
    "8>10 "
   ]
  },
  {
   "cell_type": "code",
   "execution_count": null,
   "metadata": {
    "collapsed": true
   },
   "outputs": [],
   "source": [
    "5==10 # Is 5=10?"
   ]
  },
  {
   "cell_type": "code",
   "execution_count": null,
   "metadata": {
    "collapsed": true
   },
   "outputs": [],
   "source": [
    "10!=6 # 10 is not equal to 6"
   ]
  },
  {
   "cell_type": "code",
   "execution_count": null,
   "metadata": {
    "collapsed": true
   },
   "outputs": [],
   "source": [
    "type(10==10)"
   ]
  },
  {
   "cell_type": "markdown",
   "metadata": {},
   "source": [
    "### 7.1 Using Booleans "
   ]
  },
  {
   "cell_type": "markdown",
   "metadata": {},
   "source": [
    "Booleans are frequently used to filter data or conditions. Sometimes, we may want all countries with populations greater than 4,000,000 or all people named Bob. Both of these result in a `True` or `False` condition that split our data into the groups we want.\n",
    "\n",
    "In Python, there are several built-in commands for deciding how to filter results:\n",
    "\n",
    "- `and`: Are both A and B true?\n",
    "- `not`: Is A the same as B?\n",
    "- `or`: Is A or B true?"
   ]
  },
  {
   "cell_type": "code",
   "execution_count": null,
   "metadata": {
    "collapsed": true
   },
   "outputs": [],
   "source": [
    "True and False"
   ]
  },
  {
   "cell_type": "code",
   "execution_count": null,
   "metadata": {
    "collapsed": true
   },
   "outputs": [],
   "source": [
    "not False"
   ]
  },
  {
   "cell_type": "code",
   "execution_count": null,
   "metadata": {
    "collapsed": true
   },
   "outputs": [],
   "source": [
    "True or False"
   ]
  },
  {
   "cell_type": "markdown",
   "metadata": {},
   "source": [
    "## 8. Strings"
   ]
  },
  {
   "cell_type": "markdown",
   "metadata": {},
   "source": [
    "Strings are essentially any character combination in between quotes. They are most often used as a way of storing text. Strings are used frequently, because most of the data that humans create are text-based, such as restaurant reviews or emails."
   ]
  },
  {
   "cell_type": "code",
   "execution_count": null,
   "metadata": {
    "collapsed": true
   },
   "outputs": [],
   "source": [
    "s = \"Hello world\"\n",
    "type(s)"
   ]
  },
  {
   "cell_type": "markdown",
   "metadata": {},
   "source": [
    "### 8.1 Concatenation\n",
    "\n",
    "Two strings can be joined/added together (concatenated) using the **+** operator:"
   ]
  },
  {
   "cell_type": "code",
   "execution_count": null,
   "metadata": {
    "collapsed": true
   },
   "outputs": [],
   "source": [
    "\"Hello, \" + \"world!\""
   ]
  },
  {
   "cell_type": "markdown",
   "metadata": {},
   "source": [
    "This joining together of strings is very simple; however if you want words split by a space you have to put the space in. Here are some examples"
   ]
  },
  {
   "cell_type": "code",
   "execution_count": null,
   "metadata": {
    "collapsed": true
   },
   "outputs": [],
   "source": [
    "\"Hello, \"   +  \"world!\" # space after the comma"
   ]
  },
  {
   "cell_type": "code",
   "execution_count": null,
   "metadata": {
    "collapsed": true
   },
   "outputs": [],
   "source": [
    "\"Hello,\"  +  \" world!\" # space before second word"
   ]
  },
  {
   "cell_type": "markdown",
   "metadata": {},
   "source": [
    "### 8.2 Converting strings to integers\n",
    "\n",
    "Strings can be converted to integers using the built-in function 'int', but only when we're asking Python to perform a sensible conversion!"
   ]
  },
  {
   "cell_type": "code",
   "execution_count": null,
   "metadata": {
    "collapsed": true
   },
   "outputs": [],
   "source": [
    "type(int(\"10\"))"
   ]
  },
  {
   "cell_type": "code",
   "execution_count": null,
   "metadata": {
    "collapsed": true
   },
   "outputs": [],
   "source": [
    "int(\"-100\")"
   ]
  },
  {
   "cell_type": "code",
   "execution_count": null,
   "metadata": {
    "collapsed": true
   },
   "outputs": [],
   "source": [
    "int(\"100-10\") # this gives an error"
   ]
  },
  {
   "cell_type": "code",
   "execution_count": null,
   "metadata": {
    "collapsed": true
   },
   "outputs": [],
   "source": [
    "int(\"Shrubbery\") # so does this!"
   ]
  },
  {
   "cell_type": "markdown",
   "metadata": {
    "slideshow": {
     "slide_type": "slide"
    }
   },
   "source": [
    "Strings have a lot of associated methods and attributes that allow us to better understand and manipulate them.\n",
    "\n",
    "**In your own words, why would we want to manipulate or change strings?**"
   ]
  },
  {
   "cell_type": "code",
   "execution_count": null,
   "metadata": {
    "collapsed": true
   },
   "outputs": [],
   "source": [
    "# Finding the length of the string:\n",
    "s = \"Hello world\"\n",
    "len(s)"
   ]
  },
  {
   "cell_type": "code",
   "execution_count": null,
   "metadata": {
    "collapsed": true
   },
   "outputs": [],
   "source": [
    "# Replacing an element of a string:\n",
    "s2 = s.replace(\"world\", \"test\")\n",
    "print(s2)"
   ]
  },
  {
   "cell_type": "code",
   "execution_count": null,
   "metadata": {
    "collapsed": true
   },
   "outputs": [],
   "source": [
    "# Converting a string to lowercase or uppercase\n",
    "s3 = s.upper()\n",
    "print(s3)"
   ]
  },
  {
   "cell_type": "code",
   "execution_count": null,
   "metadata": {
    "collapsed": true
   },
   "outputs": [],
   "source": [
    "# Converting a string to lowercase or uppercase\n",
    "s4 = s.lower()\n",
    "print(s4)"
   ]
  },
  {
   "cell_type": "markdown",
   "metadata": {
    "slideshow": {
     "slide_type": "slide"
    }
   },
   "source": [
    "### 8.3 String Indexing\n",
    "\n",
    "In some cases, we may want a part of the string (like the first character for alphabetizing or categorizing). Indexing helps us do that.\n",
    "\n",
    "We can extract characters at specific index locations in a string using indexing."
   ]
  },
  {
   "cell_type": "code",
   "execution_count": null,
   "metadata": {
    "collapsed": true
   },
   "outputs": [],
   "source": [
    "# Indexing the first (index 0) character in the string:\n",
    "s[0]"
   ]
  },
  {
   "cell_type": "markdown",
   "metadata": {
    "slideshow": {
     "slide_type": "slide"
    }
   },
   "source": [
    "The number you enter after the variable name in brackets (the `[0]`) is called the index (its plural is indices).\n",
    "\n",
    "_Counting in Python and many other programming languages begins at zero, as opposed to one. This is called zero-based indexing._"
   ]
  },
  {
   "cell_type": "code",
   "execution_count": null,
   "metadata": {
    "collapsed": true
   },
   "outputs": [],
   "source": [
    "# This is called \"splicing.\" We start at the left index \n",
    "#   and go up to but not include the right index.\n",
    "\n",
    "# Objects at indexes 0, 1, and 2:\n",
    "s[0:3]"
   ]
  },
  {
   "cell_type": "markdown",
   "metadata": {
    "slideshow": {
     "slide_type": "slide"
    }
   },
   "source": [
    "Most ranges, or functions with ranges, have upper ends that are not inclusive. So, a range of `[0:5]` starts at `0` and stops before `5`.\n",
    "\n",
    "A good mental trick is to look at something like `[5:25]` and say out loud \"Starting at five and going up to (but not including) 25.\""
   ]
  },
  {
   "cell_type": "code",
   "execution_count": null,
   "metadata": {
    "collapsed": true
   },
   "outputs": [],
   "source": [
    "# From index 6 up to the end of the string:\n",
    "s[6:]"
   ]
  },
  {
   "cell_type": "code",
   "execution_count": null,
   "metadata": {
    "collapsed": true
   },
   "outputs": [],
   "source": [
    "# No start or end specified:\n",
    "s[:]"
   ]
  },
  {
   "cell_type": "code",
   "execution_count": null,
   "metadata": {
    "collapsed": true
   },
   "outputs": [],
   "source": [
    "# Can we index from the right side?\n",
    "s[-1]"
   ]
  },
  {
   "cell_type": "markdown",
   "metadata": {
    "slideshow": {
     "slide_type": "slide"
    }
   },
   "source": [
    "In addition to specifying a range, you can include a step size or character skip rate. This might be helpful if you want every other letter, for example. \n",
    "\n",
    "These indexing methods can also be used on lists, where asking for every other number might be a good use case."
   ]
  },
  {
   "cell_type": "code",
   "execution_count": null,
   "metadata": {
    "collapsed": true
   },
   "outputs": [],
   "source": [
    "# Every second character starting at 0 and ending at 10:\n",
    "s[0:10:2]"
   ]
  },
  {
   "cell_type": "code",
   "execution_count": null,
   "metadata": {
    "collapsed": true
   },
   "outputs": [],
   "source": [
    "# Define a step size of 2; i.e., every other character:\n",
    "s[::2]"
   ]
  },
  {
   "cell_type": "code",
   "execution_count": null,
   "metadata": {
    "collapsed": true
   },
   "outputs": [],
   "source": [
    "# The same, but for a list of numbers:\n",
    "[0, 1, 2, 3, 4, 5, 6][::2]"
   ]
  },
  {
   "cell_type": "markdown",
   "metadata": {},
   "source": [
    "### 8.4 Escape sequences\n",
    "\n",
    "Python allows escape sequences (a backslash followed by a letter) to insert whitespace into strings."
   ]
  },
  {
   "cell_type": "code",
   "execution_count": null,
   "metadata": {
    "collapsed": true
   },
   "outputs": [],
   "source": [
    "print(\"Hello, \\nworld\") # inserts a new line"
   ]
  },
  {
   "cell_type": "code",
   "execution_count": null,
   "metadata": {
    "collapsed": true
   },
   "outputs": [],
   "source": [
    "print(\"Hello,\\tworld\") # inserts a tab"
   ]
  },
  {
   "cell_type": "code",
   "execution_count": null,
   "metadata": {
    "collapsed": true
   },
   "outputs": [],
   "source": [
    "print(\"Hello,\\\\world\")"
   ]
  },
  {
   "cell_type": "markdown",
   "metadata": {},
   "source": [
    "### 8.5 Slicing strings\n",
    "\n",
    "Slicing is a method used to extract a portion of the string, or a substring. Slicing uses square brackets and the syntax ```mystring[a:b]``` to specify which parts of the string we want to extract, where ```a``` is the index (or position) of the start of the substring and ```b-1``` is the index of the end of the substring.\n",
    "\n",
    "Python uses zero-indexing, which means the first element in a string of length ```n``` is at position 0, and the last element in the string has an index (or position) equal to ```n-1```.  "
   ]
  },
  {
   "cell_type": "code",
   "execution_count": null,
   "metadata": {
    "collapsed": true
   },
   "outputs": [],
   "source": [
    "mystring = \"Press return to exit\"\n",
    "print(mystring[0:14])"
   ]
  },
  {
   "cell_type": "markdown",
   "metadata": {},
   "source": [
    "A string is an immutable object. Its individual characters cannot be modified with an assignment statement, and it has a fixed length. Any attempt to be violate this property will result in an error."
   ]
  },
  {
   "cell_type": "code",
   "execution_count": null,
   "metadata": {
    "collapsed": true
   },
   "outputs": [],
   "source": [
    "mystring[0]=\"p\" # attempt to change P to p"
   ]
  },
  {
   "cell_type": "markdown",
   "metadata": {},
   "source": [
    "### Exercises\n",
    "\n",
    "1. Given the string \"The quick brown fox jumped over the lazy dog\", write code to extract:\n",
    "\n",
    "    (a) The following substring: \"The quick brown fo\"*\n",
    "    \n",
    "    (b) The first character only\n",
    "    \n",
    "    (c) The last character only*\n",
    "    \n",
    "    (d) The substring \"over the lazy dog\"*\n",
    "    \n",
    "    \\*You can do this in two ways: try to find both!\n",
    "    \n",
    "    \n",
    "2. Figure out what the following syntax does: \n",
    "\n",
    "```mystring[i:j:k]```, ```mystring[-1]```, ```mystring[:i]```, ```mystring[i:]```, ```mystring[:]```, ```mystring[-2]```\n",
    "\n",
    "    \n",
    "3. The following code will throw an error when you try to run it. Use escape sequences to fix the error:"
   ]
  },
  {
   "cell_type": "code",
   "execution_count": null,
   "metadata": {
    "collapsed": true
   },
   "outputs": [],
   "source": [
    "print(\"She said \"He's awake.\"\")"
   ]
  },
  {
   "cell_type": "markdown",
   "metadata": {},
   "source": [
    "## 9. Lists\n",
    "\n",
    "### 9.1 What's a list?\n",
    "\n",
    "Lists are compound data types. This means they are sequences of values, very similar to strings, except that each element can be of any type. The syntax for creating a list is ``[...]`` where each element is separated with a comma."
   ]
  },
  {
   "cell_type": "code",
   "execution_count": null,
   "metadata": {
    "collapsed": true
   },
   "outputs": [],
   "source": [
    "list_of_stuff = ['Pizza',5,42.0,True]\n",
    "list_of_stuff"
   ]
  },
  {
   "cell_type": "markdown",
   "metadata": {},
   "source": [
    "Unlike strings, lists are mutable. This means their contents can be changed after creation."
   ]
  },
  {
   "cell_type": "code",
   "execution_count": null,
   "metadata": {
    "collapsed": true
   },
   "outputs": [],
   "source": [
    "list_of_stuff[0]=\"hello\"\n",
    "list_of_stuff"
   ]
  },
  {
   "cell_type": "markdown",
   "metadata": {},
   "source": [
    "We can index lists in exactly the same way as strings."
   ]
  },
  {
   "cell_type": "code",
   "execution_count": null,
   "metadata": {
    "collapsed": true
   },
   "outputs": [],
   "source": [
    "primes = [ 2, 3, 5, 7, 11, 13, 17, 19]\n",
    "primes[-1]"
   ]
  },
  {
   "cell_type": "markdown",
   "metadata": {},
   "source": [
    "We can append items to the end of a list using the 'append' **method**. \n",
    "\n",
    "### 9.2 What's a method?\n",
    "\n",
    "Many types have what are known as \"methods:\" built-in functionality that allows them to do certain things. We've already seen a couple, such as the .replace() method, which lets you replace words in strings.\n",
    "\n",
    "Lists also have several methods that allow us to alter them, such as the .append() method, which allows us to add another element to the end of a list."
   ]
  },
  {
   "cell_type": "code",
   "execution_count": null,
   "metadata": {
    "collapsed": true
   },
   "outputs": [],
   "source": [
    "b=['peter','piper']\n",
    "b.append(10)\n",
    "b"
   ]
  },
  {
   "cell_type": "markdown",
   "metadata": {},
   "source": [
    "To determine the length of a list; the earlier function len used for strings, can be used here."
   ]
  },
  {
   "cell_type": "code",
   "execution_count": null,
   "metadata": {
    "collapsed": true
   },
   "outputs": [],
   "source": [
    "primes = [ 2, 3, 5, 7, 11, 13, 17, 19] # index runs from 0 to 7 incl.\n",
    "len(primes)"
   ]
  },
  {
   "cell_type": "markdown",
   "metadata": {},
   "source": [
    "Note that we always read indexing from left to right. In the example above, the interpreter looks up names and gets the first element, which is the string \"Anne\". Then, the slice ([1:]) adds the first index of that string to the end of the original string, evaluating to \"nne\".\n",
    "\n",
    "Interestingly, the following works in the same way. Instead of having to look up the value of names, the list is directly specified (just read the line from left to right!)."
   ]
  },
  {
   "cell_type": "code",
   "execution_count": null,
   "metadata": {
    "collapsed": true
   },
   "outputs": [],
   "source": [
    "['Carol', 'Anne', 'Jessica', 'Michelle'][1][1:]"
   ]
  },
  {
   "cell_type": "markdown",
   "metadata": {},
   "source": [
    "### Exercises\n",
    "\n",
    "Given the list below, write code to extract:\n",
    "\n",
    "(a) The first element\n",
    "\n",
    "(b) The last element\n",
    "\n",
    "(c) The substring 'ban' from the last element\n",
    "\n",
    "Append an extra element, 'apples', to the list\n",
    "\n",
    "Remove the first element of the list\n",
    "\n",
    "Reverse the order of elements in the list (you might need to Google around a bit to get the solution)"
   ]
  },
  {
   "cell_type": "code",
   "execution_count": null,
   "metadata": {
    "collapsed": true
   },
   "outputs": [],
   "source": [
    "mylist = ['a','b','d','e',1,2,3,'124','bananas']"
   ]
  },
  {
   "cell_type": "markdown",
   "metadata": {
    "slideshow": {
     "slide_type": "slide"
    }
   },
   "source": [
    "## Tuples\n",
    "\n",
    "Tuples are similar to lists in that they store a sequence of various separate values. However, tuples are not mutable in that, once they are created, their values cannot be changed.\n",
    "\n",
    "**In your own words, why would creating something that cannot be changed later be helpful?**"
   ]
  },
  {
   "cell_type": "code",
   "execution_count": null,
   "metadata": {
    "collapsed": true
   },
   "outputs": [],
   "source": [
    "point = (10, 20)\n",
    "print(point)\n",
    "print(type(point))"
   ]
  },
  {
   "cell_type": "code",
   "execution_count": null,
   "metadata": {
    "collapsed": true
   },
   "outputs": [],
   "source": [
    "# They can be sliced, just like lists and strings:\n",
    "point[0]"
   ]
  },
  {
   "cell_type": "markdown",
   "metadata": {},
   "source": [
    "## 11. Dictionaries\n",
    "\n",
    "A dictionary is another 'type' in Python. \n",
    "\n",
    "Dictionaries are an alternative to lists for storing and accessing information. Instead of using an ordered index to access data stored in a dictionary, we use a system of key-value pairs.\n",
    "\n",
    "A key is similar to a variable name.\n",
    "\n",
    "A value is similar to the value assigned to the variable.\n",
    "\n",
    "Instead of looking up (or 'indexing') values in a dictionary using numerical indices (e.g. mylist[0]), we access elements in a dictionary using words, or keys.\n",
    "\n",
    "We create dictionaries using curly brackets ``{}``. Remember this is different to the syntax for creating lists, which is ``[]``. Let's start by making a dictionary that contains the favourite foods of people in this class."
   ]
  },
  {
   "cell_type": "code",
   "execution_count": null,
   "metadata": {
    "collapsed": true
   },
   "outputs": [],
   "source": [
    "params = {'key1' : 1.0,\n",
    "          'key2' : 2.0,\n",
    "          'key3' : 3.0,}\n",
    "\n",
    "print(type(params))\n",
    "print(params)"
   ]
  },
  {
   "cell_type": "code",
   "execution_count": null,
   "metadata": {
    "collapsed": true
   },
   "outputs": [],
   "source": [
    "params['key1']"
   ]
  },
  {
   "cell_type": "markdown",
   "metadata": {},
   "source": [
    "The keys stay the same, but the values are changeable. You can also only have one occurrence of a key in a dictionary, but you can have all of the values be the same."
   ]
  },
  {
   "cell_type": "code",
   "execution_count": null,
   "metadata": {
    "collapsed": true
   },
   "outputs": [],
   "source": [
    "# Value for parameter2 in the params dictionary:\n",
    "params['key2']"
   ]
  },
  {
   "cell_type": "code",
   "execution_count": null,
   "metadata": {
    "collapsed": true
   },
   "outputs": [],
   "source": [
    "# Adding a new dictionary entry:\n",
    "params['key4'] = 'D'"
   ]
  },
  {
   "cell_type": "code",
   "execution_count": null,
   "metadata": {
    "collapsed": true
   },
   "outputs": [],
   "source": [
    "print(params)"
   ]
  },
  {
   "cell_type": "code",
   "execution_count": null,
   "metadata": {
    "collapsed": true
   },
   "outputs": [],
   "source": [
    "# Reassigning the value of a key-value pair in the dictionary:\n",
    "params['key1'] = 'A'\n",
    "params['key2'] = 'B'"
   ]
  },
  {
   "cell_type": "markdown",
   "metadata": {},
   "source": [
    "We can also nest elements in a dictionary; so an element in a dictionary can contain a list, or even another dictionary."
   ]
  },
  {
   "cell_type": "code",
   "execution_count": null,
   "metadata": {
    "collapsed": true
   },
   "outputs": [],
   "source": [
    "favourite_foods_dictionary = {'Maryam': ['pizza','pasta','ramen'],\n",
    "                             'Bob': ['dim sum','hotpot','noodles'],\n",
    "                             'Sarah': ['lasgna','sushi','banana']}"
   ]
  },
  {
   "cell_type": "code",
   "execution_count": null,
   "metadata": {
    "collapsed": true
   },
   "outputs": [],
   "source": [
    "favourite_foods_dictionary['Bob'][1]"
   ]
  },
  {
   "cell_type": "markdown",
   "metadata": {},
   "source": [
    "Elements of dictionaries can also contain multiple types: strings, ints, lists, and dictionaries."
   ]
  },
  {
   "cell_type": "code",
   "execution_count": null,
   "metadata": {
    "collapsed": true
   },
   "outputs": [],
   "source": [
    "class_information_dictionary = {'Maryam': {'food':'pizza',\n",
    "                                           'drink':['coffee','orange juice','tea'],\n",
    "                                           'age':29},\n",
    "                               'Bob': {'food':'dim sum',\n",
    "                                          'drink':'chinese tea',\n",
    "                                          'age': 21},\n",
    "                               'Sarah': {'food':'lasagna',\n",
    "                                         'drink': 'japanese tea',\n",
    "                                         'age': 22}}"
   ]
  },
  {
   "cell_type": "markdown",
   "metadata": {},
   "source": [
    "<a id=\"recap-requests\"></a>\n",
    "## Recaps and Requests\n",
    "\n",
    "---\n",
    "\n",
    "Take a moment to write down the answers to the following for yourself:\n",
    "\n",
    "1) What parts of the Python material covered today do I feel like I know very well right now? <br>\n",
    "2) What parts of the Python material covered today were a struggle? <br>\n",
    "\n",
    "We'll each share what caused us some trouble today and take a few minutes to review anything that's outstanding. If you noticed that you really mastered something that somebody else found especially challenging, take some time to reach out and offer some help!"
   ]
  }
 ],
 "metadata": {
  "kernelspec": {
   "display_name": "Python 3",
   "language": "python",
   "name": "python3"
  },
  "language_info": {
   "codemirror_mode": {
    "name": "ipython",
    "version": 3
   },
   "file_extension": ".py",
   "mimetype": "text/x-python",
   "name": "python",
   "nbconvert_exporter": "python",
   "pygments_lexer": "ipython3",
   "version": "3.5.4"
  }
 },
 "nbformat": 4,
 "nbformat_minor": 2
}
