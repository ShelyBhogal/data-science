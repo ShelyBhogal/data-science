{
 "cells": [
  {
   "cell_type": "markdown",
   "metadata": {},
   "source": [
    "<img src=\"http://imgur.com/1ZcRyrc.png\" style=\"float: left; margin: 20px; height: 55px\">\n",
    "\n",
    "# Guided Practice with Topic Modeling and LDA\n",
    "\n",
    "_Authors: Dave Yerrington (SF)_\n",
    "\n",
    "---\n",
    "\n",
    "> **Note: this lab is intended to be a guided lab with the instructor.**\n",
    "\n",
    "In practice it would be a very rare to need to build an unsupervised topic model like LDA from scratch. Lucky for us, sklearn comes with LDA topic modeling functionality. Another popular LDA module which we will explore in this lab is from the `gensim` package. \n",
    "\n",
    "Let's explore a brief walkthrough of LDA and topic modeling using gensim. We will work with a small collection of documents represented as a list."
   ]
  },
  {
   "cell_type": "markdown",
   "metadata": {},
   "source": [
    "### 1. Load the packages and create the small \"documents\".\n",
    "\n",
    "You may need to install the gensim package with `pip` or `conda`."
   ]
  },
  {
   "cell_type": "code",
   "execution_count": 1,
   "metadata": {},
   "outputs": [],
   "source": [
    "from gensim import corpora, models, matutils\n",
    "from sklearn.feature_extraction.text import CountVectorizer, TfidfVectorizer\n",
    "from collections import defaultdict\n",
    "import pandas as pd\n",
    "\n",
    "\n",
    "doc_a = \"Brocolli is good to eat. My brother likes to eat good brocolli, but not my mother.\"\n",
    "doc_b = \"My mother spends a lot of time driving my brother around to baseball practice.\"\n",
    "doc_c = \"Some health experts suggest that driving may cause increased tension and blood pressure.\"\n",
    "doc_d = \"I often feel pressure to perform well at school, but my mother never seems to drive my brother to do better.\"\n",
    "doc_e = \"Health professionals say that brocolli is good for your health.\"\n",
    "\n",
    "# compile sample documents into a list\n",
    "documents = [doc_a, doc_b, doc_c, doc_d, doc_e]\n",
    "# convert list into DataFrame\n",
    "df        = pd.DataFrame(documents, columns=['text'])"
   ]
  },
  {
   "cell_type": "code",
   "execution_count": 2,
   "metadata": {},
   "outputs": [
    {
     "data": {
      "text/html": [
       "<div>\n",
       "<style scoped>\n",
       "    .dataframe tbody tr th:only-of-type {\n",
       "        vertical-align: middle;\n",
       "    }\n",
       "\n",
       "    .dataframe tbody tr th {\n",
       "        vertical-align: top;\n",
       "    }\n",
       "\n",
       "    .dataframe thead th {\n",
       "        text-align: right;\n",
       "    }\n",
       "</style>\n",
       "<table border=\"1\" class=\"dataframe\">\n",
       "  <thead>\n",
       "    <tr style=\"text-align: right;\">\n",
       "      <th></th>\n",
       "      <th>text</th>\n",
       "    </tr>\n",
       "  </thead>\n",
       "  <tbody>\n",
       "    <tr>\n",
       "      <td>0</td>\n",
       "      <td>Brocolli is good to eat. My brother likes to e...</td>\n",
       "    </tr>\n",
       "    <tr>\n",
       "      <td>1</td>\n",
       "      <td>My mother spends a lot of time driving my brot...</td>\n",
       "    </tr>\n",
       "    <tr>\n",
       "      <td>2</td>\n",
       "      <td>Some health experts suggest that driving may c...</td>\n",
       "    </tr>\n",
       "    <tr>\n",
       "      <td>3</td>\n",
       "      <td>I often feel pressure to perform well at schoo...</td>\n",
       "    </tr>\n",
       "    <tr>\n",
       "      <td>4</td>\n",
       "      <td>Health professionals say that brocolli is good...</td>\n",
       "    </tr>\n",
       "  </tbody>\n",
       "</table>\n",
       "</div>"
      ],
      "text/plain": [
       "                                                text\n",
       "0  Brocolli is good to eat. My brother likes to e...\n",
       "1  My mother spends a lot of time driving my brot...\n",
       "2  Some health experts suggest that driving may c...\n",
       "3  I often feel pressure to perform well at schoo...\n",
       "4  Health professionals say that brocolli is good..."
      ]
     },
     "execution_count": 2,
     "metadata": {},
     "output_type": "execute_result"
    }
   ],
   "source": [
    "df"
   ]
  },
  {
   "cell_type": "markdown",
   "metadata": {},
   "source": [
    "### 2. Load stop words either from NLTK or sklearn"
   ]
  },
  {
   "cell_type": "code",
   "execution_count": 3,
   "metadata": {},
   "outputs": [],
   "source": [
    "from nltk.corpus import stopwords\n",
    "#from sklearn.feature_extraction.text import ENGLISH_STOP_WORDS"
   ]
  },
  {
   "cell_type": "code",
   "execution_count": 4,
   "metadata": {},
   "outputs": [],
   "source": [
    "# Prepare the list of stop words from NLTK\n",
    "stop_words = stopwords.words('english')\n",
    "\n",
    "# If you need to extend the list of stop words whilst testing\n",
    "#stop_words.extend(['from', 'subject', 're', 'edu', 'use'])"
   ]
  },
  {
   "cell_type": "code",
   "execution_count": 5,
   "metadata": {},
   "outputs": [
    {
     "data": {
      "text/plain": [
       "179"
      ]
     },
     "execution_count": 5,
     "metadata": {},
     "output_type": "execute_result"
    }
   ],
   "source": [
    "len(stop_words)"
   ]
  },
  {
   "cell_type": "markdown",
   "metadata": {},
   "source": [
    "### 3. Use CountVectorizer to transform our text, taking out the stopwords."
   ]
  },
  {
   "cell_type": "code",
   "execution_count": 6,
   "metadata": {},
   "outputs": [],
   "source": [
    "vect = CountVectorizer(stop_words=stop_words)\n",
    "\n",
    "X_vect = vect.fit_transform(df.text)"
   ]
  },
  {
   "cell_type": "code",
   "execution_count": 9,
   "metadata": {},
   "outputs": [
    {
     "name": "stdout",
     "output_type": "stream",
     "text": [
      "  (0, 4)\t2\n",
      "  (0, 12)\t2\n",
      "  (0, 9)\t2\n",
      "  (0, 5)\t1\n",
      "  (0, 15)\t1\n",
      "  (0, 18)\t1\n",
      "  (1, 5)\t1\n",
      "  (1, 18)\t1\n",
      "  (1, 28)\t1\n",
      "  (1, 16)\t1\n",
      "  (1, 31)\t1\n",
      "  (1, 8)\t1\n",
      "  (1, 0)\t1\n",
      "  (1, 1)\t1\n",
      "  (1, 22)\t1\n",
      "  (2, 8)\t1\n",
      "  (2, 13)\t1\n",
      "  (2, 10)\t1\n",
      "  (2, 29)\t1\n",
      "  (2, 17)\t1\n",
      "  (2, 6)\t1\n",
      "  (2, 14)\t1\n",
      "  (2, 30)\t1\n",
      "  (2, 3)\t1\n",
      "  (2, 23)\t1\n",
      "  (3, 5)\t1\n",
      "  (3, 18)\t1\n",
      "  (3, 23)\t1\n",
      "  (3, 20)\t1\n",
      "  (3, 11)\t1\n",
      "  (3, 21)\t1\n",
      "  (3, 32)\t1\n",
      "  (3, 26)\t1\n",
      "  (3, 19)\t1\n",
      "  (3, 27)\t1\n",
      "  (3, 7)\t1\n",
      "  (3, 2)\t1\n",
      "  (4, 4)\t1\n",
      "  (4, 12)\t1\n",
      "  (4, 13)\t2\n",
      "  (4, 24)\t1\n",
      "  (4, 25)\t1\n"
     ]
    }
   ],
   "source": [
    "print(X_vect)"
   ]
  },
  {
   "cell_type": "markdown",
   "metadata": {},
   "source": [
    "### 4. Extract the tokens that remain after stopword removal.\n",
    "\n",
    "The `.vocabulary_` attribute of the vectorizer contains a dictionary of terms. There is also the built-in function `.get_feature_names()` which will extract the column names."
   ]
  },
  {
   "cell_type": "code",
   "execution_count": 10,
   "metadata": {},
   "outputs": [
    {
     "data": {
      "text/plain": [
       "33"
      ]
     },
     "execution_count": 10,
     "metadata": {},
     "output_type": "execute_result"
    }
   ],
   "source": [
    "# 33 words\n",
    "len(vect.vocabulary_)"
   ]
  },
  {
   "cell_type": "code",
   "execution_count": 11,
   "metadata": {},
   "outputs": [
    {
     "data": {
      "text/plain": [
       "array(['around', 'baseball', 'better', 'blood', 'brocolli', 'brother',\n",
       "       'cause', 'drive', 'driving', 'eat', 'experts', 'feel', 'good',\n",
       "       'health', 'increased', 'likes', 'lot', 'may', 'mother', 'never',\n",
       "       'often', 'perform', 'practice', 'pressure', 'professionals', 'say',\n",
       "       'school', 'seems', 'spends', 'suggest', 'tension', 'time', 'well'],\n",
       "      dtype=object)"
      ]
     },
     "execution_count": 11,
     "metadata": {},
     "output_type": "execute_result"
    }
   ],
   "source": [
    "# 33 features\n",
    "vect.get_feature_names_out()"
   ]
  },
  {
   "cell_type": "markdown",
   "metadata": {},
   "source": [
    "### 5. Get counts of tokens.\n",
    "\n",
    "Convert the matrix from the vectorizer to a dense matrix, then sum by column to get the counts per term."
   ]
  },
  {
   "cell_type": "code",
   "execution_count": 12,
   "metadata": {},
   "outputs": [],
   "source": [
    "# Convert sparse matrix to dense matrix\n",
    "X_array = X_vect.todense()"
   ]
  },
  {
   "cell_type": "code",
   "execution_count": 13,
   "metadata": {},
   "outputs": [
    {
     "data": {
      "text/html": [
       "<div>\n",
       "<style scoped>\n",
       "    .dataframe tbody tr th:only-of-type {\n",
       "        vertical-align: middle;\n",
       "    }\n",
       "\n",
       "    .dataframe tbody tr th {\n",
       "        vertical-align: top;\n",
       "    }\n",
       "\n",
       "    .dataframe thead th {\n",
       "        text-align: right;\n",
       "    }\n",
       "</style>\n",
       "<table border=\"1\" class=\"dataframe\">\n",
       "  <thead>\n",
       "    <tr style=\"text-align: right;\">\n",
       "      <th></th>\n",
       "      <th>around</th>\n",
       "      <th>baseball</th>\n",
       "      <th>better</th>\n",
       "      <th>blood</th>\n",
       "      <th>brocolli</th>\n",
       "      <th>brother</th>\n",
       "      <th>cause</th>\n",
       "      <th>drive</th>\n",
       "      <th>driving</th>\n",
       "      <th>eat</th>\n",
       "      <th>...</th>\n",
       "      <th>pressure</th>\n",
       "      <th>professionals</th>\n",
       "      <th>say</th>\n",
       "      <th>school</th>\n",
       "      <th>seems</th>\n",
       "      <th>spends</th>\n",
       "      <th>suggest</th>\n",
       "      <th>tension</th>\n",
       "      <th>time</th>\n",
       "      <th>well</th>\n",
       "    </tr>\n",
       "  </thead>\n",
       "  <tbody>\n",
       "    <tr>\n",
       "      <td>0</td>\n",
       "      <td>1</td>\n",
       "      <td>1</td>\n",
       "      <td>1</td>\n",
       "      <td>1</td>\n",
       "      <td>3</td>\n",
       "      <td>3</td>\n",
       "      <td>1</td>\n",
       "      <td>1</td>\n",
       "      <td>2</td>\n",
       "      <td>2</td>\n",
       "      <td>...</td>\n",
       "      <td>2</td>\n",
       "      <td>1</td>\n",
       "      <td>1</td>\n",
       "      <td>1</td>\n",
       "      <td>1</td>\n",
       "      <td>1</td>\n",
       "      <td>1</td>\n",
       "      <td>1</td>\n",
       "      <td>1</td>\n",
       "      <td>1</td>\n",
       "    </tr>\n",
       "  </tbody>\n",
       "</table>\n",
       "<p>1 rows × 33 columns</p>\n",
       "</div>"
      ],
      "text/plain": [
       "   around  baseball  better  blood  brocolli  brother  cause  drive  driving  \\\n",
       "0       1         1       1      1         3        3      1      1        2   \n",
       "\n",
       "   eat  ...  pressure  professionals  say  school  seems  spends  suggest  \\\n",
       "0    2  ...         2              1    1       1      1       1        1   \n",
       "\n",
       "   tension  time  well  \n",
       "0        1     1     1  \n",
       "\n",
       "[1 rows x 33 columns]"
      ]
     },
     "execution_count": 13,
     "metadata": {},
     "output_type": "execute_result"
    }
   ],
   "source": [
    "pd.DataFrame(X_array.sum(axis=0), columns=vect.get_feature_names_out())"
   ]
  },
  {
   "cell_type": "code",
   "execution_count": 14,
   "metadata": {},
   "outputs": [
    {
     "data": {
      "text/plain": [
       "matrix([[1, 1, 1, 1, 3, 3, 1, 1, 2, 2, 1, 1, 3, 3, 1, 1, 1, 1, 3, 1, 1,\n",
       "         1, 1, 2, 1, 1, 1, 1, 1, 1, 1, 1, 1]], dtype=int64)"
      ]
     },
     "execution_count": 14,
     "metadata": {},
     "output_type": "execute_result"
    }
   ],
   "source": [
    "X_array.sum(axis=0)"
   ]
  },
  {
   "cell_type": "code",
   "execution_count": null,
   "metadata": {},
   "outputs": [],
   "source": [
    "# 8 words appear more than once"
   ]
  },
  {
   "cell_type": "markdown",
   "metadata": {},
   "source": [
    "### 6. Setup the vocabulary dictionary\n",
    "\n",
    "First we need to setup the vocabulary.  Gensim's LDA expects our vocabulary to be in a format where the dictionary keys are the column indices and the values are the words themselves.\n",
    "\n",
    "Create this dictionary below."
   ]
  },
  {
   "cell_type": "code",
   "execution_count": 15,
   "metadata": {},
   "outputs": [
    {
     "data": {
      "text/plain": [
       "dict_values([4, 12, 9, 5, 15, 18, 28, 16, 31, 8, 0, 1, 22, 13, 10, 29, 17, 6, 14, 30, 3, 23, 20, 11, 21, 32, 26, 19, 27, 7, 2, 24, 25])"
      ]
     },
     "execution_count": 15,
     "metadata": {},
     "output_type": "execute_result"
    }
   ],
   "source": [
    "# Access column indices\n",
    "vect.vocabulary_.values()"
   ]
  },
  {
   "cell_type": "code",
   "execution_count": 16,
   "metadata": {},
   "outputs": [
    {
     "data": {
      "text/plain": [
       "dict_keys(['brocolli', 'good', 'eat', 'brother', 'likes', 'mother', 'spends', 'lot', 'time', 'driving', 'around', 'baseball', 'practice', 'health', 'experts', 'suggest', 'may', 'cause', 'increased', 'tension', 'blood', 'pressure', 'often', 'feel', 'perform', 'well', 'school', 'never', 'seems', 'drive', 'better', 'professionals', 'say'])"
      ]
     },
     "execution_count": 16,
     "metadata": {},
     "output_type": "execute_result"
    }
   ],
   "source": [
    "# Access values (words) \n",
    "vect.vocabulary_.keys()"
   ]
  },
  {
   "cell_type": "code",
   "execution_count": 17,
   "metadata": {},
   "outputs": [],
   "source": [
    "# Create dictionary where key names are indices and values are the words\n",
    "lda_dict = dict(zip(vect.vocabulary_.values(), vect.vocabulary_.keys()))"
   ]
  },
  {
   "cell_type": "code",
   "execution_count": 18,
   "metadata": {},
   "outputs": [
    {
     "data": {
      "text/plain": [
       "33"
      ]
     },
     "execution_count": 18,
     "metadata": {},
     "output_type": "execute_result"
    }
   ],
   "source": [
    "# Remember dictionary is unordered\n",
    "len(lda_dict)"
   ]
  },
  {
   "cell_type": "code",
   "execution_count": 19,
   "metadata": {},
   "outputs": [
    {
     "data": {
      "text/plain": [
       "{4: 'brocolli',\n",
       " 12: 'good',\n",
       " 9: 'eat',\n",
       " 5: 'brother',\n",
       " 15: 'likes',\n",
       " 18: 'mother',\n",
       " 28: 'spends',\n",
       " 16: 'lot',\n",
       " 31: 'time',\n",
       " 8: 'driving',\n",
       " 0: 'around',\n",
       " 1: 'baseball',\n",
       " 22: 'practice',\n",
       " 13: 'health',\n",
       " 10: 'experts',\n",
       " 29: 'suggest',\n",
       " 17: 'may',\n",
       " 6: 'cause',\n",
       " 14: 'increased',\n",
       " 30: 'tension',\n",
       " 3: 'blood',\n",
       " 23: 'pressure',\n",
       " 20: 'often',\n",
       " 11: 'feel',\n",
       " 21: 'perform',\n",
       " 32: 'well',\n",
       " 26: 'school',\n",
       " 19: 'never',\n",
       " 27: 'seems',\n",
       " 7: 'drive',\n",
       " 2: 'better',\n",
       " 24: 'professionals',\n",
       " 25: 'say'}"
      ]
     },
     "execution_count": 19,
     "metadata": {},
     "output_type": "execute_result"
    }
   ],
   "source": [
    "lda_dict"
   ]
  },
  {
   "cell_type": "markdown",
   "metadata": {},
   "source": [
    "### 7. Create a token to id mapping with gensim's `corpora.Dictionary`\n",
    "\n",
    "This dictionary class is a more standard way to work with with gensim models. There are a few standard steps we should go through:\n",
    "\n",
    "**7.1. Count the frequency of words.**\n",
    "\n",
    "We can do this easily with the python `defaultdict(int)`, which doesn't require us to already have the key in the dictionary to be able to add to it:\n",
    "\n",
    "```python\n",
    "frequency = defaultdict(int)\n",
    "\n",
    "for text in documents:\n",
    "    for token in text.split():\n",
    "        frequency[token] += 1\n",
    "```\n",
    "\n",
    "\n"
   ]
  },
  {
   "cell_type": "code",
   "execution_count": 20,
   "metadata": {},
   "outputs": [],
   "source": [
    "frequency = defaultdict(int)\n",
    "\n",
    "for text in documents:\n",
    "    for token in text.split():\n",
    "        frequency[token] += 1"
   ]
  },
  {
   "cell_type": "code",
   "execution_count": 21,
   "metadata": {},
   "outputs": [
    {
     "name": "stdout",
     "output_type": "stream",
     "text": [
      "defaultdict(<class 'int'>, {'Brocolli': 1, 'is': 2, 'good': 3, 'to': 6, 'eat.': 1, 'My': 2, 'brother': 3, 'likes': 1, 'eat': 1, 'brocolli,': 1, 'but': 2, 'not': 1, 'my': 4, 'mother.': 1, 'mother': 2, 'spends': 1, 'a': 1, 'lot': 1, 'of': 1, 'time': 1, 'driving': 2, 'around': 1, 'baseball': 1, 'practice.': 1, 'Some': 1, 'health': 1, 'experts': 1, 'suggest': 1, 'that': 2, 'may': 1, 'cause': 1, 'increased': 1, 'tension': 1, 'and': 1, 'blood': 1, 'pressure.': 1, 'I': 1, 'often': 1, 'feel': 1, 'pressure': 1, 'perform': 1, 'well': 1, 'at': 1, 'school,': 1, 'never': 1, 'seems': 1, 'drive': 1, 'do': 1, 'better.': 1, 'Health': 1, 'professionals': 1, 'say': 1, 'brocolli': 1, 'for': 1, 'your': 1, 'health.': 1})\n"
     ]
    }
   ],
   "source": [
    "print(frequency)"
   ]
  },
  {
   "cell_type": "markdown",
   "metadata": {},
   "source": [
    "**7.2 Remove any words that only appear once, or appear in the stopwords.**\n",
    "\n",
    "Iterate through the documents and only keep useful words/tokens."
   ]
  },
  {
   "cell_type": "code",
   "execution_count": 22,
   "metadata": {},
   "outputs": [],
   "source": [
    "def remove_words(texts):\n",
    "    #for key, value in dict(texts).items():\n",
    "        #if value == 1:\n",
    "            #del texts[key]\n",
    "    return [[word for word in doc if word not in stop_words] for doc in texts]"
   ]
  },
  {
   "cell_type": "code",
   "execution_count": 23,
   "metadata": {},
   "outputs": [
    {
     "data": {
      "text/plain": [
       "[['B', 'r', 'c', 'l', 'l'],\n",
       " [],\n",
       " ['g'],\n",
       " [],\n",
       " ['e', '.'],\n",
       " ['M'],\n",
       " ['b', 'r', 'h', 'e', 'r'],\n",
       " ['l', 'k', 'e'],\n",
       " ['e'],\n",
       " ['b', 'r', 'c', 'l', 'l', ','],\n",
       " ['b', 'u'],\n",
       " ['n'],\n",
       " [],\n",
       " ['h', 'e', 'r', '.'],\n",
       " ['h', 'e', 'r'],\n",
       " ['p', 'e', 'n'],\n",
       " [],\n",
       " ['l'],\n",
       " ['f'],\n",
       " ['e'],\n",
       " ['r', 'v', 'n', 'g'],\n",
       " ['r', 'u', 'n'],\n",
       " ['b', 'e', 'b', 'l', 'l'],\n",
       " ['p', 'r', 'c', 'c', 'e', '.'],\n",
       " ['S', 'e'],\n",
       " ['h', 'e', 'l', 'h'],\n",
       " ['e', 'x', 'p', 'e', 'r'],\n",
       " ['u', 'g', 'g', 'e'],\n",
       " ['h'],\n",
       " [],\n",
       " ['c', 'u', 'e'],\n",
       " ['n', 'c', 'r', 'e', 'e'],\n",
       " ['e', 'n', 'n'],\n",
       " ['n'],\n",
       " ['b', 'l'],\n",
       " ['p', 'r', 'e', 'u', 'r', 'e', '.'],\n",
       " ['I'],\n",
       " ['f', 'e', 'n'],\n",
       " ['f', 'e', 'e', 'l'],\n",
       " ['p', 'r', 'e', 'u', 'r', 'e'],\n",
       " ['p', 'e', 'r', 'f', 'r'],\n",
       " ['w', 'e', 'l', 'l'],\n",
       " [],\n",
       " ['c', 'h', 'l', ','],\n",
       " ['n', 'e', 'v', 'e', 'r'],\n",
       " ['e', 'e'],\n",
       " ['r', 'v', 'e'],\n",
       " [],\n",
       " ['b', 'e', 'e', 'r', '.'],\n",
       " ['H', 'e', 'l', 'h'],\n",
       " ['p', 'r', 'f', 'e', 'n', 'l'],\n",
       " [],\n",
       " ['b', 'r', 'c', 'l', 'l'],\n",
       " ['f', 'r'],\n",
       " ['u', 'r'],\n",
       " ['h', 'e', 'l', 'h', '.']]"
      ]
     },
     "execution_count": 23,
     "metadata": {},
     "output_type": "execute_result"
    }
   ],
   "source": [
    "remove_words(frequency)"
   ]
  },
  {
   "cell_type": "code",
   "execution_count": 24,
   "metadata": {},
   "outputs": [
    {
     "name": "stdout",
     "output_type": "stream",
     "text": [
      "defaultdict(<class 'int'>, {'Brocolli': 1, 'is': 2, 'good': 3, 'to': 6, 'eat.': 1, 'My': 2, 'brother': 3, 'likes': 1, 'eat': 1, 'brocolli,': 1, 'but': 2, 'not': 1, 'my': 4, 'mother.': 1, 'mother': 2, 'spends': 1, 'a': 1, 'lot': 1, 'of': 1, 'time': 1, 'driving': 2, 'around': 1, 'baseball': 1, 'practice.': 1, 'Some': 1, 'health': 1, 'experts': 1, 'suggest': 1, 'that': 2, 'may': 1, 'cause': 1, 'increased': 1, 'tension': 1, 'and': 1, 'blood': 1, 'pressure.': 1, 'I': 1, 'often': 1, 'feel': 1, 'pressure': 1, 'perform': 1, 'well': 1, 'at': 1, 'school,': 1, 'never': 1, 'seems': 1, 'drive': 1, 'do': 1, 'better.': 1, 'Health': 1, 'professionals': 1, 'say': 1, 'brocolli': 1, 'for': 1, 'your': 1, 'health.': 1})\n"
     ]
    }
   ],
   "source": [
    "print(frequency)"
   ]
  },
  {
   "cell_type": "markdown",
   "metadata": {},
   "source": [
    "**7.3 Create the `corpora.Dictionary` object with the retained tokens.**"
   ]
  },
  {
   "cell_type": "code",
   "execution_count": 25,
   "metadata": {},
   "outputs": [],
   "source": [
    "# Create Dictionary\n",
    "id2word = corpora.Dictionary([frequency])"
   ]
  },
  {
   "cell_type": "markdown",
   "metadata": {},
   "source": [
    "**7.4 Use the `dictionary.doc2bow()` function to convert the texts to bag-of-word representations.**"
   ]
  },
  {
   "cell_type": "code",
   "execution_count": 26,
   "metadata": {},
   "outputs": [],
   "source": [
    "# Create Corpus\n",
    "corpus = [id2word.doc2bow(text) for text in [frequency]]"
   ]
  },
  {
   "cell_type": "markdown",
   "metadata": {},
   "source": [
    "**Why should we use this process?**\n",
    "\n",
    "The main advantage is that this dictionary object has quick helper functions.\n",
    "\n",
    "However, there are also some major performance advantages if you ever want to save your model to a file, then load it at a later time.  Tokenizations can take a while to be computed, especially when your text files are quite large. You can save these post-computed dictionary items to file, then load them from disk later which is quite a bit faster.  Also, it's possible to add new documents to your corpus without having to re-tokenize your entire set.  This is great for online systems that can take new documents on demmand.  \n",
    "\n",
    "As you work with larger datasets with text, this is a much better way to handle LDA and other Gensim models from a performance point of view."
   ]
  },
  {
   "cell_type": "markdown",
   "metadata": {},
   "source": [
    "### 8. Set up the LDA model\n",
    "\n",
    "We can create the gensim LDA model object like so:\n",
    "\n",
    "```python\n",
    "lda = models.LdaModel(\n",
    "    # supply our sparse predictor matrix wrapped in a matutils.Sparse2Corpus object\n",
    "    matutils.Sparse2Corpus(X, documents_columns=False),\n",
    "    # or alternatively use the corpus object created with the dictionary in the previous frame!\n",
    "    # corpus,\n",
    "    # The number of topics we want:\n",
    "    num_topics  =  3,\n",
    "    # how many passes over the vocabulary:\n",
    "    passes      =  20,\n",
    "    # The id2word vocabulary we made ourselves\n",
    "    id2word     =  vocab\n",
    "    # or use the gensim dictionary object!\n",
    "    # id2word     =  dictionary\n",
    ")\n",
    "```"
   ]
  },
  {
   "cell_type": "code",
   "execution_count": 27,
   "metadata": {},
   "outputs": [],
   "source": [
    "lda = models.LdaModel(corpus=corpus, num_topics=5, passes=20, id2word=id2word)"
   ]
  },
  {
   "cell_type": "markdown",
   "metadata": {},
   "source": [
    "### 9. Look at the topics\n",
    "\n",
    "The model has a `.print_topics` function that accepts the number of topics to print and number of words per topic. The number before the word is the probability of occurance for that word in the topic."
   ]
  },
  {
   "cell_type": "code",
   "execution_count": 28,
   "metadata": {},
   "outputs": [
    {
     "name": "stdout",
     "output_type": "stream",
     "text": [
      "0.018*\"spends\" + 0.018*\"pressure\" + 0.018*\"say\" + 0.018*\"seems\" + 0.018*\"Health\" + 0.018*\"experts\" + 0.018*\"practice.\" + 0.018*\"good\" + 0.018*\"perform\" + 0.018*\"eat\"\n",
      "0.018*\"around\" + 0.018*\"spends\" + 0.018*\"brocolli,\" + 0.018*\"suggest\" + 0.018*\"pressure\" + 0.018*\"is\" + 0.018*\"but\" + 0.018*\"blood\" + 0.018*\"experts\" + 0.018*\"a\"\n",
      "0.018*\"better.\" + 0.018*\"feel\" + 0.018*\"may\" + 0.018*\"around\" + 0.018*\"for\" + 0.018*\"school,\" + 0.018*\"time\" + 0.018*\"that\" + 0.018*\"mother.\" + 0.018*\"at\"\n",
      "0.018*\"lot\" + 0.018*\"Brocolli\" + 0.018*\"brocolli\" + 0.018*\"brother\" + 0.018*\"say\" + 0.018*\"pressure\" + 0.018*\"cause\" + 0.018*\"My\" + 0.018*\"tension\" + 0.018*\"not\"\n",
      "0.018*\"mother\" + 0.018*\"cause\" + 0.018*\"eat.\" + 0.018*\"pressure.\" + 0.018*\"My\" + 0.018*\"good\" + 0.018*\"health.\" + 0.018*\"seems\" + 0.018*\"Some\" + 0.018*\"baseball\"\n"
     ]
    }
   ],
   "source": [
    "for topics in lda.print_topics():\n",
    "  print(topics[1])"
   ]
  },
  {
   "cell_type": "code",
   "execution_count": null,
   "metadata": {},
   "outputs": [],
   "source": [
    "# There are 5 topics with 10 words each\n",
    "# Each topic is combination of words and each word contributes a certain weightage to the topic\n",
    "# Each word has same probability in each topic! 0.018...should add up to 1.0???"
   ]
  },
  {
   "cell_type": "markdown",
   "metadata": {},
   "source": [
    "### 10. Get the topic scores for a document\n",
    "\n",
    "The `.get_document_topics` function accepts a bag-of-words representation for a document and returns the scores for each topic."
   ]
  },
  {
   "cell_type": "code",
   "execution_count": 30,
   "metadata": {},
   "outputs": [],
   "source": [
    "for doc in documents:\n",
    "    bow = id2word.doc2bow(doc.split())\n",
    "    t = lda.get_document_topics(bow)"
   ]
  },
  {
   "cell_type": "code",
   "execution_count": 31,
   "metadata": {},
   "outputs": [
    {
     "name": "stdout",
     "output_type": "stream",
     "text": [
      "[(0, 0.01820202), (1, 0.018202053), (2, 0.92719185), (3, 0.018202076), (4, 0.01820203)]\n"
     ]
    }
   ],
   "source": [
    "print(t)"
   ]
  },
  {
   "cell_type": "markdown",
   "metadata": {},
   "source": [
    "### 11. Label and visualize the topics\n",
    "\n",
    "Lets come up with some high level labels. This is the subjective part of LDA. What do the word probabilties that represent topics mean?  Let's make some up.\n",
    "\n",
    "Plot a heatmap of the topic probabilities for each of the documents."
   ]
  },
  {
   "cell_type": "code",
   "execution_count": 17,
   "metadata": {
    "collapsed": true
   },
   "outputs": [],
   "source": [
    "# A:"
   ]
  },
  {
   "cell_type": "markdown",
   "metadata": {},
   "source": [
    "### 12. Fit an LDA model with sklearn\n",
    "\n",
    "Sklearn's LDA model is in the decomposition submodule:\n",
    "\n",
    "```python\n",
    "from sklearn.decomposition import LatentDirichletAllocation\n",
    "```\n",
    "\n",
    "One of the greatest benefits of the sklearn implementation is that it comes with the familiar `.fit()`, `.transform()` and `.fit_transform()` methods.\n",
    "\n",
    "**12.1 Initialize and fit an sklearn LDA with `n_topics=3` on our output from the CountVectorizer.**"
   ]
  },
  {
   "cell_type": "code",
   "execution_count": 18,
   "metadata": {
    "collapsed": true
   },
   "outputs": [],
   "source": [
    "# A:"
   ]
  },
  {
   "cell_type": "markdown",
   "metadata": {},
   "source": [
    "**12.2 Print out the topic-word distributions using the `.components_` attribute.**\n",
    "\n",
    "Each row of this matrix represents a topic, and the columns are the words. (These are not probabilities)."
   ]
  },
  {
   "cell_type": "code",
   "execution_count": 19,
   "metadata": {
    "collapsed": true
   },
   "outputs": [],
   "source": [
    "# A:"
   ]
  },
  {
   "cell_type": "markdown",
   "metadata": {},
   "source": [
    "**12.3 Use the `.transform()` method to convert the matrix into the topic scores.**\n",
    "\n",
    "These are the document-topic distributions."
   ]
  },
  {
   "cell_type": "code",
   "execution_count": 20,
   "metadata": {
    "collapsed": true
   },
   "outputs": [],
   "source": [
    "# A:"
   ]
  },
  {
   "cell_type": "markdown",
   "metadata": {},
   "source": [
    "### 13. Further steps\n",
    "\n",
    "This has been a very basic example.  LDA typically doesn't perform well on very small datasets.  You should try to see how it behaves on your own using a larger text dataset.  Keep in mind: finding the optimal number of topics can be tricky and subjective.\n",
    "\n",
    "**Generally, you should consider:**\n",
    "- How well topics are applied to documents overall\n",
    "- The strength of topics overall, to all documents\n",
    "- Improving preprocessing such as stopword removal\n",
    "- Building a nice web interface to explore your documents (see: [LDAExplorer](https://github.com/dyerrington/LDAExplorer), and [pyLDAvis](https://github.com/bmabey/pyLDAvis/blob/master/README.rst))\n",
    "\n",
    "These general guidelines should help you tune your hyperparameter **K** for number of topics."
   ]
  },
  {
   "cell_type": "code",
   "execution_count": 21,
   "metadata": {
    "collapsed": true
   },
   "outputs": [],
   "source": []
  }
 ],
 "metadata": {
  "kernelspec": {
   "display_name": "Python 3",
   "language": "python",
   "name": "python3"
  },
  "language_info": {
   "codemirror_mode": {
    "name": "ipython",
    "version": 3
   },
   "file_extension": ".py",
   "mimetype": "text/x-python",
   "name": "python",
   "nbconvert_exporter": "python",
   "pygments_lexer": "ipython3",
   "version": "3.7.4"
  }
 },
 "nbformat": 4,
 "nbformat_minor": 2
}
