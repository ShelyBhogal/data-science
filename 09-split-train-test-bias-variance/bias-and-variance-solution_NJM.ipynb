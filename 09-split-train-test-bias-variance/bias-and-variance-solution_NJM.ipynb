{
 "cells": [
  {
   "cell_type": "markdown",
   "metadata": {},
   "source": [
    "<img src=\"http://imgur.com/1ZcRyrc.png\" style=\"float: left; margin: 20px; height: 55px\">\n",
    "\n",
    "# Train/Test Split and Bias and Variance\n",
    "\n",
    "\n",
    "\n",
    "---"
   ]
  },
  {
   "cell_type": "markdown",
   "metadata": {},
   "source": [
    "<a id=\"learning-objectives\"></a>\n",
    "<a id=\"learning-objectives\"></a>\n",
    "<a id=\"learning-objectives\"></a>\n",
    "### Learning Objectives\n",
    "- Define error due to bias and error due to variance.\n",
    "- Identify the bias-variance trade-off.\n",
    "- Describe what overfitting and underfitting means in the context of model building.\n",
    "- Explain problems associated with over- and underfitting.\n",
    "- Grasp why train/test split is necessary.\n",
    "- Explore k-folds, LOOCV, and three split methods."
   ]
  },
  {
   "cell_type": "markdown",
   "metadata": {},
   "source": [
    "<a id=\"bias-and-variance-trade-off\"></a>\n",
    "## Bias and Variance Trade-Off\n",
    "---\n",
    "\n",
    "The **bias-variance tradeoff** is widely used in machine learning as a conceptual way of comparing and contrasting different models. Only a few other methods exist that can be used to compare and contrast all models, but the others are more mathematical.\n",
    "\n",
    "**Bias** is error due to the difference between the correct model and our predicted value.\n",
    "\n",
    "**Variance** is error due to the variability of a model for a given data point.\n",
    "\n",
    "As model complexity **increases**, bias **decreases**.\n",
    "\n",
    "As model complexity **increases**, variance **increases**."
   ]
  },
  {
   "cell_type": "markdown",
   "metadata": {},
   "source": [
    "<a id=\"bias-variance\"></a>\n",
    "### Bias? Variance?"
   ]
  },
  {
   "cell_type": "markdown",
   "metadata": {
    "collapsed": true
   },
   "source": [
    "**Conceptual Definitions**\n",
    "- **Bias**: Error that results from the correct value and the predicted value within our model.\n",
    "  - Roughly, whether or not our model aims on target.\n",
    "- **Variance**: Error that results from the variability of a model prediction for a given data point.\n",
    "  - Roughly, whether or not our model is reliable."
   ]
  },
  {
   "cell_type": "markdown",
   "metadata": {},
   "source": [
    "![](./assets/biasVsVarianceImage.png)"
   ]
  },
  {
   "cell_type": "markdown",
   "metadata": {
    "collapsed": true
   },
   "source": [
    "- Visually, we are building a model where the bulls-eye is the goal.\n",
    "- Each individual hit is one prediction based on our model.\n",
    "- Critically, the success of our model (low variance, low bias) depends on the training data present."
   ]
  },
  {
   "cell_type": "markdown",
   "metadata": {
    "collapsed": true
   },
   "source": [
    "**Mathematically, we are explaining a linear relationship dependent on some function.**\n",
    "- The error of our prediction is equal to the true outcome and our predicted outcome.\n",
    "- This can be decomposed into two parts: the bias and the variance."
   ]
  },
  {
   "cell_type": "markdown",
   "metadata": {},
   "source": [
    "**Expressing bias and variance mathematically:**\n",
    "\n",
    "It can be helpful understanding these terms by looking at how we can decompose the total error into them mathematically (we will skip the derivations for now, slack me for this extra info).\n",
    "\n",
    "Let's define the error of our predictor as the expected value of our squared error. Note this error is not based on any particular fitted model, but on the family of potential models given a dataset (i.e. all fitted models made from all possible subsets of data).\n",
    "\n",
    "$$E[(y - \\hat{f}(x))^2] = Bias[\\hat{f}(x)]^2 + Var[\\hat{f}(x)] + \\sigma^2$$\n",
    "\n",
    "This states the expected error is based on only three components: **bias**, **variance**, and **irreducible error or noise**.\n",
    "\n",
    "Breaking the bias and variance down further:\n",
    "\n",
    "\n",
    "\n",
    "- The bias is just the average expected distance between our predictor and actual values.\n",
    "\n",
    "\n",
    "$$Bias[\\hat{f}(x)] = E[\\hat{f}(x) - f(x)].$$\n",
    "\n",
    "\n",
    "\n",
    "- The variance is how much our predictions vary about the mean. ($E[\\hat{f}(x)]$ is our predictor's mean prediction.)\n",
    "\n",
    "$$Var[\\hat{f}(x)] = E[\\hat{f}(x)^2] - E[\\hat{f}(x)]^2.$$\n",
    "\n",
    "\n",
    "- The irreducible error stems from noise in the problem itself.\n",
    "\n",
    "$$\\sigma^2$$\n",
    "\n",
    "**Some common questions:**\n",
    "\n",
    "From the math above, we can answer a few common questions:\n",
    "\n",
    "Can a model have high bias given one dataset and low bias for another?\n",
    "- Yes. If our data is linearly related, for example, it will have low bias on a linear model! However, in general across all datasets very few are accurately described with a linear model. So, in general we say a linear model has high bias and low variance.\n",
    "\n",
    "Is the MSE for a fitted linear regression the same thing as the bias?\n",
    "- It's close, but bias does not apply to a specific fitted model. Bias is the expected error of a model no matter what subset of the data it is fit on. This way, if we happen to get a lucky MSE fitting a model on a particular subset of our data, this does not mean we will have a low bias overall."
   ]
  },
  {
   "cell_type": "markdown",
   "metadata": {},
   "source": [
    "<a id=\"exploring-the-bias-variance-tradeoff\"></a>\n",
    "### Exploring the Bias-Variance Trade-Off - Using Multiple Universes..\n"
   ]
  },
  {
   "cell_type": "code",
   "execution_count": 1,
   "metadata": {},
   "outputs": [],
   "source": [
    "import pandas as pd\n",
    "import numpy as np\n",
    "import seaborn as sns\n",
    "import matplotlib.pyplot as plt\n",
    "\n",
    "# Allow plots to appear in the notebook.\n",
    "%matplotlib inline\n",
    "\n",
    "plt.style.use('fivethirtyeight')"
   ]
  },
  {
   "cell_type": "markdown",
   "metadata": {},
   "source": [
    "<a id=\"brain-and-body-weight-mammal-dataset\"></a>\n",
    "### Brain and Body Weight Mammal Data Set"
   ]
  },
  {
   "cell_type": "markdown",
   "metadata": {
    "collapsed": true
   },
   "source": [
    "This is a [data set](http://people.sc.fsu.edu/~jburkardt/datasets/regression/x01.txt) of the average weight of the body (in kg) and the brain (in g) for 62 mammal species. We'll use this dataset to investigate bias vs. variance. Let's read it into Pandas and take a quick look:"
   ]
  },
  {
   "cell_type": "code",
   "execution_count": 2,
   "metadata": {},
   "outputs": [
    {
     "data": {
      "text/html": [
       "<div>\n",
       "<style scoped>\n",
       "    .dataframe tbody tr th:only-of-type {\n",
       "        vertical-align: middle;\n",
       "    }\n",
       "\n",
       "    .dataframe tbody tr th {\n",
       "        vertical-align: top;\n",
       "    }\n",
       "\n",
       "    .dataframe thead th {\n",
       "        text-align: right;\n",
       "    }\n",
       "</style>\n",
       "<table border=\"1\" class=\"dataframe\">\n",
       "  <thead>\n",
       "    <tr style=\"text-align: right;\">\n",
       "      <th></th>\n",
       "      <th>brain</th>\n",
       "      <th>body</th>\n",
       "    </tr>\n",
       "  </thead>\n",
       "  <tbody>\n",
       "    <tr>\n",
       "      <th>0</th>\n",
       "      <td>3.385</td>\n",
       "      <td>44.5</td>\n",
       "    </tr>\n",
       "    <tr>\n",
       "      <th>1</th>\n",
       "      <td>0.480</td>\n",
       "      <td>15.5</td>\n",
       "    </tr>\n",
       "    <tr>\n",
       "      <th>2</th>\n",
       "      <td>1.350</td>\n",
       "      <td>8.1</td>\n",
       "    </tr>\n",
       "    <tr>\n",
       "      <th>3</th>\n",
       "      <td>465.000</td>\n",
       "      <td>423.0</td>\n",
       "    </tr>\n",
       "    <tr>\n",
       "      <th>4</th>\n",
       "      <td>36.330</td>\n",
       "      <td>119.5</td>\n",
       "    </tr>\n",
       "    <tr>\n",
       "      <th>5</th>\n",
       "      <td>27.660</td>\n",
       "      <td>115.0</td>\n",
       "    </tr>\n",
       "    <tr>\n",
       "      <th>6</th>\n",
       "      <td>14.830</td>\n",
       "      <td>98.2</td>\n",
       "    </tr>\n",
       "    <tr>\n",
       "      <th>7</th>\n",
       "      <td>1.040</td>\n",
       "      <td>5.5</td>\n",
       "    </tr>\n",
       "    <tr>\n",
       "      <th>8</th>\n",
       "      <td>4.190</td>\n",
       "      <td>58.0</td>\n",
       "    </tr>\n",
       "    <tr>\n",
       "      <th>9</th>\n",
       "      <td>0.425</td>\n",
       "      <td>6.4</td>\n",
       "    </tr>\n",
       "  </tbody>\n",
       "</table>\n",
       "</div>"
      ],
      "text/plain": [
       "     brain   body\n",
       "0    3.385   44.5\n",
       "1    0.480   15.5\n",
       "2    1.350    8.1\n",
       "3  465.000  423.0\n",
       "4   36.330  119.5\n",
       "5   27.660  115.0\n",
       "6   14.830   98.2\n",
       "7    1.040    5.5\n",
       "8    4.190   58.0\n",
       "9    0.425    6.4"
      ]
     },
     "execution_count": 2,
     "metadata": {},
     "output_type": "execute_result"
    }
   ],
   "source": [
    "path = './data/mammals.txt'\n",
    "cols = ['brain','body']\n",
    "mammals = pd.read_csv(path, sep='\\t', names=cols, header=0)\n",
    "mammals.head(10)"
   ]
  },
  {
   "cell_type": "code",
   "execution_count": 3,
   "metadata": {},
   "outputs": [
    {
     "data": {
      "text/html": [
       "<div>\n",
       "<style scoped>\n",
       "    .dataframe tbody tr th:only-of-type {\n",
       "        vertical-align: middle;\n",
       "    }\n",
       "\n",
       "    .dataframe tbody tr th {\n",
       "        vertical-align: top;\n",
       "    }\n",
       "\n",
       "    .dataframe thead th {\n",
       "        text-align: right;\n",
       "    }\n",
       "</style>\n",
       "<table border=\"1\" class=\"dataframe\">\n",
       "  <thead>\n",
       "    <tr style=\"text-align: right;\">\n",
       "      <th></th>\n",
       "      <th>brain</th>\n",
       "      <th>body</th>\n",
       "    </tr>\n",
       "  </thead>\n",
       "  <tbody>\n",
       "    <tr>\n",
       "      <th>count</th>\n",
       "      <td>62.000000</td>\n",
       "      <td>62.000000</td>\n",
       "    </tr>\n",
       "    <tr>\n",
       "      <th>mean</th>\n",
       "      <td>198.789984</td>\n",
       "      <td>283.134194</td>\n",
       "    </tr>\n",
       "    <tr>\n",
       "      <th>std</th>\n",
       "      <td>899.158011</td>\n",
       "      <td>930.278942</td>\n",
       "    </tr>\n",
       "    <tr>\n",
       "      <th>min</th>\n",
       "      <td>0.005000</td>\n",
       "      <td>0.140000</td>\n",
       "    </tr>\n",
       "    <tr>\n",
       "      <th>25%</th>\n",
       "      <td>0.600000</td>\n",
       "      <td>4.250000</td>\n",
       "    </tr>\n",
       "    <tr>\n",
       "      <th>50%</th>\n",
       "      <td>3.342500</td>\n",
       "      <td>17.250000</td>\n",
       "    </tr>\n",
       "    <tr>\n",
       "      <th>75%</th>\n",
       "      <td>48.202500</td>\n",
       "      <td>166.000000</td>\n",
       "    </tr>\n",
       "    <tr>\n",
       "      <th>max</th>\n",
       "      <td>6654.000000</td>\n",
       "      <td>5712.000000</td>\n",
       "    </tr>\n",
       "  </tbody>\n",
       "</table>\n",
       "</div>"
      ],
      "text/plain": [
       "             brain         body\n",
       "count    62.000000    62.000000\n",
       "mean    198.789984   283.134194\n",
       "std     899.158011   930.278942\n",
       "min       0.005000     0.140000\n",
       "25%       0.600000     4.250000\n",
       "50%       3.342500    17.250000\n",
       "75%      48.202500   166.000000\n",
       "max    6654.000000  5712.000000"
      ]
     },
     "execution_count": 3,
     "metadata": {},
     "output_type": "execute_result"
    }
   ],
   "source": [
    "mammals.describe()"
   ]
  },
  {
   "cell_type": "code",
   "execution_count": 4,
   "metadata": {},
   "outputs": [
    {
     "data": {
      "text/plain": [
       "(64, 2)"
      ]
     },
     "execution_count": 4,
     "metadata": {},
     "output_type": "execute_result"
    }
   ],
   "source": [
    "mammals.shape"
   ]
  },
  {
   "cell_type": "markdown",
   "metadata": {},
   "source": [
    "We're going to focus on a smaller subset in which the body weight is less than 200 kg."
   ]
  },
  {
   "cell_type": "code",
   "execution_count": 5,
   "metadata": {},
   "outputs": [
    {
     "data": {
      "text/plain": [
       "(51, 2)"
      ]
     },
     "execution_count": 5,
     "metadata": {},
     "output_type": "execute_result"
    }
   ],
   "source": [
    "# Only keep rows in which the body weight is less than 200 kg.\n",
    "mammals = mammals[mammals.body < 200]\n",
    "mammals.shape"
   ]
  },
  {
   "cell_type": "markdown",
   "metadata": {
    "collapsed": true
   },
   "source": [
    "We're now going to pretend that there are only 51 mammal species in existence. In other words, we are pretending that this is the entire data set of brain and body weights for **every known mammal species**.\n",
    "\n",
    "Let's create a scatterplot (using [Seaborn](http://stanford.edu/~mwaskom/software/seaborn/)) to visualize the relationship between brain and body weight:"
   ]
  },
  {
   "cell_type": "code",
   "execution_count": 6,
   "metadata": {},
   "outputs": [
    {
     "data": {
      "image/png": "[encoded data removed]",
      "text/plain": [
       "<Figure size 360x360 with 1 Axes>"
      ]
     },
     "metadata": {
      "needs_background": "light"
     },
     "output_type": "display_data"
    }
   ],
   "source": [
    "sns.lmplot(x='body', y='brain', data=mammals, ci=None, fit_reg=False);\n",
    "plt.xlim(-10, 200);\n",
    "plt.ylim(-10, 250);"
   ]
  },
  {
   "cell_type": "markdown",
   "metadata": {
    "collapsed": true
   },
   "source": [
    "There appears to be a relationship between brain and body weight for mammals."
   ]
  },
  {
   "cell_type": "markdown",
   "metadata": {},
   "source": [
    "<a id=\"making-a-prediction\"></a>\n",
    "### Making a Prediction"
   ]
  },
  {
   "cell_type": "markdown",
   "metadata": {
    "collapsed": true
   },
   "source": [
    "Now let's pretend that a **new mammal species** is discovered. We measure the body weight of every member of this species we can find and calculate an **average body weight of 100 kgs**. We want to **predict the average brain weight** of this species (rather than measuring it directly). How might we do this?\n",
    "\n",
    "\n",
    "https://seaborn.pydata.org/generated/seaborn.lmplot.html"
   ]
  },
  {
   "cell_type": "code",
   "execution_count": 7,
   "metadata": {},
   "outputs": [
    {
     "data": {
      "image/png": "[encoded data removed]",
      "text/plain": [
       "<Figure size 360x360 with 1 Axes>"
      ]
     },
     "metadata": {
      "needs_background": "light"
     },
     "output_type": "display_data"
    }
   ],
   "source": [
    "sns.lmplot(x='body', y='brain', data=mammals, ci=None);\n",
    "\n",
    "plt.xlim(-10, 200);\n",
    "plt.ylim(-10, 250);"
   ]
  },
  {
   "cell_type": "markdown",
   "metadata": {
    "collapsed": true
   },
   "source": [
    "We drew a straight line that appears to best capture the relationship between brain and body weight. So, we might predict that our new species has a brain weight of about 45 g, as that's the approximate y value when x=100.\n",
    "\n",
    "This is known as a \"linear model\" or a \"linear regression model.\""
   ]
  },
  {
   "cell_type": "markdown",
   "metadata": {
    "collapsed": true
   },
   "source": [
    "<a id=\"making-a-prediction-from-a-sample\"></a>\n",
    "## Making a Prediction From a Sample"
   ]
  },
  {
   "cell_type": "markdown",
   "metadata": {
    "collapsed": true
   },
   "source": [
    "Earlier, we assumed that this dataset contained every known mammal species. That's very convenient, but **in the real world, all you ever have is a sample of data**. This may sound like a contentious statement, but the point of machine learning is to generalize from a sample to the population. If you already have data for the entire population, then you have no need for machine learning -- you can apply statistics directly and get optimal answers!\n",
    "\n",
    "Here, a more realistic situation would be to only have brain and body weights for (let's say) half of the 51 known mammals.\n",
    "\n",
    "When that new mammal species (with a body weight of 100 kg) is discovered, we still want to make an accurate prediction for its brain weight, but this task might be more difficult, as we don't have all of the data we would ideally like to have.\n",
    "\n",
    "Let's simulate this situation by assigning each of the 51 observations to **either universe 1 or universe 2**:"
   ]
  },
  {
   "cell_type": "code",
   "execution_count": 8,
   "metadata": {},
   "outputs": [
    {
     "data": {
      "text/html": [
       "<div>\n",
       "<style scoped>\n",
       "    .dataframe tbody tr th:only-of-type {\n",
       "        vertical-align: middle;\n",
       "    }\n",
       "\n",
       "    .dataframe tbody tr th {\n",
       "        vertical-align: top;\n",
       "    }\n",
       "\n",
       "    .dataframe thead th {\n",
       "        text-align: right;\n",
       "    }\n",
       "</style>\n",
       "<table border=\"1\" class=\"dataframe\">\n",
       "  <thead>\n",
       "    <tr style=\"text-align: right;\">\n",
       "      <th></th>\n",
       "      <th>brain</th>\n",
       "      <th>body</th>\n",
       "      <th>universe</th>\n",
       "    </tr>\n",
       "  </thead>\n",
       "  <tbody>\n",
       "    <tr>\n",
       "      <th>0</th>\n",
       "      <td>3.385</td>\n",
       "      <td>44.50</td>\n",
       "      <td>1</td>\n",
       "    </tr>\n",
       "    <tr>\n",
       "      <th>1</th>\n",
       "      <td>0.480</td>\n",
       "      <td>15.50</td>\n",
       "      <td>2</td>\n",
       "    </tr>\n",
       "    <tr>\n",
       "      <th>2</th>\n",
       "      <td>1.350</td>\n",
       "      <td>8.10</td>\n",
       "      <td>1</td>\n",
       "    </tr>\n",
       "    <tr>\n",
       "      <th>4</th>\n",
       "      <td>36.330</td>\n",
       "      <td>119.50</td>\n",
       "      <td>1</td>\n",
       "    </tr>\n",
       "    <tr>\n",
       "      <th>5</th>\n",
       "      <td>27.660</td>\n",
       "      <td>115.00</td>\n",
       "      <td>1</td>\n",
       "    </tr>\n",
       "    <tr>\n",
       "      <th>6</th>\n",
       "      <td>14.830</td>\n",
       "      <td>98.20</td>\n",
       "      <td>2</td>\n",
       "    </tr>\n",
       "    <tr>\n",
       "      <th>7</th>\n",
       "      <td>1.040</td>\n",
       "      <td>5.50</td>\n",
       "      <td>1</td>\n",
       "    </tr>\n",
       "    <tr>\n",
       "      <th>8</th>\n",
       "      <td>4.190</td>\n",
       "      <td>58.00</td>\n",
       "      <td>1</td>\n",
       "    </tr>\n",
       "    <tr>\n",
       "      <th>9</th>\n",
       "      <td>0.425</td>\n",
       "      <td>6.40</td>\n",
       "      <td>1</td>\n",
       "    </tr>\n",
       "    <tr>\n",
       "      <th>10</th>\n",
       "      <td>0.101</td>\n",
       "      <td>4.00</td>\n",
       "      <td>2</td>\n",
       "    </tr>\n",
       "    <tr>\n",
       "      <th>11</th>\n",
       "      <td>0.920</td>\n",
       "      <td>5.70</td>\n",
       "      <td>1</td>\n",
       "    </tr>\n",
       "    <tr>\n",
       "      <th>12</th>\n",
       "      <td>1.000</td>\n",
       "      <td>6.60</td>\n",
       "      <td>1</td>\n",
       "    </tr>\n",
       "    <tr>\n",
       "      <th>13</th>\n",
       "      <td>0.005</td>\n",
       "      <td>0.14</td>\n",
       "      <td>1</td>\n",
       "    </tr>\n",
       "    <tr>\n",
       "      <th>14</th>\n",
       "      <td>0.060</td>\n",
       "      <td>1.00</td>\n",
       "      <td>1</td>\n",
       "    </tr>\n",
       "    <tr>\n",
       "      <th>15</th>\n",
       "      <td>3.500</td>\n",
       "      <td>10.80</td>\n",
       "      <td>2</td>\n",
       "    </tr>\n",
       "    <tr>\n",
       "      <th>16</th>\n",
       "      <td>2.000</td>\n",
       "      <td>12.30</td>\n",
       "      <td>1</td>\n",
       "    </tr>\n",
       "    <tr>\n",
       "      <th>17</th>\n",
       "      <td>1.700</td>\n",
       "      <td>6.30</td>\n",
       "      <td>2</td>\n",
       "    </tr>\n",
       "    <tr>\n",
       "      <th>19</th>\n",
       "      <td>0.023</td>\n",
       "      <td>0.30</td>\n",
       "      <td>2</td>\n",
       "    </tr>\n",
       "    <tr>\n",
       "      <th>22</th>\n",
       "      <td>0.785</td>\n",
       "      <td>3.50</td>\n",
       "      <td>2</td>\n",
       "    </tr>\n",
       "    <tr>\n",
       "      <th>23</th>\n",
       "      <td>10.000</td>\n",
       "      <td>115.00</td>\n",
       "      <td>1</td>\n",
       "    </tr>\n",
       "  </tbody>\n",
       "</table>\n",
       "</div>"
      ],
      "text/plain": [
       "     brain    body  universe\n",
       "0    3.385   44.50         1\n",
       "1    0.480   15.50         2\n",
       "2    1.350    8.10         1\n",
       "4   36.330  119.50         1\n",
       "5   27.660  115.00         1\n",
       "6   14.830   98.20         2\n",
       "7    1.040    5.50         1\n",
       "8    4.190   58.00         1\n",
       "9    0.425    6.40         1\n",
       "10   0.101    4.00         2\n",
       "11   0.920    5.70         1\n",
       "12   1.000    6.60         1\n",
       "13   0.005    0.14         1\n",
       "14   0.060    1.00         1\n",
       "15   3.500   10.80         2\n",
       "16   2.000   12.30         1\n",
       "17   1.700    6.30         2\n",
       "19   0.023    0.30         2\n",
       "22   0.785    3.50         2\n",
       "23  10.000  115.00         1"
      ]
     },
     "execution_count": 8,
     "metadata": {},
     "output_type": "execute_result"
    }
   ],
   "source": [
    "# Set a random seed for reproducibility.\n",
    "np.random.seed(42)\n",
    "\n",
    "# Randomly assign every observation to either universe 1 or universe 2.\n",
    "mammals['universe'] = np.random.randint(1, 3, len(mammals))\n",
    "mammals.head(20)"
   ]
  },
  {
   "cell_type": "markdown",
   "metadata": {
    "collapsed": true
   },
   "source": [
    "**Important:** We only live in one of the two universes. Both universes have 51 known mammal species, but each universe knows the brain and body weight for different species.\n",
    "\n",
    "We can now tell Seaborn to create two plots in which the left plot only uses the data from **universe 1** and the right plot only uses the data from **universe 2**:"
   ]
  },
  {
   "cell_type": "code",
   "execution_count": 9,
   "metadata": {},
   "outputs": [
    {
     "data": {
      "image/png": "[encoded data removed]",
      "text/plain": [
       "<Figure size 720x360 with 2 Axes>"
      ]
     },
     "metadata": {
      "needs_background": "light"
     },
     "output_type": "display_data"
    }
   ],
   "source": [
    "# col='universe' subsets the data by universe and creates two separate plots.\n",
    "sns.lmplot(x='body', y='brain', data=mammals, ci=None, col='universe');\n",
    "plt.xlim(-10, 200);\n",
    "plt.ylim(-10, 250);"
   ]
  },
  {
   "cell_type": "markdown",
   "metadata": {
    "collapsed": true
   },
   "source": [
    "The line looks pretty similar between the two plots, despite the fact that they used separate samples of data. In both cases, we would predict a brain weight of about 45 g.\n",
    "\n",
    "It's easier to see the degree of similarity by placing them on the same plot:"
   ]
  },
  {
   "cell_type": "code",
   "execution_count": 10,
   "metadata": {},
   "outputs": [
    {
     "data": {
      "image/png": "[encoded data removed]",
      "text/plain": [
       "<Figure size 413.5x360 with 1 Axes>"
      ]
     },
     "metadata": {
      "needs_background": "light"
     },
     "output_type": "display_data"
    }
   ],
   "source": [
    "# hue='universe' subsets the data by universe and creates a single plot.\n",
    "sns.lmplot(x='body', y='brain', data=mammals, ci=None, hue='universe');\n",
    "plt.xlim(-10, 200);\n",
    "plt.ylim(-10, 250);"
   ]
  },
  {
   "cell_type": "markdown",
   "metadata": {
    "collapsed": true
   },
   "source": [
    "So, what was the point of this exercise? \n",
    "\n",
    "This was a visual demonstration of a high-bias, low-variance model.\n",
    "\n",
    "- It's **high bias** because it doesn't fit the data particularly well.\n",
    "- It's **low variance** because it doesn't change much depending on which observations happen to be available in that universe."
   ]
  },
  {
   "cell_type": "markdown",
   "metadata": {
    "collapsed": true
   },
   "source": [
    "<a id=\"lets-try-something-completely-different\"></a>\n",
    "### Let's Try Something Completely Different"
   ]
  },
  {
   "cell_type": "markdown",
   "metadata": {
    "collapsed": true
   },
   "source": [
    "What would a **low-bias, high-variance** model look like? Let's try polynomial regression with an eighth-order polynomial."
   ]
  },
  {
   "cell_type": "code",
   "execution_count": 17,
   "metadata": {},
   "outputs": [
    {
     "data": {
      "image/png": "[encoded data removed]",
      "text/plain": [
       "<Figure size 720x360 with 2 Axes>"
      ]
     },
     "metadata": {
      "needs_background": "light"
     },
     "output_type": "display_data"
    }
   ],
   "source": [
    "sns.lmplot(x='body', y='brain', data=mammals, ci=None, col='universe', order=8);\n",
    "plt.xlim(-10, 200);\n",
    "plt.ylim(-10, 600);"
   ]
  },
  {
   "cell_type": "markdown",
   "metadata": {
    "collapsed": true
   },
   "source": [
    "- It's **low bias** because the models match the data effectively.\n",
    "- It's **high variance** because the models are widely different, depending on which observations happen to be available in that universe. (For a body weight of 100 kg, the brain weight prediction would be 40 kg in one universe and 0 kg in the other!)"
   ]
  },
  {
   "cell_type": "code",
   "execution_count": 18,
   "metadata": {},
   "outputs": [
    {
     "data": {
      "image/png": "[encoded data removed]",
      "text/plain": [
       "<Figure size 413.5x360 with 1 Axes>"
      ]
     },
     "metadata": {
      "needs_background": "light"
     },
     "output_type": "display_data"
    }
   ],
   "source": [
    "sns.lmplot(x='body', y='brain', data=mammals, ci=None, hue='universe', order=8);\n",
    "plt.xlim(-10, 200);\n",
    "plt.ylim(-10, 450);"
   ]
  },
  {
   "cell_type": "markdown",
   "metadata": {
    "collapsed": true
   },
   "source": [
    "<a id=\"balancing-bias-and-variance\"></a>\n",
    "## Balancing Bias and Variance\n",
    "Can we find a middle ground?"
   ]
  },
  {
   "cell_type": "markdown",
   "metadata": {
    "collapsed": true
   },
   "source": [
    "Perhaps we can create a model that has **less bias than the linear model** and **less variance than the eighth order polynomial**?\n",
    "\n",
    "Let's try a second order polynomial instead:"
   ]
  },
  {
   "cell_type": "code",
   "execution_count": 14,
   "metadata": {},
   "outputs": [
    {
     "data": {
      "image/png": "[encoded data removed]",
      "text/plain": [
       "<Figure size 720x360 with 2 Axes>"
      ]
     },
     "metadata": {
      "needs_background": "light"
     },
     "output_type": "display_data"
    }
   ],
   "source": [
    "sns.lmplot(x='body', y='brain', data=mammals, ci=None, col='universe', order=2);\n",
    "plt.xlim(-10, 200);\n",
    "plt.ylim(-10, 250);"
   ]
  },
  {
   "cell_type": "markdown",
   "metadata": {
    "collapsed": true
   },
   "source": [
    "This seems better. In both the left and right plots, **it fits the data well, but not too well**.\n",
    "\n",
    "This is the essence of the **bias-variance trade-off**: You are seeking a model that appropriately balances bias and variance and thus will generalize to new data (known as \"out-of-sample\" data)."
   ]
  },
  {
   "cell_type": "markdown",
   "metadata": {
    "collapsed": true
   },
   "source": [
    "We want a model that best balances bias and variance. It\n",
    "should match our training data well (moderate bias) yet be low variance for out-of-sample data (moderate variance)."
   ]
  },
  {
   "cell_type": "markdown",
   "metadata": {
    "collapsed": true
   },
   "source": [
    "- Training error as a function of\n",
    "complexity.\n",
    "- Question: Why do we even\n",
    "care about variance if we\n",
    "know we can generate a\n",
    "more accurate model with\n",
    "higher complexity?"
   ]
  },
  {
   "cell_type": "markdown",
   "metadata": {},
   "source": [
    "![Bias-variance tradeoff](./assets/bias_variance.png)"
   ]
  },
  {
   "cell_type": "markdown",
   "metadata": {},
   "source": [
    "### Can we obtain a zero-bias, zero-variance model?\n",
    "\n",
    "No! If there is any noise in the data-generating process, then a zero-variance model would not be learning from the data. Additionally, a model only has zero bias if the true relationship between the target and the features is hard-coded into it. If that were the case, you wouldn't be doing machine learning -- it would be similar to trying to predict today's temperature by using today's temperature!"
   ]
  },
  {
   "cell_type": "markdown",
   "metadata": {},
   "source": [
    "---\n",
    "\n",
    "<a id=\"train-test-split\"></a>\n",
    "## Train-test-split"
   ]
  },
  {
   "cell_type": "markdown",
   "metadata": {},
   "source": [
    "For the rest of the lab, we will look at three evaluation procedures for predicting model out-of-sample accuracy:\n",
    "\n",
    "1. **Train on the entire dataset** should never be done to estimate model accuracy on out-of-sample data! After all, training error can be made arbitrarily small or large. You might train on the entire dataset as the very last step when a model is chosen, hoping to make the final model as accurate as possible. Or, you could use this to estimate the degree of overfitting.\n",
    "2. **Train-test-split** is useful if cross-validation is not practical (e.g. it takes too long to train). It is also useful for computing a quick confusion matrix. You could also use this as a final step after the model is finalized (often called evaluating the model against a **validation set**).\n",
    "3. **Cross-validation** is the gold standard for estimating accuracy and comparing accuracy across models.\n",
    "4. **Three-way split** combines cross-validation and the train-test-split. It takes an initial split to be used as a final validation set, then uses cross-validation on the rest."
   ]
  },
  {
   "cell_type": "markdown",
   "metadata": {},
   "source": [
    "We run into a problem when powerful models can perfectly fit the data on which they are trained. These models are **low bias** and **high variance**. However, we can't observe the variance of a model directly, because we only know how it fits the data we have rather than all potential samples.\n",
    "\n",
    "**Solution:** Create a procedure that **estimates** how well a model is likely to perform on out-of-sample data and use that to choose between models.\n",
    "\n",
    "- Before, we have been splitting the data into a **single training group** and a **single test group**.\n",
    "\n",
    "- Now, to estimate how well the model is likely to perform on out-of-sample data, we will create **many training groups** and **many test groups** then fit **many models**.\n",
    "\n",
    "**Note:** These procedures can be used with **any machine learning model**."
   ]
  },
  {
   "cell_type": "markdown",
   "metadata": {
    "collapsed": true
   },
   "source": [
    "**The Holdout Method: Train/Test Split**\n",
    "- **Training set**: Used to train the classifier.\n",
    "- **Testing set**: Used to estimate the error rate of the trained classifier.\n",
    "- **Advantages**: Fast, simple, computationally inexpensive.\n",
    "- **Disadvantages** Eliminates data, imperfectly splits."
   ]
  },
  {
   "cell_type": "markdown",
   "metadata": {
    "collapsed": true
   },
   "source": [
    "<a id=\"evaluation-procedure--train-and-test-on-the-entire-dataset-do-not-do-this\"></a>\n",
    "### Evaluation Procedure #1: Train and Test on the Entire Data Set (But do NOT do this in real life!)"
   ]
  },
  {
   "cell_type": "markdown",
   "metadata": {
    "collapsed": true
   },
   "source": [
    "1. Train the model on the **entire data set**.\n",
    "2. Test the model on the **same data set** and evaluate how well we did by comparing the **predicted** response values with the **true** response values."
   ]
  },
  {
   "cell_type": "markdown",
   "metadata": {},
   "source": [
    "#### Load in the Boston data."
   ]
  },
  {
   "cell_type": "code",
   "execution_count": 19,
   "metadata": {},
   "outputs": [],
   "source": [
    "import pandas as pd\n",
    "\n",
    "import numpy as np\n",
    "from sklearn.datasets import load_boston\n",
    "\n",
    "boston = load_boston()"
   ]
  },
  {
   "cell_type": "code",
   "execution_count": 20,
   "metadata": {
    "scrolled": true
   },
   "outputs": [
    {
     "data": {
      "text/plain": [
       "{'data': array([[  6.32000000e-03,   1.80000000e+01,   2.31000000e+00, ...,\n",
       "           1.53000000e+01,   3.96900000e+02,   4.98000000e+00],\n",
       "        [  2.73100000e-02,   0.00000000e+00,   7.07000000e+00, ...,\n",
       "           1.78000000e+01,   3.96900000e+02,   9.14000000e+00],\n",
       "        [  2.72900000e-02,   0.00000000e+00,   7.07000000e+00, ...,\n",
       "           1.78000000e+01,   3.92830000e+02,   4.03000000e+00],\n",
       "        ..., \n",
       "        [  6.07600000e-02,   0.00000000e+00,   1.19300000e+01, ...,\n",
       "           2.10000000e+01,   3.96900000e+02,   5.64000000e+00],\n",
       "        [  1.09590000e-01,   0.00000000e+00,   1.19300000e+01, ...,\n",
       "           2.10000000e+01,   3.93450000e+02,   6.48000000e+00],\n",
       "        [  4.74100000e-02,   0.00000000e+00,   1.19300000e+01, ...,\n",
       "           2.10000000e+01,   3.96900000e+02,   7.88000000e+00]]),\n",
       " 'target': array([ 24. ,  21.6,  34.7,  33.4,  36.2,  28.7,  22.9,  27.1,  16.5,\n",
       "         18.9,  15. ,  18.9,  21.7,  20.4,  18.2,  19.9,  23.1,  17.5,\n",
       "         20.2,  18.2,  13.6,  19.6,  15.2,  14.5,  15.6,  13.9,  16.6,\n",
       "         14.8,  18.4,  21. ,  12.7,  14.5,  13.2,  13.1,  13.5,  18.9,\n",
       "         20. ,  21. ,  24.7,  30.8,  34.9,  26.6,  25.3,  24.7,  21.2,\n",
       "         19.3,  20. ,  16.6,  14.4,  19.4,  19.7,  20.5,  25. ,  23.4,\n",
       "         18.9,  35.4,  24.7,  31.6,  23.3,  19.6,  18.7,  16. ,  22.2,\n",
       "         25. ,  33. ,  23.5,  19.4,  22. ,  17.4,  20.9,  24.2,  21.7,\n",
       "         22.8,  23.4,  24.1,  21.4,  20. ,  20.8,  21.2,  20.3,  28. ,\n",
       "         23.9,  24.8,  22.9,  23.9,  26.6,  22.5,  22.2,  23.6,  28.7,\n",
       "         22.6,  22. ,  22.9,  25. ,  20.6,  28.4,  21.4,  38.7,  43.8,\n",
       "         33.2,  27.5,  26.5,  18.6,  19.3,  20.1,  19.5,  19.5,  20.4,\n",
       "         19.8,  19.4,  21.7,  22.8,  18.8,  18.7,  18.5,  18.3,  21.2,\n",
       "         19.2,  20.4,  19.3,  22. ,  20.3,  20.5,  17.3,  18.8,  21.4,\n",
       "         15.7,  16.2,  18. ,  14.3,  19.2,  19.6,  23. ,  18.4,  15.6,\n",
       "         18.1,  17.4,  17.1,  13.3,  17.8,  14. ,  14.4,  13.4,  15.6,\n",
       "         11.8,  13.8,  15.6,  14.6,  17.8,  15.4,  21.5,  19.6,  15.3,\n",
       "         19.4,  17. ,  15.6,  13.1,  41.3,  24.3,  23.3,  27. ,  50. ,\n",
       "         50. ,  50. ,  22.7,  25. ,  50. ,  23.8,  23.8,  22.3,  17.4,\n",
       "         19.1,  23.1,  23.6,  22.6,  29.4,  23.2,  24.6,  29.9,  37.2,\n",
       "         39.8,  36.2,  37.9,  32.5,  26.4,  29.6,  50. ,  32. ,  29.8,\n",
       "         34.9,  37. ,  30.5,  36.4,  31.1,  29.1,  50. ,  33.3,  30.3,\n",
       "         34.6,  34.9,  32.9,  24.1,  42.3,  48.5,  50. ,  22.6,  24.4,\n",
       "         22.5,  24.4,  20. ,  21.7,  19.3,  22.4,  28.1,  23.7,  25. ,\n",
       "         23.3,  28.7,  21.5,  23. ,  26.7,  21.7,  27.5,  30.1,  44.8,\n",
       "         50. ,  37.6,  31.6,  46.7,  31.5,  24.3,  31.7,  41.7,  48.3,\n",
       "         29. ,  24. ,  25.1,  31.5,  23.7,  23.3,  22. ,  20.1,  22.2,\n",
       "         23.7,  17.6,  18.5,  24.3,  20.5,  24.5,  26.2,  24.4,  24.8,\n",
       "         29.6,  42.8,  21.9,  20.9,  44. ,  50. ,  36. ,  30.1,  33.8,\n",
       "         43.1,  48.8,  31. ,  36.5,  22.8,  30.7,  50. ,  43.5,  20.7,\n",
       "         21.1,  25.2,  24.4,  35.2,  32.4,  32. ,  33.2,  33.1,  29.1,\n",
       "         35.1,  45.4,  35.4,  46. ,  50. ,  32.2,  22. ,  20.1,  23.2,\n",
       "         22.3,  24.8,  28.5,  37.3,  27.9,  23.9,  21.7,  28.6,  27.1,\n",
       "         20.3,  22.5,  29. ,  24.8,  22. ,  26.4,  33.1,  36.1,  28.4,\n",
       "         33.4,  28.2,  22.8,  20.3,  16.1,  22.1,  19.4,  21.6,  23.8,\n",
       "         16.2,  17.8,  19.8,  23.1,  21. ,  23.8,  23.1,  20.4,  18.5,\n",
       "         25. ,  24.6,  23. ,  22.2,  19.3,  22.6,  19.8,  17.1,  19.4,\n",
       "         22.2,  20.7,  21.1,  19.5,  18.5,  20.6,  19. ,  18.7,  32.7,\n",
       "         16.5,  23.9,  31.2,  17.5,  17.2,  23.1,  24.5,  26.6,  22.9,\n",
       "         24.1,  18.6,  30.1,  18.2,  20.6,  17.8,  21.7,  22.7,  22.6,\n",
       "         25. ,  19.9,  20.8,  16.8,  21.9,  27.5,  21.9,  23.1,  50. ,\n",
       "         50. ,  50. ,  50. ,  50. ,  13.8,  13.8,  15. ,  13.9,  13.3,\n",
       "         13.1,  10.2,  10.4,  10.9,  11.3,  12.3,   8.8,   7.2,  10.5,\n",
       "          7.4,  10.2,  11.5,  15.1,  23.2,   9.7,  13.8,  12.7,  13.1,\n",
       "         12.5,   8.5,   5. ,   6.3,   5.6,   7.2,  12.1,   8.3,   8.5,\n",
       "          5. ,  11.9,  27.9,  17.2,  27.5,  15. ,  17.2,  17.9,  16.3,\n",
       "          7. ,   7.2,   7.5,  10.4,   8.8,   8.4,  16.7,  14.2,  20.8,\n",
       "         13.4,  11.7,   8.3,  10.2,  10.9,  11. ,   9.5,  14.5,  14.1,\n",
       "         16.1,  14.3,  11.7,  13.4,   9.6,   8.7,   8.4,  12.8,  10.5,\n",
       "         17.1,  18.4,  15.4,  10.8,  11.8,  14.9,  12.6,  14.1,  13. ,\n",
       "         13.4,  15.2,  16.1,  17.8,  14.9,  14.1,  12.7,  13.5,  14.9,\n",
       "         20. ,  16.4,  17.7,  19.5,  20.2,  21.4,  19.9,  19. ,  19.1,\n",
       "         19.1,  20.1,  19.9,  19.6,  23.2,  29.8,  13.8,  13.3,  16.7,\n",
       "         12. ,  14.6,  21.4,  23. ,  23.7,  25. ,  21.8,  20.6,  21.2,\n",
       "         19.1,  20.6,  15.2,   7. ,   8.1,  13.6,  20.1,  21.8,  24.5,\n",
       "         23.1,  19.7,  18.3,  21.2,  17.5,  16.8,  22.4,  20.6,  23.9,\n",
       "         22. ,  11.9]),\n",
       " 'feature_names': array(['CRIM', 'ZN', 'INDUS', 'CHAS', 'NOX', 'RM', 'AGE', 'DIS', 'RAD',\n",
       "        'TAX', 'PTRATIO', 'B', 'LSTAT'],\n",
       "       dtype='<U7'),\n",
       " 'DESCR': \"Boston House Prices dataset\\n===========================\\n\\nNotes\\n------\\nData Set Characteristics:  \\n\\n    :Number of Instances: 506 \\n\\n    :Number of Attributes: 13 numeric/categorical predictive\\n    \\n    :Median Value (attribute 14) is usually the target\\n\\n    :Attribute Information (in order):\\n        - CRIM     per capita crime rate by town\\n        - ZN       proportion of residential land zoned for lots over 25,000 sq.ft.\\n        - INDUS    proportion of non-retail business acres per town\\n        - CHAS     Charles River dummy variable (= 1 if tract bounds river; 0 otherwise)\\n        - NOX      nitric oxides concentration (parts per 10 million)\\n        - RM       average number of rooms per dwelling\\n        - AGE      proportion of owner-occupied units built prior to 1940\\n        - DIS      weighted distances to five Boston employment centres\\n        - RAD      index of accessibility to radial highways\\n        - TAX      full-value property-tax rate per $10,000\\n        - PTRATIO  pupil-teacher ratio by town\\n        - B        1000(Bk - 0.63)^2 where Bk is the proportion of blacks by town\\n        - LSTAT    % lower status of the population\\n        - MEDV     Median value of owner-occupied homes in $1000's\\n\\n    :Missing Attribute Values: None\\n\\n    :Creator: Harrison, D. and Rubinfeld, D.L.\\n\\nThis is a copy of UCI ML housing dataset.\\nhttp://archive.ics.uci.edu/ml/datasets/Housing\\n\\n\\nThis dataset was taken from the StatLib library which is maintained at Carnegie Mellon University.\\n\\nThe Boston house-price data of Harrison, D. and Rubinfeld, D.L. 'Hedonic\\nprices and the demand for clean air', J. Environ. Economics & Management,\\nvol.5, 81-102, 1978.   Used in Belsley, Kuh & Welsch, 'Regression diagnostics\\n...', Wiley, 1980.   N.B. Various transformations are used in the table on\\npages 244-261 of the latter.\\n\\nThe Boston house-price data has been used in many machine learning papers that address regression\\nproblems.   \\n     \\n**References**\\n\\n   - Belsley, Kuh & Welsch, 'Regression diagnostics: Identifying Influential Data and Sources of Collinearity', Wiley, 1980. 244-261.\\n   - Quinlan,R. (1993). Combining Instance-Based and Model-Based Learning. In Proceedings on the Tenth International Conference of Machine Learning, 236-243, University of Massachusetts, Amherst. Morgan Kaufmann.\\n   - many more! (see http://archive.ics.uci.edu/ml/datasets/Housing)\\n\"}"
      ]
     },
     "execution_count": 20,
     "metadata": {},
     "output_type": "execute_result"
    }
   ],
   "source": [
    "boston"
   ]
  },
  {
   "cell_type": "code",
   "execution_count": null,
   "metadata": {},
   "outputs": [],
   "source": []
  },
  {
   "cell_type": "code",
   "execution_count": 21,
   "metadata": {},
   "outputs": [
    {
     "name": "stdout",
     "output_type": "stream",
     "text": [
      "Boston House Prices dataset\n",
      "===========================\n",
      "\n",
      "Notes\n",
      "------\n",
      "Data Set Characteristics:  \n",
      "\n",
      "    :Number of Instances: 506 \n",
      "\n",
      "    :Number of Attributes: 13 numeric/categorical predictive\n",
      "    \n",
      "    :Median Value (attribute 14) is usually the target\n",
      "\n",
      "    :Attribute Information (in order):\n",
      "        - CRIM     per capita crime rate by town\n",
      "        - ZN       proportion of residential land zoned for lots over 25,000 sq.ft.\n",
      "        - INDUS    proportion of non-retail business acres per town\n",
      "        - CHAS     Charles River dummy variable (= 1 if tract bounds river; 0 otherwise)\n",
      "        - NOX      nitric oxides concentration (parts per 10 million)\n",
      "        - RM       average number of rooms per dwelling\n",
      "        - AGE      proportion of owner-occupied units built prior to 1940\n",
      "        - DIS      weighted distances to five Boston employment centres\n",
      "        - RAD      index of accessibility to radial highways\n",
      "        - TAX      full-value property-tax rate per $10,000\n",
      "        - PTRATIO  pupil-teacher ratio by town\n",
      "        - B        1000(Bk - 0.63)^2 where Bk is the proportion of blacks by town\n",
      "        - LSTAT    % lower status of the population\n",
      "        - MEDV     Median value of owner-occupied homes in $1000's\n",
      "\n",
      "    :Missing Attribute Values: None\n",
      "\n",
      "    :Creator: Harrison, D. and Rubinfeld, D.L.\n",
      "\n",
      "This is a copy of UCI ML housing dataset.\n",
      "http://archive.ics.uci.edu/ml/datasets/Housing\n",
      "\n",
      "\n",
      "This dataset was taken from the StatLib library which is maintained at Carnegie Mellon University.\n",
      "\n",
      "The Boston house-price data of Harrison, D. and Rubinfeld, D.L. 'Hedonic\n",
      "prices and the demand for clean air', J. Environ. Economics & Management,\n",
      "vol.5, 81-102, 1978.   Used in Belsley, Kuh & Welsch, 'Regression diagnostics\n",
      "...', Wiley, 1980.   N.B. Various transformations are used in the table on\n",
      "pages 244-261 of the latter.\n",
      "\n",
      "The Boston house-price data has been used in many machine learning papers that address regression\n",
      "problems.   \n",
      "     \n",
      "**References**\n",
      "\n",
      "   - Belsley, Kuh & Welsch, 'Regression diagnostics: Identifying Influential Data and Sources of Collinearity', Wiley, 1980. 244-261.\n",
      "   - Quinlan,R. (1993). Combining Instance-Based and Model-Based Learning. In Proceedings on the Tenth International Conference of Machine Learning, 236-243, University of Massachusetts, Amherst. Morgan Kaufmann.\n",
      "   - many more! (see http://archive.ics.uci.edu/ml/datasets/Housing)\n",
      "\n"
     ]
    }
   ],
   "source": [
    "print(boston.DESCR)"
   ]
  },
  {
   "cell_type": "markdown",
   "metadata": {},
   "source": [
    "#### Create X and y variables to store the feature matrix and response from the Boston data."
   ]
  },
  {
   "cell_type": "code",
   "execution_count": 22,
   "metadata": {},
   "outputs": [],
   "source": [
    "# Create a DataFrame for both parts of data; don't forget to assign column names.\n",
    "X = pd.DataFrame(boston.data, columns=boston.feature_names)\n",
    "y = pd.DataFrame(boston.target, columns=['MEDV'])"
   ]
  },
  {
   "cell_type": "markdown",
   "metadata": {},
   "source": [
    "#### Concatenate y and X, then overwrite the Boston variable."
   ]
  },
  {
   "cell_type": "code",
   "execution_count": 23,
   "metadata": {},
   "outputs": [
    {
     "data": {
      "text/html": [
       "<div>\n",
       "<style scoped>\n",
       "    .dataframe tbody tr th:only-of-type {\n",
       "        vertical-align: middle;\n",
       "    }\n",
       "\n",
       "    .dataframe tbody tr th {\n",
       "        vertical-align: top;\n",
       "    }\n",
       "\n",
       "    .dataframe thead th {\n",
       "        text-align: right;\n",
       "    }\n",
       "</style>\n",
       "<table border=\"1\" class=\"dataframe\">\n",
       "  <thead>\n",
       "    <tr style=\"text-align: right;\">\n",
       "      <th></th>\n",
       "      <th>MEDV</th>\n",
       "      <th>CRIM</th>\n",
       "      <th>ZN</th>\n",
       "      <th>INDUS</th>\n",
       "      <th>CHAS</th>\n",
       "      <th>NOX</th>\n",
       "      <th>RM</th>\n",
       "      <th>AGE</th>\n",
       "      <th>DIS</th>\n",
       "      <th>RAD</th>\n",
       "      <th>TAX</th>\n",
       "      <th>PTRATIO</th>\n",
       "      <th>B</th>\n",
       "      <th>LSTAT</th>\n",
       "    </tr>\n",
       "  </thead>\n",
       "  <tbody>\n",
       "    <tr>\n",
       "      <th>0</th>\n",
       "      <td>24.0</td>\n",
       "      <td>0.00632</td>\n",
       "      <td>18.0</td>\n",
       "      <td>2.31</td>\n",
       "      <td>0.0</td>\n",
       "      <td>0.538</td>\n",
       "      <td>6.575</td>\n",
       "      <td>65.2</td>\n",
       "      <td>4.0900</td>\n",
       "      <td>1.0</td>\n",
       "      <td>296.0</td>\n",
       "      <td>15.3</td>\n",
       "      <td>396.90</td>\n",
       "      <td>4.98</td>\n",
       "    </tr>\n",
       "    <tr>\n",
       "      <th>1</th>\n",
       "      <td>21.6</td>\n",
       "      <td>0.02731</td>\n",
       "      <td>0.0</td>\n",
       "      <td>7.07</td>\n",
       "      <td>0.0</td>\n",
       "      <td>0.469</td>\n",
       "      <td>6.421</td>\n",
       "      <td>78.9</td>\n",
       "      <td>4.9671</td>\n",
       "      <td>2.0</td>\n",
       "      <td>242.0</td>\n",
       "      <td>17.8</td>\n",
       "      <td>396.90</td>\n",
       "      <td>9.14</td>\n",
       "    </tr>\n",
       "    <tr>\n",
       "      <th>2</th>\n",
       "      <td>34.7</td>\n",
       "      <td>0.02729</td>\n",
       "      <td>0.0</td>\n",
       "      <td>7.07</td>\n",
       "      <td>0.0</td>\n",
       "      <td>0.469</td>\n",
       "      <td>7.185</td>\n",
       "      <td>61.1</td>\n",
       "      <td>4.9671</td>\n",
       "      <td>2.0</td>\n",
       "      <td>242.0</td>\n",
       "      <td>17.8</td>\n",
       "      <td>392.83</td>\n",
       "      <td>4.03</td>\n",
       "    </tr>\n",
       "    <tr>\n",
       "      <th>3</th>\n",
       "      <td>33.4</td>\n",
       "      <td>0.03237</td>\n",
       "      <td>0.0</td>\n",
       "      <td>2.18</td>\n",
       "      <td>0.0</td>\n",
       "      <td>0.458</td>\n",
       "      <td>6.998</td>\n",
       "      <td>45.8</td>\n",
       "      <td>6.0622</td>\n",
       "      <td>3.0</td>\n",
       "      <td>222.0</td>\n",
       "      <td>18.7</td>\n",
       "      <td>394.63</td>\n",
       "      <td>2.94</td>\n",
       "    </tr>\n",
       "    <tr>\n",
       "      <th>4</th>\n",
       "      <td>36.2</td>\n",
       "      <td>0.06905</td>\n",
       "      <td>0.0</td>\n",
       "      <td>2.18</td>\n",
       "      <td>0.0</td>\n",
       "      <td>0.458</td>\n",
       "      <td>7.147</td>\n",
       "      <td>54.2</td>\n",
       "      <td>6.0622</td>\n",
       "      <td>3.0</td>\n",
       "      <td>222.0</td>\n",
       "      <td>18.7</td>\n",
       "      <td>396.90</td>\n",
       "      <td>5.33</td>\n",
       "    </tr>\n",
       "  </tbody>\n",
       "</table>\n",
       "</div>"
      ],
      "text/plain": [
       "   MEDV     CRIM    ZN  INDUS  CHAS    NOX     RM   AGE     DIS  RAD    TAX  \\\n",
       "0  24.0  0.00632  18.0   2.31   0.0  0.538  6.575  65.2  4.0900  1.0  296.0   \n",
       "1  21.6  0.02731   0.0   7.07   0.0  0.469  6.421  78.9  4.9671  2.0  242.0   \n",
       "2  34.7  0.02729   0.0   7.07   0.0  0.469  7.185  61.1  4.9671  2.0  242.0   \n",
       "3  33.4  0.03237   0.0   2.18   0.0  0.458  6.998  45.8  6.0622  3.0  222.0   \n",
       "4  36.2  0.06905   0.0   2.18   0.0  0.458  7.147  54.2  6.0622  3.0  222.0   \n",
       "\n",
       "   PTRATIO       B  LSTAT  \n",
       "0     15.3  396.90   4.98  \n",
       "1     17.8  396.90   9.14  \n",
       "2     17.8  392.83   4.03  \n",
       "3     18.7  394.63   2.94  \n",
       "4     18.7  396.90   5.33  "
      ]
     },
     "execution_count": 23,
     "metadata": {},
     "output_type": "execute_result"
    }
   ],
   "source": [
    "boston = pd.concat([y, X], axis=1)\n",
    "\n",
    "boston.head()"
   ]
  },
  {
   "cell_type": "markdown",
   "metadata": {},
   "source": [
    "#### Perform basic EDA to make sure the data are in order."
   ]
  },
  {
   "cell_type": "code",
   "execution_count": 24,
   "metadata": {},
   "outputs": [
    {
     "data": {
      "text/plain": [
       "MEDV       0\n",
       "CRIM       0\n",
       "ZN         0\n",
       "INDUS      0\n",
       "CHAS       0\n",
       "NOX        0\n",
       "RM         0\n",
       "AGE        0\n",
       "DIS        0\n",
       "RAD        0\n",
       "TAX        0\n",
       "PTRATIO    0\n",
       "B          0\n",
       "LSTAT      0\n",
       "dtype: int64"
      ]
     },
     "execution_count": 24,
     "metadata": {},
     "output_type": "execute_result"
    }
   ],
   "source": [
    "boston.isnull().sum()"
   ]
  },
  {
   "cell_type": "code",
   "execution_count": 25,
   "metadata": {},
   "outputs": [
    {
     "data": {
      "text/plain": [
       "MEDV       float64\n",
       "CRIM       float64\n",
       "ZN         float64\n",
       "INDUS      float64\n",
       "CHAS       float64\n",
       "NOX        float64\n",
       "RM         float64\n",
       "AGE        float64\n",
       "DIS        float64\n",
       "RAD        float64\n",
       "TAX        float64\n",
       "PTRATIO    float64\n",
       "B          float64\n",
       "LSTAT      float64\n",
       "dtype: object"
      ]
     },
     "execution_count": 25,
     "metadata": {},
     "output_type": "execute_result"
    }
   ],
   "source": [
    "boston.dtypes"
   ]
  },
  {
   "cell_type": "code",
   "execution_count": 26,
   "metadata": {},
   "outputs": [
    {
     "data": {
      "text/html": [
       "<div>\n",
       "<style scoped>\n",
       "    .dataframe tbody tr th:only-of-type {\n",
       "        vertical-align: middle;\n",
       "    }\n",
       "\n",
       "    .dataframe tbody tr th {\n",
       "        vertical-align: top;\n",
       "    }\n",
       "\n",
       "    .dataframe thead th {\n",
       "        text-align: right;\n",
       "    }\n",
       "</style>\n",
       "<table border=\"1\" class=\"dataframe\">\n",
       "  <thead>\n",
       "    <tr style=\"text-align: right;\">\n",
       "      <th></th>\n",
       "      <th>MEDV</th>\n",
       "      <th>CRIM</th>\n",
       "      <th>ZN</th>\n",
       "      <th>INDUS</th>\n",
       "      <th>CHAS</th>\n",
       "      <th>NOX</th>\n",
       "      <th>RM</th>\n",
       "      <th>AGE</th>\n",
       "      <th>DIS</th>\n",
       "      <th>RAD</th>\n",
       "      <th>TAX</th>\n",
       "      <th>PTRATIO</th>\n",
       "      <th>B</th>\n",
       "      <th>LSTAT</th>\n",
       "    </tr>\n",
       "  </thead>\n",
       "  <tbody>\n",
       "    <tr>\n",
       "      <th>count</th>\n",
       "      <td>506.000000</td>\n",
       "      <td>506.000000</td>\n",
       "      <td>506.000000</td>\n",
       "      <td>506.000000</td>\n",
       "      <td>506.000000</td>\n",
       "      <td>506.000000</td>\n",
       "      <td>506.000000</td>\n",
       "      <td>506.000000</td>\n",
       "      <td>506.000000</td>\n",
       "      <td>506.000000</td>\n",
       "      <td>506.000000</td>\n",
       "      <td>506.000000</td>\n",
       "      <td>506.000000</td>\n",
       "      <td>506.000000</td>\n",
       "    </tr>\n",
       "    <tr>\n",
       "      <th>mean</th>\n",
       "      <td>22.532806</td>\n",
       "      <td>3.593761</td>\n",
       "      <td>11.363636</td>\n",
       "      <td>11.136779</td>\n",
       "      <td>0.069170</td>\n",
       "      <td>0.554695</td>\n",
       "      <td>6.284634</td>\n",
       "      <td>68.574901</td>\n",
       "      <td>3.795043</td>\n",
       "      <td>9.549407</td>\n",
       "      <td>408.237154</td>\n",
       "      <td>18.455534</td>\n",
       "      <td>356.674032</td>\n",
       "      <td>12.653063</td>\n",
       "    </tr>\n",
       "    <tr>\n",
       "      <th>std</th>\n",
       "      <td>9.197104</td>\n",
       "      <td>8.596783</td>\n",
       "      <td>23.322453</td>\n",
       "      <td>6.860353</td>\n",
       "      <td>0.253994</td>\n",
       "      <td>0.115878</td>\n",
       "      <td>0.702617</td>\n",
       "      <td>28.148861</td>\n",
       "      <td>2.105710</td>\n",
       "      <td>8.707259</td>\n",
       "      <td>168.537116</td>\n",
       "      <td>2.164946</td>\n",
       "      <td>91.294864</td>\n",
       "      <td>7.141062</td>\n",
       "    </tr>\n",
       "    <tr>\n",
       "      <th>min</th>\n",
       "      <td>5.000000</td>\n",
       "      <td>0.006320</td>\n",
       "      <td>0.000000</td>\n",
       "      <td>0.460000</td>\n",
       "      <td>0.000000</td>\n",
       "      <td>0.385000</td>\n",
       "      <td>3.561000</td>\n",
       "      <td>2.900000</td>\n",
       "      <td>1.129600</td>\n",
       "      <td>1.000000</td>\n",
       "      <td>187.000000</td>\n",
       "      <td>12.600000</td>\n",
       "      <td>0.320000</td>\n",
       "      <td>1.730000</td>\n",
       "    </tr>\n",
       "    <tr>\n",
       "      <th>25%</th>\n",
       "      <td>17.025000</td>\n",
       "      <td>0.082045</td>\n",
       "      <td>0.000000</td>\n",
       "      <td>5.190000</td>\n",
       "      <td>0.000000</td>\n",
       "      <td>0.449000</td>\n",
       "      <td>5.885500</td>\n",
       "      <td>45.025000</td>\n",
       "      <td>2.100175</td>\n",
       "      <td>4.000000</td>\n",
       "      <td>279.000000</td>\n",
       "      <td>17.400000</td>\n",
       "      <td>375.377500</td>\n",
       "      <td>6.950000</td>\n",
       "    </tr>\n",
       "    <tr>\n",
       "      <th>50%</th>\n",
       "      <td>21.200000</td>\n",
       "      <td>0.256510</td>\n",
       "      <td>0.000000</td>\n",
       "      <td>9.690000</td>\n",
       "      <td>0.000000</td>\n",
       "      <td>0.538000</td>\n",
       "      <td>6.208500</td>\n",
       "      <td>77.500000</td>\n",
       "      <td>3.207450</td>\n",
       "      <td>5.000000</td>\n",
       "      <td>330.000000</td>\n",
       "      <td>19.050000</td>\n",
       "      <td>391.440000</td>\n",
       "      <td>11.360000</td>\n",
       "    </tr>\n",
       "    <tr>\n",
       "      <th>75%</th>\n",
       "      <td>25.000000</td>\n",
       "      <td>3.647423</td>\n",
       "      <td>12.500000</td>\n",
       "      <td>18.100000</td>\n",
       "      <td>0.000000</td>\n",
       "      <td>0.624000</td>\n",
       "      <td>6.623500</td>\n",
       "      <td>94.075000</td>\n",
       "      <td>5.188425</td>\n",
       "      <td>24.000000</td>\n",
       "      <td>666.000000</td>\n",
       "      <td>20.200000</td>\n",
       "      <td>396.225000</td>\n",
       "      <td>16.955000</td>\n",
       "    </tr>\n",
       "    <tr>\n",
       "      <th>max</th>\n",
       "      <td>50.000000</td>\n",
       "      <td>88.976200</td>\n",
       "      <td>100.000000</td>\n",
       "      <td>27.740000</td>\n",
       "      <td>1.000000</td>\n",
       "      <td>0.871000</td>\n",
       "      <td>8.780000</td>\n",
       "      <td>100.000000</td>\n",
       "      <td>12.126500</td>\n",
       "      <td>24.000000</td>\n",
       "      <td>711.000000</td>\n",
       "      <td>22.000000</td>\n",
       "      <td>396.900000</td>\n",
       "      <td>37.970000</td>\n",
       "    </tr>\n",
       "  </tbody>\n",
       "</table>\n",
       "</div>"
      ],
      "text/plain": [
       "             MEDV        CRIM          ZN       INDUS        CHAS         NOX  \\\n",
       "count  506.000000  506.000000  506.000000  506.000000  506.000000  506.000000   \n",
       "mean    22.532806    3.593761   11.363636   11.136779    0.069170    0.554695   \n",
       "std      9.197104    8.596783   23.322453    6.860353    0.253994    0.115878   \n",
       "min      5.000000    0.006320    0.000000    0.460000    0.000000    0.385000   \n",
       "25%     17.025000    0.082045    0.000000    5.190000    0.000000    0.449000   \n",
       "50%     21.200000    0.256510    0.000000    9.690000    0.000000    0.538000   \n",
       "75%     25.000000    3.647423   12.500000   18.100000    0.000000    0.624000   \n",
       "max     50.000000   88.976200  100.000000   27.740000    1.000000    0.871000   \n",
       "\n",
       "               RM         AGE         DIS         RAD         TAX     PTRATIO  \\\n",
       "count  506.000000  506.000000  506.000000  506.000000  506.000000  506.000000   \n",
       "mean     6.284634   68.574901    3.795043    9.549407  408.237154   18.455534   \n",
       "std      0.702617   28.148861    2.105710    8.707259  168.537116    2.164946   \n",
       "min      3.561000    2.900000    1.129600    1.000000  187.000000   12.600000   \n",
       "25%      5.885500   45.025000    2.100175    4.000000  279.000000   17.400000   \n",
       "50%      6.208500   77.500000    3.207450    5.000000  330.000000   19.050000   \n",
       "75%      6.623500   94.075000    5.188425   24.000000  666.000000   20.200000   \n",
       "max      8.780000  100.000000   12.126500   24.000000  711.000000   22.000000   \n",
       "\n",
       "                B       LSTAT  \n",
       "count  506.000000  506.000000  \n",
       "mean   356.674032   12.653063  \n",
       "std     91.294864    7.141062  \n",
       "min      0.320000    1.730000  \n",
       "25%    375.377500    6.950000  \n",
       "50%    391.440000   11.360000  \n",
       "75%    396.225000   16.955000  \n",
       "max    396.900000   37.970000  "
      ]
     },
     "execution_count": 26,
     "metadata": {},
     "output_type": "execute_result"
    }
   ],
   "source": [
    "boston.describe()"
   ]
  },
  {
   "cell_type": "markdown",
   "metadata": {},
   "source": [
    "#### Prepare a feature matrix (X) and response (y)  for scikit-learn."
   ]
  },
  {
   "cell_type": "code",
   "execution_count": null,
   "metadata": {},
   "outputs": [],
   "source": [
    "# Create feature matrix (X)\n",
    "feature_cols = boston.columns.drop(['MEDV'])\n",
    "X = boston[feature_cols]\n",
    "\n",
    "# Create response vector (y)\n",
    "y = boston.MEDV"
   ]
  },
  {
   "cell_type": "markdown",
   "metadata": {},
   "source": [
    "#### Import linear regression, instantiate, fit, and preview predictions."
   ]
  },
  {
   "cell_type": "code",
   "execution_count": 28,
   "metadata": {},
   "outputs": [
    {
     "data": {
      "text/plain": [
       "array([[ 30.00821269],\n",
       "       [ 25.0298606 ],\n",
       "       [ 30.5702317 ],\n",
       "       [ 28.60814055],\n",
       "       [ 27.94288232],\n",
       "       [ 25.25940048],\n",
       "       [ 23.00433994],\n",
       "       [ 19.5347558 ],\n",
       "       [ 11.51696539],\n",
       "       [ 18.91981483],\n",
       "       [ 18.9958266 ],\n",
       "       [ 21.58970854],\n",
       "       [ 20.90534851],\n",
       "       [ 19.55535931],\n",
       "       [ 19.2837957 ],\n",
       "       [ 19.30000174],\n",
       "       [ 20.52889993],\n",
       "       [ 16.9096749 ],\n",
       "       [ 16.17067411],\n",
       "       [ 18.40781636],\n",
       "       [ 12.52040454],\n",
       "       [ 17.67104565],\n",
       "       [ 15.82934891],\n",
       "       [ 13.80368317],\n",
       "       [ 15.67708138],\n",
       "       [ 13.3791645 ],\n",
       "       [ 15.46258829],\n",
       "       [ 14.69863607],\n",
       "       [ 19.54518512],\n",
       "       [ 20.87309945],\n",
       "       [ 11.44806825],\n",
       "       [ 18.05900412],\n",
       "       [  8.78841666],\n",
       "       [ 14.27882319],\n",
       "       [ 13.69097132],\n",
       "       [ 23.81755469],\n",
       "       [ 22.34216285],\n",
       "       [ 23.11123204],\n",
       "       [ 22.91494157],\n",
       "       [ 31.35826216],\n",
       "       [ 34.21485385],\n",
       "       [ 28.0207132 ],\n",
       "       [ 25.20646572],\n",
       "       [ 24.61192851],\n",
       "       [ 22.94438953],\n",
       "       [ 22.10150945],\n",
       "       [ 20.42467417],\n",
       "       [ 18.03614022],\n",
       "       [  9.10176198],\n",
       "       [ 17.20856571],\n",
       "       [ 21.28259372],\n",
       "       [ 23.97621248],\n",
       "       [ 27.65853521],\n",
       "       [ 24.0521088 ],\n",
       "       [ 15.35989132],\n",
       "       [ 31.14817003],\n",
       "       [ 24.85878746],\n",
       "       [ 33.11017111],\n",
       "       [ 21.77458036],\n",
       "       [ 21.08526739],\n",
       "       [ 17.87203538],\n",
       "       [ 18.50881381],\n",
       "       [ 23.9879809 ],\n",
       "       [ 22.54944098],\n",
       "       [ 23.37068403],\n",
       "       [ 30.36557584],\n",
       "       [ 25.53407332],\n",
       "       [ 21.11758504],\n",
       "       [ 17.42468223],\n",
       "       [ 20.7893086 ],\n",
       "       [ 25.20349174],\n",
       "       [ 21.74490595],\n",
       "       [ 24.56275612],\n",
       "       [ 24.04479519],\n",
       "       [ 25.5091157 ],\n",
       "       [ 23.97076758],\n",
       "       [ 22.94823519],\n",
       "       [ 23.36106095],\n",
       "       [ 21.26432549],\n",
       "       [ 22.4345376 ],\n",
       "       [ 28.40699937],\n",
       "       [ 26.99734716],\n",
       "       [ 26.03807246],\n",
       "       [ 25.06152125],\n",
       "       [ 24.7858613 ],\n",
       "       [ 27.79291889],\n",
       "       [ 22.16927073],\n",
       "       [ 25.89685664],\n",
       "       [ 30.67771522],\n",
       "       [ 30.83225886],\n",
       "       [ 27.12127354],\n",
       "       [ 27.41597825],\n",
       "       [ 28.9456478 ],\n",
       "       [ 29.08668003],\n",
       "       [ 27.04501726],\n",
       "       [ 28.62506705],\n",
       "       [ 24.73038218],\n",
       "       [ 35.78062378],\n",
       "       [ 35.11269515],\n",
       "       [ 32.25115468],\n",
       "       [ 24.57946786],\n",
       "       [ 25.59386215],\n",
       "       [ 19.76439137],\n",
       "       [ 20.31157117],\n",
       "       [ 21.4353635 ],\n",
       "       [ 18.53971968],\n",
       "       [ 17.18572611],\n",
       "       [ 20.74934949],\n",
       "       [ 22.64791346],\n",
       "       [ 19.77000977],\n",
       "       [ 20.64745349],\n",
       "       [ 26.52652691],\n",
       "       [ 20.77440554],\n",
       "       [ 20.71546432],\n",
       "       [ 25.17461484],\n",
       "       [ 20.4273652 ],\n",
       "       [ 23.37862521],\n",
       "       [ 23.69454145],\n",
       "       [ 20.33202239],\n",
       "       [ 20.79378139],\n",
       "       [ 21.92024414],\n",
       "       [ 22.47432006],\n",
       "       [ 20.55884635],\n",
       "       [ 16.36300764],\n",
       "       [ 20.56342111],\n",
       "       [ 22.48570454],\n",
       "       [ 14.61264839],\n",
       "       [ 15.1802607 ],\n",
       "       [ 18.93828443],\n",
       "       [ 14.0574955 ],\n",
       "       [ 20.03651959],\n",
       "       [ 19.41306288],\n",
       "       [ 20.06401034],\n",
       "       [ 15.76005772],\n",
       "       [ 13.24771577],\n",
       "       [ 17.26167729],\n",
       "       [ 15.87759672],\n",
       "       [ 19.36145104],\n",
       "       [ 13.81270814],\n",
       "       [ 16.44782934],\n",
       "       [ 13.56511101],\n",
       "       [  3.98343974],\n",
       "       [ 14.59241207],\n",
       "       [ 12.14503093],\n",
       "       [  8.72407108],\n",
       "       [ 12.00815659],\n",
       "       [ 15.80308586],\n",
       "       [  8.50963929],\n",
       "       [  9.70965512],\n",
       "       [ 14.79848067],\n",
       "       [ 20.83598096],\n",
       "       [ 18.30017013],\n",
       "       [ 20.12575267],\n",
       "       [ 17.27585681],\n",
       "       [ 22.35997992],\n",
       "       [ 20.07985184],\n",
       "       [ 13.59903744],\n",
       "       [ 33.26635221],\n",
       "       [ 29.03938379],\n",
       "       [ 25.56694529],\n",
       "       [ 32.71732164],\n",
       "       [ 36.78111388],\n",
       "       [ 40.56615533],\n",
       "       [ 41.85122271],\n",
       "       [ 24.79875684],\n",
       "       [ 25.3771545 ],\n",
       "       [ 37.20662185],\n",
       "       [ 23.08244608],\n",
       "       [ 26.40326834],\n",
       "       [ 26.65647433],\n",
       "       [ 22.55412919],\n",
       "       [ 24.2970948 ],\n",
       "       [ 22.98024802],\n",
       "       [ 29.07488389],\n",
       "       [ 26.52620066],\n",
       "       [ 30.72351225],\n",
       "       [ 25.61835359],\n",
       "       [ 29.14203283],\n",
       "       [ 31.43690634],\n",
       "       [ 32.9232938 ],\n",
       "       [ 34.72096487],\n",
       "       [ 27.76792733],\n",
       "       [ 33.88992899],\n",
       "       [ 30.99725805],\n",
       "       [ 22.72124288],\n",
       "       [ 24.76567683],\n",
       "       [ 35.88131719],\n",
       "       [ 33.42696242],\n",
       "       [ 32.41513625],\n",
       "       [ 34.51611818],\n",
       "       [ 30.76057666],\n",
       "       [ 30.29169893],\n",
       "       [ 32.92040221],\n",
       "       [ 32.11459912],\n",
       "       [ 31.56133385],\n",
       "       [ 40.84274603],\n",
       "       [ 36.13046343],\n",
       "       [ 32.66639271],\n",
       "       [ 34.70558647],\n",
       "       [ 30.09276228],\n",
       "       [ 30.64139724],\n",
       "       [ 29.29189704],\n",
       "       [ 37.07062623],\n",
       "       [ 42.02879611],\n",
       "       [ 43.18582722],\n",
       "       [ 22.6923888 ],\n",
       "       [ 23.68420569],\n",
       "       [ 17.85435295],\n",
       "       [ 23.49543857],\n",
       "       [ 17.00872418],\n",
       "       [ 22.39535066],\n",
       "       [ 17.06152243],\n",
       "       [ 22.74106824],\n",
       "       [ 25.21974252],\n",
       "       [ 11.10601161],\n",
       "       [ 24.51300617],\n",
       "       [ 26.60749026],\n",
       "       [ 28.35802444],\n",
       "       [ 24.91860458],\n",
       "       [ 29.69254951],\n",
       "       [ 33.18492755],\n",
       "       [ 23.77145523],\n",
       "       [ 32.14086508],\n",
       "       [ 29.74802362],\n",
       "       [ 38.36605632],\n",
       "       [ 39.80716458],\n",
       "       [ 37.58362546],\n",
       "       [ 32.39769704],\n",
       "       [ 35.45048257],\n",
       "       [ 31.23446481],\n",
       "       [ 24.48478321],\n",
       "       [ 33.28615723],\n",
       "       [ 38.04368164],\n",
       "       [ 37.15737267],\n",
       "       [ 31.71297469],\n",
       "       [ 25.26658017],\n",
       "       [ 30.101515  ],\n",
       "       [ 32.71897655],\n",
       "       [ 28.42735376],\n",
       "       [ 28.42999168],\n",
       "       [ 27.2913215 ],\n",
       "       [ 23.74446671],\n",
       "       [ 24.11878941],\n",
       "       [ 27.40241209],\n",
       "       [ 16.32993575],\n",
       "       [ 13.39695213],\n",
       "       [ 20.01655581],\n",
       "       [ 19.86205904],\n",
       "       [ 21.28604604],\n",
       "       [ 24.07796482],\n",
       "       [ 24.20603792],\n",
       "       [ 25.04201534],\n",
       "       [ 24.91709097],\n",
       "       [ 29.93762975],\n",
       "       [ 23.97709054],\n",
       "       [ 21.69931969],\n",
       "       [ 37.51051381],\n",
       "       [ 43.29459357],\n",
       "       [ 36.48121427],\n",
       "       [ 34.99129701],\n",
       "       [ 34.80865729],\n",
       "       [ 37.16296374],\n",
       "       [ 40.9823638 ],\n",
       "       [ 34.44211691],\n",
       "       [ 35.83178068],\n",
       "       [ 28.24913647],\n",
       "       [ 31.22022312],\n",
       "       [ 40.83256202],\n",
       "       [ 39.31768808],\n",
       "       [ 25.71099424],\n",
       "       [ 22.30344878],\n",
       "       [ 27.20551341],\n",
       "       [ 28.51386352],\n",
       "       [ 35.47494122],\n",
       "       [ 36.11110647],\n",
       "       [ 33.80004807],\n",
       "       [ 35.61141951],\n",
       "       [ 34.84311742],\n",
       "       [ 30.35359323],\n",
       "       [ 35.31260262],\n",
       "       [ 38.79684808],\n",
       "       [ 34.33296541],\n",
       "       [ 40.34038636],\n",
       "       [ 44.67339923],\n",
       "       [ 31.5955473 ],\n",
       "       [ 27.35994642],\n",
       "       [ 20.09520596],\n",
       "       [ 27.04518524],\n",
       "       [ 27.21674397],\n",
       "       [ 26.91105226],\n",
       "       [ 33.43602979],\n",
       "       [ 34.40228785],\n",
       "       [ 31.83374181],\n",
       "       [ 25.82416035],\n",
       "       [ 24.43687139],\n",
       "       [ 28.46348891],\n",
       "       [ 27.36916176],\n",
       "       [ 19.54441878],\n",
       "       [ 29.11480679],\n",
       "       [ 31.90852699],\n",
       "       [ 30.77325183],\n",
       "       [ 28.9430835 ],\n",
       "       [ 28.88108106],\n",
       "       [ 32.79876794],\n",
       "       [ 33.20356949],\n",
       "       [ 30.76568546],\n",
       "       [ 35.55843485],\n",
       "       [ 32.70725436],\n",
       "       [ 28.64759861],\n",
       "       [ 23.59388439],\n",
       "       [ 18.5461558 ],\n",
       "       [ 26.88429024],\n",
       "       [ 23.28485442],\n",
       "       [ 25.55002201],\n",
       "       [ 25.48337323],\n",
       "       [ 20.54343769],\n",
       "       [ 17.61406384],\n",
       "       [ 18.37627933],\n",
       "       [ 24.29187594],\n",
       "       [ 21.3257202 ],\n",
       "       [ 24.88826131],\n",
       "       [ 24.87143049],\n",
       "       [ 22.87255605],\n",
       "       [ 19.4540234 ],\n",
       "       [ 25.11948741],\n",
       "       [ 24.66816374],\n",
       "       [ 23.68209656],\n",
       "       [ 19.33951725],\n",
       "       [ 21.17636041],\n",
       "       [ 24.25306588],\n",
       "       [ 21.59311197],\n",
       "       [ 19.98766667],\n",
       "       [ 23.34079584],\n",
       "       [ 22.13973959],\n",
       "       [ 21.55349196],\n",
       "       [ 20.61808868],\n",
       "       [ 20.1607571 ],\n",
       "       [ 19.28455466],\n",
       "       [ 22.16593919],\n",
       "       [ 21.24893735],\n",
       "       [ 21.42985456],\n",
       "       [ 30.32874523],\n",
       "       [ 22.04915396],\n",
       "       [ 27.70610125],\n",
       "       [ 28.54595004],\n",
       "       [ 16.54657063],\n",
       "       [ 14.78278261],\n",
       "       [ 25.27336772],\n",
       "       [ 27.54088054],\n",
       "       [ 22.14633467],\n",
       "       [ 20.46081206],\n",
       "       [ 20.54472332],\n",
       "       [ 16.88194391],\n",
       "       [ 25.40066956],\n",
       "       [ 14.32299547],\n",
       "       [ 16.5927403 ],\n",
       "       [ 19.63224597],\n",
       "       [ 22.7117302 ],\n",
       "       [ 22.19946949],\n",
       "       [ 19.1989151 ],\n",
       "       [ 22.66091019],\n",
       "       [ 18.92059374],\n",
       "       [ 18.22715359],\n",
       "       [ 20.22444386],\n",
       "       [ 37.47946099],\n",
       "       [ 14.29172583],\n",
       "       [ 15.53697148],\n",
       "       [ 10.82825817],\n",
       "       [ 23.81134987],\n",
       "       [ 32.64787163],\n",
       "       [ 34.61163401],\n",
       "       [ 24.94604102],\n",
       "       [ 26.00259724],\n",
       "       [  6.12085728],\n",
       "       [  0.78021126],\n",
       "       [ 25.311373  ],\n",
       "       [ 17.73465914],\n",
       "       [ 20.22593282],\n",
       "       [ 15.83834861],\n",
       "       [ 16.83742401],\n",
       "       [ 14.43123608],\n",
       "       [ 18.47647773],\n",
       "       [ 13.42427933],\n",
       "       [ 13.05677824],\n",
       "       [  3.27646485],\n",
       "       [  8.05936467],\n",
       "       [  6.13903114],\n",
       "       [  5.62271213],\n",
       "       [  6.44935154],\n",
       "       [ 14.20597451],\n",
       "       [ 17.21022671],\n",
       "       [ 17.29035065],\n",
       "       [  9.89064351],\n",
       "       [ 20.21972222],\n",
       "       [ 17.94511052],\n",
       "       [ 20.30017588],\n",
       "       [ 19.28790318],\n",
       "       [ 16.33300008],\n",
       "       [  6.56843662],\n",
       "       [ 10.87541577],\n",
       "       [ 11.88704097],\n",
       "       [ 17.81098929],\n",
       "       [ 18.25461066],\n",
       "       [ 12.99282707],\n",
       "       [  7.39319053],\n",
       "       [  8.25609561],\n",
       "       [  8.07899971],\n",
       "       [ 19.98563715],\n",
       "       [ 13.69651744],\n",
       "       [ 19.83511412],\n",
       "       [ 15.2345378 ],\n",
       "       [ 16.93112419],\n",
       "       [  1.69347406],\n",
       "       [ 11.81116263],\n",
       "       [ -4.28300934],\n",
       "       [  9.55007844],\n",
       "       [ 13.32635521],\n",
       "       [  6.88351077],\n",
       "       [  6.16827417],\n",
       "       [ 14.56933235],\n",
       "       [ 19.59292932],\n",
       "       [ 18.1151686 ],\n",
       "       [ 18.52011987],\n",
       "       [ 13.13707457],\n",
       "       [ 14.59662601],\n",
       "       [  9.8923749 ],\n",
       "       [ 16.31998048],\n",
       "       [ 14.06750301],\n",
       "       [ 14.22573568],\n",
       "       [ 13.00752251],\n",
       "       [ 18.13277547],\n",
       "       [ 18.66645496],\n",
       "       [ 21.50283795],\n",
       "       [ 17.00039379],\n",
       "       [ 15.93926602],\n",
       "       [ 13.32952716],\n",
       "       [ 14.48949211],\n",
       "       [  8.78366731],\n",
       "       [  4.8300317 ],\n",
       "       [ 13.06115528],\n",
       "       [ 12.71101472],\n",
       "       [ 17.2887624 ],\n",
       "       [ 18.73424906],\n",
       "       [ 18.05271013],\n",
       "       [ 11.49855612],\n",
       "       [ 13.00841512],\n",
       "       [ 17.66975577],\n",
       "       [ 18.12342294],\n",
       "       [ 17.51503231],\n",
       "       [ 17.21307203],\n",
       "       [ 16.48238543],\n",
       "       [ 19.40079737],\n",
       "       [ 18.57392951],\n",
       "       [ 22.47833186],\n",
       "       [ 15.24179836],\n",
       "       [ 15.78327609],\n",
       "       [ 12.64853778],\n",
       "       [ 12.84121049],\n",
       "       [ 17.17173661],\n",
       "       [ 18.50906858],\n",
       "       [ 19.02803874],\n",
       "       [ 20.16441773],\n",
       "       [ 19.76975335],\n",
       "       [ 22.42614937],\n",
       "       [ 20.31750314],\n",
       "       [ 17.87618837],\n",
       "       [ 14.3391341 ],\n",
       "       [ 16.93715603],\n",
       "       [ 16.98716629],\n",
       "       [ 18.59431701],\n",
       "       [ 20.16395155],\n",
       "       [ 22.97743546],\n",
       "       [ 22.45110639],\n",
       "       [ 25.5707207 ],\n",
       "       [ 16.39091112],\n",
       "       [ 16.09765427],\n",
       "       [ 20.52835689],\n",
       "       [ 11.5429045 ],\n",
       "       [ 19.20387482],\n",
       "       [ 21.86820603],\n",
       "       [ 23.47052203],\n",
       "       [ 27.10034494],\n",
       "       [ 28.57064813],\n",
       "       [ 21.0839881 ],\n",
       "       [ 19.4490529 ],\n",
       "       [ 22.2189221 ],\n",
       "       [ 19.65423066],\n",
       "       [ 21.324671  ],\n",
       "       [ 11.86231364],\n",
       "       [  8.22260592],\n",
       "       [  3.65825168],\n",
       "       [ 13.76275951],\n",
       "       [ 15.93780944],\n",
       "       [ 20.62730097],\n",
       "       [ 20.61035443],\n",
       "       [ 16.88048035],\n",
       "       [ 14.01017244],\n",
       "       [ 19.10825534],\n",
       "       [ 21.29720741],\n",
       "       [ 18.45524217],\n",
       "       [ 20.46764235],\n",
       "       [ 23.53261729],\n",
       "       [ 22.37869798],\n",
       "       [ 27.62934247],\n",
       "       [ 26.12983844],\n",
       "       [ 22.34870269]])"
      ]
     },
     "execution_count": 28,
     "metadata": {},
     "output_type": "execute_result"
    }
   ],
   "source": [
    "# Import the class.\n",
    "from sklearn.linear_model import LinearRegression\n",
    "\n",
    "# Instantiate the model.\n",
    "lr = LinearRegression()\n",
    "\n",
    "# Train the model on the entire data set. WHICH  IS BAAAD\n",
    "lr.fit(X, y)\n",
    "\n",
    "# Predict the response values for the observations in X (\"test the model\").\n",
    "lr.predict(X)"
   ]
  },
  {
   "cell_type": "markdown",
   "metadata": {},
   "source": [
    "#### Store the predicted response values."
   ]
  },
  {
   "cell_type": "code",
   "execution_count": 30,
   "metadata": {},
   "outputs": [
    {
     "data": {
      "text/plain": [
       "array([[ 30.00821269],\n",
       "       [ 25.0298606 ],\n",
       "       [ 30.5702317 ],\n",
       "       [ 28.60814055],\n",
       "       [ 27.94288232],\n",
       "       [ 25.25940048],\n",
       "       [ 23.00433994],\n",
       "       [ 19.5347558 ],\n",
       "       [ 11.51696539],\n",
       "       [ 18.91981483],\n",
       "       [ 18.9958266 ],\n",
       "       [ 21.58970854],\n",
       "       [ 20.90534851],\n",
       "       [ 19.55535931],\n",
       "       [ 19.2837957 ],\n",
       "       [ 19.30000174],\n",
       "       [ 20.52889993],\n",
       "       [ 16.9096749 ],\n",
       "       [ 16.17067411],\n",
       "       [ 18.40781636],\n",
       "       [ 12.52040454],\n",
       "       [ 17.67104565],\n",
       "       [ 15.82934891],\n",
       "       [ 13.80368317],\n",
       "       [ 15.67708138],\n",
       "       [ 13.3791645 ],\n",
       "       [ 15.46258829],\n",
       "       [ 14.69863607],\n",
       "       [ 19.54518512],\n",
       "       [ 20.87309945],\n",
       "       [ 11.44806825],\n",
       "       [ 18.05900412],\n",
       "       [  8.78841666],\n",
       "       [ 14.27882319],\n",
       "       [ 13.69097132],\n",
       "       [ 23.81755469],\n",
       "       [ 22.34216285],\n",
       "       [ 23.11123204],\n",
       "       [ 22.91494157],\n",
       "       [ 31.35826216],\n",
       "       [ 34.21485385],\n",
       "       [ 28.0207132 ],\n",
       "       [ 25.20646572],\n",
       "       [ 24.61192851],\n",
       "       [ 22.94438953],\n",
       "       [ 22.10150945],\n",
       "       [ 20.42467417],\n",
       "       [ 18.03614022],\n",
       "       [  9.10176198],\n",
       "       [ 17.20856571],\n",
       "       [ 21.28259372],\n",
       "       [ 23.97621248],\n",
       "       [ 27.65853521],\n",
       "       [ 24.0521088 ],\n",
       "       [ 15.35989132],\n",
       "       [ 31.14817003],\n",
       "       [ 24.85878746],\n",
       "       [ 33.11017111],\n",
       "       [ 21.77458036],\n",
       "       [ 21.08526739],\n",
       "       [ 17.87203538],\n",
       "       [ 18.50881381],\n",
       "       [ 23.9879809 ],\n",
       "       [ 22.54944098],\n",
       "       [ 23.37068403],\n",
       "       [ 30.36557584],\n",
       "       [ 25.53407332],\n",
       "       [ 21.11758504],\n",
       "       [ 17.42468223],\n",
       "       [ 20.7893086 ],\n",
       "       [ 25.20349174],\n",
       "       [ 21.74490595],\n",
       "       [ 24.56275612],\n",
       "       [ 24.04479519],\n",
       "       [ 25.5091157 ],\n",
       "       [ 23.97076758],\n",
       "       [ 22.94823519],\n",
       "       [ 23.36106095],\n",
       "       [ 21.26432549],\n",
       "       [ 22.4345376 ],\n",
       "       [ 28.40699937],\n",
       "       [ 26.99734716],\n",
       "       [ 26.03807246],\n",
       "       [ 25.06152125],\n",
       "       [ 24.7858613 ],\n",
       "       [ 27.79291889],\n",
       "       [ 22.16927073],\n",
       "       [ 25.89685664],\n",
       "       [ 30.67771522],\n",
       "       [ 30.83225886],\n",
       "       [ 27.12127354],\n",
       "       [ 27.41597825],\n",
       "       [ 28.9456478 ],\n",
       "       [ 29.08668003],\n",
       "       [ 27.04501726],\n",
       "       [ 28.62506705],\n",
       "       [ 24.73038218],\n",
       "       [ 35.78062378],\n",
       "       [ 35.11269515],\n",
       "       [ 32.25115468],\n",
       "       [ 24.57946786],\n",
       "       [ 25.59386215],\n",
       "       [ 19.76439137],\n",
       "       [ 20.31157117],\n",
       "       [ 21.4353635 ],\n",
       "       [ 18.53971968],\n",
       "       [ 17.18572611],\n",
       "       [ 20.74934949],\n",
       "       [ 22.64791346],\n",
       "       [ 19.77000977],\n",
       "       [ 20.64745349],\n",
       "       [ 26.52652691],\n",
       "       [ 20.77440554],\n",
       "       [ 20.71546432],\n",
       "       [ 25.17461484],\n",
       "       [ 20.4273652 ],\n",
       "       [ 23.37862521],\n",
       "       [ 23.69454145],\n",
       "       [ 20.33202239],\n",
       "       [ 20.79378139],\n",
       "       [ 21.92024414],\n",
       "       [ 22.47432006],\n",
       "       [ 20.55884635],\n",
       "       [ 16.36300764],\n",
       "       [ 20.56342111],\n",
       "       [ 22.48570454],\n",
       "       [ 14.61264839],\n",
       "       [ 15.1802607 ],\n",
       "       [ 18.93828443],\n",
       "       [ 14.0574955 ],\n",
       "       [ 20.03651959],\n",
       "       [ 19.41306288],\n",
       "       [ 20.06401034],\n",
       "       [ 15.76005772],\n",
       "       [ 13.24771577],\n",
       "       [ 17.26167729],\n",
       "       [ 15.87759672],\n",
       "       [ 19.36145104],\n",
       "       [ 13.81270814],\n",
       "       [ 16.44782934],\n",
       "       [ 13.56511101],\n",
       "       [  3.98343974],\n",
       "       [ 14.59241207],\n",
       "       [ 12.14503093],\n",
       "       [  8.72407108],\n",
       "       [ 12.00815659],\n",
       "       [ 15.80308586],\n",
       "       [  8.50963929],\n",
       "       [  9.70965512],\n",
       "       [ 14.79848067],\n",
       "       [ 20.83598096],\n",
       "       [ 18.30017013],\n",
       "       [ 20.12575267],\n",
       "       [ 17.27585681],\n",
       "       [ 22.35997992],\n",
       "       [ 20.07985184],\n",
       "       [ 13.59903744],\n",
       "       [ 33.26635221],\n",
       "       [ 29.03938379],\n",
       "       [ 25.56694529],\n",
       "       [ 32.71732164],\n",
       "       [ 36.78111388],\n",
       "       [ 40.56615533],\n",
       "       [ 41.85122271],\n",
       "       [ 24.79875684],\n",
       "       [ 25.3771545 ],\n",
       "       [ 37.20662185],\n",
       "       [ 23.08244608],\n",
       "       [ 26.40326834],\n",
       "       [ 26.65647433],\n",
       "       [ 22.55412919],\n",
       "       [ 24.2970948 ],\n",
       "       [ 22.98024802],\n",
       "       [ 29.07488389],\n",
       "       [ 26.52620066],\n",
       "       [ 30.72351225],\n",
       "       [ 25.61835359],\n",
       "       [ 29.14203283],\n",
       "       [ 31.43690634],\n",
       "       [ 32.9232938 ],\n",
       "       [ 34.72096487],\n",
       "       [ 27.76792733],\n",
       "       [ 33.88992899],\n",
       "       [ 30.99725805],\n",
       "       [ 22.72124288],\n",
       "       [ 24.76567683],\n",
       "       [ 35.88131719],\n",
       "       [ 33.42696242],\n",
       "       [ 32.41513625],\n",
       "       [ 34.51611818],\n",
       "       [ 30.76057666],\n",
       "       [ 30.29169893],\n",
       "       [ 32.92040221],\n",
       "       [ 32.11459912],\n",
       "       [ 31.56133385],\n",
       "       [ 40.84274603],\n",
       "       [ 36.13046343],\n",
       "       [ 32.66639271],\n",
       "       [ 34.70558647],\n",
       "       [ 30.09276228],\n",
       "       [ 30.64139724],\n",
       "       [ 29.29189704],\n",
       "       [ 37.07062623],\n",
       "       [ 42.02879611],\n",
       "       [ 43.18582722],\n",
       "       [ 22.6923888 ],\n",
       "       [ 23.68420569],\n",
       "       [ 17.85435295],\n",
       "       [ 23.49543857],\n",
       "       [ 17.00872418],\n",
       "       [ 22.39535066],\n",
       "       [ 17.06152243],\n",
       "       [ 22.74106824],\n",
       "       [ 25.21974252],\n",
       "       [ 11.10601161],\n",
       "       [ 24.51300617],\n",
       "       [ 26.60749026],\n",
       "       [ 28.35802444],\n",
       "       [ 24.91860458],\n",
       "       [ 29.69254951],\n",
       "       [ 33.18492755],\n",
       "       [ 23.77145523],\n",
       "       [ 32.14086508],\n",
       "       [ 29.74802362],\n",
       "       [ 38.36605632],\n",
       "       [ 39.80716458],\n",
       "       [ 37.58362546],\n",
       "       [ 32.39769704],\n",
       "       [ 35.45048257],\n",
       "       [ 31.23446481],\n",
       "       [ 24.48478321],\n",
       "       [ 33.28615723],\n",
       "       [ 38.04368164],\n",
       "       [ 37.15737267],\n",
       "       [ 31.71297469],\n",
       "       [ 25.26658017],\n",
       "       [ 30.101515  ],\n",
       "       [ 32.71897655],\n",
       "       [ 28.42735376],\n",
       "       [ 28.42999168],\n",
       "       [ 27.2913215 ],\n",
       "       [ 23.74446671],\n",
       "       [ 24.11878941],\n",
       "       [ 27.40241209],\n",
       "       [ 16.32993575],\n",
       "       [ 13.39695213],\n",
       "       [ 20.01655581],\n",
       "       [ 19.86205904],\n",
       "       [ 21.28604604],\n",
       "       [ 24.07796482],\n",
       "       [ 24.20603792],\n",
       "       [ 25.04201534],\n",
       "       [ 24.91709097],\n",
       "       [ 29.93762975],\n",
       "       [ 23.97709054],\n",
       "       [ 21.69931969],\n",
       "       [ 37.51051381],\n",
       "       [ 43.29459357],\n",
       "       [ 36.48121427],\n",
       "       [ 34.99129701],\n",
       "       [ 34.80865729],\n",
       "       [ 37.16296374],\n",
       "       [ 40.9823638 ],\n",
       "       [ 34.44211691],\n",
       "       [ 35.83178068],\n",
       "       [ 28.24913647],\n",
       "       [ 31.22022312],\n",
       "       [ 40.83256202],\n",
       "       [ 39.31768808],\n",
       "       [ 25.71099424],\n",
       "       [ 22.30344878],\n",
       "       [ 27.20551341],\n",
       "       [ 28.51386352],\n",
       "       [ 35.47494122],\n",
       "       [ 36.11110647],\n",
       "       [ 33.80004807],\n",
       "       [ 35.61141951],\n",
       "       [ 34.84311742],\n",
       "       [ 30.35359323],\n",
       "       [ 35.31260262],\n",
       "       [ 38.79684808],\n",
       "       [ 34.33296541],\n",
       "       [ 40.34038636],\n",
       "       [ 44.67339923],\n",
       "       [ 31.5955473 ],\n",
       "       [ 27.35994642],\n",
       "       [ 20.09520596],\n",
       "       [ 27.04518524],\n",
       "       [ 27.21674397],\n",
       "       [ 26.91105226],\n",
       "       [ 33.43602979],\n",
       "       [ 34.40228785],\n",
       "       [ 31.83374181],\n",
       "       [ 25.82416035],\n",
       "       [ 24.43687139],\n",
       "       [ 28.46348891],\n",
       "       [ 27.36916176],\n",
       "       [ 19.54441878],\n",
       "       [ 29.11480679],\n",
       "       [ 31.90852699],\n",
       "       [ 30.77325183],\n",
       "       [ 28.9430835 ],\n",
       "       [ 28.88108106],\n",
       "       [ 32.79876794],\n",
       "       [ 33.20356949],\n",
       "       [ 30.76568546],\n",
       "       [ 35.55843485],\n",
       "       [ 32.70725436],\n",
       "       [ 28.64759861],\n",
       "       [ 23.59388439],\n",
       "       [ 18.5461558 ],\n",
       "       [ 26.88429024],\n",
       "       [ 23.28485442],\n",
       "       [ 25.55002201],\n",
       "       [ 25.48337323],\n",
       "       [ 20.54343769],\n",
       "       [ 17.61406384],\n",
       "       [ 18.37627933],\n",
       "       [ 24.29187594],\n",
       "       [ 21.3257202 ],\n",
       "       [ 24.88826131],\n",
       "       [ 24.87143049],\n",
       "       [ 22.87255605],\n",
       "       [ 19.4540234 ],\n",
       "       [ 25.11948741],\n",
       "       [ 24.66816374],\n",
       "       [ 23.68209656],\n",
       "       [ 19.33951725],\n",
       "       [ 21.17636041],\n",
       "       [ 24.25306588],\n",
       "       [ 21.59311197],\n",
       "       [ 19.98766667],\n",
       "       [ 23.34079584],\n",
       "       [ 22.13973959],\n",
       "       [ 21.55349196],\n",
       "       [ 20.61808868],\n",
       "       [ 20.1607571 ],\n",
       "       [ 19.28455466],\n",
       "       [ 22.16593919],\n",
       "       [ 21.24893735],\n",
       "       [ 21.42985456],\n",
       "       [ 30.32874523],\n",
       "       [ 22.04915396],\n",
       "       [ 27.70610125],\n",
       "       [ 28.54595004],\n",
       "       [ 16.54657063],\n",
       "       [ 14.78278261],\n",
       "       [ 25.27336772],\n",
       "       [ 27.54088054],\n",
       "       [ 22.14633467],\n",
       "       [ 20.46081206],\n",
       "       [ 20.54472332],\n",
       "       [ 16.88194391],\n",
       "       [ 25.40066956],\n",
       "       [ 14.32299547],\n",
       "       [ 16.5927403 ],\n",
       "       [ 19.63224597],\n",
       "       [ 22.7117302 ],\n",
       "       [ 22.19946949],\n",
       "       [ 19.1989151 ],\n",
       "       [ 22.66091019],\n",
       "       [ 18.92059374],\n",
       "       [ 18.22715359],\n",
       "       [ 20.22444386],\n",
       "       [ 37.47946099],\n",
       "       [ 14.29172583],\n",
       "       [ 15.53697148],\n",
       "       [ 10.82825817],\n",
       "       [ 23.81134987],\n",
       "       [ 32.64787163],\n",
       "       [ 34.61163401],\n",
       "       [ 24.94604102],\n",
       "       [ 26.00259724],\n",
       "       [  6.12085728],\n",
       "       [  0.78021126],\n",
       "       [ 25.311373  ],\n",
       "       [ 17.73465914],\n",
       "       [ 20.22593282],\n",
       "       [ 15.83834861],\n",
       "       [ 16.83742401],\n",
       "       [ 14.43123608],\n",
       "       [ 18.47647773],\n",
       "       [ 13.42427933],\n",
       "       [ 13.05677824],\n",
       "       [  3.27646485],\n",
       "       [  8.05936467],\n",
       "       [  6.13903114],\n",
       "       [  5.62271213],\n",
       "       [  6.44935154],\n",
       "       [ 14.20597451],\n",
       "       [ 17.21022671],\n",
       "       [ 17.29035065],\n",
       "       [  9.89064351],\n",
       "       [ 20.21972222],\n",
       "       [ 17.94511052],\n",
       "       [ 20.30017588],\n",
       "       [ 19.28790318],\n",
       "       [ 16.33300008],\n",
       "       [  6.56843662],\n",
       "       [ 10.87541577],\n",
       "       [ 11.88704097],\n",
       "       [ 17.81098929],\n",
       "       [ 18.25461066],\n",
       "       [ 12.99282707],\n",
       "       [  7.39319053],\n",
       "       [  8.25609561],\n",
       "       [  8.07899971],\n",
       "       [ 19.98563715],\n",
       "       [ 13.69651744],\n",
       "       [ 19.83511412],\n",
       "       [ 15.2345378 ],\n",
       "       [ 16.93112419],\n",
       "       [  1.69347406],\n",
       "       [ 11.81116263],\n",
       "       [ -4.28300934],\n",
       "       [  9.55007844],\n",
       "       [ 13.32635521],\n",
       "       [  6.88351077],\n",
       "       [  6.16827417],\n",
       "       [ 14.56933235],\n",
       "       [ 19.59292932],\n",
       "       [ 18.1151686 ],\n",
       "       [ 18.52011987],\n",
       "       [ 13.13707457],\n",
       "       [ 14.59662601],\n",
       "       [  9.8923749 ],\n",
       "       [ 16.31998048],\n",
       "       [ 14.06750301],\n",
       "       [ 14.22573568],\n",
       "       [ 13.00752251],\n",
       "       [ 18.13277547],\n",
       "       [ 18.66645496],\n",
       "       [ 21.50283795],\n",
       "       [ 17.00039379],\n",
       "       [ 15.93926602],\n",
       "       [ 13.32952716],\n",
       "       [ 14.48949211],\n",
       "       [  8.78366731],\n",
       "       [  4.8300317 ],\n",
       "       [ 13.06115528],\n",
       "       [ 12.71101472],\n",
       "       [ 17.2887624 ],\n",
       "       [ 18.73424906],\n",
       "       [ 18.05271013],\n",
       "       [ 11.49855612],\n",
       "       [ 13.00841512],\n",
       "       [ 17.66975577],\n",
       "       [ 18.12342294],\n",
       "       [ 17.51503231],\n",
       "       [ 17.21307203],\n",
       "       [ 16.48238543],\n",
       "       [ 19.40079737],\n",
       "       [ 18.57392951],\n",
       "       [ 22.47833186],\n",
       "       [ 15.24179836],\n",
       "       [ 15.78327609],\n",
       "       [ 12.64853778],\n",
       "       [ 12.84121049],\n",
       "       [ 17.17173661],\n",
       "       [ 18.50906858],\n",
       "       [ 19.02803874],\n",
       "       [ 20.16441773],\n",
       "       [ 19.76975335],\n",
       "       [ 22.42614937],\n",
       "       [ 20.31750314],\n",
       "       [ 17.87618837],\n",
       "       [ 14.3391341 ],\n",
       "       [ 16.93715603],\n",
       "       [ 16.98716629],\n",
       "       [ 18.59431701],\n",
       "       [ 20.16395155],\n",
       "       [ 22.97743546],\n",
       "       [ 22.45110639],\n",
       "       [ 25.5707207 ],\n",
       "       [ 16.39091112],\n",
       "       [ 16.09765427],\n",
       "       [ 20.52835689],\n",
       "       [ 11.5429045 ],\n",
       "       [ 19.20387482],\n",
       "       [ 21.86820603],\n",
       "       [ 23.47052203],\n",
       "       [ 27.10034494],\n",
       "       [ 28.57064813],\n",
       "       [ 21.0839881 ],\n",
       "       [ 19.4490529 ],\n",
       "       [ 22.2189221 ],\n",
       "       [ 19.65423066],\n",
       "       [ 21.324671  ],\n",
       "       [ 11.86231364],\n",
       "       [  8.22260592],\n",
       "       [  3.65825168],\n",
       "       [ 13.76275951],\n",
       "       [ 15.93780944],\n",
       "       [ 20.62730097],\n",
       "       [ 20.61035443],\n",
       "       [ 16.88048035],\n",
       "       [ 14.01017244],\n",
       "       [ 19.10825534],\n",
       "       [ 21.29720741],\n",
       "       [ 18.45524217],\n",
       "       [ 20.46764235],\n",
       "       [ 23.53261729],\n",
       "       [ 22.37869798],\n",
       "       [ 27.62934247],\n",
       "       [ 26.12983844],\n",
       "       [ 22.34870269]])"
      ]
     },
     "execution_count": 30,
     "metadata": {},
     "output_type": "execute_result"
    }
   ],
   "source": [
    "y_pred = lr.predict(X)\n",
    "y_pred"
   ]
  },
  {
   "cell_type": "markdown",
   "metadata": {
    "collapsed": true
   },
   "source": [
    "To evaluate a model, we also need an **evaluation metric:**\n",
    "\n",
    "- A numeric calculation used to **quantify** the performance of a model.\n",
    "- The appropriate metric depends on the **goals** of your problem.\n",
    "\n",
    "The most common choices for regression problems are:\n",
    "\n",
    "- **R-squared**: The percentage of variation explained by the model (a \"reward function,\" as higher is better).\n",
    "- **Mean squared error**: The average squared distance between the prediction and the correct answer (a \"loss function,\" as lower is better).\n",
    "\n",
    "In this case, we'll use mean squared error because it is more interpretable in a predictive context."
   ]
  },
  {
   "cell_type": "markdown",
   "metadata": {},
   "source": [
    "#### Compute mean squared error using a function from `metrics`."
   ]
  },
  {
   "cell_type": "code",
   "execution_count": 31,
   "metadata": {},
   "outputs": [
    {
     "name": "stdout",
     "output_type": "stream",
     "text": [
      "21.8977792177\n"
     ]
    }
   ],
   "source": [
    "from sklearn import metrics\n",
    "\n",
    "print(metrics.mean_squared_error(y, y_pred))"
   ]
  },
  {
   "cell_type": "markdown",
   "metadata": {
    "collapsed": true
   },
   "source": [
    "This is known as the **training mean squared error** because we are evaluating the model based on the same data we used to train the model."
   ]
  },
  {
   "cell_type": "markdown",
   "metadata": {},
   "source": [
    "<a id=\"problems-with-training-and-testing-on-the-same-data\"></a>\n",
    "### Problems With Training and Testing on the Same Data\n",
    "\n",
    "- Our goal is to estimate likely performance of a model on **out-of-sample data, to generalize**.\n",
    "- But, maximizing the training mean squared error rewards **overly complex models** that won't necessarily generalize.\n",
    "- Unnecessarily complex models **overfit** the training data.\n",
    "    - They will do well when tested using the in-sample data.\n",
    "    - They may do poorly with out-of-sample data.\n",
    "    - They learn the \"noise\" in the data rather than the \"signal.\"\n",
    "    \n",
    "**Thus, the training MSE is not a good estimate of the out-of-sample MSE.**"
   ]
  },
  {
   "cell_type": "markdown",
   "metadata": {},
   "source": [
    "<a id=\"evaluation-procedure--traintest-split\"></a>\n",
    "## Evaluation procedure #2: Train/Test Split"
   ]
  },
  {
   "cell_type": "markdown",
   "metadata": {
    "collapsed": true
   },
   "source": [
    "1. Split the data set into two pieces: a **training set** and a **testing set**.\n",
    "2. Train the model on the **training set**.\n",
    "3. Test the model on the **testing set** and evaluate how well we did.\n",
    "\n",
    "Often a good rule-of-thumb is 80% training 20% test, but this can vary based on the size of your dataset. For example, with a small dataset you would need to use as much training data as possible (in return, your test accuracy will be more variable).\n",
    "\n",
    "What does this accomplish?\n",
    "\n",
    "- Models can be trained and tested on **different data** (We treat testing data like out-of-sample data).\n",
    "- Response values are known for the testing set and thus **predictions can be evaluated**.\n",
    "\n",
    "This is known as the **testing mean squared error** because we are evaluating the model on an independent \"test set\" that was not used during model training.\n",
    "\n",
    "**The testing MSE is a better estimate of out-of-sample performance than the training MSE.**"
   ]
  },
  {
   "cell_type": "markdown",
   "metadata": {
    "collapsed": true
   },
   "source": [
    "#### Understanding the `train_test_split` Function"
   ]
  },
  {
   "cell_type": "code",
   "execution_count": 33,
   "metadata": {},
   "outputs": [],
   "source": [
    "from sklearn.model_selection import train_test_split\n",
    "\n",
    "X_train, X_test, y_train, y_test = train_test_split(X, y)"
   ]
  },
  {
   "cell_type": "code",
   "execution_count": 34,
   "metadata": {},
   "outputs": [
    {
     "name": "stdout",
     "output_type": "stream",
     "text": [
      "(506, 13)\n",
      "(379, 13)\n",
      "(127, 13)\n"
     ]
    }
   ],
   "source": [
    "# Before splitting\n",
    "print(X.shape)\n",
    "\n",
    "# After splitting\n",
    "print(X_train.shape)\n",
    "print(X_test.shape)"
   ]
  },
  {
   "cell_type": "code",
   "execution_count": 35,
   "metadata": {},
   "outputs": [
    {
     "name": "stdout",
     "output_type": "stream",
     "text": [
      "(506, 1)\n",
      "(379, 1)\n",
      "(127, 1)\n"
     ]
    }
   ],
   "source": [
    "# Recall that (1,) is a tuple.\n",
    "# The trailing comma distinguishes it as being a tuple, not an integer.\n",
    "\n",
    "# Before splitting\n",
    "print(y.shape)\n",
    "\n",
    "# After splitting\n",
    "print(y_train.shape)\n",
    "print(y_test.shape)"
   ]
  },
  {
   "cell_type": "markdown",
   "metadata": {},
   "source": [
    "![train_test_split](./assets/train_test_split.png)"
   ]
  },
  {
   "cell_type": "markdown",
   "metadata": {
    "collapsed": true
   },
   "source": [
    "#### Understanding the `random_state` Parameter\n",
    "\n",
    "The `random_state` is a pseudo-random number that allows us to reproduce our results every time we run them. However, it makes it impossible to predict what are exact results will be if we chose a new `random_state`.\n",
    "\n",
    "`random_state` is very useful for testing that your model was made correctly since it provides you with the same split each time. However, make sure you remove it if you are testing for model variability!"
   ]
  },
  {
   "cell_type": "code",
   "execution_count": 43,
   "metadata": {},
   "outputs": [
    {
     "name": "stdout",
     "output_type": "stream",
     "text": [
      "        CRIM   ZN  INDUS  CHAS    NOX     RM   AGE     DIS  RAD    TAX  \\\n",
      "336  0.03427  0.0   5.19   0.0  0.515  5.869  46.3  5.2311  5.0  224.0   \n",
      "\n",
      "     PTRATIO      B  LSTAT  \n",
      "336     20.2  396.9    9.8  \n"
     ]
    }
   ],
   "source": [
    "# WITHOUT a random_state parameter:\n",
    "\n",
    "#(If you run this code several times, you get different results!)\n",
    "\n",
    "X_train, X_test, y_train, y_test = train_test_split(X, y)\n",
    "\n",
    "# Print the first element of each object.\n",
    "print(X_train.head(1))"
   ]
  },
  {
   "cell_type": "code",
   "execution_count": 46,
   "metadata": {},
   "outputs": [
    {
     "name": "stdout",
     "output_type": "stream",
     "text": [
      "        CRIM   ZN  INDUS  CHAS    NOX     RM   AGE     DIS  RAD    TAX  \\\n",
      "182  0.09103  0.0   2.46   0.0  0.488  7.155  92.2  2.7006  3.0  193.0   \n",
      "\n",
      "     PTRATIO       B  LSTAT  \n",
      "182     17.8  394.12   4.82  \n",
      "        CRIM   ZN  INDUS  CHAS   NOX     RM   AGE     DIS  RAD    TAX  \\\n",
      "173  0.09178  0.0   4.05   0.0  0.51  6.416  84.1  2.6463  5.0  296.0   \n",
      "\n",
      "     PTRATIO      B  LSTAT  \n",
      "173     16.6  395.5   9.04  \n",
      "     MEDV\n",
      "182  37.9\n",
      "     MEDV\n",
      "173  23.6\n"
     ]
    }
   ],
   "source": [
    "# WITH a random_state parameter:\n",
    "#(Same split every time! Note you can change the random state to any integer).\n",
    "\n",
    "\n",
    "X_train, X_test, y_train, y_test = train_test_split(X, y, random_state=42)\n",
    "\n",
    "# Print the first element of each object.\n",
    "print(X_train.head(1))\n",
    "print(X_test.head(1))\n",
    "print(y_train.head(1))\n",
    "print(y_test.head(1))"
   ]
  },
  {
   "cell_type": "markdown",
   "metadata": {},
   "source": []
  },
  {
   "cell_type": "markdown",
   "metadata": {},
   "source": [
    "#### Go back and try spliting the dataset. Check the metrics you get now"
   ]
  },
  {
   "cell_type": "markdown",
   "metadata": {},
   "source": [
    "- **Training error**: Decreases as model complexity increases.\n",
    "- **Testing error**: Is minimized at the optimum model complexity."
   ]
  },
  {
   "cell_type": "markdown",
   "metadata": {},
   "source": [
    "<a id=\"k-folds-cross-validation\"></a>\n",
    "## K-Folds Cross-Validation\n",
    "---"
   ]
  },
  {
   "cell_type": "markdown",
   "metadata": {
    "collapsed": true
   },
   "source": [
    "Train/test split provides us with helpful tool, but it's a shame that we are tossing out a large chunk of our data for testing purposes.\n",
    "\n",
    "**How can we use the maximum amount of our data points while still ensuring model integrity?**\n",
    "\n",
    "1. Split our data into a number of different pieces (folds).\n",
    "2. Train using `k-1` folds for training and a different fold for testing.\n",
    "3. Average our model against EACH of those iterations.\n",
    "4. Choose our model and TEST it against the final fold.\n",
    "5. Average all test accuracies to get the estimated out-of-sample accuracy.\n",
    "\n",
    "Although this may sound complicated, we are just training the model on k separate train-test-splits, then taking the average of the resulting test accuracies!"
   ]
  },
  {
   "cell_type": "markdown",
   "metadata": {},
   "source": [
    "![](./assets/cross_validation_diagram.png)"
   ]
  },
  {
   "cell_type": "markdown",
   "metadata": {},
   "source": [
    "<a id=\"intro-to-cross-validation-with-the-boston-data\"></a>\n",
    "### Let's try with our mammals dataset\n",
    "\n",
    "We want to fit a linear regression model to our data using 5-fold cross validation.\n",
    "\n",
    "Let's start by splitting our data randomly into four equally sized groups. "
   ]
  },
  {
   "cell_type": "code",
   "execution_count": 47,
   "metadata": {},
   "outputs": [],
   "source": [
    "path = 'data/mammals.txt'\n",
    "cols = ['brain','body']\n",
    "mammals = pd.read_csv(path, sep='\\t', names=cols, header=0)\n",
    "mammals = mammals[mammals.body < 200]\n",
    "\n",
    "mammals.reset_index(inplace=True)\n",
    "\n",
    "X = mammals['body']\n",
    "y = mammals['brain']"
   ]
  },
  {
   "cell_type": "code",
   "execution_count": 48,
   "metadata": {},
   "outputs": [],
   "source": [
    "from sklearn import model_selection\n",
    "\n",
    "X = mammals['body']\n",
    "y = mammals['brain']\n",
    "\n",
    "kf = model_selection.KFold(n_splits=5, shuffle=True)"
   ]
  },
  {
   "cell_type": "markdown",
   "metadata": {},
   "source": [
    " We've now split our dataset into 5 folds. "
   ]
  },
  {
   "cell_type": "code",
   "execution_count": 49,
   "metadata": {},
   "outputs": [
    {
     "data": {
      "text/plain": [
       "<generator object _BaseKFold.split at 0x1a08ff6eb8>"
      ]
     },
     "execution_count": 49,
     "metadata": {},
     "output_type": "execute_result"
    }
   ],
   "source": [
    "\n",
    "kf.split(X, y)"
   ]
  },
  {
   "cell_type": "markdown",
   "metadata": {},
   "source": [
    "We can cycle through every 'fold' and see the indexes of the training and testing datasets.\n",
    "\n",
    "Modify this code so that for every loop:\n",
    "* A linear regression model is fitted to the training data\n",
    "* The model is tested on the testing data\n",
    "* The root mean squared error is calculated and printed out\n",
    "\n",
    "Remember the training and testing sets will be different for each loop. \n",
    "\n",
    "Then, across all five folds, evaluate the mean RMSE error for the model. "
   ]
  },
  {
   "cell_type": "code",
   "execution_count": 50,
   "metadata": {},
   "outputs": [
    {
     "name": "stdout",
     "output_type": "stream",
     "text": [
      "\n",
      "\n",
      "Fold  1 \n",
      "Training indexes: [ 0  1  2  3  4  5  8 10 11 14 15 16 18 19 20 22 23 24 25 26 27 29 30 32 33\n",
      " 34 35 36 37 38 39 41 42 43 44 45 46 48 49 50] \n",
      "Testing indexes: [ 6  7  9 12 13 17 21 28 31 40 47]\n",
      "\n",
      "\n",
      "Fold number 1 mean_RMSE= 6.4423501111\n",
      "\n",
      "\n",
      "Fold  2 \n",
      "Training indexes: [ 3  4  5  6  7  9 10 11 12 13 15 16 17 18 19 20 21 22 25 26 27 28 30 31 32\n",
      " 33 34 35 36 38 40 41 42 43 44 45 46 47 48 49 50] \n",
      "Testing indexes: [ 0  1  2  8 14 23 24 29 37 39]\n",
      "\n",
      "\n",
      "Fold number 2 mean_RMSE= 10.2834528476\n",
      "\n",
      "\n",
      "Fold  3 \n",
      "Training indexes: [ 0  1  2  4  5  6  7  8  9 10 11 12 13 14 16 17 18 19 20 21 23 24 26 27 28\n",
      " 29 31 33 35 36 37 38 39 40 41 42 46 47 48 49 50] \n",
      "Testing indexes: [ 3 15 22 25 30 32 34 43 44 45]\n",
      "\n",
      "\n",
      "Fold number 3 mean_RMSE= 46.3695003384\n",
      "\n",
      "\n",
      "Fold  4 \n",
      "Training indexes: [ 0  1  2  3  4  6  7  8  9 10 11 12 13 14 15 16 17 18 21 22 23 24 25 26 27\n",
      " 28 29 30 31 32 33 34 35 36 37 39 40 43 44 45 47] \n",
      "Testing indexes: [ 5 19 20 38 41 42 46 48 49 50]\n",
      "\n",
      "\n",
      "Fold number 4 mean_RMSE= 32.5853222\n",
      "\n",
      "\n",
      "Fold  5 \n",
      "Training indexes: [ 0  1  2  3  5  6  7  8  9 12 13 14 15 17 19 20 21 22 23 24 25 28 29 30 31\n",
      " 32 34 37 38 39 40 41 42 43 44 45 46 47 48 49 50] \n",
      "Testing indexes: [ 4 10 11 16 18 26 27 33 35 36]\n",
      "\n",
      "\n",
      "Fold number 5 mean_RMSE= 32.2798169469\n"
     ]
    }
   ],
   "source": [
    "from sklearn.metrics import mean_squared_error\n",
    "from sklearn.linear_model import LinearRegression\n",
    "#import numpy as np\n",
    "\n",
    "fold_number = 1\n",
    "\n",
    "linreg = LinearRegression()\n",
    "accuracies = []\n",
    "\n",
    "for train_index, test_index in kf.split(X,y):\n",
    "    \n",
    "    # Print out the indexes of the training and testing sets for the current 'fold'\n",
    "    print(\"\\n\\nFold \", fold_number, \"\\nTraining indexes:\", train_index, \"\\nTesting indexes:\", test_index)\n",
    "    X_train, X_test = np.array(X[train_index]).reshape(-1,1), np.array(X[test_index]).reshape(-1,1)\n",
    "    y_train, y_test = y[train_index], y[test_index]\n",
    "    \n",
    "    linreg.fit(X_train,y_train)\n",
    "    y_pred_test = linreg.predict(X_test)\n",
    "    \n",
    "    rmse = np.sqrt(mean_squared_error(y_pred_test,y_test))\n",
    "    accuracies.append(rmse)\n",
    "    print(\"\\n\\nFold number\", fold_number, \"mean_RMSE=\", np.mean(rmse))\n",
    "    \n",
    "    fold_number+=1"
   ]
  },
  {
   "cell_type": "markdown",
   "metadata": {},
   "source": [
    "\n",
    "<a id=\"three-way-data-split\"></a>\n",
    "## Three-Way Data Split\n",
    "---\n",
    "The most common workflow is actually a combination of train/test split and cross-validation. We take a train/test split on our data right away and try not spend a lot of time using the testing data set. Instead, we take our training data and tune our models using cross-validation. When we think we are done, we do one last test on the testing data to make sure we haven't accidently overfit to our training data.\n",
    "\n",
    "**If you tune hyperparameters via cross-validation, you should never use cross-validation on the same dataset to estimate out of sample accuracy!** \n",
    "\n",
    "Using cross-validation in this way, the entire dataset was used to tune hyperparameters. So, this invalidates our condition above -- where we assumed the test set is a pretend \"out-of-sample\" dataset that was not used to train our model! So, we would expect the accuracy on this test set to be artificially inflated as compared to actual \"out-of-sample\" data.\n",
    "\n",
    "Even with good evaluation procedures, it is incredible easy to overfit our models by including features that will not be available during production or leak information about our testing data in other ways."
   ]
  },
  {
   "cell_type": "markdown",
   "metadata": {},
   "source": [
    "![](./assets/Train-Test-Split-CV.png)"
   ]
  },
  {
   "cell_type": "markdown",
   "metadata": {
    "collapsed": true
   },
   "source": [
    "- If model selection and true error estimates are to be computed simultaneously, three disjointed data sets are best.\n",
    "    - **Training set**: A set of examples used for learning – what parameters of the classifier?\n",
    "    - **Validation set**: A set of examples used to tune the parameters of the classifier.\n",
    "    - **Testing set**: A set of examples used ONLY to assess the performance of the fully trained classifier.\n",
    "- Validation and testing must be separate data sets. Once you have the final model set, you cannot do any additional tuning after testing."
   ]
  },
  {
   "cell_type": "markdown",
   "metadata": {
    "collapsed": true
   },
   "source": [
    "1. Divide data into training, validation, and testing sets.\n",
    "2. Select architecture (model type) and training parameters (k).\n",
    "3. Train the model using the training set.\n",
    "4. Evaluate the model using the training set.\n",
    "5. Repeat 2–4 times, selecting different architectures (models) and tuning parameters.\n",
    "6. Select the best model.\n",
    "7. Assess the model with the final testing set."
   ]
  },
  {
   "cell_type": "markdown",
   "metadata": {
    "collapsed": true
   },
   "source": [
    "<a id=\"additional-resources\"></a>\n",
    "<a id=\"additional-resources\"></a>\n",
    "### Additional Resources\n",
    "- [Bias Variance](http://scott.fortmann-roe.com/docs/BiasVariance.html)\n",
    "- University of Washington [slides](https://courses.cs.washington.edu/courses/cse546/12wi/slides/)"
   ]
  },
  {
   "cell_type": "markdown",
   "metadata": {
    "collapsed": true
   },
   "source": [
    "<a id=\"summary\"></a>\n",
    "### Summary\n",
    "\n",
    "In this lab, we compared four methods of estimating model accuracy on out-of-sample data. Throughout your regular data science work, you will likely use all four at some point:\n",
    "\n",
    "1. **Train on the entire dataset**\n",
    "2. **Train-test-split**\n",
    "3. **Cross-validation**\n",
    "4. **Three-way split**"
   ]
  },
  {
   "cell_type": "code",
   "execution_count": null,
   "metadata": {},
   "outputs": [],
   "source": []
  }
 ],
 "metadata": {
  "anaconda-cloud": {},
  "kernelspec": {
   "display_name": "Python 3",
   "language": "python",
   "name": "python3"
  },
  "language_info": {
   "codemirror_mode": {
    "name": "ipython",
    "version": 3
   },
   "file_extension": ".py",
   "mimetype": "text/x-python",
   "name": "python",
   "nbconvert_exporter": "python",
   "pygments_lexer": "ipython3",
   "version": "3.6.7"
  }
 },
 "nbformat": 4,
 "nbformat_minor": 2
}
