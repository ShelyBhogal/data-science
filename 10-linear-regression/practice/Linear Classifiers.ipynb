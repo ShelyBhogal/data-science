{
 "cells": [
  {
   "cell_type": "code",
   "execution_count": 1,
   "metadata": {},
   "outputs": [],
   "source": [
    "# Pandas, NumPy, Patsy\n",
    "import pandas as pd\n",
    "import numpy as np\n",
    "import patsy\n",
    "\n",
    "# Machine-learning\n",
    "from sklearn.linear_model import Ridge, Lasso, ElasticNet, LinearRegression, RidgeCV, LassoCV, ElasticNetCV, Perceptron\n",
    "from sklearn.model_selection import cross_val_score\n",
    "from sklearn.svm import SVC\n",
    "from sklearn.naive_bayes import GaussianNB\n",
    "from sklearn.metrics import accuracy_score, classification_report, confusion_matrix\n",
    "\n",
    "# Figures and Graphs\n",
    "import matplotlib\n",
    "import matplotlib.pyplot as plt\n",
    "import seaborn as sns\n",
    "plt.style.use('fivethirtyeight')\n",
    "\n",
    "%config InlineBackend.figure_format = 'retina'\n",
    "%matplotlib inline\n",
    "#matplotlib.rcParams['figure.figsize'] = (10.0, 8.0)"
   ]
  },
  {
   "cell_type": "code",
   "execution_count": 2,
   "metadata": {},
   "outputs": [],
   "source": [
    "# Custom-made perceptron functions (MIT coursework)"
   ]
  },
  {
   "cell_type": "code",
   "execution_count": 3,
   "metadata": {},
   "outputs": [],
   "source": [
    "def perceptron_origin(x, y, theta):\n",
    "    #theta_zero = np.array([0, 0])\n",
    "    theta_list = []\n",
    "    \n",
    "    if y*(theta.dot(x)) <= 0:\n",
    "        theta_update = theta + (y * x)\n",
    "        theta_list.append(theta_update)\n",
    "        return theta_list\n",
    "    else:\n",
    "        return theta"
   ]
  },
  {
   "cell_type": "code",
   "execution_count": 4,
   "metadata": {},
   "outputs": [
    {
     "data": {
      "text/plain": [
       "[array([-1,  1,  0])]"
      ]
     },
     "execution_count": 4,
     "metadata": {},
     "output_type": "execute_result"
    }
   ],
   "source": [
    "perceptron_origin(np.array([0,1,0]), 1, np.array([-1,0,0]))"
   ]
  },
  {
   "cell_type": "code",
   "execution_count": 5,
   "metadata": {},
   "outputs": [],
   "source": [
    "def perceptron_not_origin(x, y, theta, offset):\n",
    "    #theta_zero = np.array([0, 0])\n",
    "    theta_list = []\n",
    "    offset_list = []\n",
    "    \n",
    "    if y*(theta.dot(x) + offset) <= 0:\n",
    "        theta_update = theta + (y * x)\n",
    "        theta_list.append(theta_update)\n",
    "        offset_update = offset + y\n",
    "        offset_list.append(offset_update)\n",
    "        return theta_list, offset_list\n",
    "    else:\n",
    "        return theta, offset"
   ]
  },
  {
   "cell_type": "code",
   "execution_count": 2,
   "metadata": {},
   "outputs": [],
   "source": [
    "# AMAZON DATASET WITH CATEGORICAL AND BINARY VARIABLES"
   ]
  },
  {
   "cell_type": "code",
   "execution_count": 3,
   "metadata": {},
   "outputs": [],
   "source": [
    "# Columns 'helpfulY' and 'helpfulN' are number of people who found the review helpful or not helpful\n",
    "# Target variable - 'sentiment' (result is 1 or -1, i.e. like or not like respectively)\n",
    "# Predictors - 'summary', 'text', 'helpfulY', 'helpfulN'"
   ]
  },
  {
   "cell_type": "code",
   "execution_count": 4,
   "metadata": {},
   "outputs": [
    {
     "data": {
      "text/html": [
       "<div>\n",
       "<style scoped>\n",
       "    .dataframe tbody tr th:only-of-type {\n",
       "        vertical-align: middle;\n",
       "    }\n",
       "\n",
       "    .dataframe tbody tr th {\n",
       "        vertical-align: top;\n",
       "    }\n",
       "\n",
       "    .dataframe thead th {\n",
       "        text-align: right;\n",
       "    }\n",
       "</style>\n",
       "<table border=\"1\" class=\"dataframe\">\n",
       "  <thead>\n",
       "    <tr style=\"text-align: right;\">\n",
       "      <th></th>\n",
       "      <th>sentiment</th>\n",
       "      <th>productId</th>\n",
       "      <th>userId</th>\n",
       "      <th>summary</th>\n",
       "      <th>text</th>\n",
       "      <th>helpfulY</th>\n",
       "      <th>helpfulN</th>\n",
       "    </tr>\n",
       "  </thead>\n",
       "  <tbody>\n",
       "    <tr>\n",
       "      <td>0</td>\n",
       "      <td>-1</td>\n",
       "      <td>B000EQYQBO</td>\n",
       "      <td>A2JZVE0Y19VLL0</td>\n",
       "      <td>blue chips</td>\n",
       "      <td>The chips are okay Not near as flavorful as th...</td>\n",
       "      <td>0</td>\n",
       "      <td>0</td>\n",
       "    </tr>\n",
       "    <tr>\n",
       "      <td>1</td>\n",
       "      <td>-1</td>\n",
       "      <td>B000LKVHYC</td>\n",
       "      <td>A3NAKOMAS0I5L9</td>\n",
       "      <td>Bad even for 'healthy'</td>\n",
       "      <td>I had high hopes for this, but it was bad.  Re...</td>\n",
       "      <td>0</td>\n",
       "      <td>0</td>\n",
       "    </tr>\n",
       "    <tr>\n",
       "      <td>2</td>\n",
       "      <td>-1</td>\n",
       "      <td>B003QRQRY2</td>\n",
       "      <td>ARBO3XW14MNGA</td>\n",
       "      <td>Alot of money for one can</td>\n",
       "      <td>I guess it's only one can since there is nothi...</td>\n",
       "      <td>1</td>\n",
       "      <td>1</td>\n",
       "    </tr>\n",
       "    <tr>\n",
       "      <td>3</td>\n",
       "      <td>-1</td>\n",
       "      <td>B008EG58V8</td>\n",
       "      <td>A1IQXGT4MJUYJ8</td>\n",
       "      <td>The Box says \"OATMEAL SQUARES\" which I believe...</td>\n",
       "      <td>\"Oatmeal Squares\" is in about the largest prin...</td>\n",
       "      <td>0</td>\n",
       "      <td>0</td>\n",
       "    </tr>\n",
       "    <tr>\n",
       "      <td>4</td>\n",
       "      <td>1</td>\n",
       "      <td>B004WZZY8M</td>\n",
       "      <td>A2TBL6WAZGXB9P</td>\n",
       "      <td>Delicious!</td>\n",
       "      <td>I really enjoyed this flavor, this has a very ...</td>\n",
       "      <td>1</td>\n",
       "      <td>0</td>\n",
       "    </tr>\n",
       "  </tbody>\n",
       "</table>\n",
       "</div>"
      ],
      "text/plain": [
       "   sentiment   productId          userId  \\\n",
       "0         -1  B000EQYQBO  A2JZVE0Y19VLL0   \n",
       "1         -1  B000LKVHYC  A3NAKOMAS0I5L9   \n",
       "2         -1  B003QRQRY2   ARBO3XW14MNGA   \n",
       "3         -1  B008EG58V8  A1IQXGT4MJUYJ8   \n",
       "4          1  B004WZZY8M  A2TBL6WAZGXB9P   \n",
       "\n",
       "                                             summary  \\\n",
       "0                                         blue chips   \n",
       "1                             Bad even for 'healthy'   \n",
       "2                          Alot of money for one can   \n",
       "3  The Box says \"OATMEAL SQUARES\" which I believe...   \n",
       "4                                         Delicious!   \n",
       "\n",
       "                                                text  helpfulY  helpfulN  \n",
       "0  The chips are okay Not near as flavorful as th...         0         0  \n",
       "1  I had high hopes for this, but it was bad.  Re...         0         0  \n",
       "2  I guess it's only one can since there is nothi...         1         1  \n",
       "3  \"Oatmeal Squares\" is in about the largest prin...         0         0  \n",
       "4  I really enjoyed this flavor, this has a very ...         1         0  "
      ]
     },
     "execution_count": 4,
     "metadata": {},
     "output_type": "execute_result"
    }
   ],
   "source": [
    "amazon = pd.read_csv('../data/reviews_train.tsv', sep='\\t', encoding='unicode_escape')\n",
    "amazon.head()"
   ]
  },
  {
   "cell_type": "code",
   "execution_count": 5,
   "metadata": {},
   "outputs": [
    {
     "data": {
      "text/plain": [
       "(4000, 7)"
      ]
     },
     "execution_count": 5,
     "metadata": {},
     "output_type": "execute_result"
    }
   ],
   "source": [
    "amazon.shape"
   ]
  },
  {
   "cell_type": "code",
   "execution_count": 6,
   "metadata": {},
   "outputs": [
    {
     "data": {
      "text/plain": [
       "-1    2030\n",
       " 1    1970\n",
       "Name: sentiment, dtype: int64"
      ]
     },
     "execution_count": 6,
     "metadata": {},
     "output_type": "execute_result"
    }
   ],
   "source": [
    "# Yes/No answers seem balanced in number\n",
    "amazon['sentiment'].value_counts(dropna=False)"
   ]
  },
  {
   "cell_type": "code",
   "execution_count": 7,
   "metadata": {},
   "outputs": [
    {
     "data": {
      "text/html": [
       "<div>\n",
       "<style scoped>\n",
       "    .dataframe tbody tr th:only-of-type {\n",
       "        vertical-align: middle;\n",
       "    }\n",
       "\n",
       "    .dataframe tbody tr th {\n",
       "        vertical-align: top;\n",
       "    }\n",
       "\n",
       "    .dataframe thead th {\n",
       "        text-align: right;\n",
       "    }\n",
       "</style>\n",
       "<table border=\"1\" class=\"dataframe\">\n",
       "  <thead>\n",
       "    <tr style=\"text-align: right;\">\n",
       "      <th></th>\n",
       "      <th>sentiment</th>\n",
       "      <th>productId</th>\n",
       "      <th>userId</th>\n",
       "      <th>summary</th>\n",
       "      <th>text</th>\n",
       "      <th>helpfulY</th>\n",
       "      <th>helpfulN</th>\n",
       "    </tr>\n",
       "  </thead>\n",
       "  <tbody>\n",
       "    <tr>\n",
       "      <td>429</td>\n",
       "      <td>-1</td>\n",
       "      <td>B0083T5TAQ</td>\n",
       "      <td>A3C5YHTV72WYJY</td>\n",
       "      <td>Not a nice assortment</td>\n",
       "      <td>I have wanted to try flavored coffee but didn'...</td>\n",
       "      <td>144</td>\n",
       "      <td>5</td>\n",
       "    </tr>\n",
       "    <tr>\n",
       "      <td>2097</td>\n",
       "      <td>-1</td>\n",
       "      <td>B008ZRKZSM</td>\n",
       "      <td>A1L331YOJ0OL4Q</td>\n",
       "      <td>Great flavor!</td>\n",
       "      <td>This is a tricky product to review.  On the on...</td>\n",
       "      <td>180</td>\n",
       "      <td>8</td>\n",
       "    </tr>\n",
       "    <tr>\n",
       "      <td>2539</td>\n",
       "      <td>-1</td>\n",
       "      <td>B0062A87HA</td>\n",
       "      <td>AFKU54VTOF81V</td>\n",
       "      <td>Is this manufacturer using Amazon to close out...</td>\n",
       "      <td>Our dog gets pumpkin in every meal -- if yours...</td>\n",
       "      <td>112</td>\n",
       "      <td>10</td>\n",
       "    </tr>\n",
       "    <tr>\n",
       "      <td>3144</td>\n",
       "      <td>1</td>\n",
       "      <td>B0019RLJV2</td>\n",
       "      <td>A1JADFWTTDPITL</td>\n",
       "      <td>The Cheesiest.</td>\n",
       "      <td>As I sit here, with a mouth full of this fine ...</td>\n",
       "      <td>157</td>\n",
       "      <td>25</td>\n",
       "    </tr>\n",
       "  </tbody>\n",
       "</table>\n",
       "</div>"
      ],
      "text/plain": [
       "      sentiment   productId          userId  \\\n",
       "429          -1  B0083T5TAQ  A3C5YHTV72WYJY   \n",
       "2097         -1  B008ZRKZSM  A1L331YOJ0OL4Q   \n",
       "2539         -1  B0062A87HA   AFKU54VTOF81V   \n",
       "3144          1  B0019RLJV2  A1JADFWTTDPITL   \n",
       "\n",
       "                                                summary  \\\n",
       "429                               Not a nice assortment   \n",
       "2097                                      Great flavor!   \n",
       "2539  Is this manufacturer using Amazon to close out...   \n",
       "3144                                     The Cheesiest.   \n",
       "\n",
       "                                                   text  helpfulY  helpfulN  \n",
       "429   I have wanted to try flavored coffee but didn'...       144         5  \n",
       "2097  This is a tricky product to review.  On the on...       180         8  \n",
       "2539  Our dog gets pumpkin in every meal -- if yours...       112        10  \n",
       "3144  As I sit here, with a mouth full of this fine ...       157        25  "
      ]
     },
     "execution_count": 7,
     "metadata": {},
     "output_type": "execute_result"
    }
   ],
   "source": [
    "amazon.loc[amazon['helpfulY'] > 100]"
   ]
  },
  {
   "cell_type": "code",
   "execution_count": 8,
   "metadata": {},
   "outputs": [
    {
     "data": {
      "text/html": [
       "<div>\n",
       "<style scoped>\n",
       "    .dataframe tbody tr th:only-of-type {\n",
       "        vertical-align: middle;\n",
       "    }\n",
       "\n",
       "    .dataframe tbody tr th {\n",
       "        vertical-align: top;\n",
       "    }\n",
       "\n",
       "    .dataframe thead th {\n",
       "        text-align: right;\n",
       "    }\n",
       "</style>\n",
       "<table border=\"1\" class=\"dataframe\">\n",
       "  <thead>\n",
       "    <tr style=\"text-align: right;\">\n",
       "      <th></th>\n",
       "      <th>sentiment</th>\n",
       "      <th>summary</th>\n",
       "      <th>text</th>\n",
       "      <th>helpfulY</th>\n",
       "      <th>helpfulN</th>\n",
       "    </tr>\n",
       "  </thead>\n",
       "  <tbody>\n",
       "    <tr>\n",
       "      <td>3188</td>\n",
       "      <td>1</td>\n",
       "      <td>Emeril's Blast, a Blast!</td>\n",
       "      <td>great hard to find spicy flavoring. my local g...</td>\n",
       "      <td>1</td>\n",
       "      <td>0</td>\n",
       "    </tr>\n",
       "    <tr>\n",
       "      <td>78</td>\n",
       "      <td>1</td>\n",
       "      <td>Love this stuff</td>\n",
       "      <td>This is a great snack when you are on the go a...</td>\n",
       "      <td>0</td>\n",
       "      <td>0</td>\n",
       "    </tr>\n",
       "    <tr>\n",
       "      <td>3820</td>\n",
       "      <td>-1</td>\n",
       "      <td>Expensive now!</td>\n",
       "      <td>When in the hell did this coffee skyrocket it'...</td>\n",
       "      <td>5</td>\n",
       "      <td>1</td>\n",
       "    </tr>\n",
       "    <tr>\n",
       "      <td>3548</td>\n",
       "      <td>1</td>\n",
       "      <td>Excellent</td>\n",
       "      <td>I love this candy so much, It was so hard to f...</td>\n",
       "      <td>0</td>\n",
       "      <td>0</td>\n",
       "    </tr>\n",
       "    <tr>\n",
       "      <td>2740</td>\n",
       "      <td>1</td>\n",
       "      <td>Folgers Gourmet Selection KCup Vanilla Biscotti</td>\n",
       "      <td>I bought these for my dad, he received a Keuri...</td>\n",
       "      <td>0</td>\n",
       "      <td>0</td>\n",
       "    </tr>\n",
       "    <tr>\n",
       "      <td>3377</td>\n",
       "      <td>-1</td>\n",
       "      <td>Eat at Your Own Risk...</td>\n",
       "      <td>Too risky for me, so I never ate this stuff an...</td>\n",
       "      <td>0</td>\n",
       "      <td>0</td>\n",
       "    </tr>\n",
       "    <tr>\n",
       "      <td>1234</td>\n",
       "      <td>-1</td>\n",
       "      <td>Tasty but not much of a snack</td>\n",
       "      <td>These are an absolutely delicious snack, howev...</td>\n",
       "      <td>1</td>\n",
       "      <td>0</td>\n",
       "    </tr>\n",
       "    <tr>\n",
       "      <td>3971</td>\n",
       "      <td>-1</td>\n",
       "      <td>pure sugar</td>\n",
       "      <td>If you want to pay a lot for sugar, then buy t...</td>\n",
       "      <td>0</td>\n",
       "      <td>0</td>\n",
       "    </tr>\n",
       "    <tr>\n",
       "      <td>2724</td>\n",
       "      <td>-1</td>\n",
       "      <td>eh</td>\n",
       "      <td>Frosted Confetti Pop Tarts sounds really good....</td>\n",
       "      <td>0</td>\n",
       "      <td>0</td>\n",
       "    </tr>\n",
       "    <tr>\n",
       "      <td>1015</td>\n",
       "      <td>-1</td>\n",
       "      <td>First order excellent, second order awful!</td>\n",
       "      <td>My first order was wonderful: fresh, tight pel...</td>\n",
       "      <td>2</td>\n",
       "      <td>0</td>\n",
       "    </tr>\n",
       "  </tbody>\n",
       "</table>\n",
       "</div>"
      ],
      "text/plain": [
       "      sentiment                                          summary  \\\n",
       "3188          1                         Emeril's Blast, a Blast!   \n",
       "78            1                                  Love this stuff   \n",
       "3820         -1                                   Expensive now!   \n",
       "3548          1                                        Excellent   \n",
       "2740          1  Folgers Gourmet Selection KCup Vanilla Biscotti   \n",
       "3377         -1                          Eat at Your Own Risk...   \n",
       "1234         -1                    Tasty but not much of a snack   \n",
       "3971         -1                                       pure sugar   \n",
       "2724         -1                                               eh   \n",
       "1015         -1       First order excellent, second order awful!   \n",
       "\n",
       "                                                   text  helpfulY  helpfulN  \n",
       "3188  great hard to find spicy flavoring. my local g...         1         0  \n",
       "78    This is a great snack when you are on the go a...         0         0  \n",
       "3820  When in the hell did this coffee skyrocket it'...         5         1  \n",
       "3548  I love this candy so much, It was so hard to f...         0         0  \n",
       "2740  I bought these for my dad, he received a Keuri...         0         0  \n",
       "3377  Too risky for me, so I never ate this stuff an...         0         0  \n",
       "1234  These are an absolutely delicious snack, howev...         1         0  \n",
       "3971  If you want to pay a lot for sugar, then buy t...         0         0  \n",
       "2724  Frosted Confetti Pop Tarts sounds really good....         0         0  \n",
       "1015  My first order was wonderful: fresh, tight pel...         2         0  "
      ]
     },
     "execution_count": 8,
     "metadata": {},
     "output_type": "execute_result"
    }
   ],
   "source": [
    "amazon_data = amazon.drop(['productId', 'userId'], axis=1)\n",
    "amazon_data.sample(10)"
   ]
  },
  {
   "cell_type": "code",
   "execution_count": 9,
   "metadata": {},
   "outputs": [
    {
     "data": {
      "text/plain": [
       "'As I sit here, with a mouth full of this fine Kraft product, I can\\'t help but remember that fateful December afternoon. The war had ended some time ago, yet you could still hear the resentment resonating through the townsfolk\\'s gnashed teeth. Jake and I were at the bar, as usual, trying to drink away the sun. The barkeep, sliding a filthy rag across the counter, squinted as he tried to read our shirts. He let a grin escape and shook his head.<br /><br />\"You got a problem, old man?\" Jake took off his glasses.<br /><br />The barkeep ran his forearm across his wrinkled face. \"Ain\\'t no problem here. You boys have guts, is all, wearin\\' those Kraft logos around these parts. This is a Stouffer\\'s county.\"<br /><br />Jake stood up, sliding his stool back across the hardwood floor. \"If I wanted to choke down frozen food, I\\'d move my ass to Alaska. I\\'ll take The Cheesiest any day.\" We used to call him Jake the Patriot. Always looking for a fight. I grabbed his arm in a vain attempt to pacify him. Looking around the room, I saw we were vastly outnumbered.<br /><br />\"Choose your next words carefully, son. Don\\'t look like you\\'re makin\\' many friends here.\" The bar patrons began edging closer to us. There was a wild look in their eyes; the kind that only came from malnutrition. I felt a moment of pity for them. Who could deny the inherent benefits of Kraft Macaroni and Cheese?<br /><br />Jake discreetly slipped brass knuckles on underneath the counter. \"You heard me.\" He turned, addressing the whole room. \"Stouffer\\'s is garbage.\" The patrons exploded. Frozen bricks of macaroni were tossed at us. We fought off near twenty men, leaving each one with regret. Jake turned back to the barkeep, spitting blood onto the floor. \"That, old man, is why Kraft will always win.\"<br /><br />As we walked out, stepping over the injured men on the ground, the old man called after us. \"You boys forgot one thing.\" He walked to the back-room door. \"Mastodons love Stouffer\\'s.\" He flung open the door and dove under the bar. A giant mastodon crashed through the frame, charging directly at us. I luckily threw myself out of the way. Jake, the poor kid, was not so fortunate. I watched in horror as the giant animal gored him with its tusks. It dropped Jake, looked around, and walked out as quickly as it came. I ran over to Jake\\'s body, crying out. He looked up at me, his life slowly slipping away.<br /><br />\"Keep up the good fight, buddy. Never forget what Stouffer\\'s has done to me. Tell the world.\" He was gone. Since that day, a rage has been building inside me. This injustice cannot be forgiven.<br /><br />I call upon all of you to eat the delicious Kraft Macaroni and Cheese in memory of Jake. Tell your friends. As you\\'re stirring The Cheesiest cheese into boiled macaroni, just think. One day, we will be able to live without fear of the Stouffer\\'s Mastodon.'"
      ]
     },
     "execution_count": 9,
     "metadata": {},
     "output_type": "execute_result"
    }
   ],
   "source": [
    "amazon_data.loc[3144,'text']"
   ]
  },
  {
   "cell_type": "code",
   "execution_count": 10,
   "metadata": {},
   "outputs": [
    {
     "data": {
      "text/plain": [
       "'The Cheesiest.'"
      ]
     },
     "execution_count": 10,
     "metadata": {},
     "output_type": "execute_result"
    }
   ],
   "source": [
    "amazon_data.loc[3144,'summary']"
   ]
  },
  {
   "cell_type": "code",
   "execution_count": 11,
   "metadata": {},
   "outputs": [
    {
     "data": {
      "text/plain": [
       "1"
      ]
     },
     "execution_count": 11,
     "metadata": {},
     "output_type": "execute_result"
    }
   ],
   "source": [
    "amazon_data.loc[3144,'sentiment']"
   ]
  },
  {
   "cell_type": "code",
   "execution_count": 12,
   "metadata": {},
   "outputs": [],
   "source": [
    "# Create new column for number of words in 'text' column\n",
    "\n",
    "amazon_data['text_count'] = amazon_data['text'].str.count(' ') + 1"
   ]
  },
  {
   "cell_type": "code",
   "execution_count": 13,
   "metadata": {},
   "outputs": [
    {
     "data": {
      "text/html": [
       "<div>\n",
       "<style scoped>\n",
       "    .dataframe tbody tr th:only-of-type {\n",
       "        vertical-align: middle;\n",
       "    }\n",
       "\n",
       "    .dataframe tbody tr th {\n",
       "        vertical-align: top;\n",
       "    }\n",
       "\n",
       "    .dataframe thead th {\n",
       "        text-align: right;\n",
       "    }\n",
       "</style>\n",
       "<table border=\"1\" class=\"dataframe\">\n",
       "  <thead>\n",
       "    <tr style=\"text-align: right;\">\n",
       "      <th></th>\n",
       "      <th>sentiment</th>\n",
       "      <th>summary</th>\n",
       "      <th>text</th>\n",
       "      <th>helpfulY</th>\n",
       "      <th>helpfulN</th>\n",
       "      <th>text_count</th>\n",
       "    </tr>\n",
       "  </thead>\n",
       "  <tbody>\n",
       "    <tr>\n",
       "      <td>0</td>\n",
       "      <td>-1</td>\n",
       "      <td>blue chips</td>\n",
       "      <td>The chips are okay Not near as flavorful as th...</td>\n",
       "      <td>0</td>\n",
       "      <td>0</td>\n",
       "      <td>19</td>\n",
       "    </tr>\n",
       "    <tr>\n",
       "      <td>1</td>\n",
       "      <td>-1</td>\n",
       "      <td>Bad even for 'healthy'</td>\n",
       "      <td>I had high hopes for this, but it was bad.  Re...</td>\n",
       "      <td>0</td>\n",
       "      <td>0</td>\n",
       "      <td>32</td>\n",
       "    </tr>\n",
       "    <tr>\n",
       "      <td>2</td>\n",
       "      <td>-1</td>\n",
       "      <td>Alot of money for one can</td>\n",
       "      <td>I guess it's only one can since there is nothi...</td>\n",
       "      <td>1</td>\n",
       "      <td>1</td>\n",
       "      <td>26</td>\n",
       "    </tr>\n",
       "    <tr>\n",
       "      <td>3</td>\n",
       "      <td>-1</td>\n",
       "      <td>The Box says \"OATMEAL SQUARES\" which I believe...</td>\n",
       "      <td>\"Oatmeal Squares\" is in about the largest prin...</td>\n",
       "      <td>0</td>\n",
       "      <td>0</td>\n",
       "      <td>116</td>\n",
       "    </tr>\n",
       "    <tr>\n",
       "      <td>4</td>\n",
       "      <td>1</td>\n",
       "      <td>Delicious!</td>\n",
       "      <td>I really enjoyed this flavor, this has a very ...</td>\n",
       "      <td>1</td>\n",
       "      <td>0</td>\n",
       "      <td>45</td>\n",
       "    </tr>\n",
       "    <tr>\n",
       "      <td>5</td>\n",
       "      <td>-1</td>\n",
       "      <td>Awful</td>\n",
       "      <td>Awful!  not coffee this is instant coffee and ...</td>\n",
       "      <td>0</td>\n",
       "      <td>0</td>\n",
       "      <td>25</td>\n",
       "    </tr>\n",
       "    <tr>\n",
       "      <td>6</td>\n",
       "      <td>-1</td>\n",
       "      <td>Not The Best Cookies I've Ever Had!</td>\n",
       "      <td>I was sorely disappointed in these cookies.. T...</td>\n",
       "      <td>0</td>\n",
       "      <td>0</td>\n",
       "      <td>35</td>\n",
       "    </tr>\n",
       "    <tr>\n",
       "      <td>7</td>\n",
       "      <td>1</td>\n",
       "      <td>GREAT results with continued use at the prescr...</td>\n",
       "      <td>My 10 year-old black pug has problems with her...</td>\n",
       "      <td>0</td>\n",
       "      <td>0</td>\n",
       "      <td>174</td>\n",
       "    </tr>\n",
       "    <tr>\n",
       "      <td>8</td>\n",
       "      <td>1</td>\n",
       "      <td>Good Find!</td>\n",
       "      <td>I've been looking for dried bell peppers ever ...</td>\n",
       "      <td>5</td>\n",
       "      <td>0</td>\n",
       "      <td>38</td>\n",
       "    </tr>\n",
       "    <tr>\n",
       "      <td>9</td>\n",
       "      <td>1</td>\n",
       "      <td>Pretty tasty and very handy for the health con...</td>\n",
       "      <td>Dont go into this thinking after you mix up yo...</td>\n",
       "      <td>0</td>\n",
       "      <td>0</td>\n",
       "      <td>199</td>\n",
       "    </tr>\n",
       "  </tbody>\n",
       "</table>\n",
       "</div>"
      ],
      "text/plain": [
       "   sentiment                                            summary  \\\n",
       "0         -1                                         blue chips   \n",
       "1         -1                             Bad even for 'healthy'   \n",
       "2         -1                          Alot of money for one can   \n",
       "3         -1  The Box says \"OATMEAL SQUARES\" which I believe...   \n",
       "4          1                                         Delicious!   \n",
       "5         -1                                              Awful   \n",
       "6         -1                Not The Best Cookies I've Ever Had!   \n",
       "7          1  GREAT results with continued use at the prescr...   \n",
       "8          1                                         Good Find!   \n",
       "9          1  Pretty tasty and very handy for the health con...   \n",
       "\n",
       "                                                text  helpfulY  helpfulN  \\\n",
       "0  The chips are okay Not near as flavorful as th...         0         0   \n",
       "1  I had high hopes for this, but it was bad.  Re...         0         0   \n",
       "2  I guess it's only one can since there is nothi...         1         1   \n",
       "3  \"Oatmeal Squares\" is in about the largest prin...         0         0   \n",
       "4  I really enjoyed this flavor, this has a very ...         1         0   \n",
       "5  Awful!  not coffee this is instant coffee and ...         0         0   \n",
       "6  I was sorely disappointed in these cookies.. T...         0         0   \n",
       "7  My 10 year-old black pug has problems with her...         0         0   \n",
       "8  I've been looking for dried bell peppers ever ...         5         0   \n",
       "9  Dont go into this thinking after you mix up yo...         0         0   \n",
       "\n",
       "   text_count  \n",
       "0          19  \n",
       "1          32  \n",
       "2          26  \n",
       "3         116  \n",
       "4          45  \n",
       "5          25  \n",
       "6          35  \n",
       "7         174  \n",
       "8          38  \n",
       "9         199  "
      ]
     },
     "execution_count": 13,
     "metadata": {},
     "output_type": "execute_result"
    }
   ],
   "source": [
    "amazon_data.head(10)"
   ]
  },
  {
   "cell_type": "code",
   "execution_count": 14,
   "metadata": {},
   "outputs": [
    {
     "data": {
      "image/png": "[encoded data removed]",
      "text/plain": [
       "<Figure size 2229x720 with 1 Axes>"
      ]
     },
     "metadata": {
      "image/png": {
       "height": 722,
       "width": 2242
      },
      "needs_background": "light"
     },
     "output_type": "display_data"
    }
   ],
   "source": [
    "# Does total number of words in text indicate sentiment?\n",
    "# The smaller the text count the more likely the person is to like the product...\n",
    "\n",
    "sns.catplot('text_count', hue='sentiment', data=amazon_data, kind='count', height=10, aspect=3).set_xticklabels(rotation=45, horizontalalignment='right');"
   ]
  },
  {
   "cell_type": "code",
   "execution_count": 15,
   "metadata": {},
   "outputs": [
    {
     "data": {
      "text/plain": [
       "<seaborn.axisgrid.FacetGrid at 0x1937eddfcc8>"
      ]
     },
     "execution_count": 15,
     "metadata": {},
     "output_type": "execute_result"
    },
    {
     "data": {
      "image/png": "[encoded data removed]",
      "text/plain": [
       "<Figure size 429x360 with 1 Axes>"
      ]
     },
     "metadata": {
      "image/png": {
       "height": 351,
       "width": 416
      },
      "needs_background": "light"
     },
     "output_type": "display_data"
    }
   ],
   "source": [
    "# 'helpfulY' and 'helpfulN' could be useful predictors...\n",
    "\n",
    "sns.lmplot(x='helpfulN', y='helpfulY', data=amazon_data, hue='sentiment')"
   ]
  },
  {
   "cell_type": "code",
   "execution_count": 16,
   "metadata": {},
   "outputs": [],
   "source": [
    "# Features variable is 'helpfulY', 'helpfulN', 'text_count'\n",
    "# Target variable is 'sentiment'\n",
    "\n",
    "feature_cols = ['helpfulY', 'helpfulN', 'text_count']\n",
    "\n",
    "X = amazon_data[feature_cols]\n",
    "y = amazon_data['sentiment']"
   ]
  },
  {
   "cell_type": "code",
   "execution_count": 17,
   "metadata": {},
   "outputs": [],
   "source": [
    "from sklearn.model_selection import train_test_split\n",
    "\n",
    "X_train, X_test, y_train, y_test = train_test_split(X, y)"
   ]
  },
  {
   "cell_type": "markdown",
   "metadata": {},
   "source": [
    "## Perceptron\n",
    "\n",
    "Use already imported model Perceptron() from SciKit-Learn Library at top of the page"
   ]
  },
  {
   "cell_type": "code",
   "execution_count": 18,
   "metadata": {},
   "outputs": [],
   "source": [
    "# Create Polynomial Features for testing (did not improve accuracy results)\n",
    "\n",
    "#from sklearn.preprocessing import PolynomialFeatures\n",
    "\n",
    "#poly = PolynomialFeatures(5)\n",
    "#poly_matrix = poly.fit_transform(X[['helpfulY', 'helpfulN', 'text_count']])\n",
    "#poly_X = pd.DataFrame(poly_matrix)\n",
    "\n",
    "#X_train_poly, X_test_poly, y_train_poly, y_test_poly = train_test_split(poly_X, y)"
   ]
  },
  {
   "cell_type": "code",
   "execution_count": 18,
   "metadata": {},
   "outputs": [
    {
     "data": {
      "text/plain": [
       "Perceptron(alpha=0.0001, class_weight=None, early_stopping=False, eta0=0.01,\n",
       "           fit_intercept=True, max_iter=10, n_iter_no_change=5, n_jobs=None,\n",
       "           penalty=None, random_state=0, shuffle=True, tol=0.001,\n",
       "           validation_fraction=0.1, verbose=0, warm_start=False)"
      ]
     },
     "execution_count": 18,
     "metadata": {},
     "output_type": "execute_result"
    }
   ],
   "source": [
    "pctron = Perceptron(max_iter=10, eta0=0.01)\n",
    "pctron.fit(X_train, y_train)"
   ]
  },
  {
   "cell_type": "code",
   "execution_count": 19,
   "metadata": {},
   "outputs": [
    {
     "name": "stdout",
     "output_type": "stream",
     "text": [
      "Mean Accuracy for Training Set:  0.5056650074027983\n"
     ]
    }
   ],
   "source": [
    "# Mean Accuracy for model based on training set\n",
    "# Options for scoring type available from https://scikit-learn.org/stable/modules/model_evaluation.html#scoring-parameter\n",
    "pctron_scores = cross_val_score(pctron, X_train, y_train, scoring='accuracy', cv=5, n_jobs=-1)\n",
    "print(\"Mean Accuracy for Training Set: \", np.mean(pctron_scores))"
   ]
  },
  {
   "cell_type": "code",
   "execution_count": 20,
   "metadata": {},
   "outputs": [
    {
     "name": "stdout",
     "output_type": "stream",
     "text": [
      "Mean Accuracy for Testing Set:  0.5170102252556315\n"
     ]
    }
   ],
   "source": [
    "# Mean Accuracy for model based on testing set\n",
    "pctron_scores_new = cross_val_score(pctron, X_test, y_test, scoring='accuracy', cv=5, n_jobs=-1)\n",
    "print(\"Mean Accuracy for Testing Set: \", np.mean(pctron_scores_new))"
   ]
  },
  {
   "cell_type": "code",
   "execution_count": 21,
   "metadata": {},
   "outputs": [],
   "source": [
    "# Create predicted scores and compare to real scores\n",
    "y_pred_pctron = pctron.predict(X_test)"
   ]
  },
  {
   "cell_type": "code",
   "execution_count": 22,
   "metadata": {},
   "outputs": [
    {
     "name": "stdout",
     "output_type": "stream",
     "text": [
      "Perceptron Accuracy:  0.518\n"
     ]
    }
   ],
   "source": [
    "# Just over 50% accuracy...and results only slightly improved after tuning hyperparameters\n",
    "# Suggests data may not be linearly separable\n",
    "print(\"Perceptron Accuracy: \", accuracy_score(y_test, y_pred_pctron))"
   ]
  },
  {
   "cell_type": "code",
   "execution_count": 57,
   "metadata": {},
   "outputs": [
    {
     "name": "stdout",
     "output_type": "stream",
     "text": [
      "Mean Accuracy: 0.554\n",
      "Config: {'eta0': 0.01}\n"
     ]
    }
   ],
   "source": [
    "# GRIDSEARCH for optimal learning rate value (perform on pctron model with no parameters set)\n",
    "from sklearn.model_selection import GridSearchCV\n",
    "from sklearn.model_selection import RepeatedStratifiedKFold\n",
    "\n",
    "# define model evaluation method\n",
    "cv = RepeatedStratifiedKFold(n_splits=10, n_repeats=3, random_state=1)\n",
    "\n",
    "# define dictionary of values\n",
    "lr_grid = dict()\n",
    "lr_grid['eta0'] = [0.0001, 0.001, 0.01, 0.1, 1.0]\n",
    "\n",
    "# define search\n",
    "lr_search = GridSearchCV(pctron, lr_grid, scoring='accuracy', cv=cv, n_jobs=-1)\n",
    "\n",
    "# perform search\n",
    "lr_results = lr_search.fit(X_train, y_train)\n",
    "\n",
    "# summarize\n",
    "print('Mean Accuracy: %.3f' % lr_results.best_score_)\n",
    "print('Config: %s' % lr_results.best_params_)"
   ]
  },
  {
   "cell_type": "code",
   "execution_count": 63,
   "metadata": {},
   "outputs": [
    {
     "name": "stdout",
     "output_type": "stream",
     "text": [
      "Mean Accuracy: 0.558\n",
      "Config: {'max_iter': 10}\n"
     ]
    }
   ],
   "source": [
    "# GRIDSEARCH for optimal max_iter\n",
    "\n",
    "# define dictionary of max_iter values\n",
    "iter_grid = dict()\n",
    "iter_grid['max_iter'] = [1, 10, 100, 1000, 10000]\n",
    "\n",
    "# define search\n",
    "iter_search = GridSearchCV(pctron, iter_grid, scoring='accuracy', cv=cv, n_jobs=-1)\n",
    "\n",
    "# perform the search\n",
    "iter_results = iter_search.fit(X_train, y_train)\n",
    "\n",
    "# summarize results\n",
    "print('Mean Accuracy: %.3f' % iter_results.best_score_)\n",
    "print('Config: %s' % iter_results.best_params_)"
   ]
  },
  {
   "cell_type": "markdown",
   "metadata": {},
   "source": [
    "## Naive Bayes Classifier\n",
    "\n",
    "Naive Bayes can be used for non-linear data, which we may be dealing with. \n",
    "Use already imported model GaussianNB() at top of the page - from SciKit-Learn Library"
   ]
  },
  {
   "cell_type": "code",
   "execution_count": 23,
   "metadata": {},
   "outputs": [
    {
     "data": {
      "text/plain": [
       "GaussianNB(priors=None, var_smoothing=1e-09)"
      ]
     },
     "execution_count": 23,
     "metadata": {},
     "output_type": "execute_result"
    }
   ],
   "source": [
    "nb = GaussianNB()\n",
    "nb.fit(X_train, y_train)"
   ]
  },
  {
   "cell_type": "code",
   "execution_count": 24,
   "metadata": {},
   "outputs": [
    {
     "name": "stdout",
     "output_type": "stream",
     "text": [
      "Naive Bayes Accuracy:  0.576\n"
     ]
    }
   ],
   "source": [
    "# Accuracy on testing set is over 55%, slightly above Perceptron\n",
    "\n",
    "print(\"Naive Bayes Accuracy: \", nb.score(X_test, y_test))"
   ]
  },
  {
   "cell_type": "code",
   "execution_count": 25,
   "metadata": {},
   "outputs": [
    {
     "name": "stdout",
     "output_type": "stream",
     "text": [
      "Naïve Bayes Classification Report: \n",
      "               precision    recall  f1-score   support\n",
      "\n",
      "          -1       0.86      0.21      0.34       516\n",
      "           1       0.53      0.96      0.69       484\n",
      "\n",
      "    accuracy                           0.58      1000\n",
      "   macro avg       0.70      0.59      0.51      1000\n",
      "weighted avg       0.70      0.58      0.51      1000\n",
      "\n"
     ]
    }
   ],
   "source": [
    "y_pred = nb.predict(X_test)\n",
    "\n",
    "print(\"Naïve Bayes Classification Report: \\n\", classification_report(y_test, y_pred))\n",
    "\n",
    "# Recall means when the result is actually -1, how often is it predicted correctly? 21% true positive rate which is low\n",
    "# F1-score is the average between precision and recall \n",
    "# (precision high + recall low equals low f1-score)\n",
    "# (precision low + recall high equals high f1-score)\n",
    "# Support is the number of actual occurrences of that class in the testing set - this set is balanced\n",
    "# (imbalanced datasets indicates weakness maybe need stratified sampling but this is OK)"
   ]
  },
  {
   "cell_type": "code",
   "execution_count": 28,
   "metadata": {},
   "outputs": [
    {
     "data": {
      "text/plain": [
       "array([[110, 406],\n",
       "       [ 18, 466]], dtype=int64)"
      ]
     },
     "execution_count": 28,
     "metadata": {},
     "output_type": "execute_result"
    }
   ],
   "source": [
    "# Generate confusion matrix to compare actual results with predictions\n",
    "\n",
    "cm = confusion_matrix(y_test, y_pred)\n",
    "cm"
   ]
  },
  {
   "cell_type": "code",
   "execution_count": 30,
   "metadata": {},
   "outputs": [
    {
     "data": {
      "image/png": "[encoded data removed]",
      "text/plain": [
       "<Figure size 432x288 with 2 Axes>"
      ]
     },
     "metadata": {
      "image/png": {
       "height": 279,
       "width": 396
      },
      "needs_background": "light"
     },
     "output_type": "display_data"
    }
   ],
   "source": [
    "# Display confusion matrix\n",
    "\n",
    "x_axis = [\"False\", \"True\"]\n",
    "y_axis = [\"False\", \"True\"]\n",
    "\n",
    "sns.heatmap(cm, annot=True, linecolor=\"black\", cmap=\"Blues\", xticklabels=x_axis, yticklabels=y_axis)\n",
    "plt.xlabel(\"\\n PREDICTED LABEL\")\n",
    "plt.ylabel(\"ACTUAL LABEL\")\n",
    "plt.show();"
   ]
  },
  {
   "cell_type": "code",
   "execution_count": 45,
   "metadata": {},
   "outputs": [],
   "source": [
    "# Helper function to plot a decision boundary - NOT WORKING!\n",
    "\n",
    "def plot_decision_boundary(X, y):\n",
    "    # Fit the Naive Bayes model\n",
    "    nb = GaussianNB()\n",
    "    nb.fit(X, y)\n",
    "    \n",
    "    # Set min and max values and give it some padding\n",
    "    x_min, x_max = X.iloc[:, 0].min() - 1, X.iloc[:, 0].max() + 1\n",
    "    y_min, y_max = X.iloc[:, 1].min() - 1, X.iloc[:, 1].max() + 1\n",
    "    h = 0.01\n",
    "    \n",
    "    # Generate a grid of points with distance h between them\n",
    "    xx, yy = np.meshgrid(np.arange(x_min, x_max, h), np.arange(y_min, y_max, h))\n",
    "    \n",
    "    # Predict the Bayes value for flattened grid\n",
    "    Z = nb.predict(np.c_[xx.ravel(), yy.ravel()])\n",
    "    \n",
    "    # Plot the contour using entire dataset\n",
    "    Z = Z.reshape(xx.shape)\n",
    "    plt.contourf(xx, yy, Z, cmap=plt.cm.Spectral)\n",
    "    plt.scatter(X[:, 0], X[:, 1], c=y, cmap=plt.cm.Spectral)"
   ]
  },
  {
   "cell_type": "code",
   "execution_count": 54,
   "metadata": {},
   "outputs": [],
   "source": [
    "# Plot the decision boundary\n",
    "            \n",
    "#plot_decision_boundary(X_train, y_train)\n",
    "#plt.title(\"Naive Bayes Decision Boundary\");"
   ]
  },
  {
   "cell_type": "code",
   "execution_count": null,
   "metadata": {},
   "outputs": [],
   "source": [
    "# Somewhere in code it does not like * ... prefers np.dot()..."
   ]
  },
  {
   "cell_type": "markdown",
   "metadata": {},
   "source": [
    "## Support Vector Machine\n",
    "\n",
    "SVMs can be used with data that is not separable linearly. Make sure to use kernels 'poly' and 'rbf' only when using the imported model from SciKit Library (see top of page)"
   ]
  },
  {
   "cell_type": "code",
   "execution_count": null,
   "metadata": {},
   "outputs": [],
   "source": [
    "# If 'auto', uses 1 / no. of features\n",
    "# 'degree' and 'coef0' used only with polynomial kernel\n",
    "\n",
    "svm = SVC(C=1.0, kernel='poly', degree=3, gamma='auto', coef0=1, random_state=42)\n",
    "svm.fit(X_train, y_train)"
   ]
  },
  {
   "cell_type": "code",
   "execution_count": 38,
   "metadata": {},
   "outputs": [
    {
     "name": "stdout",
     "output_type": "stream",
     "text": [
      "Testing Set Accuracy:  0.628\n"
     ]
    }
   ],
   "source": [
    "# Over 60% means 'rbf' model works slightly better than Perceptron and Naive Bayes which means data most likely non-linear\n",
    "\n",
    "print(\"Testing Set Accuracy: \", svm.score(X_test, y_test))"
   ]
  },
  {
   "cell_type": "code",
   "execution_count": 39,
   "metadata": {},
   "outputs": [
    {
     "name": "stdout",
     "output_type": "stream",
     "text": [
      "SVM Accuracy:  0.628\n"
     ]
    }
   ],
   "source": [
    "y_pred_svm = svm.predict(X_test)\n",
    "print(\"SVM Accuracy: \", accuracy_score(y_test, y_pred_svm))"
   ]
  },
  {
   "cell_type": "code",
   "execution_count": 40,
   "metadata": {},
   "outputs": [
    {
     "name": "stdout",
     "output_type": "stream",
     "text": [
      "Cross Validation score:  0.6329961499037475\n"
     ]
    }
   ],
   "source": [
    "# Not much difference between model validation and cross-validation therefore overfitting unlikely\n",
    "\n",
    "svm_scores = cross_val_score(svm, X_test, y_test, cv=5)\n",
    "print(\"Cross Validation score: \", svm_scores.mean())"
   ]
  },
  {
   "cell_type": "code",
   "execution_count": 42,
   "metadata": {},
   "outputs": [],
   "source": [
    "# Tuning regularization parameter 'C' of svm model \n",
    "# (using GridSearchCV takes too long:\n",
    "#   with kernel 'rbf', best C value is 1.0 \n",
    "#   with kernel 'poly' best C value is )\n",
    "\n",
    "from sklearn.model_selection import RandomizedSearchCV\n",
    "\n",
    "# Generate dictionary of values to test\n",
    "reg_grid = {\"C\": [0.001, 0.01, 0.1, 1, 10, 100, 1000]}\n",
    "\n",
    "svm_reg = RandomizedSearchCV(svm, reg_grid, n_iter=7, cv=5, random_state=2020)\n",
    "svm_reg.fit(X_train, y_train)\n",
    "\n",
    "print(\"Best C value \", svm_reg.best_params_)"
   ]
  },
  {
   "cell_type": "code",
   "execution_count": null,
   "metadata": {},
   "outputs": [],
   "source": [
    "# Tuning parameter 'degree' with polynomial model\n",
    "\n",
    "from sklearn.model_selection import RandomizedSearchCV\n",
    "\n",
    "# Generate dictionary of values to test\n",
    "degree_grid = {\"degree\": [3, 4, 5, 6, 10, 15, 20]}\n",
    "\n",
    "svm_random = RandomizedSearchCV(svm, degree_grid, n_iter=7, cv=5, random_state=2020)\n",
    "svm_random.fit(X_train, y_train)\n",
    "\n",
    "print(\"Best degree value with polynomial kernel \", svm_random.best_params_)"
   ]
  },
  {
   "cell_type": "code",
   "execution_count": null,
   "metadata": {},
   "outputs": [],
   "source": [
    "# How to use coef0 parameter"
   ]
  }
 ],
 "metadata": {
  "kernelspec": {
   "display_name": "Python 3",
   "language": "python",
   "name": "python3"
  },
  "language_info": {
   "codemirror_mode": {
    "name": "ipython",
    "version": 3
   },
   "file_extension": ".py",
   "mimetype": "text/x-python",
   "name": "python",
   "nbconvert_exporter": "python",
   "pygments_lexer": "ipython3",
   "version": "3.7.4"
  }
 },
 "nbformat": 4,
 "nbformat_minor": 2
}
