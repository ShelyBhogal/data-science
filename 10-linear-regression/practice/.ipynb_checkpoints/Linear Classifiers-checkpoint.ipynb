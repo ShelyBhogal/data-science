{
 "cells": [
  {
   "cell_type": "code",
   "execution_count": 2,
   "metadata": {},
   "outputs": [],
   "source": [
    "import pandas as pd\n",
    "import numpy as np\n",
    "import matplotlib.pyplot as plt\n",
    "from matplotlib.animation import FuncAnimation\n",
    "import itertools\n",
    "import time"
   ]
  },
  {
   "cell_type": "code",
   "execution_count": 24,
   "metadata": {},
   "outputs": [],
   "source": [
    "#examples1 = np.array([[9, 0], [8, 0]], dtype='float')\n",
    "#examples2 = np.array([[5, 0], [6, 0]], dtype='float') # closer to the origin\n",
    "#examples_classes1_2 = np.array([1, -1])\n",
    "\n",
    "#examples3 = np.array([[20, 26], [16, -11], [21, 2], [18, 25], [26, -19], [11, 6], [20, -10], [17, 17]], dtype='float')\n",
    "#examples4 = examples3 - 11 * np.ones(examples3.shape) # closer to the origin\n",
    "#examples5 = np.array([[20, 26], [16, 27], [21, 24], [15, 25], [22, 23], [14, 27], [20, 20], [13, 24]], dtype='float')\n",
    "#examples_classes3_4_5 = np.array([1, -1, 1, -1, 1, -1, 1, -1])\n",
    "\n",
    "#w0_0 = np.zeros(3)\n",
    "#w0_1 = np.array([1., 0, -2])\n",
    "#learning_rate_1 = 0.00156\n",
    "#w0_2 = np.array([1., 0, -2]) / 0.00156\n",
    "#learning_rate_2 = 1\n",
    "\n",
    "#EXAMPLES = examples1\n",
    "#EXAMPLES_CLASSES = examples_classes1_2\n",
    "#LEARNING_RATE = learning_rate_2\n",
    "#W0 = w0_2\n",
    "#interval = 3e2\n",
    "#interval = 1\n",
    "#interval = 3e1\n",
    "\n",
    "#n = len(EXAMPLES)"
   ]
  },
  {
   "cell_type": "code",
   "execution_count": 25,
   "metadata": {},
   "outputs": [],
   "source": [
    "#assert(EXAMPLES.shape[1] == 2)\n",
    "#assert(n == len(EXAMPLES_CLASSES))\n",
    "#assert(LEARNING_RATE > 0)\n",
    "#assert(len(W0) == 3)"
   ]
  },
  {
   "cell_type": "code",
   "execution_count": 26,
   "metadata": {},
   "outputs": [],
   "source": []
  },
  {
   "cell_type": "code",
   "execution_count": 20,
   "metadata": {},
   "outputs": [
    {
     "data": {
      "image/png": "[encoded data removed]",
      "text/plain": [
       "<Figure size 432x288 with 1 Axes>"
      ]
     },
     "metadata": {
      "needs_background": "light"
     },
     "output_type": "display_data"
    }
   ],
   "source": [
    "fig, ax = plt.subplots()\n",
    "XS = EXAMPLES[:, 0]\n",
    "YS = EXAMPLES[:, 1]\n",
    "max_abs_x = max(max(XS), abs(min(XS)), 1)\n",
    "max_abs_y = max(max(YS), abs(min(YS)), 1)\n",
    "bottom_limit = -2 * max_abs_y\n",
    "top_limit = 2 * max_abs_y\n",
    "left_limit = -2 * max_abs_x\n",
    "right_limit = 2 * max_abs_x\n",
    "plt.xlim(left_limit, right_limit)\n",
    "plt.ylim(bottom_limit, top_limit)\n",
    "x_range_size = right_limit - left_limit\n",
    "y_range_size = top_limit - bottom_limit\n",
    "\n",
    "# plot the examples\n",
    "for x, y in zip(EXAMPLES, EXAMPLES_CLASSES):\n",
    "    if y == 1:\n",
    "        plt.plot(x[0], x[1], marker='o', markersize=4, color=\"green\")\n",
    "    else:\n",
    "        plt.plot(x[0], x[1], marker='o', markersize=4, color=\"red\")\n",
    "        \n",
    "# add a dummy column of ones for the bias.\n",
    "EXAMPLES = np.hstack((EXAMPLES, np.ones((N, 1))))\n",
    "\n",
    "hyperplane, = plt.plot([], [], color='blue')\n",
    "hyperplane.set_visible(False)\n",
    "k_text = plt.text(ax.get_xlim()[0] + x_range_size / 70,\n",
    "                  ax.get_ylim()[1] - y_range_size / 25, 'mistakes: 0')\n",
    "next_example_idx = 0\n",
    "k = 0\n",
    "w = W0"
   ]
  },
  {
   "cell_type": "code",
   "execution_count": 21,
   "metadata": {},
   "outputs": [],
   "source": [
    "def get_hyperplane(w):\n",
    "    w_x, w_y, bias = w\n",
    "    if w_x == w_y == 0:\n",
    "        print(f'No hyperplane is defined by w')\n",
    "        return None\n",
    "    if w_y == 0:\n",
    "        x1 = x2 = -bias / w_x\n",
    "        y1 = bottom_limit\n",
    "        y2 = top_limit\n",
    "        if not left_limit <= x1 <= right_limit:\n",
    "            print(f'The hyperplane is out of range of our graph')\n",
    "            return None\n",
    "        else:\n",
    "            print(f'The hyperplane defined by w is `x = {x1}`')\n",
    "    else:\n",
    "        # find the hyperplane representation as y = m * x + b.\n",
    "        # m = -1 / (w_y / w_x)\n",
    "        m = -w_x / w_y\n",
    "        # b = -bias / np.linalg.norm(np.array([w_x, w_y]))\n",
    "        b = -bias / w_y\n",
    "        print(f'The hyperplane defined by w is `y = {m} * x + {b}`')\n",
    "        \n",
    "        if m == 0:\n",
    "            y1 = y2 = m * left_limit + b\n",
    "            x1 = left_limit\n",
    "            x2 = bottom_limit\n",
    "        else:\n",
    "            potential_points_on_limits = {\n",
    "                (left_limit, m * left_limit + b),\n",
    "                (right_limit, m * right_limit + b),\n",
    "                ((bottom_limit - b) / m, bottom_limit),\n",
    "                ((top_limit - b) / m, top_limit)}\n",
    "            for x, y in set(potential_points_on_limits):\n",
    "                if not left_limit <= x <= right_limit:\n",
    "                    potential_points_on_limits.remove((x, y))\n",
    "                elif not bottom_limit <= y <= top_limit:\n",
    "                    potential_points_on_limits.remove((x, y))\n",
    "            if len(potential_points_on_limits) < 2:\n",
    "                print(f'The hyperplane is out of range of our graph')\n",
    "                return None\n",
    "            x1, y1 = potential_points_on_limits.pop()\n",
    "            x2, y2 = potential_points_on_limits.pop()\n",
    "\n",
    "    return (x1, x2), (y1, y2)"
   ]
  },
  {
   "cell_type": "code",
   "execution_count": 22,
   "metadata": {},
   "outputs": [],
   "source": [
    "def update(frame):\n",
    "    global k, w, next_example_idx\n",
    "\n",
    "    for j in itertools.chain(range(next_example_idx, N),\n",
    "                             range(next_example_idx)):\n",
    "        x = EXAMPLES[j]\n",
    "        y = EXAMPLES_CLASSES[j]\n",
    "        perdicted_y = 1 if np.dot(w, x) > 0 else -1\n",
    "        if perdicted_y != y:\n",
    "            print(f'\\nMisclassification of example {x}')\n",
    "            w += LEARNING_RATE * y * x\n",
    "            k += 1\n",
    "            k_text.set_text(f'mistakes: {k}')\n",
    "            print(f'This is mistake number {k}')\n",
    "            print(f'Update w to {w}')\n",
    "\n",
    "            hyperplane_xs_and_ys = get_hyperplane(w)\n",
    "            if hyperplane_xs_and_ys:\n",
    "                hyperplane.set_data(hyperplane_xs_and_ys)\n",
    "                hyperplane.set_visible(True)\n",
    "            else:\n",
    "                hyperplane.set_visible(False)\n",
    "\n",
    "            next_example_idx = j + 1\n",
    "            return hyperplane, k_text\n",
    "\n",
    "    # The perceptron successfully predicted all of the examples.\n",
    "    time.sleep(3)\n",
    "    exit()"
   ]
  },
  {
   "cell_type": "code",
   "execution_count": 23,
   "metadata": {},
   "outputs": [
    {
     "name": "stderr",
     "output_type": "stream",
     "text": [
      "Traceback (most recent call last):\n",
      "  File \"C:\\Users\\shmel\\Anaconda3\\lib\\site-packages\\matplotlib\\cbook\\__init__.py\", line 216, in process\n",
      "    func(*args, **kwargs)\n",
      "  File \"C:\\Users\\shmel\\Anaconda3\\lib\\site-packages\\matplotlib\\animation.py\", line 953, in _start\n",
      "    self._init_draw()\n",
      "  File \"C:\\Users\\shmel\\Anaconda3\\lib\\site-packages\\matplotlib\\animation.py\", line 1732, in _init_draw\n",
      "    self._draw_frame(next(self.new_frame_seq()))\n",
      "  File \"C:\\Users\\shmel\\Anaconda3\\lib\\site-packages\\matplotlib\\animation.py\", line 1755, in _draw_frame\n",
      "    self._drawn_artists = self._func(framedata, *self._args)\n",
      "  File \"<ipython-input-22-df2972e5dd93>\", line 8, in update\n",
      "    perdicted_y = 1 if np.dot(w, x) > 0 else -1\n",
      "ValueError: shapes (3,) and (4,) not aligned: 3 (dim 0) != 4 (dim 0)\n"
     ]
    }
   ],
   "source": [
    "ani = FuncAnimation(fig, update, blit=True, repeat=False, interval=interval)\n",
    "plt.show();"
   ]
  },
  {
   "cell_type": "code",
   "execution_count": 32,
   "metadata": {},
   "outputs": [],
   "source": [
    "def perceptron_origin(x, y, theta):\n",
    "    #theta_zero = np.array([0, 0])\n",
    "    theta_list = []\n",
    "    \n",
    "    if y*(theta.dot(x)) <= 0:\n",
    "        theta_update = theta + (y * x)\n",
    "        theta_list.append(theta_update)\n",
    "        return theta_list\n",
    "    else:\n",
    "        return theta"
   ]
  },
  {
   "cell_type": "code",
   "execution_count": 40,
   "metadata": {},
   "outputs": [
    {
     "data": {
      "text/plain": [
       "[array([-1,  1,  0])]"
      ]
     },
     "execution_count": 40,
     "metadata": {},
     "output_type": "execute_result"
    }
   ],
   "source": [
    "perceptron_origin(np.array([0,1,0]), 1, np.array([-1,0,0]))"
   ]
  },
  {
   "cell_type": "code",
   "execution_count": 4,
   "metadata": {},
   "outputs": [],
   "source": [
    "def perceptron_not_origin(x, y, theta, offset):\n",
    "    #theta_zero = np.array([0, 0])\n",
    "    theta_list = []\n",
    "    offset_list = []\n",
    "    \n",
    "    if y*(theta.dot(x) + offset) <= 0:\n",
    "        theta_update = theta + (y * x)\n",
    "        theta_list.append(theta_update)\n",
    "        offset_update = offset + y\n",
    "        offset_list.append(offset_update)\n",
    "        return theta_list, offset_list\n",
    "    else:\n",
    "        return theta, offset"
   ]
  },
  {
   "cell_type": "code",
   "execution_count": 41,
   "metadata": {},
   "outputs": [],
   "source": [
    "def hinge_loss_single(feature_vector, label, theta, theta_0):\n",
    "    \"\"\"\n",
    "    Finds the hinge loss on a single data point given specific classification parameters.\n",
    "\n",
    "    Args:\n",
    "        feature_vector - A numpy array describing the given data point.\n",
    "        label - A real valued number, the correct classification of the data\n",
    "            point.\n",
    "        theta - A numpy array describing the linear classifier.\n",
    "        theta_0 - A real valued number representing the offset parameter.\n",
    "\n",
    "\n",
    "    Returns: A real number representing the hinge loss associated with the\n",
    "    given data point and parameters.\n",
    "    \"\"\"\n",
    "    agreement = label*(theta.dot(feature_vector) + theta_0)\n",
    "    if agreement >= 1:\n",
    "        return 0\n",
    "    else:\n",
    "        1 - agreement"
   ]
  },
  {
   "cell_type": "code",
   "execution_count": null,
   "metadata": {},
   "outputs": [],
   "source": []
  },
  {
   "cell_type": "code",
   "execution_count": 8,
   "metadata": {},
   "outputs": [
    {
     "data": {
      "text/html": [
       "<div>\n",
       "<style scoped>\n",
       "    .dataframe tbody tr th:only-of-type {\n",
       "        vertical-align: middle;\n",
       "    }\n",
       "\n",
       "    .dataframe tbody tr th {\n",
       "        vertical-align: top;\n",
       "    }\n",
       "\n",
       "    .dataframe thead th {\n",
       "        text-align: right;\n",
       "    }\n",
       "</style>\n",
       "<table border=\"1\" class=\"dataframe\">\n",
       "  <thead>\n",
       "    <tr style=\"text-align: right;\">\n",
       "      <th></th>\n",
       "      <th>sentiment</th>\n",
       "      <th>productId</th>\n",
       "      <th>userId</th>\n",
       "      <th>summary</th>\n",
       "      <th>text</th>\n",
       "      <th>helpfulY</th>\n",
       "      <th>helpfulN</th>\n",
       "    </tr>\n",
       "  </thead>\n",
       "  <tbody>\n",
       "    <tr>\n",
       "      <td>0</td>\n",
       "      <td>-1</td>\n",
       "      <td>B000EQYQBO</td>\n",
       "      <td>A2JZVE0Y19VLL0</td>\n",
       "      <td>blue chips</td>\n",
       "      <td>The chips are okay Not near as flavorful as th...</td>\n",
       "      <td>0</td>\n",
       "      <td>0</td>\n",
       "    </tr>\n",
       "    <tr>\n",
       "      <td>1</td>\n",
       "      <td>-1</td>\n",
       "      <td>B000LKVHYC</td>\n",
       "      <td>A3NAKOMAS0I5L9</td>\n",
       "      <td>Bad even for 'healthy'</td>\n",
       "      <td>I had high hopes for this, but it was bad.  Re...</td>\n",
       "      <td>0</td>\n",
       "      <td>0</td>\n",
       "    </tr>\n",
       "    <tr>\n",
       "      <td>2</td>\n",
       "      <td>-1</td>\n",
       "      <td>B003QRQRY2</td>\n",
       "      <td>ARBO3XW14MNGA</td>\n",
       "      <td>Alot of money for one can</td>\n",
       "      <td>I guess it's only one can since there is nothi...</td>\n",
       "      <td>1</td>\n",
       "      <td>1</td>\n",
       "    </tr>\n",
       "    <tr>\n",
       "      <td>3</td>\n",
       "      <td>-1</td>\n",
       "      <td>B008EG58V8</td>\n",
       "      <td>A1IQXGT4MJUYJ8</td>\n",
       "      <td>The Box says \"OATMEAL SQUARES\" which I believe...</td>\n",
       "      <td>\"Oatmeal Squares\" is in about the largest prin...</td>\n",
       "      <td>0</td>\n",
       "      <td>0</td>\n",
       "    </tr>\n",
       "    <tr>\n",
       "      <td>4</td>\n",
       "      <td>1</td>\n",
       "      <td>B004WZZY8M</td>\n",
       "      <td>A2TBL6WAZGXB9P</td>\n",
       "      <td>Delicious!</td>\n",
       "      <td>I really enjoyed this flavor, this has a very ...</td>\n",
       "      <td>1</td>\n",
       "      <td>0</td>\n",
       "    </tr>\n",
       "  </tbody>\n",
       "</table>\n",
       "</div>"
      ],
      "text/plain": [
       "   sentiment   productId          userId  \\\n",
       "0         -1  B000EQYQBO  A2JZVE0Y19VLL0   \n",
       "1         -1  B000LKVHYC  A3NAKOMAS0I5L9   \n",
       "2         -1  B003QRQRY2   ARBO3XW14MNGA   \n",
       "3         -1  B008EG58V8  A1IQXGT4MJUYJ8   \n",
       "4          1  B004WZZY8M  A2TBL6WAZGXB9P   \n",
       "\n",
       "                                             summary  \\\n",
       "0                                         blue chips   \n",
       "1                             Bad even for 'healthy'   \n",
       "2                          Alot of money for one can   \n",
       "3  The Box says \"OATMEAL SQUARES\" which I believe...   \n",
       "4                                         Delicious!   \n",
       "\n",
       "                                                text  helpfulY  helpfulN  \n",
       "0  The chips are okay Not near as flavorful as th...         0         0  \n",
       "1  I had high hopes for this, but it was bad.  Re...         0         0  \n",
       "2  I guess it's only one can since there is nothi...         1         1  \n",
       "3  \"Oatmeal Squares\" is in about the largest prin...         0         0  \n",
       "4  I really enjoyed this flavor, this has a very ...         1         0  "
      ]
     },
     "execution_count": 8,
     "metadata": {},
     "output_type": "execute_result"
    }
   ],
   "source": [
    "amazon = pd.read_csv('../data/reviews_train.tsv', sep='\\t', encoding='unicode_escape')\n",
    "amazon.head()"
   ]
  },
  {
   "cell_type": "code",
   "execution_count": 11,
   "metadata": {},
   "outputs": [
    {
     "data": {
      "text/html": [
       "<div>\n",
       "<style scoped>\n",
       "    .dataframe tbody tr th:only-of-type {\n",
       "        vertical-align: middle;\n",
       "    }\n",
       "\n",
       "    .dataframe tbody tr th {\n",
       "        vertical-align: top;\n",
       "    }\n",
       "\n",
       "    .dataframe thead th {\n",
       "        text-align: right;\n",
       "    }\n",
       "</style>\n",
       "<table border=\"1\" class=\"dataframe\">\n",
       "  <thead>\n",
       "    <tr style=\"text-align: right;\">\n",
       "      <th></th>\n",
       "      <th>summary</th>\n",
       "      <th>text</th>\n",
       "      <th>sentiment</th>\n",
       "    </tr>\n",
       "  </thead>\n",
       "  <tbody>\n",
       "    <tr>\n",
       "      <td>1005</td>\n",
       "      <td>Mostly lime!</td>\n",
       "      <td>Not a big fan of chili actually... so these al...</td>\n",
       "      <td>1</td>\n",
       "    </tr>\n",
       "    <tr>\n",
       "      <td>1106</td>\n",
       "      <td>Yum!</td>\n",
       "      <td>As  a dedicated chocolate and almond lover thi...</td>\n",
       "      <td>1</td>\n",
       "    </tr>\n",
       "    <tr>\n",
       "      <td>2411</td>\n",
       "      <td>Sugary!</td>\n",
       "      <td>I was really disappointed when I received my o...</td>\n",
       "      <td>-1</td>\n",
       "    </tr>\n",
       "    <tr>\n",
       "      <td>3436</td>\n",
       "      <td>Not so tasty to me</td>\n",
       "      <td>I love coconut water.  It's so refreshing.  I'...</td>\n",
       "      <td>-1</td>\n",
       "    </tr>\n",
       "    <tr>\n",
       "      <td>1711</td>\n",
       "      <td>why buy something when you are getting ripped ...</td>\n",
       "      <td>See's makes delicious chocolates; close to the...</td>\n",
       "      <td>-1</td>\n",
       "    </tr>\n",
       "    <tr>\n",
       "      <td>3548</td>\n",
       "      <td>Excellent</td>\n",
       "      <td>I love this candy so much, It was so hard to f...</td>\n",
       "      <td>1</td>\n",
       "    </tr>\n",
       "    <tr>\n",
       "      <td>1960</td>\n",
       "      <td>A different way to brew</td>\n",
       "      <td>The cups are different. They have a paper filt...</td>\n",
       "      <td>1</td>\n",
       "    </tr>\n",
       "    <tr>\n",
       "      <td>690</td>\n",
       "      <td>Divina Olives Stuffed with Jalapeno are simply...</td>\n",
       "      <td>I received my first jar as a gift at Christmas...</td>\n",
       "      <td>1</td>\n",
       "    </tr>\n",
       "    <tr>\n",
       "      <td>3180</td>\n",
       "      <td>Heavy on the Vinegar</td>\n",
       "      <td>I usually love Kettle Chips, and love salt &amp; v...</td>\n",
       "      <td>-1</td>\n",
       "    </tr>\n",
       "    <tr>\n",
       "      <td>1611</td>\n",
       "      <td>Tasty and quick</td>\n",
       "      <td>Great option for a healthy and quick breakfast...</td>\n",
       "      <td>1</td>\n",
       "    </tr>\n",
       "  </tbody>\n",
       "</table>\n",
       "</div>"
      ],
      "text/plain": [
       "                                                summary  \\\n",
       "1005                                       Mostly lime!   \n",
       "1106                                               Yum!   \n",
       "2411                                            Sugary!   \n",
       "3436                                 Not so tasty to me   \n",
       "1711  why buy something when you are getting ripped ...   \n",
       "3548                                          Excellent   \n",
       "1960                            A different way to brew   \n",
       "690   Divina Olives Stuffed with Jalapeno are simply...   \n",
       "3180                               Heavy on the Vinegar   \n",
       "1611                                    Tasty and quick   \n",
       "\n",
       "                                                   text  sentiment  \n",
       "1005  Not a big fan of chili actually... so these al...          1  \n",
       "1106  As  a dedicated chocolate and almond lover thi...          1  \n",
       "2411  I was really disappointed when I received my o...         -1  \n",
       "3436  I love coconut water.  It's so refreshing.  I'...         -1  \n",
       "1711  See's makes delicious chocolates; close to the...         -1  \n",
       "3548  I love this candy so much, It was so hard to f...          1  \n",
       "1960  The cups are different. They have a paper filt...          1  \n",
       "690   I received my first jar as a gift at Christmas...          1  \n",
       "3180  I usually love Kettle Chips, and love salt & v...         -1  \n",
       "1611  Great option for a healthy and quick breakfast...          1  "
      ]
     },
     "execution_count": 11,
     "metadata": {},
     "output_type": "execute_result"
    }
   ],
   "source": [
    "review_data = amazon[['summary', 'text', 'sentiment']]\n",
    "review_data.sample(10)"
   ]
  },
  {
   "cell_type": "code",
   "execution_count": 17,
   "metadata": {},
   "outputs": [
    {
     "data": {
      "text/plain": [
       "\"I was really disappointed when I received my order. This cream of coconut has a huge amount of sugar in it. This is one of the frustrating things about ordering food items from Amazon - you can't always look at the ingredients before buying. I ordered this because I don't eat sugar or grains, and coconut cream is useful in making a lot of paleo food items. But I can't eat it because it has so much added sugar! An expensive mistake.\""
      ]
     },
     "execution_count": 17,
     "metadata": {},
     "output_type": "execute_result"
    }
   ],
   "source": [
    "review_data.loc[2411,'text']"
   ]
  },
  {
   "cell_type": "code",
   "execution_count": 32,
   "metadata": {},
   "outputs": [],
   "source": []
  },
  {
   "cell_type": "code",
   "execution_count": null,
   "metadata": {},
   "outputs": [],
   "source": []
  },
  {
   "cell_type": "code",
   "execution_count": null,
   "metadata": {},
   "outputs": [],
   "source": []
  },
  {
   "cell_type": "code",
   "execution_count": null,
   "metadata": {},
   "outputs": [],
   "source": []
  }
 ],
 "metadata": {
  "kernelspec": {
   "display_name": "Python 3",
   "language": "python",
   "name": "python3"
  },
  "language_info": {
   "codemirror_mode": {
    "name": "ipython",
    "version": 3
   },
   "file_extension": ".py",
   "mimetype": "text/x-python",
   "name": "python",
   "nbconvert_exporter": "python",
   "pygments_lexer": "ipython3",
   "version": "3.7.4"
  }
 },
 "nbformat": 4,
 "nbformat_minor": 2
}
