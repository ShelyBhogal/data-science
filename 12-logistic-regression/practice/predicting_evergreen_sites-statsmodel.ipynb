{
 "cells": [
  {
   "cell_type": "markdown",
   "metadata": {},
   "source": [
    "<img src=\"http://imgur.com/1ZcRyrc.png\" style=\"float: left; margin: 20px; height: 55px\">\n",
    "\n",
    "# Predicting \"Greenness\" Of Content\n",
    "\n",
    "_Authors: Joseph Nelson (DC), Kiefer Katovich (SF)_\n",
    "\n",
    "---\n",
    "\n",
    "\n",
    "This dataset comes from [stumbleupon](https://www.stumbleupon.com/), a web page recommender and was made available [here](https://www.kaggle.com/c/stumbleupon/download/train.tsv)\n",
    "\n",
    "A description of the columns is below\n",
    "\n",
    "FieldName|Type|Description\n",
    "---------|----|-----------\n",
    "url|string|Url of the webpage to be classified\n",
    "urlid|integer| StumbleUpon's unique identifier for each url\n",
    "boilerplate|json|Boilerplate text\n",
    "alchemy_category|string|Alchemy category (per the publicly available Alchemy API found at www.alchemyapi.com)\n",
    "alchemy_category_score|double|Alchemy category score (per the publicly available Alchemy API found at www.alchemyapi.com)\n",
    "avglinksize| double|Average number of words in each link\n",
    "commonLinkRatio_1|double|# of links sharing at least 1 word with 1 other links / # of links\n",
    "commonLinkRatio_2|double|# of links sharing at least 1 word with 2 other links / # of links\n",
    "commonLinkRatio_3|double|# of links sharing at least 1 word with 3 other links / # of links\n",
    "commonLinkRatio_4|double|# of links sharing at least 1 word with 4 other links / # of links\n",
    "compression_ratio|double|Compression achieved on this page via gzip (measure of redundancy)\n",
    "embed_ratio|double|Count of number of <embed> usage\n",
    "frameBased|integer (0 or 1)|A page is frame-based (1) if it has no body markup but have a frameset markup\n",
    "frameTagRatio|double|Ratio of iframe markups over total number of markups\n",
    "hasDomainLink|integer (0 or 1)|True (1) if it contains an <a> with an url with domain\n",
    "html_ratio|double|Ratio of tags vs text in the page\n",
    "image_ratio|double|Ratio of <img> tags vs text in the page\n",
    "is_news|integer (0 or 1) | True (1) if StumbleUpon's news classifier determines that this webpage is news\n",
    "lengthyLinkDomain| integer (0 or 1)|True (1) if at least 3 <a> 's text contains more than 30 alphanumeric characters\n",
    "linkwordscore|double|Percentage of words on the page that are in hyperlink's text\n",
    "news_front_page| integer (0 or 1)|True (1) if StumbleUpon's news classifier determines that this webpage is front-page news\n",
    "non_markup_alphanum_characters|integer| Page's text's number of alphanumeric characters\n",
    "numberOfLinks|integer Number of <a>|markups\n",
    "numwords_in_url| double|Number of words in url\n",
    "parametrizedLinkRatio|double|A link is parametrized if it's url contains parameters or has an attached onClick event\n",
    "spelling_errors_ratio|double|Ratio of words not found in wiki (considered to be a spelling mistake)\n",
    "label|integer (0 or 1)|User-determined label. Either evergreen (1) or non-evergreen (0); available for train.tsv only"
   ]
  },
  {
   "cell_type": "code",
   "execution_count": 1,
   "metadata": {},
   "outputs": [],
   "source": [
    "import pandas as pd\n",
    "import numpy as np\n",
    "import seaborn as sns\n",
    "import matplotlib.pyplot as plt\n",
    "import json\n",
    "%matplotlib inline\n",
    "\n",
    "# set max printout options for pandas:\n",
    "pd.options.display.max_columns = 50\n",
    "pd.options.display.max_colwidth = 300"
   ]
  },
  {
   "cell_type": "markdown",
   "metadata": {},
   "source": [
    "### 1. Load the data\n",
    "- Note it is a `.tsv` file and has a tab separator instead of comma.\n",
    "- Clean the `is_news` column.\n",
    "- Make two new columns, `title` and `body`, from the `boilerplate` column.\n",
    "\n",
    "> **Note:** The `boilerplate` column is in json dictionary format. You can use the `json.loads()` function from the `json` module to convert this into a python dictionary."
   ]
  },
  {
   "cell_type": "code",
   "execution_count": 2,
   "metadata": {},
   "outputs": [],
   "source": [
    "evergreen_tsv = '../data/evergreen_sites.tsv'"
   ]
  },
  {
   "cell_type": "code",
   "execution_count": 3,
   "metadata": {},
   "outputs": [
    {
     "data": {
      "text/html": [
       "<div>\n",
       "<style scoped>\n",
       "    .dataframe tbody tr th:only-of-type {\n",
       "        vertical-align: middle;\n",
       "    }\n",
       "\n",
       "    .dataframe tbody tr th {\n",
       "        vertical-align: top;\n",
       "    }\n",
       "\n",
       "    .dataframe thead th {\n",
       "        text-align: right;\n",
       "    }\n",
       "</style>\n",
       "<table border=\"1\" class=\"dataframe\">\n",
       "  <thead>\n",
       "    <tr style=\"text-align: right;\">\n",
       "      <th></th>\n",
       "      <th>url</th>\n",
       "      <th>urlid</th>\n",
       "      <th>boilerplate</th>\n",
       "      <th>alchemy_category</th>\n",
       "      <th>alchemy_category_score</th>\n",
       "      <th>avglinksize</th>\n",
       "      <th>commonlinkratio_1</th>\n",
       "      <th>commonlinkratio_2</th>\n",
       "      <th>commonlinkratio_3</th>\n",
       "      <th>commonlinkratio_4</th>\n",
       "      <th>compression_ratio</th>\n",
       "      <th>embed_ratio</th>\n",
       "      <th>framebased</th>\n",
       "      <th>frameTagRatio</th>\n",
       "      <th>hasDomainLink</th>\n",
       "      <th>html_ratio</th>\n",
       "      <th>image_ratio</th>\n",
       "      <th>is_news</th>\n",
       "      <th>lengthyLinkDomain</th>\n",
       "      <th>linkwordscore</th>\n",
       "      <th>news_front_page</th>\n",
       "      <th>non_markup_alphanum_characters</th>\n",
       "      <th>numberOfLinks</th>\n",
       "      <th>numwords_in_url</th>\n",
       "      <th>parametrizedLinkRatio</th>\n",
       "      <th>spelling_errors_ratio</th>\n",
       "      <th>label</th>\n",
       "    </tr>\n",
       "  </thead>\n",
       "  <tbody>\n",
       "    <tr>\n",
       "      <td>0</td>\n",
       "      <td>http://www.bloomberg.com/news/2010-12-23/ibm-predicts-holographic-calls-air-breathing-batteries-by-2015.html</td>\n",
       "      <td>4042</td>\n",
       "      <td>{\"title\":\"IBM Sees Holographic Calls Air Breathing Batteries ibm sees holographic calls, air-breathing batteries\",\"body\":\"A sign stands outside the International Business Machines Corp IBM Almaden Research Center campus in San Jose California Photographer Tony Avelar Bloomberg Buildings stand at...</td>\n",
       "      <td>business</td>\n",
       "      <td>0.789131</td>\n",
       "      <td>2.055556</td>\n",
       "      <td>0.676471</td>\n",
       "      <td>0.205882</td>\n",
       "      <td>0.047059</td>\n",
       "      <td>0.023529</td>\n",
       "      <td>0.443783</td>\n",
       "      <td>0.0</td>\n",
       "      <td>0</td>\n",
       "      <td>0.090774</td>\n",
       "      <td>0</td>\n",
       "      <td>0.245831</td>\n",
       "      <td>0.003883</td>\n",
       "      <td>1</td>\n",
       "      <td>1</td>\n",
       "      <td>24</td>\n",
       "      <td>0</td>\n",
       "      <td>5424</td>\n",
       "      <td>170</td>\n",
       "      <td>8</td>\n",
       "      <td>0.152941</td>\n",
       "      <td>0.079130</td>\n",
       "      <td>0</td>\n",
       "    </tr>\n",
       "    <tr>\n",
       "      <td>1</td>\n",
       "      <td>http://www.popsci.com/technology/article/2012-07/electronic-futuristic-starting-gun-eliminates-advantages-races</td>\n",
       "      <td>8471</td>\n",
       "      <td>{\"title\":\"The Fully Electronic Futuristic Starting Gun That Eliminates Advantages in Races the fully electronic, futuristic starting gun that eliminates advantages in races the fully electronic, futuristic starting gun that eliminates advantages in races\",\"body\":\"And that can be carried on a pla...</td>\n",
       "      <td>recreation</td>\n",
       "      <td>0.574147</td>\n",
       "      <td>3.677966</td>\n",
       "      <td>0.508021</td>\n",
       "      <td>0.288770</td>\n",
       "      <td>0.213904</td>\n",
       "      <td>0.144385</td>\n",
       "      <td>0.468649</td>\n",
       "      <td>0.0</td>\n",
       "      <td>0</td>\n",
       "      <td>0.098707</td>\n",
       "      <td>0</td>\n",
       "      <td>0.203490</td>\n",
       "      <td>0.088652</td>\n",
       "      <td>1</td>\n",
       "      <td>1</td>\n",
       "      <td>40</td>\n",
       "      <td>0</td>\n",
       "      <td>4973</td>\n",
       "      <td>187</td>\n",
       "      <td>9</td>\n",
       "      <td>0.181818</td>\n",
       "      <td>0.125448</td>\n",
       "      <td>1</td>\n",
       "    </tr>\n",
       "    <tr>\n",
       "      <td>2</td>\n",
       "      <td>http://www.menshealth.com/health/flu-fighting-fruits?cm_mmc=Facebook-_-MensHealth-_-Content-Health-_-FightFluWithFruit</td>\n",
       "      <td>1164</td>\n",
       "      <td>{\"title\":\"Fruits that Fight the Flu fruits that fight the flu | cold &amp; flu | men's health\",\"body\":\"Apples The most popular source of antioxidants in our diet one apple has an antioxidant effect equivalent to 1 500 mg of vitamin C Apples are loaded with protective flavonoids which may prevent hea...</td>\n",
       "      <td>health</td>\n",
       "      <td>0.996526</td>\n",
       "      <td>2.382883</td>\n",
       "      <td>0.562016</td>\n",
       "      <td>0.321705</td>\n",
       "      <td>0.120155</td>\n",
       "      <td>0.042636</td>\n",
       "      <td>0.525448</td>\n",
       "      <td>0.0</td>\n",
       "      <td>0</td>\n",
       "      <td>0.072448</td>\n",
       "      <td>0</td>\n",
       "      <td>0.226402</td>\n",
       "      <td>0.120536</td>\n",
       "      <td>1</td>\n",
       "      <td>1</td>\n",
       "      <td>55</td>\n",
       "      <td>0</td>\n",
       "      <td>2240</td>\n",
       "      <td>258</td>\n",
       "      <td>11</td>\n",
       "      <td>0.166667</td>\n",
       "      <td>0.057613</td>\n",
       "      <td>1</td>\n",
       "    </tr>\n",
       "    <tr>\n",
       "      <td>3</td>\n",
       "      <td>http://www.dumblittleman.com/2007/12/10-foolproof-tips-for-better-sleep.html</td>\n",
       "      <td>6684</td>\n",
       "      <td>{\"title\":\"10 Foolproof Tips for Better Sleep \",\"body\":\"There was a period in my life when I had a lot of problems with sleep It took me very long to fall asleep I was easily awaken and I simply wasn t getting enough of rest at night I didn t want to take medication and this led me to learn sever...</td>\n",
       "      <td>health</td>\n",
       "      <td>0.801248</td>\n",
       "      <td>1.543103</td>\n",
       "      <td>0.400000</td>\n",
       "      <td>0.100000</td>\n",
       "      <td>0.016667</td>\n",
       "      <td>0.000000</td>\n",
       "      <td>0.480725</td>\n",
       "      <td>0.0</td>\n",
       "      <td>0</td>\n",
       "      <td>0.095861</td>\n",
       "      <td>0</td>\n",
       "      <td>0.265656</td>\n",
       "      <td>0.035343</td>\n",
       "      <td>1</td>\n",
       "      <td>0</td>\n",
       "      <td>24</td>\n",
       "      <td>0</td>\n",
       "      <td>2737</td>\n",
       "      <td>120</td>\n",
       "      <td>5</td>\n",
       "      <td>0.041667</td>\n",
       "      <td>0.100858</td>\n",
       "      <td>1</td>\n",
       "    </tr>\n",
       "    <tr>\n",
       "      <td>4</td>\n",
       "      <td>http://bleacherreport.com/articles/1205138-the-50-coolest-jerseys-you-didnt-know-existed?show_full=</td>\n",
       "      <td>9006</td>\n",
       "      <td>{\"title\":\"The 50 Coolest Jerseys You Didn t Know Existed coolest jerseys you haven't seen\",\"body\":\"Jersey sales is a curious business Whether you re buying the stylish top to represent your favorite team player or color you re always missing out on better artwork With No 18 Colts jerseys continu...</td>\n",
       "      <td>sports</td>\n",
       "      <td>0.719157</td>\n",
       "      <td>2.676471</td>\n",
       "      <td>0.500000</td>\n",
       "      <td>0.222222</td>\n",
       "      <td>0.123457</td>\n",
       "      <td>0.043210</td>\n",
       "      <td>0.446143</td>\n",
       "      <td>0.0</td>\n",
       "      <td>0</td>\n",
       "      <td>0.024908</td>\n",
       "      <td>0</td>\n",
       "      <td>0.228887</td>\n",
       "      <td>0.050473</td>\n",
       "      <td>1</td>\n",
       "      <td>1</td>\n",
       "      <td>14</td>\n",
       "      <td>0</td>\n",
       "      <td>12032</td>\n",
       "      <td>162</td>\n",
       "      <td>10</td>\n",
       "      <td>0.098765</td>\n",
       "      <td>0.082569</td>\n",
       "      <td>0</td>\n",
       "    </tr>\n",
       "  </tbody>\n",
       "</table>\n",
       "</div>"
      ],
      "text/plain": [
       "                                                                                                                      url  \\\n",
       "0            http://www.bloomberg.com/news/2010-12-23/ibm-predicts-holographic-calls-air-breathing-batteries-by-2015.html   \n",
       "1         http://www.popsci.com/technology/article/2012-07/electronic-futuristic-starting-gun-eliminates-advantages-races   \n",
       "2  http://www.menshealth.com/health/flu-fighting-fruits?cm_mmc=Facebook-_-MensHealth-_-Content-Health-_-FightFluWithFruit   \n",
       "3                                            http://www.dumblittleman.com/2007/12/10-foolproof-tips-for-better-sleep.html   \n",
       "4                     http://bleacherreport.com/articles/1205138-the-50-coolest-jerseys-you-didnt-know-existed?show_full=   \n",
       "\n",
       "   urlid  \\\n",
       "0   4042   \n",
       "1   8471   \n",
       "2   1164   \n",
       "3   6684   \n",
       "4   9006   \n",
       "\n",
       "                                                                                                                                                                                                                                                                                                   boilerplate  \\\n",
       "0  {\"title\":\"IBM Sees Holographic Calls Air Breathing Batteries ibm sees holographic calls, air-breathing batteries\",\"body\":\"A sign stands outside the International Business Machines Corp IBM Almaden Research Center campus in San Jose California Photographer Tony Avelar Bloomberg Buildings stand at...   \n",
       "1  {\"title\":\"The Fully Electronic Futuristic Starting Gun That Eliminates Advantages in Races the fully electronic, futuristic starting gun that eliminates advantages in races the fully electronic, futuristic starting gun that eliminates advantages in races\",\"body\":\"And that can be carried on a pla...   \n",
       "2  {\"title\":\"Fruits that Fight the Flu fruits that fight the flu | cold & flu | men's health\",\"body\":\"Apples The most popular source of antioxidants in our diet one apple has an antioxidant effect equivalent to 1 500 mg of vitamin C Apples are loaded with protective flavonoids which may prevent hea...   \n",
       "3  {\"title\":\"10 Foolproof Tips for Better Sleep \",\"body\":\"There was a period in my life when I had a lot of problems with sleep It took me very long to fall asleep I was easily awaken and I simply wasn t getting enough of rest at night I didn t want to take medication and this led me to learn sever...   \n",
       "4  {\"title\":\"The 50 Coolest Jerseys You Didn t Know Existed coolest jerseys you haven't seen\",\"body\":\"Jersey sales is a curious business Whether you re buying the stylish top to represent your favorite team player or color you re always missing out on better artwork With No 18 Colts jerseys continu...   \n",
       "\n",
       "  alchemy_category alchemy_category_score  avglinksize  commonlinkratio_1  \\\n",
       "0         business               0.789131     2.055556           0.676471   \n",
       "1       recreation               0.574147     3.677966           0.508021   \n",
       "2           health               0.996526     2.382883           0.562016   \n",
       "3           health               0.801248     1.543103           0.400000   \n",
       "4           sports               0.719157     2.676471           0.500000   \n",
       "\n",
       "   commonlinkratio_2  commonlinkratio_3  commonlinkratio_4  compression_ratio  \\\n",
       "0           0.205882           0.047059           0.023529           0.443783   \n",
       "1           0.288770           0.213904           0.144385           0.468649   \n",
       "2           0.321705           0.120155           0.042636           0.525448   \n",
       "3           0.100000           0.016667           0.000000           0.480725   \n",
       "4           0.222222           0.123457           0.043210           0.446143   \n",
       "\n",
       "   embed_ratio  framebased  frameTagRatio  hasDomainLink  html_ratio  \\\n",
       "0          0.0           0       0.090774              0    0.245831   \n",
       "1          0.0           0       0.098707              0    0.203490   \n",
       "2          0.0           0       0.072448              0    0.226402   \n",
       "3          0.0           0       0.095861              0    0.265656   \n",
       "4          0.0           0       0.024908              0    0.228887   \n",
       "\n",
       "   image_ratio is_news  lengthyLinkDomain  linkwordscore news_front_page  \\\n",
       "0     0.003883       1                  1             24               0   \n",
       "1     0.088652       1                  1             40               0   \n",
       "2     0.120536       1                  1             55               0   \n",
       "3     0.035343       1                  0             24               0   \n",
       "4     0.050473       1                  1             14               0   \n",
       "\n",
       "   non_markup_alphanum_characters  numberOfLinks  numwords_in_url  \\\n",
       "0                            5424            170                8   \n",
       "1                            4973            187                9   \n",
       "2                            2240            258               11   \n",
       "3                            2737            120                5   \n",
       "4                           12032            162               10   \n",
       "\n",
       "   parametrizedLinkRatio  spelling_errors_ratio  label  \n",
       "0               0.152941               0.079130      0  \n",
       "1               0.181818               0.125448      1  \n",
       "2               0.166667               0.057613      1  \n",
       "3               0.041667               0.100858      1  \n",
       "4               0.098765               0.082569      0  "
      ]
     },
     "execution_count": 3,
     "metadata": {},
     "output_type": "execute_result"
    }
   ],
   "source": [
    "# Load tsv file using pd.read_csv\n",
    "green = pd.read_csv(evergreen_tsv, sep='\\t')\n",
    "green.head()"
   ]
  },
  {
   "cell_type": "code",
   "execution_count": 4,
   "metadata": {},
   "outputs": [
    {
     "data": {
      "text/plain": [
       "Index(['url', 'urlid', 'boilerplate', 'alchemy_category',\n",
       "       'alchemy_category_score', 'avglinksize', 'commonlinkratio_1',\n",
       "       'commonlinkratio_2', 'commonlinkratio_3', 'commonlinkratio_4',\n",
       "       'compression_ratio', 'embed_ratio', 'framebased', 'frameTagRatio',\n",
       "       'hasDomainLink', 'html_ratio', 'image_ratio', 'is_news',\n",
       "       'lengthyLinkDomain', 'linkwordscore', 'news_front_page',\n",
       "       'non_markup_alphanum_characters', 'numberOfLinks', 'numwords_in_url',\n",
       "       'parametrizedLinkRatio', 'spelling_errors_ratio', 'label'],\n",
       "      dtype='object')"
      ]
     },
     "execution_count": 4,
     "metadata": {},
     "output_type": "execute_result"
    }
   ],
   "source": [
    "green.columns"
   ]
  },
  {
   "cell_type": "code",
   "execution_count": 5,
   "metadata": {},
   "outputs": [
    {
     "data": {
      "text/plain": [
       "(7395, 27)"
      ]
     },
     "execution_count": 5,
     "metadata": {},
     "output_type": "execute_result"
    }
   ],
   "source": [
    "green.shape"
   ]
  },
  {
   "cell_type": "code",
   "execution_count": 7,
   "metadata": {},
   "outputs": [
    {
     "data": {
      "text/plain": [
       "url                                object\n",
       "urlid                               int64\n",
       "boilerplate                        object\n",
       "alchemy_category                   object\n",
       "alchemy_category_score             object\n",
       "avglinksize                       float64\n",
       "commonlinkratio_1                 float64\n",
       "commonlinkratio_2                 float64\n",
       "commonlinkratio_3                 float64\n",
       "commonlinkratio_4                 float64\n",
       "compression_ratio                 float64\n",
       "embed_ratio                       float64\n",
       "framebased                          int64\n",
       "frameTagRatio                     float64\n",
       "hasDomainLink                       int64\n",
       "html_ratio                        float64\n",
       "image_ratio                       float64\n",
       "is_news                            object\n",
       "lengthyLinkDomain                   int64\n",
       "linkwordscore                       int64\n",
       "news_front_page                    object\n",
       "non_markup_alphanum_characters      int64\n",
       "numberOfLinks                       int64\n",
       "numwords_in_url                     int64\n",
       "parametrizedLinkRatio             float64\n",
       "spelling_errors_ratio             float64\n",
       "label                               int64\n",
       "dtype: object"
      ]
     },
     "execution_count": 7,
     "metadata": {},
     "output_type": "execute_result"
    }
   ],
   "source": [
    "# 'boilerplate' column is string datatype\n",
    "green.dtypes"
   ]
  },
  {
   "cell_type": "code",
   "execution_count": 6,
   "metadata": {},
   "outputs": [
    {
     "data": {
      "text/plain": [
       "1    4552\n",
       "?    2843\n",
       "Name: is_news, dtype: int64"
      ]
     },
     "execution_count": 6,
     "metadata": {},
     "output_type": "execute_result"
    }
   ],
   "source": [
    "green['is_news'].value_counts()"
   ]
  },
  {
   "cell_type": "code",
   "execution_count": 8,
   "metadata": {},
   "outputs": [],
   "source": [
    "# Convert 'is_news' column to integer datatype and replace ? with 0\n",
    "green['is_news'] = pd.to_numeric(green['is_news'].replace('?', 0), errors='coerce')"
   ]
  },
  {
   "cell_type": "code",
   "execution_count": 9,
   "metadata": {},
   "outputs": [
    {
     "data": {
      "text/plain": [
       "1    4552\n",
       "0    2843\n",
       "Name: is_news, dtype: int64"
      ]
     },
     "execution_count": 9,
     "metadata": {},
     "output_type": "execute_result"
    }
   ],
   "source": [
    "green['is_news'].value_counts()"
   ]
  },
  {
   "cell_type": "code",
   "execution_count": 10,
   "metadata": {},
   "outputs": [
    {
     "data": {
      "text/plain": [
       "'{\"url\":\"insidershealth article racing for recovery 3471\",\"title\":\"Racing For Recovery by Dean Johnson racing for recovery by dean johnson - - insidershealth.com\",\"body\":\"Racing For Recovery is the growing idea that drug addiction and alcoholism can be cured by focusing one s energies towards something positive Eddie Freas tell CNN that I feel better when I m working out It does wonders for the mind The reason I started running it was a switch that went off in my head I started feeling positive and feeling great about myself It is true that dopamine levels can be increased by strenuous physical activity but is simply getting your fix in a healthy way actually healthy for you in the long run Freas admits to trying Alcoholics Anonymous and rehab but says the institutions did nothing to cure his drug addiction perhaps that is because of AA s non belief in the ability of a true addict to get cured they look at it as a disease that like cancer can only go into remission In any case Freas is sober today and has gotten there by doing something he loves that much is commendable Whether or not this strategy will better his quality of life or keep him sober over time has yet to be seen The trick apparently isn t just to exercise but to find something anything that will help This Content is restricted to our Community Login or Sign Up for an account to continue reading an insidershealth.com article regarding - racing for recovery by dean johnson. racing for recovery is the growing idea that drug addiction and alcoholism can be cured by focusing one&rsquo;s energies towards something positive. , , alternative health, article, homeopathic, health, natural medicine, natural cures, community\"}'"
      ]
     },
     "execution_count": 10,
     "metadata": {},
     "output_type": "execute_result"
    }
   ],
   "source": [
    "green.loc[7, 'boilerplate']"
   ]
  },
  {
   "cell_type": "code",
   "execution_count": 11,
   "metadata": {},
   "outputs": [],
   "source": [
    "# Create 'title' column \n",
    "green['title'] = green.boilerplate.map(lambda x: json.loads(x).get('title', ''))"
   ]
  },
  {
   "cell_type": "code",
   "execution_count": 12,
   "metadata": {},
   "outputs": [],
   "source": [
    "# Create 'body' column\n",
    "green['body'] = green.boilerplate.map(lambda x: json.loads(x).get('body', ''))"
   ]
  },
  {
   "cell_type": "code",
   "execution_count": 13,
   "metadata": {},
   "outputs": [
    {
     "data": {
      "text/html": [
       "<div>\n",
       "<style scoped>\n",
       "    .dataframe tbody tr th:only-of-type {\n",
       "        vertical-align: middle;\n",
       "    }\n",
       "\n",
       "    .dataframe tbody tr th {\n",
       "        vertical-align: top;\n",
       "    }\n",
       "\n",
       "    .dataframe thead th {\n",
       "        text-align: right;\n",
       "    }\n",
       "</style>\n",
       "<table border=\"1\" class=\"dataframe\">\n",
       "  <thead>\n",
       "    <tr style=\"text-align: right;\">\n",
       "      <th></th>\n",
       "      <th>url</th>\n",
       "      <th>urlid</th>\n",
       "      <th>boilerplate</th>\n",
       "      <th>alchemy_category</th>\n",
       "      <th>alchemy_category_score</th>\n",
       "      <th>avglinksize</th>\n",
       "      <th>commonlinkratio_1</th>\n",
       "      <th>commonlinkratio_2</th>\n",
       "      <th>commonlinkratio_3</th>\n",
       "      <th>commonlinkratio_4</th>\n",
       "      <th>compression_ratio</th>\n",
       "      <th>embed_ratio</th>\n",
       "      <th>framebased</th>\n",
       "      <th>frameTagRatio</th>\n",
       "      <th>hasDomainLink</th>\n",
       "      <th>html_ratio</th>\n",
       "      <th>image_ratio</th>\n",
       "      <th>is_news</th>\n",
       "      <th>lengthyLinkDomain</th>\n",
       "      <th>linkwordscore</th>\n",
       "      <th>news_front_page</th>\n",
       "      <th>non_markup_alphanum_characters</th>\n",
       "      <th>numberOfLinks</th>\n",
       "      <th>numwords_in_url</th>\n",
       "      <th>parametrizedLinkRatio</th>\n",
       "      <th>spelling_errors_ratio</th>\n",
       "      <th>label</th>\n",
       "      <th>title</th>\n",
       "      <th>body</th>\n",
       "    </tr>\n",
       "  </thead>\n",
       "  <tbody>\n",
       "    <tr>\n",
       "      <td>0</td>\n",
       "      <td>http://www.bloomberg.com/news/2010-12-23/ibm-predicts-holographic-calls-air-breathing-batteries-by-2015.html</td>\n",
       "      <td>4042</td>\n",
       "      <td>{\"title\":\"IBM Sees Holographic Calls Air Breathing Batteries ibm sees holographic calls, air-breathing batteries\",\"body\":\"A sign stands outside the International Business Machines Corp IBM Almaden Research Center campus in San Jose California Photographer Tony Avelar Bloomberg Buildings stand at...</td>\n",
       "      <td>business</td>\n",
       "      <td>0.789131</td>\n",
       "      <td>2.055556</td>\n",
       "      <td>0.676471</td>\n",
       "      <td>0.205882</td>\n",
       "      <td>0.047059</td>\n",
       "      <td>0.023529</td>\n",
       "      <td>0.443783</td>\n",
       "      <td>0.0</td>\n",
       "      <td>0</td>\n",
       "      <td>0.090774</td>\n",
       "      <td>0</td>\n",
       "      <td>0.245831</td>\n",
       "      <td>0.003883</td>\n",
       "      <td>1</td>\n",
       "      <td>1</td>\n",
       "      <td>24</td>\n",
       "      <td>0</td>\n",
       "      <td>5424</td>\n",
       "      <td>170</td>\n",
       "      <td>8</td>\n",
       "      <td>0.152941</td>\n",
       "      <td>0.079130</td>\n",
       "      <td>0</td>\n",
       "      <td>IBM Sees Holographic Calls Air Breathing Batteries ibm sees holographic calls, air-breathing batteries</td>\n",
       "      <td>A sign stands outside the International Business Machines Corp IBM Almaden Research Center campus in San Jose California Photographer Tony Avelar Bloomberg Buildings stand at the International Business Machines Corp IBM Almaden Research Center campus in the Santa Teresa Hills of San Jose Califor...</td>\n",
       "    </tr>\n",
       "    <tr>\n",
       "      <td>1</td>\n",
       "      <td>http://www.popsci.com/technology/article/2012-07/electronic-futuristic-starting-gun-eliminates-advantages-races</td>\n",
       "      <td>8471</td>\n",
       "      <td>{\"title\":\"The Fully Electronic Futuristic Starting Gun That Eliminates Advantages in Races the fully electronic, futuristic starting gun that eliminates advantages in races the fully electronic, futuristic starting gun that eliminates advantages in races\",\"body\":\"And that can be carried on a pla...</td>\n",
       "      <td>recreation</td>\n",
       "      <td>0.574147</td>\n",
       "      <td>3.677966</td>\n",
       "      <td>0.508021</td>\n",
       "      <td>0.288770</td>\n",
       "      <td>0.213904</td>\n",
       "      <td>0.144385</td>\n",
       "      <td>0.468649</td>\n",
       "      <td>0.0</td>\n",
       "      <td>0</td>\n",
       "      <td>0.098707</td>\n",
       "      <td>0</td>\n",
       "      <td>0.203490</td>\n",
       "      <td>0.088652</td>\n",
       "      <td>1</td>\n",
       "      <td>1</td>\n",
       "      <td>40</td>\n",
       "      <td>0</td>\n",
       "      <td>4973</td>\n",
       "      <td>187</td>\n",
       "      <td>9</td>\n",
       "      <td>0.181818</td>\n",
       "      <td>0.125448</td>\n",
       "      <td>1</td>\n",
       "      <td>The Fully Electronic Futuristic Starting Gun That Eliminates Advantages in Races the fully electronic, futuristic starting gun that eliminates advantages in races the fully electronic, futuristic starting gun that eliminates advantages in races</td>\n",
       "      <td>And that can be carried on a plane without the hassle too The Omega E Gun Starting Pistol Omega It s easy to take for granted just how insanely close some Olympic races are and how much the minutiae of it all can matter The perfect example is the traditional starting gun Seems easy You pull a tr...</td>\n",
       "    </tr>\n",
       "    <tr>\n",
       "      <td>2</td>\n",
       "      <td>http://www.menshealth.com/health/flu-fighting-fruits?cm_mmc=Facebook-_-MensHealth-_-Content-Health-_-FightFluWithFruit</td>\n",
       "      <td>1164</td>\n",
       "      <td>{\"title\":\"Fruits that Fight the Flu fruits that fight the flu | cold &amp; flu | men's health\",\"body\":\"Apples The most popular source of antioxidants in our diet one apple has an antioxidant effect equivalent to 1 500 mg of vitamin C Apples are loaded with protective flavonoids which may prevent hea...</td>\n",
       "      <td>health</td>\n",
       "      <td>0.996526</td>\n",
       "      <td>2.382883</td>\n",
       "      <td>0.562016</td>\n",
       "      <td>0.321705</td>\n",
       "      <td>0.120155</td>\n",
       "      <td>0.042636</td>\n",
       "      <td>0.525448</td>\n",
       "      <td>0.0</td>\n",
       "      <td>0</td>\n",
       "      <td>0.072448</td>\n",
       "      <td>0</td>\n",
       "      <td>0.226402</td>\n",
       "      <td>0.120536</td>\n",
       "      <td>1</td>\n",
       "      <td>1</td>\n",
       "      <td>55</td>\n",
       "      <td>0</td>\n",
       "      <td>2240</td>\n",
       "      <td>258</td>\n",
       "      <td>11</td>\n",
       "      <td>0.166667</td>\n",
       "      <td>0.057613</td>\n",
       "      <td>1</td>\n",
       "      <td>Fruits that Fight the Flu fruits that fight the flu | cold &amp; flu | men's health</td>\n",
       "      <td>Apples The most popular source of antioxidants in our diet one apple has an antioxidant effect equivalent to 1 500 mg of vitamin C Apples are loaded with protective flavonoids which may prevent heart disease and cancer Next Papayas With 250 percent of the RDA of vitamin C a papaya can help kick ...</td>\n",
       "    </tr>\n",
       "    <tr>\n",
       "      <td>3</td>\n",
       "      <td>http://www.dumblittleman.com/2007/12/10-foolproof-tips-for-better-sleep.html</td>\n",
       "      <td>6684</td>\n",
       "      <td>{\"title\":\"10 Foolproof Tips for Better Sleep \",\"body\":\"There was a period in my life when I had a lot of problems with sleep It took me very long to fall asleep I was easily awaken and I simply wasn t getting enough of rest at night I didn t want to take medication and this led me to learn sever...</td>\n",
       "      <td>health</td>\n",
       "      <td>0.801248</td>\n",
       "      <td>1.543103</td>\n",
       "      <td>0.400000</td>\n",
       "      <td>0.100000</td>\n",
       "      <td>0.016667</td>\n",
       "      <td>0.000000</td>\n",
       "      <td>0.480725</td>\n",
       "      <td>0.0</td>\n",
       "      <td>0</td>\n",
       "      <td>0.095861</td>\n",
       "      <td>0</td>\n",
       "      <td>0.265656</td>\n",
       "      <td>0.035343</td>\n",
       "      <td>1</td>\n",
       "      <td>0</td>\n",
       "      <td>24</td>\n",
       "      <td>0</td>\n",
       "      <td>2737</td>\n",
       "      <td>120</td>\n",
       "      <td>5</td>\n",
       "      <td>0.041667</td>\n",
       "      <td>0.100858</td>\n",
       "      <td>1</td>\n",
       "      <td>10 Foolproof Tips for Better Sleep</td>\n",
       "      <td>There was a period in my life when I had a lot of problems with sleep It took me very long to fall asleep I was easily awaken and I simply wasn t getting enough of rest at night I didn t want to take medication and this led me to learn several tips and tricks that really helped me to overcome my...</td>\n",
       "    </tr>\n",
       "    <tr>\n",
       "      <td>4</td>\n",
       "      <td>http://bleacherreport.com/articles/1205138-the-50-coolest-jerseys-you-didnt-know-existed?show_full=</td>\n",
       "      <td>9006</td>\n",
       "      <td>{\"title\":\"The 50 Coolest Jerseys You Didn t Know Existed coolest jerseys you haven't seen\",\"body\":\"Jersey sales is a curious business Whether you re buying the stylish top to represent your favorite team player or color you re always missing out on better artwork With No 18 Colts jerseys continu...</td>\n",
       "      <td>sports</td>\n",
       "      <td>0.719157</td>\n",
       "      <td>2.676471</td>\n",
       "      <td>0.500000</td>\n",
       "      <td>0.222222</td>\n",
       "      <td>0.123457</td>\n",
       "      <td>0.043210</td>\n",
       "      <td>0.446143</td>\n",
       "      <td>0.0</td>\n",
       "      <td>0</td>\n",
       "      <td>0.024908</td>\n",
       "      <td>0</td>\n",
       "      <td>0.228887</td>\n",
       "      <td>0.050473</td>\n",
       "      <td>1</td>\n",
       "      <td>1</td>\n",
       "      <td>14</td>\n",
       "      <td>0</td>\n",
       "      <td>12032</td>\n",
       "      <td>162</td>\n",
       "      <td>10</td>\n",
       "      <td>0.098765</td>\n",
       "      <td>0.082569</td>\n",
       "      <td>0</td>\n",
       "      <td>The 50 Coolest Jerseys You Didn t Know Existed coolest jerseys you haven't seen</td>\n",
       "      <td>Jersey sales is a curious business Whether you re buying the stylish top to represent your favorite team player or color you re always missing out on better artwork With No 18 Colts jerseys continuing to flood the streets it s about time we educate the sports public about the real masterpieces t...</td>\n",
       "    </tr>\n",
       "  </tbody>\n",
       "</table>\n",
       "</div>"
      ],
      "text/plain": [
       "                                                                                                                      url  \\\n",
       "0            http://www.bloomberg.com/news/2010-12-23/ibm-predicts-holographic-calls-air-breathing-batteries-by-2015.html   \n",
       "1         http://www.popsci.com/technology/article/2012-07/electronic-futuristic-starting-gun-eliminates-advantages-races   \n",
       "2  http://www.menshealth.com/health/flu-fighting-fruits?cm_mmc=Facebook-_-MensHealth-_-Content-Health-_-FightFluWithFruit   \n",
       "3                                            http://www.dumblittleman.com/2007/12/10-foolproof-tips-for-better-sleep.html   \n",
       "4                     http://bleacherreport.com/articles/1205138-the-50-coolest-jerseys-you-didnt-know-existed?show_full=   \n",
       "\n",
       "   urlid  \\\n",
       "0   4042   \n",
       "1   8471   \n",
       "2   1164   \n",
       "3   6684   \n",
       "4   9006   \n",
       "\n",
       "                                                                                                                                                                                                                                                                                                   boilerplate  \\\n",
       "0  {\"title\":\"IBM Sees Holographic Calls Air Breathing Batteries ibm sees holographic calls, air-breathing batteries\",\"body\":\"A sign stands outside the International Business Machines Corp IBM Almaden Research Center campus in San Jose California Photographer Tony Avelar Bloomberg Buildings stand at...   \n",
       "1  {\"title\":\"The Fully Electronic Futuristic Starting Gun That Eliminates Advantages in Races the fully electronic, futuristic starting gun that eliminates advantages in races the fully electronic, futuristic starting gun that eliminates advantages in races\",\"body\":\"And that can be carried on a pla...   \n",
       "2  {\"title\":\"Fruits that Fight the Flu fruits that fight the flu | cold & flu | men's health\",\"body\":\"Apples The most popular source of antioxidants in our diet one apple has an antioxidant effect equivalent to 1 500 mg of vitamin C Apples are loaded with protective flavonoids which may prevent hea...   \n",
       "3  {\"title\":\"10 Foolproof Tips for Better Sleep \",\"body\":\"There was a period in my life when I had a lot of problems with sleep It took me very long to fall asleep I was easily awaken and I simply wasn t getting enough of rest at night I didn t want to take medication and this led me to learn sever...   \n",
       "4  {\"title\":\"The 50 Coolest Jerseys You Didn t Know Existed coolest jerseys you haven't seen\",\"body\":\"Jersey sales is a curious business Whether you re buying the stylish top to represent your favorite team player or color you re always missing out on better artwork With No 18 Colts jerseys continu...   \n",
       "\n",
       "  alchemy_category alchemy_category_score  avglinksize  commonlinkratio_1  \\\n",
       "0         business               0.789131     2.055556           0.676471   \n",
       "1       recreation               0.574147     3.677966           0.508021   \n",
       "2           health               0.996526     2.382883           0.562016   \n",
       "3           health               0.801248     1.543103           0.400000   \n",
       "4           sports               0.719157     2.676471           0.500000   \n",
       "\n",
       "   commonlinkratio_2  commonlinkratio_3  commonlinkratio_4  compression_ratio  \\\n",
       "0           0.205882           0.047059           0.023529           0.443783   \n",
       "1           0.288770           0.213904           0.144385           0.468649   \n",
       "2           0.321705           0.120155           0.042636           0.525448   \n",
       "3           0.100000           0.016667           0.000000           0.480725   \n",
       "4           0.222222           0.123457           0.043210           0.446143   \n",
       "\n",
       "   embed_ratio  framebased  frameTagRatio  hasDomainLink  html_ratio  \\\n",
       "0          0.0           0       0.090774              0    0.245831   \n",
       "1          0.0           0       0.098707              0    0.203490   \n",
       "2          0.0           0       0.072448              0    0.226402   \n",
       "3          0.0           0       0.095861              0    0.265656   \n",
       "4          0.0           0       0.024908              0    0.228887   \n",
       "\n",
       "   image_ratio  is_news  lengthyLinkDomain  linkwordscore news_front_page  \\\n",
       "0     0.003883        1                  1             24               0   \n",
       "1     0.088652        1                  1             40               0   \n",
       "2     0.120536        1                  1             55               0   \n",
       "3     0.035343        1                  0             24               0   \n",
       "4     0.050473        1                  1             14               0   \n",
       "\n",
       "   non_markup_alphanum_characters  numberOfLinks  numwords_in_url  \\\n",
       "0                            5424            170                8   \n",
       "1                            4973            187                9   \n",
       "2                            2240            258               11   \n",
       "3                            2737            120                5   \n",
       "4                           12032            162               10   \n",
       "\n",
       "   parametrizedLinkRatio  spelling_errors_ratio  label  \\\n",
       "0               0.152941               0.079130      0   \n",
       "1               0.181818               0.125448      1   \n",
       "2               0.166667               0.057613      1   \n",
       "3               0.041667               0.100858      1   \n",
       "4               0.098765               0.082569      0   \n",
       "\n",
       "                                                                                                                                                                                                                                                  title  \\\n",
       "0                                                                                                                                                IBM Sees Holographic Calls Air Breathing Batteries ibm sees holographic calls, air-breathing batteries   \n",
       "1  The Fully Electronic Futuristic Starting Gun That Eliminates Advantages in Races the fully electronic, futuristic starting gun that eliminates advantages in races the fully electronic, futuristic starting gun that eliminates advantages in races   \n",
       "2                                                                                                                                                                       Fruits that Fight the Flu fruits that fight the flu | cold & flu | men's health   \n",
       "3                                                                                                                                                                                                                   10 Foolproof Tips for Better Sleep    \n",
       "4                                                                                                                                                                       The 50 Coolest Jerseys You Didn t Know Existed coolest jerseys you haven't seen   \n",
       "\n",
       "                                                                                                                                                                                                                                                                                                          body  \n",
       "0  A sign stands outside the International Business Machines Corp IBM Almaden Research Center campus in San Jose California Photographer Tony Avelar Bloomberg Buildings stand at the International Business Machines Corp IBM Almaden Research Center campus in the Santa Teresa Hills of San Jose Califor...  \n",
       "1  And that can be carried on a plane without the hassle too The Omega E Gun Starting Pistol Omega It s easy to take for granted just how insanely close some Olympic races are and how much the minutiae of it all can matter The perfect example is the traditional starting gun Seems easy You pull a tr...  \n",
       "2  Apples The most popular source of antioxidants in our diet one apple has an antioxidant effect equivalent to 1 500 mg of vitamin C Apples are loaded with protective flavonoids which may prevent heart disease and cancer Next Papayas With 250 percent of the RDA of vitamin C a papaya can help kick ...  \n",
       "3  There was a period in my life when I had a lot of problems with sleep It took me very long to fall asleep I was easily awaken and I simply wasn t getting enough of rest at night I didn t want to take medication and this led me to learn several tips and tricks that really helped me to overcome my...  \n",
       "4  Jersey sales is a curious business Whether you re buying the stylish top to represent your favorite team player or color you re always missing out on better artwork With No 18 Colts jerseys continuing to flood the streets it s about time we educate the sports public about the real masterpieces t...  "
      ]
     },
     "execution_count": 13,
     "metadata": {},
     "output_type": "execute_result"
    }
   ],
   "source": [
    "green.head()"
   ]
  },
  {
   "cell_type": "markdown",
   "metadata": {},
   "source": [
    "### 2. What are 'evergreen' sites?\n",
    "- These are websites with SEO content that is always relevant, like recipes or reviews (as opposed to current events which become out-of-date).\n",
    "- Stored as a binary indicator in the `label` column (0 is non-evergreen and 1 is evergreen).\n",
    "- Look at some examples in the DataFrame"
   ]
  },
  {
   "cell_type": "code",
   "execution_count": 14,
   "metadata": {},
   "outputs": [
    {
     "data": {
      "text/html": [
       "<div>\n",
       "<style scoped>\n",
       "    .dataframe tbody tr th:only-of-type {\n",
       "        vertical-align: middle;\n",
       "    }\n",
       "\n",
       "    .dataframe tbody tr th {\n",
       "        vertical-align: top;\n",
       "    }\n",
       "\n",
       "    .dataframe thead th {\n",
       "        text-align: right;\n",
       "    }\n",
       "</style>\n",
       "<table border=\"1\" class=\"dataframe\">\n",
       "  <thead>\n",
       "    <tr style=\"text-align: right;\">\n",
       "      <th></th>\n",
       "      <th>is_news</th>\n",
       "      <th>title</th>\n",
       "      <th>label</th>\n",
       "    </tr>\n",
       "  </thead>\n",
       "  <tbody>\n",
       "    <tr>\n",
       "      <td>3553</td>\n",
       "      <td>0</td>\n",
       "      <td>WebMD Better information Better health</td>\n",
       "      <td>0</td>\n",
       "    </tr>\n",
       "    <tr>\n",
       "      <td>4588</td>\n",
       "      <td>1</td>\n",
       "      <td>The Paupered Chef Cheap Is Chic</td>\n",
       "      <td>0</td>\n",
       "    </tr>\n",
       "    <tr>\n",
       "      <td>2092</td>\n",
       "      <td>1</td>\n",
       "      <td>Aji Amarillo Hot Sauce from Peruvian Chile Peppers Recipe Herbivoracious</td>\n",
       "      <td>1</td>\n",
       "    </tr>\n",
       "    <tr>\n",
       "      <td>4413</td>\n",
       "      <td>0</td>\n",
       "      <td>2008 Olympics Torch Relay</td>\n",
       "      <td>0</td>\n",
       "    </tr>\n",
       "    <tr>\n",
       "      <td>6392</td>\n",
       "      <td>1</td>\n",
       "      <td>Delishhh Pumpkin Pie Snickerdoodle Bar Delishhh</td>\n",
       "      <td>1</td>\n",
       "    </tr>\n",
       "    <tr>\n",
       "      <td>6838</td>\n",
       "      <td>1</td>\n",
       "      <td>Parsnip Carrot Soup Honest Fare</td>\n",
       "      <td>1</td>\n",
       "    </tr>\n",
       "    <tr>\n",
       "      <td>2954</td>\n",
       "      <td>1</td>\n",
       "      <td>Toroidal vortex gun Tricks ABC Science toroidal vortex gun</td>\n",
       "      <td>0</td>\n",
       "    </tr>\n",
       "    <tr>\n",
       "      <td>6161</td>\n",
       "      <td>1</td>\n",
       "      <td>GET OFF YOUR BUTT AND BAKE S MORE CUPCAKES</td>\n",
       "      <td>1</td>\n",
       "    </tr>\n",
       "    <tr>\n",
       "      <td>4697</td>\n",
       "      <td>1</td>\n",
       "      <td>You Made THAT from a Girl Scout Cookie you made that from a girl scout cookie? momlogic</td>\n",
       "      <td>1</td>\n",
       "    </tr>\n",
       "    <tr>\n",
       "      <td>6695</td>\n",
       "      <td>0</td>\n",
       "      <td>Jim and John Harbaugh Sports Siblings Photos jim and john harbaugh sports siblings - si.com photos jim and john harbaugh - sports siblings - photos - si.com</td>\n",
       "      <td>0</td>\n",
       "    </tr>\n",
       "  </tbody>\n",
       "</table>\n",
       "</div>"
      ],
      "text/plain": [
       "      is_news  \\\n",
       "3553        0   \n",
       "4588        1   \n",
       "2092        1   \n",
       "4413        0   \n",
       "6392        1   \n",
       "6838        1   \n",
       "2954        1   \n",
       "6161        1   \n",
       "4697        1   \n",
       "6695        0   \n",
       "\n",
       "                                                                                                                                                             title  \\\n",
       "3553                                                                                                                       WebMD Better information Better health    \n",
       "4588                                                                                                                              The Paupered Chef Cheap Is Chic    \n",
       "2092                                                                                     Aji Amarillo Hot Sauce from Peruvian Chile Peppers Recipe Herbivoracious    \n",
       "4413                                                                                                                                    2008 Olympics Torch Relay    \n",
       "6392                                                                                                              Delishhh Pumpkin Pie Snickerdoodle Bar Delishhh    \n",
       "6838                                                                                                                              Parsnip Carrot Soup Honest Fare    \n",
       "2954                                                                                                    Toroidal vortex gun Tricks ABC Science toroidal vortex gun   \n",
       "6161                                                                                                                   GET OFF YOUR BUTT AND BAKE S MORE CUPCAKES    \n",
       "4697                                                                       You Made THAT from a Girl Scout Cookie you made that from a girl scout cookie? momlogic   \n",
       "6695  Jim and John Harbaugh Sports Siblings Photos jim and john harbaugh sports siblings - si.com photos jim and john harbaugh - sports siblings - photos - si.com   \n",
       "\n",
       "      label  \n",
       "3553      0  \n",
       "4588      0  \n",
       "2092      1  \n",
       "4413      0  \n",
       "6392      1  \n",
       "6838      1  \n",
       "2954      0  \n",
       "6161      1  \n",
       "4697      1  \n",
       "6695      0  "
      ]
     },
     "execution_count": 14,
     "metadata": {},
     "output_type": "execute_result"
    }
   ],
   "source": [
    "# See 'title' column and target response 'label'\n",
    "green[['is_news', 'title', 'label']].sample(10)"
   ]
  },
  {
   "cell_type": "markdown",
   "metadata": {},
   "source": [
    "### 3. Does being a news site affect green-ness?\n",
    "\n",
    "**3.A Investigate with plots/EDA.**"
   ]
  },
  {
   "cell_type": "code",
   "execution_count": 15,
   "metadata": {},
   "outputs": [
    {
     "data": {
      "text/html": [
       "<div>\n",
       "<style scoped>\n",
       "    .dataframe tbody tr th:only-of-type {\n",
       "        vertical-align: middle;\n",
       "    }\n",
       "\n",
       "    .dataframe tbody tr th {\n",
       "        vertical-align: top;\n",
       "    }\n",
       "\n",
       "    .dataframe thead th {\n",
       "        text-align: right;\n",
       "    }\n",
       "</style>\n",
       "<table border=\"1\" class=\"dataframe\">\n",
       "  <thead>\n",
       "    <tr style=\"text-align: right;\">\n",
       "      <th></th>\n",
       "      <th>label</th>\n",
       "    </tr>\n",
       "    <tr>\n",
       "      <th>is_news</th>\n",
       "      <th></th>\n",
       "    </tr>\n",
       "  </thead>\n",
       "  <tbody>\n",
       "    <tr>\n",
       "      <td>0</td>\n",
       "      <td>0.507562</td>\n",
       "    </tr>\n",
       "    <tr>\n",
       "      <td>1</td>\n",
       "      <td>0.516916</td>\n",
       "    </tr>\n",
       "  </tbody>\n",
       "</table>\n",
       "</div>"
      ],
      "text/plain": [
       "            label\n",
       "is_news          \n",
       "0        0.507562\n",
       "1        0.516916"
      ]
     },
     "execution_count": 15,
     "metadata": {},
     "output_type": "execute_result"
    }
   ],
   "source": [
    "# Average of evergreen and not-evergreen sites, and whether it is news or not\n",
    "# There is not much difference whether it is news or not\n",
    "green.groupby('is_news')[['label']].mean()"
   ]
  },
  {
   "cell_type": "code",
   "execution_count": 16,
   "metadata": {},
   "outputs": [
    {
     "data": {
      "text/plain": [
       "<seaborn.axisgrid.FacetGrid at 0x1a3535f7a88>"
      ]
     },
     "execution_count": 16,
     "metadata": {},
     "output_type": "execute_result"
    },
    {
     "data": {
      "image/png": "[encoded data removed]",
      "text/plain": [
       "<Figure size 360x360 with 1 Axes>"
      ]
     },
     "metadata": {
      "needs_background": "light"
     },
     "output_type": "display_data"
    }
   ],
   "source": [
    "# Visually, effect of news item on green-ness is not significant\n",
    "sns.catplot(x='is_news', y='label', data=green, kind='bar')"
   ]
  },
  {
   "cell_type": "markdown",
   "metadata": {},
   "source": [
    "**3.B Test the hypothesis with a logistic regression using statsmodels.**\n",
    "\n",
    "> **Hint:** The `sm.logit` function from `statsmodels.formula.api` will perform a logistic regression using a formula string."
   ]
  },
  {
   "cell_type": "code",
   "execution_count": 17,
   "metadata": {},
   "outputs": [],
   "source": [
    "import statsmodels.formula.api as sm"
   ]
  },
  {
   "cell_type": "code",
   "execution_count": 18,
   "metadata": {},
   "outputs": [],
   "source": [
    "# Create variable of 'label' and 'is_news'\n",
    "news_data = green[['label', 'is_news']]"
   ]
  },
  {
   "cell_type": "code",
   "execution_count": 19,
   "metadata": {},
   "outputs": [
    {
     "name": "stdout",
     "output_type": "stream",
     "text": [
      "Optimization terminated successfully.\n",
      "         Current function value: 0.692751\n",
      "         Iterations 3\n"
     ]
    }
   ],
   "source": [
    "# Create model and fit (use formula string)\n",
    "news_model = sm.logit(\"label ~ is_news\", data=news_data).fit()"
   ]
  },
  {
   "cell_type": "markdown",
   "metadata": {},
   "source": [
    "**3.C Interpret the results of your model.**"
   ]
  },
  {
   "cell_type": "code",
   "execution_count": 20,
   "metadata": {},
   "outputs": [
    {
     "data": {
      "text/html": [
       "<table class=\"simpletable\">\n",
       "<caption>Logit Regression Results</caption>\n",
       "<tr>\n",
       "  <th>Dep. Variable:</th>         <td>label</td>      <th>  No. Observations:  </th>  <td>  7395</td>  \n",
       "</tr>\n",
       "<tr>\n",
       "  <th>Model:</th>                 <td>Logit</td>      <th>  Df Residuals:      </th>  <td>  7393</td>  \n",
       "</tr>\n",
       "<tr>\n",
       "  <th>Method:</th>                 <td>MLE</td>       <th>  Df Model:          </th>  <td>     1</td>  \n",
       "</tr>\n",
       "<tr>\n",
       "  <th>Date:</th>            <td>Fri, 01 Jul 2022</td> <th>  Pseudo R-squ.:     </th> <td>5.980e-05</td>\n",
       "</tr>\n",
       "<tr>\n",
       "  <th>Time:</th>                <td>11:15:11</td>     <th>  Log-Likelihood:    </th> <td> -5122.9</td> \n",
       "</tr>\n",
       "<tr>\n",
       "  <th>converged:</th>             <td>True</td>       <th>  LL-Null:           </th> <td> -5123.2</td> \n",
       "</tr>\n",
       "<tr>\n",
       "  <th>Covariance Type:</th>     <td>nonrobust</td>    <th>  LLR p-value:       </th>  <td>0.4337</td>  \n",
       "</tr>\n",
       "</table>\n",
       "<table class=\"simpletable\">\n",
       "<tr>\n",
       "      <td></td>         <th>coef</th>     <th>std err</th>      <th>z</th>      <th>P>|z|</th>  <th>[0.025</th>    <th>0.975]</th>  \n",
       "</tr>\n",
       "<tr>\n",
       "  <th>Intercept</th> <td>    0.0303</td> <td>    0.038</td> <td>    0.806</td> <td> 0.420</td> <td>   -0.043</td> <td>    0.104</td>\n",
       "</tr>\n",
       "<tr>\n",
       "  <th>is_news</th>   <td>    0.0374</td> <td>    0.048</td> <td>    0.783</td> <td> 0.434</td> <td>   -0.056</td> <td>    0.131</td>\n",
       "</tr>\n",
       "</table>"
      ],
      "text/plain": [
       "<class 'statsmodels.iolib.summary.Summary'>\n",
       "\"\"\"\n",
       "                           Logit Regression Results                           \n",
       "==============================================================================\n",
       "Dep. Variable:                  label   No. Observations:                 7395\n",
       "Model:                          Logit   Df Residuals:                     7393\n",
       "Method:                           MLE   Df Model:                            1\n",
       "Date:                Fri, 01 Jul 2022   Pseudo R-squ.:               5.980e-05\n",
       "Time:                        11:15:11   Log-Likelihood:                -5122.9\n",
       "converged:                       True   LL-Null:                       -5123.2\n",
       "Covariance Type:            nonrobust   LLR p-value:                    0.4337\n",
       "==============================================================================\n",
       "                 coef    std err          z      P>|z|      [0.025      0.975]\n",
       "------------------------------------------------------------------------------\n",
       "Intercept      0.0303      0.038      0.806      0.420      -0.043       0.104\n",
       "is_news        0.0374      0.048      0.783      0.434      -0.056       0.131\n",
       "==============================================================================\n",
       "\"\"\""
      ]
     },
     "execution_count": 20,
     "metadata": {},
     "output_type": "execute_result"
    }
   ],
   "source": [
    "# Summary\n",
    "news_model.summary()"
   ]
  },
  {
   "cell_type": "markdown",
   "metadata": {},
   "source": [
    "Based on this summary, we accept the null hypothesis that news and non-news site have equal probability of being evergreen.\n",
    "\n",
    "'Log-Likelihood : LL-Null' ratio is practically the same, i.e. your model is as good as the model without any predictors, which means 'is_news' is useless as a predictor!"
   ]
  },
  {
   "cell_type": "markdown",
   "metadata": {},
   "source": [
    "### 4. Does the website category affect green-ness?\n",
    "\n",
    "**4.A Investigate with plots/EDA.**"
   ]
  },
  {
   "cell_type": "code",
   "execution_count": 21,
   "metadata": {},
   "outputs": [
    {
     "data": {
      "text/plain": [
       "?                     2342\n",
       "recreation            1229\n",
       "arts_entertainment     941\n",
       "business               880\n",
       "health                 506\n",
       "sports                 380\n",
       "culture_politics       343\n",
       "computer_internet      296\n",
       "science_technology     289\n",
       "gaming                  76\n",
       "religion                72\n",
       "law_crime               31\n",
       "unknown                  6\n",
       "weather                  4\n",
       "Name: alchemy_category, dtype: int64"
      ]
     },
     "execution_count": 21,
     "metadata": {},
     "output_type": "execute_result"
    }
   ],
   "source": [
    "# Largest count is unknown\n",
    "green['alchemy_category'].value_counts()"
   ]
  },
  {
   "cell_type": "code",
   "execution_count": 22,
   "metadata": {},
   "outputs": [],
   "source": [
    "green['alchemy_category'].replace(to_replace='?', value='unknown', inplace=True)"
   ]
  },
  {
   "cell_type": "code",
   "execution_count": 23,
   "metadata": {},
   "outputs": [
    {
     "data": {
      "text/plain": [
       "<seaborn.axisgrid.FacetGrid at 0x1a3592ae7c8>"
      ]
     },
     "execution_count": 23,
     "metadata": {},
     "output_type": "execute_result"
    },
    {
     "data": {
      "image/png": "[encoded data removed]",
      "text/plain": [
       "<Figure size 1080x360 with 1 Axes>"
      ]
     },
     "metadata": {
      "needs_background": "light"
     },
     "output_type": "display_data"
    }
   ],
   "source": [
    "# Visually shows the number of observations in each category by obtaining the mean value for each one.\n",
    "sns.catplot(x='alchemy_category', y='label', data=green, kind='bar', aspect=3).set_xticklabels(rotation=45, horizontalalignment='right')"
   ]
  },
  {
   "cell_type": "code",
   "execution_count": 24,
   "metadata": {},
   "outputs": [],
   "source": [
    "# The black error lines at the top compute the confidence interval around the mean\n",
    "# Business, Recreation and Health seem to dominate evergreen sites"
   ]
  },
  {
   "cell_type": "markdown",
   "metadata": {},
   "source": [
    "**4.B Test the hypothesis with a logistic regression.**"
   ]
  },
  {
   "cell_type": "code",
   "execution_count": 25,
   "metadata": {},
   "outputs": [],
   "source": [
    "cat_data = green[['label', 'alchemy_category']]"
   ]
  },
  {
   "cell_type": "code",
   "execution_count": 26,
   "metadata": {},
   "outputs": [
    {
     "name": "stdout",
     "output_type": "stream",
     "text": [
      "Warning: Maximum number of iterations has been exceeded.\n",
      "         Current function value: 0.649499\n",
      "         Iterations: 35\n"
     ]
    },
    {
     "name": "stderr",
     "output_type": "stream",
     "text": [
      "C:\\Users\\shmel\\Anaconda3\\lib\\site-packages\\statsmodels\\base\\model.py:512: ConvergenceWarning: Maximum Likelihood optimization failed to converge. Check mle_retvals\n",
      "  \"Check mle_retvals\", ConvergenceWarning)\n"
     ]
    }
   ],
   "source": [
    "# Note! The reference category is set to be 'unknown'. This is wrapped into the intercept term. \n",
    "# Other categories must be interpreted as significantly different from unknown or not.\n",
    "cat_model = sm.logit(\"label ~ C(alchemy_category, Treatment(reference='unknown'))\", data=cat_data).fit()"
   ]
  },
  {
   "cell_type": "markdown",
   "metadata": {},
   "source": [
    "**4.C Interpret the model results.**"
   ]
  },
  {
   "cell_type": "code",
   "execution_count": 27,
   "metadata": {},
   "outputs": [
    {
     "data": {
      "text/html": [
       "<table class=\"simpletable\">\n",
       "<caption>Logit Regression Results</caption>\n",
       "<tr>\n",
       "  <th>Dep. Variable:</th>         <td>label</td>      <th>  No. Observations:  </th>   <td>  7395</td>  \n",
       "</tr>\n",
       "<tr>\n",
       "  <th>Model:</th>                 <td>Logit</td>      <th>  Df Residuals:      </th>   <td>  7382</td>  \n",
       "</tr>\n",
       "<tr>\n",
       "  <th>Method:</th>                 <td>MLE</td>       <th>  Df Model:          </th>   <td>    12</td>  \n",
       "</tr>\n",
       "<tr>\n",
       "  <th>Date:</th>            <td>Fri, 01 Jul 2022</td> <th>  Pseudo R-squ.:     </th>   <td>0.06249</td> \n",
       "</tr>\n",
       "<tr>\n",
       "  <th>Time:</th>                <td>11:17:16</td>     <th>  Log-Likelihood:    </th>  <td> -4803.0</td> \n",
       "</tr>\n",
       "<tr>\n",
       "  <th>converged:</th>             <td>False</td>      <th>  LL-Null:           </th>  <td> -5123.2</td> \n",
       "</tr>\n",
       "<tr>\n",
       "  <th>Covariance Type:</th>     <td>nonrobust</td>    <th>  LLR p-value:       </th> <td>2.585e-129</td>\n",
       "</tr>\n",
       "</table>\n",
       "<table class=\"simpletable\">\n",
       "<tr>\n",
       "                                      <td></td>                                         <th>coef</th>     <th>std err</th>      <th>z</th>      <th>P>|z|</th>  <th>[0.025</th>    <th>0.975]</th>  \n",
       "</tr>\n",
       "<tr>\n",
       "  <th>Intercept</th>                                                                 <td>    0.0068</td> <td>    0.041</td> <td>    0.165</td> <td> 0.869</td> <td>   -0.074</td> <td>    0.088</td>\n",
       "</tr>\n",
       "<tr>\n",
       "  <th>C(alchemy_category, Treatment(reference='unknown'))[T.arts_entertainment]</th> <td>   -0.5307</td> <td>    0.079</td> <td>   -6.711</td> <td> 0.000</td> <td>   -0.686</td> <td>   -0.376</td>\n",
       "</tr>\n",
       "<tr>\n",
       "  <th>C(alchemy_category, Treatment(reference='unknown'))[T.business]</th>           <td>    0.8952</td> <td>    0.085</td> <td>   10.522</td> <td> 0.000</td> <td>    0.728</td> <td>    1.062</td>\n",
       "</tr>\n",
       "<tr>\n",
       "  <th>C(alchemy_category, Treatment(reference='unknown'))[T.computer_internet]</th>  <td>   -1.1235</td> <td>    0.141</td> <td>   -7.967</td> <td> 0.000</td> <td>   -1.400</td> <td>   -0.847</td>\n",
       "</tr>\n",
       "<tr>\n",
       "  <th>C(alchemy_category, Treatment(reference='unknown'))[T.culture_politics]</th>   <td>   -0.1763</td> <td>    0.116</td> <td>   -1.520</td> <td> 0.128</td> <td>   -0.404</td> <td>    0.051</td>\n",
       "</tr>\n",
       "<tr>\n",
       "  <th>C(alchemy_category, Treatment(reference='unknown'))[T.gaming]</th>             <td>   -0.5458</td> <td>    0.241</td> <td>   -2.261</td> <td> 0.024</td> <td>   -1.019</td> <td>   -0.073</td>\n",
       "</tr>\n",
       "<tr>\n",
       "  <th>C(alchemy_category, Treatment(reference='unknown'))[T.health]</th>             <td>    0.2878</td> <td>    0.099</td> <td>    2.910</td> <td> 0.004</td> <td>    0.094</td> <td>    0.482</td>\n",
       "</tr>\n",
       "<tr>\n",
       "  <th>C(alchemy_category, Treatment(reference='unknown'))[T.law_crime]</th>          <td>   -0.3322</td> <td>    0.366</td> <td>   -0.907</td> <td> 0.364</td> <td>   -1.050</td> <td>    0.386</td>\n",
       "</tr>\n",
       "<tr>\n",
       "  <th>C(alchemy_category, Treatment(reference='unknown'))[T.recreation]</th>         <td>    0.7668</td> <td>    0.074</td> <td>   10.367</td> <td> 0.000</td> <td>    0.622</td> <td>    0.912</td>\n",
       "</tr>\n",
       "<tr>\n",
       "  <th>C(alchemy_category, Treatment(reference='unknown'))[T.religion]</th>           <td>   -0.3433</td> <td>    0.243</td> <td>   -1.415</td> <td> 0.157</td> <td>   -0.819</td> <td>    0.132</td>\n",
       "</tr>\n",
       "<tr>\n",
       "  <th>C(alchemy_category, Treatment(reference='unknown'))[T.science_technology]</th> <td>   -0.1803</td> <td>    0.125</td> <td>   -1.441</td> <td> 0.150</td> <td>   -0.425</td> <td>    0.065</td>\n",
       "</tr>\n",
       "<tr>\n",
       "  <th>C(alchemy_category, Treatment(reference='unknown'))[T.sports]</th>             <td>   -1.3605</td> <td>    0.134</td> <td>  -10.188</td> <td> 0.000</td> <td>   -1.622</td> <td>   -1.099</td>\n",
       "</tr>\n",
       "<tr>\n",
       "  <th>C(alchemy_category, Treatment(reference='unknown'))[T.weather]</th>            <td>  -18.1406</td> <td> 4331.829</td> <td>   -0.004</td> <td> 0.997</td> <td>-8508.369</td> <td> 8472.087</td>\n",
       "</tr>\n",
       "</table>"
      ],
      "text/plain": [
       "<class 'statsmodels.iolib.summary.Summary'>\n",
       "\"\"\"\n",
       "                           Logit Regression Results                           \n",
       "==============================================================================\n",
       "Dep. Variable:                  label   No. Observations:                 7395\n",
       "Model:                          Logit   Df Residuals:                     7382\n",
       "Method:                           MLE   Df Model:                           12\n",
       "Date:                Fri, 01 Jul 2022   Pseudo R-squ.:                 0.06249\n",
       "Time:                        11:17:16   Log-Likelihood:                -4803.0\n",
       "converged:                      False   LL-Null:                       -5123.2\n",
       "Covariance Type:            nonrobust   LLR p-value:                2.585e-129\n",
       "=============================================================================================================================================\n",
       "                                                                                coef    std err          z      P>|z|      [0.025      0.975]\n",
       "---------------------------------------------------------------------------------------------------------------------------------------------\n",
       "Intercept                                                                     0.0068      0.041      0.165      0.869      -0.074       0.088\n",
       "C(alchemy_category, Treatment(reference='unknown'))[T.arts_entertainment]    -0.5307      0.079     -6.711      0.000      -0.686      -0.376\n",
       "C(alchemy_category, Treatment(reference='unknown'))[T.business]               0.8952      0.085     10.522      0.000       0.728       1.062\n",
       "C(alchemy_category, Treatment(reference='unknown'))[T.computer_internet]     -1.1235      0.141     -7.967      0.000      -1.400      -0.847\n",
       "C(alchemy_category, Treatment(reference='unknown'))[T.culture_politics]      -0.1763      0.116     -1.520      0.128      -0.404       0.051\n",
       "C(alchemy_category, Treatment(reference='unknown'))[T.gaming]                -0.5458      0.241     -2.261      0.024      -1.019      -0.073\n",
       "C(alchemy_category, Treatment(reference='unknown'))[T.health]                 0.2878      0.099      2.910      0.004       0.094       0.482\n",
       "C(alchemy_category, Treatment(reference='unknown'))[T.law_crime]             -0.3322      0.366     -0.907      0.364      -1.050       0.386\n",
       "C(alchemy_category, Treatment(reference='unknown'))[T.recreation]             0.7668      0.074     10.367      0.000       0.622       0.912\n",
       "C(alchemy_category, Treatment(reference='unknown'))[T.religion]              -0.3433      0.243     -1.415      0.157      -0.819       0.132\n",
       "C(alchemy_category, Treatment(reference='unknown'))[T.science_technology]    -0.1803      0.125     -1.441      0.150      -0.425       0.065\n",
       "C(alchemy_category, Treatment(reference='unknown'))[T.sports]                -1.3605      0.134    -10.188      0.000      -1.622      -1.099\n",
       "C(alchemy_category, Treatment(reference='unknown'))[T.weather]              -18.1406   4331.829     -0.004      0.997   -8508.369    8472.087\n",
       "=============================================================================================================================================\n",
       "\"\"\""
      ]
     },
     "execution_count": 27,
     "metadata": {},
     "output_type": "execute_result"
    }
   ],
   "source": [
    "cat_model.summary()"
   ]
  },
  {
   "cell_type": "code",
   "execution_count": 28,
   "metadata": {},
   "outputs": [],
   "source": [
    "# Many of the categories appear to have a significant effect on the likelihood of evergreen status. \n",
    "# Note! The reference category is set to be 'unknown'. This is wrapped into the intercept term. \n",
    "# Other categories must be interpreted as significantly different from unknown or not.\n",
    "\n",
    "# Positive predictors of evergreen vs. unknown, based on coefficient values:\n",
    "# 1. Business\n",
    "# 2. Health\n",
    "# 3. Recreation\n",
    "\n",
    "# Negative predictors of evergreen vs. unknown, based on coefficient values:\n",
    "# 1. Arts and entertainment\n",
    "# 2. Computer and internet\n",
    "# 3. Gaming\n",
    "# 4. Sports\n",
    "\n",
    "# The rest of the categories, like culture and politics or law and crime or religion or weather, based on p-value (P>|z|),\n",
    "# are not significantly different from 'unknown' in their probability of being evergreen or not (should be lower than 0.05)"
   ]
  },
  {
   "cell_type": "markdown",
   "metadata": {},
   "source": [
    "### 5. Does the image ratio affect green-ness?\n",
    "\n",
    "**5.A Investigate with plots/EDA.**"
   ]
  },
  {
   "cell_type": "code",
   "execution_count": 29,
   "metadata": {},
   "outputs": [
    {
     "data": {
      "text/plain": [
       "label\n",
       "0    0.309741\n",
       "1    0.243443\n",
       "Name: image_ratio, dtype: float64"
      ]
     },
     "execution_count": 29,
     "metadata": {},
     "output_type": "execute_result"
    }
   ],
   "source": [
    "# Initial difference in mean between green and non-green\n",
    "green.groupby('label')['image_ratio'].mean()"
   ]
  },
  {
   "cell_type": "code",
   "execution_count": 30,
   "metadata": {},
   "outputs": [
    {
     "data": {
      "text/plain": [
       "<matplotlib.axes._subplots.AxesSubplot at 0x1a359466c88>"
      ]
     },
     "execution_count": 30,
     "metadata": {},
     "output_type": "execute_result"
    },
    {
     "data": {
      "image/png": "[encoded data removed]",
      "text/plain": [
       "<Figure size 432x288 with 1 Axes>"
      ]
     },
     "metadata": {
      "needs_background": "light"
     },
     "output_type": "display_data"
    }
   ],
   "source": [
    "# Plotting distribution of image_ratio - not very useful as distribution is squashed together \n",
    "# Could use bins parameter to show better representation...\n",
    "sns.distplot(green['image_ratio'], color='purple')"
   ]
  },
  {
   "cell_type": "code",
   "execution_count": 31,
   "metadata": {},
   "outputs": [],
   "source": [
    "# qcut divides data up into percentiles - in this case into 5 equally-sized bins - to spread out distribution\n",
    "green['image_ratio_qbinned'] = pd.qcut(green['image_ratio'], 5)"
   ]
  },
  {
   "cell_type": "code",
   "execution_count": 32,
   "metadata": {},
   "outputs": [
    {
     "data": {
      "text/plain": [
       "(0.124, 0.314]      1480\n",
       "(0.0562, 0.124]     1479\n",
       "(0.0189, 0.0562]    1479\n",
       "(-1.001, 0.0189]    1479\n",
       "(0.314, 113.333]    1478\n",
       "Name: image_ratio_qbinned, dtype: int64"
      ]
     },
     "execution_count": 32,
     "metadata": {},
     "output_type": "execute_result"
    }
   ],
   "source": [
    "green['image_ratio_qbinned'].value_counts()"
   ]
  },
  {
   "cell_type": "code",
   "execution_count": 33,
   "metadata": {},
   "outputs": [
    {
     "data": {
      "text/plain": [
       "<seaborn.axisgrid.FacetGrid at 0x1a35949bec8>"
      ]
     },
     "execution_count": 33,
     "metadata": {},
     "output_type": "execute_result"
    },
    {
     "data": {
      "image/png": "[encoded data removed]",
      "text/plain": [
       "<Figure size 720x360 with 1 Axes>"
      ]
     },
     "metadata": {
      "needs_background": "light"
     },
     "output_type": "display_data"
    }
   ],
   "source": [
    "# Plot shows greater distribution of images towards green-ness within 0.0562-0.124 range\n",
    "sns.catplot('image_ratio_qbinned', 'label', data=green, kind='point', aspect=2).set_xticklabels(rotation=45, horizontalalignment='right')"
   ]
  },
  {
   "cell_type": "markdown",
   "metadata": {},
   "source": [
    "**5.B Test the hypothesis using a logistic regression.**\n",
    "\n",
    "> **Note**: It is worth thinking about how to best represent this variable. It may not be wise to input the image ratio as-is."
   ]
  },
  {
   "cell_type": "code",
   "execution_count": 34,
   "metadata": {},
   "outputs": [],
   "source": [
    "# Convert image_ratio values to percentiles (what qcut is representing in bins) using stats.percentileofscore:\n",
    "from scipy import stats\n",
    "\n",
    "green['image_ratio_pctl'] = green.image_ratio.map(lambda x: stats.percentileofscore(green.image_ratio.values, x))"
   ]
  },
  {
   "cell_type": "code",
   "execution_count": 35,
   "metadata": {},
   "outputs": [
    {
     "data": {
      "text/plain": [
       "0       11.210277\n",
       "1       51.737661\n",
       "2       59.371197\n",
       "3       30.155510\n",
       "4       37.288709\n",
       "          ...    \n",
       "7390    36.362407\n",
       "7391    73.793103\n",
       "7392    85.997295\n",
       "7393     4.672076\n",
       "7394    94.158215\n",
       "Name: image_ratio_pctl, Length: 7395, dtype: float64"
      ]
     },
     "execution_count": 35,
     "metadata": {},
     "output_type": "execute_result"
    }
   ],
   "source": [
    "# i.e. each value is assigned percentile value\n",
    "green['image_ratio_pctl']"
   ]
  },
  {
   "cell_type": "code",
   "execution_count": 36,
   "metadata": {},
   "outputs": [
    {
     "data": {
      "text/plain": [
       "<matplotlib.axes._subplots.AxesSubplot at 0x1a353dbd6c8>"
      ]
     },
     "execution_count": 36,
     "metadata": {},
     "output_type": "execute_result"
    },
    {
     "data": {
      "image/png": "[encoded data removed]",
      "text/plain": [
       "<Figure size 432x288 with 1 Axes>"
      ]
     },
     "metadata": {
      "needs_background": "light"
     },
     "output_type": "display_data"
    }
   ],
   "source": [
    "# Only 5-10% of websites have higher image ratio and rest fall in the median range - this may be more useful predictor\n",
    "sns.distplot(green['image_ratio_pctl'], color='purple')"
   ]
  },
  {
   "cell_type": "code",
   "execution_count": 37,
   "metadata": {},
   "outputs": [],
   "source": [
    "image_data = green[['label', 'image_ratio_pctl']]"
   ]
  },
  {
   "cell_type": "code",
   "execution_count": 38,
   "metadata": {},
   "outputs": [
    {
     "name": "stdout",
     "output_type": "stream",
     "text": [
      "Optimization terminated successfully.\n",
      "         Current function value: 0.692458\n",
      "         Iterations 3\n"
     ]
    }
   ],
   "source": [
    "image_model = sm.logit(\"label ~ image_ratio_pctl\", data=image_data).fit()"
   ]
  },
  {
   "cell_type": "markdown",
   "metadata": {},
   "source": [
    "**5.C Interpret the model.**"
   ]
  },
  {
   "cell_type": "code",
   "execution_count": 39,
   "metadata": {},
   "outputs": [
    {
     "data": {
      "text/html": [
       "<table class=\"simpletable\">\n",
       "<caption>Logit Regression Results</caption>\n",
       "<tr>\n",
       "  <th>Dep. Variable:</th>         <td>label</td>      <th>  No. Observations:  </th>  <td>  7395</td>  \n",
       "</tr>\n",
       "<tr>\n",
       "  <th>Model:</th>                 <td>Logit</td>      <th>  Df Residuals:      </th>  <td>  7393</td>  \n",
       "</tr>\n",
       "<tr>\n",
       "  <th>Method:</th>                 <td>MLE</td>       <th>  Df Model:          </th>  <td>     1</td>  \n",
       "</tr>\n",
       "<tr>\n",
       "  <th>Date:</th>            <td>Fri, 01 Jul 2022</td> <th>  Pseudo R-squ.:     </th> <td>0.0004832</td>\n",
       "</tr>\n",
       "<tr>\n",
       "  <th>Time:</th>                <td>11:18:16</td>     <th>  Log-Likelihood:    </th> <td> -5120.7</td> \n",
       "</tr>\n",
       "<tr>\n",
       "  <th>converged:</th>             <td>True</td>       <th>  LL-Null:           </th> <td> -5123.2</td> \n",
       "</tr>\n",
       "<tr>\n",
       "  <th>Covariance Type:</th>     <td>nonrobust</td>    <th>  LLR p-value:       </th>  <td>0.02607</td> \n",
       "</tr>\n",
       "</table>\n",
       "<table class=\"simpletable\">\n",
       "<tr>\n",
       "          <td></td>            <th>coef</th>     <th>std err</th>      <th>z</th>      <th>P>|z|</th>  <th>[0.025</th>    <th>0.975]</th>  \n",
       "</tr>\n",
       "<tr>\n",
       "  <th>Intercept</th>        <td>    0.1431</td> <td>    0.047</td> <td>    3.070</td> <td> 0.002</td> <td>    0.052</td> <td>    0.234</td>\n",
       "</tr>\n",
       "<tr>\n",
       "  <th>image_ratio_pctl</th> <td>   -0.0018</td> <td>    0.001</td> <td>   -2.224</td> <td> 0.026</td> <td>   -0.003</td> <td>   -0.000</td>\n",
       "</tr>\n",
       "</table>"
      ],
      "text/plain": [
       "<class 'statsmodels.iolib.summary.Summary'>\n",
       "\"\"\"\n",
       "                           Logit Regression Results                           \n",
       "==============================================================================\n",
       "Dep. Variable:                  label   No. Observations:                 7395\n",
       "Model:                          Logit   Df Residuals:                     7393\n",
       "Method:                           MLE   Df Model:                            1\n",
       "Date:                Fri, 01 Jul 2022   Pseudo R-squ.:               0.0004832\n",
       "Time:                        11:18:16   Log-Likelihood:                -5120.7\n",
       "converged:                       True   LL-Null:                       -5123.2\n",
       "Covariance Type:            nonrobust   LLR p-value:                   0.02607\n",
       "====================================================================================\n",
       "                       coef    std err          z      P>|z|      [0.025      0.975]\n",
       "------------------------------------------------------------------------------------\n",
       "Intercept            0.1431      0.047      3.070      0.002       0.052       0.234\n",
       "image_ratio_pctl    -0.0018      0.001     -2.224      0.026      -0.003      -0.000\n",
       "====================================================================================\n",
       "\"\"\""
      ]
     },
     "execution_count": 39,
     "metadata": {},
     "output_type": "execute_result"
    }
   ],
   "source": [
    "# Using log-likelihood and LL-Null, this is still ignoring non-linearity i.e. no significant effect on green-ness\n",
    "image_model.summary()"
   ]
  },
  {
   "cell_type": "code",
   "execution_count": 40,
   "metadata": {},
   "outputs": [],
   "source": [
    "# Another option is to fit model with percentile value PLUS the percentile squared (i.e. quadratic regression effect)\n",
    "# This will let us model an inverse parabola \n",
    "# A quadratic regression is the process of finding the equation of the parabola that best fits a set of data."
   ]
  },
  {
   "cell_type": "code",
   "execution_count": 41,
   "metadata": {},
   "outputs": [
    {
     "name": "stdout",
     "output_type": "stream",
     "text": [
      "Optimization terminated successfully.\n",
      "         Current function value: 0.686094\n",
      "         Iterations 4\n"
     ]
    }
   ],
   "source": [
    "image_model = sm.logit(\"label ~ image_ratio_pctl + np.power(image_ratio_pctl, 2)\", data=green).fit()"
   ]
  },
  {
   "cell_type": "code",
   "execution_count": 42,
   "metadata": {},
   "outputs": [
    {
     "data": {
      "text/html": [
       "<table class=\"simpletable\">\n",
       "<caption>Logit Regression Results</caption>\n",
       "<tr>\n",
       "  <th>Dep. Variable:</th>         <td>label</td>      <th>  No. Observations:  </th>  <td>  7395</td>  \n",
       "</tr>\n",
       "<tr>\n",
       "  <th>Model:</th>                 <td>Logit</td>      <th>  Df Residuals:      </th>  <td>  7392</td>  \n",
       "</tr>\n",
       "<tr>\n",
       "  <th>Method:</th>                 <td>MLE</td>       <th>  Df Model:          </th>  <td>     2</td>  \n",
       "</tr>\n",
       "<tr>\n",
       "  <th>Date:</th>            <td>Fri, 01 Jul 2022</td> <th>  Pseudo R-squ.:     </th> <td>0.009668</td> \n",
       "</tr>\n",
       "<tr>\n",
       "  <th>Time:</th>                <td>11:18:21</td>     <th>  Log-Likelihood:    </th> <td> -5073.7</td> \n",
       "</tr>\n",
       "<tr>\n",
       "  <th>converged:</th>             <td>True</td>       <th>  LL-Null:           </th> <td> -5123.2</td> \n",
       "</tr>\n",
       "<tr>\n",
       "  <th>Covariance Type:</th>     <td>nonrobust</td>    <th>  LLR p-value:       </th> <td>3.084e-22</td>\n",
       "</tr>\n",
       "</table>\n",
       "<table class=\"simpletable\">\n",
       "<tr>\n",
       "                <td></td>                   <th>coef</th>     <th>std err</th>      <th>z</th>      <th>P>|z|</th>  <th>[0.025</th>    <th>0.975]</th>  \n",
       "</tr>\n",
       "<tr>\n",
       "  <th>Intercept</th>                     <td>   -0.3687</td> <td>    0.071</td> <td>   -5.219</td> <td> 0.000</td> <td>   -0.507</td> <td>   -0.230</td>\n",
       "</tr>\n",
       "<tr>\n",
       "  <th>image_ratio_pctl</th>              <td>    0.0289</td> <td>    0.003</td> <td>    8.808</td> <td> 0.000</td> <td>    0.022</td> <td>    0.035</td>\n",
       "</tr>\n",
       "<tr>\n",
       "  <th>np.power(image_ratio_pctl, 2)</th> <td>   -0.0003</td> <td> 3.18e-05</td> <td>   -9.644</td> <td> 0.000</td> <td>   -0.000</td> <td>   -0.000</td>\n",
       "</tr>\n",
       "</table>"
      ],
      "text/plain": [
       "<class 'statsmodels.iolib.summary.Summary'>\n",
       "\"\"\"\n",
       "                           Logit Regression Results                           \n",
       "==============================================================================\n",
       "Dep. Variable:                  label   No. Observations:                 7395\n",
       "Model:                          Logit   Df Residuals:                     7392\n",
       "Method:                           MLE   Df Model:                            2\n",
       "Date:                Fri, 01 Jul 2022   Pseudo R-squ.:                0.009668\n",
       "Time:                        11:18:21   Log-Likelihood:                -5073.7\n",
       "converged:                       True   LL-Null:                       -5123.2\n",
       "Covariance Type:            nonrobust   LLR p-value:                 3.084e-22\n",
       "=================================================================================================\n",
       "                                    coef    std err          z      P>|z|      [0.025      0.975]\n",
       "-------------------------------------------------------------------------------------------------\n",
       "Intercept                        -0.3687      0.071     -5.219      0.000      -0.507      -0.230\n",
       "image_ratio_pctl                  0.0289      0.003      8.808      0.000       0.022       0.035\n",
       "np.power(image_ratio_pctl, 2)    -0.0003   3.18e-05     -9.644      0.000      -0.000      -0.000\n",
       "=================================================================================================\n",
       "\"\"\""
      ]
     },
     "execution_count": 42,
     "metadata": {},
     "output_type": "execute_result"
    }
   ],
   "source": [
    "image_model.summary()"
   ]
  },
  {
   "cell_type": "code",
   "execution_count": 43,
   "metadata": {},
   "outputs": [],
   "source": [
    "# Now we see more significant effects on green-ness:\n",
    "# 1. There is a positive effect of the image ratio percentile score (i.e. its rank across image_ratios), based on coefficient\n",
    "# Also p-value improved\n",
    "\n",
    "# 2. There is a negative quadratic effect of image ratio, based on coefficient\n",
    "# This means, at a certain point, the squared term of image_ratio_pctl overtakes the linear term. \n",
    "\n",
    "# The highest probability of evergreen sites have image ratios in the median range (0.022-0.035)"
   ]
  },
  {
   "cell_type": "markdown",
   "metadata": {},
   "source": [
    "### 6. Fit a logistic regression with multiple predictors.\n",
    "- The choice of predictors is up to you. Test features you think may be valuable to predict evergreen status.\n",
    "- Do any EDA you may need.\n",
    "- Interpret the coefficients of the model.\n",
    "\n",
    "> **Tip:** [This pdf is very useful for an overview of interpreting logistic regression coefficients.](https://www.unm.edu/~schrader/biostat/bio2/Spr06/lec11.pdf)"
   ]
  },
  {
   "cell_type": "markdown",
   "metadata": {},
   "source": [
    "#### 'html_ratio' EDA"
   ]
  },
  {
   "cell_type": "code",
   "execution_count": 44,
   "metadata": {},
   "outputs": [
    {
     "data": {
      "text/plain": [
       "<matplotlib.axes._subplots.AxesSubplot at 0x1a3595625c8>"
      ]
     },
     "execution_count": 44,
     "metadata": {},
     "output_type": "execute_result"
    },
    {
     "data": {
      "image/png": "[encoded data removed]",
      "text/plain": [
       "<Figure size 432x288 with 1 Axes>"
      ]
     },
     "metadata": {
      "needs_background": "light"
     },
     "output_type": "display_data"
    }
   ],
   "source": [
    "# 'html_ratio' distribution as-is, with normal distribution showing that data around the mean is more frequently-occurring\n",
    "# Shows the greatest distribution between 0.15 and 0.25\n",
    "sns.distplot(green['html_ratio'], color='purple')"
   ]
  },
  {
   "cell_type": "code",
   "execution_count": 45,
   "metadata": {},
   "outputs": [
    {
     "data": {
      "text/plain": [
       "<seaborn.axisgrid.FacetGrid at 0x1a35acd3a08>"
      ]
     },
     "execution_count": 45,
     "metadata": {},
     "output_type": "execute_result"
    },
    {
     "data": {
      "image/png": "[encoded data removed]",
      "text/plain": [
       "<Figure size 720x360 with 1 Axes>"
      ]
     },
     "metadata": {
      "needs_background": "light"
     },
     "output_type": "display_data"
    }
   ],
   "source": [
    "# Lets divide html_ratio equally among 5 bins - shows negative linear trend\n",
    "green['html_ratio_qbinned'] = pd.qcut(green['html_ratio'], 5)\n",
    "sns.catplot('html_ratio_qbinned', 'label', data=green, kind='point', aspect=2).set_xticklabels(rotation=45, horizontalalignment='right')"
   ]
  },
  {
   "cell_type": "code",
   "execution_count": 46,
   "metadata": {},
   "outputs": [
    {
     "data": {
      "text/plain": [
       "<seaborn.axisgrid.FacetGrid at 0x1a35ac58d88>"
      ]
     },
     "execution_count": 46,
     "metadata": {},
     "output_type": "execute_result"
    },
    {
     "data": {
      "image/png": "[encoded data removed]",
      "text/plain": [
       "<Figure size 720x360 with 1 Axes>"
      ]
     },
     "metadata": {
      "needs_background": "light"
     },
     "output_type": "display_data"
    }
   ],
   "source": [
    "# Lets divide the range of data up into 5 bins - \n",
    "green['html_ratio_binned'] = pd.cut(green['html_ratio'], 5)\n",
    "sns.catplot('html_ratio_binned', 'label', data=green, kind='point', aspect=2).set_xticklabels(rotation=45, horizontalalignment='right')"
   ]
  },
  {
   "cell_type": "code",
   "execution_count": 47,
   "metadata": {},
   "outputs": [],
   "source": [
    "# Lets create column of percentile scores for html_ratio values\n",
    "green['html_ratio_pctl'] = green.html_ratio.map(lambda x: stats.percentileofscore(green.html_ratio.values, x))"
   ]
  },
  {
   "cell_type": "code",
   "execution_count": 48,
   "metadata": {},
   "outputs": [
    {
     "data": {
      "text/plain": [
       "<matplotlib.axes._subplots.AxesSubplot at 0x1a35af7dd48>"
      ]
     },
     "execution_count": 48,
     "metadata": {},
     "output_type": "execute_result"
    },
    {
     "data": {
      "image/png": "[encoded data removed]",
      "text/plain": [
       "<Figure size 432x288 with 1 Axes>"
      ]
     },
     "metadata": {
      "needs_background": "light"
     },
     "output_type": "display_data"
    }
   ],
   "source": [
    "# Strong symmetric distribution so the majority of data points are close to mean percentile value\n",
    "sns.distplot(green['html_ratio_pctl'], color='purple')"
   ]
  },
  {
   "cell_type": "markdown",
   "metadata": {},
   "source": [
    "#### 'title' EDA"
   ]
  },
  {
   "cell_type": "code",
   "execution_count": 49,
   "metadata": {},
   "outputs": [],
   "source": [
    "# Lets calculate the number of words in the title and plot distribution\n",
    "def title_len(x):\n",
    "    try:\n",
    "        return len(x.split())\n",
    "    except:\n",
    "        return 0."
   ]
  },
  {
   "cell_type": "code",
   "execution_count": 50,
   "metadata": {},
   "outputs": [
    {
     "data": {
      "text/plain": [
       "<matplotlib.axes._subplots.AxesSubplot at 0x1a35af71388>"
      ]
     },
     "execution_count": 50,
     "metadata": {},
     "output_type": "execute_result"
    },
    {
     "data": {
      "image/png": "[encoded data removed]",
      "text/plain": [
       "<Figure size 432x288 with 1 Axes>"
      ]
     },
     "metadata": {
      "needs_background": "light"
     },
     "output_type": "display_data"
    }
   ],
   "source": [
    "green['title_words'] = green.title.map(title_len)\n",
    "sns.distplot(green.title_words, bins=30, kde=False)"
   ]
  },
  {
   "cell_type": "code",
   "execution_count": 51,
   "metadata": {},
   "outputs": [],
   "source": [
    "# This shows that the average word length lies between 5-10 words, right-skewed showing mean is greater than median score\n",
    "# Shorter, punchier titles would be easier to interpret"
   ]
  },
  {
   "cell_type": "markdown",
   "metadata": {},
   "source": [
    "#### Logistic Regression model\n",
    "\n",
    "I will use the following predictors to predict green-ness of website because they showed most signficant effects on green-ness:\n",
    "\n",
    "- image_ratio_pctl PLUS quadratic effect,\n",
    "- html_ratio_pctl,\n",
    "- title_words\n"
   ]
  },
  {
   "cell_type": "code",
   "execution_count": 52,
   "metadata": {},
   "outputs": [],
   "source": [
    "f = '''\n",
    "label ~ image_ratio_pctl + np.power(image_ratio_pctl, 2) + html_ratio_pctl + title_words\n",
    "'''"
   ]
  },
  {
   "cell_type": "code",
   "execution_count": 53,
   "metadata": {},
   "outputs": [
    {
     "name": "stdout",
     "output_type": "stream",
     "text": [
      "Optimization terminated successfully.\n",
      "         Current function value: 0.667797\n",
      "         Iterations 5\n"
     ]
    }
   ],
   "source": [
    "log_model = sm.logit(f, data=green).fit()"
   ]
  },
  {
   "cell_type": "code",
   "execution_count": 54,
   "metadata": {},
   "outputs": [
    {
     "data": {
      "text/html": [
       "<table class=\"simpletable\">\n",
       "<caption>Logit Regression Results</caption>\n",
       "<tr>\n",
       "  <th>Dep. Variable:</th>         <td>label</td>      <th>  No. Observations:  </th>  <td>  7395</td>  \n",
       "</tr>\n",
       "<tr>\n",
       "  <th>Model:</th>                 <td>Logit</td>      <th>  Df Residuals:      </th>  <td>  7390</td>  \n",
       "</tr>\n",
       "<tr>\n",
       "  <th>Method:</th>                 <td>MLE</td>       <th>  Df Model:          </th>  <td>     4</td>  \n",
       "</tr>\n",
       "<tr>\n",
       "  <th>Date:</th>            <td>Fri, 01 Jul 2022</td> <th>  Pseudo R-squ.:     </th>  <td>0.03608</td> \n",
       "</tr>\n",
       "<tr>\n",
       "  <th>Time:</th>                <td>11:19:01</td>     <th>  Log-Likelihood:    </th> <td> -4938.4</td> \n",
       "</tr>\n",
       "<tr>\n",
       "  <th>converged:</th>             <td>True</td>       <th>  LL-Null:           </th> <td> -5123.2</td> \n",
       "</tr>\n",
       "<tr>\n",
       "  <th>Covariance Type:</th>     <td>nonrobust</td>    <th>  LLR p-value:       </th> <td>9.885e-79</td>\n",
       "</tr>\n",
       "</table>\n",
       "<table class=\"simpletable\">\n",
       "<tr>\n",
       "                <td></td>                   <th>coef</th>     <th>std err</th>      <th>z</th>      <th>P>|z|</th>  <th>[0.025</th>    <th>0.975]</th>  \n",
       "</tr>\n",
       "<tr>\n",
       "  <th>Intercept</th>                     <td>    0.3855</td> <td>    0.096</td> <td>    4.015</td> <td> 0.000</td> <td>    0.197</td> <td>    0.574</td>\n",
       "</tr>\n",
       "<tr>\n",
       "  <th>image_ratio_pctl</th>              <td>    0.0382</td> <td>    0.003</td> <td>   11.181</td> <td> 0.000</td> <td>    0.031</td> <td>    0.045</td>\n",
       "</tr>\n",
       "<tr>\n",
       "  <th>np.power(image_ratio_pctl, 2)</th> <td>   -0.0004</td> <td> 3.31e-05</td> <td>  -12.514</td> <td> 0.000</td> <td>   -0.000</td> <td>   -0.000</td>\n",
       "</tr>\n",
       "<tr>\n",
       "  <th>html_ratio_pctl</th>               <td>   -0.0078</td> <td>    0.001</td> <td>   -8.438</td> <td> 0.000</td> <td>   -0.010</td> <td>   -0.006</td>\n",
       "</tr>\n",
       "<tr>\n",
       "  <th>title_words</th>                   <td>   -0.0446</td> <td>    0.003</td> <td>  -13.928</td> <td> 0.000</td> <td>   -0.051</td> <td>   -0.038</td>\n",
       "</tr>\n",
       "</table>"
      ],
      "text/plain": [
       "<class 'statsmodels.iolib.summary.Summary'>\n",
       "\"\"\"\n",
       "                           Logit Regression Results                           \n",
       "==============================================================================\n",
       "Dep. Variable:                  label   No. Observations:                 7395\n",
       "Model:                          Logit   Df Residuals:                     7390\n",
       "Method:                           MLE   Df Model:                            4\n",
       "Date:                Fri, 01 Jul 2022   Pseudo R-squ.:                 0.03608\n",
       "Time:                        11:19:01   Log-Likelihood:                -4938.4\n",
       "converged:                       True   LL-Null:                       -5123.2\n",
       "Covariance Type:            nonrobust   LLR p-value:                 9.885e-79\n",
       "=================================================================================================\n",
       "                                    coef    std err          z      P>|z|      [0.025      0.975]\n",
       "-------------------------------------------------------------------------------------------------\n",
       "Intercept                         0.3855      0.096      4.015      0.000       0.197       0.574\n",
       "image_ratio_pctl                  0.0382      0.003     11.181      0.000       0.031       0.045\n",
       "np.power(image_ratio_pctl, 2)    -0.0004   3.31e-05    -12.514      0.000      -0.000      -0.000\n",
       "html_ratio_pctl                  -0.0078      0.001     -8.438      0.000      -0.010      -0.006\n",
       "title_words                      -0.0446      0.003    -13.928      0.000      -0.051      -0.038\n",
       "=================================================================================================\n",
       "\"\"\""
      ]
     },
     "execution_count": 54,
     "metadata": {},
     "output_type": "execute_result"
    }
   ],
   "source": [
    "log_model.summary()"
   ]
  },
  {
   "cell_type": "code",
   "execution_count": 55,
   "metadata": {},
   "outputs": [
    {
     "data": {
      "text/plain": [
       "Intercept                        1.470349\n",
       "image_ratio_pctl                 1.038888\n",
       "np.power(image_ratio_pctl, 2)    0.999585\n",
       "html_ratio_pctl                  0.992222\n",
       "title_words                      0.956410\n",
       "dtype: float64"
      ]
     },
     "execution_count": 55,
     "metadata": {},
     "output_type": "execute_result"
    }
   ],
   "source": [
    "# We've got all significant effects on our predictors here - see p-value under 0.05\n",
    "# Lets exponentiate coefficients to odds ratios to better describe the relationship between predictor and target\n",
    "np.exp(log_model.params)"
   ]
  },
  {
   "cell_type": "markdown",
   "metadata": {},
   "source": [
    "* For 1 percentile increase in 'image_ratio', there is approx 1.038x increase in the odds of evergreen (more likely to occur)\n",
    "* For 1 unit increase in 'image_ratio_pctl ** 2', there is approx 0.999x decrease in the odds of evergreen (less likely to occur)\n",
    "* For 1 percentile increase in 'html_ratio', there is approx 0.992x decrease in the odds of evergreen (less likely to occur)\n",
    "* For 1 word increase in the length of the title, there is approx 0.956x decrease in the odds of evergreen (less likely to occur)"
   ]
  },
  {
   "cell_type": "code",
   "execution_count": null,
   "metadata": {},
   "outputs": [],
   "source": []
  }
 ],
 "metadata": {
  "anaconda-cloud": {},
  "kernelspec": {
   "display_name": "Python 3",
   "language": "python",
   "name": "python3"
  },
  "language_info": {
   "codemirror_mode": {
    "name": "ipython",
    "version": 3
   },
   "file_extension": ".py",
   "mimetype": "text/x-python",
   "name": "python",
   "nbconvert_exporter": "python",
   "pygments_lexer": "ipython3",
   "version": "3.7.4"
  }
 },
 "nbformat": 4,
 "nbformat_minor": 1
}
