{
 "cells": [
  {
   "cell_type": "markdown",
   "metadata": {},
   "source": [
    "<img src=\"http://imgur.com/1ZcRyrc.png\" style=\"float: left; margin: 20px; height: 55px\">\n",
    "\n",
    "## Python Review With Movie Data\n",
    "\n",
    "_Author: Kiefer Katovich and Dave Yerrington (San Francisco)\n",
    "\n",
    "---\n",
    "\n",
    "In this lab, you'll be using the [IMDb](http://www.imdb.com/) `movies` list below as your data set. \n",
    "\n",
    "This lab is designed to help you practice iteration and functions in particular. The normal questions are more gentle, and the challenge questions are suitable for advanced/expert Python students or those with programming experience. \n",
    "\n",
    "All of the questions require writing functions and using iteration to solve. You should print out a test of each function you write.\n",
    "\n",
    "\n",
    "### 1) Load the provided list of `movies` dictionaries."
   ]
  },
  {
   "cell_type": "code",
   "execution_count": 2,
   "metadata": {},
   "outputs": [],
   "source": [
    "# List of movies dictionaries:\n",
    "from operator import itemgetter\n",
    "import numpy as np\n",
    "\n",
    "movies = [\n",
    "{\n",
    "\"name\": \"Usual Suspects\", \n",
    "\"imdb\": 7.0,\n",
    "\"category\": \"Thriller\"\n",
    "},\n",
    "{\n",
    "\"name\": \"Hitman\",\n",
    "\"imdb\": 6.3,\n",
    "\"category\": \"Action\"\n",
    "},\n",
    "{\n",
    "\"name\": \"Dark Knight\",\n",
    "\"imdb\": 9.0,\n",
    "\"category\": \"Adventure\"\n",
    "},\n",
    "{\n",
    "\"name\": \"The Help\",\n",
    "\"imdb\": 8.0,\n",
    "\"category\": \"Drama\"\n",
    "},\n",
    "{\n",
    "\"name\": \"The Choice\",\n",
    "\"imdb\": 6.2,\n",
    "\"category\": \"Romance\"\n",
    "},\n",
    "{\n",
    "\"name\": \"Colonia\",\n",
    "\"imdb\": 7.4,\n",
    "\"category\": \"Romance\"\n",
    "},\n",
    "{\n",
    "\"name\": \"Love\",\n",
    "\"imdb\": 6.0,\n",
    "\"category\": \"Romance\"\n",
    "},\n",
    "{\n",
    "\"name\": \"Bride Wars\",\n",
    "\"imdb\": 5.4,\n",
    "\"category\": \"Romance\"\n",
    "},\n",
    "{\n",
    "\"name\": \"AlphaJet\",\n",
    "\"imdb\": 3.2,\n",
    "\"category\": \"War\"\n",
    "},\n",
    "{\n",
    "\"name\": \"Ringing Crime\",\n",
    "\"imdb\": 4.0,\n",
    "\"category\": \"Crime\"\n",
    "},\n",
    "{\n",
    "\"name\": \"Joking muck\",\n",
    "\"imdb\": 7.2,\n",
    "\"category\": \"Comedy\"\n",
    "},\n",
    "{\n",
    "\"name\": \"What is the name\",\n",
    "\"imdb\": 9.2,\n",
    "\"category\": \"Suspense\"\n",
    "},\n",
    "{\n",
    "\"name\": \"Detective\",\n",
    "\"imdb\": 7.0,\n",
    "\"category\": \"Suspense\"\n",
    "},\n",
    "{\n",
    "\"name\": \"Exam\",\n",
    "\"imdb\": 4.2,\n",
    "\"category\": \"Thriller\"\n",
    "},\n",
    "{\n",
    "\"name\": \"We Two\",\n",
    "\"imdb\": 7.2,\n",
    "\"category\": \"Romance\"\n",
    "}\n",
    "]"
   ]
  },
  {
   "cell_type": "markdown",
   "metadata": {},
   "source": [
    "---\n",
    "\n",
    "### 2) Filtering data by IMDb score.\n",
    "\n",
    "#### 2.1)\n",
    "\n",
    "Write a function that:\n",
    "\n",
    "1) Accepts a single movie dictionary from the `movies` list as an argument.\n",
    "2) Returns `True` if the IMDb score is greater than 5.5.\n",
    "\n",
    "#### 2.2 [Challenge])\n",
    "\n",
    "Write a function that:\n",
    "\n",
    "1) Accepts the `movies` list and a specified category.\n",
    "2) Returns `True` if the average score of the category is higher than the average score of all movies."
   ]
  },
  {
   "cell_type": "code",
   "execution_count": 3,
   "metadata": {},
   "outputs": [
    {
     "name": "stdout",
     "output_type": "stream",
     "text": [
      "Usual Suspects rating is above 5.5\n",
      "Hitman rating is above 5.5\n",
      "Dark Knight rating is above 5.5\n",
      "The Help rating is above 5.5\n",
      "The Choice rating is above 5.5\n",
      "Colonia rating is above 5.5\n",
      "Love rating is above 5.5\n",
      "Bride Wars rating is below 5.5\n",
      "AlphaJet rating is below 5.5\n",
      "Ringing Crime rating is below 5.5\n",
      "Joking muck rating is above 5.5\n",
      "What is the name rating is above 5.5\n",
      "Detective rating is above 5.5\n",
      "Exam rating is below 5.5\n",
      "We Two rating is above 5.5\n"
     ]
    }
   ],
   "source": [
    "#Exercise 2.1)\n",
    "def high_score(movie):\n",
    "    if movie[\"imdb\"] > 5.5:\n",
    "        return True\n",
    "\n",
    "#Embarassingly, had to confirm with Olivers for loop to prove I was right!\n",
    "for movie in movies:\n",
    "    if high_score(movie):\n",
    "        print(movie[\"name\"], \"rating is above 5.5\")\n",
    "    else:\n",
    "        print(movie[\"name\"], \"rating is below 5.5\")"
   ]
  },
  {
   "cell_type": "code",
   "execution_count": 19,
   "metadata": {},
   "outputs": [
    {
     "name": "stdout",
     "output_type": "stream",
     "text": [
      "6.44\n",
      "6.49\n",
      "False\n"
     ]
    }
   ],
   "source": [
    "#Exercise 2.2) - I redid this after looking at Oliver's and Noor's examples. I made this top function to be reused again later\n",
    "#, helping me resolve issues with 3.2\n",
    "\n",
    "def category_average_score(movies_list, category_name):\n",
    "    #above_average_films = []\n",
    "    categorised_list = [movie for movie in movies_list if movie[\"category\"] == category_name]\n",
    "    #print(categorised_list)\n",
    "    imdb_scores = list(map(itemgetter(\"imdb\"), categorised_list))\n",
    "    average_category_score = round(sum(imdb_scores) / len(imdb_scores), 2)\n",
    "    return average_category_score\n",
    "    \n",
    "    #for movie in categorised_list:\n",
    "        #if movie[\"imdb\"] > average_category_score:\n",
    "            #above_average_films.append(movie)\n",
    "    #return above_average_films\n",
    "        \n",
    "print(category_average_score(movies, \"Romance\"))\n",
    "\n",
    "def category_vs_all(movies_list, category_name):\n",
    "    movies_score_list = list(map(itemgetter(\"imdb\"), movies_list))\n",
    "    average_score = round(sum(movies_score_list) / len(movies_score_list), 2)\n",
    "    print(average_score)\n",
    "    for movie in movies_list:\n",
    "        if average_score < category_average_score(movies_list, category_name):\n",
    "            return True\n",
    "        else:\n",
    "            return False\n",
    "\n",
    "print(category_vs_all(movies, \"Romance\"))"
   ]
  },
  {
   "cell_type": "markdown",
   "metadata": {},
   "source": [
    "---\n",
    "\n",
    "### 3) Creating subsets by numeric condition.\n",
    "\n",
    "#### 3.1)\n",
    "\n",
    "Write a function that:\n",
    "\n",
    "1) Accepts the list of movies and a specified IMDb score.\n",
    "2) Returns the sublist of movies that have scores greater than the one specified.\n",
    "\n",
    "#### 3.2 [Expert])\n",
    "\n",
    "Write a function that:\n",
    "\n",
    "1) Accepts the `movies` list as an argument.\n",
    "2) Returns the `movies` list sorted first by category and then by movie according to category average score and individual IMDb score, respectively."
   ]
  },
  {
   "cell_type": "code",
   "execution_count": 10,
   "metadata": {},
   "outputs": [
    {
     "name": "stdout",
     "output_type": "stream",
     "text": [
      "[{'name': 'Dark Knight', 'imdb': 9.0, 'category': 'Adventure'}, {'name': 'The Help', 'imdb': 8.0, 'category': 'Drama'}, {'name': 'What is the name', 'imdb': 9.2, 'category': 'Suspense'}]\n"
     ]
    }
   ],
   "source": [
    "#Exercise 3.1) \n",
    "def top_score(movies_list, score):\n",
    "    top_set_films = []\n",
    "    for movie in movies_list:\n",
    "        if movie[\"imdb\"] > score:\n",
    "            top_set_films.append(movie)\n",
    "    return top_set_films\n",
    "\n",
    "print(top_score(movies, 7.5))"
   ]
  },
  {
   "cell_type": "code",
   "execution_count": 23,
   "metadata": {},
   "outputs": [
    {
     "name": "stdout",
     "output_type": "stream",
     "text": [
      "[{'name': 'AlphaJet', 'imdb': 3.2, 'category': 'War', 'category_score': 3.2}, {'name': 'Ringing Crime', 'imdb': 4.0, 'category': 'Crime', 'category_score': 4.0}, {'name': 'Exam', 'imdb': 4.2, 'category': 'Thriller', 'category_score': 5.6}, {'name': 'Usual Suspects', 'imdb': 7.0, 'category': 'Thriller', 'category_score': 5.6}, {'name': 'Hitman', 'imdb': 6.3, 'category': 'Action', 'category_score': 6.3}, {'name': 'Bride Wars', 'imdb': 5.4, 'category': 'Romance', 'category_score': 6.44}, {'name': 'Love', 'imdb': 6.0, 'category': 'Romance', 'category_score': 6.44}, {'name': 'The Choice', 'imdb': 6.2, 'category': 'Romance', 'category_score': 6.44}, {'name': 'We Two', 'imdb': 7.2, 'category': 'Romance', 'category_score': 6.44}, {'name': 'Colonia', 'imdb': 7.4, 'category': 'Romance', 'category_score': 6.44}, {'name': 'Joking muck', 'imdb': 7.2, 'category': 'Comedy', 'category_score': 7.2}, {'name': 'The Help', 'imdb': 8.0, 'category': 'Drama', 'category_score': 8.0}, {'name': 'Detective', 'imdb': 7.0, 'category': 'Suspense', 'category_score': 8.1}, {'name': 'What is the name', 'imdb': 9.2, 'category': 'Suspense', 'category_score': 8.1}, {'name': 'Dark Knight', 'imdb': 9.0, 'category': 'Adventure', 'category_score': 9.0}] woohoo!\n"
     ]
    }
   ],
   "source": [
    "#Exercise 3.2):\n",
    "#first, add new key 'category_average_score' with category average value (function from 2.2)\n",
    "#second, sorting with two keys, 'category_score' and 'imdb'\n",
    "def add_category_average_and_score(movies_list):\n",
    "    #using previous function for calculating category average\n",
    "    for movie in movies_list:\n",
    "        movie[\"category_score\"] = category_average_score(movies_list, movie[\"category\"])\n",
    "    #return movies_list\n",
    "    \n",
    "    sorted_films = sorted(movies, key=lambda movie: (movie['category_score'], movie['imdb']))\n",
    "    return sorted_films\n",
    "\n",
    "print(add_category_average_and_score(movies), \"woohoo!\")"
   ]
  },
  {
   "cell_type": "code",
   "execution_count": null,
   "metadata": {},
   "outputs": [],
   "source": []
  },
  {
   "cell_type": "markdown",
   "metadata": {},
   "source": [
    "---\n",
    "\n",
    "### 5) Multiple conditions.\n",
    "\n",
    "#### 5.1)\n",
    "\n",
    "Write a function that:\n",
    "\n",
    "1) Accepts the `movies` list and a \"search criteria\" variable.\n",
    "2) If the criteria variable is numeric, return a list of movie titles with a score greater than or equal to the criteria.\n",
    "3) If the criteria variable is a string, return a list of movie titles that match that category (case-insensitive!). If there is no match, return an empty list and print an informative message.\n",
    "\n",
    "#### 5.2 [Expert])\n",
    "\n",
    "Write a function that:\n",
    "\n",
    "1) Accepts the `movies` list and a string search criteria variable.\n",
    "2) The search criteria variable can contain within it:\n",
    "  - Boolean operations: `'AND'`, `'OR'`, and `'NOT'` (can have/be lowercase as well, we just capitalized for clarity).\n",
    "  - Search criteria specified with the syntax `score=...`, `category=...`, and/or `title=...`, where the `...` indicates what to look for.\n",
    "    - If `score` is present, it indicates scores greater than or equal to the value.\n",
    "    - For `category` and `title`, the string indicates that the category or title must _contain_ the search string (case-insensitive).\n",
    "3) Return the matches for the search criteria specified."
   ]
  },
  {
   "cell_type": "code",
   "execution_count": 29,
   "metadata": {},
   "outputs": [
    {
     "name": "stdout",
     "output_type": "stream",
     "text": [
      "['The Choice', 'Colonia', 'Love', 'Bride Wars', 'We Two']\n",
      "There are no movies that match your category\n",
      "[]\n"
     ]
    }
   ],
   "source": [
    "#Exercise 5.1), matching string to category\n",
    "def match_criteria(movies_list, *my_variables):\n",
    "    "
   ]
  },
  {
   "cell_type": "code",
   "execution_count": 19,
   "metadata": {},
   "outputs": [
    {
     "name": "stdout",
     "output_type": "stream",
     "text": [
      "[{'name': 'What is the name', 'imdb': 9.2, 'category': 'Suspense'}]\n"
     ]
    }
   ],
   "source": [
    "#Exercise 5.2), matching string options to movie score, name and category\n",
    "#Used **kwargs to hold the multiple named arguments in function call (will it always be 3 arguments?)\n",
    "def movies_search(movies_list, **my_variables):\n",
    "    category_variable = my_variables[\"category\"].casefold() \n",
    "    title_variable = my_variables[\"title\"].casefold()\n",
    "    filtered_search = []\n",
    "    #First, set the criteria based on score\n",
    "    for movie in movies_list:\n",
    "        if movie[\"imdb\"] >= my_variables[\"score\"]:\n",
    "            filtered_search.append(movie)\n",
    "    #Second, filter list of dictionaries based on category and title presence.\n",
    "    boolean_search = [x for x in filtered_search if category_variable in x[\"category\"] or title_variable in x[\"name\"]]\n",
    "    \n",
    "    return boolean_search\n",
    "\n",
    "print(movies_search(movies, score=7, category=\"suspense\", title=\"the\"))"
   ]
  },
  {
   "cell_type": "markdown",
   "metadata": {},
   "source": [
    "---\n",
    "\n",
    "### 4) Creating subsets by string condition.\n",
    "\n",
    "#### 4.1)\n",
    "\n",
    "Write a function that:\n",
    "\n",
    "1) Accepts the `movies` list and a category name.\n",
    "2) Returns the movie names within that category (case-insensitive!).\n",
    "3) If the category is not in the data, prints a message that says it does not exist and returns `None`.\n",
    "\n",
    "Recall that, to convert a string to lowercase, you can use:\n",
    "\n",
    "```python\n",
    "mystring = 'Dumb and Dumber'\n",
    "lowercase_mystring = mystring.lower()\n",
    "print lowercase_mystring\n",
    "'dumb and dumber'\n",
    "```\n",
    "\n",
    "#### 4.2 [Challenge])\n",
    "\n",
    "Write a function that:\n",
    "\n",
    "1) Accepts the `movies` list and a \"search string.\"\n",
    "2) Returns a dictionary with the keys `'category'` and `'title'` whose values are lists of categories that contain the search string and titles that contain the search string, respectively (case-insensitive!)."
   ]
  },
  {
   "cell_type": "code",
   "execution_count": 48,
   "metadata": {},
   "outputs": [
    {
     "name": "stdout",
     "output_type": "stream",
     "text": [
      "There are no movies that match your category\n",
      "[]\n"
     ]
    }
   ],
   "source": [
    "#Exercise 4.2)\n",
    "def match_category_string(movies_list, my_string):\n",
    "    flattened_string = my_string.lower()\n",
    "    string_in_category = []\n",
    "    \n",
    "    for movie in movies_list:\n",
    "        if flattened_string in movie[\"category\"].lower():\n",
    "            string_in_category.append({\"title\" : movie[\"name\"], \"category\" : movie[\"category\"]})\n",
    "        if flattened_string in movie[\"name\"].lower():\n",
    "            string_in_category.append({\"title\" : movie[\"name\"], \"category\" : movie[\"category\"]})\n",
    "    return string_in_category\n",
    "            \n",
    "    #if len(string_in_category) == 0:\n",
    "        #print(\"There are no movies that match your category\")\n",
    "\n",
    "#Should return 3 films\n",
    "#print(match_category_string(movies, \"su\"))\n",
    "print(match_category(movies, \"Horror\"))"
   ]
  },
  {
   "cell_type": "code",
   "execution_count": 50,
   "metadata": {},
   "outputs": [
    {
     "name": "stdout",
     "output_type": "stream",
     "text": [
      "['The Choice', 'Colonia', 'Love', 'Bride Wars', 'We Two']\n",
      "There are no movies that match your category\n",
      "[]\n"
     ]
    }
   ],
   "source": [
    "#Exercise 4.1)\n",
    "def match_category_name(movies_list,category_name):\n",
    "    category_string = category_name.lower()\n",
    "    movies_in_category = []\n",
    "    \n",
    "    for movie in movies_list:\n",
    "        if category_string == movie[\"category\"].lower():\n",
    "            movies_in_category.append(movie[\"name\"])\n",
    "            \n",
    "    if len(movies_in_category) == 0:\n",
    "        print(\"There are no movies that match your category\")\n",
    "            \n",
    "    return movies_in_category\n",
    "\n",
    "print(match_category_name(movies, \"romance\"))\n",
    "print(match_category_name(movies, \"horror\"))"
   ]
  },
  {
   "cell_type": "code",
   "execution_count": null,
   "metadata": {},
   "outputs": [],
   "source": []
  }
 ],
 "metadata": {
  "kernelspec": {
   "display_name": "Python 3",
   "language": "python",
   "name": "python3"
  },
  "language_info": {
   "codemirror_mode": {
    "name": "ipython",
    "version": 3
   },
   "file_extension": ".py",
   "mimetype": "text/x-python",
   "name": "python",
   "nbconvert_exporter": "python",
   "pygments_lexer": "ipython3",
   "version": "3.7.4"
  }
 },
 "nbformat": 4,
 "nbformat_minor": 1
}
