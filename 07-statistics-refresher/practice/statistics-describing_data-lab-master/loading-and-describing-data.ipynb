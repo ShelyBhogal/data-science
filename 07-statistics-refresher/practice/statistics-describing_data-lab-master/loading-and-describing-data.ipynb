{
 "cells": [
  {
   "cell_type": "markdown",
   "metadata": {},
   "source": [
    "<img src=\"http://imgur.com/1ZcRyrc.png\" style=\"float: left; margin: 20px; height: 55px\">\n",
    "\n",
    "## Practice Loading and Describing Data \n",
    "\n",
    "_Authors: Matt Brems (DC)_\n",
    "\n",
    "---\n",
    "\n",
    "In this lab you will practice loading data using python and describing it with statistics.\n",
    "\n",
    "It might be a good idea to first check the [source of the Boston housing data](https://archive.ics.uci.edu/ml/datasets/Housing)."
   ]
  },
  {
   "cell_type": "markdown",
   "metadata": {},
   "source": [
    "### 1. Load the boston housing data (provided)"
   ]
  },
  {
   "cell_type": "code",
   "execution_count": 1,
   "metadata": {},
   "outputs": [],
   "source": [
    "# Download the data and save to a file called \"housing.data.\"\n",
    "import urllib.request\n",
    "data_url = \"https://archive.ics.uci.edu/ml/machine-learning-databases/housing/housing.data\"\n",
    "\n",
    "# this saves a file called 'housing.data' locally'\n",
    "urllib.request.urlretrieve(data_url, './datasets/housing.data')"
   ]
  },
  {
   "cell_type": "markdown",
   "metadata": {},
   "source": [
    "The data file does not contain the column names in the first line, so we'll need to add those in manually. You can find the names and explanations [here](https://archive.ics.uci.edu/ml/machine-learning-databases/housing/housing.names). We've extracted the names below for your convenience. You may choose to edit the names, should you decide it would be more helpful to do so."
   ]
  },
  {
   "cell_type": "code",
   "execution_count": 9,
   "metadata": {},
   "outputs": [],
   "source": [
    "# 1. CRIM      - per capita crime rate by town\n",
    "# 2. ZN        - proportion of residential land zoned for lots over 25,000 sq.ft.\n",
    "# 3. INDUS     - proportion of non-retail business acres per town\n",
    "# 4. CHAS      - Charles River dummy variable (= 1 if tract bounds river; 0 otherwise)\n",
    "# 5. NOX       - nitric oxides concentration (parts per 10 million)\n",
    "# 6. RM        - average number of rooms per dwelling\n",
    "# 7. AGE       - proportion of owner-occupied units built prior to 1940\n",
    "# 8. DIS       - weighted distances to five Boston employment centres\n",
    "# 9. RAD       - index of accessibility to radial highways\n",
    "# 10. TAX      - full-value property-tax rate per 10,000 dollars. \n",
    "# 11. PTRATIO  - pupil-teacher ratio by town\n",
    "# 12. B        - 1000(Bk - 0.63)^2 where Bk is the proportion of blacks by town\n",
    "# 13. LSTAT    - Percent lower status of the population\n",
    "# 14. MEDV     - Median value of owner-occupied homes in $1000's"
   ]
  },
  {
   "cell_type": "code",
   "execution_count": 2,
   "metadata": {},
   "outputs": [],
   "source": [
    "names = [\"CRIM\", \"ZN\", \"INDUS\", \"CHAS\", \"NOX\", \"RM\", \"AGE\",\n",
    "         \"DIS\", \"RAD\", \"TAX\", \"PTRATIO\", \"B\", \"LSTAT\", \"MEDV\"]"
   ]
  },
  {
   "cell_type": "markdown",
   "metadata": {},
   "source": [
    "### 2. Load the `housing.data` file with python\n",
    "\n",
    "Using any method of your choice.\n",
    "\n",
    "> _**Hint:** despite this file having a strange `.data` extension, using python's `open() as file` and `file.read()` or `file.readlines()` we can load this in and see that it is a text file formatted much the same as a CSV. You can use string operations to format the data._"
   ]
  },
  {
   "cell_type": "code",
   "execution_count": 3,
   "metadata": {},
   "outputs": [],
   "source": [
    "# Reading in the local file 'housing.data'\n",
    "data = []\n",
    "with open('./datasets/housing.data', 'r') as f:\n",
    "    rows = f.readlines()\n",
    "    for row in rows:\n",
    "        row = [float(x) for x in row.split()]\n",
    "        data.append(row)\n",
    "f.close()"
   ]
  },
  {
   "cell_type": "markdown",
   "metadata": {},
   "source": [
    "### 3.  Conduct a brief integrity check of your data. \n",
    "\n",
    "This integrity check should include, but is not limited to, checking for missing values and making sure all values make logical sense. (i.e. is one variable a percentage, but there are observations above 100%?)\n",
    "\n",
    "Summarize your findings in a few sentences, including what you checked and, if appropriate, any \n",
    "steps you took to rectify potential integrity issues."
   ]
  },
  {
   "cell_type": "code",
   "execution_count": 54,
   "metadata": {},
   "outputs": [
    {
     "data": {
      "text/plain": [
       "[0.00632,\n",
       " 18.0,\n",
       " 2.31,\n",
       " 0.0,\n",
       " 0.538,\n",
       " 6.575,\n",
       " 65.2,\n",
       " 4.09,\n",
       " 1.0,\n",
       " 296.0,\n",
       " 15.3,\n",
       " 396.9,\n",
       " 4.98,\n",
       " 24.0]"
      ]
     },
     "execution_count": 54,
     "metadata": {},
     "output_type": "execute_result"
    }
   ],
   "source": [
    "# A: All numeric float values (convert to float) which vary from 0 to over 100\n",
    "# 'LSTAT' column is percentages\n",
    "\n",
    "data[0]"
   ]
  },
  {
   "cell_type": "code",
   "execution_count": 5,
   "metadata": {},
   "outputs": [],
   "source": [
    "# put the data into a dictionary with keys identified by column names:\n",
    "housing_dict = {key_name:[row[index] for row in data] for index, key_name in enumerate(names)}"
   ]
  },
  {
   "cell_type": "code",
   "execution_count": 7,
   "metadata": {},
   "outputs": [
    {
     "data": {
      "text/plain": [
       "array([ 1.,  2.,  3.,  4.,  5.,  6.,  7.,  8., 24.])"
      ]
     },
     "execution_count": 7,
     "metadata": {},
     "output_type": "execute_result"
    }
   ],
   "source": [
    "import numpy as np\n",
    "\n",
    "np.unique(housing_dict['RAD'])"
   ]
  },
  {
   "cell_type": "code",
   "execution_count": 8,
   "metadata": {},
   "outputs": [
    {
     "name": "stdout",
     "output_type": "stream",
     "text": [
      "dict_keys(['CRIM', 'ZN', 'INDUS', 'CHAS', 'NOX', 'RM', 'AGE', 'DIS', 'RAD', 'TAX', 'PTRATIO', 'B', 'LSTAT', 'MEDV'])\n"
     ]
    }
   ],
   "source": [
    "print(housing_dict.keys())"
   ]
  },
  {
   "cell_type": "code",
   "execution_count": 9,
   "metadata": {},
   "outputs": [],
   "source": [
    "# convert from string to float\n",
    "for name, col in housing_dict.items():\n",
    "    col = [float(x) for x in col]\n",
    "    housing_dict[name] = col"
   ]
  },
  {
   "cell_type": "code",
   "execution_count": 10,
   "metadata": {},
   "outputs": [],
   "source": [
    "# Checking for any abnormal values in column 'CHAS' - none reported\n",
    "max_one = ['CHAS']\n",
    "\n",
    "for feature in max_one:\n",
    "    for observation in housing_dict[feature]:\n",
    "        if observation > 1 or observation < 0:\n",
    "            print('Abnormal Value found in ', feature, 'with value of', observation)"
   ]
  },
  {
   "cell_type": "code",
   "execution_count": 11,
   "metadata": {},
   "outputs": [],
   "source": [
    "# Checking for any abnormal values in columns 'ZN', 'INDUS', 'RM', 'LSTAT', 'PTRATIO', 'CRIM'\n",
    "max_hund = ['ZN','INDUS','RM','LSTAT','PTRATIO', 'CRIM']\n",
    "\n",
    "for feature in max_hund:\n",
    "    for observation in housing_dict[feature]:\n",
    "        if observation > 100 or observation < 0:\n",
    "            print('Abnormal Value found in ', feature, 'with value of', observation)"
   ]
  },
  {
   "cell_type": "code",
   "execution_count": 134,
   "metadata": {},
   "outputs": [
    {
     "name": "stdout",
     "output_type": "stream",
     "text": [
      "Number of Expected Features: 14\n",
      "Number of Actual Features: 14\n",
      "506 rows in CRIM\n",
      "506 rows in ZN\n",
      "506 rows in INDUS\n",
      "506 rows in CHAS\n",
      "506 rows in NOX\n",
      "506 rows in RM\n",
      "506 rows in AGE\n",
      "506 rows in DIS\n",
      "506 rows in RAD\n",
      "506 rows in TAX\n",
      "506 rows in PTRATIO\n",
      "506 rows in B\n",
      "506 rows in LSTAT\n",
      "506 rows in MEDV\n"
     ]
    }
   ],
   "source": [
    "# Checking for any missing data\n",
    "print('Number of Expected Features: ' + str(len(names)))\n",
    "\n",
    "print('Number of Actual Features: ' + str(len(housing_dict.keys())))\n",
    "\n",
    "for key, data in housing_dict.items():\n",
    "    print(\"%d rows in %s\" % (len(data), key))"
   ]
  },
  {
   "cell_type": "markdown",
   "metadata": {},
   "source": [
    "### 4. For what two attributes does it make the *least* sense to calculate mean and median? Why?"
   ]
  },
  {
   "cell_type": "code",
   "execution_count": 12,
   "metadata": {},
   "outputs": [
    {
     "data": {
      "text/plain": [
       "0.0"
      ]
     },
     "execution_count": 12,
     "metadata": {},
     "output_type": "execute_result"
    }
   ],
   "source": [
    "# A: \n",
    "# 'CHAS' is binary classification, 0 or 1\n",
    "# 'RAD' is classification index (9 unique values)\n",
    "\n",
    "np.median(housing_dict['CHAS'])"
   ]
  },
  {
   "cell_type": "markdown",
   "metadata": {},
   "source": [
    "### 5. Which two variables have the strongest linear association? \n",
    "\n",
    "Report both variables, the metric you chose as the basis for your comparison, and the value of that metric. *(Hint: Make sure you consider only variables for which it makes sense to find a linear association.)*\n",
    "\n"
   ]
  },
  {
   "cell_type": "code",
   "execution_count": 13,
   "metadata": {},
   "outputs": [],
   "source": [
    "# A: Use covariance function below as metric, to see if variables have linear association\n",
    "\n",
    "def covariance_matrix(data1, data2):\n",
    "    covariance = np.cov(data1, data2)\n",
    "    return covariance"
   ]
  },
  {
   "cell_type": "code",
   "execution_count": 19,
   "metadata": {},
   "outputs": [
    {
     "data": {
      "text/plain": [
       "array([[ 0.01342764, -0.18769584],\n",
       "       [-0.18769584,  4.43401514]])"
      ]
     },
     "execution_count": 19,
     "metadata": {},
     "output_type": "execute_result"
    }
   ],
   "source": [
    "covariance_matrix(housing_dict['NOX'], housing_dict['DIS'])"
   ]
  },
  {
   "cell_type": "markdown",
   "metadata": {},
   "source": [
    "Most similar negative linear relationship is B and TAX (-6797)\n",
    "\n",
    "Most similar positive linear relationship is AGE and TAX (2402)"
   ]
  },
  {
   "cell_type": "code",
   "execution_count": 62,
   "metadata": {},
   "outputs": [
    {
     "data": {
      "image/png": "[encoded data removed]",
      "text/plain": [
       "<Figure size 864x576 with 1 Axes>"
      ]
     },
     "metadata": {},
     "output_type": "display_data"
    }
   ],
   "source": [
    "# visual scatter plot to see relationship\n",
    "import seaborn as sns\n",
    "import matplotlib.pyplot as plt\n",
    "%matplotlib inline\n",
    "\n",
    "plt.style.use('ggplot')\n",
    "plt.rcParams['figure.figsize'] = (12, 8)\n",
    "\n",
    "plt.scatter(housing_dict['AGE'], housing_dict['TAX'])\n",
    "plt.show;"
   ]
  },
  {
   "cell_type": "markdown",
   "metadata": {},
   "source": [
    "Another method suggested by teacher is to use Pearson's Correlation Coefficient, which shows that 'NOX' and 'DIS' have strongest linear relationship:\n"
   ]
  },
  {
   "cell_type": "code",
   "execution_count": 23,
   "metadata": {},
   "outputs": [],
   "source": [
    "relationships = []\n",
    "\n",
    "# Choosing to use the pearson correlation coefficient, \"np.corrcoef\":\n",
    "for name in housing_dict.keys():\n",
    "    # do not consider RAD or CHAS:\n",
    "    if name not in ['RAD','CHAS']:\n",
    "        for other in housing_dict.keys():\n",
    "            if (name != other) and (other not in ['RAD','CHAS']):\n",
    "                relationships.append([name, other, np.corrcoef(housing_dict[name], housing_dict[other])[0,1]])"
   ]
  },
  {
   "cell_type": "code",
   "execution_count": 57,
   "metadata": {},
   "outputs": [],
   "source": [
    "#relationships"
   ]
  },
  {
   "cell_type": "code",
   "execution_count": 25,
   "metadata": {},
   "outputs": [],
   "source": [
    "# In order to determine which are the strongest relationships, convert to absolute and sort list, but output original values\n",
    "# We index 'x[2]' because we are sorting based on the third element, the corrcoef value\n",
    "sort_rel = sorted(relationships, key=lambda x: np.abs(x[2]), reverse=True)"
   ]
  },
  {
   "cell_type": "code",
   "execution_count": 27,
   "metadata": {},
   "outputs": [
    {
     "name": "stdout",
     "output_type": "stream",
     "text": [
      "['NOX', 'DIS', -0.7692301132258278]\n",
      "['DIS', 'NOX', -0.7692301132258278]\n",
      "['INDUS', 'NOX', 0.7636514469209147]\n",
      "['NOX', 'INDUS', 0.7636514469209147]\n",
      "['AGE', 'DIS', -0.7478805408686319]\n"
     ]
    }
   ],
   "source": [
    "# Loop through the sorted list to nicely output top 5 results, showing 'NOX' and 'DIS' to have strongest linear relationship\n",
    "for i in range(5):\n",
    "    print(sort_rel[i])"
   ]
  },
  {
   "cell_type": "code",
   "execution_count": 60,
   "metadata": {},
   "outputs": [],
   "source": [
    "#sort_rel[0:5]"
   ]
  },
  {
   "cell_type": "code",
   "execution_count": 49,
   "metadata": {},
   "outputs": [],
   "source": [
    "# Calculating Kendalls Rank Correlation coefficient & p-value (must use ordinal data)\n",
    "from scipy.stats import kendalltau\n",
    "\n",
    "coef, p_value = kendalltau(housing_dict['RAD'], housing_dict['CHAS'])"
   ]
  },
  {
   "cell_type": "code",
   "execution_count": 50,
   "metadata": {},
   "outputs": [
    {
     "name": "stdout",
     "output_type": "stream",
     "text": [
      "0.021739356528836715\n"
     ]
    }
   ],
   "source": [
    "print(coef)"
   ]
  },
  {
   "cell_type": "code",
   "execution_count": 51,
   "metadata": {},
   "outputs": [],
   "source": [
    "# Calculating Spearman's Rank Correlation coefficient & p-value (must use ordinal data)\n",
    "from scipy.stats import spearmanr\n",
    "\n",
    "sp_coef, sp_p = spearmanr(housing_dict['CHAS'], housing_dict['NOX'])"
   ]
  },
  {
   "cell_type": "code",
   "execution_count": 52,
   "metadata": {},
   "outputs": [
    {
     "name": "stdout",
     "output_type": "stream",
     "text": [
      "0.06842628320937427\n"
     ]
    }
   ],
   "source": [
    "print(sp_coef)"
   ]
  },
  {
   "cell_type": "markdown",
   "metadata": {},
   "source": [
    "### 6. Look at distributional qualities of variables.\n",
    "\n",
    "Answer the following questions:\n",
    "1. Which variable has the most symmetric distribution? 'RM' and 'LSTAT'\n",
    "2. Which variable has the most left-skewed (negatively skewed) distribution? \n",
    "3. Which variable has the most right-skewed (positively skewed) distribution? \n",
    "\n",
    "Defend your method for determining this."
   ]
  },
  {
   "cell_type": "code",
   "execution_count": 30,
   "metadata": {},
   "outputs": [],
   "source": [
    "# A: Visually\n",
    "import seaborn as sns\n",
    "from scipy.stats import norm\n",
    "\n",
    "def distribution_plotter(column, data_set):\n",
    "    data = data_set[column]\n",
    "    sns.set(rc={\"figure.figsize\": (10, 7)})\n",
    "    sns.set(color_codes=True)\n",
    "    sns.set(style=\"white\", palette=\"muted\")\n",
    "    dist = sns.distplot(data, hist_kws={'alpha':0.2}, kde_kws={'linewidth':5})\n",
    "    dist.set_title('Distribution of ' + column + '\\n', fontsize=16)"
   ]
  },
  {
   "cell_type": "code",
   "execution_count": 31,
   "metadata": {},
   "outputs": [
    {
     "data": {
      "image/png": "[encoded data removed]",
      "text/plain": [
       "<Figure size 720x504 with 1 Axes>"
      ]
     },
     "metadata": {},
     "output_type": "display_data"
    }
   ],
   "source": [
    "distribution_plotter('NOX', housing_dict)"
   ]
  },
  {
   "cell_type": "markdown",
   "metadata": {},
   "source": [
    "The following method was suggested by teacher for assessing distribution:\n"
   ]
  },
  {
   "cell_type": "code",
   "execution_count": 55,
   "metadata": {},
   "outputs": [
    {
     "name": "stdout",
     "output_type": "stream",
     "text": [
      "Symmetric: ['NOX', 0.01669505928853754]\n",
      "Left: ['B', -34.765968379446576]\n",
      "Right: ['TAX', 78.23715415019763]\n"
     ]
    }
   ],
   "source": [
    "# Symmetric: the metric with the smallest absolute(mean - median)\n",
    "# Left: the metric with the smallest mean - median\n",
    "# Right: the metric with the largest mean - median\n",
    "\n",
    "symmetric = sorted([[key_name, np.abs(np.mean(values) - np.median(values))] for key_name,values in housing_dict.items()], key=lambda x: x[1])\n",
    "print('Symmetric:', symmetric[0])\n",
    "\n",
    "left = sorted([[k, np.mean(v) - np.median(v)] for k,v in housing_dict.items()], key=lambda x: x[1])\n",
    "print('Left:', left[0])\n",
    "\n",
    "right = sorted([[k, np.mean(v) - np.median(v)] for k,v in housing_dict.items()], key=lambda x: x[1], reverse=True)\n",
    "print('Right:', right[0])"
   ]
  },
  {
   "cell_type": "markdown",
   "metadata": {},
   "source": [
    "### 8. Repeat question 6 but scale the variables by their range first.\n",
    "\n",
    "As you may have noticed, the spread of the distribution contributed significantly to the results in question 6."
   ]
  },
  {
   "cell_type": "code",
   "execution_count": 33,
   "metadata": {},
   "outputs": [],
   "source": [
    "# A:\n",
    "from scipy.stats import norm\n",
    "\n",
    "def norm_distribution_plotter(column, data_set):\n",
    "    data = data_set[column]\n",
    "    sns.set(rc={\"figure.figsize\": (10, 7)})\n",
    "    sns.set(color_codes=True)\n",
    "    sns.set(style=\"white\", palette=\"muted\")\n",
    "    dist = sns.distplot(data, fit=norm, hist_kws={'alpha':0.2}, kde=False)\n",
    "    dist.set_title('Distribution of ' + column + '\\n', fontsize=16)"
   ]
  },
  {
   "cell_type": "code",
   "execution_count": 34,
   "metadata": {},
   "outputs": [
    {
     "data": {
      "image/png": "[encoded data removed]",
      "text/plain": [
       "<Figure size 720x504 with 1 Axes>"
      ]
     },
     "metadata": {},
     "output_type": "display_data"
    }
   ],
   "source": [
    "norm_distribution_plotter('NOX', housing_dict)"
   ]
  },
  {
   "cell_type": "markdown",
   "metadata": {},
   "source": [
    "Teacher continues her suggestions by scaling the previous mean and median calculations with *np.ptp* function - this function returns the range value (max-min value).\n"
   ]
  },
  {
   "cell_type": "code",
   "execution_count": 63,
   "metadata": {},
   "outputs": [
    {
     "name": "stdout",
     "output_type": "stream",
     "text": [
      "Symmetric: ['RM', 0.01458792629848224]\n",
      "Left: ['AGE', -0.09191656863263897]\n",
      "Right: ['RAD', 0.19780030933150025]\n"
     ]
    }
   ],
   "source": [
    "def scaled_diff(v):\n",
    "    return (np.mean(v) - np.median(v))/np.ptp(v)\n",
    "\n",
    "symmetric = sorted([[k, np.abs(scaled_diff(v))] for k,v in housing_dict.items()], key=lambda x: x[1])\n",
    "print('Symmetric:', symmetric[0])\n",
    "\n",
    "left = sorted([[k, scaled_diff(v)] for k,v in housing_dict.items()], key=lambda x: x[1])\n",
    "print('Left:', left[0])\n",
    "\n",
    "right = sorted([[k, scaled_diff(v)] for k,v in housing_dict.items()], key=lambda x: x[1], reverse=True)\n",
    "print('Right:', right[0])"
   ]
  },
  {
   "cell_type": "markdown",
   "metadata": {},
   "source": [
    "### 9. Univariate analysis of your choice\n",
    "\n",
    "Conduct a full univariate analysis on MEDV, CHAS, TAX, and RAD. \n",
    "\n",
    "For each variable, you should answer the three questions generally asked in a univariate analysis using the most appropriate metrics.\n",
    "- A measure of central tendency\n",
    "- A measure of spread\n",
    "- A description of the shape of the distribution (plot or metric based)\n",
    "\n",
    "If you feel there is additional information that is relevant, include it. "
   ]
  },
  {
   "cell_type": "markdown",
   "metadata": {},
   "source": [
    "Sketch of Answer:\n",
    "\n",
    "You should report at least one measure of center, one measure of spread, and a description (metric-based or plot-based) of the shape of the distribution of each variable.\n",
    "\n",
    "Defending which of these choices is better (i.e. median is a better measure of center than mean because...)\n",
    "\n",
    "Including multiple measures of center and/or spread, and interpreting what these reveal about the distribution of a variable is especially good.\n",
    "\n",
    "Including a plot that goes along with these metrics and this description would turn this answer from a \"good\" one into a \"great\" one. A report to a supervisor should ideally include these points.\n"
   ]
  },
  {
   "cell_type": "code",
   "execution_count": 9,
   "metadata": {
    "collapsed": true
   },
   "outputs": [],
   "source": [
    "# A:"
   ]
  },
  {
   "cell_type": "markdown",
   "metadata": {},
   "source": [
    "### 10. Have you been using inferential statistics, descriptive statistics, or both?\n",
    "\n",
    "For each exercise, identify the branch of statistics on which you relied for your answer."
   ]
  },
  {
   "cell_type": "code",
   "execution_count": 10,
   "metadata": {
    "collapsed": true
   },
   "outputs": [],
   "source": [
    "# A: Solution: For all exercises, we relied only on descriptive statistics."
   ]
  },
  {
   "cell_type": "markdown",
   "metadata": {},
   "source": [
    "### 11. Reducing the number of observations\n",
    "\n",
    "It seems likely that this data is a census - that is, the data set includes the entire target population. Suppose that the 506 observations was too much for our computer (as unlikely as this might be) and we needed to pare this down to fewer observations. \n",
    "\n",
    "**11.A Use the `random.sample()` function to select 50 observations from `'AGE'`.**\n",
    "\n",
    "([This documentation](https://docs.python.org/2/library/random.html) may be helpful.)"
   ]
  },
  {
   "cell_type": "code",
   "execution_count": 64,
   "metadata": {},
   "outputs": [],
   "source": [
    "# A:\n",
    "\n",
    "age = housing_dict['AGE']\n",
    "\n",
    "import random\n",
    "\n",
    "age_sample = random.sample(age, 50)"
   ]
  },
  {
   "cell_type": "markdown",
   "metadata": {},
   "source": [
    "**11.B Identify the type of sampling we just used.**"
   ]
  },
  {
   "cell_type": "code",
   "execution_count": 12,
   "metadata": {
    "collapsed": true
   },
   "outputs": [],
   "source": [
    "# A: Simple random sampling"
   ]
  },
  {
   "cell_type": "markdown",
   "metadata": {},
   "source": [
    "### 12. [BONUS] Of the remaining types of sampling, describe (but do not execute) how you might implement at least one of these types of sampling.\n"
   ]
  },
  {
   "cell_type": "code",
   "execution_count": 13,
   "metadata": {
    "collapsed": true
   },
   "outputs": [],
   "source": [
    "# A: Stratified random sampling is a method\n",
    "# Used when we want to protect ourselves from a potentially skewed\" random sample, like what about 'CHAS'/'RAD' data values?\n",
    "# The variable 'CHAS' takes on two values: 1 and 0\n",
    "# Rather than selecting 50 observations at random, we could look at the proportion of 1s and 0s for the 'CHAS' variable:\n",
    "# Select 50 * (proportion of 1s) observations where 'CHAS'=1, then select 50 * (proportion of 0s) obervations where 'CHAS'=0\n",
    "# Now you can perform testing on sample where the focus is behaviour of other variables based on 'CHAS' categorisation"
   ]
  }
 ],
 "metadata": {
  "kernelspec": {
   "display_name": "Python 3",
   "language": "python",
   "name": "python3"
  },
  "language_info": {
   "codemirror_mode": {
    "name": "ipython",
    "version": 3
   },
   "file_extension": ".py",
   "mimetype": "text/x-python",
   "name": "python",
   "nbconvert_exporter": "python",
   "pygments_lexer": "ipython3",
   "version": "3.7.4"
  }
 },
 "nbformat": 4,
 "nbformat_minor": 2
}
