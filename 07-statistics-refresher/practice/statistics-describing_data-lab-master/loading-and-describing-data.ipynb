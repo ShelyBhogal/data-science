{
 "cells": [
  {
   "cell_type": "markdown",
   "metadata": {},
   "source": [
    "<img src=\"http://imgur.com/1ZcRyrc.png\" style=\"float: left; margin: 20px; height: 55px\">\n",
    "\n",
    "## Practice Loading and Describing Data \n",
    "\n",
    "_Authors: Matt Brems (DC)_\n",
    "\n",
    "---\n",
    "\n",
    "In this lab you will practice loading data using python and describing it with statistics.\n",
    "\n",
    "It might be a good idea to first check the [source of the Boston housing data](https://archive.ics.uci.edu/ml/datasets/Housing)."
   ]
  },
  {
   "cell_type": "markdown",
   "metadata": {},
   "source": [
    "### 1. Load the boston housing data (provided)"
   ]
  },
  {
   "cell_type": "code",
   "execution_count": 8,
   "metadata": {},
   "outputs": [
    {
     "data": {
      "text/plain": [
       "('./datasets/housing.data', <http.client.HTTPMessage at 0x195f90f0a48>)"
      ]
     },
     "execution_count": 8,
     "metadata": {},
     "output_type": "execute_result"
    }
   ],
   "source": [
    "# Download the data and save to a file called \"housing.data.\"\n",
    "import urllib.request\n",
    "data_url = \"https://archive.ics.uci.edu/ml/machine-learning-databases/housing/housing.data\"\n",
    "\n",
    "# this saves a file called 'housing.data' locally'\n",
    "urllib.request.urlretrieve(data_url, './datasets/housing.data')"
   ]
  },
  {
   "cell_type": "markdown",
   "metadata": {},
   "source": [
    "The data file does not contain the column names in the first line, so we'll need to add those in manually. You can find the names and explanations [here](https://archive.ics.uci.edu/ml/machine-learning-databases/housing/housing.names). We've extracted the names below for your convenience. You may choose to edit the names, should you decide it would be more helpful to do so."
   ]
  },
  {
   "cell_type": "code",
   "execution_count": 9,
   "metadata": {},
   "outputs": [],
   "source": [
    "# 1. CRIM      - per capita crime rate by town\n",
    "# 2. ZN        - proportion of residential land zoned for lots over 25,000 sq.ft.\n",
    "# 3. INDUS     - proportion of non-retail business acres per town\n",
    "# 4. CHAS      - Charles River dummy variable (= 1 if tract bounds river; 0 otherwise)\n",
    "# 5. NOX       - nitric oxides concentration (parts per 10 million)\n",
    "# 6. RM        - average number of rooms per dwelling\n",
    "# 7. AGE       - proportion of owner-occupied units built prior to 1940\n",
    "# 8. DIS       - weighted distances to five Boston employment centres\n",
    "# 9. RAD       - index of accessibility to radial highways\n",
    "# 10. TAX      - full-value property-tax rate per 10,000 dollars. \n",
    "# 11. PTRATIO  - pupil-teacher ratio by town\n",
    "# 12. B        - 1000(Bk - 0.63)^2 where Bk is the proportion of blacks by town\n",
    "# 13. LSTAT    - Percent lower status of the population\n",
    "# 14. MEDV     - Median value of owner-occupied homes in $1000's"
   ]
  },
  {
   "cell_type": "code",
   "execution_count": 10,
   "metadata": {},
   "outputs": [],
   "source": [
    "names = [\"CRIM\", \"ZN\", \"INDUS\", \"CHAS\", \"NOX\", \"RM\", \"AGE\",\n",
    "         \"DIS\", \"RAD\", \"TAX\", \"PTRATIO\", \"B\", \"LSTAT\", \"MEDV\"]"
   ]
  },
  {
   "cell_type": "markdown",
   "metadata": {},
   "source": [
    "### 2. Load the `housing.data` file with python\n",
    "\n",
    "Using any method of your choice.\n",
    "\n",
    "> _**Hint:** despite this file having a strange `.data` extension, using python's `open() as file` and `file.read()` or `file.readlines()` we can load this in and see that it is a text file formatted much the same as a CSV. You can use string operations to format the data._"
   ]
  },
  {
   "cell_type": "code",
   "execution_count": 12,
   "metadata": {},
   "outputs": [],
   "source": [
    "# Reading in the local file 'housing.data'\n",
    "data = []\n",
    "with open('./datasets/housing.data', 'r') as f:\n",
    "    rows = f.readlines()\n",
    "    for row in rows:\n",
    "        row = [float(x) for x in row.split()]\n",
    "        data.append(row)\n",
    "f.close()"
   ]
  },
  {
   "cell_type": "markdown",
   "metadata": {},
   "source": [
    "### 3.  Conduct a brief integrity check of your data. \n",
    "\n",
    "This integrity check should include, but is not limited to, checking for missing values and making sure all values make logical sense. (i.e. is one variable a percentage, but there are observations above 100%?)\n",
    "\n",
    "Summarize your findings in a few sentences, including what you checked and, if appropriate, any \n",
    "steps you took to rectify potential integrity issues."
   ]
  },
  {
   "cell_type": "code",
   "execution_count": 13,
   "metadata": {},
   "outputs": [
    {
     "data": {
      "text/plain": [
       "[[0.00632,\n",
       "  18.0,\n",
       "  2.31,\n",
       "  0.0,\n",
       "  0.538,\n",
       "  6.575,\n",
       "  65.2,\n",
       "  4.09,\n",
       "  1.0,\n",
       "  296.0,\n",
       "  15.3,\n",
       "  396.9,\n",
       "  4.98,\n",
       "  24.0],\n",
       " [0.02731,\n",
       "  0.0,\n",
       "  7.07,\n",
       "  0.0,\n",
       "  0.469,\n",
       "  6.421,\n",
       "  78.9,\n",
       "  4.9671,\n",
       "  2.0,\n",
       "  242.0,\n",
       "  17.8,\n",
       "  396.9,\n",
       "  9.14,\n",
       "  21.6]]"
      ]
     },
     "execution_count": 13,
     "metadata": {},
     "output_type": "execute_result"
    }
   ],
   "source": [
    "# A: All numeric float values (convert to float) which vary from 0 to over 100\n",
    "\n",
    "data[0:2]"
   ]
  },
  {
   "cell_type": "code",
   "execution_count": 15,
   "metadata": {},
   "outputs": [],
   "source": [
    "# put the data into a dictionary with keys identified by column names:\n",
    "housing_dict = {key_name:[row[index] for row in data] for index, key_name in enumerate(names)}"
   ]
  },
  {
   "cell_type": "code",
   "execution_count": 26,
   "metadata": {},
   "outputs": [
    {
     "data": {
      "text/plain": [
       "[0.00632,\n",
       " 0.02731,\n",
       " 0.02729,\n",
       " 0.03237,\n",
       " 0.06905,\n",
       " 0.02985,\n",
       " 0.08829,\n",
       " 0.14455,\n",
       " 0.21124,\n",
       " 0.17004,\n",
       " 0.22489,\n",
       " 0.11747,\n",
       " 0.09378,\n",
       " 0.62976,\n",
       " 0.63796,\n",
       " 0.62739,\n",
       " 1.05393,\n",
       " 0.7842,\n",
       " 0.80271,\n",
       " 0.7258,\n",
       " 1.25179,\n",
       " 0.85204,\n",
       " 1.23247,\n",
       " 0.98843,\n",
       " 0.75026,\n",
       " 0.84054,\n",
       " 0.67191,\n",
       " 0.95577,\n",
       " 0.77299,\n",
       " 1.00245,\n",
       " 1.13081,\n",
       " 1.35472,\n",
       " 1.38799,\n",
       " 1.15172,\n",
       " 1.61282,\n",
       " 0.06417,\n",
       " 0.09744,\n",
       " 0.08014,\n",
       " 0.17505,\n",
       " 0.02763,\n",
       " 0.03359,\n",
       " 0.12744,\n",
       " 0.1415,\n",
       " 0.15936,\n",
       " 0.12269,\n",
       " 0.17142,\n",
       " 0.18836,\n",
       " 0.22927,\n",
       " 0.25387,\n",
       " 0.21977,\n",
       " 0.08873,\n",
       " 0.04337,\n",
       " 0.0536,\n",
       " 0.04981,\n",
       " 0.0136,\n",
       " 0.01311,\n",
       " 0.02055,\n",
       " 0.01432,\n",
       " 0.15445,\n",
       " 0.10328,\n",
       " 0.14932,\n",
       " 0.17171,\n",
       " 0.11027,\n",
       " 0.1265,\n",
       " 0.01951,\n",
       " 0.03584,\n",
       " 0.04379,\n",
       " 0.05789,\n",
       " 0.13554,\n",
       " 0.12816,\n",
       " 0.08826,\n",
       " 0.15876,\n",
       " 0.09164,\n",
       " 0.19539,\n",
       " 0.07896,\n",
       " 0.09512,\n",
       " 0.10153,\n",
       " 0.08707,\n",
       " 0.05646,\n",
       " 0.08387,\n",
       " 0.04113,\n",
       " 0.04462,\n",
       " 0.03659,\n",
       " 0.03551,\n",
       " 0.05059,\n",
       " 0.05735,\n",
       " 0.05188,\n",
       " 0.07151,\n",
       " 0.0566,\n",
       " 0.05302,\n",
       " 0.04684,\n",
       " 0.03932,\n",
       " 0.04203,\n",
       " 0.02875,\n",
       " 0.04294,\n",
       " 0.12204,\n",
       " 0.11504,\n",
       " 0.12083,\n",
       " 0.08187,\n",
       " 0.0686,\n",
       " 0.14866,\n",
       " 0.11432,\n",
       " 0.22876,\n",
       " 0.21161,\n",
       " 0.1396,\n",
       " 0.13262,\n",
       " 0.1712,\n",
       " 0.13117,\n",
       " 0.12802,\n",
       " 0.26363,\n",
       " 0.10793,\n",
       " 0.10084,\n",
       " 0.12329,\n",
       " 0.22212,\n",
       " 0.14231,\n",
       " 0.17134,\n",
       " 0.13158,\n",
       " 0.15098,\n",
       " 0.13058,\n",
       " 0.14476,\n",
       " 0.06899,\n",
       " 0.07165,\n",
       " 0.09299,\n",
       " 0.15038,\n",
       " 0.09849,\n",
       " 0.16902,\n",
       " 0.38735,\n",
       " 0.25915,\n",
       " 0.32543,\n",
       " 0.88125,\n",
       " 0.34006,\n",
       " 1.19294,\n",
       " 0.59005,\n",
       " 0.32982,\n",
       " 0.97617,\n",
       " 0.55778,\n",
       " 0.32264,\n",
       " 0.35233,\n",
       " 0.2498,\n",
       " 0.54452,\n",
       " 0.2909,\n",
       " 1.62864,\n",
       " 3.32105,\n",
       " 4.0974,\n",
       " 2.77974,\n",
       " 2.37934,\n",
       " 2.15505,\n",
       " 2.36862,\n",
       " 2.33099,\n",
       " 2.73397,\n",
       " 1.6566,\n",
       " 1.49632,\n",
       " 1.12658,\n",
       " 2.14918,\n",
       " 1.41385,\n",
       " 3.53501,\n",
       " 2.44668,\n",
       " 1.22358,\n",
       " 1.34284,\n",
       " 1.42502,\n",
       " 1.27346,\n",
       " 1.46336,\n",
       " 1.83377,\n",
       " 1.51902,\n",
       " 2.24236,\n",
       " 2.924,\n",
       " 2.01019,\n",
       " 1.80028,\n",
       " 2.3004,\n",
       " 2.44953,\n",
       " 1.20742,\n",
       " 2.3139,\n",
       " 0.13914,\n",
       " 0.09178,\n",
       " 0.08447,\n",
       " 0.06664,\n",
       " 0.07022,\n",
       " 0.05425,\n",
       " 0.06642,\n",
       " 0.0578,\n",
       " 0.06588,\n",
       " 0.06888,\n",
       " 0.09103,\n",
       " 0.10008,\n",
       " 0.08308,\n",
       " 0.06047,\n",
       " 0.05602,\n",
       " 0.07875,\n",
       " 0.12579,\n",
       " 0.0837,\n",
       " 0.09068,\n",
       " 0.06911,\n",
       " 0.08664,\n",
       " 0.02187,\n",
       " 0.01439,\n",
       " 0.01381,\n",
       " 0.04011,\n",
       " 0.04666,\n",
       " 0.03768,\n",
       " 0.0315,\n",
       " 0.01778,\n",
       " 0.03445,\n",
       " 0.02177,\n",
       " 0.0351,\n",
       " 0.02009,\n",
       " 0.13642,\n",
       " 0.22969,\n",
       " 0.25199,\n",
       " 0.13587,\n",
       " 0.43571,\n",
       " 0.17446,\n",
       " 0.37578,\n",
       " 0.21719,\n",
       " 0.14052,\n",
       " 0.28955,\n",
       " 0.19802,\n",
       " 0.0456,\n",
       " 0.07013,\n",
       " 0.11069,\n",
       " 0.11425,\n",
       " 0.35809,\n",
       " 0.40771,\n",
       " 0.62356,\n",
       " 0.6147,\n",
       " 0.31533,\n",
       " 0.52693,\n",
       " 0.38214,\n",
       " 0.41238,\n",
       " 0.29819,\n",
       " 0.44178,\n",
       " 0.537,\n",
       " 0.46296,\n",
       " 0.57529,\n",
       " 0.33147,\n",
       " 0.44791,\n",
       " 0.33045,\n",
       " 0.52058,\n",
       " 0.51183,\n",
       " 0.08244,\n",
       " 0.09252,\n",
       " 0.11329,\n",
       " 0.10612,\n",
       " 0.1029,\n",
       " 0.12757,\n",
       " 0.20608,\n",
       " 0.19133,\n",
       " 0.33983,\n",
       " 0.19657,\n",
       " 0.16439,\n",
       " 0.19073,\n",
       " 0.1403,\n",
       " 0.21409,\n",
       " 0.08221,\n",
       " 0.36894,\n",
       " 0.04819,\n",
       " 0.03548,\n",
       " 0.01538,\n",
       " 0.61154,\n",
       " 0.66351,\n",
       " 0.65665,\n",
       " 0.54011,\n",
       " 0.53412,\n",
       " 0.52014,\n",
       " 0.82526,\n",
       " 0.55007,\n",
       " 0.76162,\n",
       " 0.7857,\n",
       " 0.57834,\n",
       " 0.5405,\n",
       " 0.09065,\n",
       " 0.29916,\n",
       " 0.16211,\n",
       " 0.1146,\n",
       " 0.22188,\n",
       " 0.05644,\n",
       " 0.09604,\n",
       " 0.10469,\n",
       " 0.06127,\n",
       " 0.07978,\n",
       " 0.21038,\n",
       " 0.03578,\n",
       " 0.03705,\n",
       " 0.06129,\n",
       " 0.01501,\n",
       " 0.00906,\n",
       " 0.01096,\n",
       " 0.01965,\n",
       " 0.03871,\n",
       " 0.0459,\n",
       " 0.04297,\n",
       " 0.03502,\n",
       " 0.07886,\n",
       " 0.03615,\n",
       " 0.08265,\n",
       " 0.08199,\n",
       " 0.12932,\n",
       " 0.05372,\n",
       " 0.14103,\n",
       " 0.06466,\n",
       " 0.05561,\n",
       " 0.04417,\n",
       " 0.03537,\n",
       " 0.09266,\n",
       " 0.1,\n",
       " 0.05515,\n",
       " 0.05479,\n",
       " 0.07503,\n",
       " 0.04932,\n",
       " 0.49298,\n",
       " 0.3494,\n",
       " 2.63548,\n",
       " 0.79041,\n",
       " 0.26169,\n",
       " 0.26938,\n",
       " 0.3692,\n",
       " 0.25356,\n",
       " 0.31827,\n",
       " 0.24522,\n",
       " 0.40202,\n",
       " 0.47547,\n",
       " 0.1676,\n",
       " 0.18159,\n",
       " 0.35114,\n",
       " 0.28392,\n",
       " 0.34109,\n",
       " 0.19186,\n",
       " 0.30347,\n",
       " 0.24103,\n",
       " 0.06617,\n",
       " 0.06724,\n",
       " 0.04544,\n",
       " 0.05023,\n",
       " 0.03466,\n",
       " 0.05083,\n",
       " 0.03738,\n",
       " 0.03961,\n",
       " 0.03427,\n",
       " 0.03041,\n",
       " 0.03306,\n",
       " 0.05497,\n",
       " 0.06151,\n",
       " 0.01301,\n",
       " 0.02498,\n",
       " 0.02543,\n",
       " 0.03049,\n",
       " 0.03113,\n",
       " 0.06162,\n",
       " 0.0187,\n",
       " 0.01501,\n",
       " 0.02899,\n",
       " 0.06211,\n",
       " 0.0795,\n",
       " 0.07244,\n",
       " 0.01709,\n",
       " 0.04301,\n",
       " 0.10659,\n",
       " 8.98296,\n",
       " 3.8497,\n",
       " 5.20177,\n",
       " 4.26131,\n",
       " 4.54192,\n",
       " 3.83684,\n",
       " 3.67822,\n",
       " 4.22239,\n",
       " 3.47428,\n",
       " 4.55587,\n",
       " 3.69695,\n",
       " 13.5222,\n",
       " 4.89822,\n",
       " 5.66998,\n",
       " 6.53876,\n",
       " 9.2323,\n",
       " 8.26725,\n",
       " 11.1081,\n",
       " 18.4982,\n",
       " 19.6091,\n",
       " 15.288,\n",
       " 9.82349,\n",
       " 23.6482,\n",
       " 17.8667,\n",
       " 88.9762,\n",
       " 15.8744,\n",
       " 9.18702,\n",
       " 7.99248,\n",
       " 20.0849,\n",
       " 16.8118,\n",
       " 24.3938,\n",
       " 22.5971,\n",
       " 14.3337,\n",
       " 8.15174,\n",
       " 6.96215,\n",
       " 5.29305,\n",
       " 11.5779,\n",
       " 8.64476,\n",
       " 13.3598,\n",
       " 8.71675,\n",
       " 5.87205,\n",
       " 7.67202,\n",
       " 38.3518,\n",
       " 9.91655,\n",
       " 25.0461,\n",
       " 14.2362,\n",
       " 9.59571,\n",
       " 24.8017,\n",
       " 41.5292,\n",
       " 67.9208,\n",
       " 20.7162,\n",
       " 11.9511,\n",
       " 7.40389,\n",
       " 14.4383,\n",
       " 51.1358,\n",
       " 14.0507,\n",
       " 18.811,\n",
       " 28.6558,\n",
       " 45.7461,\n",
       " 18.0846,\n",
       " 10.8342,\n",
       " 25.9406,\n",
       " 73.5341,\n",
       " 11.8123,\n",
       " 11.0874,\n",
       " 7.02259,\n",
       " 12.0482,\n",
       " 7.05042,\n",
       " 8.79212,\n",
       " 15.8603,\n",
       " 12.2472,\n",
       " 37.6619,\n",
       " 7.36711,\n",
       " 9.33889,\n",
       " 8.49213,\n",
       " 10.0623,\n",
       " 6.44405,\n",
       " 5.58107,\n",
       " 13.9134,\n",
       " 11.1604,\n",
       " 14.4208,\n",
       " 15.1772,\n",
       " 13.6781,\n",
       " 9.39063,\n",
       " 22.0511,\n",
       " 9.72418,\n",
       " 5.66637,\n",
       " 9.96654,\n",
       " 12.8023,\n",
       " 10.6718,\n",
       " 6.28807,\n",
       " 9.92485,\n",
       " 9.32909,\n",
       " 7.52601,\n",
       " 6.71772,\n",
       " 5.44114,\n",
       " 5.09017,\n",
       " 8.24809,\n",
       " 9.51363,\n",
       " 4.75237,\n",
       " 4.66883,\n",
       " 8.20058,\n",
       " 7.75223,\n",
       " 6.80117,\n",
       " 4.81213,\n",
       " 3.69311,\n",
       " 6.65492,\n",
       " 5.82115,\n",
       " 7.83932,\n",
       " 3.1636,\n",
       " 3.77498,\n",
       " 4.42228,\n",
       " 15.5757,\n",
       " 13.0751,\n",
       " 4.34879,\n",
       " 4.03841,\n",
       " 3.56868,\n",
       " 4.64689,\n",
       " 8.05579,\n",
       " 6.39312,\n",
       " 4.87141,\n",
       " 15.0234,\n",
       " 10.233,\n",
       " 14.3337,\n",
       " 5.82401,\n",
       " 5.70818,\n",
       " 5.73116,\n",
       " 2.81838,\n",
       " 2.37857,\n",
       " 3.67367,\n",
       " 5.69175,\n",
       " 4.83567,\n",
       " 0.15086,\n",
       " 0.18337,\n",
       " 0.20746,\n",
       " 0.10574,\n",
       " 0.11132,\n",
       " 0.17331,\n",
       " 0.27957,\n",
       " 0.17899,\n",
       " 0.2896,\n",
       " 0.26838,\n",
       " 0.23912,\n",
       " 0.17783,\n",
       " 0.22438,\n",
       " 0.06263,\n",
       " 0.04527,\n",
       " 0.06076,\n",
       " 0.10959,\n",
       " 0.04741]"
      ]
     },
     "execution_count": 26,
     "metadata": {},
     "output_type": "execute_result"
    }
   ],
   "source": [
    "housing_dict['CRIM']"
   ]
  },
  {
   "cell_type": "code",
   "execution_count": 18,
   "metadata": {},
   "outputs": [
    {
     "name": "stdout",
     "output_type": "stream",
     "text": [
      "dict_keys(['CRIM', 'ZN', 'INDUS', 'CHAS', 'NOX', 'RM', 'AGE', 'DIS', 'RAD', 'TAX', 'PTRATIO', 'B', 'LSTAT', 'MEDV'])\n"
     ]
    }
   ],
   "source": [
    "print(housing_dict.keys())"
   ]
  },
  {
   "cell_type": "code",
   "execution_count": 17,
   "metadata": {},
   "outputs": [],
   "source": [
    "# convert from string to float\n",
    "for name, col in housing_dict.items():\n",
    "    col = [float(x) for x in col]\n",
    "    housing_dict[name] = col"
   ]
  },
  {
   "cell_type": "code",
   "execution_count": 28,
   "metadata": {},
   "outputs": [
    {
     "data": {
      "text/plain": [
       "88.9762"
      ]
     },
     "execution_count": 28,
     "metadata": {},
     "output_type": "execute_result"
    }
   ],
   "source": [
    "import numpy as np\n",
    "\n",
    "np.max(housing_dict['CRIM'])"
   ]
  },
  {
   "cell_type": "markdown",
   "metadata": {},
   "source": [
    "### 4. For what two attributes does it make the *least* sense to calculate mean and median? Why?"
   ]
  },
  {
   "cell_type": "code",
   "execution_count": 5,
   "metadata": {
    "collapsed": true
   },
   "outputs": [],
   "source": [
    "# A:"
   ]
  },
  {
   "cell_type": "markdown",
   "metadata": {},
   "source": [
    "### 5. Which two variables have the strongest linear association? \n",
    "\n",
    "Report both variables, the metric you chose as the basis for your comparison, and the value of that metric. *(Hint: Make sure you consider only variables for which it makes sense to find a linear association.)*"
   ]
  },
  {
   "cell_type": "code",
   "execution_count": 6,
   "metadata": {},
   "outputs": [],
   "source": [
    "# A:"
   ]
  },
  {
   "cell_type": "markdown",
   "metadata": {},
   "source": [
    "### 6. Look at distributional qualities of variables.\n",
    "\n",
    "Answer the following questions:\n",
    "1. Which variable has the most symmetric distribution? \n",
    "2. Which variable has the most left-skewed (negatively skewed) distribution? \n",
    "3. Which variable has the most right-skewed (positively skewed) distribution? \n",
    "\n",
    "Defend your method for determining this."
   ]
  },
  {
   "cell_type": "code",
   "execution_count": 7,
   "metadata": {},
   "outputs": [],
   "source": [
    "# A:"
   ]
  },
  {
   "cell_type": "markdown",
   "metadata": {},
   "source": [
    "### 8. Repeat question 6 but scale the variables by their range first.\n",
    "\n",
    "As you may have noticed, the spread of the distribution contributed significantly to the results in question 6."
   ]
  },
  {
   "cell_type": "code",
   "execution_count": 8,
   "metadata": {},
   "outputs": [],
   "source": [
    "# A:"
   ]
  },
  {
   "cell_type": "markdown",
   "metadata": {},
   "source": [
    "### 9. Univariate analysis of your choice\n",
    "\n",
    "Conduct a full univariate analysis on MEDV, CHAS, TAX, and RAD. \n",
    "\n",
    "For each variable, you should answer the three questions generally asked in a univariate analysis using the most appropriate metrics.\n",
    "- A measure of central tendency\n",
    "- A measure of spread\n",
    "- A description of the shape of the distribution (plot or metric based)\n",
    "\n",
    "If you feel there is additional information that is relevant, include it. "
   ]
  },
  {
   "cell_type": "code",
   "execution_count": 9,
   "metadata": {
    "collapsed": true
   },
   "outputs": [],
   "source": [
    "# A:"
   ]
  },
  {
   "cell_type": "markdown",
   "metadata": {},
   "source": [
    "### 10. Have you been using inferential statistics, descriptive statistics, or both?\n",
    "\n",
    "For each exercise, identify the branch of statistics on which you relied for your answer."
   ]
  },
  {
   "cell_type": "code",
   "execution_count": 10,
   "metadata": {
    "collapsed": true
   },
   "outputs": [],
   "source": [
    "# A:"
   ]
  },
  {
   "cell_type": "markdown",
   "metadata": {},
   "source": [
    "### 11. Reducing the number of observations\n",
    "\n",
    "It seems likely that this data is a census - that is, the data set includes the entire target population. Suppose that the 506 observations was too much for our computer (as unlikely as this might be) and we needed to pare this down to fewer observations. \n",
    "\n",
    "**11.A Use the `random.sample()` function to select 50 observations from `'AGE'`.**\n",
    "\n",
    "([This documentation](https://docs.python.org/2/library/random.html) may be helpful.)"
   ]
  },
  {
   "cell_type": "code",
   "execution_count": 11,
   "metadata": {},
   "outputs": [],
   "source": [
    "# A:"
   ]
  },
  {
   "cell_type": "markdown",
   "metadata": {},
   "source": [
    "**11.B Identify the type of sampling we just used.**"
   ]
  },
  {
   "cell_type": "code",
   "execution_count": 12,
   "metadata": {
    "collapsed": true
   },
   "outputs": [],
   "source": [
    "# A:"
   ]
  },
  {
   "cell_type": "markdown",
   "metadata": {},
   "source": [
    "### 12. [BONUS] Of the remaining types of sampling, describe (but do not execute) how you might implement at least one of these types of sampling.\n"
   ]
  },
  {
   "cell_type": "code",
   "execution_count": 13,
   "metadata": {
    "collapsed": true
   },
   "outputs": [],
   "source": [
    "# A:"
   ]
  }
 ],
 "metadata": {
  "kernelspec": {
   "display_name": "Python 3",
   "language": "python",
   "name": "python3"
  },
  "language_info": {
   "codemirror_mode": {
    "name": "ipython",
    "version": 3
   },
   "file_extension": ".py",
   "mimetype": "text/x-python",
   "name": "python",
   "nbconvert_exporter": "python",
   "pygments_lexer": "ipython3",
   "version": "3.7.4"
  }
 },
 "nbformat": 4,
 "nbformat_minor": 2
}
