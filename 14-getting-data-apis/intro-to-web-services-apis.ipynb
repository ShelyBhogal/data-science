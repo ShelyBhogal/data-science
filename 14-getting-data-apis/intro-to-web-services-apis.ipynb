{
 "cells": [
  {
   "cell_type": "markdown",
   "metadata": {
    "slideshow": {
     "slide_type": "notes"
    }
   },
   "source": [
    "> **Jupyter slideshow:** This notebook can be displayed as slides. To view it as a slideshow in your browser type in the console:\n",
    "\n",
    "\n",
    "> `> jupyter nbconvert [this_notebook.ipynb] --to slides --post serve`\n",
    "\n",
    "\n",
    "> To toggle off the slideshow cell formatting, click the `CellToolbar` button, then `View --> Cell Toolbar --> None`"
   ]
  },
  {
   "cell_type": "markdown",
   "metadata": {
    "slideshow": {
     "slide_type": "slide"
    }
   },
   "source": [
    "<img src=\"http://imgur.com/1ZcRyrc.png\" style=\"float: left; margin: 20px; height: 55px\">\n",
    "\n",
    "# Introduction to Web Services and APIs\n",
    "\n",
    "_Author: Joseph Nelson (DC)_\n",
    "\n",
    "---\n",
    "![](assets/opening.png)"
   ]
  },
  {
   "cell_type": "markdown",
   "metadata": {
    "slideshow": {
     "slide_type": "slide"
    }
   },
   "source": [
    "### Learning Objectives\n",
    "*After this lesson, you will be able to:*\n",
    "- Identify relevant HTTP Verbs & their uses.\n",
    "- Describe Application Programming Interfaces (APIs) and know how to make calls and consume API data.\n",
    "- Access public APIs and get information back.\n",
    "- Read and write data in JSON format.\n",
    "- Use the `requests` library."
   ]
  },
  {
   "cell_type": "markdown",
   "metadata": {
    "slideshow": {
     "slide_type": "slide"
    }
   },
   "source": [
    "### Lesson Guide\n",
    "- [Introduction to APIs](#intro)\n",
    "- [What is an API?](#what-is-api)\n",
    "- [Famous APIs](#famous)\n",
    "    - [Facebook](#facebook)\n",
    "    - [Yelp](#yelp)\n",
    "    - [Echonest](#echonest)\n",
    "- [Web APIs](#web-apis)\n",
    "- [Making API calls](#api-calls)\n",
    "- [HTTP](#http)\n",
    "- [Web applications](#web-app)\n",
    "- [Demo: HTTP](#demo-http)\n",
    "- [Independent practice: HTTP](#ind-http)\n",
    "- [HTTP Request](#http-request)\n",
    "    - [HTTP Request methods](#request-methods)\n",
    "    - [HTTP Request structure](#request-structure)\n",
    "- [HTTP Response](#http-response)\n",
    "    - [Response types overview](#response-types)\n",
    "- [JSON](#json)\n",
    "- [Independent practice: validating JSON](#ind-practice)\n",
    "- [Guided practice: pulling data from APIs](#guided-practice)\n",
    "    - [Example 1: Star Wars](#ex1-star-wars)\n",
    "    - [Submit queries to the API](#submit)\n",
    "    - [Example 2: Google Geocode](#ex2-geocode)\n",
    "- [OAuth](#oauth)\n",
    "- [Independent practice: python APIs](#ind-practice2)\n",
    "- [Closing questions](#closing-questions)"
   ]
  },
  {
   "cell_type": "markdown",
   "metadata": {
    "slideshow": {
     "slide_type": "slide"
    }
   },
   "source": [
    "<a name=\"intro\"></a>\n",
    "## Introduction to APIs\n",
    "\n",
    "---\n",
    "\n",
    "In this lesson, we will be diving into the world of APIs. We will take a tour of one of the most accessible sources of data on the Internet.\n",
    "\n",
    "You will learn:\n",
    "- **What is meant by an \"API\"**\n",
    "- **Common API use cases**\n",
    "- **How to read API documentation**\n",
    "- **General development workflow with APIs**\n",
    "\n",
    "*Does anyone in the class have any experience using APIs?*\n"
   ]
  },
  {
   "cell_type": "markdown",
   "metadata": {
    "slideshow": {
     "slide_type": "slide"
    }
   },
   "source": [
    "<a id='what-is-api'></a>\n",
    "## What is an API?\n",
    "\n",
    "---\n",
    "\n",
    "An **API (Application Programming Interface)** is a set of routines, protocols, and tools for building software applications. It specifies how software components should interact.\n",
    "\n",
    "We are used to many **interfaces** in real life. For example:\n",
    "\n",
    "- **A door handle.** We don't care how a door works. All that we expect is that pushing or pulling the handle will open the door. In fact, the way the door opens (theoretically) could be entirely different each time we use the door. \n",
    "\n",
    "- **File->Print.** We don't care how the computer prints the document. All that we expect is that using the Print option in the File menu will print the document. In fact, the way the computer prints it could change every time the program is updated. \n",
    "\n",
    "In programming, we also use many interfaces. The interface we use to a programming library is its function calls. For example:\n",
    "\n",
    "- **Matplotlib `plot()`**: We don't care how the `plot()` function works. All that we expect is that calling this function (with appropriate parameters) will plot the data and return a graphic. In fact, how the function works can completely change from version to version. \n",
    "\n",
    "**These are APIs -- Application Programming Interfaces.** The functions that you call and the parameters you call them with make up the interface to a programming library.\n",
    "\n",
    "#### Web APIs\n",
    "\n",
    "- **How does this extend to the web?** A Web API is a list of function calls that are made to remote servers. The function call is sent by encoding it as a URL (technically, as an HTTP request -- we'll discuss these later!). The function call typically returns a string of text (e.g. JSON)."
   ]
  },
  {
   "cell_type": "markdown",
   "metadata": {
    "slideshow": {
     "slide_type": "slide"
    }
   },
   "source": [
    "APIs are a way developers connect functionality to data, devices, and other resources they provide. \n",
    "\n",
    "Some examples that APIs can assist with are:\n",
    "\n",
    "- Connectivity to a variety of databases\n",
    "- Python modules that can turn LED lights on and off\n",
    "- Application that runs on native Windows, OSX, or Linux\n",
    "- Libraries that post content on Twitter, Facebook, Yelp, or LinkedIn\n",
    "- Web services for accessing currency or stock prices\n",
    "\n",
    "More abstract examples:\n",
    "- Adding your own functions to Numpy itself\n",
    "- Extending Python with C code\n",
    "- Testing Frameworks\n",
    "\n",
    "In the context of data science, APIs are a very common method to interact with data hosted by third parties and most commonly provided by **Web Service APIs**, or just **Web APIs**."
   ]
  },
  {
   "cell_type": "markdown",
   "metadata": {
    "slideshow": {
     "slide_type": "fragment"
    }
   },
   "source": [
    "### Why did APIs become popular?\n",
    "\n",
    "APIs became popular for many reasons:\n",
    "\n",
    "- Easy to use for JavaScript programmers\n",
    "- Prevent website scraping\n",
    "- Allow a website's brand to be incorporated into other websites \n",
    "\n",
    "More importantly, in the modern web, nearly every website uses **internal APIs** for shuttling dynamic data between the browser and the website. It is often possible to discover and hijack these internal APIs to gather data. (This is beyond the scope of this lesson.)"
   ]
  },
  {
   "cell_type": "markdown",
   "metadata": {
    "slideshow": {
     "slide_type": "slide"
    }
   },
   "source": [
    "<a id='famous'></a>\n",
    "<a id='facebook'></a>\n",
    "\n",
    "### Famous APIs:  Facebook Graph API\n",
    "\n",
    "Facebook provides an API for interacting with their service.  At a glance:\n",
    "\n",
    "- View your posts\n",
    "- View websites, people, posts, pages that you've liked\n",
    "- View activity on apps from you and your friends\n",
    "  - Movies watched\n",
    "  - Music listened\n",
    "  - Games played\n",
    "- View places traveled / check-ins\n",
    "- Relationships\n",
    "\n",
    "#### Potential Project Ideas:\n",
    "\n",
    "|   |   |   |   |\n",
    "|---|---|---|---|\n",
    "| Determining Latent Characteristics | Friends Activity | Political Classification | Text Mining |\n",
    "| Friend Classifier | Trending Topics | Recommenders | Feature Importances |\n",
    "| Taste Profiling | Hipster Detector | Sub-group Identification | Checkin-Prediction |\n",
    "| Relationship Forcasting | Relationship Classification | Sentiment Analysis | Popularity Projection |\n",
    "| Personal Analytics | Friend Similarity Prediction | N-Gram Analysis | Topic Modeling |"
   ]
  },
  {
   "cell_type": "markdown",
   "metadata": {
    "slideshow": {
     "slide_type": "slide"
    }
   },
   "source": [
    "<a id='yelp'></a>\n",
    "### Famous APIs:  Yelp API\n",
    "\n",
    "Yelp provides a way for developers to access:\n",
    "\n",
    "- Reviews\n",
    " - Services\n",
    " - Restaraunts / Bars / Cafes\n",
    " - Businesses\n",
    "- Business meta-data\n",
    "\n",
    "#### Potential Project Ideas\n",
    "\n",
    "|   |   |   |   |\n",
    "|---|---|---|---|\n",
    "| Topic Modeling | Text Mining | Sentiment Analysis | Funny / Cool / Interesting Classification | \n",
    "| Music Genre Classification | Parking Index Classification | Characteristics Profiling | Hipster Index |\n",
    "| Ideal Activities | Friend Recommender | Venue Recommender | Sports Bar Classifcation |\n",
    "| Where is the best [whatever] in [neighborhood] | | |"
   ]
  },
  {
   "cell_type": "markdown",
   "metadata": {
    "slideshow": {
     "slide_type": "slide"
    }
   },
   "source": [
    "<a id='echonest'></a>\n",
    "### Famous APIs:  Echonest\n",
    "\n",
    "Echonest consolidates access to many entertainment service APIs in one place.  It has a huge list of features and connected services including:\n",
    "\n",
    "- Spotify\n",
    "- Pandora\n",
    "- Rdio\n",
    "- Gracenote\n",
    "- SoundHound\n",
    "- Shazam\n",
    "\n",
    "Some Echonest features include:\n",
    "\n",
    "- Music waveform identification (like Shazam, Soundhound music ID)\n",
    "- Playlist recommendations\n",
    "- Detailed artist, album, and track lookup\n",
    " - Bio / Origins / Contemporaries / Noteworthy Accomplishments\n",
    " - Official twitter / website / social media links\n",
    " - BPM / Mood / Popularity / Genre(s) \n",
    " - Images / Videos / Media\n",
    "- Detailed movie, actor, product lookup\n",
    "- Concert Schedules and ticket metadata"
   ]
  },
  {
   "cell_type": "markdown",
   "metadata": {
    "slideshow": {
     "slide_type": "slide"
    }
   },
   "source": [
    "<a id='web-apis'></a>\n",
    "## Web APIs\n",
    "\n",
    "---\n",
    "\n",
    "<img src = \"assets/notify.png\" width=150>\n",
    "\n",
    "The prevelance of web APIs have increased 10x with the rise of Javascript and advent of web programming techniques. These allow for the transmission of small pieces of data without having to refresh the entire page.\n",
    "\n",
    "With the growth of highly interactive websites powered by modern Javascript, many languages have started co-opting standards to communicate data to and from web servers for two big reasons:\n",
    "- Ease of integration\n",
    "- Consistent standards\n",
    "\n",
    "Modern Javascript allows for **asynchronous requests**, or **AJAX** (Asynchronous JavaScript And XML). This allows websites to send/receive data in the background, e.g. to/from APIs. "
   ]
  },
  {
   "cell_type": "markdown",
   "metadata": {
    "slideshow": {
     "slide_type": "slide"
    }
   },
   "source": [
    "<a name=\"api-calls\"></a>\n",
    "## Making API calls\n",
    "\n",
    "---\n",
    "\n",
    "API calls are really a fancy term for making _HTTP requests_ (in the context of web APIs) to a server and sending/receiving structured data from that endpoint (URL). We are still communicating with URLs, however instead of receiving a string of HTML, we receive data.\n",
    "\n",
    "[Representational state transfer (REST)](https://spring.io/understanding/REST) is the most common architecture style for passing information to and from these API endpoints.\n",
    "\n",
    "### API Tokens\n",
    "\n",
    "Many APIs are free to access. You first need to register as a developer and obtain an authorization key. In most cases, this is also accompanied by a temporary token that needs to be renewed after some time. This is a way to prevent abuse on the server's resources. \n",
    "\n",
    "- For example, the Twitter API requires a token that is used to track how many requests each user makes. Each user can retrieve a limited number of tweets, unless they pay for premium services.\n",
    "\n",
    "Before we start consuming API services, it is important to understand the fundamentals of the underlying communication layer: **HTTP**."
   ]
  },
  {
   "cell_type": "markdown",
   "metadata": {
    "slideshow": {
     "slide_type": "slide"
    }
   },
   "source": [
    "<a id='http'></a>\n",
    "## HTTP\n",
    "\n",
    "---\n",
    "\n",
    "**HTTP (HyperText Transfer Protocol)** is a protocol - a system of rules - that determines how web pages (see:'hypertext') get sent (see:'transferred') from one place to another. Among other things, it defines the format of the messages passed between HTTP clients and HTTP servers.\n",
    "\n",
    "Since the web is a service, it works through a combination of **clients** (that _make_ requests) and **servers** (that _receive_ requests).\n"
   ]
  },
  {
   "cell_type": "markdown",
   "metadata": {
    "slideshow": {
     "slide_type": "slide"
    }
   },
   "source": [
    "### The HTTP client\n",
    "\n",
    "**HTTP clients** make or generate **HTTP requests**. Some types of clients are:\n",
    "\n",
    "* Browsers - Chrome, Firefox and Safari.\n",
    "* Command Line programs - [curl](http://curl.haxx.se/docs/) and [wget](http://www.gnu.org/software/wget/manual/wget.html).\n",
    "* Application code -  Python Requsts, Scrapy, Mechanize\n",
    "\n",
    "HTTP clients respond to HTTP responses from a **web server**/**HTTP server**. A web server is just a computer that listens for and responds to HTTP requests."
   ]
  },
  {
   "cell_type": "markdown",
   "metadata": {
    "slideshow": {
     "slide_type": "slide"
    }
   },
   "source": [
    "### HTTP and web servers\n",
    "\n",
    "All _web servers_ receive _HTTP requests_ and generate _HTTP responses_. Often web servers are just the middleman, passing HTTP requests and responses between the client and web application. Two of the most popular _HTTP or Web servers_ are [Apache](http://httpd.apache.org/) and [Nginx](http://nginx.com/), But there are many different [web servers](https://www.tutorialspoint.com/internet_technologies/web_servers.htm) out there."
   ]
  },
  {
   "cell_type": "markdown",
   "metadata": {
    "slideshow": {
     "slide_type": "slide"
    }
   },
   "source": [
    "### Check: Where do you think a web application lives?\n",
    "\n",
    "- Client\n",
    "- Server\n",
    "- The cloud\n",
    "- Mobile devices\n",
    "- In your car\n",
    "- In your bluetooth connected toaster with LCD display"
   ]
  },
  {
   "cell_type": "markdown",
   "metadata": {
    "slideshow": {
     "slide_type": "slide"
    }
   },
   "source": [
    "<a id='web-app'></a>\n",
    "## Web applications\n",
    "\n",
    "---\n",
    "\n",
    "Web applications are programs that run on a web server. They process the HTTP requests that the server receives and generate HTTP responses.\n",
    "\n",
    "![HTTP Request and Response](assets/request-response.png)\n",
    "\n",
    "Lost? Here's the play-by-play.\n",
    "\n",
    "1. A client sends a HTTP request to a HTTP server running on a remote machine.  \n",
    "  * The _hostname_, given in the URL, indicates which server will receive the request.  \n",
    "2. The HTTP server processes the HTTP request. This may entail passing the request to some web application, which creates a HTTP response. \n",
    "3. The response gets sent back to the client.\n",
    "4. The client processes the response.\n",
    "\n",
    "How does the server know what the request is asking for? This is specified by the URL, a special kind of path that specifies where a resource can be found on the web.\n",
    "\n",
    "![URL](./assets/http1-url-structure.png)\n",
    "\n",
    "> **Check:** can anyone explain what a client and a server are?"
   ]
  },
  {
   "cell_type": "markdown",
   "metadata": {
    "slideshow": {
     "slide_type": "slide"
    }
   },
   "source": [
    "<a name=\"demo-http\"></a>\n",
    "## Demo: HTTP\n",
    "\n",
    "---\n",
    "\n",
    "Let's explore HTTP resources. We'll start by looking at HTTP requests and responses using the Chrome Inspector.\n",
    "\n",
    "![HTTP Request and Response](./assets/http_request_response.jpeg \"HTTP Request and Response\")\n",
    "\n",
    "* In Chrome, open up Chrome Inspector (*command + option + 'i', or ctrl + click and select 'inspect element'*).\n",
    "* Select the Network tab. It should look something like this:\n",
    "\n",
    "![Chrome Inspector](./assets/chrome_inspector.png)\n",
    "\n",
    "* Next, go to the URL https://generalassemb.ly/\n",
    "\n",
    "You should be able to see a few HTTP requests and responses in the Network tab. For each request, you'll see a **Path**, **Method**, **Status**, **Type**, and **Size**, along with info about how long it took to get each of these resources.\n",
    "  * Most of this information comes from the HTTP Request and Response.\n",
    "  * Some HTTP requests are for CSS, JavaScript and images that are referenced by the HTML.\n",
    "  * Select `generalassemb.ly` in the Path column on the far left.\n",
    "  * Select the Headers tab. **Headers** are meta-data properties of an HTTP request or response, separate from the body of the message."
   ]
  },
  {
   "cell_type": "markdown",
   "metadata": {
    "slideshow": {
     "slide_type": "slide"
    }
   },
   "source": [
    "<a id='ind-http'></a>\n",
    "\n",
    "## Independent practice: HTTP\n",
    "\n",
    "---\n",
    "\n",
    "\n",
    "### With a partner, go to your favorite website(s) (safe for work), inspect the protocol from the Chrome network inspection tool (cmd-opt-i), and identify:\n",
    "\n",
    "- Requests sent by your client\n",
    "- Requests sent by the server\n",
    "- URI (Uniform Resource Identifier), a generalized URL\n",
    "\n",
    "#### Research and Explain:\n",
    "- cache-control\n",
    "- age\n",
    "- content-encoding\n",
    "- expires\n",
    "- \"GET\" and \"POST\" requests\n",
    "- query string parameters\n",
    "\n",
    "#### Bonus:\n",
    "What are cookies?\n",
    "<img src=\"assets/cookies.png\" style=\"width: 100px\">"
   ]
  },
  {
   "cell_type": "markdown",
   "metadata": {
    "slideshow": {
     "slide_type": "slide"
    }
   },
   "source": [
    "<a id='http-request'></a>\n",
    "## HTTP Request\n",
    "\n",
    "---\n",
    "\n",
    "First, notice that every HTTP request is ultimately plain text -- it is human-readable! This is convenient, but it makes requests larger.\n",
    "\n",
    "The first word in the request line, _GET_, is the **HTTP method**.\n",
    "\n",
    "![HTTP Request](./assets/http_request.jpeg \"HTTP Request\")\n",
    "\n",
    "<a id='request-methods'></a>\n",
    "### HTTP Request methods:\n",
    "\n",
    "* **`GET`** => Retrieve a resource.  \n",
    "* **`POST`** => Create a resource.  \n",
    "* **`PATCH`** (_or **`PUT`**, but **`PATCH`** is recommended_) => Update an existing resource.  \n",
    "* **`DELETE`** => Delete a resource.  \n",
    "* **`HEAD`** => Retrieve the headers for a resource.\n",
    "\n",
    "Of these, **`GET`** and **`POST`** are the most widely used."
   ]
  },
  {
   "cell_type": "markdown",
   "metadata": {
    "slideshow": {
     "slide_type": "slide"
    }
   },
   "source": [
    "<a id='request-structure'></a>\n",
    "### HTTP Request structure:\n",
    "\n",
    "```\n",
    "[http request method] [URL] [http version]  \n",
    "[list of headers]\n",
    "\n",
    "[request body]\n",
    "```\n",
    "\n",
    "*Notice that the request header is separated from the request body by a new line.*"
   ]
  },
  {
   "cell_type": "markdown",
   "metadata": {
    "slideshow": {
     "slide_type": "slide"
    }
   },
   "source": [
    "**HTTP Request Method Example: (No Body)**\n",
    "\n",
    "    GET http://vermonster.com HTTP/1.1  \n",
    "    Accept:text/html,application/xhtml+xml,application/xml;q=0.9,image/webp,*/*;q=0.8  \n",
    "    Accept-Encoding:gzip,deflate,sdch\n",
    "    Accept-Language:en-US,en;q=0.8  \n",
    "    Connection:keep-alive  \n",
    "    Host:vermonster.com  \n",
    "    User-Agent:Mozilla/5.0 (Macintosh; Intel Mac OS X 10_8_5)  \n",
    "    AppleWebKit/537.36 (KHTML, like Gecko) Chrome/32.0.1659.2 Safari/537.36  "
   ]
  },
  {
   "cell_type": "markdown",
   "metadata": {
    "slideshow": {
     "slide_type": "slide"
    }
   },
   "source": [
    "<a id='http-response'></a>\n",
    "## HTTP Response\n",
    "\n",
    "---\n",
    "\n",
    "![HTTP Response](./assets/http_response.jpeg \"HTTP Response\")\n",
    "\n",
    "When a client sends a request, the server sends back a response; the standard format for this response is:\n",
    "\n",
    "```\n",
    "[http version] [status] [reason]  \n",
    "[list of headers]\n",
    "\n",
    "[response body] # typically HTML, JSON, ...  \n",
    "```"
   ]
  },
  {
   "cell_type": "markdown",
   "metadata": {
    "slideshow": {
     "slide_type": "slide"
    }
   },
   "source": [
    "<a id='response-types'></a>\n",
    "### Response types overview\n",
    "\n",
    "> Check these out when you have time -- at least be aware that there is an expected pattern to these codes:\n",
    "\n",
    "**[Status codes](http://en.wikipedia.org/wiki/List_of_HTTP_status_codes)** have standard meanings; here are a few.\n",
    "\n",
    "|Code|Reason|\n",
    "|:---|:-----|\n",
    "|200| OK\n",
    "|301| Moved Permanently\n",
    "|302| Moved Temporarily\n",
    "|307| Temporary Redirect\n",
    "|400| Bad Request\n",
    "|403| Forbidden\n",
    "|404| Not Found\n",
    "|500| Internal Server Error"
   ]
  },
  {
   "cell_type": "markdown",
   "metadata": {
    "slideshow": {
     "slide_type": "slide"
    }
   },
   "source": [
    "<a name=\"json\"></a>\n",
    "## JSON\n",
    "\n",
    "---\n",
    "\n",
    "JSON is short for _JavaScript Object Notation_, and is a way to store information in an organized, easy-to-access manner. In a nutshell, it gives us a human-readable collection of data that we can access in a really logical manner.\n",
    "\n",
    "It is very important to realize that JSON is just plain text that you can edit in a text editor. It is called JSON because a JSON string is valid JavaScript code. Because of this, JSON has become very popular with JavaScript programmers for talking with APIs.\n",
    "\n",
    "**JSON is built on two structures:**\n",
    "* A collection of name/value pairs. In various languages, this is realized as an object, record, structure, dictionary, hash table, keyed list, or associative array.\n",
    "* An ordered list of values. In most languages, this is realized as an array, vector, list, or sequence.\n",
    "\n",
    "These are universal data structures. Virtually all modern programming languages support them in one form or another. It makes sense that a data format that is interchangeable with programming languages also be based on these structures."
   ]
  },
  {
   "cell_type": "markdown",
   "metadata": {
    "slideshow": {
     "slide_type": "slide"
    }
   },
   "source": [
    "### JSON objects\n",
    "\n",
    "An object is an unordered set of name/value pairs, like python dictionaries. An object begins with `{` (left brace) and ends with `}` (right brace). Each name is followed by `:` (colon) and the name/value pairs are separated by `,` (comma).\n",
    "\n",
    "The syntax is as follows:\n",
    "\n",
    "```\n",
    "{ string : value, .......}\n",
    "```\n",
    "like:\n",
    "```\n",
    "{\"count\": 1, ...}\n",
    "```\n",
    "_Seems an awful lot like a Python dictionary._"
   ]
  },
  {
   "cell_type": "markdown",
   "metadata": {
    "slideshow": {
     "slide_type": "slide"
    }
   },
   "source": [
    "<a name=\"ind-practice\"></a>\n",
    "## Independent practice: validating JSON \n",
    "\n",
    "---\n",
    "\n",
    "JSON is very simple to use if correctly structured. One of the resources to validate JSON and check if the syntax is correct is [JSON Viewer](http://codebeautify.org/jsonviewer).\n",
    "\n",
    "For this exercise, copy the [JSON data from the code folder](./code/test.json) and insert it in the web app above. Then, click \"Validate\".\n",
    "\n",
    "If you see \"Valid JSON\", click \"Beautify\" and you will see a more readable way of JSON. If you do not see the message \"Valid JSON\", it means that there is a syntax error.\n",
    "\n",
    "* First, correct errors if there are any\n",
    "* Then, work in pairs to identify the structure of the JSON:\n",
    "\n",
    "    - What is a root element?\n",
    "    - Are there any arrays?\n",
    "    - How many objects are there?\n",
    "    - What are the attributes of an object?"
   ]
  },
  {
   "cell_type": "markdown",
   "metadata": {
    "slideshow": {
     "slide_type": "slide"
    }
   },
   "source": [
    "<a name=\"guided-practice\"></a>\n",
    "## Guided practice: Pulling data from APIs\n",
    "\n",
    "---\n",
    "\n",
    "Recall that APIs are methods and data formats to tell people how to \"talk\" to a system. We will walk through a couple of examples."
   ]
  },
  {
   "cell_type": "code",
   "execution_count": 4,
   "metadata": {},
   "outputs": [
    {
     "name": "stdout",
     "output_type": "stream",
     "text": [
      "200\n",
      "{'resultCount': 50, 'results': [{'wrapperType': 'track', 'kind': 'song', 'artistId': 487277, 'collectionId': 901279250, 'trackId': 901279255, 'artistName': 'Kate Bush', 'collectionName': 'Hounds of Love', 'trackName': 'Running Up That Hill (A Deal With God)', 'collectionCensoredName': 'Hounds of Love', 'trackCensoredName': 'Running Up That Hill (A Deal With God)', 'artistViewUrl': 'https://music.apple.com/us/artist/kate-bush/487277?uo=4', 'collectionViewUrl': 'https://music.apple.com/us/album/running-up-that-hill-a-deal-with-god/901279250?i=901279255&uo=4', 'trackViewUrl': 'https://music.apple.com/us/album/running-up-that-hill-a-deal-with-god/901279250?i=901279255&uo=4', 'previewUrl': 'https://audio-ssl.itunes.apple.com/itunes-assets/Music4/v4/e0/9c/61/e09c616c-63e4-4fa4-8d9d-3537941494d3/mzaf_9059311399846361575.plus.aac.p.m4a', 'artworkUrl30': 'https://is2-ssl.mzstatic.com/image/thumb/Music71/v4/14/43/c8/1443c8a5-4d68-da35-69d8-3aa6af733e57/source/30x30bb.jpg', 'artworkUrl60': 'https://is2-ssl.mzstatic.com/image/thumb/Music71/v4/14/43/c8/1443c8a5-4d68-da35-69d8-3aa6af733e57/source/60x60bb.jpg', 'artworkUrl100': 'https://is2-ssl.mzstatic.com/image/thumb/Music71/v4/14/43/c8/1443c8a5-4d68-da35-69d8-3aa6af733e57/source/100x100bb.jpg', 'collectionPrice': 9.99, 'trackPrice': 1.29, 'releaseDate': '1985-09-16T12:00:00Z', 'collectionExplicitness': 'notExplicit', 'trackExplicitness': 'notExplicit', 'discCount': 1, 'discNumber': 1, 'trackCount': 12, 'trackNumber': 1, 'trackTimeMillis': 298933, 'country': 'USA', 'currency': 'USD', 'primaryGenreName': 'Pop', 'isStreamable': True}, {'wrapperType': 'track', 'kind': 'song', 'artistId': 487277, 'collectionId': 1441652820, 'trackId': 1441652821, 'artistName': 'Kate Bush', 'collectionName': 'Hounds of Love (2018 Remaster)', 'trackName': 'Running up That Hill (A Deal with God) [2018 Remaster]', 'collectionCensoredName': 'Hounds of Love (2018 Remaster)', 'trackCensoredName': 'Running up That Hill (A Deal with God) [2018 Remaster]', 'artistViewUrl': 'https://music.apple.com/us/artist/kate-bush/487277?uo=4', 'collectionViewUrl': 'https://music.apple.com/us/album/running-up-that-hill-a-deal-with-god-2018-remaster/1441652820?i=1441652821&uo=4', 'trackViewUrl': 'https://music.apple.com/us/album/running-up-that-hill-a-deal-with-god-2018-remaster/1441652820?i=1441652821&uo=4', 'previewUrl': 'https://audio-ssl.itunes.apple.com/itunes-assets/AudioPreview118/v4/74/99/cb/7499cb76-8a5d-0dd5-4fc8-96d510636786/mzaf_3930362173832349513.plus.aac.p.m4a', 'artworkUrl30': 'https://is4-ssl.mzstatic.com/image/thumb/Music118/v4/1a/2f/46/1a2f463b-a0c2-54e1-0d5f-b1fcc6c3bd05/source/30x30bb.jpg', 'artworkUrl60': 'https://is4-ssl.mzstatic.com/image/thumb/Music118/v4/1a/2f/46/1a2f463b-a0c2-54e1-0d5f-b1fcc6c3bd05/source/60x60bb.jpg', 'artworkUrl100': 'https://is4-ssl.mzstatic.com/image/thumb/Music118/v4/1a/2f/46/1a2f463b-a0c2-54e1-0d5f-b1fcc6c3bd05/source/100x100bb.jpg', 'collectionPrice': 9.99, 'trackPrice': 1.29, 'releaseDate': '1985-08-05T12:00:00Z', 'collectionExplicitness': 'notExplicit', 'trackExplicitness': 'notExplicit', 'discCount': 1, 'discNumber': 1, 'trackCount': 12, 'trackNumber': 1, 'trackTimeMillis': 300840, 'country': 'USA', 'currency': 'USD', 'primaryGenreName': 'Pop', 'isStreamable': True}, {'wrapperType': 'track', 'kind': 'song', 'artistId': 487277, 'collectionId': 901279250, 'trackId': 901279259, 'artistName': 'Kate Bush', 'collectionName': 'Hounds of Love', 'trackName': 'Cloudbusting', 'collectionCensoredName': 'Hounds of Love', 'trackCensoredName': 'Cloudbusting', 'artistViewUrl': 'https://music.apple.com/us/artist/kate-bush/487277?uo=4', 'collectionViewUrl': 'https://music.apple.com/us/album/cloudbusting/901279250?i=901279259&uo=4', 'trackViewUrl': 'https://music.apple.com/us/album/cloudbusting/901279250?i=901279259&uo=4', 'previewUrl': 'https://audio-ssl.itunes.apple.com/itunes-assets/Music5/v4/6c/bb/d6/6cbbd6f2-fc69-fa61-bc4b-5049d3d3bea7/mzaf_6732797509713799781.plus.aac.p.m4a', 'artworkUrl30': 'https://is2-ssl.mzstatic.com/image/thumb/Music71/v4/14/43/c8/1443c8a5-4d68-da35-69d8-3aa6af733e57/source/30x30bb.jpg', 'artworkUrl60': 'https://is2-ssl.mzstatic.com/image/thumb/Music71/v4/14/43/c8/1443c8a5-4d68-da35-69d8-3aa6af733e57/source/60x60bb.jpg', 'artworkUrl100': 'https://is2-ssl.mzstatic.com/image/thumb/Music71/v4/14/43/c8/1443c8a5-4d68-da35-69d8-3aa6af733e57/source/100x100bb.jpg', 'collectionPrice': 9.99, 'trackPrice': 1.29, 'releaseDate': '1985-09-16T12:00:00Z', 'collectionExplicitness': 'notExplicit', 'trackExplicitness': 'notExplicit', 'discCount': 1, 'discNumber': 1, 'trackCount': 12, 'trackNumber': 5, 'trackTimeMillis': 310160, 'country': 'USA', 'currency': 'USD', 'primaryGenreName': 'Pop', 'isStreamable': True}, {'wrapperType': 'track', 'kind': 'song', 'artistId': 487277, 'collectionId': 566390543, 'trackId': 566390938, 'artistName': 'Kate Bush', 'collectionName': 'Paramount Pictures 90th Anniversary Memorable Songs', 'trackName': \"This Woman's Work\", 'collectionCensoredName': 'Paramount Pictures 90th Anniversary Memorable Songs', 'trackCensoredName': \"This Woman's Work\", 'collectionArtistId': 4035426, 'collectionArtistName': 'Various Artists', 'artistViewUrl': 'https://music.apple.com/us/artist/kate-bush/487277?uo=4', 'collectionViewUrl': 'https://music.apple.com/us/album/this-womans-work/566390543?i=566390938&uo=4', 'trackViewUrl': 'https://music.apple.com/us/album/this-womans-work/566390543?i=566390938&uo=4', 'previewUrl': 'https://audio-ssl.itunes.apple.com/itunes-assets/Music/a6/59/81/mzi.itavqkhk.aac.p.m4a', 'artworkUrl30': 'https://is2-ssl.mzstatic.com/image/thumb/Music/v4/ec/a3/fa/eca3fad5-b06d-8574-02f8-2daaa441d0c0/source/30x30bb.jpg', 'artworkUrl60': 'https://is2-ssl.mzstatic.com/image/thumb/Music/v4/ec/a3/fa/eca3fad5-b06d-8574-02f8-2daaa441d0c0/source/60x60bb.jpg', 'artworkUrl100': 'https://is2-ssl.mzstatic.com/image/thumb/Music/v4/ec/a3/fa/eca3fad5-b06d-8574-02f8-2daaa441d0c0/source/100x100bb.jpg', 'collectionPrice': -1.0, 'trackPrice': 1.29, 'releaseDate': '2002-07-16T12:00:00Z', 'collectionExplicitness': 'cleaned', 'trackExplicitness': 'notExplicit', 'discCount': 1, 'discNumber': 1, 'trackCount': 21, 'trackNumber': 9, 'trackTimeMillis': 212467, 'country': 'USA', 'currency': 'USD', 'primaryGenreName': 'Pop', 'isStreamable': True}, {'wrapperType': 'track', 'kind': 'song', 'artistId': 487277, 'collectionId': 726230233, 'trackId': 726230471, 'artistName': 'Kate Bush', 'collectionName': 'The Kick Inside', 'trackName': 'Wuthering Heights', 'collectionCensoredName': 'The Kick Inside', 'trackCensoredName': 'Wuthering Heights', 'artistViewUrl': 'https://music.apple.com/us/artist/kate-bush/487277?uo=4', 'collectionViewUrl': 'https://music.apple.com/us/album/wuthering-heights/726230233?i=726230471&uo=4', 'trackViewUrl': 'https://music.apple.com/us/album/wuthering-heights/726230233?i=726230471&uo=4', 'previewUrl': 'https://audio-ssl.itunes.apple.com/itunes-assets/AudioPreview128/v4/ad/36/79/ad367968-7549-ef61-27fc-f55e66549d3a/mzaf_1299563959365358554.plus.aac.p.m4a', 'artworkUrl30': 'https://is5-ssl.mzstatic.com/image/thumb/Music6/v4/b3/c8/9b/b3c89b69-6c85-22a6-5b86-e40d4bf3482d/source/30x30bb.jpg', 'artworkUrl60': 'https://is5-ssl.mzstatic.com/image/thumb/Music6/v4/b3/c8/9b/b3c89b69-6c85-22a6-5b86-e40d4bf3482d/source/60x60bb.jpg', 'artworkUrl100': 'https://is5-ssl.mzstatic.com/image/thumb/Music6/v4/b3/c8/9b/b3c89b69-6c85-22a6-5b86-e40d4bf3482d/source/100x100bb.jpg', 'collectionPrice': 9.99, 'trackPrice': 1.29, 'releaseDate': '1978-02-17T12:00:00Z', 'collectionExplicitness': 'notExplicit', 'trackExplicitness': 'notExplicit', 'discCount': 1, 'discNumber': 1, 'trackCount': 13, 'trackNumber': 6, 'trackTimeMillis': 269067, 'country': 'USA', 'currency': 'USD', 'primaryGenreName': 'Rock', 'isStreamable': True}, {'wrapperType': 'track', 'kind': 'song', 'artistId': 487277, 'collectionId': 1441813799, 'trackId': 1441813809, 'artistName': 'Kate Bush', 'collectionName': 'The Kick Inside (2018 Remaster)', 'trackName': 'Wuthering Heights (2018 Remaster)', 'collectionCensoredName': 'The Kick Inside (2018 Remaster)', 'trackCensoredName': 'Wuthering Heights (2018 Remaster)', 'artistViewUrl': 'https://music.apple.com/us/artist/kate-bush/487277?uo=4', 'collectionViewUrl': 'https://music.apple.com/us/album/wuthering-heights-2018-remaster/1441813799?i=1441813809&uo=4', 'trackViewUrl': 'https://music.apple.com/us/album/wuthering-heights-2018-remaster/1441813799?i=1441813809&uo=4', 'previewUrl': 'https://audio-ssl.itunes.apple.com/itunes-assets/AudioPreview118/v4/b3/9c/82/b39c82ef-e9fa-a968-b06e-8b5655124bbe/mzaf_8755508812102130607.plus.aac.p.m4a', 'artworkUrl30': 'https://is1-ssl.mzstatic.com/image/thumb/Music128/v4/f3/69/b4/f369b4d8-8b18-7a7e-e917-eeddb0ca9ee7/source/30x30bb.jpg', 'artworkUrl60': 'https://is1-ssl.mzstatic.com/image/thumb/Music128/v4/f3/69/b4/f369b4d8-8b18-7a7e-e917-eeddb0ca9ee7/source/60x60bb.jpg', 'artworkUrl100': 'https://is1-ssl.mzstatic.com/image/thumb/Music128/v4/f3/69/b4/f369b4d8-8b18-7a7e-e917-eeddb0ca9ee7/source/100x100bb.jpg', 'collectionPrice': 9.99, 'trackPrice': 1.29, 'releaseDate': '1978-02-17T12:00:00Z', 'collectionExplicitness': 'notExplicit', 'trackExplicitness': 'notExplicit', 'discCount': 1, 'discNumber': 1, 'trackCount': 13, 'trackNumber': 6, 'trackTimeMillis': 268933, 'country': 'USA', 'currency': 'USD', 'primaryGenreName': 'Pop', 'isStreamable': True}, {'wrapperType': 'track', 'kind': 'song', 'artistId': 487277, 'collectionId': 1441652820, 'trackId': 1441652827, 'artistName': 'Kate Bush', 'collectionName': 'Hounds of Love (2018 Remaster)', 'trackName': 'Cloudbusting (2018 Remaster)', 'collectionCensoredName': 'Hounds of Love (2018 Remaster)', 'trackCensoredName': 'Cloudbusting (2018 Remaster)', 'artistViewUrl': 'https://music.apple.com/us/artist/kate-bush/487277?uo=4', 'collectionViewUrl': 'https://music.apple.com/us/album/cloudbusting-2018-remaster/1441652820?i=1441652827&uo=4', 'trackViewUrl': 'https://music.apple.com/us/album/cloudbusting-2018-remaster/1441652820?i=1441652827&uo=4', 'previewUrl': 'https://audio-ssl.itunes.apple.com/itunes-assets/AudioPreview118/v4/ec/e2/ce/ece2ceab-e293-db84-9b6a-566c725bcb52/mzaf_4648253040733791085.plus.aac.p.m4a', 'artworkUrl30': 'https://is4-ssl.mzstatic.com/image/thumb/Music118/v4/1a/2f/46/1a2f463b-a0c2-54e1-0d5f-b1fcc6c3bd05/source/30x30bb.jpg', 'artworkUrl60': 'https://is4-ssl.mzstatic.com/image/thumb/Music118/v4/1a/2f/46/1a2f463b-a0c2-54e1-0d5f-b1fcc6c3bd05/source/60x60bb.jpg', 'artworkUrl100': 'https://is4-ssl.mzstatic.com/image/thumb/Music118/v4/1a/2f/46/1a2f463b-a0c2-54e1-0d5f-b1fcc6c3bd05/source/100x100bb.jpg', 'collectionPrice': 9.99, 'trackPrice': 1.29, 'releaseDate': '1985-09-16T12:00:00Z', 'collectionExplicitness': 'notExplicit', 'trackExplicitness': 'notExplicit', 'discCount': 1, 'discNumber': 1, 'trackCount': 12, 'trackNumber': 5, 'trackTimeMillis': 309973, 'country': 'USA', 'currency': 'USD', 'primaryGenreName': 'Pop', 'isStreamable': True}, {'wrapperType': 'track', 'kind': 'song', 'artistId': 487277, 'collectionId': 1441652820, 'trackId': 1441652822, 'artistName': 'Kate Bush', 'collectionName': 'Hounds of Love (2018 Remaster)', 'trackName': 'Hounds of Love (2018 Remaster)', 'collectionCensoredName': 'Hounds of Love (2018 Remaster)', 'trackCensoredName': 'Hounds of Love (2018 Remaster)', 'artistViewUrl': 'https://music.apple.com/us/artist/kate-bush/487277?uo=4', 'collectionViewUrl': 'https://music.apple.com/us/album/hounds-of-love-2018-remaster/1441652820?i=1441652822&uo=4', 'trackViewUrl': 'https://music.apple.com/us/album/hounds-of-love-2018-remaster/1441652820?i=1441652822&uo=4', 'previewUrl': 'https://audio-ssl.itunes.apple.com/itunes-assets/AudioPreview128/v4/4b/d0/e2/4bd0e2ef-e5f3-835f-da3a-b60f6aeae84a/mzaf_5725058396496212177.plus.aac.p.m4a', 'artworkUrl30': 'https://is4-ssl.mzstatic.com/image/thumb/Music118/v4/1a/2f/46/1a2f463b-a0c2-54e1-0d5f-b1fcc6c3bd05/source/30x30bb.jpg', 'artworkUrl60': 'https://is4-ssl.mzstatic.com/image/thumb/Music118/v4/1a/2f/46/1a2f463b-a0c2-54e1-0d5f-b1fcc6c3bd05/source/60x60bb.jpg', 'artworkUrl100': 'https://is4-ssl.mzstatic.com/image/thumb/Music118/v4/1a/2f/46/1a2f463b-a0c2-54e1-0d5f-b1fcc6c3bd05/source/100x100bb.jpg', 'collectionPrice': 9.99, 'trackPrice': 1.29, 'releaseDate': '1985-09-16T12:00:00Z', 'collectionExplicitness': 'notExplicit', 'trackExplicitness': 'notExplicit', 'discCount': 1, 'discNumber': 1, 'trackCount': 12, 'trackNumber': 2, 'trackTimeMillis': 182867, 'country': 'USA', 'currency': 'USD', 'primaryGenreName': 'Pop', 'isStreamable': True}, {'wrapperType': 'track', 'kind': 'song', 'artistId': 487277, 'collectionId': 1441652820, 'trackId': 1441652823, 'artistName': 'Kate Bush', 'collectionName': 'Hounds of Love (2018 Remaster)', 'trackName': 'The Big Sky (2018 Remaster)', 'collectionCensoredName': 'Hounds of Love (2018 Remaster)', 'trackCensoredName': 'The Big Sky (2018 Remaster)', 'artistViewUrl': 'https://music.apple.com/us/artist/kate-bush/487277?uo=4', 'collectionViewUrl': 'https://music.apple.com/us/album/the-big-sky-2018-remaster/1441652820?i=1441652823&uo=4', 'trackViewUrl': 'https://music.apple.com/us/album/the-big-sky-2018-remaster/1441652820?i=1441652823&uo=4', 'previewUrl': 'https://audio-ssl.itunes.apple.com/itunes-assets/AudioPreview128/v4/77/b4/e9/77b4e9e8-cc24-8ca0-2c73-d7523e11eeca/mzaf_2444392054866636997.plus.aac.p.m4a', 'artworkUrl30': 'https://is4-ssl.mzstatic.com/image/thumb/Music118/v4/1a/2f/46/1a2f463b-a0c2-54e1-0d5f-b1fcc6c3bd05/source/30x30bb.jpg', 'artworkUrl60': 'https://is4-ssl.mzstatic.com/image/thumb/Music118/v4/1a/2f/46/1a2f463b-a0c2-54e1-0d5f-b1fcc6c3bd05/source/60x60bb.jpg', 'artworkUrl100': 'https://is4-ssl.mzstatic.com/image/thumb/Music118/v4/1a/2f/46/1a2f463b-a0c2-54e1-0d5f-b1fcc6c3bd05/source/100x100bb.jpg', 'collectionPrice': 9.99, 'trackPrice': 1.29, 'releaseDate': '1985-09-16T12:00:00Z', 'collectionExplicitness': 'notExplicit', 'trackExplicitness': 'notExplicit', 'discCount': 1, 'discNumber': 1, 'trackCount': 12, 'trackNumber': 3, 'trackTimeMillis': 275867, 'country': 'USA', 'currency': 'USD', 'primaryGenreName': 'Pop', 'isStreamable': True}, {'wrapperType': 'track', 'kind': 'song', 'artistId': 487277, 'collectionId': 1441652820, 'trackId': 1441652951, 'artistName': 'Kate Bush', 'collectionName': 'Hounds of Love (2018 Remaster)', 'trackName': 'Watching You Without Me (2018 Remaster)', 'collectionCensoredName': 'Hounds of Love (2018 Remaster)', 'trackCensoredName': 'Watching You Without Me (2018 Remaster)', 'artistViewUrl': 'https://music.apple.com/us/artist/kate-bush/487277?uo=4', 'collectionViewUrl': 'https://music.apple.com/us/album/watching-you-without-me-2018-remaster/1441652820?i=1441652951&uo=4', 'trackViewUrl': 'https://music.apple.com/us/album/watching-you-without-me-2018-remaster/1441652820?i=1441652951&uo=4', 'previewUrl': 'https://audio-ssl.itunes.apple.com/itunes-assets/AudioPreview128/v4/51/37/7f/51377f0f-31a2-33cb-64be-90b981ac8bc7/mzaf_1812962340416117235.plus.aac.p.m4a', 'artworkUrl30': 'https://is4-ssl.mzstatic.com/image/thumb/Music118/v4/1a/2f/46/1a2f463b-a0c2-54e1-0d5f-b1fcc6c3bd05/source/30x30bb.jpg', 'artworkUrl60': 'https://is4-ssl.mzstatic.com/image/thumb/Music118/v4/1a/2f/46/1a2f463b-a0c2-54e1-0d5f-b1fcc6c3bd05/source/60x60bb.jpg', 'artworkUrl100': 'https://is4-ssl.mzstatic.com/image/thumb/Music118/v4/1a/2f/46/1a2f463b-a0c2-54e1-0d5f-b1fcc6c3bd05/source/100x100bb.jpg', 'collectionPrice': 9.99, 'trackPrice': 1.29, 'releaseDate': '1985-09-16T12:00:00Z', 'collectionExplicitness': 'notExplicit', 'trackExplicitness': 'notExplicit', 'discCount': 1, 'discNumber': 1, 'trackCount': 12, 'trackNumber': 9, 'trackTimeMillis': 247053, 'country': 'USA', 'currency': 'USD', 'primaryGenreName': 'Pop', 'isStreamable': True}, {'wrapperType': 'track', 'kind': 'song', 'artistId': 487277, 'collectionId': 1441652820, 'trackId': 1441652824, 'artistName': 'Kate Bush', 'collectionName': 'Hounds of Love (2018 Remaster)', 'trackName': 'Mother Stands for Comfort (2018 Remaster)', 'collectionCensoredName': 'Hounds of Love (2018 Remaster)', 'trackCensoredName': 'Mother Stands for Comfort (2018 Remaster)', 'artistViewUrl': 'https://music.apple.com/us/artist/kate-bush/487277?uo=4', 'collectionViewUrl': 'https://music.apple.com/us/album/mother-stands-for-comfort-2018-remaster/1441652820?i=1441652824&uo=4', 'trackViewUrl': 'https://music.apple.com/us/album/mother-stands-for-comfort-2018-remaster/1441652820?i=1441652824&uo=4', 'previewUrl': 'https://audio-ssl.itunes.apple.com/itunes-assets/AudioPreview118/v4/1e/4f/3d/1e4f3d0e-78ec-2b82-ce6a-0ff4561d72e7/mzaf_3222929477850365140.plus.aac.p.m4a', 'artworkUrl30': 'https://is4-ssl.mzstatic.com/image/thumb/Music118/v4/1a/2f/46/1a2f463b-a0c2-54e1-0d5f-b1fcc6c3bd05/source/30x30bb.jpg', 'artworkUrl60': 'https://is4-ssl.mzstatic.com/image/thumb/Music118/v4/1a/2f/46/1a2f463b-a0c2-54e1-0d5f-b1fcc6c3bd05/source/60x60bb.jpg', 'artworkUrl100': 'https://is4-ssl.mzstatic.com/image/thumb/Music118/v4/1a/2f/46/1a2f463b-a0c2-54e1-0d5f-b1fcc6c3bd05/source/100x100bb.jpg', 'collectionPrice': 9.99, 'trackPrice': 1.29, 'releaseDate': '1985-09-16T12:00:00Z', 'collectionExplicitness': 'notExplicit', 'trackExplicitness': 'notExplicit', 'discCount': 1, 'discNumber': 1, 'trackCount': 12, 'trackNumber': 4, 'trackTimeMillis': 188173, 'country': 'USA', 'currency': 'USD', 'primaryGenreName': 'Pop', 'isStreamable': True}, {'wrapperType': 'track', 'kind': 'song', 'artistId': 487277, 'collectionId': 726230233, 'trackId': 726230400, 'artistName': 'Kate Bush', 'collectionName': 'The Kick Inside', 'trackName': 'The Man With the Child In His Eyes', 'collectionCensoredName': 'The Kick Inside', 'trackCensoredName': 'The Man With the Child In His Eyes', 'artistViewUrl': 'https://music.apple.com/us/artist/kate-bush/487277?uo=4', 'collectionViewUrl': 'https://music.apple.com/us/album/the-man-with-the-child-in-his-eyes/726230233?i=726230400&uo=4', 'trackViewUrl': 'https://music.apple.com/us/album/the-man-with-the-child-in-his-eyes/726230233?i=726230400&uo=4', 'previewUrl': 'https://audio-ssl.itunes.apple.com/itunes-assets/AudioPreview118/v4/7f/9f/a9/7f9fa905-87a9-043b-498d-62799ef0d5d4/mzaf_3723488957878325518.plus.aac.p.m4a', 'artworkUrl30': 'https://is5-ssl.mzstatic.com/image/thumb/Music6/v4/b3/c8/9b/b3c89b69-6c85-22a6-5b86-e40d4bf3482d/source/30x30bb.jpg', 'artworkUrl60': 'https://is5-ssl.mzstatic.com/image/thumb/Music6/v4/b3/c8/9b/b3c89b69-6c85-22a6-5b86-e40d4bf3482d/source/60x60bb.jpg', 'artworkUrl100': 'https://is5-ssl.mzstatic.com/image/thumb/Music6/v4/b3/c8/9b/b3c89b69-6c85-22a6-5b86-e40d4bf3482d/source/100x100bb.jpg', 'collectionPrice': 9.99, 'trackPrice': 1.29, 'releaseDate': '1978-02-17T12:00:00Z', 'collectionExplicitness': 'notExplicit', 'trackExplicitness': 'notExplicit', 'discCount': 1, 'discNumber': 1, 'trackCount': 13, 'trackNumber': 5, 'trackTimeMillis': 158693, 'country': 'USA', 'currency': 'USD', 'primaryGenreName': 'Rock', 'isStreamable': True}, {'wrapperType': 'track', 'kind': 'song', 'artistId': 487277, 'collectionId': 1441652820, 'trackId': 1441652830, 'artistName': 'Kate Bush', 'collectionName': 'Hounds of Love (2018 Remaster)', 'trackName': 'Waking the Witch (2018 Remaster)', 'collectionCensoredName': 'Hounds of Love (2018 Remaster)', 'trackCensoredName': 'Waking the Witch (2018 Remaster)', 'artistViewUrl': 'https://music.apple.com/us/artist/kate-bush/487277?uo=4', 'collectionViewUrl': 'https://music.apple.com/us/album/waking-the-witch-2018-remaster/1441652820?i=1441652830&uo=4', 'trackViewUrl': 'https://music.apple.com/us/album/waking-the-witch-2018-remaster/1441652820?i=1441652830&uo=4', 'previewUrl': 'https://audio-ssl.itunes.apple.com/itunes-assets/AudioPreview128/v4/dd/a8/a0/dda8a0b7-fb18-8741-218d-f55c0ad89936/mzaf_8741139984080505301.plus.aac.p.m4a', 'artworkUrl30': 'https://is4-ssl.mzstatic.com/image/thumb/Music118/v4/1a/2f/46/1a2f463b-a0c2-54e1-0d5f-b1fcc6c3bd05/source/30x30bb.jpg', 'artworkUrl60': 'https://is4-ssl.mzstatic.com/image/thumb/Music118/v4/1a/2f/46/1a2f463b-a0c2-54e1-0d5f-b1fcc6c3bd05/source/60x60bb.jpg', 'artworkUrl100': 'https://is4-ssl.mzstatic.com/image/thumb/Music118/v4/1a/2f/46/1a2f463b-a0c2-54e1-0d5f-b1fcc6c3bd05/source/100x100bb.jpg', 'collectionPrice': 9.99, 'trackPrice': 1.29, 'releaseDate': '1985-09-16T12:00:00Z', 'collectionExplicitness': 'notExplicit', 'trackExplicitness': 'notExplicit', 'discCount': 1, 'discNumber': 1, 'trackCount': 12, 'trackNumber': 8, 'trackTimeMillis': 258293, 'country': 'USA', 'currency': 'USD', 'primaryGenreName': 'Pop', 'isStreamable': True}, {'wrapperType': 'track', 'kind': 'song', 'artistId': 487277, 'collectionId': 1441652820, 'trackId': 1441652828, 'artistName': 'Kate Bush', 'collectionName': 'Hounds of Love (2018 Remaster)', 'trackName': 'And Dream of Sheep (2018 Remaster)', 'collectionCensoredName': 'Hounds of Love (2018 Remaster)', 'trackCensoredName': 'And Dream of Sheep (2018 Remaster)', 'artistViewUrl': 'https://music.apple.com/us/artist/kate-bush/487277?uo=4', 'collectionViewUrl': 'https://music.apple.com/us/album/and-dream-of-sheep-2018-remaster/1441652820?i=1441652828&uo=4', 'trackViewUrl': 'https://music.apple.com/us/album/and-dream-of-sheep-2018-remaster/1441652820?i=1441652828&uo=4', 'previewUrl': 'https://audio-ssl.itunes.apple.com/itunes-assets/AudioPreview128/v4/d6/06/37/d6063779-033d-8b56-1e98-6a1f0b103107/mzaf_362496514628666154.plus.aac.p.m4a', 'artworkUrl30': 'https://is4-ssl.mzstatic.com/image/thumb/Music118/v4/1a/2f/46/1a2f463b-a0c2-54e1-0d5f-b1fcc6c3bd05/source/30x30bb.jpg', 'artworkUrl60': 'https://is4-ssl.mzstatic.com/image/thumb/Music118/v4/1a/2f/46/1a2f463b-a0c2-54e1-0d5f-b1fcc6c3bd05/source/60x60bb.jpg', 'artworkUrl100': 'https://is4-ssl.mzstatic.com/image/thumb/Music118/v4/1a/2f/46/1a2f463b-a0c2-54e1-0d5f-b1fcc6c3bd05/source/100x100bb.jpg', 'collectionPrice': 9.99, 'trackPrice': 1.29, 'releaseDate': '1985-09-16T12:00:00Z', 'collectionExplicitness': 'notExplicit', 'trackExplicitness': 'notExplicit', 'discCount': 1, 'discNumber': 1, 'trackCount': 12, 'trackNumber': 6, 'trackTimeMillis': 165013, 'country': 'USA', 'currency': 'USD', 'primaryGenreName': 'Pop', 'isStreamable': True}, {'wrapperType': 'track', 'kind': 'song', 'artistId': 487277, 'collectionId': 1441652820, 'trackId': 1441652953, 'artistName': 'Kate Bush', 'collectionName': 'Hounds of Love (2018 Remaster)', 'trackName': 'Hello Earth (2018 Remaster)', 'collectionCensoredName': 'Hounds of Love (2018 Remaster)', 'trackCensoredName': 'Hello Earth (2018 Remaster)', 'artistViewUrl': 'https://music.apple.com/us/artist/kate-bush/487277?uo=4', 'collectionViewUrl': 'https://music.apple.com/us/album/hello-earth-2018-remaster/1441652820?i=1441652953&uo=4', 'trackViewUrl': 'https://music.apple.com/us/album/hello-earth-2018-remaster/1441652820?i=1441652953&uo=4', 'previewUrl': 'https://audio-ssl.itunes.apple.com/itunes-assets/AudioPreview118/v4/72/8b/61/728b6119-9e3b-e16e-a551-3531f3adb64c/mzaf_7190031824611336043.plus.aac.p.m4a', 'artworkUrl30': 'https://is4-ssl.mzstatic.com/image/thumb/Music118/v4/1a/2f/46/1a2f463b-a0c2-54e1-0d5f-b1fcc6c3bd05/source/30x30bb.jpg', 'artworkUrl60': 'https://is4-ssl.mzstatic.com/image/thumb/Music118/v4/1a/2f/46/1a2f463b-a0c2-54e1-0d5f-b1fcc6c3bd05/source/60x60bb.jpg', 'artworkUrl100': 'https://is4-ssl.mzstatic.com/image/thumb/Music118/v4/1a/2f/46/1a2f463b-a0c2-54e1-0d5f-b1fcc6c3bd05/source/100x100bb.jpg', 'collectionPrice': 9.99, 'trackPrice': 1.29, 'releaseDate': '1985-09-16T12:00:00Z', 'collectionExplicitness': 'notExplicit', 'trackExplicitness': 'notExplicit', 'discCount': 1, 'discNumber': 1, 'trackCount': 12, 'trackNumber': 11, 'trackTimeMillis': 372653, 'country': 'USA', 'currency': 'USD', 'primaryGenreName': 'Pop', 'isStreamable': True}, {'wrapperType': 'track', 'kind': 'song', 'artistId': 487277, 'collectionId': 1441652820, 'trackId': 1441652954, 'artistName': 'Kate Bush', 'collectionName': 'Hounds of Love (2018 Remaster)', 'trackName': 'The Morning Fog (2018 Remaster)', 'collectionCensoredName': 'Hounds of Love (2018 Remaster)', 'trackCensoredName': 'The Morning Fog (2018 Remaster)', 'artistViewUrl': 'https://music.apple.com/us/artist/kate-bush/487277?uo=4', 'collectionViewUrl': 'https://music.apple.com/us/album/the-morning-fog-2018-remaster/1441652820?i=1441652954&uo=4', 'trackViewUrl': 'https://music.apple.com/us/album/the-morning-fog-2018-remaster/1441652820?i=1441652954&uo=4', 'previewUrl': 'https://audio-ssl.itunes.apple.com/itunes-assets/AudioPreview128/v4/67/a3/f0/67a3f0bc-4194-c370-7d9e-c074f8a66a24/mzaf_8721099854944130912.plus.aac.p.m4a', 'artworkUrl30': 'https://is4-ssl.mzstatic.com/image/thumb/Music118/v4/1a/2f/46/1a2f463b-a0c2-54e1-0d5f-b1fcc6c3bd05/source/30x30bb.jpg', 'artworkUrl60': 'https://is4-ssl.mzstatic.com/image/thumb/Music118/v4/1a/2f/46/1a2f463b-a0c2-54e1-0d5f-b1fcc6c3bd05/source/60x60bb.jpg', 'artworkUrl100': 'https://is4-ssl.mzstatic.com/image/thumb/Music118/v4/1a/2f/46/1a2f463b-a0c2-54e1-0d5f-b1fcc6c3bd05/source/100x100bb.jpg', 'collectionPrice': 9.99, 'trackPrice': 1.29, 'releaseDate': '1985-09-16T12:00:00Z', 'collectionExplicitness': 'notExplicit', 'trackExplicitness': 'notExplicit', 'discCount': 1, 'discNumber': 1, 'trackCount': 12, 'trackNumber': 12, 'trackTimeMillis': 155720, 'country': 'USA', 'currency': 'USD', 'primaryGenreName': 'Pop', 'isStreamable': True}, {'wrapperType': 'track', 'kind': 'song', 'artistId': 487277, 'collectionId': 1441652820, 'trackId': 1441652952, 'artistName': 'Kate Bush', 'collectionName': 'Hounds of Love (2018 Remaster)', 'trackName': 'Jig of Life (2018 Remaster)', 'collectionCensoredName': 'Hounds of Love (2018 Remaster)', 'trackCensoredName': 'Jig of Life (2018 Remaster)', 'artistViewUrl': 'https://music.apple.com/us/artist/kate-bush/487277?uo=4', 'collectionViewUrl': 'https://music.apple.com/us/album/jig-of-life-2018-remaster/1441652820?i=1441652952&uo=4', 'trackViewUrl': 'https://music.apple.com/us/album/jig-of-life-2018-remaster/1441652820?i=1441652952&uo=4', 'previewUrl': 'https://audio-ssl.itunes.apple.com/itunes-assets/AudioPreview128/v4/20/28/70/202870bb-1b04-5b4a-b070-03fe5fea5d46/mzaf_3476740718407237418.plus.aac.p.m4a', 'artworkUrl30': 'https://is4-ssl.mzstatic.com/image/thumb/Music118/v4/1a/2f/46/1a2f463b-a0c2-54e1-0d5f-b1fcc6c3bd05/source/30x30bb.jpg', 'artworkUrl60': 'https://is4-ssl.mzstatic.com/image/thumb/Music118/v4/1a/2f/46/1a2f463b-a0c2-54e1-0d5f-b1fcc6c3bd05/source/60x60bb.jpg', 'artworkUrl100': 'https://is4-ssl.mzstatic.com/image/thumb/Music118/v4/1a/2f/46/1a2f463b-a0c2-54e1-0d5f-b1fcc6c3bd05/source/100x100bb.jpg', 'collectionPrice': 9.99, 'trackPrice': 1.29, 'releaseDate': '1985-09-16T12:00:00Z', 'collectionExplicitness': 'notExplicit', 'trackExplicitness': 'notExplicit', 'discCount': 1, 'discNumber': 1, 'trackCount': 12, 'trackNumber': 10, 'trackTimeMillis': 243733, 'country': 'USA', 'currency': 'USD', 'primaryGenreName': 'Pop', 'isStreamable': True}, {'wrapperType': 'track', 'kind': 'song', 'artistId': 487277, 'collectionId': 1441652820, 'trackId': 1441652829, 'artistName': 'Kate Bush', 'collectionName': 'Hounds of Love (2018 Remaster)', 'trackName': 'Under Ice (2018 Remaster)', 'collectionCensoredName': 'Hounds of Love (2018 Remaster)', 'trackCensoredName': 'Under Ice (2018 Remaster)', 'artistViewUrl': 'https://music.apple.com/us/artist/kate-bush/487277?uo=4', 'collectionViewUrl': 'https://music.apple.com/us/album/under-ice-2018-remaster/1441652820?i=1441652829&uo=4', 'trackViewUrl': 'https://music.apple.com/us/album/under-ice-2018-remaster/1441652820?i=1441652829&uo=4', 'previewUrl': 'https://audio-ssl.itunes.apple.com/itunes-assets/AudioPreview118/v4/2e/d3/7f/2ed37fe1-f5cd-d5e3-b66d-f41bd2f8a3e2/mzaf_9155850752206575419.plus.aac.p.m4a', 'artworkUrl30': 'https://is4-ssl.mzstatic.com/image/thumb/Music118/v4/1a/2f/46/1a2f463b-a0c2-54e1-0d5f-b1fcc6c3bd05/source/30x30bb.jpg', 'artworkUrl60': 'https://is4-ssl.mzstatic.com/image/thumb/Music118/v4/1a/2f/46/1a2f463b-a0c2-54e1-0d5f-b1fcc6c3bd05/source/60x60bb.jpg', 'artworkUrl100': 'https://is4-ssl.mzstatic.com/image/thumb/Music118/v4/1a/2f/46/1a2f463b-a0c2-54e1-0d5f-b1fcc6c3bd05/source/100x100bb.jpg', 'collectionPrice': 9.99, 'trackPrice': 1.29, 'releaseDate': '1985-09-16T12:00:00Z', 'collectionExplicitness': 'notExplicit', 'trackExplicitness': 'notExplicit', 'discCount': 1, 'discNumber': 1, 'trackCount': 12, 'trackNumber': 7, 'trackTimeMillis': 142307, 'country': 'USA', 'currency': 'USD', 'primaryGenreName': 'Pop', 'isStreamable': True}, {'wrapperType': 'track', 'kind': 'song', 'artistId': 487277, 'collectionId': 1441813799, 'trackId': 1441813808, 'artistName': 'Kate Bush', 'collectionName': 'The Kick Inside (2018 Remaster)', 'trackName': 'The Man With the Child in His Eyes (2018 Remaster)', 'collectionCensoredName': 'The Kick Inside (2018 Remaster)', 'trackCensoredName': 'The Man With the Child in His Eyes (2018 Remaster)', 'artistViewUrl': 'https://music.apple.com/us/artist/kate-bush/487277?uo=4', 'collectionViewUrl': 'https://music.apple.com/us/album/the-man-with-the-child-in-his-eyes-2018-remaster/1441813799?i=1441813808&uo=4', 'trackViewUrl': 'https://music.apple.com/us/album/the-man-with-the-child-in-his-eyes-2018-remaster/1441813799?i=1441813808&uo=4', 'previewUrl': 'https://audio-ssl.itunes.apple.com/itunes-assets/AudioPreview118/v4/74/c1/59/74c159e1-5cda-2fcb-64e0-bcda84408ca8/mzaf_1905699349403788336.plus.aac.p.m4a', 'artworkUrl30': 'https://is1-ssl.mzstatic.com/image/thumb/Music128/v4/f3/69/b4/f369b4d8-8b18-7a7e-e917-eeddb0ca9ee7/source/30x30bb.jpg', 'artworkUrl60': 'https://is1-ssl.mzstatic.com/image/thumb/Music128/v4/f3/69/b4/f369b4d8-8b18-7a7e-e917-eeddb0ca9ee7/source/60x60bb.jpg', 'artworkUrl100': 'https://is1-ssl.mzstatic.com/image/thumb/Music128/v4/f3/69/b4/f369b4d8-8b18-7a7e-e917-eeddb0ca9ee7/source/100x100bb.jpg', 'collectionPrice': 9.99, 'trackPrice': 1.29, 'releaseDate': '1978-02-17T12:00:00Z', 'collectionExplicitness': 'notExplicit', 'trackExplicitness': 'notExplicit', 'discCount': 1, 'discNumber': 1, 'trackCount': 13, 'trackNumber': 5, 'trackTimeMillis': 161147, 'country': 'USA', 'currency': 'USD', 'primaryGenreName': 'Pop', 'isStreamable': True}, {'wrapperType': 'track', 'kind': 'song', 'artistId': 487277, 'collectionId': 697237542, 'trackId': 697238236, 'artistName': 'Kate Bush', 'collectionName': 'Lionheart', 'trackName': 'Wow', 'collectionCensoredName': 'Lionheart', 'trackCensoredName': 'Wow', 'artistViewUrl': 'https://music.apple.com/us/artist/kate-bush/487277?uo=4', 'collectionViewUrl': 'https://music.apple.com/us/album/wow/697237542?i=697238236&uo=4', 'trackViewUrl': 'https://music.apple.com/us/album/wow/697237542?i=697238236&uo=4', 'previewUrl': 'https://audio-ssl.itunes.apple.com/itunes-assets/Music6/v4/a8/17/11/a8171195-8ae4-ccf5-a187-226c1c5eb04a/mzaf_5898860118249829338.plus.aac.p.m4a', 'artworkUrl30': 'https://is5-ssl.mzstatic.com/image/thumb/Music6/v4/a6/ca/ec/a6caecd3-4707-b89b-c072-c51ad395d992/source/30x30bb.jpg', 'artworkUrl60': 'https://is5-ssl.mzstatic.com/image/thumb/Music6/v4/a6/ca/ec/a6caecd3-4707-b89b-c072-c51ad395d992/source/60x60bb.jpg', 'artworkUrl100': 'https://is5-ssl.mzstatic.com/image/thumb/Music6/v4/a6/ca/ec/a6caecd3-4707-b89b-c072-c51ad395d992/source/100x100bb.jpg', 'collectionPrice': 9.99, 'trackPrice': 1.29, 'releaseDate': '1978-11-10T12:00:00Z', 'collectionExplicitness': 'notExplicit', 'trackExplicitness': 'notExplicit', 'discCount': 1, 'discNumber': 1, 'trackCount': 10, 'trackNumber': 3, 'trackTimeMillis': 240773, 'country': 'USA', 'currency': 'USD', 'primaryGenreName': 'Pop', 'isStreamable': True}, {'wrapperType': 'track', 'kind': 'song', 'artistId': 487277, 'collectionId': 901279250, 'trackId': 901279256, 'artistName': 'Kate Bush', 'collectionName': 'Hounds of Love', 'trackName': 'Hounds of Love', 'collectionCensoredName': 'Hounds of Love', 'trackCensoredName': 'Hounds of Love', 'artistViewUrl': 'https://music.apple.com/us/artist/kate-bush/487277?uo=4', 'collectionViewUrl': 'https://music.apple.com/us/album/hounds-of-love/901279250?i=901279256&uo=4', 'trackViewUrl': 'https://music.apple.com/us/album/hounds-of-love/901279250?i=901279256&uo=4', 'previewUrl': 'https://audio-ssl.itunes.apple.com/itunes-assets/Music5/v4/bf/fb/34/bffb34d7-05d9-4540-2926-992bd302cd99/mzaf_2385651673629911353.plus.aac.p.m4a', 'artworkUrl30': 'https://is2-ssl.mzstatic.com/image/thumb/Music71/v4/14/43/c8/1443c8a5-4d68-da35-69d8-3aa6af733e57/source/30x30bb.jpg', 'artworkUrl60': 'https://is2-ssl.mzstatic.com/image/thumb/Music71/v4/14/43/c8/1443c8a5-4d68-da35-69d8-3aa6af733e57/source/60x60bb.jpg', 'artworkUrl100': 'https://is2-ssl.mzstatic.com/image/thumb/Music71/v4/14/43/c8/1443c8a5-4d68-da35-69d8-3aa6af733e57/source/100x100bb.jpg', 'collectionPrice': 9.99, 'trackPrice': 1.29, 'releaseDate': '1985-09-16T12:00:00Z', 'collectionExplicitness': 'notExplicit', 'trackExplicitness': 'notExplicit', 'discCount': 1, 'discNumber': 1, 'trackCount': 12, 'trackNumber': 2, 'trackTimeMillis': 183267, 'country': 'USA', 'currency': 'USD', 'primaryGenreName': 'Pop', 'isStreamable': True}, {'wrapperType': 'track', 'kind': 'song', 'artistId': 487277, 'collectionId': 901279250, 'trackId': 901279266, 'artistName': 'Kate Bush', 'collectionName': 'Hounds of Love', 'trackName': 'The Morning Fog', 'collectionCensoredName': 'Hounds of Love', 'trackCensoredName': 'The Morning Fog', 'artistViewUrl': 'https://music.apple.com/us/artist/kate-bush/487277?uo=4', 'collectionViewUrl': 'https://music.apple.com/us/album/the-morning-fog/901279250?i=901279266&uo=4', 'trackViewUrl': 'https://music.apple.com/us/album/the-morning-fog/901279250?i=901279266&uo=4', 'previewUrl': 'https://audio-ssl.itunes.apple.com/itunes-assets/Music3/v4/db/c0/8c/dbc08c78-b256-3c64-e941-4a2de8fa60c3/mzaf_4284481941145451720.plus.aac.p.m4a', 'artworkUrl30': 'https://is2-ssl.mzstatic.com/image/thumb/Music71/v4/14/43/c8/1443c8a5-4d68-da35-69d8-3aa6af733e57/source/30x30bb.jpg', 'artworkUrl60': 'https://is2-ssl.mzstatic.com/image/thumb/Music71/v4/14/43/c8/1443c8a5-4d68-da35-69d8-3aa6af733e57/source/60x60bb.jpg', 'artworkUrl100': 'https://is2-ssl.mzstatic.com/image/thumb/Music71/v4/14/43/c8/1443c8a5-4d68-da35-69d8-3aa6af733e57/source/100x100bb.jpg', 'collectionPrice': 9.99, 'trackPrice': 1.29, 'releaseDate': '1985-09-16T12:00:00Z', 'collectionExplicitness': 'notExplicit', 'trackExplicitness': 'notExplicit', 'discCount': 1, 'discNumber': 1, 'trackCount': 12, 'trackNumber': 12, 'trackTimeMillis': 157027, 'country': 'USA', 'currency': 'USD', 'primaryGenreName': 'Pop', 'isStreamable': True}, {'wrapperType': 'track', 'kind': 'song', 'artistId': 487277, 'collectionId': 901279250, 'trackId': 901279264, 'artistName': 'Kate Bush', 'collectionName': 'Hounds of Love', 'trackName': 'Jig of Life', 'collectionCensoredName': 'Hounds of Love', 'trackCensoredName': 'Jig of Life', 'artistViewUrl': 'https://music.apple.com/us/artist/kate-bush/487277?uo=4', 'collectionViewUrl': 'https://music.apple.com/us/album/jig-of-life/901279250?i=901279264&uo=4', 'trackViewUrl': 'https://music.apple.com/us/album/jig-of-life/901279250?i=901279264&uo=4', 'previewUrl': 'https://audio-ssl.itunes.apple.com/itunes-assets/Music3/v4/86/5a/c1/865ac1b9-0c41-185a-9248-057637496a99/mzaf_1289830832213493874.plus.aac.p.m4a', 'artworkUrl30': 'https://is2-ssl.mzstatic.com/image/thumb/Music71/v4/14/43/c8/1443c8a5-4d68-da35-69d8-3aa6af733e57/source/30x30bb.jpg', 'artworkUrl60': 'https://is2-ssl.mzstatic.com/image/thumb/Music71/v4/14/43/c8/1443c8a5-4d68-da35-69d8-3aa6af733e57/source/60x60bb.jpg', 'artworkUrl100': 'https://is2-ssl.mzstatic.com/image/thumb/Music71/v4/14/43/c8/1443c8a5-4d68-da35-69d8-3aa6af733e57/source/100x100bb.jpg', 'collectionPrice': 9.99, 'trackPrice': 1.29, 'releaseDate': '1985-09-16T12:00:00Z', 'collectionExplicitness': 'notExplicit', 'trackExplicitness': 'notExplicit', 'discCount': 1, 'discNumber': 1, 'trackCount': 12, 'trackNumber': 10, 'trackTimeMillis': 244307, 'country': 'USA', 'currency': 'USD', 'primaryGenreName': 'Pop', 'isStreamable': True}, {'wrapperType': 'track', 'kind': 'song', 'artistId': 487277, 'collectionId': 726230233, 'trackId': 726230336, 'artistName': 'Kate Bush', 'collectionName': 'The Kick Inside', 'trackName': 'Moving', 'collectionCensoredName': 'The Kick Inside', 'trackCensoredName': 'Moving', 'artistViewUrl': 'https://music.apple.com/us/artist/kate-bush/487277?uo=4', 'collectionViewUrl': 'https://music.apple.com/us/album/moving/726230233?i=726230336&uo=4', 'trackViewUrl': 'https://music.apple.com/us/album/moving/726230233?i=726230336&uo=4', 'previewUrl': 'https://audio-ssl.itunes.apple.com/itunes-assets/AudioPreview128/v4/ac/53/14/ac53145a-0157-e4b3-2547-2b8ac324c362/mzaf_5217690170348066522.plus.aac.p.m4a', 'artworkUrl30': 'https://is5-ssl.mzstatic.com/image/thumb/Music6/v4/b3/c8/9b/b3c89b69-6c85-22a6-5b86-e40d4bf3482d/source/30x30bb.jpg', 'artworkUrl60': 'https://is5-ssl.mzstatic.com/image/thumb/Music6/v4/b3/c8/9b/b3c89b69-6c85-22a6-5b86-e40d4bf3482d/source/60x60bb.jpg', 'artworkUrl100': 'https://is5-ssl.mzstatic.com/image/thumb/Music6/v4/b3/c8/9b/b3c89b69-6c85-22a6-5b86-e40d4bf3482d/source/100x100bb.jpg', 'collectionPrice': 9.99, 'trackPrice': 1.29, 'releaseDate': '1978-02-17T12:00:00Z', 'collectionExplicitness': 'notExplicit', 'trackExplicitness': 'notExplicit', 'discCount': 1, 'discNumber': 1, 'trackCount': 13, 'trackNumber': 1, 'trackTimeMillis': 181960, 'country': 'USA', 'currency': 'USD', 'primaryGenreName': 'Rock', 'isStreamable': True}, {'wrapperType': 'track', 'kind': 'song', 'artistId': 487277, 'collectionId': 192700166, 'trackId': 192701024, 'artistName': 'Kate Bush', 'collectionName': 'The Red Shoes', 'trackName': 'The Song of Solomon', 'collectionCensoredName': 'The Red Shoes', 'trackCensoredName': 'The Song of Solomon', 'artistViewUrl': 'https://music.apple.com/us/artist/kate-bush/487277?uo=4', 'collectionViewUrl': 'https://music.apple.com/us/album/the-song-of-solomon/192700166?i=192701024&uo=4', 'trackViewUrl': 'https://music.apple.com/us/album/the-song-of-solomon/192700166?i=192701024&uo=4', 'previewUrl': 'https://audio-ssl.itunes.apple.com/itunes-assets/AudioPreview123/v4/42/10/a5/4210a516-e25c-ff55-0d6b-ac2030b47696/mzaf_1717883612205621710.plus.aac.p.m4a', 'artworkUrl30': 'https://is3-ssl.mzstatic.com/image/thumb/Music113/v4/ac/3c/4c/ac3c4c97-d298-81d1-2520-37794d83ea80/source/30x30bb.jpg', 'artworkUrl60': 'https://is3-ssl.mzstatic.com/image/thumb/Music113/v4/ac/3c/4c/ac3c4c97-d298-81d1-2520-37794d83ea80/source/60x60bb.jpg', 'artworkUrl100': 'https://is3-ssl.mzstatic.com/image/thumb/Music113/v4/ac/3c/4c/ac3c4c97-d298-81d1-2520-37794d83ea80/source/100x100bb.jpg', 'collectionPrice': 9.99, 'trackPrice': 1.29, 'releaseDate': '1993-11-02T08:00:00Z', 'collectionExplicitness': 'notExplicit', 'trackExplicitness': 'notExplicit', 'discCount': 1, 'discNumber': 1, 'trackCount': 12, 'trackNumber': 5, 'trackTimeMillis': 266493, 'country': 'USA', 'currency': 'USD', 'primaryGenreName': 'Pop', 'isStreamable': True}, {'wrapperType': 'track', 'kind': 'song', 'artistId': 487277, 'collectionId': 192700166, 'trackId': 192700251, 'artistName': 'Kate Bush', 'collectionName': 'The Red Shoes', 'trackName': 'Rubberband Girl', 'collectionCensoredName': 'The Red Shoes', 'trackCensoredName': 'Rubberband Girl', 'artistViewUrl': 'https://music.apple.com/us/artist/kate-bush/487277?uo=4', 'collectionViewUrl': 'https://music.apple.com/us/album/rubberband-girl/192700166?i=192700251&uo=4', 'trackViewUrl': 'https://music.apple.com/us/album/rubberband-girl/192700166?i=192700251&uo=4', 'previewUrl': 'https://audio-ssl.itunes.apple.com/itunes-assets/AudioPreview123/v4/30/7e/37/307e3737-02e3-f860-9507-b29f4611accc/mzaf_7804565910687544466.plus.aac.p.m4a', 'artworkUrl30': 'https://is3-ssl.mzstatic.com/image/thumb/Music113/v4/ac/3c/4c/ac3c4c97-d298-81d1-2520-37794d83ea80/source/30x30bb.jpg', 'artworkUrl60': 'https://is3-ssl.mzstatic.com/image/thumb/Music113/v4/ac/3c/4c/ac3c4c97-d298-81d1-2520-37794d83ea80/source/60x60bb.jpg', 'artworkUrl100': 'https://is3-ssl.mzstatic.com/image/thumb/Music113/v4/ac/3c/4c/ac3c4c97-d298-81d1-2520-37794d83ea80/source/100x100bb.jpg', 'collectionPrice': 9.99, 'trackPrice': 1.29, 'releaseDate': '1993-09-06T07:00:00Z', 'collectionExplicitness': 'notExplicit', 'trackExplicitness': 'notExplicit', 'discCount': 1, 'discNumber': 1, 'trackCount': 12, 'trackNumber': 1, 'trackTimeMillis': 283947, 'country': 'USA', 'currency': 'USD', 'primaryGenreName': 'Pop', 'isStreamable': True}, {'wrapperType': 'track', 'kind': 'song', 'artistId': 487277, 'collectionId': 1441813799, 'trackId': 1441813801, 'artistName': 'Kate Bush', 'collectionName': 'The Kick Inside (2018 Remaster)', 'trackName': 'Moving (2018 Remaster)', 'collectionCensoredName': 'The Kick Inside (2018 Remaster)', 'trackCensoredName': 'Moving (2018 Remaster)', 'artistViewUrl': 'https://music.apple.com/us/artist/kate-bush/487277?uo=4', 'collectionViewUrl': 'https://music.apple.com/us/album/moving-2018-remaster/1441813799?i=1441813801&uo=4', 'trackViewUrl': 'https://music.apple.com/us/album/moving-2018-remaster/1441813799?i=1441813801&uo=4', 'previewUrl': 'https://audio-ssl.itunes.apple.com/itunes-assets/AudioPreview118/v4/3e/2a/c8/3e2ac898-a5ae-a073-f8bd-bfd8a0b415c0/mzaf_4392473083457230358.plus.aac.p.m4a', 'artworkUrl30': 'https://is1-ssl.mzstatic.com/image/thumb/Music128/v4/f3/69/b4/f369b4d8-8b18-7a7e-e917-eeddb0ca9ee7/source/30x30bb.jpg', 'artworkUrl60': 'https://is1-ssl.mzstatic.com/image/thumb/Music128/v4/f3/69/b4/f369b4d8-8b18-7a7e-e917-eeddb0ca9ee7/source/60x60bb.jpg', 'artworkUrl100': 'https://is1-ssl.mzstatic.com/image/thumb/Music128/v4/f3/69/b4/f369b4d8-8b18-7a7e-e917-eeddb0ca9ee7/source/100x100bb.jpg', 'collectionPrice': 9.99, 'trackPrice': 1.29, 'releaseDate': '1978-02-17T12:00:00Z', 'collectionExplicitness': 'notExplicit', 'trackExplicitness': 'notExplicit', 'discCount': 1, 'discNumber': 1, 'trackCount': 13, 'trackNumber': 1, 'trackTimeMillis': 180880, 'country': 'USA', 'currency': 'USD', 'primaryGenreName': 'Pop', 'isStreamable': True}, {'wrapperType': 'track', 'kind': 'song', 'artistId': 487277, 'collectionId': 901279250, 'trackId': 901279262, 'artistName': 'Kate Bush', 'collectionName': 'Hounds of Love', 'trackName': 'Waking the Witch', 'collectionCensoredName': 'Hounds of Love', 'trackCensoredName': 'Waking the Witch', 'artistViewUrl': 'https://music.apple.com/us/artist/kate-bush/487277?uo=4', 'collectionViewUrl': 'https://music.apple.com/us/album/waking-the-witch/901279250?i=901279262&uo=4', 'trackViewUrl': 'https://music.apple.com/us/album/waking-the-witch/901279250?i=901279262&uo=4', 'previewUrl': 'https://audio-ssl.itunes.apple.com/itunes-assets/Music4/v4/3b/bd/f5/3bbdf556-a0cf-ead0-f9e6-7acf8d08ed2b/mzaf_7399061400513060696.plus.aac.p.m4a', 'artworkUrl30': 'https://is2-ssl.mzstatic.com/image/thumb/Music71/v4/14/43/c8/1443c8a5-4d68-da35-69d8-3aa6af733e57/source/30x30bb.jpg', 'artworkUrl60': 'https://is2-ssl.mzstatic.com/image/thumb/Music71/v4/14/43/c8/1443c8a5-4d68-da35-69d8-3aa6af733e57/source/60x60bb.jpg', 'artworkUrl100': 'https://is2-ssl.mzstatic.com/image/thumb/Music71/v4/14/43/c8/1443c8a5-4d68-da35-69d8-3aa6af733e57/source/100x100bb.jpg', 'collectionPrice': 9.99, 'trackPrice': 1.29, 'releaseDate': '1985-09-16T12:00:00Z', 'collectionExplicitness': 'notExplicit', 'trackExplicitness': 'notExplicit', 'discCount': 1, 'discNumber': 1, 'trackCount': 12, 'trackNumber': 8, 'trackTimeMillis': 258733, 'country': 'USA', 'currency': 'USD', 'primaryGenreName': 'Pop', 'isStreamable': True}, {'wrapperType': 'track', 'kind': 'song', 'artistId': 487277, 'collectionId': 1443214951, 'trackId': 1443215392, 'artistName': 'Kate Bush', 'collectionName': 'Before the Dawn (Live)', 'trackName': 'Act Three - Somewhere in Between', 'collectionCensoredName': 'Before the Dawn (Live)', 'trackCensoredName': 'Act Three - Somewhere in Between (Live)', 'artistViewUrl': 'https://music.apple.com/us/artist/kate-bush/487277?uo=4', 'collectionViewUrl': 'https://music.apple.com/us/album/act-three-somewhere-in-between-live/1443214951?i=1443215392&uo=4', 'trackViewUrl': 'https://music.apple.com/us/album/act-three-somewhere-in-between-live/1443214951?i=1443215392&uo=4', 'previewUrl': 'https://audio-ssl.itunes.apple.com/itunes-assets/AudioPreview118/v4/ae/2a/f4/ae2af4e1-fd39-03f0-9068-17178359508b/mzaf_3364912353495352448.plus.aac.p.m4a', 'artworkUrl30': 'https://is4-ssl.mzstatic.com/image/thumb/Music118/v4/3b/fd/ab/3bfdabeb-a57f-4560-dfd1-08b7b0fc7897/source/30x30bb.jpg', 'artworkUrl60': 'https://is4-ssl.mzstatic.com/image/thumb/Music118/v4/3b/fd/ab/3bfdabeb-a57f-4560-dfd1-08b7b0fc7897/source/60x60bb.jpg', 'artworkUrl100': 'https://is4-ssl.mzstatic.com/image/thumb/Music118/v4/3b/fd/ab/3bfdabeb-a57f-4560-dfd1-08b7b0fc7897/source/100x100bb.jpg', 'collectionPrice': 19.99, 'trackPrice': 1.29, 'releaseDate': '2016-11-25T12:00:00Z', 'collectionExplicitness': 'notExplicit', 'trackExplicitness': 'notExplicit', 'discCount': 3, 'discNumber': 3, 'trackCount': 12, 'trackNumber': 7, 'trackTimeMillis': 419227, 'country': 'USA', 'currency': 'USD', 'primaryGenreName': 'Alternative', 'isStreamable': True}, {'wrapperType': 'track', 'kind': 'song', 'artistId': 487277, 'collectionId': 1443214951, 'trackId': 1443214960, 'artistName': 'Kate Bush', 'collectionName': 'Before the Dawn (Live)', 'trackName': 'Act One - Never Be Mine', 'collectionCensoredName': 'Before the Dawn (Live)', 'trackCensoredName': 'Act One - Never Be Mine (Live)', 'artistViewUrl': 'https://music.apple.com/us/artist/kate-bush/487277?uo=4', 'collectionViewUrl': 'https://music.apple.com/us/album/act-one-never-be-mine-live/1443214951?i=1443214960&uo=4', 'trackViewUrl': 'https://music.apple.com/us/album/act-one-never-be-mine-live/1443214951?i=1443214960&uo=4', 'previewUrl': 'https://audio-ssl.itunes.apple.com/itunes-assets/AudioPreview118/v4/e9/9a/71/e99a7179-6b06-ab44-7359-7014c84c15b8/mzaf_5647599944541590334.plus.aac.p.m4a', 'artworkUrl30': 'https://is4-ssl.mzstatic.com/image/thumb/Music118/v4/3b/fd/ab/3bfdabeb-a57f-4560-dfd1-08b7b0fc7897/source/30x30bb.jpg', 'artworkUrl60': 'https://is4-ssl.mzstatic.com/image/thumb/Music118/v4/3b/fd/ab/3bfdabeb-a57f-4560-dfd1-08b7b0fc7897/source/60x60bb.jpg', 'artworkUrl100': 'https://is4-ssl.mzstatic.com/image/thumb/Music118/v4/3b/fd/ab/3bfdabeb-a57f-4560-dfd1-08b7b0fc7897/source/100x100bb.jpg', 'collectionPrice': 19.99, 'trackPrice': 1.29, 'releaseDate': '2016-11-25T12:00:00Z', 'collectionExplicitness': 'notExplicit', 'trackExplicitness': 'notExplicit', 'discCount': 3, 'discNumber': 1, 'trackCount': 7, 'trackNumber': 5, 'trackTimeMillis': 355000, 'country': 'USA', 'currency': 'USD', 'primaryGenreName': 'Alternative', 'isStreamable': True}, {'wrapperType': 'track', 'kind': 'song', 'artistId': 487277, 'collectionId': 901279250, 'trackId': 901279257, 'artistName': 'Kate Bush', 'collectionName': 'Hounds of Love', 'trackName': 'The Big Sky (Special Single Mix)', 'collectionCensoredName': 'Hounds of Love', 'trackCensoredName': 'The Big Sky (Special Single Mix)', 'artistViewUrl': 'https://music.apple.com/us/artist/kate-bush/487277?uo=4', 'collectionViewUrl': 'https://music.apple.com/us/album/the-big-sky-special-single-mix/901279250?i=901279257&uo=4', 'trackViewUrl': 'https://music.apple.com/us/album/the-big-sky-special-single-mix/901279250?i=901279257&uo=4', 'previewUrl': 'https://audio-ssl.itunes.apple.com/itunes-assets/Music4/v4/44/63/1b/44631b78-a9db-d04a-f3cf-d065180333c4/mzaf_5056374603963658941.plus.aac.p.m4a', 'artworkUrl30': 'https://is2-ssl.mzstatic.com/image/thumb/Music71/v4/14/43/c8/1443c8a5-4d68-da35-69d8-3aa6af733e57/source/30x30bb.jpg', 'artworkUrl60': 'https://is2-ssl.mzstatic.com/image/thumb/Music71/v4/14/43/c8/1443c8a5-4d68-da35-69d8-3aa6af733e57/source/60x60bb.jpg', 'artworkUrl100': 'https://is2-ssl.mzstatic.com/image/thumb/Music71/v4/14/43/c8/1443c8a5-4d68-da35-69d8-3aa6af733e57/source/100x100bb.jpg', 'collectionPrice': 9.99, 'trackPrice': 1.29, 'releaseDate': '1985-09-16T12:00:00Z', 'collectionExplicitness': 'notExplicit', 'trackExplicitness': 'notExplicit', 'discCount': 1, 'discNumber': 1, 'trackCount': 12, 'trackNumber': 3, 'trackTimeMillis': 278160, 'country': 'USA', 'currency': 'USD', 'primaryGenreName': 'Pop', 'isStreamable': True}, {'wrapperType': 'track', 'kind': 'song', 'artistId': 487277, 'collectionId': 901279250, 'trackId': 901279260, 'artistName': 'Kate Bush', 'collectionName': 'Hounds of Love', 'trackName': 'And Dream of Sheep', 'collectionCensoredName': 'Hounds of Love', 'trackCensoredName': 'And Dream of Sheep', 'artistViewUrl': 'https://music.apple.com/us/artist/kate-bush/487277?uo=4', 'collectionViewUrl': 'https://music.apple.com/us/album/and-dream-of-sheep/901279250?i=901279260&uo=4', 'trackViewUrl': 'https://music.apple.com/us/album/and-dream-of-sheep/901279250?i=901279260&uo=4', 'previewUrl': 'https://audio-ssl.itunes.apple.com/itunes-assets/Music4/v4/f6/2a/e4/f62ae428-e42e-63b4-5330-d127788ad3db/mzaf_3469145140128436913.plus.aac.p.m4a', 'artworkUrl30': 'https://is2-ssl.mzstatic.com/image/thumb/Music71/v4/14/43/c8/1443c8a5-4d68-da35-69d8-3aa6af733e57/source/30x30bb.jpg', 'artworkUrl60': 'https://is2-ssl.mzstatic.com/image/thumb/Music71/v4/14/43/c8/1443c8a5-4d68-da35-69d8-3aa6af733e57/source/60x60bb.jpg', 'artworkUrl100': 'https://is2-ssl.mzstatic.com/image/thumb/Music71/v4/14/43/c8/1443c8a5-4d68-da35-69d8-3aa6af733e57/source/100x100bb.jpg', 'collectionPrice': 9.99, 'trackPrice': 1.29, 'releaseDate': '1985-09-16T12:00:00Z', 'collectionExplicitness': 'notExplicit', 'trackExplicitness': 'notExplicit', 'discCount': 1, 'discNumber': 1, 'trackCount': 12, 'trackNumber': 6, 'trackTimeMillis': 165773, 'country': 'USA', 'currency': 'USD', 'primaryGenreName': 'Pop', 'isStreamable': True}, {'wrapperType': 'track', 'kind': 'song', 'artistId': 487277, 'collectionId': 1441813799, 'trackId': 1441814295, 'artistName': 'Kate Bush', 'collectionName': 'The Kick Inside (2018 Remaster)', 'trackName': 'Them Heavy People (2018 Remaster)', 'collectionCensoredName': 'The Kick Inside (2018 Remaster)', 'trackCensoredName': 'Them Heavy People (2018 Remaster)', 'artistViewUrl': 'https://music.apple.com/us/artist/kate-bush/487277?uo=4', 'collectionViewUrl': 'https://music.apple.com/us/album/them-heavy-people-2018-remaster/1441813799?i=1441814295&uo=4', 'trackViewUrl': 'https://music.apple.com/us/album/them-heavy-people-2018-remaster/1441813799?i=1441814295&uo=4', 'previewUrl': 'https://audio-ssl.itunes.apple.com/itunes-assets/AudioPreview118/v4/3f/c4/92/3fc492bc-111c-2d5c-92b6-e2824c73049e/mzaf_4898412392638880711.plus.aac.p.m4a', 'artworkUrl30': 'https://is1-ssl.mzstatic.com/image/thumb/Music128/v4/f3/69/b4/f369b4d8-8b18-7a7e-e917-eeddb0ca9ee7/source/30x30bb.jpg', 'artworkUrl60': 'https://is1-ssl.mzstatic.com/image/thumb/Music128/v4/f3/69/b4/f369b4d8-8b18-7a7e-e917-eeddb0ca9ee7/source/60x60bb.jpg', 'artworkUrl100': 'https://is1-ssl.mzstatic.com/image/thumb/Music128/v4/f3/69/b4/f369b4d8-8b18-7a7e-e917-eeddb0ca9ee7/source/100x100bb.jpg', 'collectionPrice': 9.99, 'trackPrice': 1.29, 'releaseDate': '1978-02-17T12:00:00Z', 'collectionExplicitness': 'notExplicit', 'trackExplicitness': 'notExplicit', 'discCount': 1, 'discNumber': 1, 'trackCount': 13, 'trackNumber': 11, 'trackTimeMillis': 184773, 'country': 'USA', 'currency': 'USD', 'primaryGenreName': 'Pop', 'isStreamable': True}, {'wrapperType': 'track', 'kind': 'song', 'artistId': 487277, 'collectionId': 901279250, 'trackId': 901279265, 'artistName': 'Kate Bush', 'collectionName': 'Hounds of Love', 'trackName': 'Hello Earth', 'collectionCensoredName': 'Hounds of Love', 'trackCensoredName': 'Hello Earth', 'artistViewUrl': 'https://music.apple.com/us/artist/kate-bush/487277?uo=4', 'collectionViewUrl': 'https://music.apple.com/us/album/hello-earth/901279250?i=901279265&uo=4', 'trackViewUrl': 'https://music.apple.com/us/album/hello-earth/901279250?i=901279265&uo=4', 'previewUrl': 'https://audio-ssl.itunes.apple.com/itunes-assets/Music4/v4/6b/e2/c3/6be2c34d-029d-b5f8-0fc4-fad68fff4f39/mzaf_608028878733973372.plus.aac.p.m4a', 'artworkUrl30': 'https://is2-ssl.mzstatic.com/image/thumb/Music71/v4/14/43/c8/1443c8a5-4d68-da35-69d8-3aa6af733e57/source/30x30bb.jpg', 'artworkUrl60': 'https://is2-ssl.mzstatic.com/image/thumb/Music71/v4/14/43/c8/1443c8a5-4d68-da35-69d8-3aa6af733e57/source/60x60bb.jpg', 'artworkUrl100': 'https://is2-ssl.mzstatic.com/image/thumb/Music71/v4/14/43/c8/1443c8a5-4d68-da35-69d8-3aa6af733e57/source/100x100bb.jpg', 'collectionPrice': 9.99, 'trackPrice': 1.29, 'releaseDate': '1985-09-16T12:00:00Z', 'collectionExplicitness': 'notExplicit', 'trackExplicitness': 'notExplicit', 'discCount': 1, 'discNumber': 1, 'trackCount': 12, 'trackNumber': 11, 'trackTimeMillis': 373093, 'country': 'USA', 'currency': 'USD', 'primaryGenreName': 'Pop', 'isStreamable': True}, {'wrapperType': 'track', 'kind': 'song', 'artistId': 487277, 'collectionId': 1443214951, 'trackId': 1443215212, 'artistName': 'Kate Bush', 'collectionName': 'Before the Dawn (Live)', 'trackName': 'Act Two - Waking the Witch (feat. Jo Servi & Paddy Bush)', 'collectionCensoredName': 'Before the Dawn (Live)', 'trackCensoredName': 'Act Two - Waking the Witch (feat. Jo Servi & Paddy Bush) [Live]', 'artistViewUrl': 'https://music.apple.com/us/artist/kate-bush/487277?uo=4', 'collectionViewUrl': 'https://music.apple.com/us/album/act-two-waking-the-witch-feat-jo-servi-paddy-bush-live/1443214951?i=1443215212&uo=4', 'trackViewUrl': 'https://music.apple.com/us/album/act-two-waking-the-witch-feat-jo-servi-paddy-bush-live/1443214951?i=1443215212&uo=4', 'previewUrl': 'https://audio-ssl.itunes.apple.com/itunes-assets/AudioPreview128/v4/2f/54/41/2f54417a-ce34-366c-72fe-7d3e65841596/mzaf_3838339074527980041.plus.aac.p.m4a', 'artworkUrl30': 'https://is4-ssl.mzstatic.com/image/thumb/Music118/v4/3b/fd/ab/3bfdabeb-a57f-4560-dfd1-08b7b0fc7897/source/30x30bb.jpg', 'artworkUrl60': 'https://is4-ssl.mzstatic.com/image/thumb/Music118/v4/3b/fd/ab/3bfdabeb-a57f-4560-dfd1-08b7b0fc7897/source/60x60bb.jpg', 'artworkUrl100': 'https://is4-ssl.mzstatic.com/image/thumb/Music118/v4/3b/fd/ab/3bfdabeb-a57f-4560-dfd1-08b7b0fc7897/source/100x100bb.jpg', 'collectionPrice': 19.99, 'trackPrice': 1.29, 'releaseDate': '2016-11-25T12:00:00Z', 'collectionExplicitness': 'notExplicit', 'trackExplicitness': 'notExplicit', 'discCount': 3, 'discNumber': 2, 'trackCount': 10, 'trackNumber': 4, 'trackTimeMillis': 395573, 'country': 'USA', 'currency': 'USD', 'primaryGenreName': 'Alternative', 'isStreamable': True}, {'wrapperType': 'track', 'kind': 'song', 'artistId': 487277, 'collectionId': 697237542, 'trackId': 697238240, 'artistName': 'Kate Bush', 'collectionName': 'Lionheart', 'trackName': \"Don't Push Your Foot On the Heartbrake\", 'collectionCensoredName': 'Lionheart', 'trackCensoredName': \"Don't Push Your Foot On the Heartbrake\", 'artistViewUrl': 'https://music.apple.com/us/artist/kate-bush/487277?uo=4', 'collectionViewUrl': 'https://music.apple.com/us/album/dont-push-your-foot-on-the-heartbrake/697237542?i=697238240&uo=4', 'trackViewUrl': 'https://music.apple.com/us/album/dont-push-your-foot-on-the-heartbrake/697237542?i=697238240&uo=4', 'previewUrl': 'https://audio-ssl.itunes.apple.com/itunes-assets/Music6/v4/46/48/44/46484466-be18-e79c-c905-e1b1ba7dad13/mzaf_3687892153820208312.plus.aac.p.m4a', 'artworkUrl30': 'https://is5-ssl.mzstatic.com/image/thumb/Music6/v4/a6/ca/ec/a6caecd3-4707-b89b-c072-c51ad395d992/source/30x30bb.jpg', 'artworkUrl60': 'https://is5-ssl.mzstatic.com/image/thumb/Music6/v4/a6/ca/ec/a6caecd3-4707-b89b-c072-c51ad395d992/source/60x60bb.jpg', 'artworkUrl100': 'https://is5-ssl.mzstatic.com/image/thumb/Music6/v4/a6/ca/ec/a6caecd3-4707-b89b-c072-c51ad395d992/source/100x100bb.jpg', 'collectionPrice': 9.99, 'trackPrice': 1.29, 'releaseDate': '1978-11-10T12:00:00Z', 'collectionExplicitness': 'notExplicit', 'trackExplicitness': 'notExplicit', 'discCount': 1, 'discNumber': 1, 'trackCount': 10, 'trackNumber': 4, 'trackTimeMillis': 195600, 'country': 'USA', 'currency': 'USD', 'primaryGenreName': 'Pop', 'isStreamable': True}, {'wrapperType': 'track', 'kind': 'song', 'artistId': 487277, 'collectionId': 192700166, 'trackId': 192700341, 'artistName': 'Kate Bush', 'collectionName': 'The Red Shoes', 'trackName': 'And So Is Love', 'collectionCensoredName': 'The Red Shoes', 'trackCensoredName': 'And So Is Love', 'artistViewUrl': 'https://music.apple.com/us/artist/kate-bush/487277?uo=4', 'collectionViewUrl': 'https://music.apple.com/us/album/and-so-is-love/192700166?i=192700341&uo=4', 'trackViewUrl': 'https://music.apple.com/us/album/and-so-is-love/192700166?i=192700341&uo=4', 'previewUrl': 'https://audio-ssl.itunes.apple.com/itunes-assets/AudioPreview114/v4/05/48/f8/0548f82b-656b-7d35-690e-127c630781a0/mzaf_2438776186115748855.plus.aac.p.m4a', 'artworkUrl30': 'https://is3-ssl.mzstatic.com/image/thumb/Music113/v4/ac/3c/4c/ac3c4c97-d298-81d1-2520-37794d83ea80/source/30x30bb.jpg', 'artworkUrl60': 'https://is3-ssl.mzstatic.com/image/thumb/Music113/v4/ac/3c/4c/ac3c4c97-d298-81d1-2520-37794d83ea80/source/60x60bb.jpg', 'artworkUrl100': 'https://is3-ssl.mzstatic.com/image/thumb/Music113/v4/ac/3c/4c/ac3c4c97-d298-81d1-2520-37794d83ea80/source/100x100bb.jpg', 'collectionPrice': 9.99, 'trackPrice': 1.29, 'releaseDate': '1993-11-02T08:00:00Z', 'collectionExplicitness': 'notExplicit', 'trackExplicitness': 'notExplicit', 'discCount': 1, 'discNumber': 1, 'trackCount': 12, 'trackNumber': 2, 'trackTimeMillis': 259747, 'country': 'USA', 'currency': 'USD', 'primaryGenreName': 'Pop', 'isStreamable': True}, {'wrapperType': 'track', 'kind': 'song', 'artistId': 487277, 'collectionId': 192700166, 'trackId': 192700348, 'artistName': 'Kate Bush', 'collectionName': 'The Red Shoes', 'trackName': 'Eat the Music', 'collectionCensoredName': 'The Red Shoes', 'trackCensoredName': 'Eat the Music', 'artistViewUrl': 'https://music.apple.com/us/artist/kate-bush/487277?uo=4', 'collectionViewUrl': 'https://music.apple.com/us/album/eat-the-music/192700166?i=192700348&uo=4', 'trackViewUrl': 'https://music.apple.com/us/album/eat-the-music/192700166?i=192700348&uo=4', 'previewUrl': 'https://audio-ssl.itunes.apple.com/itunes-assets/AudioPreview124/v4/b2/87/6b/b2876b50-e9d6-7a35-b807-180cd26de6d9/mzaf_3602607453522695019.plus.aac.p.m4a', 'artworkUrl30': 'https://is3-ssl.mzstatic.com/image/thumb/Music113/v4/ac/3c/4c/ac3c4c97-d298-81d1-2520-37794d83ea80/source/30x30bb.jpg', 'artworkUrl60': 'https://is3-ssl.mzstatic.com/image/thumb/Music113/v4/ac/3c/4c/ac3c4c97-d298-81d1-2520-37794d83ea80/source/60x60bb.jpg', 'artworkUrl100': 'https://is3-ssl.mzstatic.com/image/thumb/Music113/v4/ac/3c/4c/ac3c4c97-d298-81d1-2520-37794d83ea80/source/100x100bb.jpg', 'collectionPrice': 9.99, 'trackPrice': 1.29, 'releaseDate': '1993-09-07T07:00:00Z', 'collectionExplicitness': 'notExplicit', 'trackExplicitness': 'notExplicit', 'discCount': 1, 'discNumber': 1, 'trackCount': 12, 'trackNumber': 3, 'trackTimeMillis': 292747, 'country': 'USA', 'currency': 'USD', 'primaryGenreName': 'Pop', 'isStreamable': True}, {'wrapperType': 'track', 'kind': 'song', 'artistId': 487277, 'collectionId': 192700166, 'trackId': 192700488, 'artistName': 'Kate Bush', 'collectionName': 'The Red Shoes', 'trackName': 'Moments of Pleasure', 'collectionCensoredName': 'The Red Shoes', 'trackCensoredName': 'Moments of Pleasure', 'artistViewUrl': 'https://music.apple.com/us/artist/kate-bush/487277?uo=4', 'collectionViewUrl': 'https://music.apple.com/us/album/moments-of-pleasure/192700166?i=192700488&uo=4', 'trackViewUrl': 'https://music.apple.com/us/album/moments-of-pleasure/192700166?i=192700488&uo=4', 'previewUrl': 'https://audio-ssl.itunes.apple.com/itunes-assets/AudioPreview114/v4/9b/03/1b/9b031b54-121c-71b7-be96-4b5a3bb8866e/mzaf_4033030787562841987.plus.aac.p.m4a', 'artworkUrl30': 'https://is3-ssl.mzstatic.com/image/thumb/Music113/v4/ac/3c/4c/ac3c4c97-d298-81d1-2520-37794d83ea80/source/30x30bb.jpg', 'artworkUrl60': 'https://is3-ssl.mzstatic.com/image/thumb/Music113/v4/ac/3c/4c/ac3c4c97-d298-81d1-2520-37794d83ea80/source/60x60bb.jpg', 'artworkUrl100': 'https://is3-ssl.mzstatic.com/image/thumb/Music113/v4/ac/3c/4c/ac3c4c97-d298-81d1-2520-37794d83ea80/source/100x100bb.jpg', 'collectionPrice': 9.99, 'trackPrice': 1.29, 'releaseDate': '1993-11-02T08:00:00Z', 'collectionExplicitness': 'notExplicit', 'trackExplicitness': 'notExplicit', 'discCount': 1, 'discNumber': 1, 'trackCount': 12, 'trackNumber': 4, 'trackTimeMillis': 318600, 'country': 'USA', 'currency': 'USD', 'primaryGenreName': 'Pop', 'isStreamable': True}, {'wrapperType': 'track', 'kind': 'song', 'artistId': 487277, 'collectionId': 726230233, 'trackId': 726230352, 'artistName': 'Kate Bush', 'collectionName': 'The Kick Inside', 'trackName': 'Strange Phenomena', 'collectionCensoredName': 'The Kick Inside', 'trackCensoredName': 'Strange Phenomena', 'artistViewUrl': 'https://music.apple.com/us/artist/kate-bush/487277?uo=4', 'collectionViewUrl': 'https://music.apple.com/us/album/strange-phenomena/726230233?i=726230352&uo=4', 'trackViewUrl': 'https://music.apple.com/us/album/strange-phenomena/726230233?i=726230352&uo=4', 'previewUrl': 'https://audio-ssl.itunes.apple.com/itunes-assets/AudioPreview128/v4/2a/94/12/2a9412ca-725c-265b-f39a-ec379bccaaa7/mzaf_3366790804642201650.plus.aac.p.m4a', 'artworkUrl30': 'https://is5-ssl.mzstatic.com/image/thumb/Music6/v4/b3/c8/9b/b3c89b69-6c85-22a6-5b86-e40d4bf3482d/source/30x30bb.jpg', 'artworkUrl60': 'https://is5-ssl.mzstatic.com/image/thumb/Music6/v4/b3/c8/9b/b3c89b69-6c85-22a6-5b86-e40d4bf3482d/source/60x60bb.jpg', 'artworkUrl100': 'https://is5-ssl.mzstatic.com/image/thumb/Music6/v4/b3/c8/9b/b3c89b69-6c85-22a6-5b86-e40d4bf3482d/source/100x100bb.jpg', 'collectionPrice': 9.99, 'trackPrice': 1.29, 'releaseDate': '1978-02-17T12:00:00Z', 'collectionExplicitness': 'notExplicit', 'trackExplicitness': 'notExplicit', 'discCount': 1, 'discNumber': 1, 'trackCount': 13, 'trackNumber': 3, 'trackTimeMillis': 178693, 'country': 'USA', 'currency': 'USD', 'primaryGenreName': 'Rock', 'isStreamable': True}, {'wrapperType': 'track', 'kind': 'song', 'artistId': 487277, 'collectionId': 696884485, 'trackId': 696885631, 'artistName': 'Kate Bush', 'collectionName': 'Never for Ever', 'trackName': 'Babooshka', 'collectionCensoredName': 'Never for Ever', 'trackCensoredName': 'Babooshka', 'artistViewUrl': 'https://music.apple.com/us/artist/kate-bush/487277?uo=4', 'collectionViewUrl': 'https://music.apple.com/us/album/babooshka/696884485?i=696885631&uo=4', 'trackViewUrl': 'https://music.apple.com/us/album/babooshka/696884485?i=696885631&uo=4', 'previewUrl': 'https://audio-ssl.itunes.apple.com/itunes-assets/Music3/v4/90/fb/38/90fb3805-9782-0821-a171-9d674d62361c/mzaf_6429753526248222891.plus.aac.p.m4a', 'artworkUrl30': 'https://is5-ssl.mzstatic.com/image/thumb/Music1/v4/94/09/c5/9409c5c8-3b80-103c-2902-7b69ab1f0ca5/source/30x30bb.jpg', 'artworkUrl60': 'https://is5-ssl.mzstatic.com/image/thumb/Music1/v4/94/09/c5/9409c5c8-3b80-103c-2902-7b69ab1f0ca5/source/60x60bb.jpg', 'artworkUrl100': 'https://is5-ssl.mzstatic.com/image/thumb/Music1/v4/94/09/c5/9409c5c8-3b80-103c-2902-7b69ab1f0ca5/source/100x100bb.jpg', 'collectionPrice': 9.99, 'trackPrice': 1.29, 'releaseDate': '1980-09-08T12:00:00Z', 'collectionExplicitness': 'notExplicit', 'trackExplicitness': 'notExplicit', 'discCount': 1, 'discNumber': 1, 'trackCount': 11, 'trackNumber': 1, 'trackTimeMillis': 209933, 'country': 'USA', 'currency': 'USD', 'primaryGenreName': 'Pop', 'isStreamable': True}, {'wrapperType': 'track', 'kind': 'song', 'artistId': 487277, 'collectionId': 901279250, 'trackId': 901279258, 'artistName': 'Kate Bush', 'collectionName': 'Hounds of Love', 'trackName': 'Mother Stands For Comfort', 'collectionCensoredName': 'Hounds of Love', 'trackCensoredName': 'Mother Stands For Comfort', 'artistViewUrl': 'https://music.apple.com/us/artist/kate-bush/487277?uo=4', 'collectionViewUrl': 'https://music.apple.com/us/album/mother-stands-for-comfort/901279250?i=901279258&uo=4', 'trackViewUrl': 'https://music.apple.com/us/album/mother-stands-for-comfort/901279250?i=901279258&uo=4', 'previewUrl': 'https://audio-ssl.itunes.apple.com/itunes-assets/Music1/v4/5a/35/85/5a3585d6-4154-c164-2ffc-8eab0bb409c8/mzaf_1142544760502631196.plus.aac.p.m4a', 'artworkUrl30': 'https://is2-ssl.mzstatic.com/image/thumb/Music71/v4/14/43/c8/1443c8a5-4d68-da35-69d8-3aa6af733e57/source/30x30bb.jpg', 'artworkUrl60': 'https://is2-ssl.mzstatic.com/image/thumb/Music71/v4/14/43/c8/1443c8a5-4d68-da35-69d8-3aa6af733e57/source/60x60bb.jpg', 'artworkUrl100': 'https://is2-ssl.mzstatic.com/image/thumb/Music71/v4/14/43/c8/1443c8a5-4d68-da35-69d8-3aa6af733e57/source/100x100bb.jpg', 'collectionPrice': 9.99, 'trackPrice': 1.29, 'releaseDate': '1985-09-16T12:00:00Z', 'collectionExplicitness': 'notExplicit', 'trackExplicitness': 'notExplicit', 'discCount': 1, 'discNumber': 1, 'trackCount': 12, 'trackNumber': 4, 'trackTimeMillis': 188400, 'country': 'USA', 'currency': 'USD', 'primaryGenreName': 'Pop', 'isStreamable': True}, {'wrapperType': 'track', 'kind': 'song', 'artistId': 487277, 'collectionId': 901279250, 'trackId': 901279261, 'artistName': 'Kate Bush', 'collectionName': 'Hounds of Love', 'trackName': 'Under Ice', 'collectionCensoredName': 'Hounds of Love', 'trackCensoredName': 'Under Ice', 'artistViewUrl': 'https://music.apple.com/us/artist/kate-bush/487277?uo=4', 'collectionViewUrl': 'https://music.apple.com/us/album/under-ice/901279250?i=901279261&uo=4', 'trackViewUrl': 'https://music.apple.com/us/album/under-ice/901279250?i=901279261&uo=4', 'previewUrl': 'https://audio-ssl.itunes.apple.com/itunes-assets/Music3/v4/08/ec/c9/08ecc9cb-4b1b-9d54-60fc-1328547ed361/mzaf_6844891469008810023.plus.aac.p.m4a', 'artworkUrl30': 'https://is2-ssl.mzstatic.com/image/thumb/Music71/v4/14/43/c8/1443c8a5-4d68-da35-69d8-3aa6af733e57/source/30x30bb.jpg', 'artworkUrl60': 'https://is2-ssl.mzstatic.com/image/thumb/Music71/v4/14/43/c8/1443c8a5-4d68-da35-69d8-3aa6af733e57/source/60x60bb.jpg', 'artworkUrl100': 'https://is2-ssl.mzstatic.com/image/thumb/Music71/v4/14/43/c8/1443c8a5-4d68-da35-69d8-3aa6af733e57/source/100x100bb.jpg', 'collectionPrice': 9.99, 'trackPrice': 1.29, 'releaseDate': '1985-09-16T12:00:00Z', 'collectionExplicitness': 'notExplicit', 'trackExplicitness': 'notExplicit', 'discCount': 1, 'discNumber': 1, 'trackCount': 12, 'trackNumber': 7, 'trackTimeMillis': 141800, 'country': 'USA', 'currency': 'USD', 'primaryGenreName': 'Pop', 'isStreamable': True}, {'wrapperType': 'track', 'kind': 'song', 'artistId': 487277, 'collectionId': 1443214951, 'trackId': 1443215397, 'artistName': 'Kate Bush', 'collectionName': 'Before the Dawn (Live)', 'trackName': 'Act Three - Aerial', 'collectionCensoredName': 'Before the Dawn (Live)', 'trackCensoredName': 'Act Three - Aerial (Live)', 'artistViewUrl': 'https://music.apple.com/us/artist/kate-bush/487277?uo=4', 'collectionViewUrl': 'https://music.apple.com/us/album/act-three-aerial-live/1443214951?i=1443215397&uo=4', 'trackViewUrl': 'https://music.apple.com/us/album/act-three-aerial-live/1443214951?i=1443215397&uo=4', 'previewUrl': 'https://audio-ssl.itunes.apple.com/itunes-assets/AudioPreview128/v4/44/9f/29/449f292b-2cea-aa6a-af7a-99430741c317/mzaf_5162326936464869451.plus.aac.p.m4a', 'artworkUrl30': 'https://is4-ssl.mzstatic.com/image/thumb/Music118/v4/3b/fd/ab/3bfdabeb-a57f-4560-dfd1-08b7b0fc7897/source/30x30bb.jpg', 'artworkUrl60': 'https://is4-ssl.mzstatic.com/image/thumb/Music118/v4/3b/fd/ab/3bfdabeb-a57f-4560-dfd1-08b7b0fc7897/source/60x60bb.jpg', 'artworkUrl100': 'https://is4-ssl.mzstatic.com/image/thumb/Music118/v4/3b/fd/ab/3bfdabeb-a57f-4560-dfd1-08b7b0fc7897/source/100x100bb.jpg', 'collectionPrice': 19.99, 'trackPrice': 1.29, 'releaseDate': '2016-11-25T12:00:00Z', 'collectionExplicitness': 'notExplicit', 'trackExplicitness': 'notExplicit', 'discCount': 3, 'discNumber': 3, 'trackCount': 12, 'trackNumber': 10, 'trackTimeMillis': 583800, 'country': 'USA', 'currency': 'USD', 'primaryGenreName': 'Alternative', 'isStreamable': True}, {'wrapperType': 'track', 'kind': 'song', 'artistId': 487277, 'collectionId': 1443214951, 'trackId': 1443215223, 'artistName': 'Kate Bush', 'collectionName': 'Before the Dawn (Live)', 'trackName': 'Act Two - Jig of Life (feat. John Carder Bush)', 'collectionCensoredName': 'Before the Dawn (Live)', 'trackCensoredName': 'Act Two - Jig of Life (feat. John Carder Bush) [Live]', 'artistViewUrl': 'https://music.apple.com/us/artist/kate-bush/487277?uo=4', 'collectionViewUrl': 'https://music.apple.com/us/album/act-two-jig-of-life-feat-john-carder-bush-live/1443214951?i=1443215223&uo=4', 'trackViewUrl': 'https://music.apple.com/us/album/act-two-jig-of-life-feat-john-carder-bush-live/1443214951?i=1443215223&uo=4', 'previewUrl': 'https://audio-ssl.itunes.apple.com/itunes-assets/AudioPreview128/v4/50/08/85/50088528-a59e-8f26-c70b-2b316c5f5c19/mzaf_631113641009130257.plus.aac.p.m4a', 'artworkUrl30': 'https://is4-ssl.mzstatic.com/image/thumb/Music118/v4/3b/fd/ab/3bfdabeb-a57f-4560-dfd1-08b7b0fc7897/source/30x30bb.jpg', 'artworkUrl60': 'https://is4-ssl.mzstatic.com/image/thumb/Music118/v4/3b/fd/ab/3bfdabeb-a57f-4560-dfd1-08b7b0fc7897/source/60x60bb.jpg', 'artworkUrl100': 'https://is4-ssl.mzstatic.com/image/thumb/Music118/v4/3b/fd/ab/3bfdabeb-a57f-4560-dfd1-08b7b0fc7897/source/100x100bb.jpg', 'collectionPrice': 19.99, 'trackPrice': 1.29, 'releaseDate': '2016-11-25T12:00:00Z', 'collectionExplicitness': 'notExplicit', 'trackExplicitness': 'notExplicit', 'discCount': 3, 'discNumber': 2, 'trackCount': 10, 'trackNumber': 8, 'trackTimeMillis': 251827, 'country': 'USA', 'currency': 'USD', 'primaryGenreName': 'Alternative', 'isStreamable': True}, {'wrapperType': 'track', 'kind': 'song', 'artistId': 487277, 'collectionId': 1441813799, 'trackId': 1441814296, 'artistName': 'Kate Bush', 'collectionName': 'The Kick Inside (2018 Remaster)', 'trackName': 'Room for the Life (2018 Remaster)', 'collectionCensoredName': 'The Kick Inside (2018 Remaster)', 'trackCensoredName': 'Room for the Life (2018 Remaster)', 'artistViewUrl': 'https://music.apple.com/us/artist/kate-bush/487277?uo=4', 'collectionViewUrl': 'https://music.apple.com/us/album/room-for-the-life-2018-remaster/1441813799?i=1441814296&uo=4', 'trackViewUrl': 'https://music.apple.com/us/album/room-for-the-life-2018-remaster/1441813799?i=1441814296&uo=4', 'previewUrl': 'https://audio-ssl.itunes.apple.com/itunes-assets/AudioPreview118/v4/23/6a/e7/236ae7d3-9085-5f0d-ce80-783c638bddd4/mzaf_4020211125372626436.plus.aac.p.m4a', 'artworkUrl30': 'https://is1-ssl.mzstatic.com/image/thumb/Music128/v4/f3/69/b4/f369b4d8-8b18-7a7e-e917-eeddb0ca9ee7/source/30x30bb.jpg', 'artworkUrl60': 'https://is1-ssl.mzstatic.com/image/thumb/Music128/v4/f3/69/b4/f369b4d8-8b18-7a7e-e917-eeddb0ca9ee7/source/60x60bb.jpg', 'artworkUrl100': 'https://is1-ssl.mzstatic.com/image/thumb/Music128/v4/f3/69/b4/f369b4d8-8b18-7a7e-e917-eeddb0ca9ee7/source/100x100bb.jpg', 'collectionPrice': 9.99, 'trackPrice': 1.29, 'releaseDate': '1978-02-17T12:00:00Z', 'collectionExplicitness': 'notExplicit', 'trackExplicitness': 'notExplicit', 'discCount': 1, 'discNumber': 1, 'trackCount': 13, 'trackNumber': 12, 'trackTimeMillis': 246440, 'country': 'USA', 'currency': 'USD', 'primaryGenreName': 'Pop', 'isStreamable': True}, {'wrapperType': 'track', 'kind': 'song', 'artistId': 487277, 'collectionId': 159547799, 'trackId': 159547888, 'artistName': 'Kate Bush', 'collectionName': 'Aspects of the Sensual World - EP', 'trackName': 'Be Kind to My Mistakes', 'collectionCensoredName': 'Aspects of the Sensual World - EP', 'trackCensoredName': 'Be Kind to My Mistakes (From The Film CASTAWAY-With Thanks To Nicolas Roeg)', 'artistViewUrl': 'https://music.apple.com/us/artist/kate-bush/487277?uo=4', 'collectionViewUrl': 'https://music.apple.com/us/album/be-kind-to-my-mistakes-from-film-castaway-thanks-to/159547799?i=159547888&uo=4', 'trackViewUrl': 'https://music.apple.com/us/album/be-kind-to-my-mistakes-from-film-castaway-thanks-to/159547799?i=159547888&uo=4', 'previewUrl': 'https://audio-ssl.itunes.apple.com/itunes-assets/Music/39/24/08/mzm.rjohpbrv.aac.p.m4a', 'artworkUrl30': 'https://is2-ssl.mzstatic.com/image/thumb/Music/v4/99/b3/51/99b351db-6d6f-57f8-0b03-25707e40173f/source/30x30bb.jpg', 'artworkUrl60': 'https://is2-ssl.mzstatic.com/image/thumb/Music/v4/99/b3/51/99b351db-6d6f-57f8-0b03-25707e40173f/source/60x60bb.jpg', 'artworkUrl100': 'https://is2-ssl.mzstatic.com/image/thumb/Music/v4/99/b3/51/99b351db-6d6f-57f8-0b03-25707e40173f/source/100x100bb.jpg', 'collectionPrice': 4.99, 'trackPrice': -1.0, 'releaseDate': '1989-01-01T12:00:00Z', 'collectionExplicitness': 'notExplicit', 'trackExplicitness': 'notExplicit', 'discCount': 1, 'discNumber': 1, 'trackCount': 5, 'trackNumber': 2, 'trackTimeMillis': 181933, 'country': 'USA', 'currency': 'USD', 'primaryGenreName': 'Easy Listening', 'isStreamable': False}, {'wrapperType': 'track', 'kind': 'song', 'artistId': 487277, 'collectionId': 697237542, 'trackId': 697238230, 'artistName': 'Kate Bush', 'collectionName': 'Lionheart', 'trackName': 'Symphony In Blue', 'collectionCensoredName': 'Lionheart', 'trackCensoredName': 'Symphony In Blue', 'artistViewUrl': 'https://music.apple.com/us/artist/kate-bush/487277?uo=4', 'collectionViewUrl': 'https://music.apple.com/us/album/symphony-in-blue/697237542?i=697238230&uo=4', 'trackViewUrl': 'https://music.apple.com/us/album/symphony-in-blue/697237542?i=697238230&uo=4', 'previewUrl': 'https://audio-ssl.itunes.apple.com/itunes-assets/Music4/v4/62/d1/e9/62d1e929-179d-68f1-7731-603439e7bb9f/mzaf_8798181109891265903.plus.aac.p.m4a', 'artworkUrl30': 'https://is5-ssl.mzstatic.com/image/thumb/Music6/v4/a6/ca/ec/a6caecd3-4707-b89b-c072-c51ad395d992/source/30x30bb.jpg', 'artworkUrl60': 'https://is5-ssl.mzstatic.com/image/thumb/Music6/v4/a6/ca/ec/a6caecd3-4707-b89b-c072-c51ad395d992/source/60x60bb.jpg', 'artworkUrl100': 'https://is5-ssl.mzstatic.com/image/thumb/Music6/v4/a6/ca/ec/a6caecd3-4707-b89b-c072-c51ad395d992/source/100x100bb.jpg', 'collectionPrice': 9.99, 'trackPrice': 1.29, 'releaseDate': '1978-11-10T12:00:00Z', 'collectionExplicitness': 'notExplicit', 'trackExplicitness': 'notExplicit', 'discCount': 1, 'discNumber': 1, 'trackCount': 10, 'trackNumber': 1, 'trackTimeMillis': 216800, 'country': 'USA', 'currency': 'USD', 'primaryGenreName': 'Pop', 'isStreamable': True}, {'wrapperType': 'track', 'kind': 'song', 'artistId': 487277, 'collectionId': 1444646609, 'trackId': 1444646871, 'artistName': 'Kate Bush', 'collectionName': \"Director's Cut (2018 Remaster)\", 'trackName': \"This Woman's Work (2018 Remaster)\", 'collectionCensoredName': \"Director's Cut (2018 Remaster)\", 'trackCensoredName': \"This Woman's Work (2018 Remaster)\", 'artistViewUrl': 'https://music.apple.com/us/artist/kate-bush/487277?uo=4', 'collectionViewUrl': 'https://music.apple.com/us/album/this-womans-work-2018-remaster/1444646609?i=1444646871&uo=4', 'trackViewUrl': 'https://music.apple.com/us/album/this-womans-work-2018-remaster/1444646609?i=1444646871&uo=4', 'previewUrl': 'https://audio-ssl.itunes.apple.com/itunes-assets/AudioPreview118/v4/61/39/34/61393430-64bd-1d8f-29ab-200831718a58/mzaf_1830271139696346170.plus.aac.p.m4a', 'artworkUrl30': 'https://is4-ssl.mzstatic.com/image/thumb/Music118/v4/b3/72/c7/b372c762-dcb3-31aa-6f47-500606b6698b/source/30x30bb.jpg', 'artworkUrl60': 'https://is4-ssl.mzstatic.com/image/thumb/Music118/v4/b3/72/c7/b372c762-dcb3-31aa-6f47-500606b6698b/source/60x60bb.jpg', 'artworkUrl100': 'https://is4-ssl.mzstatic.com/image/thumb/Music118/v4/b3/72/c7/b372c762-dcb3-31aa-6f47-500606b6698b/source/100x100bb.jpg', 'collectionPrice': 9.99, 'trackPrice': 1.29, 'releaseDate': '2011-05-16T12:00:00Z', 'collectionExplicitness': 'notExplicit', 'trackExplicitness': 'notExplicit', 'discCount': 1, 'discNumber': 1, 'trackCount': 11, 'trackNumber': 6, 'trackTimeMillis': 388440, 'country': 'USA', 'currency': 'USD', 'primaryGenreName': 'Pop', 'isStreamable': True}, {'wrapperType': 'track', 'kind': 'song', 'artistId': 487277, 'collectionId': 192700166, 'trackId': 192701681, 'artistName': 'Kate Bush', 'collectionName': 'The Red Shoes', 'trackName': 'Why Should I Love You?', 'collectionCensoredName': 'The Red Shoes', 'trackCensoredName': 'Why Should I Love You?', 'artistViewUrl': 'https://music.apple.com/us/artist/kate-bush/487277?uo=4', 'collectionViewUrl': 'https://music.apple.com/us/album/why-should-i-love-you/192700166?i=192701681&uo=4', 'trackViewUrl': 'https://music.apple.com/us/album/why-should-i-love-you/192700166?i=192701681&uo=4', 'previewUrl': 'https://audio-ssl.itunes.apple.com/itunes-assets/AudioPreview113/v4/01/16/72/01167221-a7c3-c6d9-8029-d45550fd360e/mzaf_6573005612944862977.plus.aac.p.m4a', 'artworkUrl30': 'https://is3-ssl.mzstatic.com/image/thumb/Music113/v4/ac/3c/4c/ac3c4c97-d298-81d1-2520-37794d83ea80/source/30x30bb.jpg', 'artworkUrl60': 'https://is3-ssl.mzstatic.com/image/thumb/Music113/v4/ac/3c/4c/ac3c4c97-d298-81d1-2520-37794d83ea80/source/60x60bb.jpg', 'artworkUrl100': 'https://is3-ssl.mzstatic.com/image/thumb/Music113/v4/ac/3c/4c/ac3c4c97-d298-81d1-2520-37794d83ea80/source/100x100bb.jpg', 'collectionPrice': 9.99, 'trackPrice': 1.29, 'releaseDate': '1993-11-02T08:00:00Z', 'collectionExplicitness': 'notExplicit', 'trackExplicitness': 'notExplicit', 'discCount': 1, 'discNumber': 1, 'trackCount': 12, 'trackNumber': 11, 'trackTimeMillis': 302627, 'country': 'USA', 'currency': 'USD', 'primaryGenreName': 'Pop', 'isStreamable': True}]}\n"
     ]
    }
   ],
   "source": [
    "# https://itunes.apple.com/search?term=kate+bush\n",
    "\n",
    "import requests\n",
    "import json\n",
    "\n",
    "response = requests.get('https://itunes.apple.com/search?term=kate+bush')\n",
    "print(response.status_code)\n",
    "data = json.loads(response.content)\n",
    "print(data)"
   ]
  },
  {
   "cell_type": "markdown",
   "metadata": {
    "slideshow": {
     "slide_type": "slide"
    }
   },
   "source": [
    "<a id='ex1-star-wars'></a>\n",
    "### Example 1: Star Wars\n",
    "\n",
    "The Star Wars API (SWAPI) is a large collection of data about Star Wars. It can be browsed at the address: http://swapi.co/.\n",
    "\n",
    "What if we wanted to programatically access the data in SWAPI? Unless we are employees of the site, we probably don't have direct access to their internal database. So, we cannot perform SQL queries on their data.\n",
    "\n",
    "We could use scraping to retrieve data from the web page. In some cases (particularly if they do not have a public API), we will have to do exactly that.\n",
    "\n",
    "> *Note: check the \"Terms of Service\" before you scrape a website. Scraping could infringe their terms of service.*\n",
    "\n",
    "In other cases, the website offers a way to programatically access data from their database -- often, as an API.\n",
    "\n",
    "**Let's try for example to retrieve the data about the \"Obi-Wan Kenobi\".**\n",
    "\n",
    "Referencing the [SWAPI Documentation](http://swapi.co/documentation), lets create a query to search for characters with \"obi\" in their name.\n",
    "\n",
    "**In a browser, paste:**\n",
    "\n",
    "    https://swapi.co/api/people/?format=json&search=obi\n"
   ]
  },
  {
   "cell_type": "markdown",
   "metadata": {
    "slideshow": {
     "slide_type": "slide"
    }
   },
   "source": [
    "{\n",
    "    \"count\": 1,   \n",
    "    \"next\": null,   \n",
    "    \"previous\": null,   \n",
    "    \"results\": [  \n",
    "        {  \n",
    "            \"name\": \"Obi-Wan Kenobi\",   \n",
    "            \"height\": \"182\",   \n",
    "            \"mass\": \"77\",   \n",
    "            \"hair_color\": \"auburn, white\",   \n",
    "            \"skin_color\": \"fair\",   \n",
    "            \"eye_color\": \"blue-gray\",   \n",
    "            \"birth_year\": \"57BBY\",   \n",
    "            \"gender\": \"male\",   \n",
    "            \"homeworld\": \"http://swapi.co/api/planets/20/\",   \n",
    "            \"films\": [    \n",
    "                \"http://swapi.co/api/films/2/\",   \n",
    "                \"http://swapi.co/api/films/5/\",   \n",
    "                \"http://swapi.co/api/films/4/\",   \n",
    "                \"http://swapi.co/api/films/6/\",   \n",
    "                \"http://swapi.co/api/films/3/\",   \n",
    "                \"http://swapi.co/api/films/1/\"  \n",
    "            ],   \n",
    "            \"species\": [\"http://swapi.co/api/species/1/\"],     \n",
    "            \"vehicles\": [\"http://swapi.co/api/vehicles/38/\"],   \n",
    "            \"starships\": [  \n",
    "                \"http://swapi.co/api/starships/48/\",     \n",
    "                \"http://swapi.co/api/starships/59/\",   \n",
    "                \"http://swapi.co/api/starships/64/\",   \n",
    "                \"http://swapi.co/api/starships/65/\",   \n",
    "                \"http://swapi.co/api/starships/74/\"  \n",
    "            ],   \n",
    "            \"created\": \"2014-12-10T16:16:29.192000Z\",     \n",
    "            \"edited\": \"2014-12-20T21:17:50.325000Z\",     \n",
    "            \"url\": \"http://swapi.co/api/people/10/\"    \n",
    "        }  \n",
    "    ]  \n",
    "}  "
   ]
  },
  {
   "cell_type": "markdown",
   "metadata": {
    "slideshow": {
     "slide_type": "slide"
    }
   },
   "source": [
    "###  What Just Happened?"
   ]
  },
  {
   "cell_type": "markdown",
   "metadata": {
    "slideshow": {
     "slide_type": "fragment"
    }
   },
   "source": [
    "We requested a url, which responded with JSON.\n",
    "\n",
    "SWAPI has a GUI-based response as well which is the default.\n",
    "\n",
    "https://swapi.co/api/people/?search=obi\n",
    "\n",
    "Also a Wookie-flavored one:\n",
    "\n",
    "https://swapi.co/api/people/?format=wookiee&search=obi"
   ]
  },
  {
   "cell_type": "markdown",
   "metadata": {
    "slideshow": {
     "slide_type": "slide"
    }
   },
   "source": [
    "<a id='submit'></a>\n",
    "### Try submitting a couple more queries to familiarize with the API.\n",
    "\n",
    "- You can also query an API from the command line using the app `curl`. Try typing:\n",
    "\n",
    "    `curl http://swapi.co/api/people/13/?format=json`\n"
   ]
  },
  {
   "cell_type": "markdown",
   "metadata": {
    "slideshow": {
     "slide_type": "fragment"
    }
   },
   "source": [
    "```javascript   \n",
    "{\"name\":\"Chewbacca\",\n",
    " \"height\":\"228\",\n",
    " \"mass\":\"112\",\n",
    " \"hair_color\":\"brown\",\n",
    " \"skin_color\":\"unknown\",\n",
    " \"eye_color\":\"blue\",\n",
    " \"birth_year\":\"200BBY\",\n",
    " \"gender\":\"male\",\n",
    " \"homeworld\":\"http://swapi.co/api/planets/14/\",\n",
    " \"films\": [\"http://swapi.co/api/films/2/\",\"http://swapi.co/api/films/6/\",\"http://swapi.co/api/films/3/\",\"http://swapi.co/api/films/1/\",\"http://swapi.co/api/films/7/\"],\n",
    " \"species\":[\"http://swapi.co/api/species/3/\"],\n",
    " \"vehicles\":[\"http://swapi.co/api/vehicles/19/\"],\n",
    " \"starships\":[\"http://swapi.co/api/starships/10/\",\"http://swapi.co/api/starships/22/\"],\n",
    " \"created\":\"2014-12-10T16:42:45.066000Z\",\n",
    " \"edited\":\"2014-12-20T21:17:50.332000Z\",\n",
    " \"url\":\"http://swapi.co/api/people/13/\"}\n",
    "```"
   ]
  },
  {
   "cell_type": "code",
   "execution_count": 1,
   "metadata": {
    "slideshow": {
     "slide_type": "slide"
    }
   },
   "outputs": [
    {
     "data": {
      "text/html": [
       "<div>\n",
       "<style>\n",
       "    .dataframe thead tr:only-child th {\n",
       "        text-align: right;\n",
       "    }\n",
       "\n",
       "    .dataframe thead th {\n",
       "        text-align: left;\n",
       "    }\n",
       "\n",
       "    .dataframe tbody tr th {\n",
       "        vertical-align: top;\n",
       "    }\n",
       "</style>\n",
       "<table border=\"1\" class=\"dataframe\">\n",
       "  <thead>\n",
       "    <tr style=\"text-align: right;\">\n",
       "      <th></th>\n",
       "      <th>birth_year</th>\n",
       "      <th>created</th>\n",
       "      <th>edited</th>\n",
       "      <th>eye_color</th>\n",
       "      <th>films</th>\n",
       "      <th>gender</th>\n",
       "      <th>hair_color</th>\n",
       "      <th>height</th>\n",
       "      <th>homeworld</th>\n",
       "      <th>mass</th>\n",
       "      <th>name</th>\n",
       "      <th>skin_color</th>\n",
       "      <th>species</th>\n",
       "      <th>starships</th>\n",
       "      <th>url</th>\n",
       "      <th>vehicles</th>\n",
       "    </tr>\n",
       "  </thead>\n",
       "  <tbody>\n",
       "    <tr>\n",
       "      <th>0</th>\n",
       "      <td>57BBY</td>\n",
       "      <td>2014-12-10T16:16:29.192000Z</td>\n",
       "      <td>2014-12-20T21:17:50.325000Z</td>\n",
       "      <td>blue-gray</td>\n",
       "      <td>[https://swapi.co/api/films/2/, https://swapi....</td>\n",
       "      <td>male</td>\n",
       "      <td>auburn, white</td>\n",
       "      <td>182</td>\n",
       "      <td>https://swapi.co/api/planets/20/</td>\n",
       "      <td>77</td>\n",
       "      <td>Obi-Wan Kenobi</td>\n",
       "      <td>fair</td>\n",
       "      <td>[https://swapi.co/api/species/1/]</td>\n",
       "      <td>[https://swapi.co/api/starships/48/, https://s...</td>\n",
       "      <td>https://swapi.co/api/people/10/</td>\n",
       "      <td>[https://swapi.co/api/vehicles/38/]</td>\n",
       "    </tr>\n",
       "  </tbody>\n",
       "</table>\n",
       "</div>"
      ],
      "text/plain": [
       "  birth_year                      created                       edited  \\\n",
       "0      57BBY  2014-12-10T16:16:29.192000Z  2014-12-20T21:17:50.325000Z   \n",
       "\n",
       "   eye_color                                              films gender  \\\n",
       "0  blue-gray  [https://swapi.co/api/films/2/, https://swapi....   male   \n",
       "\n",
       "      hair_color height                         homeworld mass  \\\n",
       "0  auburn, white    182  https://swapi.co/api/planets/20/   77   \n",
       "\n",
       "             name skin_color                            species  \\\n",
       "0  Obi-Wan Kenobi       fair  [https://swapi.co/api/species/1/]   \n",
       "\n",
       "                                           starships  \\\n",
       "0  [https://swapi.co/api/starships/48/, https://s...   \n",
       "\n",
       "                               url                             vehicles  \n",
       "0  https://swapi.co/api/people/10/  [https://swapi.co/api/vehicles/38/]  "
      ]
     },
     "execution_count": 1,
     "metadata": {},
     "output_type": "execute_result"
    }
   ],
   "source": [
    "# Request example for the SWAPI example\n",
    "import pandas as pd\n",
    "import requests\n",
    "\n",
    "result = requests.get(\"http://swapi.co/api/people/10/\")\n",
    "df = pd.DataFrame([result.json()])\n",
    "df"
   ]
  },
  {
   "cell_type": "markdown",
   "metadata": {
    "slideshow": {
     "slide_type": "slide"
    }
   },
   "source": [
    "<a id='ex2-geocode'></a>\n",
    "### Example 2: Google Geocode API\n",
    "\n",
    "Google offers a freely accessible API to query their GEO databases.  One of the many features Google Maps API provides is a way to get longitude and latitude coordinates from addresses.\n",
    "\n",
    "**Try pasting the following line in your browser:**\n",
    "\n",
    "    https://maps.googleapis.com/maps/api/geocode/json?address=225+Bush+St+San+Francisco+CA"
   ]
  },
  {
   "cell_type": "code",
   "execution_count": 2,
   "metadata": {},
   "outputs": [
    {
     "name": "stdout",
     "output_type": "stream",
     "text": [
      "{'lat': 37.790841, 'lng': -122.4012802}\n"
     ]
    }
   ],
   "source": [
    "# Request the resource from google maps\n",
    "result = requests.get(\"https://maps.googleapis.com/maps/api/geocode/json?address=225+Bush+St+San+Francisco+CA\")\n",
    "google_result = result.json()\n",
    "\n",
    "# Loop through results and display lat, lon values for reverse geocode\n",
    "for item in google_result['results']:\n",
    "    print(item['geometry']['location'])"
   ]
  },
  {
   "cell_type": "markdown",
   "metadata": {
    "slideshow": {
     "slide_type": "slide"
    }
   },
   "source": [
    "<a id='oauth'></a>\n",
    "## OAuth\n",
    "\n",
    "---\n",
    "\n",
    "**OAuth (Open Authorization)** is simply a secure authorization protocol that often deals with the authorization of a third-party application to access a user's data without exposing their password (e.g., Login with Facebook, gPlus, Twitter in many websites). \n",
    "\n",
    "For example, before your application can access a user's Facebook data, the user must give your application consent first. As you can imagine, this is a more complex process than before since it involves the user.\n",
    "\n",
    "There are three parties involved: **OAuth Provider**, **OAuth Client**, and the **Owner**.\n",
    "\n",
    "- OAuth Client (Application Which wants to access your credential)\n",
    "- OAuth Provider (eg. facebook, twitter...)\n",
    "- Owner (the one with facebook,twitter.. account )\n",
    "\n",
    "There are various levels of OAuth access. For security, some APIs (such as the Yelp API) require OAuth access despite there not being any conventional users. These sites require a less complicated OAuth procedure.\n",
    "\n",
    "### Implementing OAuth in Python\n",
    "\n",
    "There are a number of OAuth libraries available in Python. If you are using a popular website such as Facebook, it is recommended to use their official Python library to handle the OAuth. If not, it is possible to code your own OAuth procedure. Because OAuth requires back-and-forth with your web application, discussing implementation details is outside of the scope of this lesson.\n",
    "\n",
    "You can read more about OAuth here: http://oauth.net/2/"
   ]
  },
  {
   "cell_type": "markdown",
   "metadata": {
    "slideshow": {
     "slide_type": "slide"
    }
   },
   "source": [
    "### OAuth Example:  client work with instagram\n",
    "\n",
    "![](assets/oAuth1.png)"
   ]
  },
  {
   "cell_type": "markdown",
   "metadata": {
    "slideshow": {
     "slide_type": "slide"
    }
   },
   "source": [
    "![](assets/oAuth2.png)"
   ]
  },
  {
   "cell_type": "markdown",
   "metadata": {
    "slideshow": {
     "slide_type": "slide"
    }
   },
   "source": [
    "![](assets/oAuth3.png)"
   ]
  },
  {
   "cell_type": "markdown",
   "metadata": {
    "slideshow": {
     "slide_type": "slide"
    }
   },
   "source": [
    "<a name=\"ind-practice2\"></a>\n",
    "## Independent Practice: Python APIs\n",
    "\n",
    "---\n",
    "\n",
    "**Form pairs and do the following:** \n",
    "\n",
    "Go to http://www.pythonforbeginners.com/api/list-of-python-apis  \n",
    "or   \n",
    "https://github.com/realpython/list-of-python-api-wrappers\n",
    "  \n",
    "  \n",
    "- Choose an API: what data is available with your choosen API?\n",
    "- Install Python module (if available for API), try to extract data.\n",
    "- Discuss: How could you leverage that api? How could you use the data?"
   ]
  },
  {
   "cell_type": "markdown",
   "metadata": {
    "slideshow": {
     "slide_type": "slide"
    }
   },
   "source": [
    "<a id='closing-questions'></a>\n",
    "## Closing questions\n",
    "\n",
    "---"
   ]
  },
  {
   "cell_type": "markdown",
   "metadata": {
    "slideshow": {
     "slide_type": "fragment"
    }
   },
   "source": [
    "### - What is the easiest aspect of all this to understand?"
   ]
  },
  {
   "cell_type": "markdown",
   "metadata": {
    "slideshow": {
     "slide_type": "fragment"
    }
   },
   "source": [
    "### - What is the most challenging aspect to understand?"
   ]
  },
  {
   "cell_type": "markdown",
   "metadata": {
    "slideshow": {
     "slide_type": "fragment"
    }
   },
   "source": [
    "### - How does this contrast to scraping?"
   ]
  },
  {
   "cell_type": "markdown",
   "metadata": {
    "slideshow": {
     "slide_type": "fragment"
    }
   },
   "source": [
    "### - How would you explain APIs to someone who didn't know anything about them?"
   ]
  },
  {
   "cell_type": "markdown",
   "metadata": {
    "slideshow": {
     "slide_type": "fragment"
    }
   },
   "source": [
    "### - Any new ideas for capstone data?"
   ]
  }
 ],
 "metadata": {
  "anaconda-cloud": {},
  "celltoolbar": "Slideshow",
  "kernelspec": {
   "display_name": "Python 3",
   "language": "python",
   "name": "python3"
  },
  "language_info": {
   "codemirror_mode": {
    "name": "ipython",
    "version": 3
   },
   "file_extension": ".py",
   "mimetype": "text/x-python",
   "name": "python",
   "nbconvert_exporter": "python",
   "pygments_lexer": "ipython3",
   "version": "3.7.4"
  }
 },
 "nbformat": 4,
 "nbformat_minor": 1
}
