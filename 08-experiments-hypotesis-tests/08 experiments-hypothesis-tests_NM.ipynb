{
 "cells": [
  {
   "cell_type": "markdown",
   "metadata": {},
   "source": [
    "<img src=\"http://imgur.com/1ZcRyrc.png\" style=\"float: left; margin: 20px; height: 55px\">\n",
    "\n",
    "# Experiments and Hypothesis Testing\n"
   ]
  },
  {
   "cell_type": "markdown",
   "metadata": {},
   "source": [
    "<a id=\"learning-objectives\"></a>\n",
    "### Learning Objectives\n",
    "- Explain the difference between causation and correlation.\n",
    "- Determine causality and sampling bias using directed acyclic graphs.\n",
    "- Identify what missing data is and how to handle it.\n",
    "- Test a hypothesis using a sample case study."
   ]
  },
  {
   "cell_type": "markdown",
   "metadata": {},
   "source": [
    "Today, we’ll use advertising data from an example in the book [An Introduction to Statistical Learning](http://www-bcf.usc.edu/~gareth/ISL/).\n",
    "- This is a well-known, standard introduction to machine learning.\n",
    "- The book has a more advanced version — [Elements of Statistical Learning](http://web.stanford.edu/~hastie/ElemStatLearn/) — if you are comfortable with linear algebra and statistics at the graduate level."
   ]
  },
  {
   "cell_type": "markdown",
   "metadata": {},
   "source": [
    "## 1. Thinking about data in terms of independent and dependent variables"
   ]
  },
  {
   "cell_type": "code",
   "execution_count": 56,
   "metadata": {},
   "outputs": [],
   "source": [
    "import pandas as pd\n",
    "import numpy as np\n",
    "import seaborn as sns\n",
    "import matplotlib.pyplot as plt\n",
    "\n",
    "# This allows plots to appear directly in the notebook.\n",
    "%matplotlib inline\n",
    "plt.style.use('fivethirtyeight')"
   ]
  },
  {
   "cell_type": "code",
   "execution_count": 2,
   "metadata": {},
   "outputs": [
    {
     "data": {
      "text/html": [
       "<div>\n",
       "<style scoped>\n",
       "    .dataframe tbody tr th:only-of-type {\n",
       "        vertical-align: middle;\n",
       "    }\n",
       "\n",
       "    .dataframe tbody tr th {\n",
       "        vertical-align: top;\n",
       "    }\n",
       "\n",
       "    .dataframe thead th {\n",
       "        text-align: right;\n",
       "    }\n",
       "</style>\n",
       "<table border=\"1\" class=\"dataframe\">\n",
       "  <thead>\n",
       "    <tr style=\"text-align: right;\">\n",
       "      <th></th>\n",
       "      <th>tv_spend</th>\n",
       "      <th>radio_spend</th>\n",
       "      <th>newspaper_spend</th>\n",
       "      <th>sales</th>\n",
       "    </tr>\n",
       "  </thead>\n",
       "  <tbody>\n",
       "    <tr>\n",
       "      <td>1</td>\n",
       "      <td>230.1</td>\n",
       "      <td>37.8</td>\n",
       "      <td>69.2</td>\n",
       "      <td>22.1</td>\n",
       "    </tr>\n",
       "    <tr>\n",
       "      <td>2</td>\n",
       "      <td>44.5</td>\n",
       "      <td>39.3</td>\n",
       "      <td>45.1</td>\n",
       "      <td>10.4</td>\n",
       "    </tr>\n",
       "    <tr>\n",
       "      <td>3</td>\n",
       "      <td>17.2</td>\n",
       "      <td>45.9</td>\n",
       "      <td>69.3</td>\n",
       "      <td>9.3</td>\n",
       "    </tr>\n",
       "    <tr>\n",
       "      <td>4</td>\n",
       "      <td>151.5</td>\n",
       "      <td>41.3</td>\n",
       "      <td>58.5</td>\n",
       "      <td>18.5</td>\n",
       "    </tr>\n",
       "    <tr>\n",
       "      <td>5</td>\n",
       "      <td>180.8</td>\n",
       "      <td>10.8</td>\n",
       "      <td>58.4</td>\n",
       "      <td>12.9</td>\n",
       "    </tr>\n",
       "  </tbody>\n",
       "</table>\n",
       "</div>"
      ],
      "text/plain": [
       "   tv_spend  radio_spend  newspaper_spend  sales\n",
       "1     230.1         37.8             69.2   22.1\n",
       "2      44.5         39.3             45.1   10.4\n",
       "3      17.2         45.9             69.3    9.3\n",
       "4     151.5         41.3             58.5   18.5\n",
       "5     180.8         10.8             58.4   12.9"
      ]
     },
     "execution_count": 2,
     "metadata": {},
     "output_type": "execute_result"
    }
   ],
   "source": [
    "# Read data into a DataFrame.\n",
    "# We use index_col to tell Pandas that the first column in the data has row labels.\n",
    "advertising_data = pd.read_csv('http://faculty.marshall.usc.edu/gareth-james/ISL/Advertising.csv', index_col=0)\n",
    "advertising_data.columns = ['tv_spend','radio_spend','newspaper_spend','sales']\n",
    "advertising_data.head()"
   ]
  },
  {
   "cell_type": "markdown",
   "metadata": {
    "collapsed": true
   },
   "source": [
    "This data shows advertising spend (in dollars) spent on TV, radio and newspaper advertising for a single product and corresponding sales of that product in thousands of dollars.\n",
    "\n",
    "Each row corresponds to a single market (or geography) in which the product was advertised. \n",
    "\n",
    "Let's consider the question **on the basis of this data, how should the manufacturer spend its advertising money in future?**\n",
    "\n",
    "Let's start by identifying the dependent and independent variables.\n",
    "\n",
    "The **independent** variable is the outcome, or response, or target of our model.\n",
    "\n",
    "The **dependent** variables, sometimes known as features, covariates, or predictors, are the inputs to our model.\n",
    "\n",
    "In predictive modelling tasks, the dependent variables are used to predict the independent variables.\n",
    "\n",
    "## Exercise\n",
    "\n",
    "What are the features/covariates/independent variables/predictors in this case?\n",
    "\n",
    "What's the dependent variable/outcome/response?\n",
    "\n",
    "What are the possible values the covariance could have?\n"
   ]
  },
  {
   "cell_type": "code",
   "execution_count": 3,
   "metadata": {},
   "outputs": [],
   "source": [
    "# Independent variable/Target: sales\n",
    "# Dependent variables/Features: tv_spend, radio_spend, newspaper_spend\n",
    "# Covariance could be positive, i.e. when expenditure increases, sales increases or negative, i.e. when expenditure increases, sales decreases\n"
   ]
  },
  {
   "cell_type": "markdown",
   "metadata": {},
   "source": [
    "## 2. Covariance and correlation \n"
   ]
  },
  {
   "cell_type": "markdown",
   "metadata": {},
   "source": [
    "<a id=\"covariance\"></a>\n",
    "### Covariance"
   ]
  },
  {
   "cell_type": "markdown",
   "metadata": {},
   "source": [
    "Covariance is a measure of the joint variability between two random variables.\n",
    "\n",
    "You can think of this as a measure of linear association. If you have a variance of Y and a variance of X, the covariance is the amount of variance they share.\n",
    "\n",
    "$$cov(X, Y) = \\frac {\\sum{(x_i - \\bar{X})(y_i - \\bar{Y})}} {n}$$\n",
    "\n",
    "We can gain insight into covariance by looking closely at the formula above. First, observe that the formula effectively pairs the first $x$ data point with the first $y$ data point: $(x_1, y_1)$. All computations are done solely on these pairs of points.\n",
    "\n",
    "Second, let's ask ourselves, **when would covariance be positive**? \n",
    "\n",
    "From the numerator, covariance would be positive if, for all pairs of data points, $(x_i - \\bar{X})$ and $(y_i - \\bar{Y})$ are 1) both positive or 2) both negative. \n",
    "\n",
    "This occurs when: 1) Both data points are greather than their respective means. \n",
    "\n",
    "Or when: 2) Both data points are less than their respective means! \n",
    "\n",
    "So, if the $x$ data points vary from their mean in the same way the $y$ data points vary from their mean, covariance will be positive.\n",
    "\n",
    "Third, let's consider: **Might outliers affect covariance?** \n",
    "\n",
    "Yes! Given the structure of the formula (a sum of terms), a large outlier pair far from the means could strongly pull the covariance in one direction.\n",
    "\n",
    "**A Useful Special Case**\n",
    "\n",
    "The covariance between one variable and itself is just its variance \n",
    "\n",
    "$$cov(X, X) = \\frac {\\sum{(x_i - \\bar{X})^2}} {n} = var(X) = \\sigma_X^2$$"
   ]
  },
  {
   "cell_type": "code",
   "execution_count": 4,
   "metadata": {},
   "outputs": [
    {
     "data": {
      "text/html": [
       "<div>\n",
       "<style scoped>\n",
       "    .dataframe tbody tr th:only-of-type {\n",
       "        vertical-align: middle;\n",
       "    }\n",
       "\n",
       "    .dataframe tbody tr th {\n",
       "        vertical-align: top;\n",
       "    }\n",
       "\n",
       "    .dataframe thead th {\n",
       "        text-align: right;\n",
       "    }\n",
       "</style>\n",
       "<table border=\"1\" class=\"dataframe\">\n",
       "  <thead>\n",
       "    <tr style=\"text-align: right;\">\n",
       "      <th></th>\n",
       "      <th>tv_spend</th>\n",
       "      <th>radio_spend</th>\n",
       "      <th>newspaper_spend</th>\n",
       "      <th>sales</th>\n",
       "    </tr>\n",
       "  </thead>\n",
       "  <tbody>\n",
       "    <tr>\n",
       "      <td>1</td>\n",
       "      <td>230.1</td>\n",
       "      <td>37.8</td>\n",
       "      <td>69.2</td>\n",
       "      <td>22.1</td>\n",
       "    </tr>\n",
       "    <tr>\n",
       "      <td>2</td>\n",
       "      <td>44.5</td>\n",
       "      <td>39.3</td>\n",
       "      <td>45.1</td>\n",
       "      <td>10.4</td>\n",
       "    </tr>\n",
       "    <tr>\n",
       "      <td>3</td>\n",
       "      <td>17.2</td>\n",
       "      <td>45.9</td>\n",
       "      <td>69.3</td>\n",
       "      <td>9.3</td>\n",
       "    </tr>\n",
       "    <tr>\n",
       "      <td>4</td>\n",
       "      <td>151.5</td>\n",
       "      <td>41.3</td>\n",
       "      <td>58.5</td>\n",
       "      <td>18.5</td>\n",
       "    </tr>\n",
       "    <tr>\n",
       "      <td>5</td>\n",
       "      <td>180.8</td>\n",
       "      <td>10.8</td>\n",
       "      <td>58.4</td>\n",
       "      <td>12.9</td>\n",
       "    </tr>\n",
       "  </tbody>\n",
       "</table>\n",
       "</div>"
      ],
      "text/plain": [
       "   tv_spend  radio_spend  newspaper_spend  sales\n",
       "1     230.1         37.8             69.2   22.1\n",
       "2      44.5         39.3             45.1   10.4\n",
       "3      17.2         45.9             69.3    9.3\n",
       "4     151.5         41.3             58.5   18.5\n",
       "5     180.8         10.8             58.4   12.9"
      ]
     },
     "execution_count": 4,
     "metadata": {},
     "output_type": "execute_result"
    }
   ],
   "source": [
    "first_five = advertising_data.loc[0:5,:]\n",
    "first_five"
   ]
  },
  {
   "cell_type": "markdown",
   "metadata": {},
   "source": [
    "(a) Compute the mean sales, $\\bar{Y}$, across the first five rows"
   ]
  },
  {
   "cell_type": "code",
   "execution_count": 5,
   "metadata": {},
   "outputs": [
    {
     "data": {
      "text/plain": [
       "14.64"
      ]
     },
     "execution_count": 5,
     "metadata": {},
     "output_type": "execute_result"
    }
   ],
   "source": [
    "y_mean = first_five['sales'].mean()\n",
    "y_mean"
   ]
  },
  {
   "cell_type": "markdown",
   "metadata": {},
   "source": [
    "(c) Compute the mean TV spend, $\\bar{X}$, across the first five rows"
   ]
  },
  {
   "cell_type": "code",
   "execution_count": 6,
   "metadata": {},
   "outputs": [
    {
     "data": {
      "text/plain": [
       "124.82000000000001"
      ]
     },
     "execution_count": 6,
     "metadata": {},
     "output_type": "execute_result"
    }
   ],
   "source": [
    "x_mean = first_five['tv_spend'].mean()\n",
    "x_mean"
   ]
  },
  {
   "cell_type": "markdown",
   "metadata": {},
   "source": [
    "(d) Compute $\\sum{(x_i - \\bar{X})(y_i - \\bar{Y})}$"
   ]
  },
  {
   "cell_type": "code",
   "execution_count": 7,
   "metadata": {},
   "outputs": [],
   "source": [
    "#Each row of x column minus the mean\n",
    "x_x_mean = first_five['tv_spend']-x_mean\n",
    "#Each row of y column minus the mean\n",
    "y_y_mean = first_five['sales']-y_mean"
   ]
  },
  {
   "cell_type": "code",
   "execution_count": 24,
   "metadata": {},
   "outputs": [
    {
     "data": {
      "text/plain": [
       "1    105.28\n",
       "2    -80.32\n",
       "3   -107.62\n",
       "4     26.68\n",
       "5     55.98\n",
       "Name: tv_spend, dtype: float64"
      ]
     },
     "execution_count": 24,
     "metadata": {},
     "output_type": "execute_result"
    }
   ],
   "source": [
    "first_five['tv_spend']-x_mean\n",
    "#type(x_x_mean)"
   ]
  },
  {
   "cell_type": "code",
   "execution_count": 9,
   "metadata": {},
   "outputs": [
    {
     "data": {
      "text/plain": [
       "1706.216"
      ]
     },
     "execution_count": 9,
     "metadata": {},
     "output_type": "execute_result"
    }
   ],
   "source": [
    "# Dot product of two arrays\n",
    "y_y_mean.dot(x_x_mean)"
   ]
  },
  {
   "cell_type": "markdown",
   "metadata": {},
   "source": [
    "(e) What's $n$ for this dataset?"
   ]
  },
  {
   "cell_type": "code",
   "execution_count": 10,
   "metadata": {},
   "outputs": [],
   "source": [
    "#Number of values in the column (must be same for both x and y!)\n",
    "n=5"
   ]
  },
  {
   "cell_type": "markdown",
   "metadata": {},
   "source": [
    "(f) Use the calculations above to get the covariance between TV advertising spend, and sales. "
   ]
  },
  {
   "cell_type": "code",
   "execution_count": 12,
   "metadata": {},
   "outputs": [
    {
     "data": {
      "text/plain": [
       "341.2432"
      ]
     },
     "execution_count": 12,
     "metadata": {},
     "output_type": "execute_result"
    }
   ],
   "source": [
    "cov_x_y = y_y_mean.dot(x_x_mean)/n\n",
    "cov_x_y"
   ]
  },
  {
   "cell_type": "markdown",
   "metadata": {},
   "source": [
    "<a id=\"correlation\"></a>\n",
    "### Correlation\n",
    "\n",
    "While covariance is a useful measure, it can be difficult to compare covariances, as they are not standardized. \n",
    "\n",
    "Instead we can use the correlation, which measures the same effect but reports it as a range from -1 to 1. 1 represents perfect covariance and correlation, 0 represents no correlation, and -1 one represents perfect inverse correlation.\n",
    "\n",
    "$$corr(X,Y) = \\frac {cov(X,Y)} {\\sigma_X\\sigma_Y}$$\n",
    "\n",
    "Note that the variance is always positive, making the denominator positive. So, the sign of the covariance between $X$ and $Y$ is the same as the sign of their correlation! \n",
    "\n",
    "The following visual examples better illustrate how correlation refers to how $X$ and $Y$ change together. Notice that a correlation number by itself is not always indicative of the relationship between the variables — always try to supplement 2-D correlation with a visual!\n",
    "\n",
    "![](./assets/images/correlation_examples.png)"
   ]
  },
  {
   "cell_type": "code",
   "execution_count": 51,
   "metadata": {},
   "outputs": [
    {
     "data": {
      "text/plain": [
       "447.94074895527615"
      ]
     },
     "execution_count": 51,
     "metadata": {},
     "output_type": "execute_result"
    }
   ],
   "source": [
    "#Calculate the denominator in correlation equation (tv_spend is X and sales is Y)\n",
    "x_std = advertising_data['tv_spend'].std()\n",
    "y_std = advertising_data['sales'].std()\n",
    "corr_denominator = x_std * y_std\n",
    "corr_denominator"
   ]
  },
  {
   "cell_type": "markdown",
   "metadata": {},
   "source": [
    "<a id=\"the-variance-covariance-matrix\"></a>\n",
    "### The Variance-Covariance Matrix\n",
    "\n",
    "For our purposes in modeling and machine learning, the fastest way to get a preview of the underlying relationships in our data is to use the variance-covariance matrix.\n",
    "\n",
    "The variance-covariance matrix shows the covariance between every variable in our data set.\n",
    "\n",
    "Given $n$ features from $X_1$ to $X_n$, the variance-covariance matrix looks like this (recall that $cov(X, X) = var(X)$):\n",
    "\n",
    "$$\\left[ \\begin{array}{c}\n",
    "var(X_1) & cov(X_1,X_2) & ... & cov(X_1,X_n)  \\\\\n",
    "cov(X_2,X_1) & var(X_2) & ... & cov(X_2,X_n)  \\\\\n",
    "... & ... & ... & ... \\\\\n",
    "cov(X_n,X_1) & cov(X_n,X_2) & ... & var(X_n)\n",
    "\\end{array} \\right]$$\n",
    "\n",
    "From a quick glance at this matrix, we can glean insight about which variables might be strongly correlated. This may also indicate redundant features and/or affect some models.\n",
    "\n",
    "If data are centered around the mean, every column has its mean subtracted from itself. So, the mean for every column is now 0. You can then compute the variance-covariance matrix as:\n",
    "\n",
    "$$\\frac {X^TX} {n}$$\n",
    "\n",
    "Those of you who have been exposed to linear regression may recognize this term.\n",
    "\n",
    "To get from the variance-covariance matrix to the correlation matrix, we divide each element by the products of the corresponding standard deviations.\n",
    "\n",
    "$$\\left[ \\begin{array}{c}\n",
    "var(X_1)/\\sigma(X_1)^2 & cov(X_1,X_2)/\\sigma(X_1)\\sigma(X_2) & ... & cov(X_1,X_n)/\\sigma(X_1)\\sigma(X_n)  \\\\\n",
    "cov(X_2,X_1)/\\sigma(X_2)\\sigma(X_1) & var(X_2)/\\sigma(X_2)^2 & ... & cov(X_2,X_n)\\sigma(X_2)\\sigma(X_n)  \\\\\n",
    "... & ... & ... & ... \\\\\n",
    "cov(X_n,X_1)/\\sigma(X_n)\\sigma(X_1) & cov(X_n,X_2)/\\sigma(X_n)\\sigma(X_2) & ... & var(X_n)/\\sigma(X_n)^2\n",
    "\\end{array} \\right]$$\n",
    "\n",
    "## Exercise"
   ]
  },
  {
   "cell_type": "markdown",
   "metadata": {
    "collapsed": true
   },
   "source": [
    "(a) Use the answer to the last exercise to find the correlation coefficient between TV spend and sales"
   ]
  },
  {
   "cell_type": "code",
   "execution_count": 52,
   "metadata": {},
   "outputs": [
    {
     "data": {
      "text/plain": [
       "0.761804325228002"
      ]
     },
     "execution_count": 52,
     "metadata": {},
     "output_type": "execute_result"
    }
   ],
   "source": [
    "# THIS IS WRONG!!! TO RERUN\n",
    "corr_x_y = cov_x_y / corr_denominator\n",
    "corr_x_y"
   ]
  },
  {
   "cell_type": "code",
   "execution_count": 53,
   "metadata": {},
   "outputs": [
    {
     "data": {
      "text/plain": [
       "0.7822244248616061"
      ]
     },
     "execution_count": 53,
     "metadata": {},
     "output_type": "execute_result"
    }
   ],
   "source": [
    "# Use Pandas function corr() to calculate correlation coefficient of TV spend and sales\n",
    "x = advertising_data['tv_spend']\n",
    "y = advertising_data['sales']\n",
    "y.corr(x)"
   ]
  },
  {
   "cell_type": "code",
   "execution_count": 54,
   "metadata": {},
   "outputs": [
    {
     "data": {
      "text/plain": [
       "array([[1.        , 0.78222442],\n",
       "       [0.78222442, 1.        ]])"
      ]
     },
     "execution_count": 54,
     "metadata": {},
     "output_type": "execute_result"
    }
   ],
   "source": [
    "# Use NumPy function corrcoef() to calculate correlation matrix of TV spend and sales\n",
    "np.corrcoef(x, y)"
   ]
  },
  {
   "cell_type": "markdown",
   "metadata": {},
   "source": [
    "(b) Calculate the correlation matrix between all pairs of variables in the advertising dataset, using the DataFrame's built-in `.corr()` method:"
   ]
  },
  {
   "cell_type": "code",
   "execution_count": 30,
   "metadata": {},
   "outputs": [
    {
     "data": {
      "text/html": [
       "<div>\n",
       "<style scoped>\n",
       "    .dataframe tbody tr th:only-of-type {\n",
       "        vertical-align: middle;\n",
       "    }\n",
       "\n",
       "    .dataframe tbody tr th {\n",
       "        vertical-align: top;\n",
       "    }\n",
       "\n",
       "    .dataframe thead th {\n",
       "        text-align: right;\n",
       "    }\n",
       "</style>\n",
       "<table border=\"1\" class=\"dataframe\">\n",
       "  <thead>\n",
       "    <tr style=\"text-align: right;\">\n",
       "      <th></th>\n",
       "      <th>tv_spend</th>\n",
       "      <th>radio_spend</th>\n",
       "      <th>newspaper_spend</th>\n",
       "      <th>sales</th>\n",
       "    </tr>\n",
       "  </thead>\n",
       "  <tbody>\n",
       "    <tr>\n",
       "      <td>tv_spend</td>\n",
       "      <td>1.000000</td>\n",
       "      <td>0.054809</td>\n",
       "      <td>0.056648</td>\n",
       "      <td>0.782224</td>\n",
       "    </tr>\n",
       "    <tr>\n",
       "      <td>radio_spend</td>\n",
       "      <td>0.054809</td>\n",
       "      <td>1.000000</td>\n",
       "      <td>0.354104</td>\n",
       "      <td>0.576223</td>\n",
       "    </tr>\n",
       "    <tr>\n",
       "      <td>newspaper_spend</td>\n",
       "      <td>0.056648</td>\n",
       "      <td>0.354104</td>\n",
       "      <td>1.000000</td>\n",
       "      <td>0.228299</td>\n",
       "    </tr>\n",
       "    <tr>\n",
       "      <td>sales</td>\n",
       "      <td>0.782224</td>\n",
       "      <td>0.576223</td>\n",
       "      <td>0.228299</td>\n",
       "      <td>1.000000</td>\n",
       "    </tr>\n",
       "  </tbody>\n",
       "</table>\n",
       "</div>"
      ],
      "text/plain": [
       "                 tv_spend  radio_spend  newspaper_spend     sales\n",
       "tv_spend         1.000000     0.054809         0.056648  0.782224\n",
       "radio_spend      0.054809     1.000000         0.354104  0.576223\n",
       "newspaper_spend  0.056648     0.354104         1.000000  0.228299\n",
       "sales            0.782224     0.576223         0.228299  1.000000"
      ]
     },
     "execution_count": 30,
     "metadata": {},
     "output_type": "execute_result"
    }
   ],
   "source": [
    "# We use Pandas function corr() to calculate correlation matrix for whole DataFrame\n",
    "advertising_data.corr()"
   ]
  },
  {
   "cell_type": "code",
   "execution_count": 35,
   "metadata": {},
   "outputs": [
    {
     "data": {
      "text/html": [
       "<div>\n",
       "<style scoped>\n",
       "    .dataframe tbody tr th:only-of-type {\n",
       "        vertical-align: middle;\n",
       "    }\n",
       "\n",
       "    .dataframe tbody tr th {\n",
       "        vertical-align: top;\n",
       "    }\n",
       "\n",
       "    .dataframe thead th {\n",
       "        text-align: right;\n",
       "    }\n",
       "</style>\n",
       "<table border=\"1\" class=\"dataframe\">\n",
       "  <thead>\n",
       "    <tr style=\"text-align: right;\">\n",
       "      <th></th>\n",
       "      <th>tv_spend</th>\n",
       "      <th>radio_spend</th>\n",
       "      <th>newspaper_spend</th>\n",
       "      <th>sales</th>\n",
       "    </tr>\n",
       "  </thead>\n",
       "  <tbody>\n",
       "    <tr>\n",
       "      <td>tv_spend</td>\n",
       "      <td>7370.949893</td>\n",
       "      <td>69.862492</td>\n",
       "      <td>105.919452</td>\n",
       "      <td>350.390195</td>\n",
       "    </tr>\n",
       "    <tr>\n",
       "      <td>radio_spend</td>\n",
       "      <td>69.862492</td>\n",
       "      <td>220.427743</td>\n",
       "      <td>114.496979</td>\n",
       "      <td>44.635688</td>\n",
       "    </tr>\n",
       "    <tr>\n",
       "      <td>newspaper_spend</td>\n",
       "      <td>105.919452</td>\n",
       "      <td>114.496979</td>\n",
       "      <td>474.308326</td>\n",
       "      <td>25.941392</td>\n",
       "    </tr>\n",
       "    <tr>\n",
       "      <td>sales</td>\n",
       "      <td>350.390195</td>\n",
       "      <td>44.635688</td>\n",
       "      <td>25.941392</td>\n",
       "      <td>27.221853</td>\n",
       "    </tr>\n",
       "  </tbody>\n",
       "</table>\n",
       "</div>"
      ],
      "text/plain": [
       "                    tv_spend  radio_spend  newspaper_spend       sales\n",
       "tv_spend         7370.949893    69.862492       105.919452  350.390195\n",
       "radio_spend        69.862492   220.427743       114.496979   44.635688\n",
       "newspaper_spend   105.919452   114.496979       474.308326   25.941392\n",
       "sales             350.390195    44.635688        25.941392   27.221853"
      ]
     },
     "execution_count": 35,
     "metadata": {},
     "output_type": "execute_result"
    }
   ],
   "source": [
    "# Calculate covariance matrix  for whole DataFrame by hand (same results as below)\n",
    "X = advertising_data - advertising_data.mean() \n",
    "X.T.dot(X) / (len(advertising_data)-1)"
   ]
  },
  {
   "cell_type": "code",
   "execution_count": 31,
   "metadata": {},
   "outputs": [
    {
     "data": {
      "text/html": [
       "<div>\n",
       "<style scoped>\n",
       "    .dataframe tbody tr th:only-of-type {\n",
       "        vertical-align: middle;\n",
       "    }\n",
       "\n",
       "    .dataframe tbody tr th {\n",
       "        vertical-align: top;\n",
       "    }\n",
       "\n",
       "    .dataframe thead th {\n",
       "        text-align: right;\n",
       "    }\n",
       "</style>\n",
       "<table border=\"1\" class=\"dataframe\">\n",
       "  <thead>\n",
       "    <tr style=\"text-align: right;\">\n",
       "      <th></th>\n",
       "      <th>tv_spend</th>\n",
       "      <th>radio_spend</th>\n",
       "      <th>newspaper_spend</th>\n",
       "      <th>sales</th>\n",
       "    </tr>\n",
       "  </thead>\n",
       "  <tbody>\n",
       "    <tr>\n",
       "      <td>tv_spend</td>\n",
       "      <td>7370.949893</td>\n",
       "      <td>69.862492</td>\n",
       "      <td>105.919452</td>\n",
       "      <td>350.390195</td>\n",
       "    </tr>\n",
       "    <tr>\n",
       "      <td>radio_spend</td>\n",
       "      <td>69.862492</td>\n",
       "      <td>220.427743</td>\n",
       "      <td>114.496979</td>\n",
       "      <td>44.635688</td>\n",
       "    </tr>\n",
       "    <tr>\n",
       "      <td>newspaper_spend</td>\n",
       "      <td>105.919452</td>\n",
       "      <td>114.496979</td>\n",
       "      <td>474.308326</td>\n",
       "      <td>25.941392</td>\n",
       "    </tr>\n",
       "    <tr>\n",
       "      <td>sales</td>\n",
       "      <td>350.390195</td>\n",
       "      <td>44.635688</td>\n",
       "      <td>25.941392</td>\n",
       "      <td>27.221853</td>\n",
       "    </tr>\n",
       "  </tbody>\n",
       "</table>\n",
       "</div>"
      ],
      "text/plain": [
       "                    tv_spend  radio_spend  newspaper_spend       sales\n",
       "tv_spend         7370.949893    69.862492       105.919452  350.390195\n",
       "radio_spend        69.862492   220.427743       114.496979   44.635688\n",
       "newspaper_spend   105.919452   114.496979       474.308326   25.941392\n",
       "sales             350.390195    44.635688        25.941392   27.221853"
      ]
     },
     "execution_count": 31,
     "metadata": {},
     "output_type": "execute_result"
    }
   ],
   "source": [
    "# Calculate covariance matrix for whole DataFrame using cov() function \n",
    "advertising_data.cov()"
   ]
  },
  {
   "cell_type": "markdown",
   "metadata": {},
   "source": [
    "When we have a large amount of data, the correlation matrix may be too difficult to read. It can help to make a plot.\n",
    "\n",
    "(c) Use Seaborn's `.heatmap()` function to make a plot of the correlation matrix. Remember that we imported Seaborn as `sns`.\n"
   ]
  },
  {
   "cell_type": "code",
   "execution_count": 32,
   "metadata": {},
   "outputs": [
    {
     "data": {
      "image/png": "[encoded data removed]",
      "text/plain": [
       "<Figure size 432x288 with 2 Axes>"
      ]
     },
     "metadata": {
      "needs_background": "light"
     },
     "output_type": "display_data"
    }
   ],
   "source": [
    "# Make a heatmap on the correlation matrix\n",
    "advertising_correlations = advertising_data.corr();\n",
    "sns.heatmap(advertising_correlations);"
   ]
  },
  {
   "cell_type": "markdown",
   "metadata": {},
   "source": [
    "Of course, looking at linear association doesn't show us the whole picture. We can get a more detailed look with a scatterplot matrix.\n",
    "\n",
    "(d) Use Seaborn's `.pairplot()` function to make joint scatterplots of the data. What do these plots show? What do they tell us about our data? "
   ]
  },
  {
   "cell_type": "code",
   "execution_count": 21,
   "metadata": {},
   "outputs": [
    {
     "data": {
      "image/png": "[encoded data removed]",
      "text/plain": [
       "<Figure size 1152x1152 with 20 Axes>"
      ]
     },
     "metadata": {
      "needs_background": "light"
     },
     "output_type": "display_data"
    }
   ],
   "source": [
    "sns.pairplot(advertising_correlations, diag_kind='kde', plot_kws={'alpha': 0.6, 's': 80, 'edgecolor': 'k'}, height=4);"
   ]
  },
  {
   "cell_type": "markdown",
   "metadata": {},
   "source": [
    "<a id=\"causation-and-correlation\"></a>\n",
    "## 3. Causation and Correlation"
   ]
  },
  {
   "cell_type": "markdown",
   "metadata": {},
   "source": [
    "Take a look at some of these examples of [Spurious Correlations](http://www.tylervigen.com/spurious-correlations).\n",
    "\n",
    "The variables are **correlated** but may or may not be **causal**.\n",
    "\n",
    "Understanding this difference is critical for executing the data science workflow, especially when identifying and acquiring data.\n",
    "\n",
    "Be careful not to say “caused” when you really mean “is associated with.”"
   ]
  },
  {
   "cell_type": "markdown",
   "metadata": {},
   "source": [
    "<a id=\"how-do-we-determine-if-something-is-causal\"></a>\n",
    "### How Do We Determine if a Relationship is Causal?\n",
    "\n",
    "One attempt that's commonly used in the medical field is based on work by Bradford Hill. He developed a list of “tests” that an analysis must pass in order to indicate a causal relationship:\n",
    "\n",
    "**Strength of association (effect size)**: A small association does not mean that there is not a causal effect, although the larger the association, the more likely the effect is to be causal.\n",
    "\n",
    "**Consistency (reproducibility)**: Consistent findings observed by different persons in different places with different samples strengthens the likelihood of an effect.\n",
    "\n",
    "**Specificity**: Causation is likely if there is a very specific population at a specific site and a disease with no other likely explanation. The more specific an association between a factor and an effect, the greater the probability of a causal relationship.\n",
    "\n",
    "**Temporality**: The effect has to occur after the cause (and, if there is an expected delay between the cause and expected effect, then the effect must occur after that delay).\n",
    "\n",
    "**Biological gradient**: Greater exposure should generally lead to greater incidence of the effect. However, in some cases, the mere presence of the factor can trigger the effect. In other cases, an inverse proportion is observed: greater exposure leads to lower incidence.\n",
    "\n",
    "**Plausibility**: A plausible mechanism between cause and effect is helpful (but Hill noted that knowledge of the mechanism is limited by current knowledge).\n",
    "\n",
    "**Coherence**: Coherence between epidemiological and laboratory findings increases the likelihood of an effect. However, Hill noted that \"... lack of such [laboratory] evidence cannot nullify the epidemiological effect on associations.\"\n",
    "\n",
    "**Experiment**: \"Occasionally it is possible to appeal to experimental evidence.\"\n",
    "\n",
    "**Analogy**: The effect of similar factors may be considered."
   ]
  },
  {
   "cell_type": "markdown",
   "metadata": {},
   "source": [
    "<a id=\"pearlean-causal-dag-model\"></a>\n",
    "### The Pearlean Causal Directed Acyclic Graph (DAG) Model\n",
    "\n",
    "This model is a visual tool to help us reason about causality and association. It was proposed by Judea Pearl, although there are many similar models. We will only scratch the surface, so look into other resources if you're interested in learning more. We'll cover the basic idea and most notable cases.\n",
    "\n",
    "<a id=\"what-is-a-dag\"></a>\n",
    "### What Is a DAG?\n",
    "\n",
    "DAG stands for directed acyclic graph. \n",
    "\n",
    "It's a collection of nodes connected by lines; in maths we call this a **graph**\n",
    "\n",
    "Each line has an arrow to point in a direction, so it's **directed**\n",
    "\n",
    "If you follow the arrows, you reach a final node. There are no loops, so it's **acyclic**\n",
    "\n",
    "A single circle or node in a causal DAG represents an event; something that happens at one point in time.\n",
    "\n",
    "![](./assets/images/dag1.png)\n",
    "\n",
    "Let's say two random variables X and Y — or two different types of events — are correlated with each other.\n",
    "\n",
    "**What are the possible causal structures that would produce this correlation?**\n",
    "\n",
    "<a id=\"its-possible-that-x-causes-y\"></a>\n",
    "### X causes Y\n",
    "![](./assets/images/x-cause-y.png)\n",
    "\n",
    "<a id=\"y-causes-x\"></a>\n",
    "### Y causes X.\n",
    "![](./assets/images/y-cause-x.png)\n",
    "\n",
    "<a id=\"the-correlation-between-x-and-y-is-not-statistically-significant\"></a>\n",
    "### The correlation between X and Y is not statistically significant.\n",
    "![](./assets/images/xy.png)\n",
    "\n",
    "<a id=\"x-or-y-may-cause-one-or-the-other-indirectly-through-another-variable\"></a>\n",
    "### X or Y may cause one or the other indirectly through another variable.\n",
    "![](./assets/images/x-c-z-y.png)\n",
    "\n",
    "<a id=\"there-is-a-third-common-factor-that-causes-both-x-and-y\"></a>\n",
    "### There is a third common factor that causes both X and Y.\n",
    "![](./assets/images/z-cause-xy.png)\n",
    "\n",
    "This is an example of a **confounder**. Let’s say we performed an analysis to understand what causes lung cancer. \n",
    "\n",
    "We find that people who carry cigarette lighters are 2.4 times more likely to contract lung cancer than people who don’t carry lighters.\n",
    "\n",
    "Does this mean that the lighters are causing cancer?\n",
    "\n",
    "As we've noted before, if lighters and cancer are both caused by smoking, there will be a correlation between lighters and cancer. This isn't the only possible diagram, but it makes the most sense.\n",
    "![](./assets/images/smoke-lighter-cancer.png)\n",
    "\n",
    "If we believe the structure above, conditioning on smoking by only looking at non-smokers removes the correlation between lighters and cancer."
   ]
  },
  {
   "cell_type": "markdown",
   "metadata": {},
   "source": [
    "<a id=\"both-x-and-y-cause-a-third-variable-and-the-dataset-does-not-represent-that-third-variable-evenly\"></a>\n",
    "### X and Y cause a third factor, but our data collect the third factor unevenly.\n",
    "\n",
    "![](./assets/images/xy-causez.png)"
   ]
  },
  {
   "cell_type": "code",
   "execution_count": 58,
   "metadata": {},
   "outputs": [
    {
     "data": {
      "image/png": "[encoded data removed]",
      "text/plain": [
       "<Figure size 864x864 with 12 Axes>"
      ]
     },
     "metadata": {},
     "output_type": "display_data"
    }
   ],
   "source": [
    "#np.random.randn function returns sample for \"normal distribution\" of 100 data points\n",
    "# Z is a function of X and Y:\n",
    "X = 5 + np.random.randn(100)\n",
    "Y = 3 + np.random.randn(100)\n",
    "Z = X + Y + 0.1*np.random.randn(100)\n",
    "common_effect = pd.DataFrame({'X':X, 'Y':Y, 'Z':Z})\n",
    "\n",
    "# Make a pairplot of the data:\n",
    "sns.pairplot(common_effect, height=4);"
   ]
  },
  {
   "cell_type": "markdown",
   "metadata": {},
   "source": [
    "Generally, recovering the causality structure from a correlation matrix is difficult or at times impossible. However, thinking through causal effects can give you a much better intuition regarding your variables and your data.\n",
    "\n",
    "<a id=\"controlled-experiments\"></a>\n",
    "### Controlled Experiments\n",
    "\n",
    "- The most foolproof way to measure an effect is to control all of the confounders and directly intervene and control our variable of interest. \n",
    "- This way we know that any correlation we find is not because of the confounders but instead because of the variable we control. \n",
    "- This also means that all the effects we see are due to the variable we control.\n",
    "- However, experiments are not always possible and take longer than using observational data.\n"
   ]
  },
  {
   "cell_type": "markdown",
   "metadata": {},
   "source": [
    "## Exercise: Explore the Associations in the Advertising Data\n",
    "\n",
    "#### Visualize the relationship between the features and the response using scatterplots.\n",
    "\n",
    "- Below, we filled in how to make a scatterplot for the columns `sales` vs `TV`. \n",
    "- Using this as an example, can you also make scatterplots for `sales` vs `radio` and `sales` vs `newspaper`?\n",
    "- `axs[0]` is the first coordinate grid, `axs[1]` is the second coordinate grid, etc."
   ]
  },
  {
   "cell_type": "code",
   "execution_count": 63,
   "metadata": {},
   "outputs": [
    {
     "data": {
      "image/png": "[encoded data removed]",
      "text/plain": [
       "<Figure size 720x432 with 3 Axes>"
      ]
     },
     "metadata": {},
     "output_type": "display_data"
    }
   ],
   "source": [
    "# Visualize the relationship between the features and the response using scatterplots:\n",
    "fig, axs = plt.subplots(1, 3, sharey=True)\n",
    "\n",
    "advertising_data.plot(kind='scatter', x='tv_spend', y='sales', ax=axs[0], figsize=(10, 6));\n",
    "advertising_data.plot(kind='scatter', x='radio_spend', y='sales', ax=axs[1], figsize=(10, 6));\n",
    "advertising_data.plot(kind='scatter', x='newspaper_spend', y='sales', ax=axs[2], figsize=(10, 6));"
   ]
  },
  {
   "cell_type": "markdown",
   "metadata": {},
   "source": [
    "#### Is there a relationship between ads and sales? Which type of ads?"
   ]
  },
  {
   "cell_type": "code",
   "execution_count": null,
   "metadata": {},
   "outputs": [],
   "source": []
  },
  {
   "cell_type": "markdown",
   "metadata": {},
   "source": [
    "#### Can we say this a causal relationship?"
   ]
  },
  {
   "cell_type": "code",
   "execution_count": null,
   "metadata": {},
   "outputs": [],
   "source": []
  },
  {
   "cell_type": "markdown",
   "metadata": {},
   "source": [
    "#### What other questions might we want to know about this data?"
   ]
  },
  {
   "cell_type": "code",
   "execution_count": null,
   "metadata": {},
   "outputs": [],
   "source": []
  },
  {
   "cell_type": "markdown",
   "metadata": {},
   "source": [
    "### Section Summary\n",
    "\n",
    "1) **It's importlant to have deep subject area knowledge.** You'll develop this over time and it will help you move through your analysis in a logical manner. However, keep in mind that you can show a strong association and still be wrong.\n",
    "\n",
    "2) **A DAG (directed acyclic graph) can be a handy tool for thinking through the logic of your models.**\n",
    "\n",
    "3) **There is a distinction between causation and correlation.** In our smoking example, it's relatively obvious that there's a flaw in our logic; however, this won't always be so readily apparent — especially in cutting-edge fields where there are many other unknown variables.\n",
    "\n",
    "4) **Good data are essential.** Throughout this course we will be developing your data intuition so you can spot gaps and bias more readily. You'll also be introduced to tools that can help. However, your analysis is only as good as your understanding of the problem and the data."
   ]
  },
  {
   "cell_type": "markdown",
   "metadata": {},
   "source": [
    "<a id=\"sampling-bias\"></a>\n",
    "## 4. Sampling Bias\n",
    "\n",
    "**Sampling bias** occurs when a sample is collected in such a way that some members of the intended population are more or less likely to be included than others.\n",
    "\n",
    "This can happen when a sample is taken non-randomly — either implicitly or explicitly.\n",
    "\n",
    "When we have non-random sampling that results in sampling bias, it can affect the inferences or results of our analyses. We must be sure not to attribute our results to the process we observe when they could actually be because of non-random sampling.\n",
    "\n",
    "Conceptually, this is straightforward: When we have sampling bias, we aren't measuring what we think we are measuring.\n",
    "\n",
    "<a id=\"forms-of-sampling-bias\"></a>\n",
    "### Examples of Sampling Bias\n",
    "\n",
    "- **Pre-screening:** Purposely restricting the sample to a specific group or region.\n",
    "    - This typically happens when people try to study priority areas to save costs and assume priority areas are the same as random areas.\n",
    "- **Self-selection:** When someone has the ability to non-randomly decide what is included in a sample.\n",
    "    - This typically happens in surveys and polls but can also be an issue with other kinds of reporting.\n",
    "- **Survivorship bias:** When we select only surviving subjects in a sample over time.\n",
    "    - This might happen when we only look at existing customers and assume they have the same characteristics as new customers.\n",
    "    \n",
    "<a id=\"problems-from-sampling-bias\"></a>\n",
    "### Problems That Arise From Sampling Bias\n",
    "- We could overestimate or underestimate means and sample statistics for simple characteristics.\n",
    "- It's possible to have artificial correlation where there should be none.\n",
    "\n",
    "<a id=\"stratified-random-sampling\"></a>\n",
    "### Stratified Random Sampling\n",
    "\n",
    "We've discussed how it is important to obtain a random sample of our population. However, sometimes it is more effective to apply some reasoning to our sampling process. By optimizing how we choose samples, we can possibly create a more accurate model using fewer samples.\n",
    "\n",
    "**Stratified random sampling** ensures we capture important population characteristics in the random sample. If we know that the population is half males and half females, for example, we can make sure that our sample is half male and half female. \n",
    "\n",
    "We effectively break the population into two \"strata\" (groups), then randomly sample from each group to obtain our overall sample. This method is similar to taking a weighted average and depends on knowing key population statistics.\n",
    "\n",
    "For example, if we are collecting survey data, we might ensure our participants are evenly split between men and women.\n"
   ]
  },
  {
   "cell_type": "markdown",
   "metadata": {},
   "source": [
    "<a id=\"missing-data\"></a>\n",
    "## 5. Missing Data\n",
    "\n",
    "Sometimes we are unable to collect every attribute for a particular observation.\n",
    "\n",
    "Unfortunately, this makes the observation unusable until we decide how to deal with it.\n",
    "\n",
    "**We have to decide whether to:**\n",
    "\n",
    "* Drop the observation.\n",
    "* Drop the attribute.\n",
    "* Impute a value for that specific attribute and observation.\n",
    "\n",
    "**So, how do we decide?**"
   ]
  },
  {
   "cell_type": "markdown",
   "metadata": {},
   "source": [
    "<a id=\"types-of-missing-data\"></a>\n",
    "### Types of Missing Data\n",
    "\n",
    "#### Missing completely at random (MCAR)\n",
    "The reason that the data are missing is completely random and introduces no sampling bias.\n",
    "\n",
    "In this case, it's safe to drop or impute.\n",
    "\n",
    "We can test for this by looking at other attributes for missing and non-missing groups to see if they match.\n",
    "\n",
    "#### Missing at random (MAR)\n",
    "The data are missing in a way that is related to another factor.\n",
    "\n",
    "This is a form of sampling bias.\n",
    "\n",
    "Like other instances of sampling bias, we can fix this by modeling the selection process.\n",
    "\n",
    "This is done by building a model to impute the missing value based on other variables.\n",
    "\n",
    "#### Missing not at random (MNAR)\n",
    "The response, or dependent variable, is missing in a way that relates to its own value.\n",
    "\n",
    "We can't test for this.\n",
    "\n",
    "We also can't fix this in a reasonable way.\n",
    "\n",
    "## Exercise\n",
    "\n",
    "Take a look at the results of this survey, where IQ scores for people of different ages have been collected. The complete dataset is shown, together with three examples where data is missing.\n",
    "\n",
    "Is the data in each of the three incomplete datasets MCAR, MAR or MNAR? How did you work this out?\n",
    "\n",
    "<img src='./assets/images/complete_data.png' width=\"200\"> \n",
    "<img src='./assets/images/mnar_data.png' width=\"200\">\n",
    "<img src='./assets/images/mar_data.png' width=\"200\">\n",
    "<img src='./assets/images/mcar_data.png' width=\"200\">\n"
   ]
  },
  {
   "cell_type": "markdown",
   "metadata": {},
   "source": [
    "<a id=\"class-imbalance\"></a>\n",
    "### Class Imbalance\n",
    "\n",
    "Sometimes a sample may include an overrepresentation of one type of class. For example, airport security may have 990 X-ray scans showing the absence of a weapon. Due to natural scarcity, it may only provide 10 scans showing a weapon.\n",
    "\n",
    "If our goal is to create a model that indicates whether or not a weapon is present, then we are at a disadvantage. **Ignoring the class imbalance** would lead to a model that always guesses that a weapon is not present!\n",
    " \n",
    "Note that most optimization procedures optimize for training data accuracy. Always guessing that a weapon is absent leads to 990/1000 correct results; an accuracy of 99 percent.\n",
    "\n",
    "A simple way to get around this is to **undersample** the majority class, deliberately leaving us with a balanced data set of 10 each. However, this is less than ideal, as it effectively ignores much of the available data.\n",
    "\n",
    "Alternatively, we could **oversample** the minority class by duplicating examples. Again, this is not ideal. Because we have very little data, this will magnify small differences that may just be errors, leading to a model that overfits.\n",
    "\n",
    "Later in the course, we will look at additional methods for training models to work around class imbalance. For example, we may use an optimization algorithm that cares less about accuracy and more about minimizing particular types of errors."
   ]
  },
  {
   "cell_type": "markdown",
   "metadata": {},
   "source": [
    "<a id=\"error-types\"></a>\n",
    "## 6. Error Types\n",
    "\n",
    "Statisticians often classify errors not just as errors but as one of two specific types of errors — type I and type II.\n",
    "\n",
    "+ **Type I errors** are false positives.\n",
    "    - Machine learning: Our model falsely predicts \"positive.\" (The prediction is incorrect.)\n",
    "    - Statistics: Incorrect rejection of a true null hypothesis.\n",
    "\n",
    "\n",
    "+ **Type II errors** are false negatives.\n",
    "    - Machine learning: Our model falsely predicts \"negative.\" (The prediction is incorrect.)\n",
    "    - Statistics: Incorrectly retaining a false null hypothesis.\n",
    "    \n",
    "  \n",
    "## Exercise\n",
    "\n",
    "For the following scenarios, discuss on your tables what a Type I and Type II error would correspond to in real life. Which type of error is preferable in each scenario?\n",
    "\n",
    "(a) A blood test, where a positive result indicates the presence of a deadly and fast acting disease.\n",
    "\n",
    "(b) A judge, where a positive result means a defendent will be sentenced to life in prison without possibility of parole.\n",
    "\n"
   ]
  },
  {
   "cell_type": "markdown",
   "metadata": {},
   "source": [
    "  \n",
    "\n",
    "<img src='./assets/images/errors.png' width=\"800\"> \n",
    "Understanding these errors can be especially beneficial when designing models. For example, we might decide that type I errors are OK but type II errors are not. We can then optimize our model appropriately.\n"
   ]
  },
  {
   "cell_type": "code",
   "execution_count": null,
   "metadata": {},
   "outputs": [],
   "source": []
  }
 ],
 "metadata": {
  "kernelspec": {
   "display_name": "Python 3",
   "language": "python",
   "name": "python3"
  },
  "language_info": {
   "codemirror_mode": {
    "name": "ipython",
    "version": 3
   },
   "file_extension": ".py",
   "mimetype": "text/x-python",
   "name": "python",
   "nbconvert_exporter": "python",
   "pygments_lexer": "ipython3",
   "version": "3.7.4"
  }
 },
 "nbformat": 4,
 "nbformat_minor": 1
}
